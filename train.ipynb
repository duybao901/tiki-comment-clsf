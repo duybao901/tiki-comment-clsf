{
  "cells": [
    {
      "cell_type": "markdown",
      "metadata": {
        "id": "hx-6CooUNt1p"
      },
      "source": [
        "## 1. Import libraries"
      ]
    },
    {
      "cell_type": "code",
      "execution_count": 21,
      "metadata": {
        "colab": {
          "base_uri": "https://localhost:8080/"
        },
        "execution": {
          "iopub.execute_input": "2021-11-11T09:37:41.449095Z",
          "iopub.status.busy": "2021-11-11T09:37:41.448709Z",
          "iopub.status.idle": "2021-11-11T09:37:53.721696Z",
          "shell.execute_reply": "2021-11-11T09:37:53.720766Z",
          "shell.execute_reply.started": "2021-11-11T09:37:41.448996Z"
        },
        "id": "oXJtRvviNt1u",
        "outputId": "4d1fcb46-ce73-4873-9dbe-bba286150fc5",
        "trusted": true
      },
      "outputs": [
        {
          "name": "stdout",
          "output_type": "stream",
          "text": [
            "Requirement already satisfied: pyvi in c:\\users\\asus\\appdata\\local\\programs\\python\\python38-32\\lib\\site-packages (0.1.1)\n",
            "Requirement already satisfied: scikit-learn in c:\\users\\asus\\appdata\\local\\programs\\python\\python38-32\\lib\\site-packages (from pyvi) (0.24.2)\n",
            "Requirement already satisfied: sklearn-crfsuite in c:\\users\\asus\\appdata\\local\\programs\\python\\python38-32\\lib\\site-packages (from pyvi) (0.3.6)\n",
            "Requirement already satisfied: threadpoolctl>=2.0.0 in c:\\users\\asus\\appdata\\local\\programs\\python\\python38-32\\lib\\site-packages (from scikit-learn->pyvi) (2.2.0)\n",
            "Requirement already satisfied: numpy>=1.13.3 in c:\\users\\asus\\appdata\\local\\programs\\python\\python38-32\\lib\\site-packages (from scikit-learn->pyvi) (1.21.2)\n",
            "Requirement already satisfied: joblib>=0.11 in c:\\users\\asus\\appdata\\local\\programs\\python\\python38-32\\lib\\site-packages (from scikit-learn->pyvi) (1.0.1)\n",
            "Requirement already satisfied: scipy>=0.19.1 in c:\\users\\asus\\appdata\\local\\programs\\python\\python38-32\\lib\\site-packages (from scikit-learn->pyvi) (1.7.1)\n",
            "Requirement already satisfied: python-crfsuite>=0.8.3 in c:\\users\\asus\\appdata\\local\\programs\\python\\python38-32\\lib\\site-packages (from sklearn-crfsuite->pyvi) (0.9.7)\n",
            "Requirement already satisfied: tqdm>=2.0 in c:\\users\\asus\\appdata\\local\\programs\\python\\python38-32\\lib\\site-packages (from sklearn-crfsuite->pyvi) (4.62.2)\n",
            "Requirement already satisfied: tabulate in c:\\users\\asus\\appdata\\local\\programs\\python\\python38-32\\lib\\site-packages (from sklearn-crfsuite->pyvi) (0.8.9)\n",
            "Requirement already satisfied: six in c:\\users\\asus\\appdata\\local\\programs\\python\\python38-32\\lib\\site-packages (from sklearn-crfsuite->pyvi) (1.16.0)\n",
            "Requirement already satisfied: colorama in c:\\users\\asus\\appdata\\local\\programs\\python\\python38-32\\lib\\site-packages (from tqdm>=2.0->sklearn-crfsuite->pyvi) (0.4.4)\n"
          ]
        }
      ],
      "source": [
        "!pip install pyvi"
      ]
    },
    {
      "cell_type": "code",
      "execution_count": 22,
      "metadata": {
        "execution": {
          "iopub.execute_input": "2021-11-11T09:37:53.724239Z",
          "iopub.status.busy": "2021-11-11T09:37:53.723939Z",
          "iopub.status.idle": "2021-11-11T09:37:54.548482Z",
          "shell.execute_reply": "2021-11-11T09:37:54.547743Z",
          "shell.execute_reply.started": "2021-11-11T09:37:53.724181Z"
        },
        "id": "47TWhS5fNt1v",
        "trusted": true
      },
      "outputs": [],
      "source": [
        "import pandas as pd\n",
        "import numpy as np\n",
        "import matplotlib.pyplot as plt\n",
        "import seaborn as sns\n",
        "import re\n",
        "from pyvi import ViTokenizer"
      ]
    },
    {
      "cell_type": "markdown",
      "metadata": {
        "id": "JI51zD5iNt1w"
      },
      "source": [
        "## 2. Read data"
      ]
    },
    {
      "cell_type": "code",
      "execution_count": 23,
      "metadata": {
        "colab": {
          "base_uri": "https://localhost:8080/",
          "height": 0
        },
        "execution": {
          "iopub.execute_input": "2021-11-11T09:37:54.551614Z",
          "iopub.status.busy": "2021-11-11T09:37:54.551174Z",
          "iopub.status.idle": "2021-11-11T09:37:54.809999Z",
          "shell.execute_reply": "2021-11-11T09:37:54.809348Z",
          "shell.execute_reply.started": "2021-11-11T09:37:54.551571Z"
        },
        "id": "GsmxSuQINt1w",
        "outputId": "987dc2e5-87a9-448f-c4fe-2aeb364efe48",
        "trusted": true
      },
      "outputs": [
        {
          "data": {
            "text/html": [
              "<div>\n",
              "<style scoped>\n",
              "    .dataframe tbody tr th:only-of-type {\n",
              "        vertical-align: middle;\n",
              "    }\n",
              "\n",
              "    .dataframe tbody tr th {\n",
              "        vertical-align: top;\n",
              "    }\n",
              "\n",
              "    .dataframe thead th {\n",
              "        text-align: right;\n",
              "    }\n",
              "</style>\n",
              "<table border=\"1\" class=\"dataframe\">\n",
              "  <thead>\n",
              "    <tr style=\"text-align: right;\">\n",
              "      <th></th>\n",
              "      <th>content</th>\n",
              "      <th>rating</th>\n",
              "    </tr>\n",
              "  </thead>\n",
              "  <tbody>\n",
              "    <tr>\n",
              "      <th>0</th>\n",
              "      <td>Giao hàng cực nhanh, sáng hôm nay đặt,sáng mai...</td>\n",
              "      <td>5</td>\n",
              "    </tr>\n",
              "    <tr>\n",
              "      <th>1</th>\n",
              "      <td>Đóng gói cẩn thận, điện thoại còn nguyên seal,...</td>\n",
              "      <td>5</td>\n",
              "    </tr>\n",
              "    <tr>\n",
              "      <th>2</th>\n",
              "      <td>Mình cho 1 sao vì thái độ dịch vụ Khách hàng t...</td>\n",
              "      <td>1</td>\n",
              "    </tr>\n",
              "    <tr>\n",
              "      <th>3</th>\n",
              "      <td>Sản phẩm tầm giá nhìn cũng đx , mình mua cho p...</td>\n",
              "      <td>3</td>\n",
              "    </tr>\n",
              "    <tr>\n",
              "      <th>4</th>\n",
              "      <td>Màu xanh ở ngoài nhìn đẹp sang, thích hơ...</td>\n",
              "      <td>5</td>\n",
              "    </tr>\n",
              "  </tbody>\n",
              "</table>\n",
              "</div>"
            ],
            "text/plain": [
              "                                             content  rating\n",
              "0  Giao hàng cực nhanh, sáng hôm nay đặt,sáng mai...       5\n",
              "1  Đóng gói cẩn thận, điện thoại còn nguyên seal,...       5\n",
              "2  Mình cho 1 sao vì thái độ dịch vụ Khách hàng t...       1\n",
              "3  Sản phẩm tầm giá nhìn cũng đx , mình mua cho p...       3\n",
              "4  Màu xanh ở ngoài nhìn đẹp sang, thích hơ...       5"
            ]
          },
          "execution_count": 23,
          "metadata": {},
          "output_type": "execute_result"
        }
      ],
      "source": [
        "# Đọc dữ liệu từ file json\n",
        "data = pd.read_json(\"data\\data_coment_tiki.json\")\n",
        "data.head()"
      ]
    },
    {
      "cell_type": "code",
      "execution_count": 24,
      "metadata": {
        "colab": {
          "base_uri": "https://localhost:8080/",
          "height": 0
        },
        "execution": {
          "iopub.execute_input": "2021-11-11T09:37:54.812269Z",
          "iopub.status.busy": "2021-11-11T09:37:54.812004Z",
          "iopub.status.idle": "2021-11-11T09:37:54.823761Z",
          "shell.execute_reply": "2021-11-11T09:37:54.823025Z",
          "shell.execute_reply.started": "2021-11-11T09:37:54.812233Z"
        },
        "id": "75Qg8YVaNt1x",
        "outputId": "1a6be833-7055-4acf-f6b6-3cdbaf8651e4",
        "trusted": true
      },
      "outputs": [
        {
          "data": {
            "text/html": [
              "<div>\n",
              "<style scoped>\n",
              "    .dataframe tbody tr th:only-of-type {\n",
              "        vertical-align: middle;\n",
              "    }\n",
              "\n",
              "    .dataframe tbody tr th {\n",
              "        vertical-align: top;\n",
              "    }\n",
              "\n",
              "    .dataframe thead th {\n",
              "        text-align: right;\n",
              "    }\n",
              "</style>\n",
              "<table border=\"1\" class=\"dataframe\">\n",
              "  <thead>\n",
              "    <tr style=\"text-align: right;\">\n",
              "      <th></th>\n",
              "      <th>text</th>\n",
              "      <th>star</th>\n",
              "    </tr>\n",
              "  </thead>\n",
              "  <tbody>\n",
              "    <tr>\n",
              "      <th>0</th>\n",
              "      <td>Giao hàng cực nhanh, sáng hôm nay đặt,sáng mai...</td>\n",
              "      <td>5</td>\n",
              "    </tr>\n",
              "    <tr>\n",
              "      <th>1</th>\n",
              "      <td>Đóng gói cẩn thận, điện thoại còn nguyên seal,...</td>\n",
              "      <td>5</td>\n",
              "    </tr>\n",
              "    <tr>\n",
              "      <th>2</th>\n",
              "      <td>Mình cho 1 sao vì thái độ dịch vụ Khách hàng t...</td>\n",
              "      <td>1</td>\n",
              "    </tr>\n",
              "    <tr>\n",
              "      <th>3</th>\n",
              "      <td>Sản phẩm tầm giá nhìn cũng đx , mình mua cho p...</td>\n",
              "      <td>3</td>\n",
              "    </tr>\n",
              "    <tr>\n",
              "      <th>4</th>\n",
              "      <td>Màu xanh ở ngoài nhìn đẹp sang, thích hơ...</td>\n",
              "      <td>5</td>\n",
              "    </tr>\n",
              "  </tbody>\n",
              "</table>\n",
              "</div>"
            ],
            "text/plain": [
              "                                                text  star\n",
              "0  Giao hàng cực nhanh, sáng hôm nay đặt,sáng mai...     5\n",
              "1  Đóng gói cẩn thận, điện thoại còn nguyên seal,...     5\n",
              "2  Mình cho 1 sao vì thái độ dịch vụ Khách hàng t...     1\n",
              "3  Sản phẩm tầm giá nhìn cũng đx , mình mua cho p...     3\n",
              "4  Màu xanh ở ngoài nhìn đẹp sang, thích hơ...     5"
            ]
          },
          "execution_count": 24,
          "metadata": {},
          "output_type": "execute_result"
        }
      ],
      "source": [
        "data.rename(columns={\"content\":\"text\",\"rating\":\"star\"}, inplace=True)\n",
        "data.head()"
      ]
    },
    {
      "cell_type": "code",
      "execution_count": 25,
      "metadata": {
        "colab": {
          "base_uri": "https://localhost:8080/"
        },
        "execution": {
          "iopub.execute_input": "2021-11-11T09:37:54.825738Z",
          "iopub.status.busy": "2021-11-11T09:37:54.825267Z",
          "iopub.status.idle": "2021-11-11T09:37:54.84536Z",
          "shell.execute_reply": "2021-11-11T09:37:54.844624Z",
          "shell.execute_reply.started": "2021-11-11T09:37:54.8257Z"
        },
        "id": "NtErbI2-Nt1x",
        "outputId": "729b9943-9df8-4c5b-bb29-c7593db9dd7d",
        "trusted": true
      },
      "outputs": [
        {
          "name": "stdout",
          "output_type": "stream",
          "text": [
            "<class 'pandas.core.frame.DataFrame'>\n",
            "RangeIndex: 16115 entries, 0 to 16114\n",
            "Data columns (total 2 columns):\n",
            " #   Column  Non-Null Count  Dtype \n",
            "---  ------  --------------  ----- \n",
            " 0   text    16115 non-null  object\n",
            " 1   star    16115 non-null  int64 \n",
            "dtypes: int64(1), object(1)\n",
            "memory usage: 188.9+ KB\n"
          ]
        }
      ],
      "source": [
        "data.info()"
      ]
    },
    {
      "cell_type": "markdown",
      "metadata": {
        "id": "UQSe0QPzNt1y"
      },
      "source": [
        "### Do dữ liệu bị mất cân bằng nên ta xóa ngẫu nhiên 9000 mẫu 5 sao, và 1000 mẫu 4 sao"
      ]
    },
    {
      "cell_type": "code",
      "execution_count": 26,
      "metadata": {
        "execution": {
          "iopub.execute_input": "2021-11-11T09:37:54.847239Z",
          "iopub.status.busy": "2021-11-11T09:37:54.846865Z",
          "iopub.status.idle": "2021-11-11T09:37:54.856697Z",
          "shell.execute_reply": "2021-11-11T09:37:54.855888Z",
          "shell.execute_reply.started": "2021-11-11T09:37:54.847203Z"
        },
        "id": "eA7J5m-qNt1y",
        "trusted": true
      },
      "outputs": [],
      "source": [
        "np.random.seed(10)\n",
        "remove_n = 10000\n",
        "drop_indices = np.random.choice(data[data['star'] == 5].index, remove_n, replace=False)\n",
        "data = data.drop(drop_indices)"
      ]
    },
    {
      "cell_type": "code",
      "execution_count": 27,
      "metadata": {
        "execution": {
          "iopub.execute_input": "2021-11-11T09:37:54.858755Z",
          "iopub.status.busy": "2021-11-11T09:37:54.858304Z",
          "iopub.status.idle": "2021-11-11T09:37:54.865953Z",
          "shell.execute_reply": "2021-11-11T09:37:54.865169Z",
          "shell.execute_reply.started": "2021-11-11T09:37:54.858719Z"
        },
        "id": "s4aXPeLANt1z",
        "trusted": true
      },
      "outputs": [],
      "source": [
        "np.random.seed(10)\n",
        "remove_n = 1000\n",
        "drop_indices = np.random.choice(data[data['star'] == 4].index, remove_n, replace=False)\n",
        "data = data.drop(drop_indices)"
      ]
    },
    {
      "cell_type": "code",
      "execution_count": 28,
      "metadata": {
        "colab": {
          "base_uri": "https://localhost:8080/"
        },
        "execution": {
          "iopub.execute_input": "2021-11-11T09:37:54.869681Z",
          "iopub.status.busy": "2021-11-11T09:37:54.869504Z",
          "iopub.status.idle": "2021-11-11T09:37:54.875179Z",
          "shell.execute_reply": "2021-11-11T09:37:54.874263Z",
          "shell.execute_reply.started": "2021-11-11T09:37:54.869659Z"
        },
        "id": "CTqdWe0aNt1z",
        "outputId": "bc5fc422-1c5e-46da-dbf7-d84a7d30280c",
        "trusted": true
      },
      "outputs": [
        {
          "data": {
            "text/plain": [
              "5115"
            ]
          },
          "execution_count": 28,
          "metadata": {},
          "output_type": "execute_result"
        }
      ],
      "source": [
        "len(data)"
      ]
    },
    {
      "cell_type": "code",
      "execution_count": 29,
      "metadata": {
        "colab": {
          "base_uri": "https://localhost:8080/"
        },
        "execution": {
          "iopub.execute_input": "2021-11-11T09:37:54.877363Z",
          "iopub.status.busy": "2021-11-11T09:37:54.87684Z",
          "iopub.status.idle": "2021-11-11T09:37:54.88686Z",
          "shell.execute_reply": "2021-11-11T09:37:54.886088Z",
          "shell.execute_reply.started": "2021-11-11T09:37:54.877327Z"
        },
        "id": "ay74__YBNt10",
        "outputId": "0607ca0e-5f41-4f7d-b6aa-94d934262a74",
        "trusted": true
      },
      "outputs": [
        {
          "data": {
            "text/plain": [
              "4    1391\n",
              "5    1273\n",
              "1    1018\n",
              "3     961\n",
              "2     472\n",
              "Name: star, dtype: int64"
            ]
          },
          "execution_count": 29,
          "metadata": {},
          "output_type": "execute_result"
        }
      ],
      "source": [
        "data.star.value_counts()"
      ]
    },
    {
      "cell_type": "markdown",
      "metadata": {
        "id": "RLmTFTZnNt10"
      },
      "source": [
        "## 3. Exploratory Data Analysis (EDA)"
      ]
    },
    {
      "cell_type": "markdown",
      "metadata": {
        "id": "idrJrKFhNt10"
      },
      "source": [
        "### Class distribution"
      ]
    },
    {
      "cell_type": "code",
      "execution_count": 30,
      "metadata": {
        "colab": {
          "base_uri": "https://localhost:8080/",
          "height": 0
        },
        "execution": {
          "iopub.execute_input": "2021-11-11T09:37:54.890244Z",
          "iopub.status.busy": "2021-11-11T09:37:54.890044Z",
          "iopub.status.idle": "2021-11-11T09:37:55.262798Z",
          "shell.execute_reply": "2021-11-11T09:37:55.26209Z",
          "shell.execute_reply.started": "2021-11-11T09:37:54.890221Z"
        },
        "id": "F_OJNUhfNt11",
        "outputId": "1eff32f1-2176-4162-a7ca-ff1986e0e28d",
        "trusted": true
      },
      "outputs": [
        {
          "data": {
            "image/png": "[encoded data removed]",
            "text/plain": [
              "<Figure size 1296x432 with 1 Axes>"
            ]
          },
          "metadata": {
            "needs_background": "light"
          },
          "output_type": "display_data"
        }
      ],
      "source": [
        "sns.histplot(data=data['star']);"
      ]
    },
    {
      "cell_type": "markdown",
      "metadata": {
        "id": "ctr-chuxNt11"
      },
      "source": [
        "### Number of characters in text"
      ]
    },
    {
      "cell_type": "code",
      "execution_count": 31,
      "metadata": {
        "execution": {
          "iopub.execute_input": "2021-11-11T09:37:55.264081Z",
          "iopub.status.busy": "2021-11-11T09:37:55.263857Z",
          "iopub.status.idle": "2021-11-11T09:37:55.267971Z",
          "shell.execute_reply": "2021-11-11T09:37:55.267327Z",
          "shell.execute_reply.started": "2021-11-11T09:37:55.264046Z"
        },
        "id": "6JQOBNAkNt11",
        "trusted": true
      },
      "outputs": [],
      "source": [
        "def length_text(text):\n",
        "    return len(text)"
      ]
    },
    {
      "cell_type": "code",
      "execution_count": 32,
      "metadata": {
        "colab": {
          "base_uri": "https://localhost:8080/"
        },
        "execution": {
          "iopub.execute_input": "2021-11-11T09:37:55.270337Z",
          "iopub.status.busy": "2021-11-11T09:37:55.268992Z",
          "iopub.status.idle": "2021-11-11T09:37:55.284716Z",
          "shell.execute_reply": "2021-11-11T09:37:55.283496Z",
          "shell.execute_reply.started": "2021-11-11T09:37:55.270297Z"
        },
        "id": "SElrfSFENt11",
        "outputId": "fe893afa-cb6a-48b5-8e2e-ed88c8aff335",
        "trusted": true
      },
      "outputs": [
        {
          "data": {
            "text/plain": [
              "2    1223\n",
              "3     318\n",
              "6     351\n",
              "7     227\n",
              "8     167\n",
              "Name: length, dtype: int64"
            ]
          },
          "execution_count": 32,
          "metadata": {},
          "output_type": "execute_result"
        }
      ],
      "source": [
        "data['length'] = data['text'].apply(length_text)\n",
        "data['length'].head()"
      ]
    },
    {
      "cell_type": "code",
      "execution_count": 33,
      "metadata": {
        "colab": {
          "base_uri": "https://localhost:8080/",
          "height": 0
        },
        "execution": {
          "iopub.execute_input": "2021-11-11T09:37:55.285843Z",
          "iopub.status.busy": "2021-11-11T09:37:55.285652Z",
          "iopub.status.idle": "2021-11-11T09:37:56.67442Z",
          "shell.execute_reply": "2021-11-11T09:37:56.673506Z",
          "shell.execute_reply.started": "2021-11-11T09:37:55.285819Z"
        },
        "id": "4M5B2jxWNt11",
        "outputId": "e82c626e-5170-4c01-d979-b03c95ea4f7b",
        "trusted": true
      },
      "outputs": [
        {
          "data": {
            "image/png": "[encoded data removed]",
            "text/plain": [
              "<Figure size 1296x432 with 1 Axes>"
            ]
          },
          "metadata": {
            "needs_background": "light"
          },
          "output_type": "display_data"
        }
      ],
      "source": [
        "plt.rcParams['figure.figsize'] = (18.0, 6.0)\n",
        "bins = 150\n",
        "plt.hist(data[data['star'] == 5]['length'], alpha = 0.6, bins=bins, label='5')\n",
        "plt.hist(data[data['star'] == 4]['length'], alpha = 0.8, bins=bins, label='4')\n",
        "plt.hist(data[data['star'] == 3]['length'], alpha = 0.8, bins=bins, label='3')\n",
        "plt.hist(data[data['star'] == 2]['length'], alpha = 0.8, bins=bins, label='2')\n",
        "plt.hist(data[data['star'] == 1]['length'], alpha = 0.8, bins=bins, label='1')\n",
        "plt.xlabel('length')\n",
        "plt.ylabel('numbers')\n",
        "plt.legend(loc='upper right')\n",
        "plt.xlim(0,500)\n",
        "plt.grid()\n",
        "plt.show()"
      ]
    },
    {
      "cell_type": "markdown",
      "metadata": {
        "id": "N5fkM6BMNt12"
      },
      "source": [
        "## 4. Data cleaning"
      ]
    },
    {
      "cell_type": "markdown",
      "metadata": {
        "id": "t1OMQ4jCNt12"
      },
      "source": [
        "### acronym words"
      ]
    },
    {
      "cell_type": "code",
      "execution_count": 34,
      "metadata": {
        "colab": {
          "base_uri": "https://localhost:8080/"
        },
        "execution": {
          "iopub.execute_input": "2021-11-11T09:37:56.6768Z",
          "iopub.status.busy": "2021-11-11T09:37:56.676595Z",
          "iopub.status.idle": "2021-11-11T09:37:56.694684Z",
          "shell.execute_reply": "2021-11-11T09:37:56.694016Z",
          "shell.execute_reply.started": "2021-11-11T09:37:56.676773Z"
        },
        "id": "ftt1HdatNt12",
        "outputId": "cf0bdd85-40ef-43bd-b518-c8d61dfc1026",
        "trusted": true
      },
      "outputs": [
        {
          "data": {
            "text/plain": [
              "[{'ship': 'vận chuyển'},\n",
              " {'shop': 'cửa hàng'},\n",
              " {'m': 'mình'},\n",
              " {'mik': 'mình'},\n",
              " {'ko': 'không'}]"
            ]
          },
          "execution_count": 34,
          "metadata": {},
          "output_type": "execute_result"
        }
      ],
      "source": [
        "acronym_words = []\n",
        "acronym_words_dict = []\n",
        "acronym_words = open('data/acronym_word.txt','r', encoding='utf-8')\n",
        "acronym_words = acronym_words.readlines()\n",
        "for i in range(len(acronym_words)):\n",
        "  acronym_words_split = acronym_words[i].split(\"\\t\")\n",
        "  for j in range(len(acronym_words_split)):\n",
        "    acronym_words_split[j] = re.sub(\"[\\n\\ufeff]\",'',acronym_words_split[j])\n",
        "  try:\n",
        "    acronym_words_dict.append({acronym_words_split[0]:acronym_words_split[1]})\n",
        "  except: \n",
        "    pass\n",
        "\n",
        "acronym_words_dict[:5]\n"
      ]
    },
    {
      "cell_type": "markdown",
      "metadata": {
        "id": "Qs8RRpWgNt12"
      },
      "source": [
        "### Stop words"
      ]
    },
    {
      "cell_type": "code",
      "execution_count": 35,
      "metadata": {
        "colab": {
          "base_uri": "https://localhost:8080/"
        },
        "execution": {
          "iopub.execute_input": "2021-11-11T09:37:56.696369Z",
          "iopub.status.busy": "2021-11-11T09:37:56.695932Z",
          "iopub.status.idle": "2021-11-11T09:37:56.717342Z",
          "shell.execute_reply": "2021-11-11T09:37:56.716621Z",
          "shell.execute_reply.started": "2021-11-11T09:37:56.696325Z"
        },
        "id": "e3nEkIZrNt13",
        "outputId": "d7d4edb7-3d5e-4552-8476-ebf1c13c773e",
        "trusted": true
      },
      "outputs": [
        {
          "data": {
            "text/plain": [
              "['a lô', 'a ha', 'ai', 'ai ai', 'ai nấy']"
            ]
          },
          "execution_count": 35,
          "metadata": {},
          "output_type": "execute_result"
        }
      ],
      "source": [
        "stop_words = []\n",
        "stop_words = open('data/stop_word.txt','r', encoding='utf-8')\n",
        "stop_words = stop_words.readlines()\n",
        "for i in range(len(stop_words)):\n",
        "  stop_words[i] = re.sub(\"[\\t\\n\\ufeff]\",'',stop_words[i])\n",
        "\n",
        "stop_words[:5]"
      ]
    },
    {
      "cell_type": "code",
      "execution_count": 36,
      "metadata": {
        "execution": {
          "iopub.execute_input": "2021-11-11T09:37:56.71888Z",
          "iopub.status.busy": "2021-11-11T09:37:56.718501Z",
          "iopub.status.idle": "2021-11-11T09:37:56.723372Z",
          "shell.execute_reply": "2021-11-11T09:37:56.722693Z",
          "shell.execute_reply.started": "2021-11-11T09:37:56.718844Z"
        },
        "id": "dvdj34SiNt13",
        "trusted": true
      },
      "outputs": [],
      "source": [
        "\"\"\"**Tách từ**\n",
        "\n",
        "\"\"\"\n",
        "\n",
        "# Tách từ\n",
        "def sementation(text):\n",
        "  return ViTokenizer.tokenize(text)"
      ]
    },
    {
      "cell_type": "code",
      "execution_count": 37,
      "metadata": {
        "execution": {
          "iopub.execute_input": "2021-11-11T09:37:56.725317Z",
          "iopub.status.busy": "2021-11-11T09:37:56.724881Z",
          "iopub.status.idle": "2021-11-11T09:37:56.733751Z",
          "shell.execute_reply": "2021-11-11T09:37:56.73296Z",
          "shell.execute_reply.started": "2021-11-11T09:37:56.725282Z"
        },
        "id": "1PmWkM9-Nt13",
        "trusted": true
      },
      "outputs": [],
      "source": [
        "\"\"\"**Chuẩn hóa**\"\"\"\n",
        "\n",
        "# Chuẩn hóa unicode sang chuẩn unicode dựng sẵn\n",
        "def loaddicchar():\n",
        "    dic = {}\n",
        "    char1252 = 'à|á|ả|ã|ạ|ầ|ấ|ẩ|ẫ|ậ|ằ|ắ|ẳ|ẵ|ặ|è|é|ẻ|ẽ|ẹ|ề|ế|ể|ễ|ệ|ì|í|ỉ|ĩ|ị|ò|ó|ỏ|õ|ọ|ồ|ố|ổ|ỗ|ộ|ờ|ớ|ở|ỡ|ợ|ù|ú|ủ|ũ|ụ|ừ|ứ|ử|ữ|ự|ỳ|ý|ỷ|ỹ|ỵ|À|Á|Ả|Ã|Ạ|Ầ|Ấ|Ẩ|Ẫ|Ậ|Ằ|Ắ|Ẳ|Ẵ|Ặ|È|É|Ẻ|Ẽ|Ẹ|Ề|Ế|Ể|Ễ|Ệ|Ì|Í|Ỉ|Ĩ|Ị|Ò|Ó|Ỏ|Õ|Ọ|Ồ|Ố|Ổ|Ỗ|Ộ|Ờ|Ớ|Ở|Ỡ|Ợ|Ù|Ú|Ủ|Ũ|Ụ|Ừ|Ứ|Ử|Ữ|Ự|Ỳ|Ý|Ỷ|Ỹ|Ỵ'.split(\n",
        "        '|')\n",
        "    charutf8 = \"à|á|ả|ã|ạ|ầ|ấ|ẩ|ẫ|ậ|ằ|ắ|ẳ|ẵ|ặ|è|é|ẻ|ẽ|ẹ|ề|ế|ể|ễ|ệ|ì|í|ỉ|ĩ|ị|ò|ó|ỏ|õ|ọ|ồ|ố|ổ|ỗ|ộ|ờ|ớ|ở|ỡ|ợ|ù|ú|ủ|ũ|ụ|ừ|ứ|ử|ữ|ự|ỳ|ý|ỷ|ỹ|ỵ|À|Á|Ả|Ã|Ạ|Ầ|Ấ|Ẩ|Ẫ|Ậ|Ằ|Ắ|Ẳ|Ẵ|Ặ|È|É|Ẻ|Ẽ|Ẹ|Ề|Ế|Ể|Ễ|Ệ|Ì|Í|Ỉ|Ĩ|Ị|Ò|Ó|Ỏ|Õ|Ọ|Ồ|Ố|Ổ|Ỗ|Ộ|Ờ|Ớ|Ở|Ỡ|Ợ|Ù|Ú|Ủ|Ũ|Ụ|Ừ|Ứ|Ử|Ữ|Ự|Ỳ|Ý|Ỷ|Ỹ|Ỵ\".split(\n",
        "        '|')\n",
        "    for i in range(len(char1252)):\n",
        "        dic[char1252[i]] = charutf8[i]\n",
        "    return dic\n",
        "\n",
        "dicchar = loaddicchar()\n",
        "def covert_unicode(txt):\n",
        "    return re.sub(\n",
        "        r'à|á|ả|ã|ạ|ầ|ấ|ẩ|ẫ|ậ|ằ|ắ|ẳ|ẵ|ặ|è|é|ẻ|ẽ|ẹ|ề|ế|ể|ễ|ệ|ì|í|ỉ|ĩ|ị|ò|ó|ỏ|õ|ọ|ồ|ố|ổ|ỗ|ộ|ờ|ớ|ở|ỡ|ợ|ù|ú|ủ|ũ|ụ|ừ|ứ|ử|ữ|ự|ỳ|ý|ỷ|ỹ|ỵ|À|Á|Ả|Ã|Ạ|Ầ|Ấ|Ẩ|Ẫ|Ậ|Ằ|Ắ|Ẳ|Ẵ|Ặ|È|É|Ẻ|Ẽ|Ẹ|Ề|Ế|Ể|Ễ|Ệ|Ì|Í|Ỉ|Ĩ|Ị|Ò|Ó|Ỏ|Õ|Ọ|Ồ|Ố|Ổ|Ỗ|Ộ|Ờ|Ớ|Ở|Ỡ|Ợ|Ù|Ú|Ủ|Ũ|Ụ|Ừ|Ứ|Ử|Ữ|Ự|Ỳ|Ý|Ỷ|Ỹ|Ỵ',\n",
        "        lambda x: dicchar[x.group()], txt)"
      ]
    },
    {
      "cell_type": "code",
      "execution_count": 38,
      "metadata": {
        "execution": {
          "iopub.execute_input": "2021-11-11T09:37:56.738061Z",
          "iopub.status.busy": "2021-11-11T09:37:56.735768Z",
          "iopub.status.idle": "2021-11-11T09:37:56.744973Z",
          "shell.execute_reply": "2021-11-11T09:37:56.744245Z",
          "shell.execute_reply.started": "2021-11-11T09:37:56.738014Z"
        },
        "id": "QCXsad3rNt14",
        "trusted": true
      },
      "outputs": [],
      "source": [
        "# Hàm chuẩn hoá câu\n",
        "def standardize_data(row):\n",
        "    # Xóa dấu chấm, phẩy, hỏi ở cuối câu\n",
        "    row = re.sub(r\"[\\.,\\?]+$-\", \"\", row)\n",
        "    # Xóa tất cả dấu chấm, phẩy, chấm phẩy, chấm thang, ... trong câu\n",
        "    row = row.replace(\",\", \" \").replace(\".\", \" \") \\\n",
        "        .replace(\";\", \" \").replace(\"“\", \" \") \\\n",
        "        .replace(\":\", \" \").replace(\"”\", \" \") \\\n",
        "        .replace('\"', \" \").replace(\"'\", \" \") \\\n",
        "        .replace(\"!\", \" \").replace(\"?\", \" \") \\\n",
        "        .replace(\"-\", \" \").replace(\"?\", \" \")\n",
        "    row = row.strip().lower()\n",
        "    return row"
      ]
    },
    {
      "cell_type": "code",
      "execution_count": 39,
      "metadata": {
        "execution": {
          "iopub.execute_input": "2021-11-11T09:37:56.746849Z",
          "iopub.status.busy": "2021-11-11T09:37:56.746178Z",
          "iopub.status.idle": "2021-11-11T09:37:56.756119Z",
          "shell.execute_reply": "2021-11-11T09:37:56.755423Z",
          "shell.execute_reply.started": "2021-11-11T09:37:56.746799Z"
        },
        "id": "ab7v1R0FNt14",
        "trusted": true
      },
      "outputs": [],
      "source": [
        "# Xử dụng bộ từ điển để thay thế các kiểu gõ dấu và viết tắt\n",
        "def replace_acronyms(text):\n",
        "  text_list = text.split(\" \");\n",
        "  for i in range(len(text_list)):\n",
        "    for j in range(len(acronym_words_dict)):\n",
        "      key = list(acronym_words_dict[j].keys())[0]\n",
        "      value = list(acronym_words_dict[j].values())[0]\n",
        "      if text_list[i] == key:\n",
        "        text_list[i] = value\n",
        "  return \" \".join(text_list)\n"
      ]
    },
    {
      "cell_type": "code",
      "execution_count": 40,
      "metadata": {
        "execution": {
          "iopub.execute_input": "2021-11-11T09:37:56.758421Z",
          "iopub.status.busy": "2021-11-11T09:37:56.757655Z",
          "iopub.status.idle": "2021-11-11T09:37:56.764735Z",
          "shell.execute_reply": "2021-11-11T09:37:56.763984Z",
          "shell.execute_reply.started": "2021-11-11T09:37:56.758383Z"
        },
        "id": "9kPEub0iNt14",
        "trusted": true
      },
      "outputs": [],
      "source": [
        "# Xử lý các từ viết trùng lắp\n",
        "def remove_loop_char(text):\n",
        "  text = re.sub(r'([A-Z])\\1+', lambda m: m.group(1).upper(), str(text), flags=re.IGNORECASE)\n",
        "  text = re.sub(r'[^\\s\\wáàảãạăắằẳẵặâấầẩẫậéèẻẽẹêếềểễệóòỏõọôốồổỗộơớờởỡợíìỉĩịúùủũụưứừửữựýỳỷỹỵđ_]',' ',text)\n",
        "  return text"
      ]
    },
    {
      "cell_type": "code",
      "execution_count": 41,
      "metadata": {
        "execution": {
          "iopub.execute_input": "2021-11-11T09:37:56.766564Z",
          "iopub.status.busy": "2021-11-11T09:37:56.766093Z",
          "iopub.status.idle": "2021-11-11T09:37:56.7733Z",
          "shell.execute_reply": "2021-11-11T09:37:56.772608Z",
          "shell.execute_reply.started": "2021-11-11T09:37:56.766527Z"
        },
        "id": "n2JD0l_qNt14",
        "trusted": true
      },
      "outputs": [],
      "source": [
        "# Loại bỏ stop word\n",
        "def remove_stop_word(text):\n",
        "  split_word = text.split(\" \");\n",
        "  words = []\n",
        "  for word in split_word:\n",
        "    if word not in stop_words:\n",
        "      words.append(word)\n",
        "  return \" \".join(words)"
      ]
    },
    {
      "cell_type": "code",
      "execution_count": 42,
      "metadata": {
        "execution": {
          "iopub.execute_input": "2021-11-11T09:37:56.777273Z",
          "iopub.status.busy": "2021-11-11T09:37:56.775348Z",
          "iopub.status.idle": "2021-11-11T09:37:56.785074Z",
          "shell.execute_reply": "2021-11-11T09:37:56.78427Z",
          "shell.execute_reply.started": "2021-11-11T09:37:56.777234Z"
        },
        "id": "qKIwkSuNNt15",
        "trusted": true
      },
      "outputs": [],
      "source": [
        "\"\"\"**Tiền xử lý dữ liệu**\"\"\"\n",
        "# Làm sạch dữ liệu\n",
        "def text_prosessing(text):\n",
        "    # Chuyển đổi thành chữ thường\n",
        "    text = text.lower() \n",
        "\n",
        "    # tách từ\n",
        "    text = sementation(text)\n",
        "\n",
        "    #Chuẩn hóa unicode sang chuẩn unicode dựng sẵn\n",
        "    text = covert_unicode(text)\n",
        "\n",
        "    # Chuẩn hóa câu\n",
        "    text = standardize_data(text)\n",
        "\n",
        "    # Xử dụng bộ từ điển để thay thế các kiểu gõ dấu và viết tắt\n",
        "    text = replace_acronyms(text)\n",
        "\n",
        "    # Xử lý các từ viết trùng lắp\n",
        "    text = remove_loop_char(text)\n",
        "\n",
        "    # Xử dụng bộ từ điển để thay thế các kiểu gõ dấu và viết tắt\n",
        "    text = remove_stop_word(text)\n",
        "\n",
        "    # Xóa các kí tự trong dấu []\n",
        "    text = re.sub('\\[.*?\\]', '', text)\n",
        "\n",
        "    # Xóa các kí tự đặc biệt\n",
        "    text = re.sub(\"\\W\",' ',text) \n",
        "\n",
        "    # Xóa các đường link\n",
        "    text = re.sub('https?://\\S+|www\\.\\S+', ' ', text)\n",
        "\n",
        "    # Xóa các số\n",
        "    text = re.sub('\\w*\\d\\w*', '', text)\n",
        "\n",
        "    # Xóa các đoạn mã html\n",
        "    text = re.sub(r'<[*>]*>',' ', text)\n",
        "\n",
        "    #Xóa các kí tự xuống dòng\n",
        "    text = \" \".join(re.sub(\"\\n\", \" \", text).split())\n",
        "    return text"
      ]
    },
    {
      "cell_type": "code",
      "execution_count": 43,
      "metadata": {
        "execution": {
          "iopub.execute_input": "2021-11-11T09:37:56.788854Z",
          "iopub.status.busy": "2021-11-11T09:37:56.786408Z",
          "iopub.status.idle": "2021-11-11T09:38:21.282159Z",
          "shell.execute_reply": "2021-11-11T09:38:21.281234Z",
          "shell.execute_reply.started": "2021-11-11T09:37:56.788808Z"
        },
        "id": "RcA7B_6CNt15",
        "trusted": true
      },
      "outputs": [],
      "source": [
        "# Apply vào data\n",
        "data['text'] = data['text'].apply(text_prosessing)"
      ]
    },
    {
      "cell_type": "code",
      "execution_count": 44,
      "metadata": {
        "colab": {
          "base_uri": "https://localhost:8080/",
          "height": 0
        },
        "execution": {
          "iopub.execute_input": "2021-11-11T09:38:21.284604Z",
          "iopub.status.busy": "2021-11-11T09:38:21.28349Z",
          "iopub.status.idle": "2021-11-11T09:38:21.294239Z",
          "shell.execute_reply": "2021-11-11T09:38:21.293335Z",
          "shell.execute_reply.started": "2021-11-11T09:38:21.284561Z"
        },
        "id": "q8g4jnOaNt15",
        "outputId": "dd39af45-f3e1-4dd3-aa5b-ccea35621dc7",
        "trusted": true
      },
      "outputs": [
        {
          "data": {
            "text/html": [
              "<div>\n",
              "<style scoped>\n",
              "    .dataframe tbody tr th:only-of-type {\n",
              "        vertical-align: middle;\n",
              "    }\n",
              "\n",
              "    .dataframe tbody tr th {\n",
              "        vertical-align: top;\n",
              "    }\n",
              "\n",
              "    .dataframe thead th {\n",
              "        text-align: right;\n",
              "    }\n",
              "</style>\n",
              "<table border=\"1\" class=\"dataframe\">\n",
              "  <thead>\n",
              "    <tr style=\"text-align: right;\">\n",
              "      <th></th>\n",
              "      <th>text</th>\n",
              "      <th>star</th>\n",
              "      <th>length</th>\n",
              "    </tr>\n",
              "  </thead>\n",
              "  <tbody>\n",
              "    <tr>\n",
              "      <th>2</th>\n",
              "      <td>thái_độ dịch_vụ khách_hàng tiki điện_thoại tuầ...</td>\n",
              "      <td>1</td>\n",
              "      <td>1223</td>\n",
              "    </tr>\n",
              "    <tr>\n",
              "      <th>3</th>\n",
              "      <td>sản_phẩm tầm giá đx mua pa mẹ yêu_cầu hơi thất...</td>\n",
              "      <td>3</td>\n",
              "      <td>318</td>\n",
              "    </tr>\n",
              "    <tr>\n",
              "      <th>6</th>\n",
              "      <td>sản_phẩm mua giao hàng khui kiểm_tra góc màn_h...</td>\n",
              "      <td>1</td>\n",
              "      <td>351</td>\n",
              "    </tr>\n",
              "    <tr>\n",
              "      <th>7</th>\n",
              "      <td>điện_thoại ổn gói dịch_vụ bảo_vệ thiết_bị di_đ...</td>\n",
              "      <td>3</td>\n",
              "      <td>227</td>\n",
              "    </tr>\n",
              "    <tr>\n",
              "      <th>8</th>\n",
              "      <td>đóng_gói cẩn_thận giao sản_phẩm thắc_mắc điện_...</td>\n",
              "      <td>4</td>\n",
              "      <td>167</td>\n",
              "    </tr>\n",
              "  </tbody>\n",
              "</table>\n",
              "</div>"
            ],
            "text/plain": [
              "                                                text  star  length\n",
              "2  thái_độ dịch_vụ khách_hàng tiki điện_thoại tuầ...     1    1223\n",
              "3  sản_phẩm tầm giá đx mua pa mẹ yêu_cầu hơi thất...     3     318\n",
              "6  sản_phẩm mua giao hàng khui kiểm_tra góc màn_h...     1     351\n",
              "7  điện_thoại ổn gói dịch_vụ bảo_vệ thiết_bị di_đ...     3     227\n",
              "8  đóng_gói cẩn_thận giao sản_phẩm thắc_mắc điện_...     4     167"
            ]
          },
          "execution_count": 44,
          "metadata": {},
          "output_type": "execute_result"
        }
      ],
      "source": [
        "data.head()"
      ]
    },
    {
      "cell_type": "markdown",
      "metadata": {
        "id": "KNa1ffJ-RALa"
      },
      "source": [
        "## Lưu dữ liệu đã sạch lại"
      ]
    },
    {
      "cell_type": "code",
      "execution_count": 132,
      "metadata": {
        "id": "RCbczALqPAvN"
      },
      "outputs": [],
      "source": [
        "# data.to_csv(\"/content/data_coment_tiki_clean.csv\",index=False)"
      ]
    },
    {
      "cell_type": "markdown",
      "metadata": {
        "id": "x9Zv04L_Nt15"
      },
      "source": [
        "## 5. Build Model"
      ]
    },
    {
      "cell_type": "code",
      "execution_count": 45,
      "metadata": {
        "colab": {
          "base_uri": "https://localhost:8080/"
        },
        "execution": {
          "iopub.execute_input": "2021-11-11T09:38:21.296022Z",
          "iopub.status.busy": "2021-11-11T09:38:21.295618Z",
          "iopub.status.idle": "2021-11-11T09:38:21.306882Z",
          "shell.execute_reply": "2021-11-11T09:38:21.306074Z",
          "shell.execute_reply.started": "2021-11-11T09:38:21.295984Z"
        },
        "id": "xPgeMT_cNt15",
        "outputId": "7800e919-c3d7-4861-9b3e-1f5ef31a027f",
        "trusted": true
      },
      "outputs": [
        {
          "data": {
            "text/plain": [
              "2451"
            ]
          },
          "execution_count": 45,
          "metadata": {},
          "output_type": "execute_result"
        }
      ],
      "source": [
        "len(data[data['star'] < 4])"
      ]
    },
    {
      "cell_type": "code",
      "execution_count": 46,
      "metadata": {
        "colab": {
          "base_uri": "https://localhost:8080/"
        },
        "execution": {
          "iopub.execute_input": "2021-11-11T09:38:21.30841Z",
          "iopub.status.busy": "2021-11-11T09:38:21.308004Z",
          "iopub.status.idle": "2021-11-11T09:38:21.316215Z",
          "shell.execute_reply": "2021-11-11T09:38:21.31542Z",
          "shell.execute_reply.started": "2021-11-11T09:38:21.308375Z"
        },
        "id": "FQkQTLFPNt15",
        "outputId": "11d01712-d38d-4bc4-adbf-c037ab9f5c9a",
        "trusted": true
      },
      "outputs": [
        {
          "data": {
            "text/plain": [
              "2664"
            ]
          },
          "execution_count": 46,
          "metadata": {},
          "output_type": "execute_result"
        }
      ],
      "source": [
        "len(data[data['star'] >= 4])"
      ]
    },
    {
      "cell_type": "markdown",
      "metadata": {
        "id": "i33DWOwJNt16"
      },
      "source": [
        "### Gộp 3 đánh giá 1 2 3 sao là đánh giá tiêu cực với nhãn là 0, 2 đánh giá 4 5 sao là tích cực với nhãn là 1"
      ]
    },
    {
      "cell_type": "code",
      "execution_count": null,
      "metadata": {
        "colab": {
          "base_uri": "https://localhost:8080/",
          "height": 203
        },
        "execution": {
          "iopub.execute_input": "2021-11-11T09:38:21.317876Z",
          "iopub.status.busy": "2021-11-11T09:38:21.317486Z",
          "iopub.status.idle": "2021-11-11T09:38:21.32359Z",
          "shell.execute_reply": "2021-11-11T09:38:21.322795Z",
          "shell.execute_reply.started": "2021-11-11T09:38:21.317832Z"
        },
        "id": "26B0P1vvNt16",
        "outputId": "3dddc5b8-e3da-4e27-ac61-1398d28216b5",
        "trusted": true
      },
      "outputs": [],
      "source": [
        "data[\"star\"] = data[\"star\"].map({1:0, 2:0, 3:0, 4:1, 5:1})"
      ]
    },
    {
      "cell_type": "markdown",
      "metadata": {
        "id": "-wdWh1u7Nt16"
      },
      "source": [
        "### Our current data"
      ]
    },
    {
      "cell_type": "code",
      "execution_count": 48,
      "metadata": {
        "colab": {
          "base_uri": "https://localhost:8080/",
          "height": 203
        },
        "execution": {
          "iopub.execute_input": "2021-11-11T09:38:21.329242Z",
          "iopub.status.busy": "2021-11-11T09:38:21.328546Z",
          "iopub.status.idle": "2021-11-11T09:38:21.338375Z",
          "shell.execute_reply": "2021-11-11T09:38:21.337378Z",
          "shell.execute_reply.started": "2021-11-11T09:38:21.329207Z"
        },
        "id": "co5_tojaNt18",
        "outputId": "d2410ef2-6f98-43aa-e411-f04066963772",
        "trusted": true
      },
      "outputs": [
        {
          "data": {
            "text/html": [
              "<div>\n",
              "<style scoped>\n",
              "    .dataframe tbody tr th:only-of-type {\n",
              "        vertical-align: middle;\n",
              "    }\n",
              "\n",
              "    .dataframe tbody tr th {\n",
              "        vertical-align: top;\n",
              "    }\n",
              "\n",
              "    .dataframe thead th {\n",
              "        text-align: right;\n",
              "    }\n",
              "</style>\n",
              "<table border=\"1\" class=\"dataframe\">\n",
              "  <thead>\n",
              "    <tr style=\"text-align: right;\">\n",
              "      <th></th>\n",
              "      <th>text</th>\n",
              "      <th>star</th>\n",
              "      <th>length</th>\n",
              "    </tr>\n",
              "  </thead>\n",
              "  <tbody>\n",
              "    <tr>\n",
              "      <th>2</th>\n",
              "      <td>thái_độ dịch_vụ khách_hàng tiki điện_thoại tuầ...</td>\n",
              "      <td>0</td>\n",
              "      <td>1223</td>\n",
              "    </tr>\n",
              "    <tr>\n",
              "      <th>3</th>\n",
              "      <td>sản_phẩm tầm giá đx mua pa mẹ yêu_cầu hơi thất...</td>\n",
              "      <td>0</td>\n",
              "      <td>318</td>\n",
              "    </tr>\n",
              "    <tr>\n",
              "      <th>6</th>\n",
              "      <td>sản_phẩm mua giao hàng khui kiểm_tra góc màn_h...</td>\n",
              "      <td>0</td>\n",
              "      <td>351</td>\n",
              "    </tr>\n",
              "    <tr>\n",
              "      <th>7</th>\n",
              "      <td>điện_thoại ổn gói dịch_vụ bảo_vệ thiết_bị di_đ...</td>\n",
              "      <td>0</td>\n",
              "      <td>227</td>\n",
              "    </tr>\n",
              "    <tr>\n",
              "      <th>8</th>\n",
              "      <td>đóng_gói cẩn_thận giao sản_phẩm thắc_mắc điện_...</td>\n",
              "      <td>1</td>\n",
              "      <td>167</td>\n",
              "    </tr>\n",
              "  </tbody>\n",
              "</table>\n",
              "</div>"
            ],
            "text/plain": [
              "                                                text  star  length\n",
              "2  thái_độ dịch_vụ khách_hàng tiki điện_thoại tuầ...     0    1223\n",
              "3  sản_phẩm tầm giá đx mua pa mẹ yêu_cầu hơi thất...     0     318\n",
              "6  sản_phẩm mua giao hàng khui kiểm_tra góc màn_h...     0     351\n",
              "7  điện_thoại ổn gói dịch_vụ bảo_vệ thiết_bị di_đ...     0     227\n",
              "8  đóng_gói cẩn_thận giao sản_phẩm thắc_mắc điện_...     1     167"
            ]
          },
          "execution_count": 48,
          "metadata": {},
          "output_type": "execute_result"
        }
      ],
      "source": [
        "data.head(5)"
      ]
    },
    {
      "cell_type": "code",
      "execution_count": 49,
      "metadata": {
        "execution": {
          "iopub.execute_input": "2021-11-11T09:38:21.339767Z",
          "iopub.status.busy": "2021-11-11T09:38:21.339529Z",
          "iopub.status.idle": "2021-11-11T09:38:21.346929Z",
          "shell.execute_reply": "2021-11-11T09:38:21.346068Z",
          "shell.execute_reply.started": "2021-11-11T09:38:21.339734Z"
        },
        "id": "yzx3gKBuNt19",
        "trusted": true
      },
      "outputs": [
        {
          "data": {
            "text/plain": [
              "array(['thái_độ dịch_vụ khách_hàng tiki điện_thoại tuần hàng đầu trễ lịch hẹn giao tiki gửi thông_báo xin_lỗi hẹn giao làm_việc kiên_nhẫn đợi làm_việc tiki giao hàng mà_lại âm_thầm_hủy_đơn hề điện_thoại thông_báo xin_lỗi gọi tổng_đài trúng chăm sóc hàng thái_độ tệ giọng buồn_ngủ nói_chuyện khách_hàng hoàn_cảnh giao hàng giải_thích lý_do vì_sao hủy_đơn ý_kiến làm_khách nguôi giận dễ_tính mã bù giá điện_thoại đầu mua tặng mã chờ cuối_cùng cầm điện_thoại thất_vọng thái_độ phục_vụ tiki khách_hàng trung_thành tiki bao thái_độ dịch_vụ khách_hàng tệ mua ưu_tiên tiki để_tâm điện_thoại mua lớn_tuổi sử_dụng phù_hợp nhu_cầu',\n",
              "       'sản_phẩm tầm giá đx mua pa mẹ yêu_cầu hơi thất_vọng nhạc vẻ hơi tệ phụ_kiện sạc tai_nghe sản phẩm khuyến_mãi ít_nhất tặng oF lưng kèm máy mấy sản phẩm hứng_thú thua mấy sản phẩm tầm giá',\n",
              "       'sản_phẩm mua giao hàng khui kiểm_tra góc màn_hình chết gọi tổng_đài liền sản phẩm tặng y c hỗ_trợ dùm sản phẩm tiki giao lỗi tiki hỗ_trợ tại_sao linh_động rõ_ràng sản phẩm lỗi sản_xuất'],\n",
              "      dtype=object)"
            ]
          },
          "execution_count": 49,
          "metadata": {},
          "output_type": "execute_result"
        }
      ],
      "source": [
        "np.array(data['text'])[:3]"
      ]
    },
    {
      "cell_type": "code",
      "execution_count": 50,
      "metadata": {
        "execution": {
          "iopub.execute_input": "2021-11-11T09:38:21.348821Z",
          "iopub.status.busy": "2021-11-11T09:38:21.34839Z",
          "iopub.status.idle": "2021-11-11T09:38:21.352985Z",
          "shell.execute_reply": "2021-11-11T09:38:21.352173Z",
          "shell.execute_reply.started": "2021-11-11T09:38:21.348787Z"
        },
        "id": "KRx4_U-XNt19",
        "trusted": true
      },
      "outputs": [],
      "source": [
        "X = data['text']\n",
        "y = data['star']"
      ]
    },
    {
      "cell_type": "code",
      "execution_count": 51,
      "metadata": {
        "colab": {
          "base_uri": "https://localhost:8080/"
        },
        "execution": {
          "iopub.execute_input": "2021-11-11T09:38:21.354772Z",
          "iopub.status.busy": "2021-11-11T09:38:21.354148Z",
          "iopub.status.idle": "2021-11-11T09:38:21.363599Z",
          "shell.execute_reply": "2021-11-11T09:38:21.362849Z",
          "shell.execute_reply.started": "2021-11-11T09:38:21.354736Z"
        },
        "id": "koZfmugpNt19",
        "outputId": "48827abf-cab4-44e8-e18b-f4383166b0ca",
        "trusted": true
      },
      "outputs": [
        {
          "data": {
            "text/plain": [
              "2    thái_độ dịch_vụ khách_hàng tiki điện_thoại tuầ...\n",
              "3    sản_phẩm tầm giá đx mua pa mẹ yêu_cầu hơi thất...\n",
              "6    sản_phẩm mua giao hàng khui kiểm_tra góc màn_h...\n",
              "Name: text, dtype: object"
            ]
          },
          "execution_count": 51,
          "metadata": {},
          "output_type": "execute_result"
        }
      ],
      "source": [
        "X.head(3)"
      ]
    },
    {
      "cell_type": "code",
      "execution_count": 52,
      "metadata": {
        "execution": {
          "iopub.execute_input": "2021-11-11T09:38:21.364985Z",
          "iopub.status.busy": "2021-11-11T09:38:21.364542Z",
          "iopub.status.idle": "2021-11-11T09:38:21.371334Z",
          "shell.execute_reply": "2021-11-11T09:38:21.370632Z",
          "shell.execute_reply.started": "2021-11-11T09:38:21.364949Z"
        },
        "id": "_KaPoj-ANt19",
        "trusted": true
      },
      "outputs": [
        {
          "data": {
            "text/plain": [
              "2    0\n",
              "3    0\n",
              "6    0\n",
              "7    0\n",
              "8    1\n",
              "Name: star, dtype: int64"
            ]
          },
          "execution_count": 52,
          "metadata": {},
          "output_type": "execute_result"
        }
      ],
      "source": [
        "y.head()"
      ]
    },
    {
      "cell_type": "code",
      "execution_count": 57,
      "metadata": {},
      "outputs": [
        {
          "data": {
            "text/plain": [
              "pandas.core.series.Series"
            ]
          },
          "execution_count": 57,
          "metadata": {},
          "output_type": "execute_result"
        }
      ],
      "source": [
        "type(X)"
      ]
    },
    {
      "cell_type": "markdown",
      "metadata": {
        "id": "hrnzNIL1Nt19"
      },
      "source": [
        "### Sử dụng các giải thuật máy học để huấn luyện mô hình"
      ]
    },
    {
      "cell_type": "code",
      "execution_count": 53,
      "metadata": {
        "execution": {
          "iopub.execute_input": "2021-11-11T09:38:21.373293Z",
          "iopub.status.busy": "2021-11-11T09:38:21.372452Z",
          "iopub.status.idle": "2021-11-11T09:38:21.43858Z",
          "shell.execute_reply": "2021-11-11T09:38:21.437969Z",
          "shell.execute_reply.started": "2021-11-11T09:38:21.373257Z"
        },
        "id": "e_2gDKpYNt19",
        "trusted": true
      },
      "outputs": [],
      "source": [
        "from sklearn.model_selection import train_test_split\n",
        "from sklearn.metrics import accuracy_score\n",
        "from sklearn.feature_extraction.text import CountVectorizer\n",
        "from sklearn.model_selection import cross_val_score"
      ]
    },
    {
      "cell_type": "code",
      "execution_count": 54,
      "metadata": {
        "execution": {
          "iopub.execute_input": "2021-11-11T09:38:21.440229Z",
          "iopub.status.busy": "2021-11-11T09:38:21.439654Z",
          "iopub.status.idle": "2021-11-11T09:38:21.540976Z",
          "shell.execute_reply": "2021-11-11T09:38:21.540373Z",
          "shell.execute_reply.started": "2021-11-11T09:38:21.440176Z"
        },
        "id": "vmCqmJj1Nt19",
        "trusted": true
      },
      "outputs": [],
      "source": [
        "cv = CountVectorizer()\n",
        "X_vectors = cv.fit_transform(X)"
      ]
    },
    {
      "cell_type": "code",
      "execution_count": 55,
      "metadata": {
        "execution": {
          "iopub.execute_input": "2021-11-11T09:38:21.542437Z",
          "iopub.status.busy": "2021-11-11T09:38:21.542217Z",
          "iopub.status.idle": "2021-11-11T09:38:21.608543Z",
          "shell.execute_reply": "2021-11-11T09:38:21.607728Z",
          "shell.execute_reply.started": "2021-11-11T09:38:21.542406Z"
        },
        "id": "Qr9Yr70vNt1-",
        "trusted": true
      },
      "outputs": [
        {
          "name": "stdout",
          "output_type": "stream",
          "text": [
            "(5115, 4961)\n"
          ]
        }
      ],
      "source": [
        "print(X_vectors.todense().shape)"
      ]
    },
    {
      "cell_type": "markdown",
      "metadata": {},
      "source": [
        "vector của chúng ta có độ dài 4961 "
      ]
    },
    {
      "cell_type": "code",
      "execution_count": 56,
      "metadata": {
        "execution": {
          "iopub.execute_input": "2021-11-11T09:38:21.610392Z",
          "iopub.status.busy": "2021-11-11T09:38:21.609702Z",
          "iopub.status.idle": "2021-11-11T09:38:21.73893Z",
          "shell.execute_reply": "2021-11-11T09:38:21.738173Z",
          "shell.execute_reply.started": "2021-11-11T09:38:21.610351Z"
        },
        "id": "8_N6yMnLNt1-",
        "trusted": true
      },
      "outputs": [
        {
          "name": "stdout",
          "output_type": "stream",
          "text": [
            "4961\n",
            "(5115, 4961)\n",
            "(1, 4961)\n",
            "5115\n"
          ]
        }
      ],
      "source": [
        "print(len(cv.get_feature_names()))\n",
        "print(X_vectors.todense().shape)\n",
        "print(X_vectors.todense()[0].shape)\n",
        "print(len(X))"
      ]
    },
    {
      "cell_type": "code",
      "execution_count": 97,
      "metadata": {},
      "outputs": [
        {
          "name": "stdout",
          "output_type": "stream",
          "text": [
            "  (0, 3583)\t4\n",
            "  (0, 999)\t2\n",
            "  (0, 1724)\t4\n",
            "  (0, 3726)\t6\n",
            "  (0, 4679)\t5\n",
            "  (0, 3980)\t1\n",
            "  (0, 1447)\t4\n",
            "  (0, 4803)\t2\n",
            "  (0, 3941)\t1\n",
            "  (0, 2133)\t1\n",
            "  (0, 1544)\t2\n",
            "  (0, 1147)\t4\n",
            "  (0, 1289)\t1\n",
            "  (0, 3607)\t2\n",
            "  (0, 4451)\t2\n",
            "  (0, 2026)\t2\n",
            "  (0, 1795)\t1\n",
            "  (0, 4900)\t1\n",
            "  (0, 2282)\t1\n",
            "  (0, 4614)\t1\n",
            "  (0, 1548)\t1\n",
            "  (0, 1278)\t1\n",
            "  (0, 4154)\t1\n",
            "  (0, 3904)\t1\n",
            "  (0, 502)\t1\n",
            "  :\t:\n",
            "  (5113, 1960)\t1\n",
            "  (5113, 1466)\t1\n",
            "  (5113, 4649)\t1\n",
            "  (5113, 3773)\t1\n",
            "  (5113, 4828)\t1\n",
            "  (5113, 528)\t2\n",
            "  (5113, 2927)\t1\n",
            "  (5113, 4925)\t2\n",
            "  (5113, 575)\t3\n",
            "  (5113, 4960)\t1\n",
            "  (5113, 4001)\t1\n",
            "  (5113, 4394)\t1\n",
            "  (5113, 3555)\t2\n",
            "  (5113, 4554)\t1\n",
            "  (5113, 1753)\t1\n",
            "  (5113, 4906)\t1\n",
            "  (5113, 1471)\t2\n",
            "  (5113, 4460)\t1\n",
            "  (5113, 172)\t1\n",
            "  (5113, 2081)\t2\n",
            "  (5113, 4127)\t1\n",
            "  (5114, 776)\t1\n",
            "  (5114, 1501)\t1\n",
            "  (5114, 3847)\t2\n",
            "  (5114, 2803)\t1\n"
          ]
        }
      ],
      "source": [
        "print(X_vectors)"
      ]
    },
    {
      "cell_type": "code",
      "execution_count": 94,
      "metadata": {},
      "outputs": [
        {
          "name": "stdout",
          "output_type": "stream",
          "text": [
            "{'mua': 2051, 'hàng': 1305, 'tiki': 3353, 'giao': 1036, 'hộp': 1426, 'máy': 2075, 'nguyên': 2281, 'seal': 2939, 'hơi': 1351, 'móp': 2109, 'nhẹ': 2442, 'tem': 3146, 'nhãn': 2384, 'đầy_đủ': 4311, 'an_toàn': 37, 'gói': 1139, 'ọp_ẹp': 4432, 'dính': 855, 'keo': 1507, 'thừa': 3334, 'viền': 3825, 'nắp': 2526, 'lưng': 1883, 'mặc_dù': 2161, 'lau': 1733, 'cực': 750, 'cảm_giác': 671, 'lừa': 1958, 'tệ': 3696, 'giắc': 1095, 'sạc': 3072, 'đầu': 4304, 'điện': 4190, 'nhân_viên': 2382, 'thu_hồi': 3208, 'bộ_phận': 278, 'kỹ_thuật': 1711, 'kiểm_tra': 1624, 'điện_thoại': 4193, 'cáp': 603, 'mấy': 2150, 'tiếp': 3388, 'thân': 3229, 'tầm': 3676, 'tuần': 3576, 'đổi': 4378, 'thử': 3335, 'y_như': 4086, 'cũ': 643, 'dây': 847, 'cắm': 710, 'trách_nhiệm': 3489, 'gọi': 1153, 'bảo_hành': 221, 'haiz': 1173, 'động_tĩnh': 4387, 'thất_vọng': 3275, 'sản_phẩm': 3080, 'tai_nghe': 3128, 'dien': 795, 'thoai': 3193, 'dung': 827, 'may': 1992, 'thang': 3158, 'da': 754, 'truc': 3468, 'trac': 3437, 'dang': 760, 'phai': 2610, 'dem': 778, 'di_bao': 787, 'hanh': 1180, 'dán': 845, 'yên_tâm': 4105, 'chậm': 469, 'khách_hàng': 1551, 'ốp': 4435, 'dẻo': 890, 'nhựa': 2454, 'mặt': 2164, 'bám': 171, 'dơ': 868, 'cảm_biến': 670, 'vân': 3858, 'nghỉ': 2255, 'khỏe': 1585, 'coi': 543, 'bao_nhiêu': 86, 'review': 2844, 'đọc': 4353, 'giới_thiệu': 1100, 'chẳng': 478, 'giá': 1052, 'xài': 4024, 'lỗi': 1944, 'đợt': 4394, 'sale': 2920, 'midnh': 2011, 'ủng_hộ': 4442, 'gh': 1012, 'màn_hình': 2062, 'nhỏ_xíu': 2448, 'kích_hoạt': 1663, 'sản': 3079, 'phẩm': 2689, 'đẹp': 4326, 'rẻ': 2891, 'việt': 3828, 'ưu_tiên': 4412, 'vừa_mới': 3937, 'hỏng': 1410, 'khó_dễ': 1563, 'nói_dối': 2503, 'liên_lạc': 1768, 'thực_tế': 3344, 'hề': 1396, 'cầm': 692, 'ý_nghĩ': 4152, 'hướng_dẫn': 1361, 'tiếng': 3387, 'trưa': 3514, 'chạy': 454, 'ổn': 4438, 'đòi_hỏi': 4262, 'cấu_hình': 690, 'ảnh': 4417, 'to': 3411, 'vừa_phải': 3938, 'xấp_xỉ': 4060, 'quyển': 2767, 'thông_thường': 3253, 'mẫu_mã': 2154, 'hợp_ý': 1437, 'tuy_nhiên': 3569, 'vấn_đề': 3897, 'zac': 4113, 'nhấn_mạnh': 2418, 'lâu_lâu': 1848, 'trục_trặc': 3556, 'không_thể': 1573, 'lẫn': 1906, 'loa': 1783, 'phát': 2636, 'hai': 1171, 'nhập': 2429, 'gmail': 1109, 'xác_nhận': 4027, 'tài_khoản': 3589, 'vị_trí': 3922, 'bình_thuận': 194, 'đồng_nai': 4371, 'active': 8, 'gửi': 1164, 'mã': 2090, 'imei': 1459, 'trả_lời': 3526, 'vụ': 3934, 'có_thể': 620, 'chấp_nhận': 463, 'mong': 2039, 'cửa': 747, 'xem_xét': 3982, 'giúp': 1071, 'cảm_ơn': 679, 'cảm_thấy': 676, 'đc': 4166, 'sài_ok': 3037, 'tiếp_cận': 3389, 'phù_hợp': 2664, 'sử_dụng': 3115, 'một_vài': 2193, 'đánh_giá': 4243, 'sản_phẩm_chất_lượng': 3081, 'ổn_định': 4440, 'mượt_mà': 2138, 'thời_gian': 3323, 'điện_tử': 4202, 'giá_trị': 1056, 'đóng_gói': 4266, 'méo': 2096, 'may_mắn': 1993, 'ảnh_hưởng': 4418, 'để_ý': 4342, 'khâu': 1555, 'vận_chuyển': 3903, 'khựng': 1596, 'treo': 3457, 'phần_mềm': 2687, 'vin': 3810, 'lắm': 1912, 'hư': 1356, 'lừa_đảo': 1962, 'đơn': 4285, 'trả_góp': 3524, 'làm_việc': 1833, 'ngân_hàng': 2305, 'thẳng': 3294, 'tốn': 3709, 'phí': 2656, 'thông_báo': 3247, 'đề_nghị': 4336, 'làm_sao': 1832, 'tự_động': 3750, 'check': 344, 'seri': 2954, 'aple': 56, 'bảo': 220, 'bành': 168, 'báo': 174, 'xử_lý': 4081, 'thế_nào': 3302, 'thư_mục': 3260, 'bảo_mật': 223, 'vỏ': 3925, 'pin': 2705, 'mượt': 2137, 'chi_tiết': 348, 'lưu': 1884, 'đơ': 4283, 'tác': 3593, 'cơ_bản': 648, 'vinsmart': 3817, 'tạm': 3664, 'vưa': 3891, 'hôm': 1337, 'mùng': 2118, 'đen': 4168, 'chụp': 513, 'hình': 1325, 'màu': 2066, 'ảo': 4419, 'nhận_dạng': 2427, 'giá_như': 1054, 'ý_kiến': 4151, 'vui': 3851, 'bấm': 228, 'nha': 2337, 'okay': 2566, 'chất_lượng': 466, 'khó_khăn': 1564, 'xong': 3995, 'cạnh_tranh': 663, 'thị_trường': 3313, 'bây_giờ': 182, 'mùa': 2117, 'dịch': 897, 'bực': 290, 'đành': 4230, 'kĩ_lưỡng': 1678, 'có_nhân_viên': 619, 'tranding': 3445, 'nói_chung': 2501, 'nghiệm': 2247, 'xuất': 4012, 'hy_vọng': 1297, 'ban_đêm': 75, 'ban_ngày': 74, 'ánh_sáng': 4130, 'hài_lòng': 1302, 'hẹn': 1392, 'tiêu': 3377, 'xoay': 3993, 'tiền': 3396, 'gấp': 1148, 'dật': 885, 'ram': 2812, 'nhìu': 2388, 'hành': 1316, 'dịch_vụ': 899, 'now': 2476, 'ưng': 4409, 'trung': 3470, 'phiếu': 2619, 'tuyệt_vời': 3575, 'chê': 417, 'phần_cứng': 2684, 'aps': 57, 'samsung': 2924, 'xóa': 4041, 'đi': 4174, 'knox': 1633, 'tính_năng': 3621, 'secure': 2946, 'folder': 981, 'màn': 2061, 'đêm': 4257, 'tụt': 3734, 'giấy': 1087, 'hóa_đơn': 1334, 'ám': 4128, 'vàng': 3855, 'thế_là': 3300, 'thật_sự': 3290, 'lướt': 1888, 'faceok': 947, 'pubg': 2727, 'hao': 1181, 'phim': 2617, 'netflix': 2233, 'tuột': 3581, 'youtube': 4100, 'phê_bình': 2655, 'làm_nên': 1830, 'mẹ': 2166, 'thay': 3165, 'shiper': 2967, 'bóc': 200, 'clip': 535, 'đề_phòng': 4337, 'thoại': 3202, 'cốt': 725, 'tận_hưởng': 3684, 'vậy_mà': 3910, 'đợi': 4393, 'vầy': 3900, 'chả': 456, 'cảm_nhận': 674, 'nóng': 2506, 'nữ': 2553, 'bỏ_túi': 266, 'túi_xách': 3638, 'ngắn': 2323, 'ăn_mặc_dù': 4156, 'khởi_động': 1593, 'giựt': 1105, 'tra_cứu': 3436, 'thông_tin': 3254, 'đông': 4271, 'rùa': 2874, 'bò': 198, 'liên_quân': 1771, 'tn': 3409, 'zalo': 4114, 'or': 2584, 'mes': 2001, 'nút': 2511, 'tăng_âm_lượng': 3643, 'gia_công': 1028, 'kém': 1645, 'liệt': 1776, 'cẩn_thận': 702, 'tặng': 3693, 'kèm': 1642, 'dày_dặn': 843, 'siêu': 2981, 'hãng': 1322, 'tj': 3406, 'hợp_lý': 1435, 'yếu': 4109, 'tai': 3127, 'nge': 2239, 'xem_lại': 3980, 'sài': 3034, 'hoi': 1252, 'nho': 2363, 'thiết_kế': 3183, 'âm_thanh': 4135, 'hỉu': 1399, 'facebok': 945, 'chớp': 508, 'nháy': 2379, 'liên_tục': 1773, 'phím': 2657, 'tròn': 3504, 'trái': 3490, 'thẻ_nhớ': 3297, 'hát': 1319, 'sẵn': 3091, 'uy_tín': 3774, 'hỗ_trợ': 1422, 'pay': 2601, 'note': 2475, 'fe': 956, 'đóng': 4264, 'bọc': 263, 'bụi': 285, 'giải_quyết': 1076, 'đấy': 4303, 'chậm_chạp': 470, 'rắc_rối': 2889, 'ful': 994, 'doi': 810, 'đứng': 4399, 'tạm_thời': 3665, 'sau_này': 2930, 'chậm_trễ': 473, 'tận': 3682, 'định': 4349, 'thẻ': 3296, 'tín_dụng': 3618, 'techcombank': 3143, 'trừ': 3558, 'thanh_toán': 3161, 'bắt': 246, 'chênh_lệch': 421, 'phản_hồi': 2675, 'sửa': 3116, 'phụ_huynh': 2696, 'phân_phối': 2650, 'digiworld': 798, 'xanh': 3974, 'lá': 1841, 'silicon': 2974, 'suốt': 3031, 'ứng_dụng': 4447, 'hiện_tượng': 1225, 'giật': 1091, 'ngoài_ra': 2265, 'chức_năng': 521, 'phanh': 2614, 'cài': 591, 'ngủ': 2333, 'trầy': 3529, 'dao': 764, 'triệu': 3463, 'máy_ảnh': 2089, 'tiết_kiệm': 3394, 'online': 2575, 'yotube': 4095, 'tại_sao': 3663, 'oin': 2564, 'cám_ơn': 599, 'video': 3803, 'vna': 3836, 'tiện_ích': 3405, 'xạc': 4055, 'nhạy': 2413, 'trò': 3502, 'đỉnh': 4346, 'hiện_nay': 1224, 'hệ': 1397, 'điều_hành': 4185, 'android': 41, 'colour': 547, 'os': 2587, 'túm': 3639, 'cảm': 669, 'ơn': 4407, 'mau': 1988, 'khắc_phục': 1581, 'kiểu': 1627, 'hình_ảnh': 1330, 'kỹ': 1708, 'nét': 2499, 'dòng': 858, 'vượt_trội': 3893, 'realme': 2823, 'xiaomi': 3987, 'thú_vị': 3258, 'ngon': 2261, 'bổ': 273, 'có_điều': 621, 'bắt_đầu': 249, 'dầu': 882, 'hiệu': 1228, 'giải_thích': 1077, 'bình_thường': 195, 'chờ': 509, 'bik': 104, 'bền': 257, 'tối': 3706, 'hnay': 1243, 'đốm': 4360, 'trắng': 3533, 'liên_hệ': 1766, 'mail': 1975, 'trời': 3549, 'thử_nghiệm': 3337, 'time': 3365, 'công_suất': 630, 'hang': 1175, 'kiểm': 1619, 'tra': 3435, 'long': 1798, 'cảm_ứng': 681, 'ràng': 2858, 'cua': 577, 'vsmart': 3848, 'vn': 3835, 'se': 2936, 'dat': 767, 'dám': 844, 'viết': 3824, 'nhận_xét': 2428, 'chính_xác': 428, 'khách_quan': 1552, 'khuyến_khích': 1542, 'bàn_tay': 165, 'ngoại_hình': 2268, 'bắt_mắt': 248, 'sang_trọng': 2926, 'đẳng_cấp': 4318, 'hiển_thị': 1220, 'màu_sắc': 2068, 'tươi_tắn': 3647, 'dĩ_nhiên': 866, 'mịn_màng': 2174, 'dừng': 914, 'mức_độ': 2207, 'hd': 1191, 'cực_kỳ': 752, 'khuyết_điểm': 1545, 'hầu_như': 1383, 'ứng': 4446, 'dụng': 912, 'duy_nhất': 833, 'laban': 1718, 'key': 1510, 'driver': 816, 'lúc_nào': 1873, 'tình_trạng': 3612, 'bộ_nhớ': 277, 'giây': 1064, 'chuông': 391, 'đổ': 4377, 'quẹt': 2801, 'từ_chối': 3740, 'dọn_dẹp': 903, 'chục': 512, 'thật_tình': 3291, 'phân': 2645, 'khúc': 1576, 'lựa_chọn': 1964, 'redmi': 2828, 'toàn': 3425, 'suy_nghĩ': 3026, 'cá_nhân': 596, 'đồng_tình': 4374, 'chân_thành': 408, 'bao': 80, 'đề_xuất': 4338, 'khoẻ': 1533, 'wifi': 3962, 'xuất_sắc': 4017, 'tuyệt': 3574, 'giải_trí': 1080, 'mát': 2074, 'tưởng': 3659, 'onscren': 2577, 'phảu': 2680, 'vợ': 3933, 'phụ': 2695, 'kêu': 1653, 'chào': 398, 'xuất_hiện': 4013, 'tắt': 3690, 'mở_màn_hình': 2202, 'xảy': 4059, 'chế_độ': 484, 'mật_khẩu': 2156, 'kindle': 1607, 'màu_sắc_đẹp': 2069, 'đẹp_đẽ': 4329, 'hơpk': 1354, 'song': 3003, 'món': 2108, 'mỹ_phẩm': 2213, 'kĩ': 1676, 'ipad': 1472, 'sơ_sài': 3065, 'bảo_vệ': 225, 'lót': 1864, 'miếng': 2021, 'giấy_báo': 1088, 'vỡ': 3932, 'thông_qua': 3251, 'lalamove': 1723, 'kí_tên': 1659, 'kiểm_chứng': 1620, 'chủ': 514, 'lỏng_lẻo': 1939, 'lỡ': 1955, 'nhầm': 2423, 'công_cụ': 624, 'thao_tác': 3162, 'box': 137, 'phụ_kiện': 2697, 'nhẹ_tay': 2444, 'dáng': 846, 'độ': 4382, 'hoàn_thiện': 1267, 'ngang_ngửa': 2238, 'trải': 3527, 'vingroup': 3814, 'tùy_biến': 3635, 'ức_chế': 4445, 'nâng': 2491, 'vos': 3845, 'sóng': 3054, 'kỳ_vọng': 1707, 'sim': 2976, 'vietel': 3807, 'vinaphone': 3812, 'trung_tâm': 3476, 'sài_gòn': 3035, 'vạch': 3894, 'kết_thúc': 1698, 'cuộc_gọi': 585, 'đột_ngột': 4388, 'nửa_đêm': 2552, 'giật_mình': 1093, 'đoán': 4210, 'skype': 2986, 'led': 1740, 'chứng_tỏ': 524, 'đèn': 4252, 'seting': 2960, 'chỗ': 506, 'chỉnh': 492, 'gốc': 1157, 'xót': 4046, 'đặc': 4319, 'chiều': 361, 'nhìn_chung': 2387, 'trãi': 3496, 'traiding': 3442, 'chay': 342, 'kiện': 1630, 'đặt_hàng': 4325, 'website': 3951, 'hợp': 1433, 'galaxy': 998, 'phone': 2623, 'tất_cả': 3674, 'pop': 2717, 'up': 3764, 'khó_chịu': 1562, 'thoải_mái': 3204, 'bin': 106, 'traiu': 3443, 'môm': 2113, 'cn': 540, 'tikinow': 3358, 'đỏ': 4354, 'y_nguyên': 4085, 'góc': 1138, 'vết': 3917, 'xước': 4053, 'quá_trình': 2772, 'sản_xuất': 3083, 'lớp': 1952, 'phủ': 2701, 'bóng': 202, 'trơn': 3512, 'yêu_cầu': 4107, 'tổng_đài': 3722, 'có_nghĩa_là': 618, 'người_thân': 2314, 'khả_năng': 1578, 'thành_ra': 3220, 'tikinextwek': 3357, 'túi': 3636, 'thông': 3246, 'tinh': 3370, 'nhật': 2431, 'mỹ': 2212, 'infor': 1464, 'bỡ_ngỡ': 283, 'dễ_thương': 894, 'lịch_thiệp': 1934, 'định_vị': 4351, 'trường': 3520, 'set': 2959, 'cập_nhật': 707, 'vệ_tinh': 3919, 'chủ_yếu': 517, 'bé': 184, 'đón': 4263, 'trễ': 3543, 'lo': 1780, 'ấn': 4421, 'linh_tinh': 1756, 'hoá_đơn': 1272, 'vat': 3786, 'tải': 3670, 'tương_đối': 3657, 'ông_bà': 4146, 'may_ra': 1994, 'học_sinh': 1404, 'sinh_viên': 2979, 'nam_giới': 2217, 'mơi': 2131, 'vuốt': 3854, 'hàng_mã': 1311, 'bàn_phím': 164, 'bluetoth': 128, 'laptop': 1732, 'chuẩn': 392, 'cụ_thể': 736, 'tì': 3607, 'cấn': 687, 'thành_công': 3217, 'nhợt_nhạt': 2451, 'gọn': 1154, 'mỏng': 2178, 'nhất_là': 2421, 'mesenger': 2003, 'duo': 830, 'quản_lý': 2792, 'đăng_ký': 4281, 'dự_kiến': 918, 'đáp_ứng': 4246, 'nhu_cầu': 2366, 'web': 3950, 'dung_lượng': 829, 'rinh': 2846, 'hệ_thống': 1398, 'tạp_đc': 3668, 'hôm_nay': 1339, 'mbank': 1996, 'trợ_giúp': 3554, 'suất': 3029, 'xứ': 4074, 'quốc': 2803, 'xao': 3975, 'sắc': 3088, 'săc': 3059, 'rõ_ràng': 2872, 'chia': 349, 'đôi': 4269, 'đồng_tiền': 4373, 'tam': 3132, 'hả': 1376, 'lớn_tuổi': 1951, 'tin_tức': 3369, 'nokia': 2470, 'giảm_giá': 1084, 'vô_địch': 3882, 'thằng': 3293, 'cháu': 403, 'nghịch': 2257, 'mẹo': 2167, 'ghê_thiệt': 1024, 'opt': 2581, 'nhắn_tin': 2440, 'nhắn': 2438, 'sàn': 3039, 'ưu_điểm': 4413, 'pin_khỏe': 2706, 'thắc_mắc': 3292, 'doraemon': 813, 'cộng': 731, 'xu': 4002, 'tím': 3616, 'tp': 3429, 'hồ': 1414, 'chí': 423, 'truy': 3480, 'tiện': 3402, 'hẳn': 1389, 'complain': 551, 'vui_vẻ': 3853, 'nổi': 2538, 'buộc': 154, 'liệu': 1777, 'đứt': 4401, 'thông_số': 3252, 'kích_thước': 1665, 'dày': 842, 'zin': 4119, 'cửa_hàng': 748, 'tâm': 3598, 'hàng_xách': 1314, 'xin_lỗi': 3988, 'mạng': 2142, 'tmđt': 3408, 'nâng_cấp': 2492, 'bóc_tem': 201, 'bữa': 287, 'tui': 3566, 'trang': 3446, 'đồ': 4362, 'dổm': 906, 'zonobowr': 4123, 'chính_thức': 427, 'bit': 109, 'lâu_dài': 1846, 'trc': 3455, 'tiên': 3375, 'quảng_cáo': 2793, 'hiện_tại': 1226, 'vui_lòng': 3852, 'phương_án': 2670, 'kích_hoạt_vậy': 1664, 'bao_giờ': 83, 'chờ_đợi': 510, 'lack': 1720, 'phake': 2611, 'kép': 1650, 'việt_nam': 3829, 'thua': 3210, 'củ': 739, 'buồn': 151, 'hoạ': 1274, 'restart': 2840, 'moa': 2031, 'cỡ': 734, 'rè': 2868, 'dx': 837, 'mờ': 2199, 'sọc': 3094, 'lỏng': 1938, 'chuẩn_bị': 393, 'sụt': 3109, 'dt': 819, 'đừng': 4403, 'dại': 875, 'kết': 1692, 'iphone': 1474, 'siêu_khỏe': 2982, 'chúc': 440, 'vượng': 3892, 'đẹp_mắt': 4327, 'ra_mắt': 2811, 'hiện': 1221, 'mobifone': 2032, 'dự_tính': 920, 'tương_tác': 3653, 'bật': 243, 'im': 1455, 'nhấn': 2417, 'opo': 2580, 'thỉnh_thoảng': 3311, 'văng': 3889, 'home': 1254, 'thực_trạng': 3342, 'file': 966, 'tiện_lợi': 3404, 'giá_cả': 1053, 'đắt': 4317, 'phá_sản': 2635, 'cơ_hội': 649, 'giáo': 1062, 'kinh_khủng': 1610, 'nhah': 2340, 'chua': 379, 'ung': 3759, 'dam': 757, 'nguoi': 2275, 'ben': 99, 'kia': 1598, 'on': 2571, 've_nhu': 3795, 'bas': 90, 'nhieu': 2353, 'chac': 332, 'la': 1714, 'micro': 2009, 'bat': 92, 'ngoai': 2259, 'liwu': 1764, 'đoi': 4206, 'vay': 3788, 'mộng': 2187, 'sợ': 3106, 'ngoại': 2267, 'quan': 2745, 'ngu_ngốc': 2274, 'thể': 3305, 'kết_nối': 1695, 'ch': 330, 'play': 2712, 'wf': 3956, 'bình': 191, 'chính_sách': 426, 'thủ_tục': 3332, 'gọn_nhẹ': 1156, 'chữ': 528, 'nẽo': 2531, 'de': 773, 'bao_lâu': 85, 'hue': 1288, 'lỗ': 1943, 'cố_ý': 722, 'đâm': 4248, 'màng': 2065, 'như_vậy': 2404, 'chút': 443, 'đg': 4173, 'bận': 242, 'bái': 170, 'mất_công': 2145, 'cv': 587, 'gợi_ý': 1163, 'rưỡi': 2882, 'nhạc': 2410, 'phê': 2654, 'ngang': 2237, 'nhược_điểm': 2408, 'khối_lượng': 1587, 'máy_nặng': 2085, 'thái_độ': 3223, 'phục_vụ': 2700, 'đth': 4213, 'khóa': 1566, 'sđt': 3061, 'quên': 2782, 'update': 3765, 'đương_nhiên': 4292, 'ghét': 1021, 'cộc_cằn': 730, 'khui': 1536, 'kịp': 1703, 'xe': 3979, 'hộp_thư': 1427, 'quý_khách': 2785, 'tiếp_tục': 3393, 'buồn_cười': 152, 'hết_sức': 1393, 'ban_đầu': 76, 'vẻ': 3913, 'vô_cùng': 3875, 'đáng_lẽ': 4238, 'nha_ban': 2338, 'go': 1110, 'va': 3776, 'het': 1202, 'hôm_qua': 1341, 'chủ_nhật': 515, 'tỉnh_lẻ': 3700, 'sách': 3040, 'lắc': 1911, 'nhấc': 2416, 'dữ_liệu': 916, 'động': 4385, 'nhảy': 2414, 'ngu': 2273, 'điện_thoại_lỗi': 4196, 'mận': 2155, 'hồng': 1419, 'đồng': 4367, 'thế_mà': 3301, 'tìm_kiếm': 3609, 'cài_đặt': 592, 'hoạt_động': 1276, 'tín_hiệu': 3619, 'chập_chờn': 474, 'số_lượng': 3095, 'bao_bì': 81, 'đính': 4260, 'giới': 1098, 'di': 786, 'tương_phản_thua': 3651, 'tab': 3125, 'gogle': 1112, 'nốt': 2535, 'phút': 2667, 'chừng': 526, 'hihihihi': 1215, 'xíu': 4040, 'tổng_thể': 3721, 'bịt': 261, 'dự_phòng': 919, 'nhở': 2449, 'hổ': 1420, 'trợ': 3553, 'làm_ăn': 1834, 'ngày_càng': 2295, 'lên_đèn': 1857, 'hoài': 1263, 'khen': 1520, 'nhiu': 2355, 'dè': 853, 'rung': 2855, 'bất_kì': 231, 'thay_đổi': 3168, 'vc': 3789, 'hàng_hoá': 1306, 'suông': 3028, 'tiêu_dùng': 3380, 'cal': 298, 'nói_chuyện': 2502, 'đập_hộp': 4315, 'hình_thức': 1328, 'headphone': 1195, 'vật': 3907, 'đáng_giá': 4235, 'hoàn_hảo': 1266, 'phong_cách': 2626, 'phân_giải': 2648, 'xưa': 4050, 'games': 1000, 'xứng_đáng': 4076, 'cục': 737, 'gạch': 1146, 'sơ': 3062, 'chống': 500, 'xốc': 4071, 'tuộc': 3580, 'dốc': 904, 'tẹo': 3694, 'nhanh_nhạy': 2345, 'khẩu_độ': 1580, 'điều_chỉnh': 4184, 'được_cái': 4295, 'tương_phản': 3650, 'nha_mn': 2339, 'niêm_phong': 2465, 'đuện': 4218, 'tikitrading': 3360, 'gia': 1026, 'mia': 2007, 'that': 3164, 've_gia': 3794, 'chết': 485, 'gprs': 1121, 'công_nghệ': 626, 'sai_số': 2918, 'km': 1632, 'suport': 3023, 'chuyên_nghiệp': 386, 'tự_nhiên': 3747, 'sập': 3087, 'biết_mấy': 115, 'ôi': 4142, 'đôi_khi': 4270, 'lác': 1842, 'đầu_tiên': 4308, 'cận': 705, 'thận': 3287, 'an_tâm': 38, 'hài': 1301, 'nhanh_chóng': 2343, 'fpt': 986, 'bảo_hành_chính': 222, 'san': 2925, 'pham': 2612, 'giong': 1046, 'mo': 2030, 'ta': 3124, 'dong': 812, 'goi': 1113, 'can': 306, 'than': 3155, 'êm': 4139, 'máy_tính': 2087, 'có_lẽ': 617, 'nhà_sản': 2373, 'quan_trọng': 2747, 'calibre': 299, 'kết_hợp': 1693, 'hiệu_quả': 1231, 'thư_viện': 3261, 'khổng_lồ': 1590, 'bất_cứ': 230, 'ham': 1174, 'choáng': 372, 'quá_tải': 2773, 'đầu_ra': 4307, 'out': 2590, 'put': 2731, 'đi_sâu': 4176, 'tiềm_thức': 3395, 'thiết_bị': 3182, 'gỡ': 1162, 'amazon': 31, 'vòng': 3870, 'đăng_nhập': 4282, 'search': 2941, 'giao_diện': 1037, 'kéo': 1647, 'help': 1199, 'ned': 2229, 'more': 2043, 'contact': 562, 'us': 3768, 'devices': 784, 'xuất_hiện_hình': 4014, 'mục': 2203, 'tel': 3145, 'me': 1997, 'general': 1009, 'questions': 2755, 'cọn': 718, 'ofical': 2562, 'ofers': 2561, 'talk': 3131, 'someone': 3002, 'chat': 341, 'chát': 402, 'mẫu': 2153, 'serial': 2955, 'number': 2479, 'đoạn': 4211, 'helo': 1198, 'you': 4096, 'with': 3966, 'special': 3009, 'ofer': 2560, 'of': 2559, 'paperwhite': 2599, 'are': 59, 'conected': 560, 'savitri': 2932, 'from': 991, 'com': 548, 'my': 2059, 'name': 2220, 'is': 1477, 'here': 1201, 'today': 3419, 'sure': 3024, 'version': 3798, 'unsubcribe': 3762, 'vietnam': 3809, 'could': 565, 'please': 2713, 'the': 3169, 'device': 783, 'have': 1186, 'sucesfuly': 3019, 'canceled': 309, 'ads': 15, 'your': 4097, 'and': 39, 'also': 28, 'waived': 3944, 'extra': 943, 'charges': 340, 'for': 984, 'removal': 2834, 'as': 60, 'an': 36, 'exception': 939, 'very': 3799, 'valuable': 3782, 'customer': 583, 'it': 1480, 'wil': 3964, 'take': 3130, 'hours': 1262, 'reflect': 2829, 'change': 337, 'much': 2054, 're': 2820, 'welcome': 3953, 'best': 100, 'wishes': 3965, 'apart': 54, 'this': 3181, 'would': 3970, 'there': 3172, 'be': 95, 'anything': 53, 'else': 928, 'asist': 61, 'chosing': 371, 'great': 1123, 'day': 772, 'stay': 3013, 'safe': 2915, 'healthy': 1196, 'godbye': 1111, 'thân_thiện': 3232, 'ưu': 4411, 'xinh': 3989, 'nhược': 2407, 'internet': 1471, 'bạc': 213, 'vừa_ý': 3940, 'đơn_giản': 4286, 'lãi_suất': 1852, 'mướt': 2135, 'soft': 2998, 'reset': 2839, 'thời_hạn': 3324, 'mác': 2073, 'nhập_khẩu': 2430, 'htps': 1284, 'ipadshop': 1473, 'touch': 3424, 'id': 1452, 'email': 930, 'bắt_đầu_từ': 250, 'tình_hình': 3611, 'rập_khuôn': 2886, 'liên_quan': 1770, 'hồi_âm': 1417, 'y_hệt': 4084, 'case': 321, 'ghi_nhận': 1015, 'sửa_chữa': 3117, 'ùi': 4148, 'đăng': 4279, 'ký': 1672, 'bất_an': 229, 'chạm': 451, 'nổ': 2537, 'mất_mạng': 2148, 'như_chơi': 2397, 'nguy_hiểm': 2279, 'cân_nhắc': 607, 'đặc_biệt': 4320, 'tật': 3689, 'hàng_hóa': 1307, 'nguyên_vẹn': 2286, 'sai_lệch': 2917, 'chip': 355, 'helio': 1197, 'ghi': 1013, 'exynos': 944, 'chất': 464, 'năng': 2514, 'truyện': 3484, 'vô': 3874, 'hết_vậy': 1395, 'trạng_thái': 3523, 'đag': 4162, 'đế': 4330, 'mp': 2048, 'nghẻ': 2254, 'ngòn': 2306, 'chạy_ngầm': 455, 'con_cháu': 552, 'xấu': 4061, 'fre': 988, 'fire': 972, 'cũg': 646, 'trog': 3466, 'camara': 302, 'trôi': 3505, 'kho': 1524, 'mini': 2016, 'kich': 1599, 'hoat': 1250, 'dùm': 863, 'hàn_quốc': 1304, 'ma': 1966, 'nv': 2484, 'nguyen': 2280, 'thi': 3174, 'kiti': 1613, 'xét': 4036, 'muộn': 2058, 'khiếu_nại': 1523, 'sắp_xếp': 3090, 'phẫm': 2690, 'wá': 3972, 'mic': 2008, 'chăm_sóc': 446, 'yokara': 4094, 'đàm_thoại': 4226, 'lắp': 1913, 'hảng': 1378, 'thường_xuyên': 3266, 'vọng': 3924, 'giả': 1074, 'yêu': 4106, 'thể_nào': 3307, 'thoát': 3200, 'luon': 1817, 'khoá': 1529, 'mã_số': 2091, 'dấu': 879, 'thời_tiết': 3326, 'gởi': 1161, 'mau_chóng': 1989, 'khay': 1518, 'kiểu_dáng': 1628, 'lo_lắng': 1781, 'vd': 3791, 'nhượng': 2409, 'tàm_tạm': 3591, 'thây': 3235, 'phóng': 2659, 'sống': 3097, 'chap': 338, 'chờn': 511, 'gia_đình': 1030, 'căng': 641, 'modem': 2037, 'trở': 3550, 'cản': 683, 'cạnh': 662, 'mô_tả': 2110, 'bực_mình': 292, 'vid': 3802, 'bung': 146, 'trading': 3440, 'nỡ': 2548, 'sốc': 3096, 'thiện_cảm': 3189, 'chấm': 459, 'ruồi': 2857, 'anker': 47, 'download': 815, 'kì': 1654, 'sáng_suốt': 3044, 'đảm_bảo': 4301, 'tien': 3351, 'cần_thiết': 697, 'xám': 4032, 'blue': 127, 'đep': 4172, 'dễ_dàng': 893, 'kiếm': 1617, 'tot': 3423, 'am': 29, 'luong': 1818, 'cu': 576, 'ti': 3346, 'len': 1743, 'xuong': 4010, 'te': 3141, 'phan': 2613, 'giai': 1031, 'kem': 1505, 'du': 821, 'luot': 1819, 'cham': 334, 'noi': 2469, 'loạn': 1804, 'cung_cấp': 580, 'khuyến_mãi': 1543, 'đeo': 4171, 'ủa_vậy': 4441, 'tức_là': 3739, 'quà': 2768, 'rate': 2819, 'trông': 3506, 'máy_bth': 2077, 'dở': 908, 'xộc': 4073, 'xệt': 4067, 'méo_mó': 2097, 'chân': 406, 'méo_xẹo': 2099, 'chọc': 497, 'nhiệt_tình': 2361, 'mkids': 2028, 'danh_sách': 763, 'túi_tiền': 3637, 'dù_sao': 861, 'hạn_chế': 1370, 'nội_dung': 2543, 'hjgfhklkikjkik': 1236, 'kim': 1603, 'út': 4150, 'lương': 1887, 'chiếm': 358, 'sử': 3114, 'hotline': 1260, 'trình_bày': 3500, 'đội': 4384, 'ghé': 1019, 'tin_tưởng': 3368, 'vivu': 3822, 'khẳng_định': 1583, 'dây_cáp': 849, 'lạ': 1895, 'thò': 3240, 'thụt': 3328, 'chuỗi': 394, 'ký_tự': 1675, 'chán': 399, 'hoàn': 1264, 'đổi_mới': 4379, 'mà_lại': 2060, 'làm_quà': 1831, 'tràn_trề': 3487, 'nhất_định': 2422, 'bỗng_dưng': 276, 'gift': 1043, 'đinh_ninh': 4179, 'mặc_định': 2163, 'item': 1482, 'di_động': 790, 'lành': 1840, 'phép': 2653, 'chắc_ăn': 477, 'cam_kết': 300, 'đồng_kiểm': 4370, 'tùi': 3633, 'luôn_luôn': 1820, 'load': 1785, 'hoạt': 1275, 'dộng': 907, 'không_kích_hoạt': 1571, 'giám_sát': 1058, 'khuôn_mặt': 1549, 'khủng': 1594, 'phát_hiện': 2637, 'hướng': 1360, 'gõ': 1142, 'khôi_phục': 1569, 'ăn_thua': 4157, 'hỏi_thăm': 1409, 'phát_âm_thanh': 2643, 'mò_mẫm': 2106, 'âm': 4133, 'lặp_vọng': 1920, 'ae': 16, 'model': 2036, 'chấu': 468, 'lệch': 1929, 'múi_giờ': 2121, 'hạn': 1369, 'new': 2235, 'nhận_diện': 2426, 'macbok': 1969, 'air': 22, 'lap': 1730, 'hỗ_trợ_giúp': 1423, 'ki': 1597, 'thích_hợp': 3238, 'thẩm_định': 3282, 'vãn': 3861, 'điên_tiết': 4181, 'index': 1463, 'niệm': 2467, 'thực_sự': 3341, 'lý_do': 1875, 'ngàn': 2293, 'bình_luận': 193, 'click': 534, 'quyết': 2762, 'ai_ngờ': 21, 'mầu': 2151, 'chon': 369, 'thành': 3216, 'nắm': 2524, 'phơi': 2668, 'selfi': 2948, 'gí': 1136, 'trị': 3544, 'tốc_độ': 3705, 'ròi': 2870, 'háo_hức': 1318, 'cảm_xúc': 678, 'tôn_trọng': 3629, 'trưng_bày': 3515, 'thế_giới': 3298, 'xung': 4006, 'quang': 2749, 'âm_lượng': 4134, 'volum': 3842, 'cuối_cùng': 584, 'cơ_mà': 650, 'chiến_trận': 360, 'mong_đợi': 2042, 'bê_trễ': 187, 'thời_điểm': 3327, 'hủy': 1439, 'tự_hủy': 3746, 'nguyên_nhân': 2283, 'giơ': 1073, 'yeu': 4092, 'cau': 323, 'ho': 1245, 'tro': 3465, 'lai': 1722, 'mai': 1974, 'lam': 1724, 'viec': 3804, 'lien': 1749, 'loi': 1795, 'gloft': 1108, 'kt': 1638, 'hic': 1209, 'social': 2996, 'xs': 3999, 'max': 1990, 'đặc_sắc': 4322, 'xsmax': 4000, 'đa_phần': 4160, 'công_nhân': 627, 'thu_nhập': 3209, 'nam': 2216, 'sơ_sơ': 3066, 'oder': 2558, 'tg': 3150, 'bước_đầu': 212, 'chỉ_tội': 491, 'kỹ_tính': 1713, 'cà': 589, 'lịch_sự': 1933, 'vật_giá_trị': 3908, 'đong': 4207, 'mãi': 2093, 'mk': 2026, 'niêm': 2464, 'chắc_chắn': 475, 'lăm': 1878, 'phục': 2699, 'trangding': 3449, 'công_ty': 631, 'nội_bộ': 2542, 'phân_bì': 2646, 'anh_chị_em': 45, 'rụp': 2907, 'rôi': 2871, 'hữu_ích': 1447, 'quen': 2754, 'lật': 1910, 'iboks': 1449, 'upgrade': 3767, 'oasis': 2557, 'coment': 550, 'giải_đáp': 1082, 'bắc': 244, 'gio': 1044, 'ké': 1644, 'xút': 4048, 'mún': 2122, 'như_ý': 2405, 'rẽ': 2893, 'lia': 1747, 'giấy_tờ': 1089, 'momo': 2038, 'một_ít': 2194, 'nửa': 2551, 'khuyến_cáo': 1541, 'adapter': 11, 'antam': 48, 'kỹ_càng': 1709, 'livestream': 1763, 'kết_nối_mạng': 1696, 'live': 1762, 'pro': 2723, 'trò_chơi': 3503, 'thiếu_phụ_kiện': 3187, 'cmnd': 538, 'giở_trò': 1101, 'chân_chính': 407, 'đàng_hoàng': 4229, 'bát_nháo': 178, 'kachdb': 1499, 'fnakcndbsjnabxhchd': 979, 'mặc_dầu': 2162, 'gàn': 1129, 'hỏi_hóa_đơn': 1408, 'sát': 3046, 'miệng': 2025, 'rời': 2905, 'hở': 1432, 'dây_chuyền': 848, 'ban_đầu_máy': 77, 'quán': 2778, 'tính_chất': 3620, 'chư': 447, 'phong': 2625, 'lung_linh': 1814, 'product': 2724, 'nguyên_bản': 2282, 'hồi_đáp': 1418, 'khuyên': 1539, 'tiệm': 3401, 'hóng': 1335, 'cổ': 727, 'smartphone': 2988, 'đai': 4163, 'thể_hiện': 3306, 'tràn': 3486, 'man': 1981, 'thất_vong': 3274, 'di_chuyển': 788, 'bất_tiện': 236, 'vặt': 3911, 'tùm_lum': 3634, 'tương_đương': 3656, 'hl': 1239, 'wife': 3961, 'cực_kì': 751, 'vô_dc': 3876, 'rom': 2851, 'sam': 2922, 'sung': 3021, 'hinh': 1216, 'kịt': 1705, 'imel': 1460, 'người_yêu': 2315, 'hiệu_năng': 1230, 'plus': 2714, 'đường': 4293, 'antutubenchmark': 51, 'đến_nỗi': 4333, 'nằm': 2528, 'đa_nhiệm': 4159, 'to_nhỏ': 3413, 'thất_thường': 3273, 'malaysia': 1978, 'vận': 3902, 'mỏi_mắt': 2177, 'fm': 978, 'fptshop': 987, 'này_nọ': 2488, 'lén': 1854, 'prime': 2721, 'chỉ_số': 489, 'du_lịch': 823, 'dã': 850, 'rơi': 2878, 'vội': 3927, 'ôi_thôi': 4143, 'tả': 3669, 'bỏ_xó': 267, 'thiết_nghĩ': 3185, 'vì_sao': 3864, 'liền': 1774, 'kết_quả': 1697, 'chỉnh_sửa_sai': 494, 'niềm': 2466, 'trở_lại': 3551, 'top': 3422, 'áp': 4131, 'pe': 2604, 'que': 2753, 'con_gái': 554, 'nặg': 2529, 'vớt': 3930, 'hổng': 1421, 'chẳng_lẽ': 479, 'tu': 3563, 'nhien': 2351, 'cam_ung': 301, 'hjk': 1238, 'microphone': 2010, 'nội_thành': 2544, 'tphcm': 3430, 'tên_lửa': 3605, 'shock': 2968, 'xác_suất': 4028, 'thế_hệ': 3299, 'vãi': 3860, 'nồi': 2536, 'ime': 1458, 'thẩm_mỹ': 3280, 'chảnh': 457, 'cứng_cáp': 742, 'hoàn_thành': 1268, 'tan': 3134, 'biến': 113, 'chăm': 445, 'sóc': 3053, 'nán': 2489, 'hay_là': 1188, 'bản_chất': 216, 'nuốt': 2482, 'địa_chỉ_bảo_hành': 4348, 'quá_bán': 2770, 'máy_khách': 2081, 'kĩhs': 1680, 'kì_vậy': 1655, 'ky': 1641, 'cang': 310, 'rat': 2818, 'bàn': 161, 'ổn_áp': 4439, 'lan': 1725, 'truoc': 3478, 'gan': 1002, 'voi': 3841, 'khac': 1513, 'diem': 794, 'ty': 3585, 'mat': 1986, 'vach': 3779, 'hsbc': 1281, 'xịn': 4069, 'thông_minh': 3250, 'huawei': 1287, 'bù': 207, 'super': 3022, 'amorled': 34, 'thời_lượng': 3325, 'scren': 2934, 'siêu_âm': 2984, 'không_thể_nào': 1574, 'bao_xấu': 88, 'xai': 3973, 'gian': 1034, 'xác_định': 4030, 'liên_kết': 1767, 'cẩu_thả': 704, 'sóng_sánh': 3056, 'tậm_tịt': 3681, 'kế_thừa': 1688, 'selfies': 2950, 'sở_hữu': 3105, 'cụm': 738, 'lần_lượt': 1905, 'làm_đẹp': 1837, 'xóa_phông': 4044, 'phải_chăng': 2672, 'wes': 3955, 'nbh': 2225, 'tracking': 3438, 'lazada': 1736, 'nhg': 2350, 'bg': 101, 'lớn_mạnh': 1950, 'hi': 1206, 'chênh': 420, 'ngắt': 2324, 'mệt': 2171, 'méo_mặt': 2098, 'selfie': 2949, 'cầm_hơi': 695, 'rành': 2859, 'máy_móc': 2083, 'ngô_nghê': 2309, 'hihihi': 1214, 'ngốn': 2330, 'cho_dù': 365, 'ngầm': 2321, 'miêu_tả': 2020, 'su': 3017, 'cong': 561, 'bảo_đảm': 226, 'auth': 66, 'pen': 2605, 'bốn': 272, 'đen_thui': 4170, 'như_thường': 2399, 'nut': 2481, 'lịch_sử': 1932, 'ngà': 2292, 'giùm': 1070, 'quyết_định': 2764, 'mất_lòng': 2147, 'xóa_ap': 4042, 'đột_nhiên': 4389, 'đứng_lượng': 4400, 'thị': 3312, 'nguổn': 2290, 'j_vậy': 1485, 'sơ_bộ': 3063, 'ghi_âm': 1016, 'hình_vẽ': 1329, 'xử_lí': 4080, 'camare': 303, 'báo_hủy': 176, 'bi': 102, 'ne': 2228, 'gui': 1128, 'ranh': 2816, 'oi': 2563, 'nhoe_nhoét': 2364, 'nhét': 2385, 'tin_dùng': 3366, 'trực_tiếp': 3561, 'điện_thoại_viên': 4200, 'suốnt': 3030, 'kiệm': 1629, 'tuyến': 3571, 'va_đập': 3778, 'tr': 3433, 'đem': 4167, 'bữa_nay': 288, 'đối_với': 4358, 'khiếu': 1522, 'hải': 1377, 'phòng': 2658, 'cac': 295, 'ban': 73, 'nen': 2231, 'ghép': 1020, 'bọ': 262, 'nè': 2495, 'diện': 806, 'tét': 3603, 'mạg': 2141, 'tồi_tệ': 3712, 'xuốg': 4019, 'life': 1750, 'mắt': 2159, 'ngầu': 2322, 'thời': 3322, 'đập': 4314, 'mang_tiếng': 1982, 'sờ': 3103, 'phôn': 2660, 'trai': 3441, 'nhậy': 2433, 'khuân': 1546, 'mobile': 2033, 'legends': 1741, 'tập': 3687, 'phiên_bản': 2618, 'sản_phẩm_giá': 3082, 'unlimited': 3760, 'bể': 258, 'mầu_sắc': 2152, 'tươi': 3646, 'bảng': 219, 'som': 3001, 'thi_k': 3175, 'tháo': 3226, 'dựng': 924, 'fake': 951, 'một_số': 2191, 'lem_nhem': 1742, 'thanh_bình': 3159, 'đè': 4251, 'sài_êm': 3038, 'keng': 1506, 'lóng_lánh': 1863, 'phản_quang': 2676, 'black': 125, 'friday': 990, 'chèn': 413, 'qua_lại': 2742, 'rớt': 2903, 'tran': 3444, 'quốc_vậy': 2806, 'đặc_sản': 4321, 'cẩm': 700, 'đào': 4231, 'nuoc': 2480, 'nao': 2223, 'xuat': 4004, 'ro': 2848, 'neu': 2234, 'bo': 132, 'duoc': 831, 'nhòa': 2390, 'thỏa_đáng': 3318, 'bổng': 275, 'dưng': 871, 'chớm': 507, 'type': 3586, 'chuyển_đổi': 388, 'giá_thành': 1055, 'đái': 4234, 'đóng_cửa': 4265, 'xác': 4025, 'th': 3152, 'thực': 3338, 'thu_hút': 3207, 'cẩn': 701, 'thẩn': 3283, 'mỗi_tội': 2186, 'nilong': 2459, 'mưa': 2132, 'tóm': 3627, 'rách': 2862, 'ms': 2049, 'nhân': 2380, 'màu_da': 2067, 'nhạt': 2412, 'xạm': 4056, 'xỉn': 4068, 'istore': 1478, 'quốc_tế': 2805, 'ưng_ý': 4410, 'rút': 2877, 'kinh_nghiệm': 1611, 'vớ': 3928, 'sâu': 3049, 'trêm': 3497, 'cămsau': 639, 'khuyến_mại': 1544, 'mong_muốn': 2041, 'mở_hàng': 2201, 'cpu': 570, 'hoang_mang': 1248, 'bthg': 140, 'rao': 2817, 'mật_mã': 2157, 'cháy': 404, 'sản_xuất_hành': 3084, 'loạt': 1806, 'mong_chờ': 2040, 'anti': 49, 'trang_web': 3448, 'đá': 4233, 'second': 2945, 'tích_cực': 3615, 'loá': 1803, 'soi': 2999, 'ống_kính': 4434, 'lặt_vặt': 1922, 'no': 2468, 'van_com': 3784, 'ẩn': 4425, 'giúp_đỡ': 1072, 'phổ_thông': 2694, 'lệnh': 1930, 'ngoại_trừ': 2270, 'lcd': 1738, 'phương_thức': 2669, 'sms': 2989, 'tồn_tại': 3713, 'care': 319, 'net': 2232, 'hotro': 1261, 'xuất_hóa': 4015, 'kiểm_tra_vấn_đề': 1625, 'giup': 1047, 'kẹt': 1683, 'công_việc': 634, 'bthuong': 141, 'hoàn_toàn': 1269, 'kéo_dài': 1648, 'thèm': 3236, 'mặt_hàng': 2165, 'con_trai': 557, 'dịp': 900, 'khích_lệ': 1559, 'hứa': 1441, 'làm_công': 1828, 'liên_tiếp': 1772, 'môi_trường': 2112, 'shope': 2969, 'trụ': 3555, 'vững': 3941, 'yếu_kém': 4110, 'năng_lực': 2515, 'sự_thật': 3122, 'thông_cảm': 3249, 'lm': 1779, 'nhỡ': 2450, 'chuyển_khoản': 387, 'cố_định': 723, 'nhòe': 2391, 'hiển': 1218, 'thay_vì': 3167, 'sac': 2912, 'doc': 807, 'epud': 934, 'lq': 1808, 'tờ': 3732, 'smart': 2987, 'dư_dả': 870, 'tài_chính': 3588, 'khỏng': 1586, 'lổi': 1942, 'siêu_tốc': 2983, 'rùi': 2875, 'vòng_vòng': 3873, 'khắp': 1582, 'tệ_hại': 3697, 'mặc': 2160, 'xử': 4078, 'tiếc': 3383, 'bấy_nhiêu': 238, 'rác': 2861, 'hôm_kia': 1338, 'quãng': 2779, 'cáo': 602, 'usđể': 3772, 'gen': 1008, 'want': 3946, 'remove': 2835, 'divice': 804, 'hlep': 1240, 'chép': 416, 'onedrive': 2573, 'authkey': 67, 'cid': 531, 'parid': 2600, 'rot': 2853, 'action': 6, 'locate': 1788, 'voucher': 3847, 'ịhone': 4431, 'citibank': 532, 'kê': 1651, 'tiếp_nhận': 3391, 'cho_nên': 366, 'hoảng': 1277, 'chê_bai': 418, 'ký_hiệu': 1673, 'tick': 3348, 'rành_mạch': 2860, 'nasir': 2224, 'lanza': 1728, 'zhang': 4117, 'one': 2572, 'zila': 4118, 'quick': 2756, 'yeah': 4089, 'vô_dụng': 3878, 'trực_tuyến': 3562, 'thíc': 3237, 'ấm': 4420, 'tản': 3671, 'chất_lỏng': 467, 'ips': 1476, 'đục': 4395, 'thâm': 3228, 'quanh': 2751, 'cằm': 714, 'trung_bình': 3471, 'nổi_bật': 2539, 'lười': 1891, 'quất': 2796, 'pm': 2715, 'thô': 3242, 'đứt_ruột': 4402, 'đên': 4258, 'bố_mẹ': 269, 'dug': 825, 'dog': 809, 'hag': 1168, 'unbox': 3757, 'options': 2583, 'sự_cố': 3120, 'lát': 1843, 'điên': 4180, 'ping': 2707, 'only': 2576, 'thử_hỏi': 3336, 'cố_gắng': 720, 'hơn_nữa': 1353, 'lăng': 1880, 'tia': 3347, 'tương_tự': 3654, 'khả_quan': 1579, 'tổ': 3715, 'joy': 1496, 'gắn': 1150, 'đẩy': 4312, 'vínmart': 3869, 'dĩ': 865, 'dương': 873, 'thủ': 3329, 'đức': 4398, 'lê': 1855, 'cột': 733, 'đét': 4255, 'hận': 1385, 'bong': 136, 'long_lanh': 1799, 'đài': 4224, 'loan': 1786, 'khác_biệt': 1550, 'mươtj': 2134, 'ngờ': 2332, 'flagship': 975, 'có_giá': 616, 'sảm': 3078, 'ok': 2565, 'đóng_hộp': 4267, 'gren': 1124, 'bố': 268, 'tự_dưng': 3745, 'tí': 3613, 'phât': 2652, 'lột': 1949, 'xách': 4031, 'lz': 1823, 'đại_lý': 4298, 'xướt': 4054, 'củ_sạc': 740, 'hộ': 1425, 'hong_kong': 1256, 'bút': 209, 'wed': 3952, 'cao_gắn': 314, 'đặc_điểm': 4323, 'tổng_quan': 3719, 'cay': 324, 'ja': 1487, 'kẻ': 1684, 'kế_hoạch': 1687, 'thoy': 3199, 'tồn_tệ': 3714, 'mb': 1995, 'kiểm_định': 1626, 'xét_duyệt': 4037, 'thiệt': 3190, 'quét': 2780, 'ah': 18, 'chỉ_bảo_hành': 487, 'vde': 3792, 'tikicare': 3356, 'reply': 2836, 'biểu_tượng': 120, 'tích': 3614, 'vì_vậy_mà': 3866, 'tỉ_lệ_thuận': 3698, 'thỉnh': 3310, 'vô_lại': 3880, 'tb': 3139, 'một_chút': 2189, 'cân': 605, 'thương_hiệu': 3264, 'chú_ý': 439, 'chỉnh_sửa': 493, 'bất_ngờ': 234, 'máy_mỏng': 2084, 'nhấp_nháy': 2420, 'su_dụng': 3018, 'cảm_ứn': 680, 'tăng_tốc_độ': 3642, 'sniper': 2994, 'thiện': 3188, 'măc': 2125, 'thạnh': 3268, 'yên': 4104, 'cảnh_báo': 685, 'whatsap': 3957, 'khổ': 1589, 'trường_hợp': 3521, 'thật': 3288, 'bẩn': 240, 'họp': 1406, 'vất': 3899, 'ak': 25, 'tôt': 3631, 'adorable': 13, 'sộc': 3102, 'quản': 2791, 'viên': 3823, 'sữa': 3119, 'bá': 169, 'đạo': 4299, 'chương_trình': 448, 'giới_hạn': 1099, 'zp': 4124, 'kông': 1671, 'lồi': 1940, 'lạc': 1896, 'đầu_hủy': 4305, 'mg': 2005, 'ninjavan': 2461, 'điện_báo': 4191, 'cơ_quan': 651, 'abc': 3, 'đựng': 4404, 'xốp': 4072, 'gấp_gáp': 1149, 'rủi_ro': 2909, 'phù_hợp_nhất': 2665, 'công_tác': 633, 'sạch': 3073, 'lite': 1759, 'hàng_đầu_tiên': 1315, 'tắt_ngóm': 3692, 'đen_ngòm': 4169, 'đòi': 4261, 'quy_trình': 2759, 'phết': 2691, 'quyết_tâm': 2763, 'chủ_động': 518, 'thương': 3263, 'nói_nhỏ_nhẹ': 2505, 'tự_nhủ': 3748, 'cúp': 638, 'xương': 4051, 'than_phiền': 3156, 'lâu_lắc': 1849, 'apstore': 58, 'duyệt': 835, 'tháng_họa': 3224, 'đếch': 4331, 'coi_chừng': 544, 'kế_tiếp': 1689, 'dễ_chịu': 892, 'mi': 2006, 'trơn_tru': 3513, 'hữu_dụng': 1446, 'androide': 42, 'miui': 2018, 'xaomi': 3976, 'trở_thành': 3552, 'kẹ': 1682, 'dấu_hiệu': 880, 'canada': 307, 'khoing': 1528, 'jack': 1488, 'hnagf': 1242, 'cố': 719, 'sh': 2966, 'nát': 2490, 'điều_kiện': 4187, 'phông_nền': 2662, 'thỏi': 3319, 'nhà_máy': 2372, 'sướt': 3071, 'trẻ_con': 3540, 'lỗi_lầm': 1945, 'xog': 3994, 'so_sánh': 2995, 'op': 2578, 'lung': 1812, 'tgian': 3151, 'kug': 1640, 'ẩu': 4426, 'hôi': 1336, 'tỉnh': 3699, 'tương_ứng': 3658, 'tài_liệu': 3590, 'pdf': 2603, 'sống_động': 3099, 'bok': 134, 'chuyễn': 390, 'phảm': 2673, 'đo': 4205, 'tít_mù': 3624, 'tiến': 3384, 'thùng': 3256, 'cảm_tình': 677, 'giáng': 1061, 'hieu': 1211, 'vẽ': 3914, 'oét': 2591, 'tức_giận': 3738, 'đonmgs': 4208, 'sạt': 3076, 'rật': 2887, 'chã': 412, 'liền_tay': 1775, 'đề': 4334, 'hà_nội': 1300, 'quấn': 2795, 'mỏng_dính': 2179, 'thân_ái': 3233, 'đà_nẵng': 4223, 'tội': 3729, 'lơn': 1882, 'đăng_kí': 4280, 'cx': 588, 'ánh_kim_loại': 4129, 'lightning': 1751, 'chia_tay': 351, 'tnay': 3410, 'toang': 3418, 'mfnh': 2004, 'chặt_chẽ': 482, 'lenovo': 1744, 'lộn': 1947, 'phân_vân': 2651, 'trâu_bò': 3493, 'sức_mạnh': 3111, 'quái_vật': 2777, 'nhí': 2389, 'đụng': 4396, 'nghị': 2256, 'mạnh_dạn': 2143, 'bắt_đền': 251, 'hoá_đơn_giá_trị': 1273, 'gia_tăng': 1029, 'thuế': 3214, 'gtgt': 1127, 'thuế_gtgt': 3215, 'đèn_pin': 4254, 'nuột': 2483, 'đối_thủ': 4356, 'viber': 3801, 'chồng': 503, 'fail': 950, 'tết': 3695, 'ơi_là': 4406, 'hồi': 1415, 'lạnh': 1898, 'xương_sống': 4052, 'cất': 689, 'tủ': 3735, 'đền': 4339, 'cầm_chắc_tay': 694, 'flash': 976, 'tiêu_chuẩn': 3378, 'blt': 126, 'oan': 2555, 'tức': 3737, 'sil': 2973, 'tuền': 3577, 'anh_em': 46, 'xuống_tay': 4022, 'lăn_tăn': 1879, 'trã': 3495, 'loạn_xạ': 1805, 'ngại': 2320, 'generation': 1010, 'như_không': 2398, 'lịch': 1931, 'kiên_nhẫn': 1615, 'âm_thầm_hủy_đơn': 4136, 'trúng': 3510, 'giọng': 1096, 'buồn_ngủ': 153, 'hoàn_cảnh': 1265, 'hủy_đơn': 1440, 'làm_khách': 1829, 'nguôi': 2288, 'giận': 1090, 'dễ_tính': 895, 'trung_thành': 3475, 'để_tâm': 4341, 'yếu_tố': 4111, 'chu_đáo': 378, 'trùng': 3509, 'khớp': 1591, 'sống_nhăn': 3098, 'androi': 40, 'hóa': 1333, 'cạn_kiệt': 661, 'kiệt': 1631, 'chai': 333, 'bề_ngoài': 256, 'thi_thoảng': 3177, 'soạn': 3008, 'nhẩy': 2425, 'troi': 3467, 'mỏi': 2176, 'tập_trung': 3688, 'dịch_bệnh': 898, 'rám': 2863, 'nắng': 2525, 'nam_tính': 2219, 'đậm': 4313, 'bê': 186, 'đê': 4256, 'đường_nét': 4294, 'chân_thật': 409, 'kinh': 1608, 'mới_tinh': 2196, 'rượt': 2883, 'cuộn': 586, 'bìa': 190, 'lúa': 1872, 'cmckfkf': 537, 'combo': 549, 'tục': 3733, 'cảm_hứng': 673, 'card': 318, 'hại': 1368, 'nhẹ_nhàng': 2443, 'lý_tưởng': 1877, 'đối': 4355, 'chấp': 462, 'lởm': 1954, 'auto': 68, 'già': 1048, 'khoang': 1525, 'dag': 756, 'choi': 368, 'tex': 3147, 'youtobe': 4098, 'tái_k': 3596, 'rực_rỡ': 2911, 'điện_thoại_cũ': 4194, 'nguyên_seal': 2284, 'dầy': 883, 'rỗ': 2899, 'đồng_hồ': 4369, 'xử_dụng': 4079, 'khoản': 1531, 'rang': 2815, 'lao': 1729, 'móc': 2107, 'cường_lực': 658, 'bất_kỳ': 232, 'ghê_gớm': 1023, 'mới_đầu': 2197, 'trầy_xước': 3531, 'văn_bản': 3886, 'xen': 3984, 'kích': 1661, 'earpods': 925, 'tắt_giảm': 3691, 'phong_phú': 2628, 'nầy': 2523, 'cười': 656, 'lưu_ý': 1886, 'gon': 1116, 'đỡ': 4392, 'wi': 3960, 'fi': 964, 'bóng_tối': 203, 'chứa': 520, 'grey': 1125, 'ngọc_bích': 2328, 'kết_luận': 1694, 'lí_do': 1859, 'nhăng': 2394, 'mạc': 2139, 'lầm': 1904, 'sụp': 3108, 'khômg': 1570, 'cover': 566, 'ngọc_trai': 2329, 'pha': 2609, 'đáy': 4247, 'chị_em': 495, 'đàn_ông': 4228, 'giành': 1051, 'báo_giá': 175, 'hợp_tác': 1436, 'nhá': 2377, 'ra_gì': 2810, 'tẩy_chay': 3680, 'chan': 335, 'mã_vạch': 2092, 'barcode': 89, 'page': 2596, 'refresh': 2830, 'tìm_hiểu': 3608, 'pw': 2732, 'hdsd': 1193, 'dịu': 901, 'chánh': 401, 'quyền_lợi': 2766, 'hạch': 1367, 'điểm_ảnh': 4189, 'khu_vực': 1535, 'kỹ_thuật_viên': 1712, 'làm_ơn': 1838, 'gía': 1137, 'ráng': 2865, 'cực_tiểu': 753, 'zay': 4116, 'tới_lui': 3731, 'hiệnloix': 1227, 'nhiet': 2352, 'tình': 3610, 'tiêu_hao': 3381, 'nguon': 2277, 'huong': 1291, 'dan': 759, 'đống': 4361, 'hời_hợt': 1431, 'chiêm': 357, 'vẩn': 3901, 'đời': 4391, 'chổ': 505, 'dằm': 886, 'công': 622, 'thuê': 3213, 'tỏ_vẻ': 3703, 'bộc': 279, 'môi': 2111, 'bánh_mì': 173, 'chừa': 525, 'gối': 1158, 'viet': 3806, 'hi_vọng': 1208, 'đươc': 4290, 'sial': 2972, 'bịch': 259, 'khò': 1561, 'bàng': 167, 'nhiệt': 2360, 'rât': 2866, 'tinh_vi': 3372, 'miwsi': 2019, 'vừa_lòng': 3936, 'bới': 280, 'múc': 2120, 'paper': 2598, 'white': 3959, 'fantasy': 952, 'lợi_ích': 1956, 'usd': 3770, 'giói': 1068, 'thiệu': 3192, 'đoạt': 4212, 'giải_thưởng': 1078, 'quan_tâm': 2748, 'phát_triển': 2641, 'bản_thân': 217, 'non': 2471, 'fiction': 965, 'kinh_tế': 1612, 'tin_học': 3367, 'kế_toán': 1690, 'textbok': 3149, 'in': 1461, 'biểu_đồ': 121, 'gắn_bó': 1151, 'trẻ': 3539, 'kdjdjdhdhdhdhdhdhdjdhdjdjdj': 1504, 'amn': 32, 'quá_chừng': 2771, 'kể_cả': 1699, 'nổi_danh': 2540, 'phàn_nàn': 2634, 'hư_hỏng': 1358, 'thật_ra': 3289, 'học_tập': 1405, 'mah': 1973, 'ngôn_ngữ': 2310, 'tq': 3432, 'khoảng_cách': 1532, 'hậu': 1386, 'cảnh': 684, 'gương_mặt': 1144, 'chủ_thể': 516, 'thủ_công_bằng': 3331, 'chia_sẻ': 350, 'ui': 3754, 'hay_ho': 1187, 'giao_tiếp': 1040, 'châm': 405, 'chế': 483, 'biếu': 117, 'kượng': 1681, 'đơij': 4284, 'tầu': 3679, 'siu': 2980, 'lilon': 1753, 'khoanh': 1526, 'film': 967, 'vơi': 3890, 'cân_xứng': 608, 'tư_vấn': 3645, 'kỹ_lưỡng': 1710, 'lý': 1874, 'cảm_ứng_lực': 682, 'để_dành': 4340, 'bât': 180, 'thái': 3222, 'cố_tình': 721, 'tren': 3456, 'dthoai': 820, 'chói': 432, 'vệ_sinh': 3918, 'xiami': 3986, 'đánh_thức': 4244, 'tuyet': 3570, 'adroid': 14, 'sock': 2997, 'các_tông': 597, 'mỹ_quan': 2214, 'thong': 3198, 'giao_nhận': 1039, 'mốc': 2181, 'acvhjkjgegb': 9, 'vnjh': 3838, 'gào': 1130, 'trộm': 3548, 'mép': 2100, 'ví_dụ': 3868, 'chín': 425, 'kế': 1686, 'bảy': 227, 'thông_báo_giá': 3248, 'hôm_nay_mai': 1340, 'trăm': 3511, 'to_tát': 3414, 'bần_tiện': 239, 'đệp': 4345, 'dể': 891, 'trẻ_em': 3541, 'chữa': 530, 'quăng_quật': 2788, 'thế_thì': 3304, 'sờ_sợ': 3104, 'mày_mò': 2071, 'căng_thẳng': 642, 'ngon_ơ': 2263, 'send': 2952, 'tha_hồ': 3153, 'ghê': 1022, 'hẳn_hi': 1390, 'hạ': 1364, 'rốt_cuộc': 2896, 'mềm': 2170, 'thegioididong': 3170, 'gol': 1114, 'sos': 3006, 'nghĩa_là': 2252, 'mù_màu': 2116, 'order': 2585, 'người_ta': 2313, 'xả': 4058, 'quý_vị': 2786, 'tiến_hành': 3385, 'hoàn_trả': 1270, 'rụng': 2906, 'hcm': 1190, 'quỳ': 2807, 'lạy': 1899, 'thương_mại': 3265, 'bình_dân': 192, 'tím_tái': 3617, 'tong': 3421, 'di_dộng': 789, 'đánh_cắp': 4241, 'true': 3469, 'tone': 3420, 'walpaper': 3945, 'tuyền': 3573, 'thậm_chí': 3285, 'năm_học': 2513, 'tại_chỗ': 3662, 'khuôn': 1548, 'bao_quát': 87, 'bớt': 281, 'máy_chủ': 2078, 'notch': 2474, 'dãy': 852, 'rấy': 2885, 'thành_phần': 3218, 'tự_ý': 3749, 'ai_lại': 20, 'vo': 3840, 'gop': 1117, 'tiếp_diễn': 3390, 'bực_tức': 293, 'xui': 4005, 'kiếp': 1618, 'vô_lý': 3879, 'đùn_đẩy': 4275, 'nhiệm': 2359, 'đồng_ý': 4376, 'giam': 1033, 'tổng_cộng': 3717, 'nại': 2520, 'hối': 1411, 'đồ_chơi': 4363, 'câu': 610, 'bấy_giờ': 237, 'thoả_đáng': 3203, 'chốt': 501, 'bất_lực': 233, 'xử_lý_sự_việc': 4083, 'ktra': 1639, 'theo_dõi': 3171, 'mami': 1980, 'canh_chừng': 312, 'hao_hụt': 1182, 'ủy': 4443, 'quyền': 2765, 'xem_xét_lại': 3983, 'trân_trọng': 3492, 'hình_dung': 1326, 'xoăn': 3997, 'store': 3015, 'biểu_hiện': 119, 'phâm': 2644, 'tiềng': 3399, 'xung_quanh': 4007, 'hỗ_trợ_thủ_tục': 1424, 'nhạnh': 2411, 'đồi': 4366, 'đoá': 4209, 'kí': 1658, 'find': 969, 'font': 983, 'hông': 1342, 'ngón': 2308, 'amoled': 33, 'nhucau': 2367, 'unb': 3756, 'nhanb': 2342, 'cân_bằng': 606, 'quá_ư': 2775, 'snap': 2991, 'lk': 1778, 'papa': 2597, 'xoá': 3996, 'data': 768, 'biến_dạng': 114, 'nhàu_nát': 2376, 'chrome': 375, 'danh_bạ': 761, 'hú_hồn': 1345, 'hú_vía': 1346, 'đơn_vị': 4288, 'tối_đa': 3707, 'động_lực': 4386, 'con_thứ': 556, 'bu': 142, 'shops': 2971, 'máy_bay': 2076, 'ngày_trước': 2300, 'nc': 2226, 'đau': 4165, 'thọai': 3315, 'tube': 3564, 'lặp_đi': 1921, 'lặp': 1918, 'nản': 2522, 'chứng_minh': 522, 'nhưg': 2406, 'tái_tạo': 3597, 'dẹp': 889, 'hdr': 1192, 'năg': 2512, 'hình_như': 1327, 'phản_ánh': 2677, 'sét': 3051, 'múa': 2119, 'nước_ngoài': 2518, 'robocon': 2849, 'mồm': 2185, 'xuông': 4011, 'hiện_giờ': 1223, 'ad': 10, 'qua_mặt': 2743, 'không_trung_thực': 1575, 'họat': 1402, 'đối_tác': 4357, 'khoi': 1527, 'ycau': 4088, 'ấn_tượng': 4422, 'nilon': 2458, 'hà': 1299, 'trượt': 3522, 'explorer': 941, 'mươt': 2133, 'kính': 1668, 'định_dạng': 4350, 'nhà_tắm': 2374, 'gọn_gàng': 1155, 'mobistar': 2034, 'hapy': 1183, 'nhe': 2349, 'gi': 1025, 'trừng': 3559, 'fone': 982, 'đuọc': 4219, 'dựa': 923, 'sámung': 3042, 'lộn_xộn': 1948, 'ni': 2455, 'lông': 1867, 'nhuốm': 2369, 'chùi': 436, 'kỳ': 1706, 'canh': 311, 'sales': 2921, 'dao_động': 765, 'truyện_tranh': 3485, 'chóng_mặt': 433, 'emoji': 932, 'chuyển_động': 389, 'chân_thực': 410, 'zom': 4122, 'chất_liệu': 465, 'rẻ_tiền': 2892, 'quài': 2769, 'ước': 4415, 'ngặt': 2325, 'nỗi': 2541, 'ý_nghĩa': 4153, 'dòm': 857, 'ngó': 2307, 'lui': 1811, 'ngày_mai': 2296, 'xuất_hóa_đơn': 4016, 'quý': 2784, 'trước_mắt': 3518, 'vế': 3915, 'toa': 3416, 'mata': 1987, 'khó_tính': 1565, 'nà': 2486, 'áp_dụng': 4132, 'bàn_cãi': 162, 'mịn': 2173, 'khít': 1560, 'vấp': 3898, 'chồi': 502, 'muot': 2056, 'gjas': 1106, 'bất_thường': 235, 'camẻa': 305, 'xem_thường': 3981, 'quá_đáng': 2774, 'hoanghamobile': 1249, 'kìa': 1657, 'đối_xử': 4359, 'mày': 2070, 'tao': 3135, 'hon': 1255, 'luc': 1810, 'ran': 2813, 'hợp_lí': 1434, 'tranh_thủ': 3451, 'sò': 3052, 'esim': 936, 'lòng_vòng': 1861, 'cường': 657, 'lực': 1965, 'điều_khiển': 4186, 'dỡ': 911, 'trung_quốc': 3474, 'đỗ': 4380, 'trl': 3464, 'until': 3763, 'while': 3958, 'delivery': 777, 'was': 3948, 'damaged': 758, 'but': 147, 'lì': 1858, 'kô': 1670, 'youtu': 4099, 'fwpjuzcscve': 996, 'kĩ_càng': 1677, 'vivi': 3820, 'thù': 3255, 'tản_nhiệt': 3672, 'nónh': 2509, 'itunes': 1483, 'bôi_đen': 206, 'ngon_lành': 2262, 'thỏ': 3316, 'phiền': 2620, 'thoi': 3195, 'bút_chì': 210, 'manga': 1983, 'bở': 282, 'cáng': 600, 'dung_dịch_vụ': 828, 'ngớ_ngẩn': 2331, 'trắng_tinh_vân': 3537, 'trắng_tinh_khôi': 3536, 'ulike': 3755, 'tựa': 3751, 'khồn': 1588, 'mượn': 2136, 'ot': 2588, 'vừa_rồi': 3939, 'lô': 1865, 'cạch': 659, 'đi_lại': 4175, 'hạng': 1372, 'seari': 2942, 'che': 343, 'bải': 215, 'mãnh': 2094, 'vật_vã': 3909, 'phân_loại': 2649, 'dark': 766, 'mode': 2035, 'lấm_chấm': 1901, 'xt': 4001, 'sơ_ý': 3067, 'lý_lẽ': 1876, 'biên_lai': 111, 'lõi': 1868, 'hiển_nhiên': 1219, 'nhầm_lẫn': 2424, 'làm_ăn_gian_dối': 1835, 'evat': 938, 'bằng_chứng': 252, 'đánh': 4240, 'quả_lừa': 2790, 'né': 2496, 'gian_dối': 1035, 'tham_khảo': 3154, 'tmdt': 3407, 'cải_tiến': 668, 'catson': 322, 'rỗng': 2900, 'cao_cấp': 313, 'cải_thiện': 667, 'rườm_rà': 2881, 'bank': 78, 'to_chuyện': 3412, 'dv': 836, 'sự_dụng': 3121, 'truy_cập': 3481, 'đến_nơi': 4332, 'đèn_neon': 4253, 'boc': 133, 'icloud': 1450, 'like': 1752, 'backlight': 69, 'cubg': 578, 'fslat': 993, 'cuoc': 582, 'hien': 1210, 'kb': 1501, 'nguyễn': 2287, 'vẹn': 3912, 'bô': 205, 'kỉ': 1702, 'nước_nhà': 2519, 'qc': 2736, 'thâp': 3234, 'xứng_đáng_giá': 4077, 'cắt': 712, 'phông': 2661, 'tiêu_đề': 3382, 'hạt': 1374, 'mè': 2095, 'mot': 2045, 'chong': 370, 'gioi': 1045, 'thieu': 3180, 'thất_thoát': 3272, 'cũng_nên': 647, 'final': 968, 'thực_tình': 3343, 'hop': 1258, 'ly': 1822, 'nhap': 2347, 'thap': 3163, 'điều_phối': 4188, 'lườm': 1892, 'thgian': 3173, 'tháy': 3227, 'garageband': 1003, 'iclould': 1451, 'nguyên_sel': 2285, 'ồn': 4437, 'hầu_hết': 1382, 'bao_bọc': 82, 'vạo': 3895, 'cước': 654, 'hjc': 1235, 'alo': 27, 'phấm': 2681, 'lừa_gạt': 1961, 'pó': 2733, 'bye': 157, 'văn_phòng': 3888, 'logitech': 1793, 'phản_ảnh': 2678, 'điện_máy': 4192, 'kĩ_thuật': 1679, 'hi_shop': 1207, 'bóp_méo': 204, 'dần': 881, 'thả': 3269, 'haha': 1169, 'tim': 3364, 'sad': 2914, 'đồ_hoạ': 4365, 'tiến_độ': 3386, 'pjo': 2710, 'cha_mẹ': 331, 'otp': 2589, 'kinh_doanh': 1609, 'cây_cơ': 612, 'nhẵn': 2441, 'đáp': 4245, 'xé': 4035, 'điện_thoại_tắt': 4198, 'thấp_vậy': 3271, 'khe': 1519, 'cấm': 686, 'vét': 3862, 'bằng_lòng': 253, 'trung_vậy': 3477, 'bnay': 131, 'down': 814, 'hu_hu': 1286, 'hơi_tệ': 1352, 'rồi': 2897, 'như_vầy': 2403, 'khung': 1537, 'vatvo': 3787, 'gió': 1067, 'từ_điển': 3741, 'usb': 3769, 'đánh_dấu': 4242, 'trắng_đen': 3538, 'ra_công_viên': 2809, 'caphe': 317, 'đầu_tư': 4309, 'mông': 2114, 'giậy': 1094, 'cai': 297, 'chang': 336, 'kieu': 1602, 'cốc': 724, 'cọc': 717, 'thẩm_quyền': 3281, 'chiều_hôm': 362, 'phàn': 2633, 'star': 3012, 'sasung': 2927, 'hột': 1428, 'là_hơi': 1824, 'bpin': 138, 'minh_bạch': 2014, 'padshop': 2595, 'ngày_nay': 2297, 've_san': 3796, 'fhd': 962, 'kéo_theo': 1649, 'ô_kê': 4141, 'antutu': 50, 'mediatek': 1998, 'mìn': 2103, 'gữi': 1165, 'taiphon': 3129, 'ôk': 4144, 'copy': 564, 'buton': 148, 'đáng_kể': 4236, 'sinh_nhật': 2978, 'night': 2457, 'disable': 802, 'firmware': 973, 'cứng': 741, 'học': 1403, 'văn': 3885, 'ý_định': 4155, 'nội_tỉnh': 2545, 'mua_sắm': 2052, 'al': 26, 'mống': 2182, 'cpo_vậy': 569, 'miễn_phí': 2024, 'chi_phí': 347, 'chúng_tôi': 442, 'hg': 1203, 'huvjchv': 1292, 'bmhjbjnvjvjhv': 129, 'vjgj': 3831, 'ý_tưởng': 4154, 'lập_trình': 1908, 'bản_đồ': 218, 'đứa': 4397, 'vệt': 3920, 'bít': 197, 'việt_vậy': 3830, 'pubgm': 2728, 'nh': 2336, 'phản_ứng': 2679, 'cíu_e': 615, 'nhanh_chóng_mặt': 2344, 'electronic': 927, 'expres': 942, 'hên': 1323, 'ngta': 2272, 'luoi': 1816, 'màn_hình_như': 2063, 'giáp': 1063, 'ko_vậy': 1635, 'muon': 2055, 'mũi_tên': 2128, 'giữa_chừng': 1104, 'liên': 1765, 'tuc': 3565, 'gườ': 1145, 'hab': 1167, 'lâu_la': 1847, 'ls': 1809, 'mến': 2169, 'vismart': 3819, 'mẻ': 2168, 'đào_tạo': 4232, 'trực': 3560, 'gay_gắt': 1004, 'thpiwf': 3206, 'bậc': 241, 'hảo_tâm': 1379, 'đả': 4300, 'rắc': 2888, 'hần': 1380, 'sơ_suất': 3064, 'vốn_dĩ': 3926, 'xằng_bậy': 4063, 'seat': 2944, 'gè': 1134, 'link': 1758, 'quay_phim': 2752, 'chặn': 480, 'tiếp_theo': 3392, 'samsaung': 2923, 'ma_sao': 1967, 'sưu_tập': 3069, 'vins': 3816, 'td': 3140, 'văn_hóa': 3887, 'trung_gian': 3472, 'tv': 3583, 'ít_nhất': 4140, 'huyền_thoại': 1294, 'trống': 3546, 'hiệu_ứng': 1233, 'tối_ưu': 3708, 'ht': 1282, 'vong': 3844, 'xay': 3978, 'điện_tích': 4201, 'sau_cùng': 2929, 'chấm_dứt': 460, 'trên_dưới': 3498, 'suy_nghĩ_lại': 3027, 'fed': 957, 'cảm_quan': 675, 'nhin': 2354, 'thich': 3178, 'deo': 780, 'thuong': 3212, 'hút': 1348, 'qin': 2738, 'mắc': 2158, 'nghiêm_trọng': 2244, 'bạn_đời': 214, 'cải_lương': 666, 'dũng': 867, 'pug': 2729, 'xử_lý_dịch_vụ': 4082, 'uỷ_quyền': 3775, 'zo': 4121, 'lc': 1737, 'báo_ứng_dụng': 177, 'oai': 2554, 'âu': 4137, 'ài': 4126, 'khasc': 1517, 'mê': 2101, 'vl': 3832, 'thần_tốc': 3279, 'nhấp': 2419, 'góp': 1140, 'chậm_rì': 471, 'vời': 3931, 'hàng_tệ': 1312, 'quăng': 2787, 'sân_nhà': 3048, 'điện_thoại_oke': 4197, 'kín_kẽ': 1667, 'tươm_tất': 3648, 'rộng': 2902, 'ninja': 2460, 'tàu': 3592, 'phon': 2622, 'dz': 839, 'trade': 3439, 'địa_chỉ': 4347, 'đien': 4178, 'hõi': 1343, 'ầm_ầm': 4424, 'lặng': 1917, 'coa': 541, 'thực_hiện': 3340, 'trọng_lượng': 3545, 'tinh_tinh': 3371, 'hyunh': 1298, 'anh_chị': 44, 'xi': 3985, 'cf': 327, 'fg': 960, 'vòng_vo': 3872, 'thay_thế': 3166, 'thanb': 3157, 'kiểm_duyệt': 1621, 'quy_định': 2760, 'apble': 55, 'thống': 3321, 'sắm': 3089, 'hời': 1430, 'lưởng': 1893, 'em_gái': 929, 'va_chạm': 3777, 'lung_tung': 1815, 'vietinbank': 3808, 'cổng': 728, 'vua': 3850, 'vai': 3780, 'lich': 1748, 'isue': 1479, 'vớ_vẩn': 3929, 'bug': 144, 'ux': 3773, 'cáu': 604, 'sgn': 2965, 'code': 542, 'bự': 289, 'delay': 776, 'tổng_đầi': 3727, 'sôi_máu': 3057, 'standrad': 3011, 'lâu_vậy': 1851, 'story': 3016, 'twet': 3584, 'mới_cứng': 2195, 'ché': 414, 'hây': 1321, 'maxi': 1991, 'cmt': 539, 'ức': 4444, 'vô_duyên': 3877, 'chìa': 422, 'hào_hứng': 1317, 'tọc_mạch': 3702, 'con_số': 555, 'kích_cỡ': 1662, 'nhiếp_ảnh': 2357, 'phát_sóng': 2640, 'lapstop': 1731, 'tổng_đài_vinaphone': 3725, 'vnp': 3839, 'nghi_ngờ': 2242, 'truyền': 3482, 'sped': 3010, 'server': 2956, 'dạo': 877, 'fải': 997, 'chêm': 419, 'khí': 1556, 'cộp': 732, 'tự_do': 3744, 'vinid': 3815, 'zalopay': 4115, 'checker': 345, 'factory': 949, 'gps': 1122, 'sốt': 3100, 'nghiêm_túc': 2245, 'danh_mục': 762, 'wab': 3942, 'htp': 1283, 'phức_tạp': 2702, 'lằng_nhằng': 1916, 'bó_tay': 199, 'tần_suất': 3678, 'dí': 854, 'sạn': 3075, 'búa': 208, 'xua': 4003, 'tiêng': 3376, 'la_nhe': 1717, 'đanh': 4164, 'cắt_giảm': 713, 'ngân': 2304, 'visa': 3818, 'vnd': 3837, 'việc_làm': 3826, 'giám': 1057, 'dual': 824, 'lục': 1957, 'asus': 62, 'ngưởi': 2316, 'ca': 294, 'trao_đổi': 3452, 'lĩnh': 1881, 'carton': 320, 'tên_tuổi': 3606, 'băng_keo': 211, 'hồi_hộp': 1416, 'logo': 1794, 'deal': 774, 'bidv': 103, 'dài_dài': 840, 'many': 1984, 'sài_k': 3036, 'pit': 2709, 'charge': 339, 'trươc': 3516, 'đich': 4177, 'phi': 2616, 'brand': 139, 'cà_tưng': 590, 'mờ_nhạt': 2200, 'tổng_đài_cskh': 3723, 'quảng_nam': 2794, 'ký_tên': 1674, 'tè': 3601, 'le': 1739, 'amazo': 30, 'bực_bội': 291, 'biết_đâu': 116, 'lèo': 1853, 'bình_tĩnh': 196, 'cạn': 660, 'lập_tức': 1909, 'tiki_don': 3354, 't_care': 3123, 'chăc': 444, 'build': 145, 'giao_dịch': 1038, 'nguy_cơ': 2278, 'giục': 1102, 'qua_ngày': 2744, 'inserted': 1467, 'services': 2958, 'thành_phố': 3219, 'hiếm': 1217, 'nhức': 2453, 'tuyết': 3572, 'made': 1971, 'date': 769, 'ncl': 2227, 'joi': 1495, 'ưa': 4408, 'phần_lớn': 2686, 'airplane': 24, 'ji': 1492, 'gâm': 1132, 'giật_giật': 1092, 'xắp': 4062, 'xếp': 4064, 'nit': 2462, 'did': 793, 'not': 2473, 'receive': 2824, 'waranty': 3947, 'refund': 2831, 'buôn': 149, 'lận': 1907, 'nếu_như': 2532, 'claim': 533, 'global': 1107, 'tương_thích': 3652, 'tịt': 3701, 'tráo': 3491, 'cầm_chắc_chắn': 693, 'hối_thúc': 1413, 'phụ_phí': 2698, 'chịu_khó': 496, 'hòng': 1332, 'xếp_hạng': 4065, 'oled': 2570, 'mọi_khi': 2175, 'tổng_đài_hoài': 3724, 'khuôi': 1547, 'kick': 1600, 'xat': 3977, 'pặc': 2735, 'gorila': 1119, 'đù': 4273, 'wifi_ok': 3963, 'hàng_loạt': 1310, 'sữ_dụng': 3118, 'người_lớn': 2311, 'thể_thao_tác': 3308, 'medium': 1999, 'mơ_ước': 2130, 'readmi': 2822, 'dgw': 785, 'viện': 3827, 'căn_bản': 640, 'qua_loa': 2741, 'đại_khái': 4296, 'vivo': 3821, 'trước_sau': 3519, 'thỏa_mãn': 3317, 'đồng_thời': 4372, 'thân_chủ': 3230, 'chông': 435, 'đươcj': 4291, 'cungc': 581, 'tây': 3600, 'van': 3783, 'ol': 2568, 'tư': 3644, 'flat': 977, 'hư_đồ': 1359, 'bênh': 188, 'lộc_cộc': 1946, 'dã_man': 851, 'nang': 2221, 'phong_cảnh': 2627, 'kim_loại': 1604, 'chắc_tay': 476, 'mút': 2124, 'đvc': 4221, 'chặt': 481, 'bảo_quản': 224, 'tuổi_thọ': 3578, 'đặng': 4324, 'như_thường_lệ': 2400, 'cầu': 698, 'tiễn': 3400, 'thói_quen': 3241, 'kiên_tục': 1616, 'tỳ': 3752, 'vếch': 3916, 'zậy': 4125, 'cũ_mèm': 645, 'tiktok': 3362, 'một_tí': 2192, 'đuoc': 4217, 'ạk': 4416, 'ngược_lại': 2318, 'tat': 3136, 'wai': 3943, 'nylon': 2485, 'như_thể': 2402, 'đx': 4222, 'huhu': 1290, 'tử': 3743, 'trang_bị': 3447, 'phổ_biến': 2693, 'lẽ_ra': 1926, 'ngừoi': 2335, 'vây': 3859, 'tác_dụng': 3594, 'cước_phí': 655, 'trinh_tiết': 3461, 'hạnh': 1373, 'hai_lòng': 1172, 'nhắn_gửi': 2439, 'lướt_vi': 1890, 'chích': 424, 'háy': 1320, 'nóngdùng': 2508, 'tivi': 3373, 'lanhj': 1727, 'máy_giặt': 2079, 'biêt': 112, 'chiến': 359, 'hầu': 1381, 'nhw': 2370, 'ngqyf': 2271, 'thưa': 3262, 'kén': 1646, 'ẩu_tả': 4427, 'vận_đơn': 3906, 'người_nhà': 2312, 'tột_độ': 3730, 'đa_số': 4161, 'cồng_kềnh': 726, 'random': 2814, 'dự': 917, 'sai_lầm': 2916, 'bad': 71, 'nhiễu': 2358, 'faceu': 948, 'lóa': 1862, 'balo': 72, 'dạng': 876, 'saver': 2931, 'ink': 1465, 'text': 3148, 'rê': 2869, 'con_trỏ': 558, 'nối': 2534, 'old': 2569, 'year': 4090, 'đồng_bộ': 4368, 'acount': 5, 'dài_hạn': 841, 'audio': 65, 'audible': 64, 'sợi': 3107, 'nhô': 2392, 'seul': 2961, 'cao_su': 315, 'hậu_mãi': 1387, 'đồ_dùng': 4364, 'thiết_yếu': 3186, 'nhẽ': 2445, 'xuống_mã': 4021, 'kếm': 1691, 'tạch': 3661, 'gớt': 1159, 'nứt': 2550, 'cương': 653, 'cúi': 637, 'đungs': 4216, 'trình': 3499, 'phát_sinh': 2639, 'androir': 43, 'tưởng_tượng': 3660, 'hẫng': 1384, 'lằm': 1915, 'dở_tệ': 910, 'xứng': 4075, 'công_nhận': 628, 'lặp_lại': 1919, 'fs': 992, 'tuki': 3567, 'thua_kém': 3211, 'lắp_ráp': 1914, 'nghiêng': 2246, 'shoping': 2970, 'jts': 1498, 'cậy': 709, 'zing': 4120, 'vincom': 3813, 'cử_chỉ': 745, 'vien': 3805, 'chinh': 354, 'hng': 1244, 'exchange': 940, 'nsx': 2478, 'kiểm_soát': 1623, 'pa': 2593, 'hứng_thú': 1444, 'gờ': 1160, 'trả_góp_vậy': 3525, 'lọt': 1937, 'kín': 1666, 'lung_lay': 1813, 'chuyen': 385, 'hoa': 1246, 'dất': 878, 'quần': 2797, 'chó': 431, 'điẹne': 4182, 'đáng_lẽ_ra': 4239, 'nhiêu': 2356, 'chut': 384, 'tính_tình': 3622, 'thô_lỗ': 3243, 'quạo': 2789, 'quọ': 2802, 'lẹ': 1923, 'hắn': 1388, 'trầy_trụa': 3530, 'ya': 4087, 'mơ_hồ': 2129, 'sốt_ruột': 3101, 'mức_sống': 2206, 'chà_bá': 395, 'vận_chuyển_giao': 3904, 'chât': 411, 'chửa': 527, 'report': 2837, 'mất_cắp': 2146, 'kiểm_nghiệm': 1622, 'chiu': 356, 'láu': 1844, 'za': 4112, 'ví': 3867, 'sán': 3043, 'thô_sơ': 3244, 'mỏng_manh': 2180, 'xì': 4038, 'lọc': 1936, 'tạp_âm': 3667, 'cử_động': 746, 'tay_chân': 3137, 'vmesage': 3834, 'vấn': 3896, 'purchase': 2730, 'validated': 3781, 'nguồn_gốc': 2289, 'tiêu_cực': 3379, 'chứng_thực': 523, 'chplay': 374, 'vì_thế': 3865, 'nhên': 2386, 'sáu': 3047, 'toàn_bộ': 3426, 'thiệt_thòi': 3191, 'phầm': 2683, 'hoọ': 1279, 'covid': 567, 'tr_vậy': 3434, 'bao_gồm': 84, 'giàn': 1050, 'phản_chiếu_bóng': 2674, 'xơ': 4049, 'seai': 2938, 'luột': 1821, 'lến': 1928, 'thấu_hiểu': 3277, 'roi': 2850, 'truong': 3479, 'trinh': 3460, 'hoc': 1251, 'sinh': 2977, 'hoac': 1247, 'xinh_xinh': 3990, 'mốp': 2183, 'bét': 185, 'mũi': 2127, 'digiwork': 797, 'kì_vọng': 1656, 'trình_duyệt': 3501, 'xvideos': 4023, 'thẳng_thắn': 3295, 'activate': 7, 'hghghfgbdfbvdfgv': 1204, 'lòi': 1860, 'hưởng': 1363, 'hara': 1184, 'thoang': 3194, 'giat': 1041, 'tam_thui': 3133, 'nhã_nhặn': 2383, 'sync': 3033, 'phát_âm': 2642, 'dau': 771, 'nong': 2472, 'kể_ra': 1700, 'miết': 2022, 'minhd': 2015, 'vịt': 3923, 'oang_oang': 2556, 'khỉ': 1584, 'khờn': 1592, 'kẻo': 1685, 'nhỉnh': 2446, 'inch': 1462, 'sần': 3086, 'emei': 931, 'im_re': 1457, 'trách': 3488, 'nông_trại': 2510, 'lac': 1719, 'wep': 3954, 'liti': 1760, 'thiết_lập': 3184, 'gb': 1005, 'lưu_trữ': 1885, 'cặp': 716, 'xr': 3998, 'đơn_thuần': 4287, 'chạng_vạng': 452, 'ahuhu': 19, 'niu': 2463, 'mới_đầu_máy': 2198, 'tháng_ngày': 3225, 'sướng': 3070, 'lẻ': 1924, 'min': 2013, 'phu': 2631, 'hot': 1259, 'mesage': 2002, 'thế_náo': 3303, 'dư': 869, 'lâu_bền': 1845, 'mínhnsnsbsb': 2105, 'hahahahshshshs': 1170, 'tác_động': 3595, 'kênh': 1652, 'đểu_giả': 4344, 'thất_vọngjdjdjdjd': 3276, 'cụ': 735, 'ngoét': 2266, 'như_thế': 2401, 'linh_động': 1757, 'ngày_sinh_nhật': 2298, 'ngáy': 2302, 'sn': 2990, 'cập_nhật_bản': 708, 'hý': 1349, 'hửng': 1445, 'ốm': 4433, 'khích': 1558, 'lõng': 1869, 'cá': 595, 'thịt': 3314, 'tận_tình': 3686, 'khurng': 1538, 'ép': 4138, 'giảm_chấn': 1083, 'chiều_tối': 363, 'công_ty_tnh': 632, 'đông_dương': 4272, 'tiki_vậy': 3355, 'hụt_hẫng': 1438, 'đàm_thoại_k': 4227, 'redit': 2827, 'hiệu_suất': 1232, 'vtvgo': 3849, 'dọc': 902, 'se_ung': 2937, 'keu': 1509, 'mua_ung': 2053, 'chỉ_dẫn': 488, 'thiet': 3179, 'chuc': 380, 'phat': 2615, 'trien': 3458, 'đa': 4158, 'chíp': 429, 'bn': 130, 'quầy': 2799, 'tạp_hóa': 3666, 'tòa': 3625, 'cty': 574, 'vcl': 3790, 'xuống_cấp': 4020, 'trầm_trọng': 3528, 'location': 1789, 'hang_lan': 1176, 'làm_biếng': 1826, 'liên_minh': 1769, 'nđ': 2516, 'he': 1194, 'nghe_đâu': 2240, 'dụng_cụ': 913, 'dự_định': 922, 'lảnh': 1900, 'môt': 2115, 'lướt_mướt': 1889, 'hn': 1241, 'sky': 2985, 'dis': 801, 'máy_gắn': 2080, 'thanh_niên': 3160, 'bay': 94, 'ghn': 1017, 'phần_nào': 2688, 'uh': 3753, 'đài_radio': 4225, 'tóc': 3626, 'snapdragon_khỏe': 2993, 'youtue': 4101, 'làg': 1825, 'tikok': 3361, 'tôp': 3630, 'cơm_điện': 652, 'huỷ': 1296, 'tpm': 3431, 'ngọc': 2327, 'lagy': 1721, 'prety': 2719, 'sound': 3007, 'nice': 2456, 'most': 2044, 'doesn': 808, 'kinda': 1606, 'suck': 3020, 'lẽo': 1927, 'chi_nhánh': 346, 'trâu_vậy': 3494, 'nghé': 2249, 'khóc': 1567, 'sông': 3058, 'nắt': 2527, 'mất_ngủ': 2149, 'điền': 4183, 'dự_tính_chất_lượng': 921, 'tikit': 3359, 'highlight': 1212, 'dươc': 872, 'nhơt': 2395, 'nhat': 2348, 'satisfied': 2928, 'tiep': 3352, 'gia_bảo_hành': 1027, 'kít': 1669, 'anw': 52, 'sacombank': 2913, 'góp_ý': 1141, 'dở_ko': 909, 'nạp': 2521, 'dating': 770, 'dặm': 887, 'fet': 959, 'cm': 536, 'bối_rối': 271, 'vina': 3811, 'hường': 1362, 'cánh_sen': 601, 'jcb': 1489, 'ngẻ': 2326, 'mng': 2029, 'amz': 35, 'jp': 1497, 'nhật_vậy': 2432, 'post': 2718, 'dóng': 860, 'sây': 3050, 'sứt': 3112, 'phù': 2663, 'phù_pin': 2666, 'nào_ngờ': 2487, 'giảm_thiểu': 1085, 'tiền_bạc': 3397, 'chọn_lựa': 498, 'ưu_đãi': 4414, 'bán_lẻ': 172, 'truyền_thống': 3483, 'rực': 2910, 'toan': 3417, 'quoc': 2757, 'ruoi': 2856, 'téc': 3602, 'promax': 2725, 'nhắm_mắt': 2437, 'kệ': 1701, 'mark': 1985, 'tag': 3126, 'nghi_vấn': 2243, 'dăm': 864, 'csr': 573, 'bề_mặt': 255, 'lấp_lánh': 1903, 'xung_đột': 4008, 'chromium': 376, 'dynamic': 838, 'color': 546, 'gamut': 1001, 'flags': 974, 'xí': 4039, 'săn': 3060, 'giải_trình': 1079, 'hiện_diện': 1222, 'máy_khỏe': 2082, 'ẻm': 4429, 'rúi': 2876, 'sai_trái': 2919, 'tương_lai': 3649, 'hàng_vậy': 1313, 'cũ_kỹ': 644, 'login': 1791, 'vô_sản_phẩm': 3881, 'tung': 3568, 'gém': 1135, 'den': 779, 'mac': 1968, 'dieu': 796, 'lon': 1797, 'giôngd': 1069, 'loằng_ngoằng': 1807, 'service': 2957, 'sevice': 2962, 'tốt_tính_năng': 3711, 'yêu_cầu_mong_đợi': 4108, 'giám_định': 1059, 'xác_minh': 4026, 'tuỳ': 3582, 'khan': 1516, 'bubg': 143, 'quang_cáo': 2750, 'ngo': 2258, 'gạt': 1147, 'chiec': 353, 'thi_ko': 3176, 'mích': 2104, 'thưởng': 3267, 'trung_niên': 3473, 'bịi': 260, 'bây': 181, 'yen': 4091, 'vote': 3846, 'cạy': 664, 'hỷ': 1448, 'chủng_loại': 519, 'fedback': 958, 'packaging': 2594, 'lọ': 1935, 'muối_tiêu': 2057, 'ôn': 4145, 'lâu_nay': 1850, 'đắn_đo': 4316, 'tiêc': 3374, 'mựơt': 2211, 'hihi': 1213, 'màn_hình_phẳng': 2064, 'cảm_giấc': 672, 'cõ': 635, 'công_bố': 623, 'phân_bố': 2647, 'miền': 2023, 'bốc': 270, 'bắt_buộc': 247, 'chú_tâm': 438, 'quyên': 2761, 'nhứ': 2452, 'xâc': 4033, 'điện_thoại_hợp': 4195, 'nhùi': 2393, 'thôi_thì': 3245, 'banks': 79, 'cần_câu': 696, 'rườm': 2880, 'chup': 383, 'biét': 110, 'focus': 980, 'option': 2582, 'quan_cáo': 2746, 'mạnh_mẽ': 2144, 'cameras': 304, 'trước_hết': 3517, 'vù': 3884, 'hối_hận': 1412, 'lượg': 1894, 'cgai': 329, 'dẫm': 884, 'buôn_bán': 150, 'dối_trá': 905, 'drop': 817, 'fps': 985, 'verified': 3797, 'đề_cập': 4335, '_đầu': 2, '_về': 1, 'mag': 1972, 'chà_chà': 396, 'reviewer': 2845, 'thíh': 3239, 'làm_ăn_vầy': 1836, 'giấu': 1086, 'điện_thoại_tệ': 4199, 'trau': 3453, 'hang_rat': 1179, 'tiền_mặt': 3398, 'đẹp_trai': 4328, 'một_phép': 2190, 'gem': 1007, 'lang': 1726, 'tiec': 3350, 'đỗi': 4381, 'nam_nữ': 2218, 'lùi': 1870, 'hạt_dẻ': 1375, 'thoát_ly': 3201, 'ko_dc': 1634, 'thỳ': 3345, 'nhắc_nhở': 2435, 'hang_moi': 1177, 'duy_trì': 834, 'phong_độ': 2630, 'lôi': 1866, 'đóng_thùng': 4268, 'thểkhen': 3309, 'đmx': 4204, 'tống': 3710, 'seo': 2953, 'típ': 3623, 'vênh': 3863, 'bẻ': 254, 'tô': 3628, 'frefire': 989, 'say': 2933, 'snapdragon': 2992, 'nhọ': 2447, 'cám': 598, 'lock': 1790, 'ngâm': 2303, 'unlock': 3761, 'ticket': 3349, 'pioner': 2708, 'nghẹt': 2253, 'chiều_tối_ngày': 364, 'chung_chung': 381, 'làm_chi': 1827, 'thành_viên': 3221, 'kiên': 1614, 'dum': 826, 'sư_dụng': 3068, 'xây': 4034, 'đung': 4215, 'hang_nhân': 1178, 'bọt': 264, 'sứt_mẻ': 3113, 'đựo': 4405, 'binh': 107, 'mừng': 2209, 'húm': 1347, 'phiền_phức': 2621, 'gián_đoạn': 1060, 'híc': 1331, 'rớt_giá': 2904, 'rủa': 2908, 'khả_dụng': 1577, 'không_lẽ': 1572, 'độc': 4383, 'sạch_sẽ': 3074, 'cao_tuổi': 316, 'quê': 2781, 'má': 2072, 'hẳn_hoi': 1391, 'malay': 1977, 'vận_hành': 3905, 'phước': 2671, 'cacton': 296, 'nố': 2533, 'lừa_bịp': 1959, 'chúng_ta': 441, 'keycap': 1511, 'backup': 70, 'ngoan_cố': 2260, 'bỏ_qua': 265, 'lồi_lõm': 1941, 'bà_già': 159, 'ytb': 4103, 'hơpl': 1355, 'đọ': 4352, 'cải': 665, 'jo': 1494, 'giaó': 1042, 'đuợc': 4220, 'ỉn': 4430, 'sạt_nghiệp': 3077, 'chấm_than': 461, 'đầu_máy': 4306, 'news': 2236, 'instagram': 1469, 'nhanh_vậy': 2346, 'phát_hiện_tại': 2638, 'quênmobile': 2783, 'bì': 189, 'biển': 118, 'diễn': 805, 'đột_phá': 4390, 'gái': 1131, 'inside': 1468, 'dirty': 800, 'loks': 1796, 'opened': 2579, 'before': 98, 'because': 97, 'has': 1185, 'finger': 971, 'prints': 2722, 'plastic': 2711, 'woried': 3969, 'about': 4, 'disconect': 803, 'đúng_đắn': 4277, 'cộc': 729, 'đấm': 4302, 'ác_mộng': 4127, 'gút': 1143, 'phấn_đấu': 2682, 'hịn': 1401, 'con_cái': 553, 'thủ_công': 3330, 'hơ': 1350, 'lửa': 1963, 'công_nghiệp': 625, 'coi_trọng': 545, 'chu': 377, 'cằn': 715, 'hoảng_hồn': 1278, 'j_đây': 1486, '_gắn': 0, 'thối': 3320, 'thơi': 3259, 'fgian': 961, 'chậm_rì_rì': 472, 'mkid': 2027, 'chót': 434, 'fine': 970, 'hứa_hẹn': 1442, 'điệp_khúc': 4203, 'rốt': 2895, 'đại_loại': 4297, 'đâu_vậy': 4249, 'hỏi_han': 1407, 'nước_miếng': 2517, 'tổng_kết': 3718, 'mệt_mỏi': 2172, 'airdrop': 23, 'control': 563, 'center': 326, 'greyed': 1126, 'restrictions': 2842, 'tâm_trạng': 3599, 'nóng_giận': 2507, 'ngán': 2301, 'quặt': 2800, 'ồ_ồ': 4436, 'boltech': 135, 'chảo': 458, 'im_lặng': 1456, 'chồng_chất': 504, 'huyện': 1295, 'rãnh': 2867, 'selflife': 2951, 'trắng_bạch': 3534, 'gold': 1115, 'sop': 3005, 'rề_rề': 2894, 'khoái': 1530, 'mạch': 2140, 'tù': 3632, 'chia_trí': 352, 'bàn_giao': 163, 'mún_hủy_hàng': 2123, 'searial': 2943, 'ps': 2726, 'ắp': 4428, 'wtf': 3971, 'nhắm': 2436, 'sức_khỏe': 3110, 'li_ti': 1746, 'nợ': 2549, 'trận': 3532, 'nhà_báo': 2371, 'vị': 3921, 'nhoè': 2365, 'khám': 1553, 'xác_thực': 4029, 'ds': 818, 'fds': 955, 'sdfds': 2935, 'fd': 954, 'sfd': 2963, 'bổ_sung': 274, 'dev': 782, 'khuyênk': 1540, 'lạc_quan': 1897, 'hàng_kỹ': 1309, 'tay_cầm': 3138, 'tripod': 3462, 'la_bàn': 1715, 'bàn_ủi': 166, 'trù': 3508, 'phần_hủy_đơn': 2685, 'rõ_rệt': 2873, 'tất_nhiên': 3675, 'sóng_khỏe': 3055, 'vứt': 3935, 'cửa_sổ': 749, 'trẻ_trung': 3542, 'ông_già': 4147, 'yfhjihvh': 4093, 'bjuhv': 124, 'hjhghj': 1237, 'jgfghjh': 1491, 'hgjh': 1205, 'thoảng': 3205, 'rổi': 2898, 'gos': 1120, 'khinh_thường': 1521, 'run': 2854, 'cho_qua': 367, 'dò': 856, 'nâng_giá': 2493, 'thực_chất': 3339, 'cẩn_trọng': 703, 'nghìn': 2250, 'ngừng_nghỉ': 2334, 'xệch': 4066, 'nhàu': 2375, 'huy': 1293, 'hj': 1234, 'csis': 572, 'ván': 3857, 'chạo': 453, 'ní': 2500, 'cí': 614, 'bats': 93, 'sấu': 3085, 'cancel': 308, 'vòng_tay': 3871, 'mục_đích': 2205, 'itel': 1481, 'tuổihc': 3579, 'hc': 1189, 'nộp': 2547, 'đưng': 4289, 'dinh': 799, 'du_canh': 822, 'tranh': 3450, 'khai_tử': 1515, 'nghi': 2241, 'quy': 2758, 'don': 811, 'cty_tnh': 575, 'logistics': 1792, 'duong': 832, 'khu': 1534, 'kien': 1601, 'phuoc': 2632, 'mst': 2050, 'trống_trải': 3547, 'ngược': 2317, 'mộng_mơ': 2188, 'cuc': 579, 'lừa_dối': 1960, 'sg': 2964, 'tili': 3363, 'dac': 755, 'hen': 1200, 'tương_xứng': 3655, 'make': 1976, 'nhám': 2378, 'mực': 2210, 'nghĩa': 2251, 'nhảyvtung': 2415, 'toé': 3428, 'xóa_mất': 4043, 'sv': 3032, 'wonderful': 3967, 'genuine': 1011, 'orginal': 2586, 'sealed': 2940, 'definitely': 775, 'recomend': 2825, 'price': 2720, 'fast': 953, 'hom': 1253, 'hu': 1285, 'buột': 155, 'hạ_màng': 1365, 'sáng_tạo': 3045, 'chp': 373, 'khí_chất': 1557, 'phồng': 2692, 'rẹp': 2890, 'lẻo': 1925, 'nhiệt_độ': 2362, 'úa': 4149, 'use': 3771, 'seler': 2947, 'kind': 1605, 'lở': 1953, 'nhắc': 2434, 'oke': 2567, 'rks': 2847, 'tê_tê': 3604, 'suy': 3025, 'dó': 859, 'xịt': 4070, 'máy_điện_tử': 2088, 'cày': 594, 'nguoi_ung': 2276, 'la_dc': 1716, 'qly': 2739, 'restore': 2841, 'thon': 3197, 'hứng': 1443, 'gam': 999, 'admin': 12, 'tứ': 3736, 'bà_con': 158, 'thoi_gian': 3196, 'poco': 2716, 'kha': 1512, 'silicone': 2975, 'dùg': 862, 'khôg': 1568, 'ság': 3041, 'khám_phá': 1554, 'thủng': 3333, 'techmore': 3144, 'đùa': 4274, 'hoá_ra': 1271, 'ghi_chú': 1014, 'tận_tay': 3685, 'lo_ngại': 1782, 'ném': 2498, 'biệt': 122, 'thần': 3278, 'dị': 896, 'ghz': 1018, 'từ_điển_tích_hợp': 3742, 'mục_ngầm': 2204, 'vmart': 3833, 'kco': 1502, 'mũ': 2126, 'kèo': 1643, 'bân': 179, 'đíng': 4259, 'cập': 706, 'vá_lỗi': 3856, 'limited': 1754, 'chạc': 450, 'hàn': 1303, 'trắng_tinh': 3535, 'thân_thiết': 3231, 'xúc': 4047, 'ket': 1508, 'ce': 325, 'vet': 3800, 'xuoc': 4009, 'bắp': 245, 'jnt': 1493, 'red': 2826, 'đua': 4214, 'tận_dụng': 3683, 'hết_sức_mạnh': 1394, 'bionic': 108, 'xinh_xắn': 3991, 'volume': 3843, 'đùng': 4276, 'cứng_họng': 743, 'nói_ngang': 2504, 'kcs': 1503, 'cúa': 636, 'motor': 2046, 'ksc': 1637, 'chung_cuộc': 382, 'mừn': 2208, 'hùng_hục': 1344, 'cắm_đầu_vào': 711, 'làng': 1839, 'cành': 593, 'xuất_xưởng': 4018, 'né_tránh': 2497, 'cấu_hình_như': 691, 'perfect': 2607, 'mama': 1979, 'iporn': 1475, 'oneui': 2574, 'phoneinfo': 2624, 'cpuz': 571, 'nano': 2222, 'hiệu_lực': 1229, 'xóa_sạch': 4045, 'quần_áo': 2798, 'dược': 874, 'ngyaf': 2291, 'ngày_tháng': 2299, 'hêt': 1324, 'rải_rác': 2884, 'pải': 2734, 'thảo_luận': 3270, 'mìh': 2102, 'toàn_cảnh': 3427, 'giòn': 1066, 'nâng_niu': 2494, 'trứng': 3557, 'võ': 3883, 'atm': 63, 'câng': 609, 'funl': 995, 'bà_xã': 160, 'bx': 156, 'iu': 1484, 'khủng_khiếp': 1595, 'thùng_thình': 3257, 'trieu': 3459, 'nghiện': 2248, 'tốc': 3704, 'nặng_tay': 2530, 'chọt': 499, 'công_năng': 629, 'tiện_dụng': 3403, 'sịn': 3093, 'qcao': 2737, 'giai_đoạn': 1032, 'giọt': 1097, 'tray': 3454, 'faceid': 946, 'move': 2047, 'litle': 1761, 'lower': 1802, 'upgarde': 3766, 'rose': 2852, 'chết_trôi': 486, 'word': 3968, 'basic': 91, 'đã_đời': 4250, 'hạ_độ': 1366, 'như_ai': 2396, 'cg': 328, 'song_song': 3004, 'chỉ_thị': 490, 'giãn': 1065, 'phong_tỏa': 2629, 'ik': 1454, 'ấn_đc': 4423, 'đồng_vậy': 4375, 'typec': 3587, 'beautiful': 96, 'bụ': 284, 'tổng_đài_viên': 3726, 'quái': 2776, 'sỉ_dụng': 3092, 'hị': 1400, 'chà_đĩa': 397, 'kog': 1636, 'loa_vậy': 1784, 'bil': 105, 'trông_chờ': 3507, 'rội': 2901, 'giửa': 1103, 'mốt': 2184, 'tăng_giá': 3641, 'rơi_rớt': 2879, 'ngoại_lực': 2269, 'ha_ban': 1166, 'detico': 781, 'ngạc_nhiên': 2319, 'dặn': 888, 'pikachu': 2704, 'jewel': 1490, 'diamond': 791, 'già_yếu': 1049, 'na_ná': 2215, 'giải_tỏa': 1081, 'minimum': 2017, 'kí_tự': 1660, 'tổng_số': 3720, 'đáng_lí': 4237, 'tổng': 3716, 'thậm_tệ': 3286, 'hàng_không': 1308, 'gor': 1118, 'eu': 937, 'lùng': 1871, 'đút_túi': 4278, 'kamera': 1500, 'solo': 3000, 'pibseo': 2703, 'chú_thích': 437, 'quốc_gia': 2804, 'hongkong': 1257, 'cấp_độ': 688, 'rán': 2864, 'tất': 3673, 'cẩca': 699, 'nhamh': 2341, 'dữ_dội': 915, 'cpo': 568, 'lên_cân_nhắc': 1856, 'hớ': 1429, 'gắng': 1152, 'vang': 3785, 'long_vi': 1800, 'chưởng': 449, 'kịp_thời': 1704, 'xl': 3992, 'khai': 1514, 'dich': 792, 'mega': 2000, 'máy_quét': 2086, 'qr': 2740, 'reader': 2821, 'hư_hao': 1357, 'pencil': 2606, 'hạn_mức': 1371, 'tổng_đề': 3728, 'team': 3142, 'payment': 2602, 'nội_địa': 2546, 'đầug': 4310, 'giả_sử': 1075, 'câu_chuyện': 611, 'ekip': 926, 'thẫm': 3284, 'ins': 1466, 'yt': 4102, 'hs': 1280, 'fhjhfxvbncbhvb': 963, 'hugh': 1289, 'bjkfdgb': 123, 'ngonhghjkjfsx': 2264, 'gãy': 1133, 'linh_hoạt': 1755, 'chém': 415, 'xạo': 4057, 'lấn_cấn': 1902, 'ns': 2477, 'ngàt': 2294, 'register': 2832, 'bão': 183, 'internal': 1470, 'eror': 935, 'nelofare': 2230, 'unfortunately': 3758, 've_contacted': 3793, 'reported': 2838, 'lost': 1801, 'stolen': 3014, 'result': 2843, 'we': 3949, 'permit': 2608, 'registrations': 2833, 'if': 1453, 'concerns': 559, 'local': 1787, 'law': 1734, 'enforcement': 933, 'agency': 17, 'cứng_nhắc': 744, 'cãi': 613, 'gek': 1006, 'đểu': 4343, 'lay': 1735, 'nhug': 2368, 'chữ_cái': 529, 'lhe': 1745, 'chán_chê': 400, 'qđ': 2808, 'mimax': 2012, 'oạch': 2592, 'tý': 3640, 'to_đùng': 3415, 'nhân_dạng': 2381, 'macro': 1970, 'chít': 430, 'tầm_cỡ': 3677, 'bụi_bặm': 286}\n"
          ]
        }
      ],
      "source": [
        "print(cv.vocabulary_)"
      ]
    },
    {
      "cell_type": "code",
      "execution_count": 157,
      "metadata": {
        "colab": {
          "base_uri": "https://localhost:8080/"
        },
        "execution": {
          "iopub.execute_input": "2021-11-11T09:38:21.740596Z",
          "iopub.status.busy": "2021-11-11T09:38:21.740316Z",
          "iopub.status.idle": "2021-11-11T09:38:25.071086Z",
          "shell.execute_reply": "2021-11-11T09:38:25.070323Z",
          "shell.execute_reply.started": "2021-11-11T09:38:21.740558Z"
        },
        "id": "3BttSVKwNt1-",
        "outputId": "493829c2-f398-41e3-a54c-ee0a622ab1df",
        "trusted": true
      },
      "outputs": [
        {
          "name": "stdout",
          "output_type": "stream",
          "text": [
            "Accuracy: 0.6989206213307241\n"
          ]
        }
      ],
      "source": [
        "# Huấn luyện mô hình bằng DecisionTreeClassifier\n",
        "from sklearn.tree import DecisionTreeClassifier\n",
        "\n",
        "model = DecisionTreeClassifier()\n",
        "total_accuracy = cross_val_score(model, X_vectors, y, cv=10, scoring='accuracy')\n",
        "print('Accuracy:', np.mean(total_accuracy))"
      ]
    },
    {
      "cell_type": "code",
      "execution_count": 156,
      "metadata": {
        "colab": {
          "base_uri": "https://localhost:8080/"
        },
        "execution": {
          "iopub.execute_input": "2021-11-11T09:38:25.072832Z",
          "iopub.status.busy": "2021-11-11T09:38:25.072541Z",
          "iopub.status.idle": "2021-11-11T09:38:26.075233Z",
          "shell.execute_reply": "2021-11-11T09:38:26.07443Z",
          "shell.execute_reply.started": "2021-11-11T09:38:25.072796Z"
        },
        "id": "gC6BTtCnNt1-",
        "outputId": "97c13e64-0581-493f-ac45-eeffa9a20498",
        "trusted": true
      },
      "outputs": [
        {
          "name": "stdout",
          "output_type": "stream",
          "text": [
            "Accuracy: 0.6465264187866927\n"
          ]
        }
      ],
      "source": [
        "# Huấn luyện mô hình bằng KNeighborsClassifier\n",
        "from sklearn.neighbors import KNeighborsClassifier\n",
        "\n",
        "model = KNeighborsClassifier()\n",
        "total_accuracy = cross_val_score(model, X_vectors, y, cv=10, scoring='accuracy')\n",
        "print('Accuracy:', np.mean(total_accuracy))"
      ]
    },
    {
      "cell_type": "code",
      "execution_count": 155,
      "metadata": {
        "colab": {
          "base_uri": "https://localhost:8080/"
        },
        "execution": {
          "iopub.execute_input": "2021-11-11T09:38:26.077074Z",
          "iopub.status.busy": "2021-11-11T09:38:26.076413Z",
          "iopub.status.idle": "2021-11-11T09:38:26.118897Z",
          "shell.execute_reply": "2021-11-11T09:38:26.118084Z",
          "shell.execute_reply.started": "2021-11-11T09:38:26.077031Z"
        },
        "id": "bGPVKRNNNt1-",
        "outputId": "d8a26e15-791c-410e-e1e4-33b764c5658b",
        "trusted": true
      },
      "outputs": [
        {
          "name": "stdout",
          "output_type": "stream",
          "text": [
            "Accuracy: 0.7796699180528376\n"
          ]
        }
      ],
      "source": [
        "# Huấn luyện mô hình bằng MultinomialNB\n",
        "from sklearn.naive_bayes import MultinomialNB\n",
        "\n",
        "model = MultinomialNB()\n",
        "total_accuracy = cross_val_score(model, X_vectors, y, cv=10, scoring='accuracy')\n",
        "print('Accuracy:', np.mean(total_accuracy))"
      ]
    },
    {
      "cell_type": "code",
      "execution_count": 154,
      "metadata": {
        "colab": {
          "base_uri": "https://localhost:8080/"
        },
        "execution": {
          "iopub.execute_input": "2021-11-11T09:38:26.120494Z",
          "iopub.status.busy": "2021-11-11T09:38:26.12023Z",
          "iopub.status.idle": "2021-11-11T09:38:47.386981Z",
          "shell.execute_reply": "2021-11-11T09:38:47.38543Z",
          "shell.execute_reply.started": "2021-11-11T09:38:26.120459Z"
        },
        "id": "8wBRM23jNt1-",
        "outputId": "6a0e6764-4d2e-43b3-e635-406dc25a6bb6",
        "trusted": true
      },
      "outputs": [
        {
          "name": "stdout",
          "output_type": "stream",
          "text": [
            "Accuracy: 0.7782991202346041\n"
          ]
        }
      ],
      "source": [
        "# Huấn luyện mô hình bằng RandomForestClassifier\n",
        "from sklearn.ensemble import RandomForestClassifier\n",
        "\n",
        "model = RandomForestClassifier()\n",
        "total_accuracy = cross_val_score(model, X_vectors, y, cv=5, scoring='accuracy')\n",
        "print('Accuracy:', np.mean(total_accuracy))"
      ]
    },
    {
      "cell_type": "code",
      "execution_count": 153,
      "metadata": {
        "colab": {
          "base_uri": "https://localhost:8080/"
        },
        "execution": {
          "iopub.execute_input": "2021-11-11T09:38:47.388628Z",
          "iopub.status.busy": "2021-11-11T09:38:47.388263Z",
          "iopub.status.idle": "2021-11-11T09:38:56.301965Z",
          "shell.execute_reply": "2021-11-11T09:38:56.301228Z",
          "shell.execute_reply.started": "2021-11-11T09:38:47.388587Z"
        },
        "id": "RL1PzBDSNt1_",
        "outputId": "9da4ef3a-cf11-4e80-b68c-32b3667cb334",
        "trusted": true
      },
      "outputs": [
        {
          "name": "stdout",
          "output_type": "stream",
          "text": [
            "Accuracy: 0.7736070381231672\n"
          ]
        }
      ],
      "source": [
        "# Huấn luyện mô hình bằng SVM\n",
        "from sklearn.svm import SVC\n",
        "\n",
        "model = SVC()\n",
        "total_accuracy = cross_val_score(model, X_vectors, y, cv=5, scoring='accuracy')\n",
        "print('Accuracy:', np.mean(total_accuracy))"
      ]
    },
    {
      "cell_type": "markdown",
      "metadata": {
        "id": "oLywdLGjUBfc"
      },
      "source": [
        "### Lưu model"
      ]
    },
    {
      "cell_type": "code",
      "execution_count": 62,
      "metadata": {},
      "outputs": [],
      "source": [
        "# X_train, X_test, y_train, y_test = train_test_split(X, y, test_size=0.2, random_state=42)"
      ]
    },
    {
      "cell_type": "code",
      "execution_count": null,
      "metadata": {
        "id": "2385lFvSW9zU"
      },
      "outputs": [],
      "source": [
        "# Lưu model\n",
        "# cv = CountVectorizer()\n",
        "# X_train_vectors = cv.fit_transform(X_train)\n",
        "\n",
        "# NB_model = MultinomialNB()\n",
        "# NB_model.fit(X_train_vectors, y_train)\n",
        "# pred_y = NB_model.predict(cv.transform(X_test))\n",
        "\n",
        "# from sklearn.metrics import accuracy_score\n",
        "# print('Training accuracy: %.4f' % accuracy_score(y_train, NB_model.predict(X_train_vectors)))\n",
        "# print('Test accuracy: %.4f' % accuracy_score(y_test, pred_y))\n",
        "# import pickle\n",
        "\n",
        "# with open(\"/CountVectorizerAndMultinomialNB.pkl\", 'wb') as fout:\n",
        "#     pickle.dump((cv, NB_model), fout)"
      ]
    },
    {
      "cell_type": "markdown",
      "metadata": {
        "id": "If80UnkuW6vC"
      },
      "source": [
        "### Đọc model"
      ]
    },
    {
      "cell_type": "code",
      "execution_count": 79,
      "metadata": {
        "colab": {
          "base_uri": "https://localhost:8080/"
        },
        "id": "89SZrpGfUEik",
        "outputId": "90a322de-cf90-41c7-e27a-1e5a1b61b061"
      },
      "outputs": [
        {
          "name": "stdout",
          "output_type": "stream",
          "text": [
            "0.7849462365591398\n"
          ]
        }
      ],
      "source": [
        "# with open('CountVectorizerAndMultinomialNB.pkl', 'rb') as f:\n",
        "#     cv, NB_model = pickle.load(f)\n",
        "# X_vector = cv.transform(X_test)\n",
        "# pred_y = NB_model.predict(X_vector)\n",
        "# df = pd.DataFrame({\"y test\":y_test, \"y pred\":pred_y})\n",
        "# print(accuracy_score(y_test, pred_y))"
      ]
    },
    {
      "cell_type": "code",
      "execution_count": 98,
      "metadata": {},
      "outputs": [
        {
          "data": {
            "text/plain": [
              "<1023x4448 sparse matrix of type '<class 'numpy.int64'>'\n",
              "\twith 10073 stored elements in Compressed Sparse Row format>"
            ]
          },
          "execution_count": 98,
          "metadata": {},
          "output_type": "execute_result"
        }
      ],
      "source": [
        "# X_vector"
      ]
    },
    {
      "cell_type": "markdown",
      "metadata": {
        "id": "HrZIGskjNt1_"
      },
      "source": [
        "### Thử cải thiện mô hình bằng PhoBERT"
      ]
    },
    {
      "cell_type": "markdown",
      "metadata": {
        "id": "XYl2HkXaNt1_"
      },
      "source": [
        "tham khảo: https://github.com/thangnch/MiAI_Sentiment_Analysis_PhoBert/blob/main/train_model.py"
      ]
    },
    {
      "cell_type": "code",
      "execution_count": null,
      "metadata": {
        "execution": {
          "iopub.execute_input": "2021-11-11T09:38:56.303472Z",
          "iopub.status.busy": "2021-11-11T09:38:56.303217Z",
          "iopub.status.idle": "2021-11-11T09:39:11.887254Z",
          "shell.execute_reply": "2021-11-11T09:39:11.8864Z",
          "shell.execute_reply.started": "2021-11-11T09:38:56.303433Z"
        },
        "id": "L5LVOfGSNt1_",
        "trusted": true
      },
      "outputs": [],
      "source": [
        "!pip install underthesea"
      ]
    },
    {
      "cell_type": "code",
      "execution_count": null,
      "metadata": {
        "execution": {
          "iopub.execute_input": "2021-11-11T09:39:11.889171Z",
          "iopub.status.busy": "2021-11-11T09:39:11.888908Z",
          "iopub.status.idle": "2021-11-11T09:39:18.417184Z",
          "shell.execute_reply": "2021-11-11T09:39:18.41647Z",
          "shell.execute_reply.started": "2021-11-11T09:39:11.889134Z"
        },
        "id": "IwhYJLjGNt1_",
        "trusted": true
      },
      "outputs": [],
      "source": [
        "from transformers import AutoModel, AutoTokenizer # Thư viện BERT\n",
        "import torch\n",
        "import underthesea"
      ]
    },
    {
      "cell_type": "code",
      "execution_count": null,
      "metadata": {
        "execution": {
          "iopub.execute_input": "2021-11-11T09:39:18.420794Z",
          "iopub.status.busy": "2021-11-11T09:39:18.420581Z",
          "iopub.status.idle": "2021-11-11T09:39:18.427542Z",
          "shell.execute_reply": "2021-11-11T09:39:18.426818Z",
          "shell.execute_reply.started": "2021-11-11T09:39:18.420766Z"
        },
        "id": "Kdl_2TibNt1_",
        "trusted": true
      },
      "outputs": [],
      "source": [
        "# Hàm load model BERT\n",
        "def load_bert():\n",
        "    v_phobert = AutoModel.from_pretrained(\"vinai/phobert-base\")\n",
        "    v_tokenizer = AutoTokenizer.from_pretrained(\"vinai/phobert-base\", use_fast=False)\n",
        "    return v_phobert, v_tokenizer"
      ]
    },
    {
      "cell_type": "code",
      "execution_count": null,
      "metadata": {
        "execution": {
          "iopub.execute_input": "2021-11-11T09:39:18.430927Z",
          "iopub.status.busy": "2021-11-11T09:39:18.430692Z",
          "iopub.status.idle": "2021-11-11T09:39:18.439843Z",
          "shell.execute_reply": "2021-11-11T09:39:18.439069Z",
          "shell.execute_reply.started": "2021-11-11T09:39:18.430879Z"
        },
        "id": "_VpqneG8Nt1_",
        "trusted": true
      },
      "outputs": [],
      "source": [
        "# Hàm tạo ra bert features\n",
        "def make_bert_features(v_text):\n",
        "    global phobert\n",
        "    v_tokenized = []\n",
        "    max_len = 100 # Mỗi câu dài tối đa 100 từ\n",
        "    for i_text in v_text:\n",
        "        print(\"Đang xử lý line = \", i_text)\n",
        "        # Phân thành từng từ\n",
        "        line = underthesea.word_tokenize(i_text)\n",
        "        # Ghép lại thành câu như cũ sau khi lọc\n",
        "        line = \" \".join(line)\n",
        "        line = underthesea.word_tokenize(line, format=\"text\")\n",
        "        print(\"Word segment  = \", line)\n",
        "        # Tokenize bởi BERT\n",
        "        line = tokenizer.encode(line)\n",
        "        v_tokenized.append(line)\n",
        "\n",
        "    # Chèn thêm số 1 vào cuối câu nếu như không đủ 100 từ\n",
        "    padded = np.array([i + [1] * (max_len - len(i)) for i in v_tokenized])\n",
        "#     print('padded:', padded[0])\n",
        "#     print('len padded:', padded.shape)\n",
        "\n",
        "    # Đánh dấu các từ thêm vào = 0 để không tính vào quá trình lấy features\n",
        "    attention_mask = np.where(padded == 1, 0, 1)\n",
        "#     print('attention mask:', attention_mask[0])\n",
        "\n",
        "    # Chuyển thành tensor\n",
        "    padded = torch.tensor(padded).to(torch.long)\n",
        "#     print(\"Padd = \",padded.size())\n",
        "    attention_mask = torch.tensor(attention_mask)\n",
        "\n",
        "    # Lấy features dầu ra từ BERT\n",
        "    with torch.no_grad():\n",
        "        last_hidden_states = phobert(input_ids= padded, attention_mask=attention_mask)\n",
        "\n",
        "    v_features = last_hidden_states[0][:, 0, :].numpy()\n",
        "    print(v_features.shape)\n",
        "    return v_features"
      ]
    },
    {
      "cell_type": "code",
      "execution_count": null,
      "metadata": {
        "execution": {
          "iopub.execute_input": "2021-11-11T09:39:18.442068Z",
          "iopub.status.busy": "2021-11-11T09:39:18.441117Z",
          "iopub.status.idle": "2021-11-11T09:39:46.694948Z",
          "shell.execute_reply": "2021-11-11T09:39:46.694124Z",
          "shell.execute_reply.started": "2021-11-11T09:39:18.44203Z"
        },
        "id": "-fGhYNGuNt2A",
        "trusted": true
      },
      "outputs": [],
      "source": [
        "print(\"Chuẩn bị nạp model BERT....\")\n",
        "phobert, tokenizer = load_bert()\n",
        "print(\"Đã nạp xong model BERT.\")"
      ]
    },
    {
      "cell_type": "code",
      "execution_count": null,
      "metadata": {
        "id": "r9mnWc5XNt2A",
        "trusted": true
      },
      "outputs": [],
      "source": [
        "print(\"Chuẩn bị tạo features từ BERT.....\")\n",
        "global phobert\n",
        "v_tokenized = []\n",
        "max_len = 80 # Mỗi câu dài tối đa 90 từ\n",
        "for i_text in X:\n",
        "#     print(\"Đang xử lý line = \", i_text)\n",
        "    # Phân thành từng từ\n",
        "    line = underthesea.word_tokenize(i_text)\n",
        "    # Ghép lại thành câu như cũ sau khi lọc\n",
        "    line = \" \".join(line)\n",
        "    line = underthesea.word_tokenize(line, format=\"text\")\n",
        "#     print(\"Word segment  = \", line)\n",
        "    # Tokenize bởi BERT\n",
        "    line = tokenizer.encode(line)\n",
        "    v_tokenized.append(line)\n",
        "\n",
        "# Chèn thêm số 1 vào cuối câu nếu như không đủ 100 từ\n",
        "padded = np.array([np.array(i[:max_len-len(i)]) if len(i) > max_len else np.array(i + [1] * (max_len - len(i))) for i in v_tokenized])\n",
        "print('padded:', padded[0])\n",
        "print('len padded:', padded.shape)\n"
      ]
    },
    {
      "cell_type": "code",
      "execution_count": null,
      "metadata": {
        "id": "wGglyQ5WNt2A",
        "trusted": true
      },
      "outputs": [],
      "source": [
        "# Đánh dấu các từ thêm vào = 0 để không tính vào quá trình lấy features\n",
        "attention_mask = np.where(padded == 1, 0, 1)\n",
        "print('attention mask:', attention_mask[0])"
      ]
    },
    {
      "cell_type": "code",
      "execution_count": null,
      "metadata": {
        "id": "8F683D5KNt2A",
        "trusted": true
      },
      "outputs": [],
      "source": [
        "# Đánh dấu các từ thêm vào = 0 để không tính vào quá trình lấy features\n",
        "attention_mask = np.where(padded == 1, 0, 1)\n",
        "print('attention mask:', attention_mask[0].shape)"
      ]
    },
    {
      "cell_type": "code",
      "execution_count": null,
      "metadata": {
        "execution": {
          "iopub.execute_input": "2021-11-11T09:40:01.541617Z",
          "iopub.status.busy": "2021-11-11T09:40:01.541434Z",
          "iopub.status.idle": "2021-11-11T09:40:01.550853Z",
          "shell.execute_reply": "2021-11-11T09:40:01.549899Z",
          "shell.execute_reply.started": "2021-11-11T09:40:01.541595Z"
        },
        "id": "-_pra7itNt2A",
        "trusted": true
      },
      "outputs": [],
      "source": [
        "# Chuyển thành tensor\n",
        "padded = torch.tensor(padded).to(torch.long)\n",
        "print(\"Padd = \",padded.size())\n",
        "attention_mask = torch.tensor(attention_mask)"
      ]
    },
    {
      "cell_type": "code",
      "execution_count": null,
      "metadata": {
        "execution": {
          "iopub.execute_input": "2021-11-11T09:40:01.553333Z",
          "iopub.status.busy": "2021-11-11T09:40:01.551946Z"
        },
        "id": "ahFtLxsJNt2A",
        "trusted": true
      },
      "outputs": [],
      "source": [
        "# Lấy features dầu ra từ BERT\n",
        "with torch.no_grad():\n",
        "    last_hidden_states = phobert(input_ids= padded, attention_mask=attention_mask)\n",
        "\n",
        "v_features = last_hidden_states[0][:, 0, :].numpy()\n",
        "print(v_features.shape)\n",
        "print(\"Đã tạo xong features từ BERT\")"
      ]
    }
  ],
  "metadata": {
    "colab": {
      "name": "train.ipynb",
      "provenance": []
    },
    "kernelspec": {
      "display_name": "Python 3",
      "language": "python",
      "name": "python3"
    },
    "language_info": {
      "codemirror_mode": {
        "name": "ipython",
        "version": 3
      },
      "file_extension": ".py",
      "mimetype": "text/x-python",
      "name": "python",
      "nbconvert_exporter": "python",
      "pygments_lexer": "ipython3",
      "version": "3.8.3"
    }
  },
  "nbformat": 4,
  "nbformat_minor": 0
}
