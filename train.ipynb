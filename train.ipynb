{
  "cells": [
    {
      "cell_type": "code",
      "execution_count": 2,
      "metadata": {
        "colab": {
          "base_uri": "https://localhost:8080/"
        },
        "id": "8epCa8vGfvA1",
        "outputId": "bd9492df-a8e9-4831-b74b-5ecd43b25ae7"
      },
      "outputs": [
        {
          "name": "stdout",
          "output_type": "stream",
          "text": [
            "Drive already mounted at /content/drive; to attempt to forcibly remount, call drive.mount(\"/content/drive\", force_remount=True).\n"
          ]
        }
      ],
      "source": [
        "from google.colab import drive\n",
        "drive.mount('/content/drive')"
      ]
    },
    {
      "cell_type": "markdown",
      "metadata": {
        "id": "hx-6CooUNt1p"
      },
      "source": [
        "## 1. Import libraries"
      ]
    },
    {
      "cell_type": "code",
      "execution_count": 3,
      "metadata": {
        "colab": {
          "base_uri": "https://localhost:8080/"
        },
        "execution": {
          "iopub.execute_input": "2021-11-11T09:37:41.449095Z",
          "iopub.status.busy": "2021-11-11T09:37:41.448709Z",
          "iopub.status.idle": "2021-11-11T09:37:53.721696Z",
          "shell.execute_reply": "2021-11-11T09:37:53.720766Z",
          "shell.execute_reply.started": "2021-11-11T09:37:41.448996Z"
        },
        "id": "oXJtRvviNt1u",
        "outputId": "5691ce47-4a15-48ba-88e5-bc877b408ac0",
        "trusted": true
      },
      "outputs": [
        {
          "name": "stdout",
          "output_type": "stream",
          "text": [
            "Collecting pyvi\n",
            "  Downloading pyvi-0.1.1-py2.py3-none-any.whl (8.5 MB)\n",
            "\u001b[K     |████████████████████████████████| 8.5 MB 5.0 MB/s \n",
            "\u001b[?25hCollecting sklearn-crfsuite\n",
            "  Downloading sklearn_crfsuite-0.3.6-py2.py3-none-any.whl (12 kB)\n",
            "Requirement already satisfied: scikit-learn in /usr/local/lib/python3.7/dist-packages (from pyvi) (1.0.1)\n",
            "Requirement already satisfied: scipy>=1.1.0 in /usr/local/lib/python3.7/dist-packages (from scikit-learn->pyvi) (1.4.1)\n",
            "Requirement already satisfied: threadpoolctl>=2.0.0 in /usr/local/lib/python3.7/dist-packages (from scikit-learn->pyvi) (3.0.0)\n",
            "Requirement already satisfied: numpy>=1.14.6 in /usr/local/lib/python3.7/dist-packages (from scikit-learn->pyvi) (1.19.5)\n",
            "Requirement already satisfied: joblib>=0.11 in /usr/local/lib/python3.7/dist-packages (from scikit-learn->pyvi) (1.1.0)\n",
            "Requirement already satisfied: tabulate in /usr/local/lib/python3.7/dist-packages (from sklearn-crfsuite->pyvi) (0.8.9)\n",
            "Collecting python-crfsuite>=0.8.3\n",
            "  Downloading python_crfsuite-0.9.7-cp37-cp37m-manylinux1_x86_64.whl (743 kB)\n",
            "\u001b[K     |████████████████████████████████| 743 kB 50.5 MB/s \n",
            "\u001b[?25hRequirement already satisfied: tqdm>=2.0 in /usr/local/lib/python3.7/dist-packages (from sklearn-crfsuite->pyvi) (4.62.3)\n",
            "Requirement already satisfied: six in /usr/local/lib/python3.7/dist-packages (from sklearn-crfsuite->pyvi) (1.15.0)\n",
            "Installing collected packages: python-crfsuite, sklearn-crfsuite, pyvi\n",
            "Successfully installed python-crfsuite-0.9.7 pyvi-0.1.1 sklearn-crfsuite-0.3.6\n"
          ]
        }
      ],
      "source": [
        "!pip install pyvi"
      ]
    },
    {
      "cell_type": "code",
      "execution_count": 4,
      "metadata": {
        "execution": {
          "iopub.execute_input": "2021-11-11T09:37:53.724239Z",
          "iopub.status.busy": "2021-11-11T09:37:53.723939Z",
          "iopub.status.idle": "2021-11-11T09:37:54.548482Z",
          "shell.execute_reply": "2021-11-11T09:37:54.547743Z",
          "shell.execute_reply.started": "2021-11-11T09:37:53.724181Z"
        },
        "id": "47TWhS5fNt1v",
        "trusted": true
      },
      "outputs": [],
      "source": [
        "import pandas as pd\n",
        "import numpy as np\n",
        "import matplotlib.pyplot as plt\n",
        "import seaborn as sns\n",
        "import re\n",
        "from pyvi import ViTokenizer"
      ]
    },
    {
      "cell_type": "markdown",
      "metadata": {
        "id": "JI51zD5iNt1w"
      },
      "source": [
        "## 2. Read data"
      ]
    },
    {
      "cell_type": "code",
      "execution_count": 5,
      "metadata": {
        "colab": {
          "base_uri": "https://localhost:8080/",
          "height": 206
        },
        "execution": {
          "iopub.execute_input": "2021-11-11T09:37:54.551614Z",
          "iopub.status.busy": "2021-11-11T09:37:54.551174Z",
          "iopub.status.idle": "2021-11-11T09:37:54.809999Z",
          "shell.execute_reply": "2021-11-11T09:37:54.809348Z",
          "shell.execute_reply.started": "2021-11-11T09:37:54.551571Z"
        },
        "id": "GsmxSuQINt1w",
        "outputId": "b051d9a9-af45-4293-a390-a9b03ebed8cf",
        "trusted": true
      },
      "outputs": [
        {
          "data": {
            "text/html": [
              "\n",
              "  <div id=\"df-cd38332f-2594-4730-9afb-b0177162dd05\">\n",
              "    <div class=\"colab-df-container\">\n",
              "      <div>\n",
              "<style scoped>\n",
              "    .dataframe tbody tr th:only-of-type {\n",
              "        vertical-align: middle;\n",
              "    }\n",
              "\n",
              "    .dataframe tbody tr th {\n",
              "        vertical-align: top;\n",
              "    }\n",
              "\n",
              "    .dataframe thead th {\n",
              "        text-align: right;\n",
              "    }\n",
              "</style>\n",
              "<table border=\"1\" class=\"dataframe\">\n",
              "  <thead>\n",
              "    <tr style=\"text-align: right;\">\n",
              "      <th></th>\n",
              "      <th>content</th>\n",
              "      <th>rating</th>\n",
              "    </tr>\n",
              "  </thead>\n",
              "  <tbody>\n",
              "    <tr>\n",
              "      <th>0</th>\n",
              "      <td>Giao hàng cực nhanh, sáng hôm nay đặt,sáng mai...</td>\n",
              "      <td>5</td>\n",
              "    </tr>\n",
              "    <tr>\n",
              "      <th>1</th>\n",
              "      <td>Đóng gói cẩn thận, điện thoại còn nguyên seal,...</td>\n",
              "      <td>5</td>\n",
              "    </tr>\n",
              "    <tr>\n",
              "      <th>2</th>\n",
              "      <td>Mình cho 1 sao vì thái độ dịch vụ Khách hàng t...</td>\n",
              "      <td>1</td>\n",
              "    </tr>\n",
              "    <tr>\n",
              "      <th>3</th>\n",
              "      <td>Sản phẩm tầm giá nhìn cũng đx , mình mua cho p...</td>\n",
              "      <td>3</td>\n",
              "    </tr>\n",
              "    <tr>\n",
              "      <th>4</th>\n",
              "      <td>Màu xanh ở ngoài nhìn đẹp sang, thích hơ...</td>\n",
              "      <td>5</td>\n",
              "    </tr>\n",
              "  </tbody>\n",
              "</table>\n",
              "</div>\n",
              "      <button class=\"colab-df-convert\" onclick=\"convertToInteractive('df-cd38332f-2594-4730-9afb-b0177162dd05')\"\n",
              "              title=\"Convert this dataframe to an interactive table.\"\n",
              "              style=\"display:none;\">\n",
              "        \n",
              "  <svg xmlns=\"http://www.w3.org/2000/svg\" height=\"24px\"viewBox=\"0 0 24 24\"\n",
              "       width=\"24px\">\n",
              "    <path d=\"M0 0h24v24H0V0z\" fill=\"none\"/>\n",
              "    <path d=\"M18.56 5.44l.94 2.06.94-2.06 2.06-.94-2.06-.94-.94-2.06-.94 2.06-2.06.94zm-11 1L8.5 8.5l.94-2.06 2.06-.94-2.06-.94L8.5 2.5l-.94 2.06-2.06.94zm10 10l.94 2.06.94-2.06 2.06-.94-2.06-.94-.94-2.06-.94 2.06-2.06.94z\"/><path d=\"M17.41 7.96l-1.37-1.37c-.4-.4-.92-.59-1.43-.59-.52 0-1.04.2-1.43.59L10.3 9.45l-7.72 7.72c-.78.78-.78 2.05 0 2.83L4 21.41c.39.39.9.59 1.41.59.51 0 1.02-.2 1.41-.59l7.78-7.78 2.81-2.81c.8-.78.8-2.07 0-2.86zM5.41 20L4 18.59l7.72-7.72 1.47 1.35L5.41 20z\"/>\n",
              "  </svg>\n",
              "      </button>\n",
              "      \n",
              "  <style>\n",
              "    .colab-df-container {\n",
              "      display:flex;\n",
              "      flex-wrap:wrap;\n",
              "      gap: 12px;\n",
              "    }\n",
              "\n",
              "    .colab-df-convert {\n",
              "      background-color: #E8F0FE;\n",
              "      border: none;\n",
              "      border-radius: 50%;\n",
              "      cursor: pointer;\n",
              "      display: none;\n",
              "      fill: #1967D2;\n",
              "      height: 32px;\n",
              "      padding: 0 0 0 0;\n",
              "      width: 32px;\n",
              "    }\n",
              "\n",
              "    .colab-df-convert:hover {\n",
              "      background-color: #E2EBFA;\n",
              "      box-shadow: 0px 1px 2px rgba(60, 64, 67, 0.3), 0px 1px 3px 1px rgba(60, 64, 67, 0.15);\n",
              "      fill: #174EA6;\n",
              "    }\n",
              "\n",
              "    [theme=dark] .colab-df-convert {\n",
              "      background-color: #3B4455;\n",
              "      fill: #D2E3FC;\n",
              "    }\n",
              "\n",
              "    [theme=dark] .colab-df-convert:hover {\n",
              "      background-color: #434B5C;\n",
              "      box-shadow: 0px 1px 3px 1px rgba(0, 0, 0, 0.15);\n",
              "      filter: drop-shadow(0px 1px 2px rgba(0, 0, 0, 0.3));\n",
              "      fill: #FFFFFF;\n",
              "    }\n",
              "  </style>\n",
              "\n",
              "      <script>\n",
              "        const buttonEl =\n",
              "          document.querySelector('#df-cd38332f-2594-4730-9afb-b0177162dd05 button.colab-df-convert');\n",
              "        buttonEl.style.display =\n",
              "          google.colab.kernel.accessAllowed ? 'block' : 'none';\n",
              "\n",
              "        async function convertToInteractive(key) {\n",
              "          const element = document.querySelector('#df-cd38332f-2594-4730-9afb-b0177162dd05');\n",
              "          const dataTable =\n",
              "            await google.colab.kernel.invokeFunction('convertToInteractive',\n",
              "                                                     [key], {});\n",
              "          if (!dataTable) return;\n",
              "\n",
              "          const docLinkHtml = 'Like what you see? Visit the ' +\n",
              "            '<a target=\"_blank\" href=https://colab.research.google.com/notebooks/data_table.ipynb>data table notebook</a>'\n",
              "            + ' to learn more about interactive tables.';\n",
              "          element.innerHTML = '';\n",
              "          dataTable['output_type'] = 'display_data';\n",
              "          await google.colab.output.renderOutput(dataTable, element);\n",
              "          const docLink = document.createElement('div');\n",
              "          docLink.innerHTML = docLinkHtml;\n",
              "          element.appendChild(docLink);\n",
              "        }\n",
              "      </script>\n",
              "    </div>\n",
              "  </div>\n",
              "  "
            ],
            "text/plain": [
              "                                             content  rating\n",
              "0  Giao hàng cực nhanh, sáng hôm nay đặt,sáng mai...       5\n",
              "1  Đóng gói cẩn thận, điện thoại còn nguyên seal,...       5\n",
              "2  Mình cho 1 sao vì thái độ dịch vụ Khách hàng t...       1\n",
              "3  Sản phẩm tầm giá nhìn cũng đx , mình mua cho p...       3\n",
              "4  Màu xanh ở ngoài nhìn đẹp sang, thích hơ...       5"
            ]
          },
          "execution_count": 5,
          "metadata": {},
          "output_type": "execute_result"
        }
      ],
      "source": [
        "# Đọc dữ liệu từ file json\n",
        "data = pd.read_json(\"/content/drive/MyDrive/Colab Notebooks/data/tiki/data_coment_tiki.json\")\n",
        "data.head()"
      ]
    },
    {
      "cell_type": "code",
      "execution_count": 6,
      "metadata": {
        "colab": {
          "base_uri": "https://localhost:8080/",
          "height": 206
        },
        "execution": {
          "iopub.execute_input": "2021-11-11T09:37:54.812269Z",
          "iopub.status.busy": "2021-11-11T09:37:54.812004Z",
          "iopub.status.idle": "2021-11-11T09:37:54.823761Z",
          "shell.execute_reply": "2021-11-11T09:37:54.823025Z",
          "shell.execute_reply.started": "2021-11-11T09:37:54.812233Z"
        },
        "id": "75Qg8YVaNt1x",
        "outputId": "99bfe5f3-be32-4c47-fb6f-c2f8c32d89f7",
        "trusted": true
      },
      "outputs": [
        {
          "data": {
            "text/html": [
              "\n",
              "  <div id=\"df-ae4ebe56-c232-4ae0-8c22-7fc695e5a673\">\n",
              "    <div class=\"colab-df-container\">\n",
              "      <div>\n",
              "<style scoped>\n",
              "    .dataframe tbody tr th:only-of-type {\n",
              "        vertical-align: middle;\n",
              "    }\n",
              "\n",
              "    .dataframe tbody tr th {\n",
              "        vertical-align: top;\n",
              "    }\n",
              "\n",
              "    .dataframe thead th {\n",
              "        text-align: right;\n",
              "    }\n",
              "</style>\n",
              "<table border=\"1\" class=\"dataframe\">\n",
              "  <thead>\n",
              "    <tr style=\"text-align: right;\">\n",
              "      <th></th>\n",
              "      <th>text</th>\n",
              "      <th>star</th>\n",
              "    </tr>\n",
              "  </thead>\n",
              "  <tbody>\n",
              "    <tr>\n",
              "      <th>0</th>\n",
              "      <td>Giao hàng cực nhanh, sáng hôm nay đặt,sáng mai...</td>\n",
              "      <td>5</td>\n",
              "    </tr>\n",
              "    <tr>\n",
              "      <th>1</th>\n",
              "      <td>Đóng gói cẩn thận, điện thoại còn nguyên seal,...</td>\n",
              "      <td>5</td>\n",
              "    </tr>\n",
              "    <tr>\n",
              "      <th>2</th>\n",
              "      <td>Mình cho 1 sao vì thái độ dịch vụ Khách hàng t...</td>\n",
              "      <td>1</td>\n",
              "    </tr>\n",
              "    <tr>\n",
              "      <th>3</th>\n",
              "      <td>Sản phẩm tầm giá nhìn cũng đx , mình mua cho p...</td>\n",
              "      <td>3</td>\n",
              "    </tr>\n",
              "    <tr>\n",
              "      <th>4</th>\n",
              "      <td>Màu xanh ở ngoài nhìn đẹp sang, thích hơ...</td>\n",
              "      <td>5</td>\n",
              "    </tr>\n",
              "  </tbody>\n",
              "</table>\n",
              "</div>\n",
              "      <button class=\"colab-df-convert\" onclick=\"convertToInteractive('df-ae4ebe56-c232-4ae0-8c22-7fc695e5a673')\"\n",
              "              title=\"Convert this dataframe to an interactive table.\"\n",
              "              style=\"display:none;\">\n",
              "        \n",
              "  <svg xmlns=\"http://www.w3.org/2000/svg\" height=\"24px\"viewBox=\"0 0 24 24\"\n",
              "       width=\"24px\">\n",
              "    <path d=\"M0 0h24v24H0V0z\" fill=\"none\"/>\n",
              "    <path d=\"M18.56 5.44l.94 2.06.94-2.06 2.06-.94-2.06-.94-.94-2.06-.94 2.06-2.06.94zm-11 1L8.5 8.5l.94-2.06 2.06-.94-2.06-.94L8.5 2.5l-.94 2.06-2.06.94zm10 10l.94 2.06.94-2.06 2.06-.94-2.06-.94-.94-2.06-.94 2.06-2.06.94z\"/><path d=\"M17.41 7.96l-1.37-1.37c-.4-.4-.92-.59-1.43-.59-.52 0-1.04.2-1.43.59L10.3 9.45l-7.72 7.72c-.78.78-.78 2.05 0 2.83L4 21.41c.39.39.9.59 1.41.59.51 0 1.02-.2 1.41-.59l7.78-7.78 2.81-2.81c.8-.78.8-2.07 0-2.86zM5.41 20L4 18.59l7.72-7.72 1.47 1.35L5.41 20z\"/>\n",
              "  </svg>\n",
              "      </button>\n",
              "      \n",
              "  <style>\n",
              "    .colab-df-container {\n",
              "      display:flex;\n",
              "      flex-wrap:wrap;\n",
              "      gap: 12px;\n",
              "    }\n",
              "\n",
              "    .colab-df-convert {\n",
              "      background-color: #E8F0FE;\n",
              "      border: none;\n",
              "      border-radius: 50%;\n",
              "      cursor: pointer;\n",
              "      display: none;\n",
              "      fill: #1967D2;\n",
              "      height: 32px;\n",
              "      padding: 0 0 0 0;\n",
              "      width: 32px;\n",
              "    }\n",
              "\n",
              "    .colab-df-convert:hover {\n",
              "      background-color: #E2EBFA;\n",
              "      box-shadow: 0px 1px 2px rgba(60, 64, 67, 0.3), 0px 1px 3px 1px rgba(60, 64, 67, 0.15);\n",
              "      fill: #174EA6;\n",
              "    }\n",
              "\n",
              "    [theme=dark] .colab-df-convert {\n",
              "      background-color: #3B4455;\n",
              "      fill: #D2E3FC;\n",
              "    }\n",
              "\n",
              "    [theme=dark] .colab-df-convert:hover {\n",
              "      background-color: #434B5C;\n",
              "      box-shadow: 0px 1px 3px 1px rgba(0, 0, 0, 0.15);\n",
              "      filter: drop-shadow(0px 1px 2px rgba(0, 0, 0, 0.3));\n",
              "      fill: #FFFFFF;\n",
              "    }\n",
              "  </style>\n",
              "\n",
              "      <script>\n",
              "        const buttonEl =\n",
              "          document.querySelector('#df-ae4ebe56-c232-4ae0-8c22-7fc695e5a673 button.colab-df-convert');\n",
              "        buttonEl.style.display =\n",
              "          google.colab.kernel.accessAllowed ? 'block' : 'none';\n",
              "\n",
              "        async function convertToInteractive(key) {\n",
              "          const element = document.querySelector('#df-ae4ebe56-c232-4ae0-8c22-7fc695e5a673');\n",
              "          const dataTable =\n",
              "            await google.colab.kernel.invokeFunction('convertToInteractive',\n",
              "                                                     [key], {});\n",
              "          if (!dataTable) return;\n",
              "\n",
              "          const docLinkHtml = 'Like what you see? Visit the ' +\n",
              "            '<a target=\"_blank\" href=https://colab.research.google.com/notebooks/data_table.ipynb>data table notebook</a>'\n",
              "            + ' to learn more about interactive tables.';\n",
              "          element.innerHTML = '';\n",
              "          dataTable['output_type'] = 'display_data';\n",
              "          await google.colab.output.renderOutput(dataTable, element);\n",
              "          const docLink = document.createElement('div');\n",
              "          docLink.innerHTML = docLinkHtml;\n",
              "          element.appendChild(docLink);\n",
              "        }\n",
              "      </script>\n",
              "    </div>\n",
              "  </div>\n",
              "  "
            ],
            "text/plain": [
              "                                                text  star\n",
              "0  Giao hàng cực nhanh, sáng hôm nay đặt,sáng mai...     5\n",
              "1  Đóng gói cẩn thận, điện thoại còn nguyên seal,...     5\n",
              "2  Mình cho 1 sao vì thái độ dịch vụ Khách hàng t...     1\n",
              "3  Sản phẩm tầm giá nhìn cũng đx , mình mua cho p...     3\n",
              "4  Màu xanh ở ngoài nhìn đẹp sang, thích hơ...     5"
            ]
          },
          "execution_count": 6,
          "metadata": {},
          "output_type": "execute_result"
        }
      ],
      "source": [
        "# Đổi nhãn\n",
        "data.rename(columns={\"content\":\"text\",\"rating\":\"star\"}, inplace=True)\n",
        "data.head()"
      ]
    },
    {
      "cell_type": "code",
      "execution_count": 7,
      "metadata": {
        "colab": {
          "base_uri": "https://localhost:8080/"
        },
        "execution": {
          "iopub.execute_input": "2021-11-11T09:37:54.825738Z",
          "iopub.status.busy": "2021-11-11T09:37:54.825267Z",
          "iopub.status.idle": "2021-11-11T09:37:54.84536Z",
          "shell.execute_reply": "2021-11-11T09:37:54.844624Z",
          "shell.execute_reply.started": "2021-11-11T09:37:54.8257Z"
        },
        "id": "NtErbI2-Nt1x",
        "outputId": "df6135d6-3b29-42b0-d708-3a6ea5ff9f8e",
        "trusted": true
      },
      "outputs": [
        {
          "name": "stdout",
          "output_type": "stream",
          "text": [
            "<class 'pandas.core.frame.DataFrame'>\n",
            "RangeIndex: 16115 entries, 0 to 16114\n",
            "Data columns (total 2 columns):\n",
            " #   Column  Non-Null Count  Dtype \n",
            "---  ------  --------------  ----- \n",
            " 0   text    16115 non-null  object\n",
            " 1   star    16115 non-null  int64 \n",
            "dtypes: int64(1), object(1)\n",
            "memory usage: 251.9+ KB\n"
          ]
        }
      ],
      "source": [
        "data.info()"
      ]
    },
    {
      "cell_type": "markdown",
      "metadata": {
        "id": "7vP9GYnzZYIa"
      },
      "source": [
        "=> Dữ liệu có 16115 phần tử và không có phần tử nào rỗng"
      ]
    },
    {
      "cell_type": "markdown",
      "metadata": {
        "id": "XCFmT0q9ZYIb"
      },
      "source": [
        "## 3. Exploratory Data Analysis (EDA)"
      ]
    },
    {
      "cell_type": "markdown",
      "metadata": {
        "id": "hcOMX6WMZYIc"
      },
      "source": [
        "### Class distribution (Sự phân bố các lớp)"
      ]
    },
    {
      "cell_type": "code",
      "execution_count": 8,
      "metadata": {
        "colab": {
          "base_uri": "https://localhost:8080/",
          "height": 279
        },
        "id": "8KoMkCWzZYIc",
        "outputId": "10eb781d-e678-497d-c85f-ad54b8df9e85"
      },
      "outputs": [
        {
          "data": {
            "image/png": "[encoded data removed]",
            "text/plain": [
              "<Figure size 432x288 with 1 Axes>"
            ]
          },
          "metadata": {
            "needs_background": "light"
          },
          "output_type": "display_data"
        }
      ],
      "source": [
        "sns.histplot(data=data['star']);"
      ]
    },
    {
      "cell_type": "markdown",
      "metadata": {
        "id": "UQSe0QPzNt1y"
      },
      "source": [
        "### Do dữ liệu bị mất cân bằng nên ta xóa ngẫu nhiên 10000 mẫu 5 sao, và 1000 mẫu 4 sao"
      ]
    },
    {
      "cell_type": "code",
      "execution_count": 9,
      "metadata": {
        "execution": {
          "iopub.execute_input": "2021-11-11T09:37:54.847239Z",
          "iopub.status.busy": "2021-11-11T09:37:54.846865Z",
          "iopub.status.idle": "2021-11-11T09:37:54.856697Z",
          "shell.execute_reply": "2021-11-11T09:37:54.855888Z",
          "shell.execute_reply.started": "2021-11-11T09:37:54.847203Z"
        },
        "id": "eA7J5m-qNt1y",
        "trusted": true
      },
      "outputs": [],
      "source": [
        "np.random.seed(10)\n",
        "remove_n = 10000\n",
        "drop_indices = np.random.choice(data[data['star'] == 5].index, remove_n, replace=False)\n",
        "data = data.drop(drop_indices)"
      ]
    },
    {
      "cell_type": "code",
      "execution_count": 10,
      "metadata": {
        "execution": {
          "iopub.execute_input": "2021-11-11T09:37:54.858755Z",
          "iopub.status.busy": "2021-11-11T09:37:54.858304Z",
          "iopub.status.idle": "2021-11-11T09:37:54.865953Z",
          "shell.execute_reply": "2021-11-11T09:37:54.865169Z",
          "shell.execute_reply.started": "2021-11-11T09:37:54.858719Z"
        },
        "id": "s4aXPeLANt1z",
        "trusted": true
      },
      "outputs": [],
      "source": [
        "np.random.seed(10)\n",
        "remove_n = 1000\n",
        "drop_indices = np.random.choice(data[data['star'] == 4].index, remove_n, replace=False)\n",
        "data = data.drop(drop_indices)"
      ]
    },
    {
      "cell_type": "code",
      "execution_count": 11,
      "metadata": {
        "colab": {
          "base_uri": "https://localhost:8080/"
        },
        "execution": {
          "iopub.execute_input": "2021-11-11T09:37:54.869681Z",
          "iopub.status.busy": "2021-11-11T09:37:54.869504Z",
          "iopub.status.idle": "2021-11-11T09:37:54.875179Z",
          "shell.execute_reply": "2021-11-11T09:37:54.874263Z",
          "shell.execute_reply.started": "2021-11-11T09:37:54.869659Z"
        },
        "id": "CTqdWe0aNt1z",
        "outputId": "95984273-8c16-4a0b-b6d1-2cfc37eaa3ea",
        "trusted": true
      },
      "outputs": [
        {
          "data": {
            "text/plain": [
              "5115"
            ]
          },
          "execution_count": 11,
          "metadata": {},
          "output_type": "execute_result"
        }
      ],
      "source": [
        "len(data)"
      ]
    },
    {
      "cell_type": "markdown",
      "metadata": {
        "id": "VNYphkDLZYIe"
      },
      "source": [
        "### Sự phân bố các lớp sau khi cân bằng dữ liệu"
      ]
    },
    {
      "cell_type": "code",
      "execution_count": 12,
      "metadata": {
        "colab": {
          "base_uri": "https://localhost:8080/",
          "height": 279
        },
        "execution": {
          "iopub.execute_input": "2021-11-11T09:37:54.890244Z",
          "iopub.status.busy": "2021-11-11T09:37:54.890044Z",
          "iopub.status.idle": "2021-11-11T09:37:55.262798Z",
          "shell.execute_reply": "2021-11-11T09:37:55.26209Z",
          "shell.execute_reply.started": "2021-11-11T09:37:54.890221Z"
        },
        "id": "F_OJNUhfNt11",
        "outputId": "9c81b9b4-11f2-49af-c9a4-96896b4bc615",
        "trusted": true
      },
      "outputs": [
        {
          "data": {
            "image/png": "[encoded data removed]",
            "text/plain": [
              "<Figure size 432x288 with 1 Axes>"
            ]
          },
          "metadata": {
            "needs_background": "light"
          },
          "output_type": "display_data"
        }
      ],
      "source": [
        "sns.histplot(data=data['star']);"
      ]
    },
    {
      "cell_type": "markdown",
      "metadata": {
        "id": "N5fkM6BMNt12"
      },
      "source": [
        "## 4. Data cleaning"
      ]
    },
    {
      "cell_type": "markdown",
      "metadata": {
        "id": "JHhPvAfl5VNC"
      },
      "source": [
        "### Xóa HTML"
      ]
    },
    {
      "cell_type": "code",
      "execution_count": 13,
      "metadata": {
        "colab": {
          "base_uri": "https://localhost:8080/",
          "height": 35
        },
        "id": "oefoR09m5VNC",
        "outputId": "7e0e06ba-b7dc-4bb6-974b-3fcc220ae601"
      },
      "outputs": [
        {
          "data": {
            "application/vnd.google.colaboratory.intrinsic+json": {
              "type": "string"
            },
            "text/plain": [
              "'This is an example'"
            ]
          },
          "execution_count": 13,
          "metadata": {},
          "output_type": "execute_result"
        }
      ],
      "source": [
        "import re\n",
        "def remove_html(txt):\n",
        "    return re.sub(r'<[^>]*>', '', txt)\n",
        " \n",
        "txt = \"<p class=\\\"par\\\">This is an example</p>\"\n",
        "remove_html(txt)"
      ]
    },
    {
      "cell_type": "markdown",
      "metadata": {
        "id": "9_QhqBCs5VND"
      },
      "source": [
        "### Chuẩn hóa unicode"
      ]
    },
    {
      "cell_type": "code",
      "execution_count": 14,
      "metadata": {
        "id": "UInjQe--5VND"
      },
      "outputs": [],
      "source": [
        "# Chuẩn hóa unicode sang chuẩn unicode dựng sẵn\n",
        "def loaddicchar():\n",
        "    dic = {}\n",
        "    char1252 = 'à|á|ả|ã|ạ|ầ|ấ|ẩ|ẫ|ậ|ằ|ắ|ẳ|ẵ|ặ|è|é|ẻ|ẽ|ẹ|ề|ế|ể|ễ|ệ|ì|í|ỉ|ĩ|ị|ò|ó|ỏ|õ|ọ|ồ|ố|ổ|ỗ|ộ|ờ|ớ|ở|ỡ|ợ|ù|ú|ủ|ũ|ụ|ừ|ứ|ử|ữ|ự|ỳ|ý|ỷ|ỹ|ỵ|À|Á|Ả|Ã|Ạ|Ầ|Ấ|Ẩ|Ẫ|Ậ|Ằ|Ắ|Ẳ|Ẵ|Ặ|È|É|Ẻ|Ẽ|Ẹ|Ề|Ế|Ể|Ễ|Ệ|Ì|Í|Ỉ|Ĩ|Ị|Ò|Ó|Ỏ|Õ|Ọ|Ồ|Ố|Ổ|Ỗ|Ộ|Ờ|Ớ|Ở|Ỡ|Ợ|Ù|Ú|Ủ|Ũ|Ụ|Ừ|Ứ|Ử|Ữ|Ự|Ỳ|Ý|Ỷ|Ỹ|Ỵ'.split(\n",
        "        '|')\n",
        "    charutf8 = \"à|á|ả|ã|ạ|ầ|ấ|ẩ|ẫ|ậ|ằ|ắ|ẳ|ẵ|ặ|è|é|ẻ|ẽ|ẹ|ề|ế|ể|ễ|ệ|ì|í|ỉ|ĩ|ị|ò|ó|ỏ|õ|ọ|ồ|ố|ổ|ỗ|ộ|ờ|ớ|ở|ỡ|ợ|ù|ú|ủ|ũ|ụ|ừ|ứ|ử|ữ|ự|ỳ|ý|ỷ|ỹ|ỵ|À|Á|Ả|Ã|Ạ|Ầ|Ấ|Ẩ|Ẫ|Ậ|Ằ|Ắ|Ẳ|Ẵ|Ặ|È|É|Ẻ|Ẽ|Ẹ|Ề|Ế|Ể|Ễ|Ệ|Ì|Í|Ỉ|Ĩ|Ị|Ò|Ó|Ỏ|Õ|Ọ|Ồ|Ố|Ổ|Ỗ|Ộ|Ờ|Ớ|Ở|Ỡ|Ợ|Ù|Ú|Ủ|Ũ|Ụ|Ừ|Ứ|Ử|Ữ|Ự|Ỳ|Ý|Ỷ|Ỹ|Ỵ\".split(\n",
        "        '|')\n",
        "    for i in range(len(char1252)):\n",
        "        dic[char1252[i]] = charutf8[i]\n",
        "    return dic\n",
        "\n",
        "\n",
        "dicchar = loaddicchar()\n",
        "\n",
        "\n",
        "def covert_unicode(txt):\n",
        "    return re.sub(\n",
        "        r'à|á|ả|ã|ạ|ầ|ấ|ẩ|ẫ|ậ|ằ|ắ|ẳ|ẵ|ặ|è|é|ẻ|ẽ|ẹ|ề|ế|ể|ễ|ệ|ì|í|ỉ|ĩ|ị|ò|ó|ỏ|õ|ọ|ồ|ố|ổ|ỗ|ộ|ờ|ớ|ở|ỡ|ợ|ù|ú|ủ|ũ|ụ|ừ|ứ|ử|ữ|ự|ỳ|ý|ỷ|ỹ|ỵ|À|Á|Ả|Ã|Ạ|Ầ|Ấ|Ẩ|Ẫ|Ậ|Ằ|Ắ|Ẳ|Ẵ|Ặ|È|É|Ẻ|Ẽ|Ẹ|Ề|Ế|Ể|Ễ|Ệ|Ì|Í|Ỉ|Ĩ|Ị|Ò|Ó|Ỏ|Õ|Ọ|Ồ|Ố|Ổ|Ỗ|Ộ|Ờ|Ớ|Ở|Ỡ|Ợ|Ù|Ú|Ủ|Ũ|Ụ|Ừ|Ứ|Ử|Ữ|Ự|Ỳ|Ý|Ỷ|Ỹ|Ỵ',\n",
        "        lambda x: dicchar[x.group()], txt)"
      ]
    },
    {
      "cell_type": "code",
      "execution_count": 15,
      "metadata": {
        "colab": {
          "base_uri": "https://localhost:8080/"
        },
        "id": "noHh51h-5VNE",
        "outputId": "9d6dbae3-f435-4bb7-a2a8-71a08fe53553"
      },
      "outputs": [
        {
          "data": {
            "text/plain": [
              "False"
            ]
          },
          "execution_count": 15,
          "metadata": {},
          "output_type": "execute_result"
        }
      ],
      "source": [
        "'Đức' == 'Đức'"
      ]
    },
    {
      "cell_type": "code",
      "execution_count": 16,
      "metadata": {
        "colab": {
          "base_uri": "https://localhost:8080/"
        },
        "id": "PIgj-Vvr8qoS",
        "outputId": "3c091d4b-25d4-4770-8470-9bd2399e0191"
      },
      "outputs": [
        {
          "data": {
            "text/plain": [
              "True"
            ]
          },
          "execution_count": 16,
          "metadata": {},
          "output_type": "execute_result"
        }
      ],
      "source": [
        "covert_unicode('Đức') == 'Đức'"
      ]
    },
    {
      "cell_type": "markdown",
      "metadata": {
        "id": "t1OMQ4jCNt12"
      },
      "source": [
        "### Thay thế từ viết tắt"
      ]
    },
    {
      "cell_type": "code",
      "execution_count": 17,
      "metadata": {
        "colab": {
          "base_uri": "https://localhost:8080/"
        },
        "execution": {
          "iopub.execute_input": "2021-11-11T09:37:56.6768Z",
          "iopub.status.busy": "2021-11-11T09:37:56.676595Z",
          "iopub.status.idle": "2021-11-11T09:37:56.694684Z",
          "shell.execute_reply": "2021-11-11T09:37:56.694016Z",
          "shell.execute_reply.started": "2021-11-11T09:37:56.676773Z"
        },
        "id": "ftt1HdatNt12",
        "outputId": "aef29c66-2087-4125-f492-ed172fcdd927",
        "trusted": true
      },
      "outputs": [
        {
          "data": {
            "text/plain": [
              "[{'ship': 'vận chuyển'},\n",
              " {'shop': 'cửa hàng'},\n",
              " {'m': 'mình'},\n",
              " {'mik': 'mình'},\n",
              " {'ko': 'không'}]"
            ]
          },
          "execution_count": 17,
          "metadata": {},
          "output_type": "execute_result"
        }
      ],
      "source": [
        "acronym_words = []\n",
        "acronym_words_dict = []\n",
        "acronym_words = open('/content/drive/MyDrive/Colab Notebooks/data/tiki/acronym_word.txt','r', encoding='utf-8')\n",
        "acronym_words = acronym_words.readlines()\n",
        "for i in range(len(acronym_words)):\n",
        "  acronym_words_split = acronym_words[i].split(\"\\t\")\n",
        "  for j in range(len(acronym_words_split)):\n",
        "    acronym_words_split[j] = re.sub(\"[\\n\\ufeff]\",'',acronym_words_split[j])\n",
        "  try:\n",
        "    acronym_words_dict.append({acronym_words_split[0]:acronym_words_split[1]})\n",
        "  except: \n",
        "    pass\n",
        "\n",
        "acronym_words_dict[:5]\n"
      ]
    },
    {
      "cell_type": "code",
      "execution_count": 18,
      "metadata": {
        "id": "7tksNa7hcEM-"
      },
      "outputs": [],
      "source": [
        "# Sử dụng bộ từ điển để thay thế các kiểu gõ dấu và viết tắt\n",
        "def replace_acronyms(text):\n",
        "  text_list = text.split(\" \");\n",
        "  for i in range(len(text_list)):\n",
        "    for j in range(len(acronym_words_dict)):\n",
        "      key = list(acronym_words_dict[j].keys())[0]\n",
        "      value = list(acronym_words_dict[j].values())[0]\n",
        "      if text_list[i] == key:\n",
        "        text_list[i] = value\n",
        "  return \" \".join(text_list)"
      ]
    },
    {
      "cell_type": "markdown",
      "metadata": {
        "id": "Qs8RRpWgNt12"
      },
      "source": [
        "### Xóa từ dừng"
      ]
    },
    {
      "cell_type": "code",
      "execution_count": 19,
      "metadata": {
        "colab": {
          "base_uri": "https://localhost:8080/"
        },
        "execution": {
          "iopub.execute_input": "2021-11-11T09:37:56.696369Z",
          "iopub.status.busy": "2021-11-11T09:37:56.695932Z",
          "iopub.status.idle": "2021-11-11T09:37:56.717342Z",
          "shell.execute_reply": "2021-11-11T09:37:56.716621Z",
          "shell.execute_reply.started": "2021-11-11T09:37:56.696325Z"
        },
        "id": "e3nEkIZrNt13",
        "outputId": "894b7194-5251-49ca-8d58-5c67f3f04ead",
        "trusted": true
      },
      "outputs": [
        {
          "data": {
            "text/plain": [
              "['a lô', 'a ha', 'ai', 'ai ai', 'ai nấy']"
            ]
          },
          "execution_count": 19,
          "metadata": {},
          "output_type": "execute_result"
        }
      ],
      "source": [
        "stop_words = []\n",
        "stop_words = open('/content/drive/MyDrive/Colab Notebooks/data/tiki/stop_word.txt','r', encoding='utf-8')\n",
        "stop_words = stop_words.readlines()\n",
        "for i in range(len(stop_words)):\n",
        "  stop_words[i] = re.sub(\"[\\t\\n\\ufeff]\",'',stop_words[i])\n",
        "\n",
        "stop_words[:5]"
      ]
    },
    {
      "cell_type": "code",
      "execution_count": 20,
      "metadata": {
        "id": "WdO8KOedckLT"
      },
      "outputs": [],
      "source": [
        "# Loại bỏ stop word\n",
        "def remove_stop_word(text):\n",
        "  split_word = text.split(\" \");\n",
        "  words = []\n",
        "  for word in split_word:\n",
        "    if word not in stop_words:\n",
        "      words.append(word)\n",
        "  return \" \".join(words)"
      ]
    },
    {
      "cell_type": "markdown",
      "metadata": {
        "id": "-dG4XTAJ_d9L"
      },
      "source": [
        "### Chuẩn hoá câu"
      ]
    },
    {
      "cell_type": "code",
      "execution_count": 21,
      "metadata": {
        "execution": {
          "iopub.execute_input": "2021-11-11T09:37:56.738061Z",
          "iopub.status.busy": "2021-11-11T09:37:56.735768Z",
          "iopub.status.idle": "2021-11-11T09:37:56.744973Z",
          "shell.execute_reply": "2021-11-11T09:37:56.744245Z",
          "shell.execute_reply.started": "2021-11-11T09:37:56.738014Z"
        },
        "id": "QCXsad3rNt14",
        "trusted": true
      },
      "outputs": [],
      "source": [
        "def standardize_data(row):\n",
        "    # Xóa dấu chấm, phẩy, hỏi ở cuối câu\n",
        "    row = re.sub(r\"[\\.,\\?]+$-\", \"\", row)\n",
        "\n",
        "    # Xóa tất cả dấu chấm, phẩy, chấm phẩy, chấm thang, ... trong câu\n",
        "    row = row.replace(\",\", \" \").replace(\".\", \" \") \\\n",
        "        .replace(\";\", \" \").replace(\"“\", \" \") \\\n",
        "        .replace(\":\", \" \").replace(\"”\", \" \") \\\n",
        "        .replace('\"', \" \").replace(\"'\", \" \") \\\n",
        "        .replace(\"!\", \" \").replace(\"?\", \" \") \\\n",
        "        .replace(\"-\", \" \").replace(\"?\", \" \")\n",
        "    \n",
        "    # Xóa các kí tự đặc biệt\n",
        "    row = re.sub(\"\\W\",' ', row) \n",
        "\n",
        "    # Xóa các đường link\n",
        "    row = re.sub('https?://\\S+|www\\.\\S+', ' ', row)\n",
        "\n",
        "    # Xóa các số\n",
        "    row = re.sub('\\w*\\d\\w*', '', row)\n",
        "\n",
        "    #Xóa các kí tự xuống dòng\n",
        "    row = \" \".join(re.sub(\"\\n\", \" \", row).split())\n",
        "\n",
        "    row = row.strip().lower()\n",
        "    \n",
        "    return row"
      ]
    },
    {
      "cell_type": "markdown",
      "metadata": {
        "id": "EgWVqNIGcr7Q"
      },
      "source": [
        "### Xử lý các từ viết trùng lắp"
      ]
    },
    {
      "cell_type": "code",
      "execution_count": 22,
      "metadata": {
        "execution": {
          "iopub.execute_input": "2021-11-11T09:37:56.758421Z",
          "iopub.status.busy": "2021-11-11T09:37:56.757655Z",
          "iopub.status.idle": "2021-11-11T09:37:56.764735Z",
          "shell.execute_reply": "2021-11-11T09:37:56.763984Z",
          "shell.execute_reply.started": "2021-11-11T09:37:56.758383Z"
        },
        "id": "9kPEub0iNt14",
        "trusted": true
      },
      "outputs": [],
      "source": [
        "def remove_loop_char(text):\n",
        "  text = re.sub(r'([A-Z])\\1+', lambda m: m.group(1).upper(), str(text), flags=re.IGNORECASE)\n",
        "  text = re.sub(r'[^\\s\\wáàảãạăắằẳẵặâấầẩẫậéèẻẽẹêếềểễệóòỏõọôốồổỗộơớờởỡợíìỉĩịúùủũụưứừửữựýỳỷỹỵđ_]',' ',text)\n",
        "  return text"
      ]
    },
    {
      "cell_type": "markdown",
      "metadata": {
        "id": "UwzV1Suk_ASW"
      },
      "source": [
        "### Tách từ"
      ]
    },
    {
      "cell_type": "code",
      "execution_count": 23,
      "metadata": {
        "id": "R8yNwM2v-9HN"
      },
      "outputs": [],
      "source": [
        "def sementation(text):\n",
        "  return ViTokenizer.tokenize(text)"
      ]
    },
    {
      "cell_type": "markdown",
      "metadata": {
        "id": "tfbYwQZoZYIj"
      },
      "source": [
        "### Hàm tổng hợp tiền xử lý dữ liệu"
      ]
    },
    {
      "cell_type": "code",
      "execution_count": 24,
      "metadata": {
        "execution": {
          "iopub.execute_input": "2021-11-11T09:37:56.777273Z",
          "iopub.status.busy": "2021-11-11T09:37:56.775348Z",
          "iopub.status.idle": "2021-11-11T09:37:56.785074Z",
          "shell.execute_reply": "2021-11-11T09:37:56.78427Z",
          "shell.execute_reply.started": "2021-11-11T09:37:56.777234Z"
        },
        "id": "qKIwkSuNNt15",
        "trusted": true
      },
      "outputs": [],
      "source": [
        "\"\"\"**Tiền xử lý dữ liệu**\"\"\"\n",
        "# Làm sạch dữ liệu\n",
        "def text_prosessing(text):\n",
        "    # Chuyển đổi thành chữ thường\n",
        "    text = text.lower() \n",
        "\n",
        "    # Xóa các đoạn mã HTML\n",
        "    text = remove_html(text)\n",
        "\n",
        "    # chuyển unicode tổ hợp sang chuẩn unicode dựng sẵn\n",
        "    text = covert_unicode(text)\n",
        "\n",
        "    # Thay thế từ viết tắt\n",
        "    text = replace_acronyms(text)\n",
        "\n",
        "    # Xóa từ dừng\n",
        "    # text = remove_stop_word(text)\n",
        "\n",
        "    # Chuẩn hóa câu\n",
        "    text = standardize_data(text)\n",
        "\n",
        "    # Xử lý các từ viết trùng lắp\n",
        "    text = remove_loop_char(text)\n",
        "\n",
        "    # tách từ\n",
        "    text = sementation(text)\n",
        "\n",
        "    return text"
      ]
    },
    {
      "cell_type": "markdown",
      "metadata": {
        "id": "TKqnrVj0ZYIk"
      },
      "source": [
        "### Apply vào dữ liệu của chúng ta"
      ]
    },
    {
      "cell_type": "code",
      "execution_count": 25,
      "metadata": {
        "execution": {
          "iopub.execute_input": "2021-11-11T09:37:56.788854Z",
          "iopub.status.busy": "2021-11-11T09:37:56.786408Z",
          "iopub.status.idle": "2021-11-11T09:38:21.282159Z",
          "shell.execute_reply": "2021-11-11T09:38:21.281234Z",
          "shell.execute_reply.started": "2021-11-11T09:37:56.788808Z"
        },
        "id": "RcA7B_6CNt15",
        "trusted": true
      },
      "outputs": [],
      "source": [
        "# Apply vào data\n",
        "data['text'] = data['text'].apply(text_prosessing)"
      ]
    },
    {
      "cell_type": "code",
      "execution_count": 26,
      "metadata": {
        "colab": {
          "base_uri": "https://localhost:8080/",
          "height": 0
        },
        "execution": {
          "iopub.execute_input": "2021-11-11T09:38:21.284604Z",
          "iopub.status.busy": "2021-11-11T09:38:21.28349Z",
          "iopub.status.idle": "2021-11-11T09:38:21.294239Z",
          "shell.execute_reply": "2021-11-11T09:38:21.293335Z",
          "shell.execute_reply.started": "2021-11-11T09:38:21.284561Z"
        },
        "id": "q8g4jnOaNt15",
        "outputId": "64442ab6-9647-4214-8dcd-930a2847b64a",
        "trusted": true
      },
      "outputs": [
        {
          "data": {
            "text/html": [
              "\n",
              "  <div id=\"df-bd7b78f3-81d5-4bb1-a633-d5b66dda5c7c\">\n",
              "    <div class=\"colab-df-container\">\n",
              "      <div>\n",
              "<style scoped>\n",
              "    .dataframe tbody tr th:only-of-type {\n",
              "        vertical-align: middle;\n",
              "    }\n",
              "\n",
              "    .dataframe tbody tr th {\n",
              "        vertical-align: top;\n",
              "    }\n",
              "\n",
              "    .dataframe thead th {\n",
              "        text-align: right;\n",
              "    }\n",
              "</style>\n",
              "<table border=\"1\" class=\"dataframe\">\n",
              "  <thead>\n",
              "    <tr style=\"text-align: right;\">\n",
              "      <th></th>\n",
              "      <th>text</th>\n",
              "      <th>star</th>\n",
              "    </tr>\n",
              "  </thead>\n",
              "  <tbody>\n",
              "    <tr>\n",
              "      <th>2</th>\n",
              "      <td>mình cho sao vì thái_độ dịch_vụ khách_hàng tại...</td>\n",
              "      <td>1</td>\n",
              "    </tr>\n",
              "    <tr>\n",
              "      <th>3</th>\n",
              "      <td>sản_phẩm tầm giá nhìn cũng đx mình mua cho pa ...</td>\n",
              "      <td>3</td>\n",
              "    </tr>\n",
              "    <tr>\n",
              "      <th>6</th>\n",
              "      <td>sản_phẩm mình mua được giao nhanh nhận hàng kh...</td>\n",
              "      <td>1</td>\n",
              "    </tr>\n",
              "    <tr>\n",
              "      <th>7</th>\n",
              "      <td>điện_thoại ổn gói dịch_vụ bảo_vệ thiết_bị di_đ...</td>\n",
              "      <td>3</td>\n",
              "    </tr>\n",
              "    <tr>\n",
              "      <th>8</th>\n",
              "      <td>đóng_gói cẩn_thận giao đúng lúc giờ đúng sản_p...</td>\n",
              "      <td>4</td>\n",
              "    </tr>\n",
              "  </tbody>\n",
              "</table>\n",
              "</div>\n",
              "      <button class=\"colab-df-convert\" onclick=\"convertToInteractive('df-bd7b78f3-81d5-4bb1-a633-d5b66dda5c7c')\"\n",
              "              title=\"Convert this dataframe to an interactive table.\"\n",
              "              style=\"display:none;\">\n",
              "        \n",
              "  <svg xmlns=\"http://www.w3.org/2000/svg\" height=\"24px\"viewBox=\"0 0 24 24\"\n",
              "       width=\"24px\">\n",
              "    <path d=\"M0 0h24v24H0V0z\" fill=\"none\"/>\n",
              "    <path d=\"M18.56 5.44l.94 2.06.94-2.06 2.06-.94-2.06-.94-.94-2.06-.94 2.06-2.06.94zm-11 1L8.5 8.5l.94-2.06 2.06-.94-2.06-.94L8.5 2.5l-.94 2.06-2.06.94zm10 10l.94 2.06.94-2.06 2.06-.94-2.06-.94-.94-2.06-.94 2.06-2.06.94z\"/><path d=\"M17.41 7.96l-1.37-1.37c-.4-.4-.92-.59-1.43-.59-.52 0-1.04.2-1.43.59L10.3 9.45l-7.72 7.72c-.78.78-.78 2.05 0 2.83L4 21.41c.39.39.9.59 1.41.59.51 0 1.02-.2 1.41-.59l7.78-7.78 2.81-2.81c.8-.78.8-2.07 0-2.86zM5.41 20L4 18.59l7.72-7.72 1.47 1.35L5.41 20z\"/>\n",
              "  </svg>\n",
              "      </button>\n",
              "      \n",
              "  <style>\n",
              "    .colab-df-container {\n",
              "      display:flex;\n",
              "      flex-wrap:wrap;\n",
              "      gap: 12px;\n",
              "    }\n",
              "\n",
              "    .colab-df-convert {\n",
              "      background-color: #E8F0FE;\n",
              "      border: none;\n",
              "      border-radius: 50%;\n",
              "      cursor: pointer;\n",
              "      display: none;\n",
              "      fill: #1967D2;\n",
              "      height: 32px;\n",
              "      padding: 0 0 0 0;\n",
              "      width: 32px;\n",
              "    }\n",
              "\n",
              "    .colab-df-convert:hover {\n",
              "      background-color: #E2EBFA;\n",
              "      box-shadow: 0px 1px 2px rgba(60, 64, 67, 0.3), 0px 1px 3px 1px rgba(60, 64, 67, 0.15);\n",
              "      fill: #174EA6;\n",
              "    }\n",
              "\n",
              "    [theme=dark] .colab-df-convert {\n",
              "      background-color: #3B4455;\n",
              "      fill: #D2E3FC;\n",
              "    }\n",
              "\n",
              "    [theme=dark] .colab-df-convert:hover {\n",
              "      background-color: #434B5C;\n",
              "      box-shadow: 0px 1px 3px 1px rgba(0, 0, 0, 0.15);\n",
              "      filter: drop-shadow(0px 1px 2px rgba(0, 0, 0, 0.3));\n",
              "      fill: #FFFFFF;\n",
              "    }\n",
              "  </style>\n",
              "\n",
              "      <script>\n",
              "        const buttonEl =\n",
              "          document.querySelector('#df-bd7b78f3-81d5-4bb1-a633-d5b66dda5c7c button.colab-df-convert');\n",
              "        buttonEl.style.display =\n",
              "          google.colab.kernel.accessAllowed ? 'block' : 'none';\n",
              "\n",
              "        async function convertToInteractive(key) {\n",
              "          const element = document.querySelector('#df-bd7b78f3-81d5-4bb1-a633-d5b66dda5c7c');\n",
              "          const dataTable =\n",
              "            await google.colab.kernel.invokeFunction('convertToInteractive',\n",
              "                                                     [key], {});\n",
              "          if (!dataTable) return;\n",
              "\n",
              "          const docLinkHtml = 'Like what you see? Visit the ' +\n",
              "            '<a target=\"_blank\" href=https://colab.research.google.com/notebooks/data_table.ipynb>data table notebook</a>'\n",
              "            + ' to learn more about interactive tables.';\n",
              "          element.innerHTML = '';\n",
              "          dataTable['output_type'] = 'display_data';\n",
              "          await google.colab.output.renderOutput(dataTable, element);\n",
              "          const docLink = document.createElement('div');\n",
              "          docLink.innerHTML = docLinkHtml;\n",
              "          element.appendChild(docLink);\n",
              "        }\n",
              "      </script>\n",
              "    </div>\n",
              "  </div>\n",
              "  "
            ],
            "text/plain": [
              "                                                text  star\n",
              "2  mình cho sao vì thái_độ dịch_vụ khách_hàng tại...     1\n",
              "3  sản_phẩm tầm giá nhìn cũng đx mình mua cho pa ...     3\n",
              "6  sản_phẩm mình mua được giao nhanh nhận hàng kh...     1\n",
              "7  điện_thoại ổn gói dịch_vụ bảo_vệ thiết_bị di_đ...     3\n",
              "8  đóng_gói cẩn_thận giao đúng lúc giờ đúng sản_p...     4"
            ]
          },
          "execution_count": 26,
          "metadata": {},
          "output_type": "execute_result"
        }
      ],
      "source": [
        "data.head()"
      ]
    },
    {
      "cell_type": "code",
      "execution_count": 27,
      "metadata": {
        "colab": {
          "base_uri": "https://localhost:8080/",
          "height": 0
        },
        "id": "Fv8VZQj35VNJ",
        "outputId": "e7e4899b-8870-4cdc-a353-64aceb9582c2"
      },
      "outputs": [
        {
          "data": {
            "application/vnd.google.colaboratory.intrinsic+json": {
              "type": "string"
            },
            "text/plain": [
              "'sản_phẩm phù_hợp với mức giá nhưng phụ_kiện đi kèm thiếu tai_nghe ốp và dán màn_hình'"
            ]
          },
          "execution_count": 27,
          "metadata": {},
          "output_type": "execute_result"
        }
      ],
      "source": [
        "data['text'].iloc[17]"
      ]
    },
    {
      "cell_type": "markdown",
      "metadata": {
        "id": "x9Zv04L_Nt15"
      },
      "source": [
        "## 5. Build Model"
      ]
    },
    {
      "cell_type": "code",
      "execution_count": 28,
      "metadata": {
        "colab": {
          "base_uri": "https://localhost:8080/"
        },
        "execution": {
          "iopub.execute_input": "2021-11-11T09:38:21.296022Z",
          "iopub.status.busy": "2021-11-11T09:38:21.295618Z",
          "iopub.status.idle": "2021-11-11T09:38:21.306882Z",
          "shell.execute_reply": "2021-11-11T09:38:21.306074Z",
          "shell.execute_reply.started": "2021-11-11T09:38:21.295984Z"
        },
        "id": "xPgeMT_cNt15",
        "outputId": "f4fb9e3b-fa7a-41a6-b750-48579deb8b7b",
        "trusted": true
      },
      "outputs": [
        {
          "data": {
            "text/plain": [
              "2451"
            ]
          },
          "execution_count": 28,
          "metadata": {},
          "output_type": "execute_result"
        }
      ],
      "source": [
        "len(data[data['star'] < 4])"
      ]
    },
    {
      "cell_type": "code",
      "execution_count": 29,
      "metadata": {
        "colab": {
          "base_uri": "https://localhost:8080/"
        },
        "execution": {
          "iopub.execute_input": "2021-11-11T09:38:21.30841Z",
          "iopub.status.busy": "2021-11-11T09:38:21.308004Z",
          "iopub.status.idle": "2021-11-11T09:38:21.316215Z",
          "shell.execute_reply": "2021-11-11T09:38:21.31542Z",
          "shell.execute_reply.started": "2021-11-11T09:38:21.308375Z"
        },
        "id": "FQkQTLFPNt15",
        "outputId": "e6b032be-d292-40d0-980a-ebe7e77f73fc",
        "trusted": true
      },
      "outputs": [
        {
          "data": {
            "text/plain": [
              "2664"
            ]
          },
          "execution_count": 29,
          "metadata": {},
          "output_type": "execute_result"
        }
      ],
      "source": [
        "len(data[data['star'] >= 4])"
      ]
    },
    {
      "cell_type": "markdown",
      "metadata": {
        "id": "i33DWOwJNt16"
      },
      "source": [
        "### Gộp 3 đánh giá 1 2 3 sao là đánh giá tiêu cực với nhãn là 0, 2 đánh giá 4 5 sao là tích cực với nhãn là 1"
      ]
    },
    {
      "cell_type": "code",
      "execution_count": 30,
      "metadata": {
        "execution": {
          "iopub.execute_input": "2021-11-11T09:38:21.317876Z",
          "iopub.status.busy": "2021-11-11T09:38:21.317486Z",
          "iopub.status.idle": "2021-11-11T09:38:21.32359Z",
          "shell.execute_reply": "2021-11-11T09:38:21.322795Z",
          "shell.execute_reply.started": "2021-11-11T09:38:21.317832Z"
        },
        "id": "26B0P1vvNt16",
        "trusted": true
      },
      "outputs": [],
      "source": [
        "data[\"star\"] = data[\"star\"].map({1:0, 2:0, 3:0, 4:1, 5:1})"
      ]
    },
    {
      "cell_type": "markdown",
      "metadata": {
        "id": "-wdWh1u7Nt16"
      },
      "source": [
        "### Our current data (Dữ liệu hiện tại của chúng ta sẽ trong như sau)"
      ]
    },
    {
      "cell_type": "code",
      "execution_count": 31,
      "metadata": {
        "colab": {
          "base_uri": "https://localhost:8080/",
          "height": 206
        },
        "execution": {
          "iopub.execute_input": "2021-11-11T09:38:21.329242Z",
          "iopub.status.busy": "2021-11-11T09:38:21.328546Z",
          "iopub.status.idle": "2021-11-11T09:38:21.338375Z",
          "shell.execute_reply": "2021-11-11T09:38:21.337378Z",
          "shell.execute_reply.started": "2021-11-11T09:38:21.329207Z"
        },
        "id": "co5_tojaNt18",
        "outputId": "2e8bddce-9003-465d-e2a0-29a6f36eac95",
        "trusted": true
      },
      "outputs": [
        {
          "data": {
            "text/html": [
              "\n",
              "  <div id=\"df-615daa7b-4063-4ed8-82f2-b61d6a8ca0c9\">\n",
              "    <div class=\"colab-df-container\">\n",
              "      <div>\n",
              "<style scoped>\n",
              "    .dataframe tbody tr th:only-of-type {\n",
              "        vertical-align: middle;\n",
              "    }\n",
              "\n",
              "    .dataframe tbody tr th {\n",
              "        vertical-align: top;\n",
              "    }\n",
              "\n",
              "    .dataframe thead th {\n",
              "        text-align: right;\n",
              "    }\n",
              "</style>\n",
              "<table border=\"1\" class=\"dataframe\">\n",
              "  <thead>\n",
              "    <tr style=\"text-align: right;\">\n",
              "      <th></th>\n",
              "      <th>text</th>\n",
              "      <th>star</th>\n",
              "    </tr>\n",
              "  </thead>\n",
              "  <tbody>\n",
              "    <tr>\n",
              "      <th>2</th>\n",
              "      <td>mình cho sao vì thái_độ dịch_vụ khách_hàng tại...</td>\n",
              "      <td>0</td>\n",
              "    </tr>\n",
              "    <tr>\n",
              "      <th>3</th>\n",
              "      <td>sản_phẩm tầm giá nhìn cũng đx mình mua cho pa ...</td>\n",
              "      <td>0</td>\n",
              "    </tr>\n",
              "    <tr>\n",
              "      <th>6</th>\n",
              "      <td>sản_phẩm mình mua được giao nhanh nhận hàng kh...</td>\n",
              "      <td>0</td>\n",
              "    </tr>\n",
              "    <tr>\n",
              "      <th>7</th>\n",
              "      <td>điện_thoại ổn gói dịch_vụ bảo_vệ thiết_bị di_đ...</td>\n",
              "      <td>0</td>\n",
              "    </tr>\n",
              "    <tr>\n",
              "      <th>8</th>\n",
              "      <td>đóng_gói cẩn_thận giao đúng lúc giờ đúng sản_p...</td>\n",
              "      <td>1</td>\n",
              "    </tr>\n",
              "  </tbody>\n",
              "</table>\n",
              "</div>\n",
              "      <button class=\"colab-df-convert\" onclick=\"convertToInteractive('df-615daa7b-4063-4ed8-82f2-b61d6a8ca0c9')\"\n",
              "              title=\"Convert this dataframe to an interactive table.\"\n",
              "              style=\"display:none;\">\n",
              "        \n",
              "  <svg xmlns=\"http://www.w3.org/2000/svg\" height=\"24px\"viewBox=\"0 0 24 24\"\n",
              "       width=\"24px\">\n",
              "    <path d=\"M0 0h24v24H0V0z\" fill=\"none\"/>\n",
              "    <path d=\"M18.56 5.44l.94 2.06.94-2.06 2.06-.94-2.06-.94-.94-2.06-.94 2.06-2.06.94zm-11 1L8.5 8.5l.94-2.06 2.06-.94-2.06-.94L8.5 2.5l-.94 2.06-2.06.94zm10 10l.94 2.06.94-2.06 2.06-.94-2.06-.94-.94-2.06-.94 2.06-2.06.94z\"/><path d=\"M17.41 7.96l-1.37-1.37c-.4-.4-.92-.59-1.43-.59-.52 0-1.04.2-1.43.59L10.3 9.45l-7.72 7.72c-.78.78-.78 2.05 0 2.83L4 21.41c.39.39.9.59 1.41.59.51 0 1.02-.2 1.41-.59l7.78-7.78 2.81-2.81c.8-.78.8-2.07 0-2.86zM5.41 20L4 18.59l7.72-7.72 1.47 1.35L5.41 20z\"/>\n",
              "  </svg>\n",
              "      </button>\n",
              "      \n",
              "  <style>\n",
              "    .colab-df-container {\n",
              "      display:flex;\n",
              "      flex-wrap:wrap;\n",
              "      gap: 12px;\n",
              "    }\n",
              "\n",
              "    .colab-df-convert {\n",
              "      background-color: #E8F0FE;\n",
              "      border: none;\n",
              "      border-radius: 50%;\n",
              "      cursor: pointer;\n",
              "      display: none;\n",
              "      fill: #1967D2;\n",
              "      height: 32px;\n",
              "      padding: 0 0 0 0;\n",
              "      width: 32px;\n",
              "    }\n",
              "\n",
              "    .colab-df-convert:hover {\n",
              "      background-color: #E2EBFA;\n",
              "      box-shadow: 0px 1px 2px rgba(60, 64, 67, 0.3), 0px 1px 3px 1px rgba(60, 64, 67, 0.15);\n",
              "      fill: #174EA6;\n",
              "    }\n",
              "\n",
              "    [theme=dark] .colab-df-convert {\n",
              "      background-color: #3B4455;\n",
              "      fill: #D2E3FC;\n",
              "    }\n",
              "\n",
              "    [theme=dark] .colab-df-convert:hover {\n",
              "      background-color: #434B5C;\n",
              "      box-shadow: 0px 1px 3px 1px rgba(0, 0, 0, 0.15);\n",
              "      filter: drop-shadow(0px 1px 2px rgba(0, 0, 0, 0.3));\n",
              "      fill: #FFFFFF;\n",
              "    }\n",
              "  </style>\n",
              "\n",
              "      <script>\n",
              "        const buttonEl =\n",
              "          document.querySelector('#df-615daa7b-4063-4ed8-82f2-b61d6a8ca0c9 button.colab-df-convert');\n",
              "        buttonEl.style.display =\n",
              "          google.colab.kernel.accessAllowed ? 'block' : 'none';\n",
              "\n",
              "        async function convertToInteractive(key) {\n",
              "          const element = document.querySelector('#df-615daa7b-4063-4ed8-82f2-b61d6a8ca0c9');\n",
              "          const dataTable =\n",
              "            await google.colab.kernel.invokeFunction('convertToInteractive',\n",
              "                                                     [key], {});\n",
              "          if (!dataTable) return;\n",
              "\n",
              "          const docLinkHtml = 'Like what you see? Visit the ' +\n",
              "            '<a target=\"_blank\" href=https://colab.research.google.com/notebooks/data_table.ipynb>data table notebook</a>'\n",
              "            + ' to learn more about interactive tables.';\n",
              "          element.innerHTML = '';\n",
              "          dataTable['output_type'] = 'display_data';\n",
              "          await google.colab.output.renderOutput(dataTable, element);\n",
              "          const docLink = document.createElement('div');\n",
              "          docLink.innerHTML = docLinkHtml;\n",
              "          element.appendChild(docLink);\n",
              "        }\n",
              "      </script>\n",
              "    </div>\n",
              "  </div>\n",
              "  "
            ],
            "text/plain": [
              "                                                text  star\n",
              "2  mình cho sao vì thái_độ dịch_vụ khách_hàng tại...     0\n",
              "3  sản_phẩm tầm giá nhìn cũng đx mình mua cho pa ...     0\n",
              "6  sản_phẩm mình mua được giao nhanh nhận hàng kh...     0\n",
              "7  điện_thoại ổn gói dịch_vụ bảo_vệ thiết_bị di_đ...     0\n",
              "8  đóng_gói cẩn_thận giao đúng lúc giờ đúng sản_p...     1"
            ]
          },
          "execution_count": 31,
          "metadata": {},
          "output_type": "execute_result"
        }
      ],
      "source": [
        "data.head(5)"
      ]
    },
    {
      "cell_type": "code",
      "execution_count": 32,
      "metadata": {
        "colab": {
          "base_uri": "https://localhost:8080/"
        },
        "execution": {
          "iopub.execute_input": "2021-11-11T09:38:21.339767Z",
          "iopub.status.busy": "2021-11-11T09:38:21.339529Z",
          "iopub.status.idle": "2021-11-11T09:38:21.346929Z",
          "shell.execute_reply": "2021-11-11T09:38:21.346068Z",
          "shell.execute_reply.started": "2021-11-11T09:38:21.339734Z"
        },
        "id": "yzx3gKBuNt19",
        "outputId": "5086863c-861d-4a16-cf6e-437b319a2fdc",
        "trusted": true
      },
      "outputs": [
        {
          "data": {
            "text/plain": [
              "array(['mình cho sao vì thái_độ dịch_vụ khách_hàng tại tiki lần này mình đặt điện_thoại lần mất gần tuần mới nhận được hàng lần đầu đặt bị trễ lịch hẹn giao tiki gửi thông_báo xin_lỗi và hẹn giao lại sau ngày làm_việc dù đang rất cần nhưng mình vẫn kiên_nhẫn đợi sau ngày làm_việc tiki không_những không giao hàng mà_lại còn âm_thầm_hủy_đơn của mình không hề có cuộc điện_thoại thông_báo hay xin_lỗi mình gọi lên tổng_đài gặp trúng bạn chăm_sóc khách_hàng thái_độ rất tệ giọng như buồn_ngủ không biết cách nói_chuyện với khách_hàng hỏi thì chỉ nói do hoàn_cảnh nên không giao hàng bạn không giải_thích lý_do vì_sao hủy_đơn không hỏi ý_kiến khách và cũng không làm_khách nguôi giận dù mình rất dễ_tính sau đó mình được cho mã giảm bù lại nhưng giá điện_thoại khi đó tăng lên dù giảm vẫn cao hơn lúc đầu mình đặt mua vậy tặng lại mã cho khách làm gì đặt lần mình chờ ngày cuối_cùng cũng cầm được cái điện_thoại rất thất_vọng thái_độ phục_vụ của tiki làm khách_hàng trung_thành tiki bao lần mà lần này nhận lại thái_độ dịch_vụ khách_hàng tệ quá lần sau mua gì mình cũng sẽ không ưu_tiên tiki nữa mà sẽ để_tâm đến các nhà bán khác về điện_thoại thì mình mua cho người lớn_tuổi sử_dụng thấy tốt và phù_hợp như cầu',\n",
              "       'sản_phẩm tầm giá nhìn cũng đx mình mua cho pa mẹ nên cũng không có yêu_cầu gì nhiều hơi thất_vọng nghe nhạc có vẻ hơi tệ phụ_kiện sạc thì có mà tai_nghe thì không sản_phẩm này nhà bán nên có khuyến_mãi ít_nhất tặng oF lưng kèm theo máy như mấy sản_phẩm khác để không còn cái hứng_thú chứ nhìn mà thấy thua mấy sản_phẩm tầm giá khác'],\n",
              "      dtype=object)"
            ]
          },
          "execution_count": 32,
          "metadata": {},
          "output_type": "execute_result"
        }
      ],
      "source": [
        "np.array(data['text'])[:2]"
      ]
    },
    {
      "cell_type": "code",
      "execution_count": 33,
      "metadata": {
        "execution": {
          "iopub.execute_input": "2021-11-11T09:38:21.348821Z",
          "iopub.status.busy": "2021-11-11T09:38:21.34839Z",
          "iopub.status.idle": "2021-11-11T09:38:21.352985Z",
          "shell.execute_reply": "2021-11-11T09:38:21.352173Z",
          "shell.execute_reply.started": "2021-11-11T09:38:21.348787Z"
        },
        "id": "KRx4_U-XNt19",
        "trusted": true
      },
      "outputs": [],
      "source": [
        "X = data['text']\n",
        "y = data['star']"
      ]
    },
    {
      "cell_type": "code",
      "execution_count": 34,
      "metadata": {
        "colab": {
          "base_uri": "https://localhost:8080/"
        },
        "execution": {
          "iopub.execute_input": "2021-11-11T09:38:21.354772Z",
          "iopub.status.busy": "2021-11-11T09:38:21.354148Z",
          "iopub.status.idle": "2021-11-11T09:38:21.363599Z",
          "shell.execute_reply": "2021-11-11T09:38:21.362849Z",
          "shell.execute_reply.started": "2021-11-11T09:38:21.354736Z"
        },
        "id": "koZfmugpNt19",
        "outputId": "218cfd5a-77e1-45d3-adc7-a28ecd8b7229",
        "trusted": true
      },
      "outputs": [
        {
          "data": {
            "text/plain": [
              "2    mình cho sao vì thái_độ dịch_vụ khách_hàng tại...\n",
              "3    sản_phẩm tầm giá nhìn cũng đx mình mua cho pa ...\n",
              "6    sản_phẩm mình mua được giao nhanh nhận hàng kh...\n",
              "Name: text, dtype: object"
            ]
          },
          "execution_count": 34,
          "metadata": {},
          "output_type": "execute_result"
        }
      ],
      "source": [
        "X.head(3)"
      ]
    },
    {
      "cell_type": "code",
      "execution_count": 35,
      "metadata": {
        "colab": {
          "base_uri": "https://localhost:8080/"
        },
        "execution": {
          "iopub.execute_input": "2021-11-11T09:38:21.364985Z",
          "iopub.status.busy": "2021-11-11T09:38:21.364542Z",
          "iopub.status.idle": "2021-11-11T09:38:21.371334Z",
          "shell.execute_reply": "2021-11-11T09:38:21.370632Z",
          "shell.execute_reply.started": "2021-11-11T09:38:21.364949Z"
        },
        "id": "_KaPoj-ANt19",
        "outputId": "2632d42a-56e6-44ab-da65-2bee5f9563a0",
        "trusted": true
      },
      "outputs": [
        {
          "data": {
            "text/plain": [
              "2    0\n",
              "3    0\n",
              "6    0\n",
              "7    0\n",
              "8    1\n",
              "Name: star, dtype: int64"
            ]
          },
          "execution_count": 35,
          "metadata": {},
          "output_type": "execute_result"
        }
      ],
      "source": [
        "y.head()"
      ]
    },
    {
      "cell_type": "markdown",
      "metadata": {
        "id": "hrnzNIL1Nt19"
      },
      "source": [
        "### Sử dụng các giải thuật máy học để huấn luyện mô hình và nghi thức đánh giá K-Fold"
      ]
    },
    {
      "cell_type": "code",
      "execution_count": 36,
      "metadata": {
        "execution": {
          "iopub.execute_input": "2021-11-11T09:38:21.373293Z",
          "iopub.status.busy": "2021-11-11T09:38:21.372452Z",
          "iopub.status.idle": "2021-11-11T09:38:21.43858Z",
          "shell.execute_reply": "2021-11-11T09:38:21.437969Z",
          "shell.execute_reply.started": "2021-11-11T09:38:21.373257Z"
        },
        "id": "e_2gDKpYNt19",
        "trusted": true
      },
      "outputs": [],
      "source": [
        "from sklearn.model_selection import train_test_split\n",
        "from sklearn.metrics import accuracy_score\n",
        "from sklearn.feature_extraction.text import CountVectorizer\n",
        "from sklearn.model_selection import cross_val_score"
      ]
    },
    {
      "cell_type": "markdown",
      "metadata": {
        "id": "gru79kgYZYIo"
      },
      "source": [
        "#### Dùng thư viện Count Vectorizer để vector hóa dữ liệu văn bản "
      ]
    },
    {
      "cell_type": "code",
      "execution_count": 37,
      "metadata": {
        "execution": {
          "iopub.execute_input": "2021-11-11T09:38:21.440229Z",
          "iopub.status.busy": "2021-11-11T09:38:21.439654Z",
          "iopub.status.idle": "2021-11-11T09:38:21.540976Z",
          "shell.execute_reply": "2021-11-11T09:38:21.540373Z",
          "shell.execute_reply.started": "2021-11-11T09:38:21.440176Z"
        },
        "id": "vmCqmJj1Nt19",
        "trusted": true
      },
      "outputs": [],
      "source": [
        "cv = CountVectorizer()\n",
        "X_vectors = cv.fit_transform(X)"
      ]
    },
    {
      "cell_type": "code",
      "execution_count": 38,
      "metadata": {
        "colab": {
          "base_uri": "https://localhost:8080/"
        },
        "execution": {
          "iopub.execute_input": "2021-11-11T09:38:21.542437Z",
          "iopub.status.busy": "2021-11-11T09:38:21.542217Z",
          "iopub.status.idle": "2021-11-11T09:38:21.608543Z",
          "shell.execute_reply": "2021-11-11T09:38:21.607728Z",
          "shell.execute_reply.started": "2021-11-11T09:38:21.542406Z"
        },
        "id": "Qr9Yr70vNt1-",
        "outputId": "213aa9bb-0dca-496b-c7ea-1dfc77ef998c",
        "trusted": true
      },
      "outputs": [
        {
          "name": "stdout",
          "output_type": "stream",
          "text": [
            "(5115, 5307)\n"
          ]
        }
      ],
      "source": [
        "print(X_vectors.shape)"
      ]
    },
    {
      "cell_type": "code",
      "execution_count": 39,
      "metadata": {
        "colab": {
          "base_uri": "https://localhost:8080/"
        },
        "execution": {
          "iopub.execute_input": "2021-11-11T09:38:21.610392Z",
          "iopub.status.busy": "2021-11-11T09:38:21.609702Z",
          "iopub.status.idle": "2021-11-11T09:38:21.73893Z",
          "shell.execute_reply": "2021-11-11T09:38:21.738173Z",
          "shell.execute_reply.started": "2021-11-11T09:38:21.610351Z"
        },
        "id": "8_N6yMnLNt1-",
        "outputId": "453dfeab-a04c-4179-b429-75e91a726fe8",
        "trusted": true
      },
      "outputs": [
        {
          "name": "stdout",
          "output_type": "stream",
          "text": [
            "5307\n",
            "(5115, 5307)\n",
            "(1, 5307)\n",
            "5115\n"
          ]
        },
        {
          "name": "stderr",
          "output_type": "stream",
          "text": [
            "/usr/local/lib/python3.7/dist-packages/sklearn/utils/deprecation.py:87: FutureWarning: Function get_feature_names is deprecated; get_feature_names is deprecated in 1.0 and will be removed in 1.2. Please use get_feature_names_out instead.\n",
            "  warnings.warn(msg, category=FutureWarning)\n"
          ]
        }
      ],
      "source": [
        "print(len(cv.get_feature_names()))\n",
        "print(X_vectors.todense().shape)\n",
        "print(X_vectors.todense()[0].shape)\n",
        "print(len(X))"
      ]
    },
    {
      "cell_type": "code",
      "execution_count": 40,
      "metadata": {
        "colab": {
          "base_uri": "https://localhost:8080/"
        },
        "id": "ib2CTQB3ZYIp",
        "outputId": "e546953b-11a3-4b6f-cd28-162e1c8953cf"
      },
      "outputs": [
        {
          "name": "stdout",
          "output_type": "stream",
          "text": [
            "[[0 0 0 ... 0 0 0]\n",
            " [0 0 0 ... 0 0 0]\n",
            " [0 0 0 ... 0 0 0]\n",
            " ...\n",
            " [0 0 0 ... 0 0 0]\n",
            " [0 0 0 ... 0 0 1]\n",
            " [0 0 0 ... 0 0 0]]\n"
          ]
        }
      ],
      "source": [
        "print(X_vectors.todense())"
      ]
    },
    {
      "cell_type": "code",
      "execution_count": 41,
      "metadata": {
        "colab": {
          "base_uri": "https://localhost:8080/"
        },
        "id": "yFZ55D5gZYIp",
        "outputId": "53ef6a2b-0fdc-4f66-8d51-b7431ff34f6b"
      },
      "outputs": [
        {
          "name": "stdout",
          "output_type": "stream",
          "text": [
            "{'mình': 2466, 'cho': 442, 'sao': 3460, 'vì': 4614, 'thái_độ': 3827, 'dịch_vụ': 1078, 'khách_hàng': 1836, 'tại': 4359, 'tiki': 3981, 'lần': 2236, 'này': 2944, 'đặt': 5164, 'điện_thoại': 5003, 'mất': 2513, 'gần': 1367, 'tuần': 4256, 'mới': 2575, 'nhận': 2865, 'được': 5125, 'hàng': 1546, 'đầu': 5138, 'bị': 312, 'trễ': 4212, 'lịch': 2264, 'hẹn': 1641, 'giao': 1233, 'gửi': 1385, 'thông_báo': 3860, 'xin_lỗi': 4766, 'và': 4599, 'lại': 2225, 'sau': 3463, 'ngày': 2697, 'làm_việc': 2152, 'dù': 1031, 'đang': 4966, 'rất': 3413, 'cần': 841, 'nhưng': 2841, 'vẫn': 4662, 'kiên_nhẫn': 1915, 'đợi': 5241, 'không_những': 1865, 'không': 1860, 'mà_lại': 2420, 'còn': 743, 'âm_thầm_hủy_đơn': 4931, 'của': 889, 'hề': 1648, 'có': 744, 'cuộc': 704, 'hay': 1414, 'gọi': 1373, 'lên': 2179, 'tổng_đài': 4443, 'gặp': 1372, 'trúng': 4172, 'bạn': 256, 'chăm_sóc': 537, 'tệ': 4402, 'giọng': 1299, 'như': 2828, 'buồn_ngủ': 178, 'biết': 132, 'cách': 720, 'nói_chuyện': 2967, 'với': 4699, 'hỏi': 1662, 'thì': 3843, 'chỉ': 587, 'nói': 2965, 'do': 970, 'hoàn_cảnh': 1500, 'nên': 2960, 'giải_thích': 1279, 'lý_do': 2202, 'vì_sao': 4615, 'hủy_đơn': 1701, 'ý_kiến': 4950, 'khách': 1835, 'cũng': 781, 'làm_khách': 2148, 'nguôi': 2689, 'giận': 1294, 'dễ_tính': 1074, 'đó': 5086, 'mã': 2451, 'giảm': 1285, 'bù': 245, 'giá': 1252, 'khi': 1793, 'tăng': 4335, 'cao': 382, 'hơn': 1599, 'lúc': 2198, 'mua': 2408, 'vậy': 4674, 'tặng': 4399, 'làm': 2143, 'gì': 1349, 'chờ': 613, 'cuối_cùng': 702, 'cầm': 836, 'cái': 721, 'thất_vọng': 3893, 'phục_vụ': 3198, 'trung_thành': 4127, 'bao': 93, 'mà': 2419, 'quá': 3280, 'sẽ': 3660, 'ưu_tiên': 5261, 'nữa': 3033, 'để_tâm': 5184, 'đến': 5172, 'các': 718, 'nhà': 2795, 'bán': 204, 'khác': 1832, 'về': 4685, 'người': 2719, 'lớn_tuổi': 2288, 'sử_dụng': 3691, 'thấy': 3896, 'tốt': 4420, 'phù_hợp': 3157, 'cầu': 844, 'sản_phẩm': 3642, 'tầm': 4378, 'nhìn': 2816, 'đx': 5042, 'pa': 3078, 'mẹ': 2540, 'yêu_cầu': 4897, 'nhiều': 2781, 'hơi': 1598, 'nghe': 2632, 'nhạc': 2846, 'vẻ': 4680, 'phụ_kiện': 3195, 'sạc': 3633, 'tai_nghe': 3710, 'khuyến_mãi': 1823, 'ít_nhất': 4936, 'of': 3039, 'lưng': 2210, 'kèm': 1942, 'theo': 3769, 'máy': 2437, 'mấy': 2520, 'để': 5182, 'hứng_thú': 1706, 'chứ': 627, 'thua': 3808, 'nhanh': 2761, 'khui': 1816, 'ra': 3325, 'kiểm_tra': 1924, 'bên': 222, 'góc': 1353, 'màn_hình': 2423, 'điểm': 4998, 'chết': 585, 'đã': 5071, 'liền': 2081, 'mang': 2323, 'hỗ_trợ': 1681, 'dùm': 1034, 'lỗi': 2280, 'ngay': 2629, 'vừa': 4707, 'mở': 2582, 'nguồn': 2690, 'giờ': 1304, 'chưa': 542, 'cả': 803, 'tại_sao': 4361, 'linh_động': 2065, 'rõ_ràng': 3397, 'sản_xuất': 3646, 'ổn': 5295, 'gói': 1354, 'bảo_vệ': 270, 'thiết_bị': 3779, 'di_động': 947, 'boltech': 154, 'tuy_nhiên': 4248, 'thây': 3840, 'phản_hồi': 3169, 'liên_hệ': 2074, 'tôi': 4319, 'bảo_hành': 265, 'samsung': 3456, 'đóng_gói': 5091, 'cẩn_thận': 849, 'đúng': 5103, 'thắc_mắc': 3912, 'là': 2140, 'sim': 3524, 'trên': 4156, 'hộp': 1685, 'số': 3664, 'imei': 1723, 'nhờ': 2894, 'bộ_phận': 342, 'kỹ_thuật': 2011, 'giải_đáp': 1284, 'giúp': 1271, 'xin': 4765, 'cảm_ơn': 818, 'không_kích_hoạt': 1863, 'kích_hoạt': 1963, 'dùng': 1035, 'cảm_ứng': 820, 'ăn': 4956, 'nhảy': 2851, 'loạn_xạ': 2116, 'chất_lượng': 562, 'kém': 1945, 'thứ': 3960, 'sập': 3652, 'vui_lòng': 4596, 'hỗ_trợ_giúp': 1682, 'ak': 28, 'chính': 514, 'hãng': 1562, 'đặt_hàng': 5165, 'tối': 4413, 'chiều': 438, 'thiệt': 3788, 'rẻ': 3421, 'thế_giới': 3920, 'di_dộng': 946, 'chào': 484, 'muốn': 2416, 'đổi': 5222, 'sang': 3458, 'màu': 2428, 'đen': 4973, 'khay': 1789, 'đc': 4970, 'khó': 1848, 'mẫu': 2524, 'ok': 3046, 'đong': 5025, 'đơ': 5111, 'lướt': 2215, 'tháng': 3828, 'nhảyvtung': 2852, 'toé': 4071, 'rồi': 3430, 'so': 3546, 'tiền': 4031, 'từ': 4467, 'trưa': 4178, 'giật': 1295, 'trả': 4191, 'lấy': 2234, 'lí_do': 2183, 'giải_trình': 1281, 'hai': 1394, 'hư': 1603, 'trước_mắt': 4183, 'vấn_đề': 4656, 'hành': 1555, 'thế_nào': 3924, 'thông_tin': 3866, 'sài': 3590, 'lệch': 2262, 'chip': 430, 'helio': 1426, 'website': 4724, 'ghi': 1211, 'exynos': 1132, 'dự_tính_chất_lượng': 1105, 'mẫu_mã': 2525, 'đẹp': 5166, 'tikit': 3987, 'ban': 85, 'san': 3457, 'phẩm': 3185, 'chậm': 566, 'một_chút': 2568, 'mức': 2589, 'đi': 4979, 'thiếu': 3784, 'ốp': 5292, 'dán': 1013, 'nào': 2942, 'nấy': 2994, 'dưới': 1047, 'triệu': 4111, 'có_thể': 749, 'đâu': 5069, 'ưu_điểm': 5262, 'vận_chuyển': 4663, 'bỏ': 321, 'thẻ_nhớ': 3918, 'vào': 4602, 'email': 1116, 'dt': 983, 'treo': 4105, 'giup': 1247, 'đơn': 5113, 'ful': 1185, 'box': 159, 'điện_tử': 5018, 'tuyệt': 4253, 'ma': 2305, 'vài': 4600, 'tat': 3719, 'wai': 4715, 'luôn': 2133, 'chuẩn': 477, 'sinh_viên': 3528, 'nguyên': 2684, 'tem': 3733, 'nhẹ': 2882, 'xài': 4806, 'hợp': 1693, 'galaxy': 1190, 'tai': 3709, 'phone': 3111, 'hjgfhklkikjkik': 1470, 'pin': 3204, 'trong': 4117, 'rùa': 3399, 'loa': 2090, 'nhỏ': 2890, 'xấu': 4847, 'mong': 2393, 'doi': 974, 'tam': 3714, 'dươc': 1045, 'phân': 3135, 'giai': 1228, 'man': 2322, 'hinh': 1446, 'nhơt': 2827, 'nhat': 2769, 'khá': 1831, 'dễ': 1070, 'tạm': 4362, 'ủng_hộ': 5301, 'bình_thường': 230, 'máy_ảnh': 2448, 'chụp': 618, 'trung_bình': 4121, 'khựng': 1893, 'ram': 3329, 'cùng': 766, 'con': 665, 'snap': 3543, 'chơi': 540, 'trò_chơi': 4163, 'trải': 4195, 'nghiệm': 2641, 'out': 3075, 'ngoài': 2664, 'tối_ưu': 4416, 'đấy': 5136, 'một': 2567, 'tới': 4455, 'thế': 3919, 'xem': 4754, 'chấp_nhận': 559, 'những': 2901, 'ai': 22, 'ý_định': 4955, 'khuyên': 1819, 'phải': 3165, 'cân_nhắc': 733, 'điều': 4990, 'đa_nhiệm': 4961, 'cực_kỳ': 905, 'nếu': 3005, 'ứng_dụng': 5306, 'chạy': 549, 'ngầm': 2732, 'khắc_phục': 1876, 'tắt': 4395, 'tốt_tính': 4422, 'thêm': 3842, 'shiper': 3512, 'nhiệt_tình': 2785, 'cửa_hàng': 899, 'đọc': 5196, 'sách': 3597, 'kết_thúc': 1997, 'bảo_hành_chính': 266, 'điện_máy': 5002, 'vỡ': 4703, 'lo': 2087, 'làm_sao': 2151, 'may': 2337, 'ảnh_hưởng': 5269, 'hy_vọng': 1538, 'cải_thiện': 806, 'làm_ơn': 2157, 'nó': 2963, 'lành': 2159, 'lặng': 2251, 'chút': 535, 'dựa': 1107, 'uy_tín': 4509, 'thương_hiệu': 3879, 'vsmart': 4592, 'thôi': 3855, 'vinid': 4554, 'cảnh_báo': 826, 'an_toàn': 41, 'zalopay': 4906, 'bi': 118, 'rot': 3373, 'checker': 421, 'báo': 207, 'chữ': 636, 'đỏ': 5197, 'factory': 1138, 'reset': 3358, 'bật': 292, 'hiện': 1455, 'bàn': 190, 'vặt': 4678, 'lâu': 2165, 'khó_chịu': 1849, 'cùi': 765, 'hợp_lí': 1694, 'tổng_hợp': 4434, 'chức_năng': 629, 'hữu_ích': 1709, 'joy': 1763, 'duyệt': 1001, 'momo': 2392, 'lazada': 2043, 'lag': 2024, 'báo_thức': 210, 'sóng': 3612, 'wifi': 4735, 'lớn': 2286, 'chói': 521, 'tùy': 4327, 'biến': 130, 'phím': 3149, 'trợ': 4226, 'năng': 2982, 'nút': 2978, 'ảo': 5271, 'máy_tính': 2446, 'tiện_ích': 4043, 'quy_đổi': 3270, 'chế_độ': 584, 'tay': 3720, 'liên_lạc': 2076, 'zalo': 4905, 'or': 3069, 'facebok': 1134, 'com': 659, 'cứ': 890, 'nghĩ': 2646, 'vn': 4576, 'bấm': 273, 'mãi': 2454, 'y_như': 4874, 'năm': 2980, 'đầy': 5145, 'bộ_nhớ': 341, 'ba': 80, 'chẳng': 578, 'tải': 4370, 'tốn': 4418, 'thà': 3818, 'chọn': 600, 'opo': 3065, 'xiaomi': 4763, 'đáng': 5054, 'tin': 3994, 'vô': 4626, 'đồ': 5208, 'phí': 3147, 'thật_sự': 3910, 'cơ_bản': 784, 'thậm_chí': 3905, 'tác': 4278, 'vụ': 4705, 'nhất': 2858, 'nhắn_tin': 2880, 'khó_khăn': 1851, 'hiển_thị': 1453, 'đè': 5073, 'hụt_hẫng': 1699, 'chiếc': 433, 'đth': 5032, 'seal': 3480, 'hạt_dẻ': 1623, 'tuyệt_vời': 4255, 'việt': 4569, 'nam': 2601, 'từng': 4471, 'bước': 250, 'thoát_ly': 3799, 'tàu': 4277, 'lâu_lâu': 2170, 'thoát': 3798, 'hệ_thống': 1650, 'sợ': 3680, 'lúc_nào': 2200, 'công_nghệ': 755, 'sụp': 3682, 'chê': 505, 'khen': 1791, 'bộ': 340, 'xử_lý': 4869, 'thông_số': 3864, 'hãy': 1564, 'bằng': 302, 'life': 2058, 'tưởng': 4356, 'mắt': 2531, 'ngầu': 2733, 'de': 928, 'cổ': 874, 'thời': 3946, 'xưa': 4835, 'đập': 5150, 'khúc': 1871, 'mọi': 2551, 'cục': 885, 'gạch': 1362, 'mang_tiếng': 2324, 'sờ': 3677, 'mát': 2436, 'phôn': 3153, 'hiệu_năng': 1464, 'trung': 4120, 'mượt': 2501, 'lắm': 2245, 'lm': 2086, 'nóng': 2971, 'trừ': 4233, 'việc': 4566, 'hút': 1595, 'qin': 3243, 'thời_gian': 3947, 'tóm': 4317, 'như_vậy': 2837, 'đánh_giá': 5063, 'sáng': 3601, 'xảy': 4845, 'quá_trình': 3283, 'mặc_dù': 2533, 'gắn': 1368, 'đủ': 5245, 'đẩy': 5148, 'liên_tục': 2080, 'phía': 3148, 'yếu': 4900, 'nói_chung': 2966, 'nhân_viên': 2809, 'đối_xử': 5205, 'đều': 5181, 'hết': 1642, 'từ_chối': 4468, 'mày': 2432, 'chắc_chắn': 574, 'tao': 3717, 'bao_nhiêu': 100, 'xem_xét_lại': 4758, 'web': 4723, 'thoại': 3800, 'phần_mềm': 3183, 'có_nhân_viên': 748, 'qua': 3246, 'hôm_nay': 1585, 'trách_nhiệm': 4143, 'kiểu': 1927, 'quay': 3259, 'khe': 1790, 'lập_tức': 2242, 'vote': 4589, 'bây_giờ': 216, 'giá_cả': 1253, 'nghỉ': 2654, 'dòng': 1028, 'nha': 2753, 'tránh': 4146, 'phiền_phức': 3109, 'trắng': 4201, 'sang_trọng': 3459, 'cài': 711, 'đứng': 5248, 'cực': 903, 'hoàn_toàn': 1504, 'dự_kiến': 1102, 'tận': 4386, 'giao_thời_gian': 1238, 'kéo_dài': 1948, 'thèm': 3841, 'mặt_hàng': 2538, 'làm_quà': 2150, 'con_trai': 671, 'dịp': 1079, 'cuối': 701, 'đạt': 5131, 'khích_lệ': 1845, 'vậy_mà': 4675, 'cụ_thể': 884, 'buồn': 175, 'chờ_đợi': 614, 'giữ': 1308, 'lời': 2290, 'hứa': 1702, 'giá_trị': 1256, 'gây': 1345, 'rắc_rối': 3418, 'họ': 1655, 'làm_công': 2146, 'lương': 2214, 'tiếp_tục': 4026, 'liên_tiếp': 2079, 'đây': 5070, 'thiết_nghĩ': 3782, 'môi_trường': 2475, 'cạnh_tranh': 801, 'shope': 3516, 'hiện_tại': 1460, 'không_thể': 1866, 'trụ': 4230, 'vững': 4713, 'sự': 3696, 'yếu_kém': 4901, 'năng_lực': 2983, 'khả_năng': 1873, 'sự_thật': 3699, 'mất_lòng': 2517, 'thông_cảm': 3862, 'hài_lòng': 1543, 'tạm_thời': 4364, 'cảm_giác': 810, 'lừa_đảo': 2301, 'vãi': 4609, 'chưởng': 544, 'ngày_mai': 2700, 'miễn_phí': 2373, 'buổi': 179, 'một_vài': 2572, 'ám': 4920, 'vàng': 4601, 'trước': 4181, 'nhợt_nhạt': 2897, 'voice': 4583, 'nhìn_nhận': 2818, 'sắc': 3653, 'chán': 485, 'redmi': 3347, 'thích': 3846, 'bất_ngờ': 282, 'giống': 1301, 'hình': 1568, 'bố_mẹ': 326, 'miếng': 2370, 'cường_lực': 796, 'hiểu': 1454, 'tạo': 4365, 'deal': 929, 'kính': 1968, 'active': 8, 'nhau': 2770, 'wtf': 4744, 'vội': 4696, 'kỹ': 2008, 'lôi': 2191, 'đồng_ý': 5220, 'tên': 4291, 'chung': 461, 'hả': 1624, 'góp_ý': 1356, 'sửa': 3692, 'nhắm': 2876, 'hơn_nữa': 1600, 'mặt': 2536, 'nhẹ_nhàng': 2883, 'nuột': 2936, 'ngon': 2660, 'điện_thoại_trừ': 5011, 'màu_sắc': 2430, 'bao_bì': 94, 'ngọc_trai': 2741, 'thật': 3908, 'pha': 3096, 'tím': 4305, 'nhạt': 2848, 'nhầm': 2861, 'vỏ': 4693, 'đáy': 5067, 'thiết_kế': 3780, 'định_vị': 5194, 'chị_em': 596, 'đàn_ông': 5047, 'giành': 1251, 'tiếp': 4021, 'rõ': 3396, 'đăng_ký': 5109, 'hôm': 1583, 'bắt_đầu': 299, 'lác': 2161, 'đơn_giản': 5114, 'chập': 571, 'vô_số': 4634, 'hiện_tượng': 1459, 'thường_xuyên': 3883, 'nét': 2959, 'đặc_biệt': 5159, 'trực_tiếp': 4236, 'ap': 60, 'khoá': 1806, 'vân': 4606, 'mở_màn_hình': 2584, 'quăng': 3299, 'xong': 4775, 'đồng': 5213, 'kiểm': 1919, 'tự': 4475, 'kí_tên': 1959, 'giùm': 1270, 'xem_lại': 4755, 'ông': 4944, 'bà': 185, 'nhỡ': 2896, 'zo': 4912, 'ch': 403, 'play': 3212, 'lc': 2044, 'báo_ứng_dụng': 211, 'oai': 3034, 'coi': 654, 'phim': 3105, 'tục': 4458, 'hao': 1407, 'đầy_đủ': 5147, 'bịt': 316, 'dự_phòng': 1103, 'phụ_huynh': 3194, 'banks': 92, 'chậm_rì': 568, 'hi_vọng': 1438, 'vinsmart': 4556, 'thông_thường': 3865, 'hoặc': 1515, 'phút': 3159, 'ảnh': 5268, 'chân_thực': 497, 'ko': 1934, 'bik': 121, 'vínmart': 4620, 'yên_tâm': 4895, 'trading': 4084, 'dĩ': 1038, 'an': 40, 'bình': 226, 'dương': 1046, 'thủ': 3955, 'đức': 5247, 'chú': 527, 'mỗi': 2563, 'mùa': 2481, 'cải': 804, 'jo': 1760, 'thẳng': 3914, 'giaó': 1241, 'hang': 1399, 'đuợc': 5040, 'ỉn': 5286, 'thằng': 3913, 'sạt_nghiệp': 3639, 'thử': 3963, 'hầu_hết': 1631, 'tính_năng': 4311, 'phần_cứng': 3180, 'cảm_biến': 809, 'hoạt_động': 1512, 'review': 3363, 'check': 420, 'duoc': 995, 'cai': 364, 'ma_ben': 2306, 'ngoai': 2658, 'pokemon': 3217, 'go': 1317, 'toan': 4058, 'va': 4512, 'vang': 4522, 'lien': 2057, 'tuc': 4242, 'neu': 2622, 'tra': 4079, 'mat': 2331, 'gia': 1223, 'tri': 4106, 'tien': 3979, 'chap': 412, 'nhan': 2759, 'cal': 365, 'tong': 4063, 'dai': 910, 'vien': 4543, 'thi': 3773, 'loi': 2105, 'la': 2016, 'can': 374, 'cu': 691, 'quy': 3267, 'dinh': 958, 'tragi': 4085, 'ca': 360, 'da': 907, 'that': 3759, 'vong': 4587, 'tap': 3718, 'hoàn_thiện': 1502, 'ọp_ẹp': 5288, 'thao_tác': 3757, 'độ': 5227, 'phân_giải': 3138, 'hình_ảnh': 1575, 'nhòa': 2821, 'cấp': 829, 'sớm': 3676, 'giải_quyết': 1278, 'đưa': 5117, 'thỏa_đáng': 3942, 'bắt': 295, 'thường': 3882, 'chập_chờn': 572, 'cấu_hình': 833, 'trâu': 4151, 'update': 4497, 'thiệt_thòi': 3789, 'bản': 259, 'cũ': 777, 'lẫn': 2238, 'đóng_hộp': 5092, 'dấu_hiệu': 1055, 'cạy': 802, 'lắp': 2247, 'nhà_máy': 2797, 'em': 1113, 'sữ_dụng': 3694, 'người_lớn': 2720, 'đỡ': 5240, 'bữa': 353, 'ad': 11, 'xuống': 4801, 'kho': 1799, 'nữ': 3032, 'điều_phối': 4997, 'lườm': 2218, 'phát': 3125, 'trả_lời': 4194, 'cảm_thấy': 815, 'tôn_trọng': 4321, 'đập_hộp': 5151, 'hở': 1691, 'keo': 1775, 'bung': 170, 'nắp': 2998, 'dây': 1015, 'cố_định': 870, 'dính': 1025, 'chẳng_lẽ': 579, 'ngớ_ngẩn': 2746, 'khu_vực': 1815, 'nông_thôn': 2976, 'thành_thị': 3824, 'phủ_sóng': 3200, 'nơi': 2985, 'cử_chỉ': 896, 'trở_lại': 4222, 'phát_triển': 3131, 'tình_trạng': 4300, 'hỡi_ôi': 1692, 'bos': 158, 'phiên_bản': 3106, 'ngưng': 2718, 'đành': 5049, 'tiếp_vậy': 4027, 'khuyết_điểm': 1826, 'duy_nhất': 999, 'việt_nam': 4570, 'bóc_tem': 237, 'viền': 4565, 'trầy': 4197, 'bám': 203, 'bụi': 350, 'đòi_hỏi': 5085, 'hôm_qua': 1587, 'khoảng': 1809, 'aps': 64, 'cài_đặt': 712, 'sẵn': 3658, 'xoá': 4776, 'nặng': 3002, 'nố': 3010, 'bực_mình': 358, 'dự_tính': 1104, 'suy_nghĩ_lại': 3583, 'nhé': 2813, 'đù': 5099, 'má': 2434, 'mõi': 2479, 'đéo': 5077, 'bác': 201, 'trung_niên': 4125, 'nay': 2612, 'đa': 4959, 'seo': 3496, 'như_ai': 2829, 'bóc': 236, 'chủ_yếu': 623, 'đáp_ứng': 5066, 'nhỏ_xíu': 2892, 'rè': 3390, 'max': 2335, 'volumn': 4586, 'kim_loại': 1904, 'tương_đối': 4353, 'quan_trọng_điểm': 3254, 'đụng': 5244, 'vô_sản_phẩm': 4633, 'kêu': 1953, 'cập_nhật': 854, 'smart': 3539, 'dư_dả': 1043, 'tài_chính': 4272, 'quảng_cáo': 3308, 'tư_vấn': 4340, 'cậy': 856, 'cắm': 857, 'thực_hiện': 3968, 'mong_đợi': 2396, 'gém': 1348, 'cảm': 808, 'mô_tả': 2473, 'nguyen': 2683, 'mác': 2435, 'nổi': 3016, 'nhận_dạng': 2867, 'nhạy': 2849, 'buộc': 180, 'đóng': 5089, 'liệu': 2084, 'gọn': 1374, 'ổn_định': 5297, 'đề_nghị': 5177, 'xem_xét': 4757, 'vạch': 4652, 'youtube': 4889, 'hiệu_ứng': 1467, 'chuyển': 470, 'lao': 2033, 'cực_kì': 904, 'bé': 218, 'tiếng': 4018, 'volume': 4585, 'ơi': 5254, 'wf': 4729, 'ồ_ồ': 5293, 'video': 4541, 'niêm_phong': 2913, 'xước': 4838, 'hộ': 1684, 'gấp': 1365, 'bố': 325, 'tự_dưng': 4477, 'hỏng': 1666, 'bảo': 264, 'thể_hiện': 3928, 'vai_trò': 4517, 'sp': 3563, 'lát': 2162, 'bất_cứ': 278, 'giả': 1274, 'nợ': 3028, 'trận': 4200, 'đánh': 5060, 'khởi_động': 1890, 'chỉ_bảo_hành': 588, 'hay_là': 1416, 'vincom': 4551, 'khích': 1844, 'hoạt': 1511, 'xứng_đáng': 4864, 'lâu_dài': 2167, 'lớp': 2289, 'chống': 603, 'xốc': 4858, 'tươi': 4341, 'thân_thiện': 3837, 'it': 1747, 'trăm': 4173, 'nghìn': 2645, 'nâng_cấp': 2950, 'thế_hệ': 3921, 'thay': 3760, 'ký_hiệu': 1972, 'tick': 3976, 'thành': 3819, 'lưu': 2211, 'rành_mạch': 3381, 'dật': 1061, 'nhìu': 2819, 'bổ': 334, 'vos': 4588, 'khôi': 1856, 'phịc': 3188, 'gốc': 1377, 'mờ': 2580, 'hài': 1542, 'long': 2109, 'sản': 3641, 'phấm': 3176, 'quái': 3288, 'sảm': 3640, 'phảm': 3167, 'ngu': 2674, 'bò': 234, 'mu_giờ': 2407, 'hối_hận': 1669, 'màu_sắc_đẹp': 2431, 'trục_trặc': 4231, 'âm': 4926, 'quen': 3263, 'chia_sẻ': 424, 'ấn': 5273, 'lâu_hủy': 2168, 'mờ_nhạt': 2581, 'chết_trôi': 586, 'tấm': 4373, 'mạnh': 2509, 'pubgm': 3231, 'điện_thoại_tệ': 5013, 'hoàn_trả': 1505, 'đươcj': 5120, 'nhiêu': 2779, 'mínhnsnsbsb': 2468, 'hahahahshshshs': 1393, 'luôn_luôn': 2134, 'load': 2092, 'dộng': 1090, 'tung': 4245, 'nóc': 2964, 'làm_ăn': 2153, 'sốc': 3666, 'lót': 2189, 'giấy': 1290, 'bìa': 225, 'mjh': 2375, 'ngày_giờ': 2699, 'kết_nối_mạng': 1995, 'dung_lượng': 993, 'kinh_khủng': 1910, 'anh_em': 51, 'suy_nghĩ': 3582, 'lòng': 2185, 'chăng': 538, 'giá_thành': 1255, 'ngon_lành': 2661, 'bịi': 314, 'loạn': 2115, 'nhanh_chóng': 2762, 'kết': 1991, 'vô_địch': 4637, 'cháu': 490, 'nghịch': 2656, 'mẹo': 2541, 'ghê_thiệt': 1221, 'mạng': 2508, 'hợp_lý': 1695, 'gogle': 1321, 'bất_kỳ': 280, 'ngoại_hình': 2668, 'xa': 4746, 'ae': 17, 'lên_cân_nhắc': 2180, 'hoài': 1498, 'kog': 1935, 'loa_vậy': 2091, 'phục': 3197, 'hoá_đơn': 1508, 'vat': 4523, 'kỳ_vọng': 2007, 'đonmgs': 5026, 'fpt': 1176, 'hi': 1436, 'dất': 1053, 'nang': 2608, 'fulbox': 1186, 'săn': 3618, 'méo_mó': 2459, 'chỗ': 609, 'thấp': 3888, 'móp': 2472, 'zin': 4910, 'chậm_rì_rì': 569, 'dan': 913, 'tiệm': 4038, 'cận': 852, 'cuộc_gọi': 705, 'đèn': 5074, 'flash': 1166, 'quản_trị': 3306, 'viên': 4562, 'bít': 233, 'bổ_sung': 335, 'thực_sự': 3969, 'roi': 3370, 'muon': 2413, 'hanh': 1406, 'cua': 692, 'sản_phẩm_chất_lượng': 3643, 'phải_chăng': 3166, 'siêu': 3530, 'kiện': 1930, 'cửa_hàng_phục_vụ': 901, 'hình_thức': 1573, 'lửa': 2302, 'kết_nối': 1994, 'gồm': 1379, 'dựng': 1108, 'hướng_dẫn': 1609, 'củ': 887, 'que': 3262, 'chọc': 599, 'nhắn': 2878, 'tikitrading': 3988, 'giảm_giá': 1287, 'người_nhà': 2722, 'chỉ_thị_giãn': 591, 'tphcm': 4074, 'phong_tỏa': 3117, 'đem': 4972, 'xịn': 4856, 'học_sinh': 1659, 'sv': 3588, 'lỡ': 2293, 'xóa_mất': 4827, 'nhah': 2757, 'mk': 2377, 'đôi': 5095, 'giây': 1265, 'tổng_kết': 4435, 'ít': 4935, 'báo_hủy': 209, 'cảm_nhận': 813, 'cá_nhân': 717, 'mầu': 2522, 'xanh': 4748, 'tỉnh': 4406, 'mỏng': 2554, 'sọc': 3663, 'ngang': 2627, 'du_lịch': 987, 'dã': 1018, 'cọc': 864, 'cằn': 862, 'liên': 2073, 'vòng': 4621, 'gườ': 1361, 'vô_cùng': 4627, 'ban_đầu': 88, 'mượt_mà': 2503, 'nè': 2955, 'túi': 4329, 'sock': 3549, 'thay_vì': 3762, 'các_tông': 719, 'bẩn': 289, 'mỹ_quan': 2598, 'kẹt': 1982, 'công_việc': 763, 'hnay': 1477, 'bthuong': 165, 'hổ': 1678, 'toàn': 4067, 'đứt': 5249, 'tiếc': 4014, 'màn': 2422, 'sữa': 3695, 'chữa': 638, 'vuốt': 4598, 'sàn': 3595, 'khỏe': 1880, 'cuốn': 703, 'doraemon': 977, 'cộng': 878, 'xu': 4782, 'hd': 1419, 'youtue': 4891, 'tối_đa': 4415, 'khỏng': 1882, 'phát_hiện': 3126, 'lổi': 2278, 'suốt': 3587, 'trường_hợp': 4188, 'ổn_áp': 5296, 'bự': 355, 'tuy': 4247, 'hư_đồ': 1607, 'bênh': 223, 'xốp': 4859, 'lắc': 2244, 'lộc_cộc': 2282, 'cẩu_thả': 851, 'loại': 2114, 'sướt': 3632, 'phân_loại': 3139, 'suất': 3585, 'xứ': 4862, 'quốc': 3319, 'xao': 4749, 'giao_diện': 1234, 'lựa_chọn': 2303, 'tất_nhiên': 4376, 'iphone': 1740, 'dù_sao': 1032, 'trẻ_trung': 4211, 'quên': 3294, 'để_ý': 5185, 'kì_vọng': 1956, 'thời_điểm': 3952, 'siêu_tốc': 3533, 'mồng': 2562, 'đăng_nhập': 5110, 'tài_khoản': 4273, 'chất': 560, 'kượng': 1980, 'đơij': 5112, 'bền': 309, 'tầu': 4383, 'ips': 1742, 'hấp_dẫn': 1628, 'tồi': 4426, 'hồi_hộp': 1673, 'online': 3060, 'tks': 4045, 'oke': 3048, 'tương_ứng': 4354, 'chính_sách': 515, 'truoc': 4130, 'rat': 3335, 'kem': 1773, 'gan': 1197, 'tuan': 4240, 'kich': 1896, 'hoat': 1484, 'dien': 952, 'tu': 4238, 'nhừng': 2900, 'sam': 3453, 'sung': 3577, 'shop': 3515, 'nghiện': 2642, 'tốc': 4411, 'chiến': 435, 'ngờ': 2747, 'la_bàn': 2017, 'chua': 459, 'nen': 2619, 'mơi': 2495, 'dỡ': 1093, 'brand': 161, 'anh': 48, 'chị': 595, 'tràn': 4140, 'kô': 1970, 'sau_này': 3466, 'ung': 4491, 'dam': 911, 'thoai': 3792, 'nguoi': 2676, 'ben': 114, 'kia': 1895, 'nho': 2787, 'on': 3056, 'thanh': 3750, 've': 4530, 'bas': 103, 'nhieu': 2776, 'chac': 405, 'micro': 2355, 'bỏ_xó': 324, 'nhức': 2899, 'đau_đầu': 4969, 'mail': 2316, 'cám_ơn': 723, 'ngoại': 2667, 'kt': 1938, 'kĩ': 1975, 'hic': 1439, 'cây': 738, 'ánh_kim_loại': 4922, 'êm': 4934, 'tgdđ': 3741, 'strange': 3572, 'technical': 3730, 'isues': 1746, 'might': 2358, 'come': 662, 'from': 1181, 'the_hardware': 3765, 'ấy': 5277, 'phần': 3179, 'là_hơi': 2141, 'chậm_chạp': 567, 'vợ': 4704, 'hẳn_hoi': 1640, 'nổi_bật': 3017, 'thành_công': 3820, 'hóa_đơn': 1579, 'seul': 3505, 'mướt': 2499, 'đợt': 5242, 'chay': 418, 'moi': 2391, 'sac': 3446, 'lan': 2029, 'dau': 925, 'hoi': 1486, 'nong': 2922, 'gi': 1222, 'hong': 1491, 'khuyênk': 1820, 'hop': 1493, 'ly': 2138, 'xai': 4747, 'nhap': 2768, 'thap': 3758, 'bàn_phím': 194, 'tot': 4065, 'vui_vẻ': 4597, 'hai_lòng': 1395, 'cuc': 695, 'ky': 1941, 'kiểu_dáng': 1928, 'tổta': 4450, 'hạch': 1615, 'chèn': 501, 'va_đập': 4514, 'star': 3567, 'nhựa': 2902, 'xóa': 4826, 'đá': 5052, 'văng': 4644, 'tìm': 4295, 'phù': 3156, 'dở': 1091, 'thẻ': 3917, 'tháo': 3831, 'nạp': 2991, 'nhìn_chung': 2817, 'lỏng': 2271, 'rỗ': 3432, 'thưởng': 3884, 'chuông': 476, 'tùi': 4325, 'kiểm_chứng': 1920, 'sơ_sài': 3623, 'thay_đổi': 3763, 'mớ': 2574, 'rau': 3337, 'chợ': 616, 'bụp': 352, 'thân': 3834, 'dăm': 1037, 'thẩm_mỹ': 3900, 'lịch_sử': 2265, 'trôi': 4165, 'phát_sóng': 3130, 'tồi_tệ': 4427, 'đừng': 5251, 'họp': 1661, 'vất': 4658, 'giam': 1230, 'ham': 1397, 'liên_quân': 2078, 'combat': 660, 'dung': 991, 'mau': 2333, 'quang': 3256, 'tàm_tạm': 4276, 'chớp': 612, 'tôt': 4323, 'âm_thanh': 4929, 'thoy': 3797, 'giâ': 1264, 'rấy': 3414, 'ô_kê': 4938, 'tiêu_chuẩn': 4009, 'antutu': 55, 'mediatek': 2343, 'lộn': 2283, 'xiaomi_hóa': 4764, 'realme': 3342, 'grab': 1332, 'bữa_nay': 354, 'nhược_điểm': 2843, 'viết': 4564, 'sai': 3450, 'lq': 2119, 'bở': 346, 'càng': 713, 'cáng': 724, 'chắc': 573, 'dung_dịch_vụ': 992, 'bit': 126, 'trc': 4102, 'tiên': 4006, 'chả': 551, 'tựa': 4483, 'thỉnh_thoảng': 3932, 'phiếu': 3107, 'dk': 968, 'điện': 5000, 'nhưg': 2840, 'pjo': 3209, 'tin_tưởng': 3998, 'hồi': 1672, 'ngược_lại': 2728, 'thích_hợp': 3847, 'bin': 123, 'suport': 3579, 'fps': 1175, 'sấp': 3648, 'xỉ': 4854, 'kĩ_càng': 1976, 'hghghfgbdfbvdfgv': 1434, 'tốc_độ': 4412, 'bubg': 167, 'tím_tái_trông': 4306, 'đắt': 5153, 'muộn': 2417, 'quán': 3290, 'cắt': 859, 'phân_phối': 3140, 'tab': 3706, 'trát': 4149, 'lấm_tấm': 2231, 'rơi': 3404, 'tiết': 4028, 'thoạt_đầu': 3802, 'vận_hành': 4667, 'cơ_mà': 787, 'mah': 2313, 'so_sánh': 3547, 'chú_mình': 528, 'gác': 1342, 'thời_hạn': 3949, 'nhét': 2814, 'mãnh': 2455, 'khâu': 1841, 'hàng_hoá': 1547, 'ck': 642, 'tuổi': 4259, 'hảng': 1626, 'time': 3993, 'nv': 2937, 'kiti': 1913, 'cty': 690, 'hỗ': 1680, 'trợcho': 4229, 'sài_xót': 3594, 'thực_chất': 3967, 'kịp_thời': 2004, 'xl': 4771, 'xót': 4831, 'nếu_như': 3006, 'claim': 643, 'bước_đầu': 251, 'quan': 3251, 'kịp': 2003, 'kích': 1961, 'dễ_thương': 1073, 'điên': 4985, 'tử': 4472, 'niêm': 2912, 'bê': 220, 'dong': 976, 'goi': 1322, 'than': 3746, '_đầu': 1, '_về': 0, 'mag': 2312, 'trái': 4144, 'cấn': 828, 'lỗ': 2279, 'sợi': 3681, 'nhô': 2824, 'chà_chà': 482, 'dấu': 1054, 'reviewer': 3364, 'trung_bình_sao': 4122, 'chục': 617, 'lặp_đi': 2254, 'lặp': 2252, 'cổng': 875, 'covid': 683, 'phức_tạp': 3201, 'trung_tâm': 4128, 'bóng': 238, 'phản_ứng': 3174, 'cố_gắng': 867, 'thể_thao_tác': 3929, 'dẻo': 1068, 'dơ': 1041, 'giới_thiệu': 1303, 'tranding': 4090, 'có_lẽ': 746, 'mic': 2354, 'láu': 2163, 'trước_hết': 4182, 'an_tâm': 42, 'chu_đáo': 458, 'phòng': 3150, 'tham_khảo': 3745, 'trang': 4091, 'tmdt': 4047, 'ưng': 5258, 'dày': 1010, 'chấm': 555, 'bọc': 318, 'cải_tiến': 807, 'ví_dụ': 4619, 'catson': 394, 'rỗng': 3433, 'os': 3072, 'sms': 3541, 'quần_áo': 3313, 'méo': 2458, 'dc': 927, 'nhoè': 2789, 'rung': 3376, 'nghi_ngờ': 2635, 'tay_cầm': 3722, 'tripod': 4110, 'kết_quả': 1996, 'vận_chuyển_giao': 4664, 'món': 2471, 'chât': 498, 'lượng': 2221, 'sơ': 3620, 'hạn': 1617, 'chửa': 635, 'thanks': 3755, 'cấp_tốc': 830, 'nhếch_nhác': 2886, 'cuộn': 706, 'đảm_bảo_an_toàn': 5134, 'tiềng': 4036, 'mesenger': 2348, 'to': 4052, 'xung_quanh': 4787, 'hỗ_trợ_thủ_tục': 1683, 'fake': 1140, 'id': 1715, 'hên': 1566, 'xui': 4785, 'sámung': 3599, 'tí': 4301, 'hướng': 1608, 'giữa': 1310, 'lăn_tăn': 2206, 'nước': 2986, 'dám': 1012, 'nền': 3007, 'giấu': 1289, 'thsfnh': 3807, 'công': 751, 'vui': 4595, 'haiz': 1396, 'vô_lý': 4631, 'tn': 4049, 'nhân': 2807, 'v_nhiệt': 4511, 'tinh': 4000, 'luong': 2130, 'gian': 1231, 'phu': 3120, 'kiên': 1914, 'dum_nhe': 990, 'nhien': 2774, 'tổng_quan': 4437, 'nhạy_cảm': 2850, 'lung_tung': 2127, 'setings': 3504, 'huawei': 1525, 'khỏi': 1881, 'chỉnh': 593, 'đêm': 5080, 'ngoài_ra': 2665, 'bất_thường': 283, 'đàm_thoại': 5046, 'al': 30, 'một_số': 2570, 'nhận_xét': 2868, 'mống': 2558, 'day': 926, 'galaxy_gia': 1191, 'song': 3555, 'voi': 4582, 'khac': 1783, 'diem': 951, 'ty': 4269, 'vach': 4515, 'be': 109, 'wed': 4725, 'tuột': 4263, 'chư': 541, 'quần': 3312, 'tốt_vậy': 4424, 'thật_ra': 3909, 'nghé': 2644, 'hiện_giờ': 1457, 'kếm': 1990, 'trãi': 4153, 'ngủ': 2748, 'tụt': 4459, 'phanh': 3101, 'tất_cả': 4375, 'trợ_giúp': 4227, 'kích_hoạt_vậy': 1964, 'bao_giờ': 96, 'tờ': 4457, 'lá': 2160, 'lúa': 2197, 'đon': 5024, 'vị': 4689, 'mất_công': 2514, 'đơn_vị': 5116, 'cộng_tác': 879, 'nghiên_cứu': 2639, 'đở': 5239, 'phiền': 3108, 'cam': 368, 'mắc': 2529, 'trách': 4142, 'trang_web': 4094, 'chính_thức': 516, 'red': 3345, 'đề': 5175, 'tp': 4073, 'vietel': 4545, 'vina': 4549, 'kamera': 1768, 'solo': 3552, 'đau': 4968, 'pibseo': 3202, 'tikinow': 3986, 'nhất_là': 2859, 'duo': 994, 'vừa_ý': 4712, 'nhỉ': 2887, 'tiếng_vang': 4020, 'rít': 3392, 'kĩ_lưỡng': 1977, 'thể': 3927, 'liệt': 2083, 'hotline': 1495, 'giáo': 1262, 'best': 115, 'perfect': 3093, 'mama': 2320, 'iporn': 1741, 'oneui': 3059, 'cột': 881, 'kiên_tục': 1916, 'đai': 4965, 'mã_vạch': 2453, 'qr': 3245, 'mới_đầu': 2578, 'đơn_thuần': 5115, 'internet': 1735, 'nằm': 3000, 'cảmơn': 823, 'hắn': 1638, 'quyên': 3271, 'khóa': 1853, 'chiu': 431, 'ống_kính': 5291, 'vật': 4669, 'lạ': 2222, 'lọt': 2270, 'kín': 1966, 'đựng': 5252, 'knox': 1933, 'secure': 3487, 'folder': 1171, 'khám_phá': 1840, 'dược': 1048, 'hãnh': 1563, 'samsum': 3455, 'nản': 2992, 'thua_kém': 3809, 'ngàt': 2696, 'vẩn': 4661, 'cầm_chắc': 837, 'gián_đoạn': 1260, 'híc': 1576, 'thực_tế': 3972, 'gõ': 1357, 'phàn_nàn': 3123, 'khuôn_mặt': 1830, 'khủng': 1891, 'sét': 3609, 'đuện': 5038, 'alo': 31, 'đăng_kí': 5108, 'chỉ_tội': 592, 'game': 1194, 'th': 3743, 'bể': 310, 'màng': 2426, 'cầm_chắc_tay': 839, 'trade': 4083, 'mong_muốn': 2395, 'giao_tiếp': 1239, 'văn_hóa': 4642, 'cong': 676, 'âm_lượng': 4927, 'đeo': 4976, 'quá_chừng': 3282, 'taiphon': 3711, 'nhãn': 2812, 'nhậm': 2864, 'xomg': 4774, 'bảo_quản': 269, 'dang': 914, 'ne': 2616, 'lai': 2026, 'gui': 1339, 'ranh': 3333, 'oi': 3044, 'ah': 19, 'samsaung': 3454, 'nao': 2610, 'ma_sao': 2307, 'vay': 4525, 'bthg': 164, 'nhận_diện': 2866, 'đùng': 5102, 'bực': 356, 'quăng_quật': 3300, 'thế_thì': 3925, 'gift': 1242, 'tiếp_theo': 4025, 'dài': 1006, 'quả': 3303, 'ỉm': 5285, 'quyền_lợi': 3276, 'gọn_nhẹ': 1376, 'cỡ': 882, 'chủ_nhật': 620, 'nhã_nhặn': 2811, 'thi_thoảng': 3774, 'mỡ': 2585, 'sộc': 3675, 'xuất_hiện': 4794, 'quản_trị_viên': 3307, 'fb': 1143, 'tét': 4289, 'tập': 4392, 'thông': 3859, 'thế_là': 3922, 'hời': 1689, 'vọng': 4692, 'phong': 3113, 'chủng_loại': 626, 'bảo_hành_vậy': 267, 'đungs': 5036, 'lam': 2028, 'ha_ban': 1388, 'thanh_niên': 3752, 'già': 1248, 'rớt': 3436, 'bay': 108, 'dừng': 1097, 'hợp_tác': 1696, 'ghn': 1215, 'ninja': 2908, 'van': 4520, 'kết_luận': 1993, 'dv': 1002, 'ti': 3974, 'ki': 1894, 'ngắn': 2735, 'phụ': 3193, 'opt': 3066, 'hoàn': 1499, 'khoẻ': 1811, 'tương_tác': 4349, 'im': 1719, 'nhấn': 2854, 'nắm': 2996, 'khít': 1846, 'nhớ': 2893, 'xác_nhận': 4811, 'nokia': 2920, 'xinh': 4767, 'bth': 163, 'font': 1173, 'lùi': 2195, 'oét': 3076, 'tức_giận': 4464, 'okie': 3051, 'ngọn': 2742, 'lắp_ráp': 2248, 'trên_dưới': 4157, 'thoải_mái': 3804, 'cạnh': 800, 'ntn': 2930, 'rác': 3382, 'chang': 410, 'nãn': 2954, 'single': 3525, 'dual': 988, 'mài': 2421, 'be_bé': 110, 'xíu': 4825, 'đối_tác': 5203, 'riêng': 3366, 'nầy': 2995, 'đồng_hồ': 5215, 'xử_dụng': 4867, 'tiện_lợi': 4041, 'kích_cỡ': 1962, 'trông': 4166, 'cún': 769, 'traiu': 4088, 'thanh_toán': 3753, 'môm': 2476, 'đường': 5123, 'yfhjihvh': 4882, 'bjuhv': 142, 'hjhghj': 1471, 'jgfghjh': 1756, 'hgjh': 1435, 'thíc': 3845, 'hồng': 1676, 'chat': 416, 'pham': 3099, 'tuyet': 4249, 'sóng_sánh': 3613, 'gãy': 1346, 'pop': 3218, 'up': 4496, 'linh_hoạt': 2063, 'chém': 503, 'gió': 1267, 'xạo': 4842, 'lấn_cấn': 2232, 'hình_dạng': 1571, 'nhẹ_tay': 2884, 'người_ta': 2723, 'sg': 3508, 'hp': 1517, 'đằng': 5155, 'hn': 1475, 'tạm_biệt': 4363, 'nào_ngờ': 2943, 'mở_hàng': 2583, 'ôi_thôi': 4940, 'chú_ý': 531, 'bọc_lót': 319, 'giảm_thiểu': 1288, 'trống': 4216, 'di_chuyển': 944, 'dao_động': 919, 'tiêu_dùng': 4011, 'tiền_bạc': 4032, 'chọn_lựa': 601, 'ưu_đãi': 5263, 'bán_lẻ': 205, 'truyền_thống': 4135, 'bản_thân': 261, 'gia_đình': 1227, 'thò': 3850, 'thụt': 3954, 'chính_xác': 517, 'hàng_mã': 1551, 'rằng': 3419, 'cố': 866, 'vừa_rồi': 4711, 'kể': 1998, 'tự_ý': 4481, 'bh': 117, 'xt': 4781, 'mobile': 2386, 'sơ_ý': 3625, 'phản_ánh': 3172, 'chênh': 508, 'ngàn': 2695, 'chênh_lệch': 509, 'lý_lẽ': 2203, 'giấy_tờ': 1293, 'biên_lai': 128, 'lõi': 2193, 'hiển_nhiên': 1452, 'nhầm_lẫn': 2862, 'làm_ăn_gian_dối': 2154, 'xuất': 4793, 'evat': 1126, 'bằng_chứng': 303, 'bận': 291, 'voucher': 4590, 'thực': 3966, 'kể_cả': 1999, 'tính': 4309, 'quả_lừa': 3304, 'istore': 1744, 'né': 2956, 'gian_dối': 1232, 'hệ': 1649, 'điều_hành': 4993, 'chuỗi': 480, 'ký_tự': 1974, 'đổi_mới': 5224, 'tràn_trề': 4141, 'ngày_tháng': 2705, 'nguyên_nhân': 2686, 'hêt': 1567, 'vin': 4548, 'bong': 156, 'lapstop': 2035, 'tương_tự': 4350, 'nhất_định': 2860, 'vinaphone': 4550, 'vnp': 4580, 'truyền': 4134, 'tổng_đài_xóa': 4447, 'soạn': 3561, 'data': 922, 'sự_cố': 3697, 'live': 2070, 'vị_trí': 4690, 'sped': 3565, 'server': 3499, 'khiến': 1795, 'grand': 1333, 'prime': 3223, 'quay_phim': 3260, 'huynh': 1532, 'nghiêm_trọng': 2637, 'dạo': 1052, 'fải': 1189, 'chêm': 507, 'khí': 1842, 'cộp': 880, 'tự_do': 4476, 'trước_đây': 4186, 'android': 45, 'tìm_kiếm': 4297, 'xì': 4822, 'cx': 708, 'mịn': 2549, 'chất_lượng_thứ': 563, 'lọc': 2269, 'tạp_âm': 4367, 'cử_động': 897, 'tay_chân': 3721, 'khoảng_cách': 1810, 'vmesage': 4575, 'vấn': 4655, 'siu': 3529, 'định': 5192, 'nguy_hiểm': 2680, 'hùi_hụi': 1590, 'camera': 371, 'xuất_sắc': 4798, 'duy': 997, 'tự_động': 4482, 'mới_đầu_máy': 2579, 'ngồi': 2745, 'quận': 3315, 'lê': 2178, 'chân': 493, 'hải': 1625, 'căng': 775, 'đét': 5078, 'hận': 1635, 'make': 2317, 'in': 1725, 'viet': 4544, 'rắc': 3417, 'đầu_tiên': 5142, 'đột_nhiên': 5236, 'hồi_âm': 1674, 'temp': 3734, 'chồng': 606, 'cứng_ngắc': 894, 'chịu': 597, 'tệ_hại': 4403, 'nđ': 2984, 'hẳn': 1639, 'he': 1422, 'now': 2927, 'mobistar': 2387, 'dở_tệ': 1092, 'xứng': 4863, 'công_nhận': 758, 'ra_mắt': 3328, 'cao_cấp': 383, 'antam': 53, 'kỹ_càng': 2009, 'tv': 4267, 'rò_rỉ': 3393, 'đt': 5031, 'dự_định': 1106, 'nhòe': 2822, 'hóa': 1578, 'cạn_kiệt': 799, 'kiệt': 1931, 'chai': 406, 'tui': 4243, 'lõng': 2194, 'lẻo': 2258, 'nhiệt_độ': 2786, 'úa': 4948, 'mút': 2488, 'tiền_vận_chuyển': 4034, 'jcb': 1754, 'okay': 3047, 'nhiệm': 2783, 'như_vẻ': 2838, 'bề_ngoài': 308, 'wi': 4733, 'fi': 1154, 'sấu': 3649, 'phầm': 3178, 'bluetoth': 147, 'tùm_lum': 4326, 'lâu_la': 2169, 'chê_bai': 506, 'nhà_tắm': 2800, 'nylon': 2940, 'như_thể': 2835, 'yêu': 4896, 'cholip': 448, 'helius': 1427, 'miwsi': 2367, 'thị_trường': 3934, 'vừa_lòng': 4708, 'faceok': 1136, 'phóng': 3151, 'xoay': 4772, 'chuẩn_bị': 478, 'khog': 1802, 'center': 399, 'tổng_đài_trãi': 4444, 'mua_sắm': 2410, 'lỏng_lẻo': 2272, 'sắp': 3655, 'rụng': 3440, 'hý': 1596, 'hửng': 1707, 'miết': 2371, 'kèo': 1943, 'amoled': 37, 'mầu_sắc': 2523, 'đôi_khi': 5096, 'châm': 492, 'ồn': 5294, 'đông': 5097, 'rội': 3434, 'giửa': 1307, 'sel': 3488, 'nhiễu': 2782, 'thủ_tục': 3958, 'quý': 3296, 'công_ty': 761, 'bụi_bặm': 351, 'vết': 4684, 'khiếu_nại': 1798, 'sắp_xếp': 3656, 'lởm': 2292, 'log': 2100, 'hangd': 1405, 'kak': 1767, 'niêmd': 2915, 'bấy_nhiêu': 287, 'gỡ': 1383, 'tr': 4077, 'vấp': 4657, 'chồi': 605, 'mềm': 2546, 'mật_khẩu': 2527, 'câu': 736, 'múa': 2483, 'nước_ngoài': 2988, 'robocon': 3369, 'cộc_cằn': 877, 'thô_lỗ': 3853, 'nội_dung': 3022, 'thành_phần': 3821, 'cẩn': 848, 'chỉ_dẫn': 589, 'trươc': 4180, 'tương_đương': 4352, 'âm_nhạc': 4928, 'restart': 3359, 'ngoét': 2666, 'xạc': 4840, 'hà_nội': 1541, 'rồ': 3429, 'màng_nhĩ': 2427, 'lười': 2217, 'tậm_tịt': 4385, 'bình_dân': 227, 'ưng_ý': 5259, 'dần': 1056, 'điều_chỉnh': 4991, 'kẻ': 1983, 'mart': 2330, 'sạt': 3638, 'ban_đêm': 87, 'nc': 2614, 'chảo': 553, 'thời_tiết': 3951, 'khoi': 1803, 'ycau': 4877, 'vẽ': 4681, 'hình_vẽ': 1574, 'đệp': 5188, 'dể': 1069, 'nhung': 2792, 'thuộc': 3817, 'cham': 408, 'hẫng_hụt': 1634, 'nổ': 3015, 'sạch': 3635, 'chân_thành': 495, 'bét': 219, 'kdjdjdhdhdhdhdhdhdjdhdjdjdj': 1772, 'cấu_hình_như_vậy': 835, 'sụt': 3683, 'tôp': 4322, 'tội': 4451, 'ngu_ngốc': 2675, 'ký_tên': 1973, 'tổng_đài_vậy': 4446, 'có_điều': 750, 'nilon': 2906, 'phâm': 3134, 'hdsd': 1421, 'hư_hỏng': 1605, 'bao_gồm': 98, 'min': 2361, 'nxbnvcvnbvbhb': 2939, 'tự_nhiên': 4479, 'biểu_tượng': 138, 'headphone': 1423, 'nháy': 2806, 'vệ_sinh': 4686, 'jack': 1753, 'xiami': 4762, 'fhd': 1152, 'kéo_theo': 1949, 'ưu': 5260, 'nhược': 2842, 'cố_tình': 868, 'lỗi_lầm': 2281, 'fre': 1178, 'fire': 1162, 'bá': 200, 'đạo': 5130, 'thểkhen': 3930, 'dã_man': 1019, 'rom': 3371, 'làng': 2158, 'cành': 714, 'đào': 5050, 'file': 1156, 'backup': 82, 'muot': 2414, 'su': 3573, 'khoang': 1800, 'toi': 4061, 'tiết_kiệm': 4029, 'dày_dặn': 1011, 'did': 950, 'not': 2923, 'receive': 3343, 'with': 4738, 'waranty': 4720, 'want': 4719, 'refund': 3350, 'ya': 4875, 'gởi': 1382, 'bắc': 293, 'gio': 1243, 'đốm': 5206, 'nhóc': 2823, 'đầm': 5137, 'quảng_nam': 3309, 'face': 1133, 'tin_tức': 3999, 'nâng': 2949, 'cấp_độ': 831, 'kích_thước': 1965, 'thgian': 3772, 'cang': 379, 'lì': 2182, 'thôi_thì': 3858, 'ông_bà': 4945, 'tận_tình': 4391, 'mai_mốt': 2315, 'truy_cập': 4133, 'cơ_hội': 786, 'bất_tiện': 284, 'very': 4536, 'god': 1319, 'hàng_không': 1549, 'vừa_mới': 4709, 're': 3338, 'hay_ho': 1415, 'emoji': 1118, 'chuyển_động': 473, 'zom': 4913, 'chất_liệu': 561, 'rẻ_tiền': 3422, 'quài': 3279, 'chủ': 619, 'ước': 5264, 'tiện': 4039, 'keng': 1774, 'lóng_lánh': 2188, 'phản_quang': 3171, 'black': 144, 'friday': 1180, 'bảo_mật': 268, 'nhấp_nháy': 2857, 'trọng_lượng': 4215, 'quyết_định': 3274, 'tnh': 4051, 'tm': 4046, 'vật_liệu': 4671, 'xây': 4818, 'dưng': 1044, 'trường': 4187, 'thịnh': 3935, 'mst': 2406, 'châu': 499, 'khu_phố_phường': 1814, 'bất_chợt': 276, 'cảnh': 825, 'bởi': 347, 'trùi': 4169, 'thẩm': 3899, 'chí': 511, 'lúc_lắc': 2199, 'trả_góp': 4192, 'quốc_tế': 3321, 'hạn_mức': 1619, 'tổng_đề': 4449, 'kê': 1951, 'cần_thiết': 843, 'liên_quan': 2077, 'team': 3726, 'payment': 3087, 'hứa_hẹn': 1703, 'nội_địa': 3025, 'địa_chỉ': 5190, 'lẻ': 2257, 'tức_là': 4465, 'đầug': 5144, 'giả_sử': 1276, 'câu_chuyện': 737, 'trở_thành': 4223, 'nhắc_nhở': 2875, 'ekip': 1110, 'cước_phí': 793, 'nhanh_tệ': 2766, 'khung': 1817, 'mục_đích': 2588, 'vừa_phải': 4710, 'nhe': 2771, 'tính_tình': 4312, 'quạo': 3301, 'quọ': 3318, 'hối': 1668, 'lẹ': 2256, 'tg': 3739, 'ui': 4486, 'xếp_hạng': 4851, 'củ_sạc': 888, 'tu_vậy': 4239, 'chuyen': 467, 'hoa': 1480, 'le': 2046, 'đứa': 5246, 'hiện_nay': 1458, 'yen': 4880, 'tâm': 4284, 'bới': 344, 'múc': 2484, 'chạm': 546, 'thon': 3795, 'cơ': 783, 'ghé': 1216, 'trị_giá': 4214, 'lâi': 2164, 'ngân_hàng': 2712, 'charge': 413, 'tín_dụng': 4307, 'cho_cùng': 443, 'giao_dịch': 1235, 'hủy': 1700, 'bớt': 345, 'cản': 824, 'thận': 3907, 'đăng': 5106, 'model': 2389, 'ta': 3705, 'biết_mấy': 133, 'phổ_thông': 3192, 'phong_cách': 3114, 'games': 1195, 'đài_radio': 5045, 'vớ_vẩn': 4698, 'mùng': 2482, 'hi_shop': 1437, 'hư_không': 1606, 'nhập': 2869, 'danh_bạ': 915, 'trơn': 4176, 'gloft': 1315, 'pit': 3208, 'đối_với': 5204, 'túi_tiền': 4330, 'test': 3735, 'hàn': 1544, 'xe': 4753, 'chặt': 581, 'bó_tay': 235, 'oder': 3038, 'lồi_lõm': 2276, 'hab': 1389, 'binh': 124, 'thuong': 3811, 'second': 3486, 'tín_hiệu': 4308, 'cmckfkf': 648, 'hưởng': 1611, 'nghi': 2634, 'ép': 4933, 'chắn': 577, 'trỡ': 4225, 'long_lanh': 2110, 'chuyện': 475, 'shoping': 3517, 'thay_thế': 3761, 'nọ': 3008, 'không_thể_nào': 1868, 'luon': 2129, 'mã_số': 2452, 'téc': 4288, 'cn': 651, 'y_nguyên': 4873, 'phủ': 3199, 'có_nghĩa_là': 747, 'người_thân': 2724, 'thành_ra': 3823, 'tikinextwek': 3985, 'yên': 4894, 'trở': 4221, 'báo_giá': 208, 'đàng_hoàng': 5048, 'kh': 1781, 'chuyên_nghiệp': 469, 'nhá': 2803, 'tẩy_chay': 4384, 'tmđt': 4048, 'này_nọ': 2945, 'lén': 2177, 'chỉ_số': 590, 'camara': 369, 'chế': 583, 'dộ': 1089, 'sẩy': 3651, 'cháy': 491, 'ht': 1520, 'tốt_đẹp': 4425, 'xay': 4752, 'nội_thành': 3023, 'hcm': 1418, 'quỳ': 3323, 'lạy': 2228, 'thương_mại': 3880, 'kinh': 1908, 'thực_tình': 3971, 'tận_mắt': 4389, 'lung_linh': 2126, 'giá_như': 1254, 'chương_trình': 543, 'pubg': 3230, 'seting': 3503, 'đặc': 5158, 'tư': 4339, 'flat': 1167, 'đa_phần': 4962, 'âu': 4932, 'ài': 4917, 'khasc': 1788, 'quản_lý': 3305, 'sịn': 3662, 'sò': 3610, 'dậy': 1062, 'minhd': 2363, 'mìn': 2465, 'trai': 4086, 'ytb': 4893, 'chà_bá': 481, 'sáng_tạo': 3603, 'thọai': 3937, 'dụng': 1095, 'kép': 1950, 'thui': 3810, 'dẫn': 1060, 'kiểm_soát': 1923, 'đối_thủ': 5202, 'xí': 4824, 'ahihi': 20, 'ping': 3206, 'cao_gắn': 384, 'em_em': 1114, 'che': 419, 'lập': 2240, 'ức_chế': 5304, 'snapdragon': 3544, 'lcd': 2045, 'lòi': 2184, 'lưu_ý': 2213, 'phơi': 3160, 'đểu': 5186, 'phát_sinh': 3129, 'sơ_suất': 3622, 'vốn_dĩ': 4695, 'biêt': 129, 'cúp': 770, 'cover': 682, 'hạn_chế': 1618, 'vd': 4528, 'chỉnh_sửa': 594, 'ins': 1730, 'minimum': 2365, 'kí_tự': 1960, 'xuất_hóa_đơn': 4797, 'thị': 3933, 'nguổn': 2692, 'rật': 3416, 'câi': 730, 'còm': 742, 'nhà_báo': 2796, 'ned': 2617, 'more': 2398, 'lagy': 2025, 'prety': 3221, 'bad': 83, 'sound': 3560, 'but': 171, 'nice': 2904, 'scren': 3470, 'most': 2399, 'doesn': 972, 'kinda': 1906, 'suck': 3576, 'hiệnloix': 1461, 'biét': 127, 'việt_vậy': 4571, 'thíh': 3849, 'gem': 1204, 'lang': 2030, 'sop': 3558, 'adorable': 14, 'home': 1488, 'chấp': 558, 'gh': 1210, 'chông': 525, 'nha_mờ': 2755, 'truyện': 4137, 'dư': 1042, 'phai': 3097, 'se': 3476, 'hang_lan': 1402, 'sử': 3690, 'lý': 2201, 'quê': 3293, 'huy': 1531, 'gjas': 1313, 'đươc': 5119, 'nhât': 2810, 'hô': 1581, 'trơ': 4175, 'kha': 1782, 'luc': 2121, 'mo': 2382, 'mot': 2400, 'chut': 466, 'lau': 2037, 'bpin': 160, 'trò': 4162, 'ji': 1757, 'gâm': 1344, 'đến_nỗi': 5174, 'giong': 1245, 'hang_nhanh': 1403, 'niềm': 2916, 'silicone': 3523, 'sỉ_dụng': 3661, 'bốn': 330, 'vtvgo': 4593, 'nghiêng': 2640, 'dọc': 1081, 'laptop': 2036, 'phổ_biến': 3191, 'mức_độ': 2591, 'ánh_sáng': 4923, 'sales': 3452, 'gop': 1326, 'diện': 965, 'mạg': 2507, 'xuốg': 4800, 'hỷ': 1710, 'đk': 5020, 'ghét': 1218, 'tq': 4076, 'xaomi': 4750, 'buột': 181, 'hạ_màng': 1613, 'huyền_bí': 1533, 'bỗng_nhiên': 339, 'hiếu': 1449, 'sdt': 3474, 'cực_tiểu': 906, 'zay': 4907, 'tới_lui': 4456, 'sắm': 3654, 'lưởng': 2219, 'quan_trọng': 3253, 'sđt': 3619, 'dễ_dàng': 1072, 'ghi_âm': 1214, 'nhứ': 2898, 'xâc': 4817, 'thô': 3852, 'lun': 2123, 'đứt_ruột': 5250, 'thẩm_quyền': 3901, 'chừa': 633, 'khoản': 1808, 'tả': 4369, 'không_trung_thực': 1869, 'thẳng_đứng': 3916, 'telegram': 3732, 'icon': 1714, 'cảm_xúc': 817, 'thùi': 3869, 'em_gái': 1115, 'va_chạm': 4513, 'sửa_chữa': 3693, 'toàn_cảnh': 4069, 'giòn': 1266, 'nứt': 3029, 'nâng_niu': 2953, 'trứng': 4232, 'võ': 4638, 'bỏ_túi': 323, 'nhên': 2815, 'sáu': 3605, 'toàn_bộ': 4068, 'tikicare': 3984, 'đính': 5083, 'reply': 3355, 'sale': 3451, 'may_mắn': 2338, 'xuống_cấp': 4802, 'final': 1158, 'fantasy': 1141, 'xóa_ấn': 4830, 'htps': 1522, 'youtu': 4888, 'fwpjuzcscve': 1188, 'ao': 59, 'người_máy': 2721, 'náo': 2947, 'netflix': 2621, 'chuyên_dụng': 468, 'hú_hồn': 1592, 'hú_vía': 1593, 'loang': 2095, 'mực': 2594, 'chứng': 630, 'làm_nên': 2149, 'super': 3578, 'amorled': 38, 'màn_hình_như': 2424, 'nhanh_chóng_mặt': 2763, 'trầy_xước': 4199, 'trắng_tinh_vân': 4205, 'trắng_tinh_khôi': 4204, 'hoang_mang': 1482, 'mồm': 2561, 'xuông': 4792, 'cụ': 883, 'quan_tâm': 3255, 'miêu_tả': 2369, 'thơig': 3874, 'tỉnh_lẻ': 4407, 'thời_lượng': 3950, 'tivi': 4003, 'lanhj': 2031, 'máy_giặt': 2440, 'trung_vậy': 4129, 'bnay': 150, 'down': 978, 'ghê': 1219, 'hu_hu': 1524, 'đuoc': 5037, 'onscren': 3062, 'phảu': 3175, 'điền': 4989, 'đẹp_mắt': 5167, 'luoi': 2128, 'nhở': 2895, 'ngày_càng': 2698, 'tốt_ngày': 4421, 'lý_tưởng': 2204, 'hức': 1704, 'ôm': 4942, 'tết': 4401, 'thang': 3749, 'adroid': 15, 'kĩ_thuật': 1978, 'xuat': 4784, 'don': 975, 'gtgt': 1338, 'chi': 422, 'logistics': 2102, 'duong': 996, 'khu': 1813, 'kien': 1901, 'phuoc': 3121, 'ho': 1479, 'hiệu_quả': 1465, 'nát': 2948, 'điều_kiện': 4996, 'phông_nền': 3155, 'thỏi': 3943, 'ktra': 1939, 'máy_bay': 2438, 'măc': 2489, 'thạnh': 3885, 'you': 4885, 'phi': 3104, 'vật_giá_trị': 4670, 'ùi': 4947, 'cường': 795, 'lực': 2304, 'thư_mục': 3875, 'yeu': 4881, 'cau': 395, 'tro': 4114, 'mai': 2314, 'viec': 4542, 'tăng_tốc_độ': 4337, 'kì': 1954, 'quá_bán': 3281, 'máy_khách': 2442, 'kĩhs': 1979, 'kì_vậy': 1955, 'nghi_vấn': 2636, 'csr': 689, 'đền': 5180, 'no': 2918, 'van_com': 4521, 'rùi': 3400, 'ghê_gớm': 1220, 'vivu': 4561, 'máy_khỏe': 2443, 'mỗi_tội': 2564, 'thpiwf': 3806, 'gek': 1203, 'great': 1334, 'product': 3227, 'use': 4504, 'wonderful': 4739, 'seler': 3489, 'fast': 1142, 'delivery': 932, 'and': 43, 'kind': 1905, 'tử_vậy': 4474, 'mượt_mát': 2504, 'nhie': 2773, 'vượt_trội': 4650, 'trời': 4219, 'đỉnh': 5189, 'colour': 658, 'túm': 4332, 'mẻ': 2543, 'care': 391, 'tốigọi': 4417, 'sơ_bộ': 3621, 'kiểm_nghiệm': 1922, 'lâu_bền': 2166, 'lầm': 2235, 'rực': 3444, 'giả_da': 1275, 'tr_vậy': 4078, 'giáng': 1261, 'hieu': 1441, 'có_giá': 745, 'dị': 1075, 'mes': 2346, 'ôi': 4939, 'dịch': 1076, 'chúc': 532, 'qua_loa': 3247, 'rực_rỡ': 3445, 'bắt_mắt': 297, 'sức_khỏe': 3686, 'disconect': 962, 'thất_thường': 3891, 'đúng_đắn': 5104, 'cộc': 876, 'hối_thúc': 1670, 'đấm': 5135, 'trắng_bạch': 4202, 'thực_trạng': 3970, 'phá_sản': 3124, 'ship': 3511, 'note': 2925, 'chíp': 518, 'cầm_chắc_chắn': 838, 'rộng': 3435, 'sát': 3604, 'miệng': 2374, 'rời': 3438, 'thẩn': 3903, 'nilong': 2907, 'mưa': 2496, 'xác_định': 4814, 'từ_điển': 4469, 'văn_bản': 4641, 'slow': 3538, 'motion': 2401, 'đồng_bộ': 5214, 'hoá': 1506, 'văn_phòng': 4643, 'vs': 4591, 'trình': 4158, 'nhật': 2871, 'gboard': 1201, 'lè_tè': 2175, 'uw': 4506, 'ms': 2405, 'tối_giản': 4414, 'bố_trí': 327, 'phạc': 3164, 'diện_tích': 966, 'rối': 3426, 'ý_nghĩa': 4952, 'truyền_tải': 4136, 'phân_tách': 3141, 'soạn_thảo': 3562, 'lo_lắng': 2088, 'đảm_bảo': 5133, 'nguyễn': 2688, 'vẹn': 4679, 'bô': 242, 'động': 5232, 'kỉ': 2002, 'nước_nhà': 2989, 'nghĩ_ngợi': 2647, 'xác': 4809, 'bồn': 333, 'người_yêu': 2725, 'plus': 3214, 'antutubenchmark': 56, 'to_nhỏ': 4054, 'vù': 4639, 'ngậm': 2734, 'bồ_hòn': 332, 'ngọt': 2743, 'nghèo': 2643, 'eo': 1120, 'khôi_phục': 1857, 'ăn_thua': 4958, 'banhangiakho': 90, 'hihi': 1443, 'fail': 1139, 'selfi': 3490, 'bắt_buộc': 296, 'chú_tâm': 530, 'vầy': 4660, 'phép': 3144, 'chắc_ăn': 576, 'joi': 1761, 'rút': 3402, 'kinh_nghiệm': 1911, 'giựt': 1312, 'công_nhân': 757, 'sơ_sơ': 3624, 'cũ_mèm': 779, 'linh_tinh': 2064, 'ban_ngày': 86, 'ngày_ngày': 2703, 'tiêu': 4008, 'cẩm_thạch': 847, 'ánh_kim': 4921, 'đíng': 5082, 'cập': 853, 'vá_lỗi': 4603, 'mik': 2359, 'trắng_tinh': 4203, 'kiếm': 1917, 'lừa': 2297, 'dag': 909, 'choi': 447, 'mún': 2486, 'theo_dõi': 3770, 'tiến_hành': 4016, 'nỡ': 3027, 'thiện_cảm': 3787, 'mata': 2332, 'nhug': 2791, 'vinfat': 4552, 'ẩu': 5281, 'đoạn': 5029, 'sản_phẩm_giá': 3645, 'hoàn_hảo': 1501, 'sóc': 3611, 'hyunh': 1539, 'pin_khỏe': 3205, 'anh_chị': 49, 'để_dành': 5183, 'xi': 4760, 'sưu_tập': 3629, 'đồng_thời': 5217, 'nguyên_bản': 2685, 'nhà_sản': 2799, 'delay': 931, 'vận_chuyển_tự_hủy': 4665, 'mây': 2450, 'xình': 4823, 'gút': 1358, 'chóp': 523, 'thank': 3754, 'lận': 2239, 'đối': 5199, 'đút_túi': 5105, 'vua': 4594, 'vai': 4516, 'nhanh_lich': 2764, 'xét': 4820, 'tắt_ngóm': 4397, 'ẩn': 5280, 'giúp_đỡ': 1272, 'hây': 1561, 'cứng': 891, 'maxi': 2336, 'bình_luận': 228, 'trông_chờ': 4167, 'tháng_ngày': 3830, 'tác_dụng': 4279, 'bổng': 336, 'chớm': 611, 'ông_già': 4946, 'đời': 5238, 'tống': 4419, 'ít_nữa': 4937, 'pít': 3237, 'bóp_méo': 241, 'qc': 3241, 'vins': 4555, 'faceu': 1137, 'mục': 2586, 'ai_lại': 23, 'smartphone': 3540, 'bề_mặt': 307, 'lấp_lánh': 2233, 'chủ_quan': 621, 'vmart': 4574, 'cuartiki': 693, 'vói': 4625, 'seri': 3497, 'tương': 4344, 'rõ_rệt': 3398, 'không_lẽ': 1864, 'made': 2311, 'chia': 423, 'thù': 3868, 'tản_nhiệt': 4372, 'nónh': 2975, 'đầy_tháng': 5146, 'thông_báo_giá': 3861, 'hôm_nay_mai': 1586, 'to_tát': 4055, 'bần_tiện': 288, 'đmx': 5021, 'nhạ': 2845, 'đu': 5033, 'điẹ': 4987, 'vạ': 4651, 'tre': 4103, 'tho': 3791, 'ng': 2625, 'nguye': 2682, 'viẹ': 4563, 'kie': 1898, 'bàn_giao': 192, 'mún_hủy_hàng': 2487, 'mức_sống': 2590, 'đáp': 5065, 'bt': 162, 'dịch_bệnh': 1077, 'thế_mà': 3923, 'bấy': 285, 'chia_tay': 425, 'vượng': 4648, 'tnay': 4050, 'toang': 4059, 'qua_lại': 3248, 'ốm': 5290, 'sác': 3596, 'đước': 5122, 'đỗ': 5225, 'trl': 4112, 'am': 33, 'len': 2050, 'xuong': 4790, 'te': 3725, 'phan': 3100, 'du': 985, 'luot': 2132, 'noi': 2919, 'dây_cáp': 1017, 'vở': 4702, 'xộc_xệch': 4861, 'máy_chủ': 2439, 'dê': 1022, 'thịt': 3936, 'chó': 520, 'tổng_thể': 4440, 'đẹp_đẽ': 5169, 'hơpk': 1601, 'ầm_ầm': 5278, 'zậy': 4916, 'địa_chỉ_bảo_hành': 5191, 'nhánh': 2805, 'flagship': 1165, 'moa': 2383, 'dx': 1003, 'năm_học': 2981, 'dóng': 1030, 'sây': 3608, 'sứt': 3688, 'luônmoiws': 2135, 'du_canh': 986, 'tranh': 4096, 'cac': 361, 'dac': 908, 'hen': 1430, 'vời': 4701, 'nhiu': 2778, 'nguoi_ung': 2677, 'dieu': 953, 'thoi': 3794, 'wá': 4745, 'chiec': 426, 'đien': 4983, 'vá_pk': 4604, 'đel': 4971, 'clgn': 644, 'đà_nẵng': 5043, 'bụ': 349, 'dat': 921, 'hang_gia': 1400, 'mia': 2353, 'kg': 1780, 've_gia': 4532, 'chiếm': 434, 'ngừoi': 2751, 'mao': 2327, 'hơpl': 1602, 'khômg': 1858, 'ls': 2120, 'mến': 2544, 'gái': 1343, 'vcl': 4527, 'trầm_trọng': 4196, 'tiếp_cận': 4022, 'han': 1398, 'đep': 4977, 'tiền_vận_chuyển_giao': 4035, 'cao_tuổi': 386, 'vì_vậy_mà': 4617, 'tỉ_lệ_thuận': 4404, 'thỉnh': 3931, 'vô_lại': 4632, 'tb': 3723, 'mp': 2404, 'cân': 731, 'đống': 5207, 'hời_hợt': 1690, 'chiêm': 432, 'chổ': 608, 'dằm': 1063, 'thuê': 3812, 'lạnh': 2227, 'tỏ_vẻ': 4410, 'bộc': 343, 'thùng': 3870, 'môi': 2474, 'bánh_mì': 206, 'gối': 1378, 'âm_thanh_tra': 4930, 'hàng_xách': 1553, 'thoảng': 3805, 'rổi': 3431, 'emei': 1117, 'ngoại_thành': 2670, 'hah': 1391, 'phê': 3145, 'nỏte': 3009, 'pro': 3226, 'phát_âm_thanh': 3133, 'hệt': 1651, 'thống': 3945, 'giao_nhận': 1237, 'nguồn_gốc': 2691, 'grey': 1336, 'blue': 146, 'ngắt': 2736, 'mệt': 2547, 'méo_mặt': 2460, 'selfie': 3491, 'cầm_hơi': 840, 'cá': 716, 'nồi': 3014, 'cơm_điện': 789, 'huỷ': 1537, 'nghĩa_là': 2649, 'con_số': 669, 'nhiếp_ảnh': 2780, 'thơi': 3873, 'fgian': 1151, 'đen_thui': 4975, 'như_thường': 2832, 'tăng_âm_lượng': 4338, 'nut': 2934, 'mi': 2352, 'verified': 4534, 'version': 4535, 'đề_cập': 5176, 'đổ': 5221, 'xám': 4816, 'androir': 47, 'nhấc': 2853, 'dgw': 942, 'hành_chính': 1556, 'cứng_cáp': 892, 'mắng': 2530, 'vốn': 4694, 'bàn_máy': 193, 'ôk': 4941, 'ào': 4918, 'toẹt': 4072, 'mẹt': 2542, 'trờy': 4220, 'kachdb': 1766, 'fnakcndbsjnabxhchd': 1169, 'ôn': 4943, 'khám': 1839, 'dự': 1101, 'quà': 3278, 'hoàn_thành': 1503, 'học_kỳ': 1658, 'con_gái': 668, 'chúng_tôi': 534, 'vượt': 4649, 'mn': 2380, 'ráng': 3386, 'đương_nhiên': 5121, 'yt': 4892, 'cha_mẹ': 404, 'hs': 1518, 'nano': 2609, 'trangding': 4095, 'nội_bộ': 3021, 'itel': 1748, 'hon': 1490, 'tuổihc': 4261, 'hc': 1417, 'gọn_gàng': 1375, 'khuôi': 1828, 'gớt': 1380, 'vo': 4581, 'cương': 791, 'cúi': 768, 'dỡ_thế': 1094, 'tô': 4318, 'frefire': 1179, 'bao_quát': 101, 'tiktok': 3990, 'một_tí': 2571, 'phấn_đấu': 3177, 'hịn': 1654, 'con_cái': 667, 'kẻo': 1984, 'ieu': 1716, 'mjnh': 2376, 'tiễn': 4037, 'thói_quen': 3851, 'km': 1932, 'bye': 184, 'ứng': 5305, 'hjk': 1472, 'minh': 2362, 'truong': 4131, 'trinh': 4108, 'khong': 1805, 'hoc': 1485, 'sinh': 3526, 'hoac': 1481, 'mượt_gắn': 2502, 'huhu': 1528, 'vịt': 4691, 'oang_oang': 3036, 'sh': 3510, 'kịt': 2005, 'imel': 1724, 'quốc_vậy': 3322, 'đặc_sản': 5160, 'hồ': 1671, 'cẩm': 846, 'trẻ': 4208, 'nhg': 2772, 'giắc': 1298, 'wife': 4734, 'thối': 3944, 'gắng': 1370, 'thiếu_phụ_kiện': 3785, 'làg': 2142, 'tikok': 3989, 'bat': 105, 'máy_gắn': 2441, 'phẫm': 3186, 'ạk': 5267, 'tương_xứng': 4351, 'wep': 4727, 'mh': 2351, 'fsam': 1183, 'hag': 1390, 'dug': 989, 'cug': 696, 'cảm_ứn': 819, 'for': 1174, 'nasir': 2611, 'lanza': 2032, 'zhang': 4908, 'one': 3057, 'zila': 4909, 'quick': 3265, 'yeah': 4878, 'tắt_giảm': 4396, 'thôi_nhe': 3857, 'like': 2060, 'chích': 512, 'dành': 1009, 'tj': 4044, 'hông': 1588, 'tráng': 4145, 'bạc_mặt': 253, 'lung_lay': 2125, 'khiếp': 1796, 'ngược_xuôi': 2729, 'photo': 3119, 'tẹo': 4400, 'phât': 3143, 'rate': 3336, 'phát_sao': 3128, 'nhậy': 2873, 'khuân': 1827, 'legends': 2048, 'một_ít': 2573, 'td': 3724, 'sủ_dụng': 3684, 'tổng_quát': 4438, 'hạt': 1622, 'phồng': 3190, 'rẹp': 3420, 'chuối': 479, 'cgai': 402, 'rành': 3380, 'máy_móc': 2444, 'dẫm': 1059, 'mami': 2321, 'bê_trễ': 221, 'giao_hủy': 1236, 'tự_hủy': 4478, 'lảnh': 2229, 'logo': 2104, 'môt': 2478, 'may_ra': 2339, 'cập_nhật_bản': 855, 'dáng': 1014, 'ngang_ngửa': 2628, 'vingroup': 4553, 'tùy_biến': 4328, 'sài_gòn': 3591, 'đột_ngột': 5235, 'nửa_đêm': 3031, 'giật_mình': 1296, 'đoán': 5028, 'skype': 3536, 'led': 2047, 'chứng_tỏ': 632, 'ngón': 2715, 'bằng_lòng': 304, 'bàn_tay': 195, 'giơ': 1273, 'vớ': 4697, 'sâu': 3607, 'trêm': 4155, 'cămsau': 772, 'qh': 3242, 'digital': 954, 'nêu': 2961, 'nắng': 2997, 'trơn_tru': 4177, 'khuyết': 1825, 'can_thiệp': 375, 'tráo_đổi': 4148, 'auto': 78, 'download': 979, 'tuỳ': 4265, 'gía': 1351, 'khan': 1787, 'vận_chuyển_đổi': 4666, 'cancel': 377, 'vòng_tay': 4622, 'ghi_nhận': 1213, 'tích_cực': 4304, 'loá': 2113, 'soi': 3551, 'lạc_quan': 2224, 'gcam': 1202, 'bất_lực': 281, 'launcher': 2039, 'nova': 2926, 'tiếp_nhận': 4024, 'ngừng_nghỉ': 2750, 'khỉ': 1879, 'khờn': 1889, 'quanh': 3258, 'cpu': 686, 'chớ': 610, 'siêu_khỏe': 3531, 'ngáo': 2708, 'tôm': 4320, 'router': 3374, 'đọ': 5195, 'mini': 2364, 'tủ': 4460, 'mạnh_mẽ': 2511, 'ket': 1776, 'ce': 398, 'vet': 4537, 'xuoc': 4789, 'tuộc': 4262, 'dốc': 1084, 'nhanh_nhạy': 2765, 'khẩu_độ': 1875, 'được_cái': 5126, 'tương_phản': 4346, 'điện_báo': 5001, 'thoại_haiz': 3801, 'chiều_hôm': 439, 'phàn': 3122, 'hj': 1468, 'csis': 688, 'ván': 4605, 'chạo': 548, 'chờn': 615, 'ní': 2962, 'cí': 740, 'bats': 107, 'lừa_dối': 2299, 'khách_hàng_không': 1837, 'độc_đáo': 5230, 'không_thể_hiện': 1867, 'rơi_rớt': 3405, 'ngoại_lực': 2669, 'cặp': 863, 'tồn_tại': 4429, 'exchange': 1128, 'gmail': 1316, 'nsx': 2929, 'serial': 3498, 'nộp': 3026, 'hiệu': 1462, 'trăng': 4174, 'zing': 4911, 'updatr': 4498, 'ngốn': 2744, 'cho_dù': 444, 'đo': 5022, 'nhùi': 2825, 'gào': 1341, 'trung_quốc': 4126, 'cửa': 898, 'chủ_đề': 624, 'thư_viện': 3876, 'phông': 3154, 'ip': 1737, 'sạch_sẽ': 3636, 'papa': 3082, 'wps': 4743, 'bạn_đời': 257, 'ràng': 3379, 'oki': 3050, 'sướng': 3631, 'tiện_dụng': 4040, 'đoá': 5027, 'tý': 4334, 'kiệm': 1929, 'lơn': 2209, 'fslat': 1184, 'cuoc': 699, 'hien': 1440, 'kb': 1769, 'nửa': 3030, 'chu': 457, 'tút': 4333, 'trạng_thái': 4190, 'đag': 4964, 'đế': 5170, 'phù_hợp_nhất': 3158, 'vật_vã': 4673, 'lột': 2285, 'gia_công': 1225, 'tiêu_đề': 4013, 'miên': 2368, 'lịch_sự': 2266, 'ơn': 5256, 'cao_độ': 388, 'đên': 5081, 'lập_trình': 2241, 'barcode': 102, 'oled': 3054, 'thẳng_thắn': 3915, 'tất_vọng': 4377, 'xé': 4819, 'điện_thoại_tắt': 5012, 'thấp_vậy': 3889, 'cấm': 827, 'vét': 4612, 'vivo': 4560, 'đóng_thùng': 5093, 'ngày_sinh_nhật': 2704, 'ngáy': 2709, 'sn': 3542, 'ngà': 2694, 'dì': 1023, 'mù_màu': 2480, 'order': 3070, 'xả': 4844, 'quý_vị': 3298, 'trắng_vậy': 4206, 'khẳng_định': 1878, 'dầy': 1058, 'youtuber': 4890, 'bao_lâu': 99, 'ổn_định_giá': 5298, 'cáp': 727, 'háo_hức': 1558, 'đáng_giá': 5055, 'microphone': 2356, 'họat': 1656, 'sasung': 3461, 'dầu': 1057, 'ngai': 2626, 'cõ': 764, 'quá_vậy': 3285, 'đèn_pin': 5076, 'hàng_vậy': 1552, 'dỏm': 1083, 'thả': 3886, 'haha': 1392, 'tim': 3992, 'sad': 3448, 'đồ_hoạ': 5211, 'nguyên_vẹn': 2687, 'mới_tinh': 2577, 'hàng_loạt': 1550, 'dao': 918, 'tỳ': 4484, 'vếch': 4683, 'ns': 2928, 'vây': 4608, 'cmnd': 649, 'giở_trò': 1305, 'chân_chính': 494, 'bát_nháo': 213, 'anh_chị_em': 50, 'bài': 189, 'coi_trọng': 656, 'cao_điểm': 387, 'theme': 3768, 'khoanh': 1801, 'tròn': 4164, 'nhiet': 2775, 'tình': 4298, 'trinh_tiết': 4109, 'hạnh': 1621, 'ngân': 2711, 'hara': 1410, 'white': 4732, 'thiết_lập': 3781, 'qly': 3244, 'tháy': 3832, 'cửa_hàng_không': 900, 'hòng': 1577, 'thâp': 3839, 'gren': 1335, 'gữi': 1386, 'bok': 153, 'ulike': 4487, 'camare': 370, 'con_cháu': 666, 'cũg': 780, 'trog': 4115, 'sniper': 3545, 'thiện': 3786, 'tam_gia': 3715, 'tuong': 4246, 'xung': 4786, 'luong_ung': 2131, 'tiep': 3980, 'tiêng': 4007, 'rât': 3388, 'la_nhe': 2019, 'đanh': 4967, 'ưa': 5257, 'quét': 3292, 'dữ_liệu': 1100, 'đái': 5053, 'đóng_cửa': 5090, 'trẻ_em': 4210, 'đồng_tiền': 5218, 'ps': 3229, 'dại': 1050, 'cungc': 697, 'tây': 4286, 'rủi_ro': 3443, 'cảm_quan': 814, 'dễ_chịu': 1071, 'cải_lương': 805, 'xấp_xỉ': 4846, 'quyển': 3277, 'hợp_ý': 1697, 'zac': 4904, 'nhấn_mạnh': 2855, 'bình_thuận': 229, 'nai': 2600, 'bảng': 263, 'ipad': 1738, 'gợi_ý': 1384, 'hổng': 1679, 'ví': 4618, 'săc': 3617, 'lâu_lắc': 2171, 'bạc': 252, 'sống_nhăn': 3669, 'tài_liệu': 4274, 'pdf': 3088, 'sống_động': 3670, 'học': 1657, 'search': 3482, 'hình_như': 1572, 'hỏi_thăm': 1665, 'mò_mẫm': 2469, 'laban': 2020, 'key': 1778, 'combo': 661, 'cảm_hứng': 812, 'film': 1157, 'vơi': 4645, 'cân_xứng': 734, 'đỗi': 5226, 'cấu_hình_như': 834, 'văn': 4640, 'kế_hoạch': 1986, 'nhucau': 2790, 'unb': 4488, 'nhanb': 2760, 'kindle': 1907, 'mỏi_mắt': 2553, 'sài_lầm': 3592, 'cmt': 650, 'thoang': 3793, 'giat': 1240, 'thong': 3796, 'bệt': 311, 'laza': 2042, 'hớ': 1688, 'mặt_trời': 2539, 'trau': 4100, 'kinh_doanh': 1909, 'ime': 1722, 'tex': 3736, 'youtobe': 4887, 'tái': 4282, 'lad': 2023, 'sẻ': 3659, 'cg': 401, 'song_song': 3556, 'cày': 715, 'chán_chê': 486, 'qđ': 3324, 'mimax': 2360, 'oạch': 3077, 'to_đùng': 4056, 'nhân_dạng': 2808, 'khớp': 1888, 'macro': 2310, 'chát': 489, 'chít': 519, 'phân_vân': 3142, 'rám': 3384, 'nam_tính': 2605, 'đậm': 5149, 'đê': 5079, 'hàn_quốc': 1545, 'màu_da': 2429, 'đường_nét': 5124, 'chân_thật': 496, 'phát_hiện_tại': 3127, 'động_lực': 5233, 'tình_hình': 4299, 'chặn': 580, 'thỏa_mãn': 3941, 'selflife': 3493, 'mông': 2477, 'dẹp': 1066, 'tube': 4241, 'cũ_kỹ': 778, 'tại_chỗ': 4360, 'khuôn': 1829, 'ngoại_trừ': 2671, 'sdung': 3475, 'không_chiến': 1861, 'hầu': 1630, 'nhw': 2794, 'ngqyf': 2672, 'im_re': 1721, 'tiêu_hao': 4012, 'lui': 2122, 'bực_bội': 357, 'nghẻ': 2651, 'im_lặng': 1720, 'xử_lí': 4868, 'run': 3375, 'rang': 3332, 'cameras': 372, 'trùm': 4170, 'khó_tính': 1852, 'nà': 2941, 'dũng': 1040, 'bn': 149, 'mặc_dầu': 2534, 'như_thế': 2834, 'siêu_âm': 3534, 'thậm_tệ': 3906, 'ném': 2958, 'op': 3063, 'lung': 2124, 'ipadshop': 1739, 'nhập_khẩu': 2870, 'xách': 4815, 'mỹ': 2596, 'lz': 2139, 'đại_lý': 5129, 'aple': 63, 'xướt': 4839, 'trung_gian_hàng': 4124, 'cần_câu': 842, 'lăng': 2207, 'tia': 3975, 'rẽ': 3423, 'batery': 106, 'nổi_tiếng': 3019, 'ủa': 5299, 'dẹp_tiệm': 1067, 'xuất_xưởng': 4799, 'hapy': 1409, 'né_tránh': 2957, 'điện_tích': 5017, 'sau_cùng': 3464, 'chấm_dứt': 556, 'ni': 2903, 'lông': 2192, 'nhuốm': 2793, 'chùi': 526, 'kỳ': 2006, 'mỹ_phẩm': 2597, 'giấy_báo': 1291, 'thông_qua': 3863, 'lalamove': 2027, 'lilon': 2061, 'vna': 4577, 'trung_gian': 4123, 'padshop': 3080, 'thegioididong': 3767, 'việc_làm': 4567, 'qua_mặt': 3249, 'kít': 1969, 'anw': 57, 'trùng': 4171, 'ngại': 2731, 'lằng_nhằng': 2250, 'lừa_gạt': 2300, 'chuyển_đổi': 472, 'áp_dụng': 4925, 'pó': 3238, 'charged': 414, 'trực_tuyến': 4237, 'pending': 3092, 'hết_sức': 1645, 'shiping': 3513, 'cacton': 363, 'sốc_vậy': 3667, 'hàng_hóa': 1548, 'l_a': 2014, 'tổng_số': 4439, 'đáng_lí': 5057, 'visa': 4557, 'tổng': 4431, 'đich': 4982, 'liên_kết': 2075, 'khg': 1792, 'buôn_bán': 174, 'dối_trá': 1085, 'sd': 3472, 'restore': 3360, 'mặc_định': 2535, 'đểu_giả': 5187, 'góp': 1355, 'chấu': 565, 'malaysia': 2319, 'rán': 3385, 'tất': 4374, 'cẩca': 845, 'ạ_trừ': 5266, 'khuyến_mại': 1824, 'air': 25, 'gắn_bó': 1369, 'logitech': 2103, 'bão': 217, 'thông_tin_hóa_đơn': 3867, 'actived': 9, 'gold': 1324, 'típ': 4313, 'hsbc': 1519, 'đồi': 5212, 'duy_trì': 1000, 'phong_độ': 3118, 'su_dụng': 3574, 'inch': 1726, 'new': 2623, 'trả_góp_vậy': 4193, 'lem_nhem': 2049, 'hoạ': 1510, 'sước': 3630, 'tray': 4101, 'mong_chờ': 2394, 'us': 4501, 'bút': 247, 'gín': 1352, 'thỏ': 3939, 'tên_lửa': 4292, 'shock': 3514, 'xác_suất': 4812, 'trống_trải': 4217, 'ngược': 2727, 'night': 2905, 'mode': 2388, 'mộng_mơ': 2566, 'rinh': 3365, 'rỏ': 3425, 'căn_cứ': 774, 'như_vầy': 2836, 'vatvo': 4524, 'esim': 1124, 'mấy_khi': 2521, 'lốc': 2273, 'nghề': 2652, 'vất_vả': 4659, 'ảnh_vậy': 5270, 'giám_định': 1259, 'xác_minh': 4810, 'set': 3502, 'ai_ngờ': 24, 'chót': 524, 'fine': 1160, 'lộn_xộn': 2284, 'điệp_khúc': 5019, 'rốt': 3427, 'rưỡi': 3409, 'đại_loại': 5128, 'hỏi_han': 1663, 'nước_miếng': 2987, 'mệt_mỏi': 2548, 'airdrop': 26, 'control': 678, 'disable': 961, 'greyed': 1337, 'restrictions': 3361, 'tâm_trạng': 4285, 'bực_tức': 359, 'nóng_giận': 2972, 'ngán': 2707, 'earpods': 1109, 'cốc': 871, 'anker': 52, 'thần_tốc': 3898, 'lượg': 2220, 'date': 923, 'ncl': 2615, 'boc': 152, 'icloud': 1712, 'bil': 122, 'rách': 3383, 'công_nghiệp': 754, 'gam': 1193, 'true': 4119, 'tone': 4062, 'admin': 13, 'con_thứ': 670, 'lặt_vặt': 2255, 'đại_khái': 5127, 'garageband': 1198, 'iclould': 1713, 'đào_tạo': 5051, 'trực': 4235, 'hl': 1473, 'gay_gắt': 1199, 'mới_cứng': 2576, 'ché': 502, 'gắt': 1371, 'tag': 3708, 'thời_gian_hàng': 3948, 'vib': 4538, 'hom': 1487, 'hu': 1523, 'công_nguyên': 756, 'siêu_thị': 3532, 'hnagf': 1476, 'chã': 500, 'liền_tay': 2082, 'thương': 3878, 'quấn': 3310, 'mỏng_dính': 2555, 'thân_ái': 3838, 'ẻm': 5284, 'rúi': 3401, 'canh': 380, 'amazon': 35, 'truyện_tranh': 4138, 'chóng_mặt': 522, 'fedback': 1148, 'packaging': 3079, 'lọ': 2268, 'muối_tiêu': 2415, 'méo_xẹo': 2461, 'tưởng_tượng': 4357, 'mỏi': 2552, 'tập_trung': 4393, 'ngọc': 2739, 'mận': 2526, 'basic': 104, 'đã_đời': 5072, 'hạ_độ': 1614, 'chồng_chất': 607, 'huyện': 1535, 'pw': 3236, 'trượt': 4189, 'rãnh': 3389, 'nhám': 2804, 'nghĩa': 2648, 'bọt': 320, 'carton': 392, 'sứt_mẻ': 3689, 'hụ': 1698, 'hôm_kia': 1584, 'quãng': 3291, 'cáo': 726, 'contact': 677, 'usđể': 4505, 'have': 1413, 'paperwhite': 3084, 'gen': 1205, 'remove': 3354, 'ads': 16, 'my': 2418, 'divice': 963, 'please': 3213, 'hlep': 1474, 'me': 2342, 'calibre': 366, 'chép': 504, 'onedrive': 3058, 'authkey': 77, 'cid': 639, 'parid': 3085, 'action': 6, 'locate': 2097, 'tìm_hiểu': 4296, 'tuyết': 4251, 'china': 428, 'khả_quan': 1874, 'tổ': 4430, 'phần_hủy_đơn': 3181, 'sờ_sợ': 3678, 'mày_mò': 2433, 'căng_thẳng': 776, 'ngon_ơ': 2662, 'send': 3495, 'tha_hồ': 3744, 'hạ': 1612, 'kết_hợp': 1992, 'khổng_lồ': 1887, 'choáng': 452, 'quá_tải': 3284, 'đầu_ra': 5141, 'put': 3235, 'đi_sâu': 4981, 'tiềm_thức': 4030, 'kéo': 1947, 'help': 1429, 'devices': 941, 'xuất_hiện_hình': 4795, 'tel': 3731, 'general': 1206, 'questions': 3264, 'cọn': 865, 'ofical': 3042, 'ofers': 3041, 'talk': 3713, 'someone': 3554, 'number': 2932, 'helo': 1428, 'special': 3564, 'ofer': 3040, 'are': 66, 'conected': 674, 'savitri': 3468, 'name': 2607, 'is': 1743, 'here': 1431, 'today': 4060, 'sure': 3580, 'unsubcribe': 4494, 'vietnam': 4547, 'could': 680, 'the': 3764, 'device': 940, 'sucesfuly': 3575, 'canceled': 378, 'your': 4886, 'also': 32, 'waived': 4716, 'extra': 1131, 'charges': 415, 'removal': 3353, 'as': 68, 'exception': 1127, 'valuable': 4519, 'customer': 700, 'wil': 4736, 'take': 3712, 'hours': 1497, 'reflect': 3348, 'change': 411, 'much': 2412, 'welcome': 4726, 'wishes': 4737, 'apart': 61, 'this': 3778, 'would': 4742, 'there': 3771, 'anything': 58, 'else': 1112, 'asist': 70, 'chosing': 451, 'stay': 3568, 'safe': 3449, 'healthy': 1424, 'godbye': 1320, 'tiét': 4004, 'bong_bóng': 157, 'nghệ': 2653, 'techcomvn': 3728, 'thoả_đáng': 3803, 'bạch': 254, 'ngày_nay': 2702, 'page': 3081, 'refresh': 3349, 'dịu': 1080, 'bàn_cãi': 191, 'register': 3351, 'internal': 1734, 'eror': 1123, 'nelofare': 2618, 'unfortunately': 4490, 've_contacted': 4531, 'about': 3, 'has': 1412, 'reported': 3357, 'lost': 2111, 'stolen': 3569, 'result': 3362, 'we': 4722, 'permit': 3094, 'registrations': 3352, 'if': 1717, 'concerns': 673, 'purchase': 3234, 'local': 2096, 'law': 2040, 'enforcement': 1119, 'agency': 18, 'tè': 4287, 'amazo': 34, 'biết_đâu': 134, 'lèo': 2176, 'bình_tĩnh': 232, 'cạn': 798, 'tiki_don': 3982, 't_care': 3701, 'copy': 679, 'buton': 172, 'bao_bọc': 95, 'tuỳ_thích': 4266, 'khuyến_khích': 1822, 'sức': 3685, 'hết_mình': 1644, 'vô_ý': 4636, 'nhà_sách': 2798, 'epub': 1121, 'dạng': 1051, 'mobi': 2384, 'okelah': 3049, 'không_gian': 1862, 'paper': 3083, 'cho_nên': 445, 'lợi_ích': 2294, 'usd': 4503, 'giói': 1268, 'thiệu': 3790, 'đoạt': 5030, 'giải_thưởng': 1280, 'non': 2921, 'fiction': 1155, 'kinh_tế': 1912, 'tin_học': 3997, 'kế_toán': 1989, 'textbok': 3738, 'biểu_đồ': 139, 'lóa': 2187, 'tablet': 3707, 'đô': 5094, 'scrensaver': 3471, 'homescren': 1489, 'đg': 4978, 'từ_điển_tích_hợp': 4470, 'tra_cứu': 4080, 'store': 3570, 'bỡ_ngỡ': 348, 'bình_thường_khi': 231, 'index': 1727, 'mục_ngầm': 2587, 'coment': 663, 'chấm_than': 557, 'find': 1159, 'bóng_tối': 239, 'nản_lòng': 2993, 'mua_bán': 2409, 'khuyến_cáo': 1821, 'adapter': 12, 'ink': 1729, 'sync': 3589, 'lật': 2243, 'hậu_mãi': 1637, 'giữ_chân': 1309, 'động_tĩnh': 5234, 'balo': 84, 'saver': 3467, 'text': 3737, 'rê': 3391, 'con_trỏ': 672, 'nối': 3011, 'old': 3053, 'year': 4879, 'acount': 5, 'dài_hạn': 1008, 'ios': 1736, 'audio': 75, 'audible': 74, 'móc': 2470, 'usb': 4502, 'đáng_kể': 5056, 'sinh_nhật': 3527, 'tiến_độ': 4017, 'touch': 4066, 'firmware': 1163, 'tổng_đài_viên': 4445, 'login': 2101, 'services': 3501, 'thanh_bình': 3751, 'tren': 4104, 'dthoai': 984, 'cao_su': 385, 'xuống_mã': 4803, 'công_tác': 762, 'công_cụ': 753, 'đánh_dấu': 5062, 'highlight': 1442, 'mũi_tên': 2492, 'vệt': 4688, 'quặt': 3316, 'chứa': 628, 'amz': 39, 'jp': 1764, 'nhật_vậy': 2872, 'đèn_neon': 5075, 'đầu_tư': 5143, 'gơi': 1359, 'đóc': 5087, 'nắt': 2999, 'mất_ngủ': 2519, 'kí': 1958, 'report': 3356, 'mất_cắp': 2515, 'vải': 4654, 'lau_chùi': 2038, 'màn_hình_phẳng': 2425, 'cảm_giấc': 811, 'xr': 4778, 'bôi_đen': 243, 'hiển': 1451, 'tổng_thời_gian': 4441, 'lâu_nay': 2172, 'đắn_đo': 5152, 'tiêc': 4005, 'lẽ_ra': 2259, 'mép': 2462, 'thùng_thình': 3871, 'click': 645, 'tì': 4294, 'infor': 1728, 'trân_trọng': 4150, 'mê': 2463, 'vl': 4573, 'unlimited': 4492, 'until': 4495, 'while': 4731, 'was': 4721, 'damaged': 912, 'doc': 971, 'epud': 1122, 'traiding': 4087, 'chăc': 536, 'build': 169, 'asus': 71, 'ngưởi': 2726, 'trao_đổi': 4099, 'lĩnh': 2208, 'tên_tuổi': 4293, 'băng_keo': 249, 'bidv': 119, 'dài_dài': 1007, 'many': 2326, 'promax': 3228, 'nhắm_mắt': 2877, 'kệ': 2001, 'tức': 4462, 'mark': 2329, 'ịhone': 5287, 'phương_thức': 3161, 'citibank': 640, 'hoảng': 1513, 'vòng_vòng': 4624, 'khắp': 1877, 'mặc': 2532, 'xử': 4866, 'điện_thoại_xài': 5015, 'hồi_đáp': 1675, 'hóng': 1580, 'điện_thoại_thua': 5010, 'đựo': 5253, 'cho_qua': 446, 'sil': 3520, 'tuền': 4258, 'xuống_tay': 4804, 'ran': 3330, 'phản_ảnh': 3173, 'xs': 4779, 'đặc_sắc': 5161, 'xsmax': 4780, 'đằt': 5156, 'tuyệt_sao': 4254, 'midnh': 2357, 'chiết_khấu': 437, 'the_tra': 3766, 'đoi': 5023, 'thử_nghiệm': 3965, 'đung': 5035, 'rớt_giá': 3437, 'chinh': 429, 'thieu': 3777, 'vạo': 4653, 'amn': 36, 'lở': 2291, 'hình_dáng': 1570, 'acvhjkjgegb': 10, 'vnjh': 4579, 'trộm': 4218, 'điện_thoại_hợp': 5006, 'cát': 728, 'cút': 771, 'giáp': 1263, 'tột': 4452, 'kim': 1903, 'út': 4949, 'nhamh': 2758, 'typec': 4271, 'cũng_nên': 782, 'khách_quan': 1838, 'đẳng_cấp': 5157, 'tươi_tắn': 4342, 'dĩ_nhiên': 1039, 'mịn_màng': 2550, 'hầu_như': 1632, 'driver': 980, 'quẹt': 3317, 'dọn_dẹp': 1082, 'thật_tình': 3911, 'đồng_tình': 5219, 'chạng_vạng': 547, 'ahuhu': 21, 'niu': 2911, 'bât': 215, 'miui': 2366, 'đến_nơi': 5173, 'nhượng': 2844, 'hehe': 1425, 'chậm_trễ': 570, 'chrome': 455, 'hiên': 1447, 'xuyên': 4791, 'ròi': 3394, 'vèo': 4611, 'trưng_bày': 4179, 'volum': 4584, 'chiến_trận': 436, 'ngọc_bích': 2740, 'nhăng': 2826, 'mạc': 2505, 'cụm': 886, 'cười': 794, 'gon': 1325, 'tịt': 4408, 'tili': 3991, 'lăm': 2205, 'digiworld': 957, 'silicon': 3522, 'rốt_cuộc': 3428, 'jts': 1765, 'jnt': 1759, 'nhẩy': 2863, 'đằm': 5154, 'mb': 2340, 'lên_đèn': 2181, 'ngyaf': 2693, 'chak': 407, 'xoăn': 4777, 'drop': 981, 'ấn_đc': 5276, 'hot': 1494, 'cubg': 694, 'mfnh': 2349, 'chặt_chẽ': 582, 'lenovo': 2051, 'fm': 1168, 'fptshop': 1177, 'điện_thoại_gắn': 5005, 'tin_dùng': 3996, 'ol': 3052, 'bỗng_dưng': 338, 'đinh_ninh': 4984, 'item': 1749, 'keycap': 1779, 'ngoan_cố': 2659, 'bỏ_qua': 322, 'khs': 1812, 'trê': 4154, 'thái': 3826, 'card': 390, 'word': 4740, 'công_suất': 760, 'khóc': 1854, 'sông': 3616, 'gor': 1327, 'global': 1314, 'eu': 1125, 'lùng': 2196, 'chảnh': 552, 'tan': 3716, 'nán': 2946, 'bản_chất': 260, 'nuốt': 2935, 'bất_an': 274, 'mất_mạng': 2518, 'như_chơi': 2830, 'tật': 4394, 'lite': 2067, 'hữu_dụng': 1708, 'androide': 46, 'kẹ': 1981, 'hậu': 1636, 'gương_mặt': 1360, 'chủ_thể': 622, 'thủ_công_bằng': 3957, 'phê_bình': 3146, 'clip': 646, 'đề_phòng': 5178, 'cốt': 872, 'tận_hưởng': 4388, 'medium': 2344, 'mơ_ước': 2494, 'readmi': 3340, 'cv': 707, 'giải_trí': 1282, 'điều_khiển': 4994, 'mảnh': 2512, 'tắt_vậy': 4398, 'tái_tạo': 4283, 'hdr': 1420, 'năg': 2979, 'seat': 3485, 'vứt': 4706, 'cửa_sổ': 902, 'dky': 969, 'cân_bằng': 732, 'notch': 2924, 'dãy': 1020, 'hị': 1653, 'hỉu': 1652, 'chp': 453, 'nội_tỉnh': 3024, 'sáng_suốt': 3602, 'androi': 44, 'whatsap': 4730, 'mesage': 2347, 'chup': 465, 'điện_thoại_đẹp': 5016, 'làm_giàu': 2147, 'bất_công': 277, 'ơi_là': 5255, 'xương_sống': 4837, 'cất': 832, 'quạt': 3302, 'điều_hoà': 4992, 'sống': 3668, 'modem': 2390, 'trở_đi': 4224, 'vid': 4540, 'tinh_tinh': 4001, 'sự_dụng': 3698, 'chứng_thực': 631, 'chplay': 454, 'vì_thế': 4616, 'ruồi': 3378, 'rượt': 3410, 'bo': 151, 'khối_lượng': 1884, 'thỳ': 3973, 'ngòn': 2713, 'chạy_ngầm': 550, 'type': 4270, 't_t': 3703, 'trình_duyệt': 4160, 'xvideos': 4805, 'gb': 1200, 'dev': 939, 'tác_nghiệp': 4280, 'hạng': 1620, 'vc': 4526, 'làm_biếng': 2144, 'pug': 3232, 'đầu_máy': 5140, 'news': 2624, 'instagram': 1733, 'nhanh_vậy': 2767, 'bịch': 313, 'lệnh': 2263, 'câng': 735, 'funl': 1187, 'bà_xã': 188, 'bx': 182, 'iu': 1751, 'cungz': 698, 'trẻ_con': 4209, 'túi_xách': 4331, 'ăn_mặc_dù': 4957, 'redit': 3346, 'hiệu_suất': 1466, 'như_thường_lệ': 2833, 'ức': 5303, 'vưà': 4647, 'jio': 1758, 'thươngf': 3881, 'story': 3571, 'twet': 4268, 'sky': 3535, 'dis': 960, 'đưng': 5118, 'nặng_tay': 3003, 'cơ_chế_độ': 785, 'nhẵn': 2881, 'niệm': 2917, 'quyết': 3272, 'chon': 449, 'dark': 920, 'điểm_ảnh': 4999, 'lấm_chấm': 2230, 't_qcao': 3702, 'trắng_đen': 4207, 'bút_chì': 248, 'manga': 2325, 'ra_công_viên': 3326, 'caphe': 389, 'thỏa_mái': 3940, 'slep': 3537, 'wake': 4717, 'prc': 3220, 'techmore': 3729, 'đùa': 5100, 'hoá_ra': 1507, 'ghi_chú': 1212, 'tận_tay': 4390, 'lo_ngại': 2089, 'bất_kì': 279, 'bào': 199, 'chủ_động': 625, 'hè': 1565, 'rưởi': 3408, 'tầm_cỡ': 4379, 'na_ná': 2599, 'giai_đoạn': 1229, 'macbok': 2309, 'lap': 2034, 'rề_rề': 3424, 'khoái': 1807, 'mạch': 2506, 'tù': 4324, 'trí': 4161, 'đánh_cắp': 5061, 'làm_ăn_vầy': 2155, 'cạch': 797, 'nhỏ_nhẹ': 2891, 'hẫng': 1633, 'detico': 938, 'đi_lại': 4980, 'chung_cư': 464, 'ngạc_nhiên': 2730, 'đòi': 5084, 'nam_nữ': 2604, 'sân_nhà': 3606, 'khó_dễ': 1850, 'nói_dối': 2968, 'rởm_vậy': 3439, 'generation': 1207, 'phần_lớn': 3182, 'airplane': 27, 'confirm': 675, 'akishop': 29, 'hại': 1616, 'iboks': 1711, 'upgrade': 4500, 'oasis': 3037, 'đề_xuất': 5179, 'phong_phú': 3116, 'electronic': 1111, 'expres': 1130, 'backlight': 81, 'hình_dung': 1569, 'biến_dạng': 131, 'nhàu_nát': 2802, 'tóc': 4316, 'nóng_ruột': 2973, 'sần': 3650, 'giải_pháp': 1277, 'sial': 3519, 'khò': 1847, 'bàng': 197, 'nhiệt': 2784, 'tinh_vi': 4002, 'bì': 224, 'biển': 136, 'diễn': 964, 'đột_phá': 5237, 'khả_dụng': 1872, 'độc': 5228, 'dổm': 1087, 'nhin': 2777, 'dep': 936, 'thấu_hiểu': 3895, 'lòng_vòng': 2186, 'buôn': 173, 'bản_đồ': 262, 'cãi': 739, 'tiến': 4015, 'niêm_yết': 2914, 'net': 2620, 'hotro': 1496, 'xuất_hóa': 4796, 'kiểm_tra_vấn_đề': 1925, 'giôngd': 1269, 'sốp': 3671, 'ối': 5289, 'dồi': 1086, 'nhỉnh': 2888, 'thở_phào': 3953, 'vênh': 4613, 'bẻ': 306, 'xào': 4807, 'xạt': 4843, 'thú_vị': 3872, 'hứng': 1705, 'dò': 1026, 'rôi': 3395, 'nâng_giá': 2951, 'cẩn_trọng': 850, 'phụ_phí': 3196, 'chịu_khó': 598, 'dặn': 1065, 'pikachu': 3203, 'jewel': 1755, 'diamond': 948, 'chà_đĩa': 483, 'qua_ngày': 3250, 'như_không': 2831, 'bái': 202, 'li_ti': 2055, 'ot': 3073, 'thừa': 3962, 'kênh': 1952, 'bải': 258, 'lặp_vọng': 2253, 'đặc_điểm': 5162, 'nhấp': 2856, 'genshin': 1208, 'duy_ngã': 998, 'độc_tôn': 5229, 'bại': 255, 'cíu': 741, 'thì_giờ': 3844, 'hjc': 1469, 'pm': 3215, 'truy': 4132, 'lồi': 2275, 'thiet': 3776, 'chuc': 460, 'phat': 3102, 'trien': 4107, 'nua': 2931, 'tích': 4303, 'vismart': 4558, 'cay': 396, 'cà': 709, 'cà_tưng': 710, 'lắng_nghe': 2246, 'cơn': 790, 'ác_mộng': 4919, 'ấn_tượng': 5275, 'tít_mù': 4314, 'loan': 2094, 'máy_ảnh_ung': 2449, 'tuần_tự_dưng': 4257, 'rks': 3367, 'bắt_đầu_từ': 300, 'tác_động': 4281, 'bẹp': 305, 'quoc': 3266, 'ruoi': 3377, 'som': 3553, 'tạch': 4358, 'quy_trình': 3268, 'rườm_rà': 3407, 'bank': 91, 'to_chuyện': 4053, 'lãi_suất': 2173, 'vde': 4529, 'xơ': 4834, 'nh': 2752, 'chín': 513, 'kế': 1985, 'bảy': 272, 'ac': 4, 'khổ': 1886, 'đối_soát': 5200, 'vòng_vo': 4623, 'mừng': 2593, 'húm': 1594, 'hà': 1540, 'thẫm': 3904, 'vô_duyên': 4628, 'chìa': 510, 'hào_hứng': 1557, 'tọc_mạch': 4409, 'phỏng': 3189, 'location': 2098, 'tương_thích': 4348, 'tráo': 4147, 'đồng_kiểm': 5216, 'sót': 3614, 'activate': 7, 'bông': 244, 'viện': 4568, 'khinh_thường': 1794, 't_việt': 3704, 'hoọ': 1516, 'lồng': 2277, 'ủa_vậy': 5300, 'sẳn': 3657, 'hiệu_lực': 1463, 'xóa_sạch': 4829, 'xử_lý_dịch_vụ': 4870, 'biệt': 140, 'dữ': 1098, 'thần': 3897, 'trang_chủ': 4093, 'cảm_ừng': 822, 'ẩu_tả': 5282, 'vận_đơn': 4668, 'tột_độ': 4453, 'coi_chừng': 655, 'xếp': 4850, 'ngay_ngắn': 2630, 'điện_thoại_sao': 5009, 'tức_cười': 4463, 'prm': 3225, 'move': 2403, 'mop': 2397, 'goc': 1318, 'chieu': 427, 'tổng_giá': 4433, 'tổng_tiền': 4442, 'hiện_diện': 1456, 'complain': 664, 'cứng_nhắc': 895, 'ghép': 1217, 'sacombank': 3447, 'hoá_đơn_giá_trị': 1509, 'gia_tăng': 1226, 'thuế': 3815, 'thuế_gtgt': 3816, 'phân_bố': 3137, 'miền': 2372, 'ohamr': 3043, 'giảm_chấn': 1286, 'hng': 1478, 'tính_chất': 4310, 'uy': 4508, 'truc': 4118, 'trac': 4081, 'dem': 933, 'di_bao': 943, 'kín_kẽ': 1967, 'nghe_đâu': 2633, 'fed': 1147, 'giậy': 1297, 'phon': 3110, 'dz': 1005, 'nge': 2631, 'nhạnh': 2847, 'fhjhfxvbncbhvb': 1153, 'hugh': 1527, 'h_bjkfdgb': 1387, 'ngonhghjkjfsx': 2663, 'kế_thừa': 1987, 'selfies': 3492, 'sở_hữu': 3679, 'lần_lượt': 2237, 'làm_đẹp': 2156, 'xóa_phông': 4828, 'thủng': 3959, 'phát_âm': 3132, 'diệu': 967, 'yếu_tố': 4902, 'vietinbank': 4546, 'tuyến': 4250, 'lac': 2021, 'dog': 973, 'coa': 652, 'ik': 1718, 'mega': 2345, 'code': 653, 'máy_quét': 2445, 'reader': 3339, 'lưu_trữ': 2212, 'giữa_chừng': 1311, 'pupg': 3233, 'kco': 1770, 'biểu_hiện': 137, 'mũi': 2491, 'digiwork': 956, 'pặc': 3240, 'ắp': 5283, 'trm': 4113, 'điẹne': 4988, 'đáng_lẽ_ra': 5059, 'tạp_đc': 4368, 'bà_già': 187, 'hang_nhân': 1404, 'troi': 4116, 'lủng': 2296, 'ý_thức': 4953, 'tử_tế': 4473, 'post': 3219, 'tiếng_thế': 4019, 'chắc_tay': 575, 'quầy': 3314, 'tạp_hóa': 4366, 'tòa': 4315, 'wes': 4728, 'nbh': 2613, 'tracking': 4082, 'bg': 116, 'lớn_mạnh': 2287, 'rải_rác': 3412, 'pải': 3239, 'thảo_luận': 3887, 'mìh': 2464, 'viber': 4539, 'kỹ_lưỡng': 2010, 'service': 3500, 'sevice': 3506, 'nóngdùng': 2974, 'lightning': 2059, 'livestream': 2071, 'hết_hơi': 1643, 'tin_cậy': 3995, 'thích_đáng': 3848, 'bát': 212, 'gạo': 1363, 'itunes': 1750, 'vậy_ta': 4676, 'cpo_vậy': 685, 'trã': 4152, 'học_tập': 1660, 'thưa': 3877, 'kén': 1946, 'hôi': 1582, 'chuyển_khoản': 471, 'tướng': 4355, 'qubg': 3261, 'ngừ': 2749, 'ಠಗಠ': 5265, 'mếu': 2545, 'lh': 2053, 'phước': 3163, 'gàn': 1340, 'hỏi_hóa_đơn': 1664, 'cố_ý': 869, 'đâm': 5068, 'hỏng_hóc': 1667, 'lk': 2085, 'lối': 2274, 'cj': 641, 'hang_lai': 1401, 'gium': 1246, 'căn_bản': 773, 'gos': 1329, 'xem_thường': 4756, 'quá_đáng': 3286, 'hoanghamobile': 1483, 'kìa': 1957, 'fe': 1146, 'tần_số': 4382, 'đvc': 5041, 'tuổi_thọ': 4260, 'đặng': 5163, 'kcs': 1771, 'cúa': 767, 'motor': 2402, 'ksc': 1937, 'nghiêm_túc': 2638, 'chung_cuộc': 463, 'mừn': 2592, 'hùng_hục': 1591, 'cắm_đầu_vào': 858, 'bàn_ủi': 196, 'trù': 4168, 'gorila': 1328, 'khôn': 1859, 'phoneinfo': 3112, 'cpuz': 687, 'nguy_cơ': 2679, 'giục': 1306, 'inserted': 1731, 'thành_phố': 3822, 'hiếm': 1448, 't_bảo': 3700, 'hần': 1629, 'hường': 1610, 'cánh_sen': 725, 'trang_bị': 4092, 'isue': 1745, 'đổi_hủy': 5223, 'bug': 168, 'ux': 4507, 'cáu': 729, 'sgn': 3509, 'tổng_đầi': 4448, 'sôi_máu': 3615, 'standrad': 3566, 'canh_chừng': 381, 'hao_hụt': 1408, 'ủy': 5302, 'quyền': 3275, 'tuki': 4244, 'otp': 3074, 'dating': 924, 'dặm': 1064, 'fet': 1149, 'cm': 647, 'bối_rối': 329, 'lẽo': 2260, 'mượn': 2500, 'bốc': 328, 'xinh_xắn': 4769, 'thức': 3961, 'bà_con': 186, 'rườm': 3406, 'khí_chất': 1843, 'tớ': 4454, 'lịch_thiệp': 2267, 'pay': 3086, 'satisfied': 3462, 'blt': 145, 'oan': 3035, 'giám': 1257, 'nuoc': 2933, 'ro': 3368, 'hiền': 1450, 'nghẹt': 2650, 'lừa_bịp': 2298, 'chúng_ta': 533, 'liti': 2068, 'di_cong_tác': 945, 'zonobowr': 4914, 'mích': 2467, 'den': 934, 'chau': 417, 'gè': 1347, 'như_ý': 2839, 'lia': 2056, 'bắp': 294, 'bu': 166, 'shops': 3518, 'liwu': 2072, 'kieu': 1902, 'nhắn_gửi': 2879, 'dè': 1021, 'đả': 5132, 'hue': 1526, 'quan_cáo': 3252, 'tiec': 3978, 'điện_thoại_nhỏ': 5008, 'nha_ban': 2754, 'het': 1432, 'xat': 4751, 'chan': 409, 'mac': 2308, 'lon': 2108, 'ra_gì': 3327, 'uh': 4485, 'trước_sau': 4184, 'ấn_phẩm': 5274, 'khach': 1784, 'kiem': 1900, 'phep': 3103, 'lè': 2174, 'háy': 1560, 'điện_thoại_giáo': 5004, 'lack': 2022, 'phake': 3098, 'cf': 400, 'fg_f': 1150, 'xộc': 4860, 'xệt': 4853, 'biếu': 135, 'nghị': 2655, 'xệch': 4852, 'nhàu': 2801, 'dạ': 1049, 'vâng': 4607, 'hộp_thư': 1686, 'quý_khách': 3297, 'buồn_cười': 176, 'đáng_lẽ': 5058, 'yêu_thương': 4899, 'vô_tình': 4635, 'thẩm_định': 3902, 'vãn': 4610, 'điên_tiết': 4986, 'công_bố': 752, 'rạch': 3411, 'bồ': 331, 'vnd': 4578, 'khiếu': 1797, 'tứ': 4461, 'mbank': 2341, 'thuần': 3814, 'tương_phản_thua': 4347, 'nốt': 3012, 'chừng': 634, 'hihihihi': 1445, 'ầu': 5279, 'trợ_lý': 4228, 'tiện_lợi_điểm': 4042, 'đối_thoại': 5201, 'đa_dạng': 4960, 'trình_bày': 4159, 'đội': 5231, 'ngày_một': 2701, 'suông': 3584, 'điện_thoại_lỗi': 5007, 'toàn_diện': 4070, 'chán_nản': 487, 'bất_bình': 275, 'yotube': 4884, 'oin': 3045, 'yokara': 4883, 'bắt_nguồn': 298, 'quang_cáo': 3257, 'ngo': 2657, 'gạt': 1364, 'khối': 1883, 'social': 3548, 'gí': 1350, 'nguon': 2678, 'huong': 1529, 'fs': 1182, 'lạk': 2226, 'luợng': 2137, 'truớc': 4139, 'tuởng': 4264, 'sản_xuất_hành': 3647, 'loạt': 2117, 'anti': 54, 'dụng_cụ': 1096, 'xiêu': 4770, 'mựơt': 2595, 'nông_trại': 2977, 'rủa': 3442, 'vivi': 4559, 'chiều_tối_ngày': 441, 'số_lượng': 3665, 'chung_chung': 462, 'làm_chi': 2145, 'thành_viên': 3825, 'tổng_ngày': 4436, 'om': 3055, 'huỏng': 1536, 'pencil': 3091, 'tức_thì': 4466, 'giới_hạn': 1302, 'inside': 1732, 'dirty': 959, 'loks': 2107, 'opened': 3064, 'before': 113, 'because': 112, 'finger': 1161, 'prints': 3224, 'plastic': 3211, 'woried': 4741, 'bành': 198, 'pen': 3090, 'mè': 2457, 'phương_án': 3162, 'cảm_tình': 816, 'thất_vong': 3892, 'chú_thích': 529, 'quốc_gia': 3320, 'hongkong': 1492, 'seai': 3479, 'luột': 2136, 'nx': 2938, 'hoảng_hồn': 1514, 'khồn': 1885, 'gia_bảo_hành': 1224, 'lằm': 2249, 'genuine': 1209, 'orginal': 3071, 'sealed': 3481, 'definitely': 930, 'recomend': 3344, 'price': 3222, 'ké': 1944, 'xút': 4833, 'đăng_kiểm_tra': 5107, 'sen': 3494, 'nốt_ruồi': 3013, 'giấy_bóng': 1292, 'xi_măng': 4761, 'dây_chuyền': 1016, 'ban_đầu_máy': 89, 'quá_ư': 3287, 'mất_giá': 2516, 'đánh_thức': 5064, 'bỗng': 337, 'kể_ra': 2000, 'mobifone': 2385, 'ý_nghĩ': 4951, 'tốt_tính_năng': 4423, 'yêu_cầu_mong_đợi': 4898, 'ngôn_ngữ': 2717, 'mộng': 2565, 'ds': 982, 'fds': 1145, 'sdfds': 3473, 'fd': 1144, 'sfd': 3507, 'ý_tưởng': 4954, 'giám_sát': 1258, 'mkids': 2379, 'vệ_tinh': 4687, 'đón': 5088, 'mật_mã': 2528, 'mkid': 2378, 'sài_số': 3593, 'gps': 1331, 'sạc_vậy': 3634, 'sốt': 3672, 'gprs': 1330, 'danh_mục': 916, 'wab': 4714, 'htp': 1521, 'tần_suất': 4381, 'dí': 1024, 'sạn': 3637, 'búa': 246, 'xua': 4783, 'định_dạng': 5193, 'tgian': 3742, 'xắp': 4848, 'nit': 2910, 'bân': 214, 'bọ': 317, 'hát': 1559, 'xác_thực': 4813, 'kiech': 1899, 'tài_nào': 4275, 'khai_tử': 1786, 'map': 2328, 'danh_sách': 917, 'sos': 3559, 've_san': 4533, 'lay': 2041, 'chữ_cái': 637, 'lhe': 2054, 'thao': 3756, 'dùg': 1033, 'khôg': 1855, 'ság': 3598, 'phân_bì': 3136, 'hết_vậy': 1647, 'thich': 3775, 'deo': 935, 'nhoe_nhoét': 2788, 'điện_thoại_viên': 5014, 'suốnt': 3586, 'tí_xíu': 4302, 'phản_chiếu_bóng': 3168, 'nhắc': 2874, 'tran': 4089, 'galaxy_note': 1192, 'lô': 2190, 'hàng_đầu_tiên': 1554, 'đen_ngòm': 4974, 'phết': 3187, 'quyết_tâm': 3273, 'nói_nhỏ_nhẹ': 2970, 'tự_nhủ': 4480, 'xương': 4836, 'ráo': 3387, 'than_phiền': 3747, 'apstore': 65, 'tháng_họa': 3829, 'đếch': 5171, 'kế_tiếp': 1988, 'sổ_tay': 3674, 'kiểm_định': 1926, 'xét_duyệt': 4821, 'kug': 1940, 'tpm': 4075, 'chong': 450, 'gioi': 1244, 'real': 3341, 'biet': 120, 'rụp': 3441, 'hg': 1433, 'huvjchv': 1530, 'bmhjbjnvjvjhv': 148, 'vjgj': 4572, 'kỹ_thuật_viên': 2012, 'không_vận_chuyển': 1870, 'chiều_tối': 440, 'đông_dương': 5098, 'tiki_vậy': 3983, 'tê_tê': 4290, 'suy': 3581, 'dó': 1029, 'xịt': 4857, 'máy_điện_tử': 2447, 'walpaper': 4718, 'tuyền': 4252, 'lến': 2261, 'vô_lí': 4630, 'đua': 5034, 'top': 4064, 'tận_dụng': 4387, 'hết_sức_mạnh': 1646, 'bionic': 125, 'link': 2066, 'tầm_sao': 4380, 'ngô_nghê': 2716, 'hihihi': 1444, 'only': 3061, 'thử_hỏi': 3964, 'sức_mạnh': 3687, 'quái_vật': 3289, 'nhí': 2820, 'upgarde': 4499, 'khác_biệt': 1833, 'rose': 3372, 'đỏ_vậy': 5198, 'mốt': 2560, 'tăng_giá': 4336, 'chánh': 488, 'zp': 4915, 'kông': 1971, 'l_vuốt': 2015, 'lạc': 2223, 'đầu_hủy': 5139, 'áp': 4924, 'mg': 2350, 'ninjavan': 2909, 'cơ_quan': 788, 'abc': 2, 'gấp_gáp': 1366, 'limited': 2062, 'chạc': 545, 'sản_phẩm_cách': 3644, 'hard': 1411, 'sea': 3478, 'cồng_kềnh': 873, 'giải_tỏa': 1283, 'xog': 4773, 'canada': 376, 'bậc': 290, 'hảo_tâm': 1627, 'mũ': 2490, 'khoing': 1804, 'trầy_trụa': 4198, 'ay': 79, 'jong': 1762, 'loai': 2093, 'mãy': 2456, 'ngta': 2673, 'khác_nào': 1834, 'quất': 3311, 'xứng_đáng_giá': 4865, 'searial': 3484, 'chĩnh': 539, 'cảm_ứng_lực': 821, 'hồngkong': 1677, 'sư_dụng': 3628, 'designed': 937, 'by': 183, 'california': 367, 'asembled': 69, 'nam_vậy': 2606, 'phần_nào': 3184, 'chảy': 554, 'bao_gói': 97, 'thân_chủ': 3835, 'bảo_đảm': 271, 'auth': 76, 'kong': 1936, 'gol': 1323, 'xày': 4808, 'dỗ': 1088, 'phản_quan': 3170, 'xinh_xinh': 4768, 'tương_lai': 4345, 'thất_vọngjdjdjdjd': 3894, 'vưa': 4646, 'khurng': 1818, 'pk': 3210, 'bóp': 240, 'cacban': 362, 'trước_tiên': 4185, 'yc': 4876, 'răng': 3403, 'nha_thanhks': 2756, 'múi_giờ': 2485, 'thất_thoát': 3890, 'rập_khuôn': 3415, 'y_hệt': 4872, 'case': 393, 'cứng_họng': 893, 'nói_ngang': 2969, 'quy_định': 3269, 'say': 3469, 'ngẻ': 2738, 'mng': 2381, 'mốp': 2559, 'thuạt': 3813, 'khai': 1785, 'dich': 949, 'nam_hóa': 2603, 'nâng_giá_trị': 2952, 'kiểm_duyệt': 1921, 'apble': 62, 'la_nguyên': 2018, 'vế': 4682, 'toa': 4057, 'trừng': 4234, 'fone': 1172, 'đuọc': 5039, 'đa_số': 4963, 'random': 3331, 'validated': 4518, 'tiêu_cực': 4010, 'sơm': 3626, 'sán': 3600, 'thô_sơ': 3854, 'mỏng_manh': 2556, 'ngày_trước': 2706, 'dữ_dội': 1099, 'cpo': 684, 'uỷ_quyền': 4510, 'điều_khoản': 4995, 'ari': 67, 'coupon': 681, 'sau_hết': 3465, 'hư_hao': 1604, 'đài': 5044, 'mươtj': 2498, 'sốt_ruột': 3673, 'malay': 2318, 'rao': 3334, 'ngặt': 2737, 'nỗi': 3020, 'dòm': 1027, 'ngó': 2714, 'bj': 141, 'buồn_ghê': 177, 'cắt_giảm': 860, 'focus': 1170, 'option': 3067, 'chọt': 602, 'mau_chóng': 2334, 'chuyễn': 474, 'pe': 3089, 'nặg': 3001, 'vớt': 4700, 'nổi_danh': 3018, 'sony': 3557, 'lg': 2052, 'bom': 155, 'bl': 143, 'ấm': 5272, 'tản': 4371, 'chất_lỏng': 564, 'đục': 5243, 'thâm': 3833, 'cằm': 861, 'seari': 3483, 'thôi_gian': 3856, 'poco': 3216, 'xung_đột': 4788, 'chromium': 456, 'dynamic': 1004, 'color': 657, 'gamut': 1196, 'flags': 1164, 'digiword': 955, 'camẻa': 373, 'explorer': 1129, 'mươt': 2497, 'mạnh_dạn': 2510, 'bắt_đền': 301, 'nam_giới': 2602, 'lok': 2106, 'se_ung': 3477, 'keu': 1777, 'mua_ung': 2411, 'xằng_bậy': 4849, 'tiếp_diễn': 4023, 'kiếp': 1918, 'đùn_đẩy': 5101, 'tổng_cộng': 4432, 'nại': 2990, 'đồ_chơi': 5209, 'bấy_giờ': 286, 'chốt': 604, 'xử_lý_sự_việc': 4871, 'cd': 397, 'tỉm': 4405, 'vật_lí': 4672, 'xạm': 4841, 'xỉn': 4855, 'at': 72, 'lock': 2099, 'silent': 3521, 'unbox': 4489, 'options': 3068, 'cước': 792, 'kick': 1897, 'quênmobile': 3295, 'mơ_hồ': 2493, 'ja': 1752, 'za': 4903, 'faceid': 1135, 'litle': 2069, 'lower': 2112, 'mặt_bằng': 2537, 'vậy_trừ': 4677, 'tồn': 4428, 'già_yếu': 1249, 'kỹ_tính': 2013, 'techcombank': 3727, 'mốc': 2557, 'petrosetco': 3095, 'phôi': 3152, 'tiền_mặt': 4033, 'đẹp_trai': 5168, 'một_phép': 2569, 'dúng': 1036, 'trị': 4213, 'giàn': 1250, 'tranh_thủ': 4098, 'vô_dụng': 4629, 'atm': 73, 'tươm_tất': 4343, 'xen': 4759, 'thề': 3926, 'thủ_công': 3956, 'hơ': 1597, 'lướt_mướt': 2216, 'gờ': 1381, 'bịn': 315, 'tgd': 3740, 'hột': 1687, 'thanb': 3748, 'sơn': 3627, 'thọc': 3938, 'soft': 3550, 'tranh_cãi': 4097, 'phong_cảnh': 3115, 'đồ_dùng': 5210, 'thiết_yếu': 3783, 'nhẽ': 2885, 'nhọ': 2889, 'cám': 722, 'ngâm': 2710, 'unlock': 4493, 'ticket': 3977, 'pioner': 3207, 'nguy_hiểm_thật': 2681, 'hõi': 1589, 'thân_thiết': 3836, 'xúc': 4832, 'lục': 2295, 'huyền_thoại': 1534, 'giọt': 1300, 'khủng_khiếp': 1892, 'loằng_ngoằng': 2118, 'beautiful': 111, 'công_năng': 759, 'nẽo': 3004}\n"
          ]
        }
      ],
      "source": [
        "print(cv.vocabulary_)"
      ]
    },
    {
      "cell_type": "markdown",
      "metadata": {
        "id": "0D3slXpgZYIp"
      },
      "source": [
        "#### Huấn luyện mô hình bằng DecisionTreeClassifier"
      ]
    },
    {
      "cell_type": "code",
      "execution_count": 42,
      "metadata": {
        "colab": {
          "base_uri": "https://localhost:8080/"
        },
        "execution": {
          "iopub.execute_input": "2021-11-11T09:38:21.740596Z",
          "iopub.status.busy": "2021-11-11T09:38:21.740316Z",
          "iopub.status.idle": "2021-11-11T09:38:25.071086Z",
          "shell.execute_reply": "2021-11-11T09:38:25.070323Z",
          "shell.execute_reply.started": "2021-11-11T09:38:21.740558Z"
        },
        "id": "3BttSVKwNt1-",
        "outputId": "b4ea1c4a-94b5-4717-fab5-5845518b2b96",
        "trusted": true
      },
      "outputs": [
        {
          "name": "stdout",
          "output_type": "stream",
          "text": [
            "Accuracy: 0.7270769630626223\n"
          ]
        }
      ],
      "source": [
        "from sklearn.tree import DecisionTreeClassifier\n",
        "\n",
        "model = DecisionTreeClassifier()\n",
        "total_accuracy = cross_val_score(model, X_vectors, y, cv=10, scoring='accuracy')\n",
        "print('Accuracy:', np.mean(total_accuracy))"
      ]
    },
    {
      "cell_type": "markdown",
      "metadata": {
        "id": "4m3Kmbd8ZYIp"
      },
      "source": [
        "#### Huấn luyện mô hình bằng KNeighborsClassifier"
      ]
    },
    {
      "cell_type": "code",
      "execution_count": 43,
      "metadata": {
        "colab": {
          "base_uri": "https://localhost:8080/"
        },
        "execution": {
          "iopub.execute_input": "2021-11-11T09:38:25.072832Z",
          "iopub.status.busy": "2021-11-11T09:38:25.072541Z",
          "iopub.status.idle": "2021-11-11T09:38:26.075233Z",
          "shell.execute_reply": "2021-11-11T09:38:26.07443Z",
          "shell.execute_reply.started": "2021-11-11T09:38:25.072796Z"
        },
        "id": "gC6BTtCnNt1-",
        "outputId": "7895165a-0c8a-46c2-a65f-6786883ff9b8",
        "trusted": true
      },
      "outputs": [
        {
          "name": "stdout",
          "output_type": "stream",
          "text": [
            "Accuracy: 0.6905160683708415\n"
          ]
        }
      ],
      "source": [
        "from sklearn.neighbors import KNeighborsClassifier\n",
        "\n",
        "model = KNeighborsClassifier()\n",
        "total_accuracy = cross_val_score(model, X_vectors, y, cv=10, scoring='accuracy')\n",
        "print('Accuracy:', np.mean(total_accuracy))"
      ]
    },
    {
      "cell_type": "markdown",
      "metadata": {
        "id": "O5yeKkHDZYIq"
      },
      "source": [
        "#### Huấn luyện mô hình bằng MultinomialNB"
      ]
    },
    {
      "cell_type": "code",
      "execution_count": 44,
      "metadata": {
        "colab": {
          "base_uri": "https://localhost:8080/"
        },
        "execution": {
          "iopub.execute_input": "2021-11-11T09:38:26.077074Z",
          "iopub.status.busy": "2021-11-11T09:38:26.076413Z",
          "iopub.status.idle": "2021-11-11T09:38:26.118897Z",
          "shell.execute_reply": "2021-11-11T09:38:26.118084Z",
          "shell.execute_reply.started": "2021-11-11T09:38:26.077031Z"
        },
        "id": "bGPVKRNNNt1-",
        "outputId": "d3369393-c530-4ab0-c5ba-aace447ea7da",
        "trusted": true
      },
      "outputs": [
        {
          "name": "stdout",
          "output_type": "stream",
          "text": [
            "Accuracy: 0.8048927501223092\n"
          ]
        }
      ],
      "source": [
        "from sklearn.naive_bayes import MultinomialNB\n",
        "\n",
        "model = MultinomialNB()\n",
        "total_accuracy = cross_val_score(model, X_vectors, y, cv=10, scoring='accuracy')\n",
        "print('Accuracy:', np.mean(total_accuracy))"
      ]
    },
    {
      "cell_type": "markdown",
      "metadata": {
        "id": "VVD8RGeVZYIq"
      },
      "source": [
        "#### Huấn luyện mô hình bằng RandomForestClassifier"
      ]
    },
    {
      "cell_type": "code",
      "execution_count": 45,
      "metadata": {
        "colab": {
          "base_uri": "https://localhost:8080/"
        },
        "execution": {
          "iopub.execute_input": "2021-11-11T09:38:26.120494Z",
          "iopub.status.busy": "2021-11-11T09:38:26.12023Z",
          "iopub.status.idle": "2021-11-11T09:38:47.386981Z",
          "shell.execute_reply": "2021-11-11T09:38:47.38543Z",
          "shell.execute_reply.started": "2021-11-11T09:38:26.120459Z"
        },
        "id": "8wBRM23jNt1-",
        "outputId": "7a6d7c1b-d220-4bc0-8818-8a503658bc09",
        "trusted": true
      },
      "outputs": [
        {
          "name": "stdout",
          "output_type": "stream",
          "text": [
            "Accuracy: 0.8072342068248533\n"
          ]
        }
      ],
      "source": [
        "from sklearn.ensemble import RandomForestClassifier\n",
        "\n",
        "model = RandomForestClassifier()\n",
        "total_accuracy = cross_val_score(model, X_vectors, y, cv=10, scoring='accuracy')\n",
        "print('Accuracy:', np.mean(total_accuracy))"
      ]
    },
    {
      "cell_type": "markdown",
      "metadata": {
        "id": "bDqW-vctZYIr"
      },
      "source": [
        "#### Huấn luyện mô hình bằng SVM"
      ]
    },
    {
      "cell_type": "code",
      "execution_count": 46,
      "metadata": {
        "colab": {
          "base_uri": "https://localhost:8080/"
        },
        "execution": {
          "iopub.execute_input": "2021-11-11T09:38:47.388628Z",
          "iopub.status.busy": "2021-11-11T09:38:47.388263Z",
          "iopub.status.idle": "2021-11-11T09:38:56.301965Z",
          "shell.execute_reply": "2021-11-11T09:38:56.301228Z",
          "shell.execute_reply.started": "2021-11-11T09:38:47.388587Z"
        },
        "id": "RL1PzBDSNt1_",
        "outputId": "bda961d3-8818-4c66-a754-69b05c9f25a5",
        "trusted": true
      },
      "outputs": [
        {
          "name": "stdout",
          "output_type": "stream",
          "text": [
            "Accuracy: 0.8144645914872799\n"
          ]
        }
      ],
      "source": [
        "from sklearn.svm import SVC\n",
        "\n",
        "model = SVC()\n",
        "total_accuracy = cross_val_score(model, X_vectors, y, cv=10, scoring='accuracy')\n",
        "print('Accuracy:', np.mean(total_accuracy))"
      ]
    },
    {
      "cell_type": "markdown",
      "metadata": {
        "id": "7k0BvQhrZYIr"
      },
      "source": [
        "### <strong>Kết quả huấn luyện</strong>\n",
        "\n",
        "<strong>Lần đầu</strong>\n",
        "\n",
        "DecisionTreeClassifier 71.04%\n",
        "\n",
        "KNeighborsClassifier 65.37%\n",
        "\n",
        "MultinomialNB 78.47%\n",
        "\n",
        "RandomForestClassifier 78.43%\n",
        "\n",
        "SVC 78.61%\n",
        "\n",
        "Giải thuật SVC cho kết quả tốt nhất với độ chính xác 78.61%\n",
        "\n",
        "<strong>Lần 2 Khi không loại bỏ từ dừng</strong>\n",
        "\n",
        "DecisionTreeClassifier 72.70%\n",
        "\n",
        "KNeighborsClassifier 69.05%\n",
        "\n",
        "MultinomialNB 80.48%\n",
        "\n",
        "RandomForestClassifier 80.72%\n",
        "\n",
        "SVC 81.44%\n",
        "\n",
        "Giải thuật SVC cho kết quả tốt nhất với độ chính xác 81.44%\n",
        "\n",
        "=> Khi không loại bỏ từ dừng thì độ chính xác thu được sẽ cao hơn"
      ]
    },
    {
      "cell_type": "markdown",
      "metadata": {
        "id": "oLywdLGjUBfc"
      },
      "source": [
        "### Lưu model\n",
        "Model được lưu lại thành file pickle được sử dụng để viết chương trình dự đoán"
      ]
    },
    {
      "cell_type": "code",
      "execution_count": 47,
      "metadata": {
        "id": "73yYjvRnZYIr"
      },
      "outputs": [],
      "source": [
        "from sklearn.metrics import accuracy_score\n",
        "import pickle"
      ]
    },
    {
      "cell_type": "code",
      "execution_count": 48,
      "metadata": {
        "id": "k7eAb4IIZYIs"
      },
      "outputs": [],
      "source": [
        "X_train, X_test, y_train, y_test = train_test_split(X, y, test_size=0.1, random_state=42)"
      ]
    },
    {
      "cell_type": "code",
      "execution_count": 49,
      "metadata": {
        "colab": {
          "base_uri": "https://localhost:8080/"
        },
        "id": "p0Ss57YK5VNQ",
        "outputId": "b25f6d86-4fc9-4ac7-8dcf-eb3888a5e4a7"
      },
      "outputs": [
        {
          "data": {
            "text/plain": [
              "(4603, 512)"
            ]
          },
          "execution_count": 49,
          "metadata": {},
          "output_type": "execute_result"
        }
      ],
      "source": [
        "len(X_train), len(X_test)"
      ]
    },
    {
      "cell_type": "code",
      "execution_count": 50,
      "metadata": {
        "colab": {
          "base_uri": "https://localhost:8080/"
        },
        "id": "2385lFvSW9zU",
        "outputId": "672b20db-3f2b-4276-ab35-711d3b5402e8"
      },
      "outputs": [
        {
          "name": "stdout",
          "output_type": "stream",
          "text": [
            "accuracy_score: 0.810546875\n"
          ]
        }
      ],
      "source": [
        "cv = CountVectorizer()\n",
        "X_train_vector = cv.fit_transform(X_train)\n",
        "X_test_vector = cv.transform(X_test)\n",
        "svc_model = SVC()\n",
        "svc_model.fit(X_train_vector, y_train)\n",
        "\n",
        "y_pred = svc_model.predict(X_test_vector)\n",
        "print('accuracy_score:', accuracy_score(y_true=y_test, y_pred=y_pred))"
      ]
    },
    {
      "cell_type": "markdown",
      "metadata": {
        "id": "O-XwOavI5VNQ"
      },
      "source": [
        "Không gian vector của tập dữ liệu train"
      ]
    },
    {
      "cell_type": "code",
      "execution_count": 51,
      "metadata": {
        "colab": {
          "base_uri": "https://localhost:8080/"
        },
        "id": "Jei7VT3-5VNQ",
        "outputId": "4e7c64ca-2940-4848-879a-7f2059d80688"
      },
      "outputs": [
        {
          "name": "stdout",
          "output_type": "stream",
          "text": [
            "5065\n",
            "(4603, 5065)\n",
            "(512, 5065)\n"
          ]
        },
        {
          "name": "stderr",
          "output_type": "stream",
          "text": [
            "/usr/local/lib/python3.7/dist-packages/sklearn/utils/deprecation.py:87: FutureWarning: Function get_feature_names is deprecated; get_feature_names is deprecated in 1.0 and will be removed in 1.2. Please use get_feature_names_out instead.\n",
            "  warnings.warn(msg, category=FutureWarning)\n"
          ]
        }
      ],
      "source": [
        "print(len(cv.get_feature_names()))\n",
        "print(X_train_vector.shape)\n",
        "print(X_test_vector.shape)"
      ]
    },
    {
      "cell_type": "markdown",
      "metadata": {
        "id": "ST4F5Vx85VNQ"
      },
      "source": [
        "Ghi lại ra file"
      ]
    },
    {
      "cell_type": "code",
      "execution_count": 52,
      "metadata": {
        "id": "u4uv-JAf5VNR"
      },
      "outputs": [],
      "source": [
        "with open(\"CountVectorizerAndSVC.pkl\", 'wb') as fout:\n",
        "    pickle.dump((cv, svc_model), fout)"
      ]
    },
    {
      "cell_type": "markdown",
      "metadata": {
        "id": "If80UnkuW6vC"
      },
      "source": [
        "### Đọc model\n",
        "Model phải được đọc trở lại từ file, sử dụng để viết website"
      ]
    },
    {
      "cell_type": "markdown",
      "metadata": {
        "id": "uz5GZClz5VNR"
      },
      "source": [
        "Để chắn chắn rằng vector và model đã được đọc nên ta đặt tên biến khác, đồng thời áp dụng vector hóa lên X"
      ]
    },
    {
      "cell_type": "code",
      "execution_count": 53,
      "metadata": {
        "id": "89SZrpGfUEik"
      },
      "outputs": [],
      "source": [
        "with open('CountVectorizerAndSVC.pkl', 'rb') as file:\n",
        "    vector, model = pickle.load(file)"
      ]
    },
    {
      "cell_type": "code",
      "execution_count": 54,
      "metadata": {
        "colab": {
          "base_uri": "https://localhost:8080/"
        },
        "id": "iYlZzmu4ZYIs",
        "outputId": "7dd48a5e-e232-4646-d140-13b750d0f3d2"
      },
      "outputs": [
        {
          "name": "stdout",
          "output_type": "stream",
          "text": [
            "accuracy_score: 0.8999022482893451\n"
          ]
        }
      ],
      "source": [
        "X_vector = vector.transform(X)\n",
        "y_pred = model.predict(X_vector)\n",
        "print('accuracy_score:', accuracy_score(y_true=y, y_pred=y_pred))"
      ]
    },
    {
      "cell_type": "markdown",
      "metadata": {
        "id": "BQUps3zNgmgz"
      },
      "source": [
        "### Thử cải thiện mô hình bằng PhoBERT\n",
        "\n",
        "Tham Khảo từ Phạm Hữu Quang trên viblo: https://viblo.asia/p/bert-roberta-phobert-bertweet-ung-dung-state-of-the-art-pre-trained-model-cho-bai-toan-phan-loai-van-ban-4P856PEWZY3\n"
      ]
    },
    {
      "cell_type": "markdown",
      "metadata": {
        "id": "ibAcyZPRhbLR"
      },
      "source": [
        "Cài đặt transformers"
      ]
    },
    {
      "cell_type": "code",
      "execution_count": 55,
      "metadata": {
        "colab": {
          "base_uri": "https://localhost:8080/"
        },
        "id": "RvdewXzigw-C",
        "outputId": "7ab0fb11-42bc-4b06-cc45-534d65eeabb7"
      },
      "outputs": [
        {
          "name": "stdout",
          "output_type": "stream",
          "text": [
            "Collecting transformers\n",
            "  Downloading transformers-4.15.0-py3-none-any.whl (3.4 MB)\n",
            "\u001b[K     |████████████████████████████████| 3.4 MB 5.1 MB/s \n",
            "\u001b[?25hRequirement already satisfied: packaging>=20.0 in /usr/local/lib/python3.7/dist-packages (from transformers) (21.3)\n",
            "Collecting huggingface-hub<1.0,>=0.1.0\n",
            "  Downloading huggingface_hub-0.2.1-py3-none-any.whl (61 kB)\n",
            "\u001b[K     |████████████████████████████████| 61 kB 502 kB/s \n",
            "\u001b[?25hRequirement already satisfied: requests in /usr/local/lib/python3.7/dist-packages (from transformers) (2.23.0)\n",
            "Requirement already satisfied: tqdm>=4.27 in /usr/local/lib/python3.7/dist-packages (from transformers) (4.62.3)\n",
            "Requirement already satisfied: filelock in /usr/local/lib/python3.7/dist-packages (from transformers) (3.4.0)\n",
            "Requirement already satisfied: regex!=2019.12.17 in /usr/local/lib/python3.7/dist-packages (from transformers) (2019.12.20)\n",
            "Collecting tokenizers<0.11,>=0.10.1\n",
            "  Downloading tokenizers-0.10.3-cp37-cp37m-manylinux_2_5_x86_64.manylinux1_x86_64.manylinux_2_12_x86_64.manylinux2010_x86_64.whl (3.3 MB)\n",
            "\u001b[K     |████████████████████████████████| 3.3 MB 11.0 MB/s \n",
            "\u001b[?25hCollecting sacremoses\n",
            "  Downloading sacremoses-0.0.46-py3-none-any.whl (895 kB)\n",
            "\u001b[K     |████████████████████████████████| 895 kB 23.7 MB/s \n",
            "\u001b[?25hRequirement already satisfied: importlib-metadata in /usr/local/lib/python3.7/dist-packages (from transformers) (4.8.2)\n",
            "Requirement already satisfied: numpy>=1.17 in /usr/local/lib/python3.7/dist-packages (from transformers) (1.19.5)\n",
            "Collecting pyyaml>=5.1\n",
            "  Downloading PyYAML-6.0-cp37-cp37m-manylinux_2_5_x86_64.manylinux1_x86_64.manylinux_2_12_x86_64.manylinux2010_x86_64.whl (596 kB)\n",
            "\u001b[K     |████████████████████████████████| 596 kB 46.1 MB/s \n",
            "\u001b[?25hRequirement already satisfied: typing-extensions>=3.7.4.3 in /usr/local/lib/python3.7/dist-packages (from huggingface-hub<1.0,>=0.1.0->transformers) (3.10.0.2)\n",
            "Requirement already satisfied: pyparsing!=3.0.5,>=2.0.2 in /usr/local/lib/python3.7/dist-packages (from packaging>=20.0->transformers) (3.0.6)\n",
            "Requirement already satisfied: zipp>=0.5 in /usr/local/lib/python3.7/dist-packages (from importlib-metadata->transformers) (3.6.0)\n",
            "Requirement already satisfied: urllib3!=1.25.0,!=1.25.1,<1.26,>=1.21.1 in /usr/local/lib/python3.7/dist-packages (from requests->transformers) (1.24.3)\n",
            "Requirement already satisfied: chardet<4,>=3.0.2 in /usr/local/lib/python3.7/dist-packages (from requests->transformers) (3.0.4)\n",
            "Requirement already satisfied: idna<3,>=2.5 in /usr/local/lib/python3.7/dist-packages (from requests->transformers) (2.10)\n",
            "Requirement already satisfied: certifi>=2017.4.17 in /usr/local/lib/python3.7/dist-packages (from requests->transformers) (2021.10.8)\n",
            "Requirement already satisfied: click in /usr/local/lib/python3.7/dist-packages (from sacremoses->transformers) (7.1.2)\n",
            "Requirement already satisfied: joblib in /usr/local/lib/python3.7/dist-packages (from sacremoses->transformers) (1.1.0)\n",
            "Requirement already satisfied: six in /usr/local/lib/python3.7/dist-packages (from sacremoses->transformers) (1.15.0)\n",
            "Installing collected packages: pyyaml, tokenizers, sacremoses, huggingface-hub, transformers\n",
            "  Attempting uninstall: pyyaml\n",
            "    Found existing installation: PyYAML 3.13\n",
            "    Uninstalling PyYAML-3.13:\n",
            "      Successfully uninstalled PyYAML-3.13\n",
            "Successfully installed huggingface-hub-0.2.1 pyyaml-6.0 sacremoses-0.0.46 tokenizers-0.10.3 transformers-4.15.0\n"
          ]
        }
      ],
      "source": [
        "!pip install transformers"
      ]
    },
    {
      "cell_type": "markdown",
      "metadata": {
        "id": "yaU0cJbk0qe7"
      },
      "source": [
        "Tải về pre-trained PhoBERT base transformers"
      ]
    },
    {
      "cell_type": "code",
      "execution_count": 56,
      "metadata": {
        "colab": {
          "base_uri": "https://localhost:8080/"
        },
        "id": "vEYdyzRVy21k",
        "outputId": "7f925345-2c62-49fd-d5bc-2b954aff24f0"
      },
      "outputs": [
        {
          "name": "stdout",
          "output_type": "stream",
          "text": [
            "--2021-12-23 06:24:25--  https://public.vinai.io/PhoBERT_base_transformers.tar.gz\n",
            "Resolving public.vinai.io (public.vinai.io)... 65.8.49.95, 65.8.49.107, 65.8.49.115, ...\n",
            "Connecting to public.vinai.io (public.vinai.io)|65.8.49.95|:443... connected.\n",
            "HTTP request sent, awaiting response... 200 OK\n",
            "Length: 322405979 (307M) [application/x-tar]\n",
            "Saving to: ‘PhoBERT_base_transformers.tar.gz’\n",
            "\n",
            "PhoBERT_base_transf 100%[===================>] 307.47M  25.6MB/s    in 15s     \n",
            "\n",
            "2021-12-23 06:24:42 (20.5 MB/s) - ‘PhoBERT_base_transformers.tar.gz’ saved [322405979/322405979]\n",
            "\n",
            "PhoBERT_base_transformers/\n",
            "PhoBERT_base_transformers/config.json\n",
            "PhoBERT_base_transformers/bpe.codes\n",
            "PhoBERT_base_transformers/model.bin\n",
            "PhoBERT_base_transformers/dict.txt\n"
          ]
        }
      ],
      "source": [
        "!wget https://public.vinai.io/PhoBERT_base_transformers.tar.gz\n",
        "!tar -xzvf PhoBERT_base_transformers.tar.gz"
      ]
    },
    {
      "cell_type": "markdown",
      "metadata": {
        "id": "Wd8wQSbdheMr"
      },
      "source": [
        "Kế tiếp, chúng ta cài đặt fastBPE và FAIRSeq"
      ]
    },
    {
      "cell_type": "code",
      "execution_count": 57,
      "metadata": {
        "colab": {
          "base_uri": "https://localhost:8080/",
          "height": 974
        },
        "id": "zUnVJWGahgZ4",
        "outputId": "6609a1f3-734d-4097-8d58-75eccbaf1995"
      },
      "outputs": [
        {
          "name": "stdout",
          "output_type": "stream",
          "text": [
            "Collecting fastBPE\n",
            "  Downloading fastBPE-0.1.0.tar.gz (35 kB)\n",
            "Building wheels for collected packages: fastBPE\n",
            "  Building wheel for fastBPE (setup.py) ... \u001b[?25l\u001b[?25hdone\n",
            "  Created wheel for fastBPE: filename=fastBPE-0.1.0-cp37-cp37m-linux_x86_64.whl size=483118 sha256=30985df408ed0d72cddcf28163cf1ad34f02ac10dc98ff231512e8bc23c08222\n",
            "  Stored in directory: /root/.cache/pip/wheels/bd/d4/0e/0d317a65f77d3f8049fedd8a2ee0519164cf3e6bd77ef886f1\n",
            "Successfully built fastBPE\n",
            "Installing collected packages: fastBPE\n",
            "Successfully installed fastBPE-0.1.0\n",
            "Collecting fairseq\n",
            "  Downloading fairseq-0.10.2-cp37-cp37m-manylinux1_x86_64.whl (1.7 MB)\n",
            "\u001b[K     |████████████████████████████████| 1.7 MB 5.4 MB/s \n",
            "\u001b[?25hRequirement already satisfied: cython in /usr/local/lib/python3.7/dist-packages (from fairseq) (0.29.24)\n",
            "Requirement already satisfied: numpy in /usr/local/lib/python3.7/dist-packages (from fairseq) (1.19.5)\n",
            "Requirement already satisfied: torch in /usr/local/lib/python3.7/dist-packages (from fairseq) (1.10.0+cu111)\n",
            "Collecting dataclasses\n",
            "  Downloading dataclasses-0.6-py3-none-any.whl (14 kB)\n",
            "Requirement already satisfied: cffi in /usr/local/lib/python3.7/dist-packages (from fairseq) (1.15.0)\n",
            "Requirement already satisfied: regex in /usr/local/lib/python3.7/dist-packages (from fairseq) (2019.12.20)\n",
            "Collecting hydra-core\n",
            "  Downloading hydra_core-1.1.1-py3-none-any.whl (145 kB)\n",
            "\u001b[K     |████████████████████████████████| 145 kB 44.7 MB/s \n",
            "\u001b[?25hCollecting sacrebleu>=1.4.12\n",
            "  Downloading sacrebleu-2.0.0-py3-none-any.whl (90 kB)\n",
            "\u001b[K     |████████████████████████████████| 90 kB 8.7 MB/s \n",
            "\u001b[?25hRequirement already satisfied: tqdm in /usr/local/lib/python3.7/dist-packages (from fairseq) (4.62.3)\n",
            "Requirement already satisfied: tabulate>=0.8.9 in /usr/local/lib/python3.7/dist-packages (from sacrebleu>=1.4.12->fairseq) (0.8.9)\n",
            "Collecting colorama\n",
            "  Downloading colorama-0.4.4-py2.py3-none-any.whl (16 kB)\n",
            "Collecting portalocker\n",
            "  Downloading portalocker-2.3.2-py2.py3-none-any.whl (15 kB)\n",
            "Requirement already satisfied: pycparser in /usr/local/lib/python3.7/dist-packages (from cffi->fairseq) (2.21)\n",
            "Requirement already satisfied: importlib-resources in /usr/local/lib/python3.7/dist-packages (from hydra-core->fairseq) (5.4.0)\n",
            "Collecting antlr4-python3-runtime==4.8\n",
            "  Downloading antlr4-python3-runtime-4.8.tar.gz (112 kB)\n",
            "\u001b[K     |████████████████████████████████| 112 kB 41.1 MB/s \n",
            "\u001b[?25hCollecting omegaconf==2.1.*\n",
            "  Downloading omegaconf-2.1.1-py3-none-any.whl (74 kB)\n",
            "\u001b[K     |████████████████████████████████| 74 kB 3.0 MB/s \n",
            "\u001b[?25hRequirement already satisfied: PyYAML>=5.1.0 in /usr/local/lib/python3.7/dist-packages (from omegaconf==2.1.*->hydra-core->fairseq) (6.0)\n",
            "Requirement already satisfied: zipp>=3.1.0 in /usr/local/lib/python3.7/dist-packages (from importlib-resources->hydra-core->fairseq) (3.6.0)\n",
            "Requirement already satisfied: typing-extensions in /usr/local/lib/python3.7/dist-packages (from torch->fairseq) (3.10.0.2)\n",
            "Building wheels for collected packages: antlr4-python3-runtime\n",
            "  Building wheel for antlr4-python3-runtime (setup.py) ... \u001b[?25l\u001b[?25hdone\n",
            "  Created wheel for antlr4-python3-runtime: filename=antlr4_python3_runtime-4.8-py3-none-any.whl size=141230 sha256=ad3eb4cb366ec5d11f0eb19603eb99f5df2a5da0719d789ed854d24d6e28d8c6\n",
            "  Stored in directory: /root/.cache/pip/wheels/ca/33/b7/336836125fc9bb4ceaa4376d8abca10ca8bc84ddc824baea6c\n",
            "Successfully built antlr4-python3-runtime\n",
            "Installing collected packages: antlr4-python3-runtime, portalocker, omegaconf, colorama, sacrebleu, hydra-core, dataclasses, fairseq\n",
            "Successfully installed antlr4-python3-runtime-4.8 colorama-0.4.4 dataclasses-0.6 fairseq-0.10.2 hydra-core-1.1.1 omegaconf-2.1.1 portalocker-2.3.2 sacrebleu-2.0.0\n"
          ]
        },
        {
          "data": {
            "application/vnd.colab-display-data+json": {
              "pip_warning": {
                "packages": [
                  "dataclasses",
                  "pydevd_plugins"
                ]
              }
            }
          },
          "metadata": {},
          "output_type": "display_data"
        }
      ],
      "source": [
        "!pip install fastBPE\n",
        "!pip install fairseq"
      ]
    },
    {
      "cell_type": "code",
      "execution_count": 58,
      "metadata": {
        "id": "3YcpqDXiiEzS"
      },
      "outputs": [],
      "source": [
        "from fairseq.data.encoders.fastbpe import fastBPE\n",
        "from fairseq.data import Dictionary\n",
        "import argparse\n",
        "\n",
        "parser = argparse.ArgumentParser()\n",
        "parser.add_argument('--bpe-codes', \n",
        "    default=\"/content/PhoBERT_base_transformers/bpe.codes\",\n",
        "    required=False,\n",
        "    type=str,\n",
        "    help='path to fastBPE BPE'\n",
        ")\n",
        "args, unknown = parser.parse_known_args()\n",
        "bpe = fastBPE(args)\n",
        "\n",
        "# Load the dictionary\n",
        "vocab = Dictionary()\n",
        "vocab.add_from_file(\"/content/PhoBERT_base_transformers/dict.txt\")"
      ]
    },
    {
      "cell_type": "code",
      "execution_count": 59,
      "metadata": {
        "colab": {
          "base_uri": "https://localhost:8080/",
          "height": 35
        },
        "id": "QVzbDc1BiGvH",
        "outputId": "09ba5ab8-c2d2-48d0-e4d6-1b8f505ada7f"
      },
      "outputs": [
        {
          "data": {
            "application/vnd.google.colaboratory.intrinsic+json": {
              "type": "string"
            },
            "text/plain": [
              "'Hôm_nay trời nóng quá nên tôi ở nhà viết Vi@@ blo@@ !'"
            ]
          },
          "execution_count": 59,
          "metadata": {},
          "output_type": "execute_result"
        }
      ],
      "source": [
        "bpe.encode('Hôm_nay trời nóng quá nên tôi ở nhà viết Viblo!')"
      ]
    },
    {
      "cell_type": "code",
      "execution_count": 60,
      "metadata": {
        "colab": {
          "base_uri": "https://localhost:8080/"
        },
        "id": "1kGMuPttiQgc",
        "outputId": "43f819d3-f527-41fb-92f8-3e940b278a52"
      },
      "outputs": [
        {
          "data": {
            "text/plain": [
              "tensor([    0,  3791,  1027,   898,   204,    77,    70,    25,    69,   467,\n",
              "         3696, 16856,   381,     2,     2], dtype=torch.int32)"
            ]
          },
          "execution_count": 60,
          "metadata": {},
          "output_type": "execute_result"
        }
      ],
      "source": [
        "vocab.encode_line('<s> ' + 'Hôm_nay trời nóng quá nên tôi ở nhà viết Vi@@ blo@@ !' + ' </s>')"
      ]
    },
    {
      "cell_type": "code",
      "execution_count": 61,
      "metadata": {
        "colab": {
          "base_uri": "https://localhost:8080/"
        },
        "id": "sBj_2va0iUmD",
        "outputId": "1c6be0ed-f9ff-47e6-9a67-de8185671e1e"
      },
      "outputs": [
        {
          "data": {
            "text/plain": [
              "2    mình cho sao vì thái_độ dịch_vụ khách_hàng tại...\n",
              "3    sản_phẩm tầm giá nhìn cũng đx mình mua cho pa ...\n",
              "6    sản_phẩm mình mua được giao nhanh nhận hàng kh...\n",
              "Name: text, dtype: object"
            ]
          },
          "execution_count": 61,
          "metadata": {},
          "output_type": "execute_result"
        }
      ],
      "source": [
        "X.head(3)"
      ]
    },
    {
      "cell_type": "code",
      "execution_count": 62,
      "metadata": {
        "colab": {
          "base_uri": "https://localhost:8080/"
        },
        "id": "GJFLALCwjLM7",
        "outputId": "48d09055-9d8c-4fa7-a154-7cd4967ad984"
      },
      "outputs": [
        {
          "data": {
            "text/plain": [
              "2    0\n",
              "3    0\n",
              "6    0\n",
              "7    0\n",
              "8    1\n",
              "Name: star, dtype: int64"
            ]
          },
          "execution_count": 62,
          "metadata": {},
          "output_type": "execute_result"
        }
      ],
      "source": [
        "y.head()"
      ]
    },
    {
      "cell_type": "code",
      "execution_count": 63,
      "metadata": {
        "id": "Gp_wsH2jjHaN"
      },
      "outputs": [],
      "source": [
        "from sklearn.model_selection import train_test_split\n",
        "train_sents, val_sents, train_labels, val_labels = train_test_split(X.tolist(), y.tolist(), test_size=0.1)"
      ]
    },
    {
      "cell_type": "code",
      "execution_count": 64,
      "metadata": {
        "id": "vX-7R6DfjWIu"
      },
      "outputs": [],
      "source": [
        "from tensorflow.keras.preprocessing.sequence import pad_sequences\n",
        "MAX_LEN = 125\n",
        "\n",
        "train_ids = []\n",
        "for sent in train_sents:\n",
        "    subwords = '<s> ' + bpe.encode(sent) + ' </s>'\n",
        "    encoded_sent = vocab.encode_line(subwords, append_eos=True, add_if_not_exist=False).long().tolist()\n",
        "    train_ids.append(encoded_sent)\n",
        "\n",
        "val_ids = []\n",
        "for sent in val_sents:\n",
        "    subwords = '<s> ' + bpe.encode(sent) + ' </s>'\n",
        "    encoded_sent = vocab.encode_line(subwords, append_eos=True, add_if_not_exist=False).long().tolist()\n",
        "    val_ids.append(encoded_sent)\n",
        "    \n",
        "train_ids = pad_sequences(train_ids, maxlen=MAX_LEN, dtype=\"long\", value=0, truncating=\"post\", padding=\"post\")\n",
        "val_ids = pad_sequences(val_ids, maxlen=MAX_LEN, dtype=\"long\", value=0, truncating=\"post\", padding=\"post\")"
      ]
    },
    {
      "cell_type": "code",
      "execution_count": 65,
      "metadata": {
        "id": "6VJrTks0jkL7"
      },
      "outputs": [],
      "source": [
        "train_masks = []\n",
        "for sent in train_ids:\n",
        "    mask = [int(token_id > 0) for token_id in sent]\n",
        "    train_masks.append(mask)\n",
        "\n",
        "val_masks = []\n",
        "for sent in val_ids:\n",
        "    mask = [int(token_id > 0) for token_id in sent]\n",
        "\n",
        "    val_masks.append(mask)"
      ]
    },
    {
      "cell_type": "code",
      "execution_count": 66,
      "metadata": {
        "id": "IRk3rq_GjoXp"
      },
      "outputs": [],
      "source": [
        "from torch.utils.data import TensorDataset, DataLoader, RandomSampler, SequentialSampler\n",
        "import torch\n",
        "train_inputs = torch.tensor(train_ids)\n",
        "val_inputs = torch.tensor(val_ids)\n",
        "train_labels = torch.tensor(train_labels)\n",
        "val_labels = torch.tensor(val_labels)\n",
        "train_masks = torch.tensor(train_masks)\n",
        "val_masks = torch.tensor(val_masks)\n",
        "\n",
        "train_data = TensorDataset(train_inputs, train_masks, train_labels)\n",
        "train_sampler = SequentialSampler(train_data)\n",
        "train_dataloader = DataLoader(train_data, sampler=train_sampler, batch_size=32)\n",
        "\n",
        "val_data = TensorDataset(val_inputs, val_masks, val_labels)\n",
        "val_sampler = SequentialSampler(val_data)\n",
        "val_dataloader = DataLoader(val_data, sampler=val_sampler, batch_size=32)"
      ]
    },
    {
      "cell_type": "code",
      "execution_count": 67,
      "metadata": {
        "colab": {
          "base_uri": "https://localhost:8080/"
        },
        "id": "Y-mXKwntkh1s",
        "outputId": "e17dbaab-b425-4cec-e7b8-1ef1065b9436"
      },
      "outputs": [
        {
          "name": "stderr",
          "output_type": "stream",
          "text": [
            "You are using a model of type bert to instantiate a model of type roberta. This is not supported for all configurations of models and can yield errors.\n",
            "Some weights of the model checkpoint at /content/PhoBERT_base_transformers/model.bin were not used when initializing RobertaForSequenceClassification: ['lm_head.layer_norm.weight', 'roberta.pooler.dense.weight', 'roberta.pooler.dense.bias', 'lm_head.layer_norm.bias', 'lm_head.dense.weight', 'lm_head.decoder.weight', 'lm_head.decoder.bias', 'lm_head.dense.bias', 'lm_head.bias']\n",
            "- This IS expected if you are initializing RobertaForSequenceClassification from the checkpoint of a model trained on another task or with another architecture (e.g. initializing a BertForSequenceClassification model from a BertForPreTraining model).\n",
            "- This IS NOT expected if you are initializing RobertaForSequenceClassification from the checkpoint of a model that you expect to be exactly identical (initializing a BertForSequenceClassification model from a BertForSequenceClassification model).\n",
            "Some weights of RobertaForSequenceClassification were not initialized from the model checkpoint at /content/PhoBERT_base_transformers/model.bin and are newly initialized: ['classifier.out_proj.bias', 'classifier.out_proj.weight', 'classifier.dense.weight', 'classifier.dense.bias']\n",
            "You should probably TRAIN this model on a down-stream task to be able to use it for predictions and inference.\n"
          ]
        }
      ],
      "source": [
        "from transformers import RobertaForSequenceClassification, RobertaConfig, AdamW\n",
        "\n",
        "config = RobertaConfig.from_pretrained(\n",
        "    \"/content/PhoBERT_base_transformers/config.json\", from_tf=False, num_labels = 2, output_hidden_states=False,\n",
        ")\n",
        "BERT_SA = RobertaForSequenceClassification.from_pretrained(\n",
        "    \"/content/PhoBERT_base_transformers/model.bin\",\n",
        "    config=config\n",
        ")"
      ]
    },
    {
      "cell_type": "code",
      "execution_count": 68,
      "metadata": {
        "colab": {
          "base_uri": "https://localhost:8080/"
        },
        "id": "7Y9FNSdLzr-c",
        "outputId": "1cf090e1-c14e-429a-c703-0a28374239db"
      },
      "outputs": [
        {
          "name": "stdout",
          "output_type": "stream",
          "text": [
            "Done\n"
          ]
        }
      ],
      "source": [
        "BERT_SA.cuda()\n",
        "print('Done')"
      ]
    },
    {
      "cell_type": "code",
      "execution_count": 69,
      "metadata": {
        "id": "e1ZM7bWC0_SX"
      },
      "outputs": [],
      "source": [
        "import numpy as np\n",
        "from sklearn.metrics import f1_score, accuracy_score\n",
        "\n",
        "def flat_accuracy(preds, labels):\n",
        "    pred_flat = np.argmax(preds, axis=1).flatten()\n",
        "    labels_flat = labels.flatten()\n",
        "    \n",
        "    F1_score = f1_score(pred_flat, labels_flat, average='macro')\n",
        "    \n",
        "    return accuracy_score(pred_flat, labels_flat), F1_score"
      ]
    },
    {
      "cell_type": "code",
      "execution_count": 70,
      "metadata": {
        "colab": {
          "base_uri": "https://localhost:8080/",
          "height": 1000,
          "referenced_widgets": [
            "8238ff3f6c5e46f2b58f01ac021ced3f",
            "bdcfcc19cf2443f99279a4ac37713481",
            "bf1360c7af9f4c919ea6a38c58c94234",
            "1cea4c4863bf40798b67238bc3867a7c",
            "bc1ead227864414592323cd1d59f1ade",
            "618edf49fb284cc8938d2ed8e68a63d2",
            "c13017cee56c455d8c3ee405d4ff2fd2",
            "d413225b24de48a68f5a2e02d5f1dad8",
            "70d65d0540894f62bca07c8fe64167f4",
            "c17d4593a56d483bbc241933a9e333f5",
            "b89bb224542d4de09e7e63c12bad8dca",
            "d67ffa0546604400beddf8d66ff88eb7",
            "d21fc47a6914451f99ebfc6dc15966ce",
            "b8f9ac531fa94de7bec181da8829456e",
            "978633661d874fb5b1f46d8a1adbfcd3",
            "ecfd9bb1bc814ef588fc43b408cc5e13",
            "99d13010fe824e8d921e41fbeb4cee31",
            "2de8add1d5a14b7cbe93a88ef5bcc7b0",
            "9f5e05dde39744ce9b7ca511cd5daafd",
            "f3d7a7adfdb24dfe876b3c954761cb1b",
            "0416ee56d7ec4d209271befb72ed3283",
            "48372cf0689d46739e75af540ea308c1",
            "1215192e98c549ecbf936171d5d046f7",
            "5cb6b8f4167c441c9c3898d85c2c54f5",
            "12381be124484296a957c11a1ca7f999",
            "31f02a5899b946309f9a95a8f6a5cb83",
            "486e13b72c0b424392ba524f6fe7769b",
            "57a390389a664ef19c0747fa9d80ff88",
            "0cf441ec99084d048c1c2b499a8a3def",
            "4dc29b4a213b46de9a7eee2c6eb58449",
            "33c3b1c26ffd4fdab4932ed357b492f2",
            "5a5679038aa648668b0431b6dfeeb441",
            "bfebc62046ae4304bf85f96f7afd80f2",
            "3c3fc61346df48a5a4ad044857b625a7",
            "f7d2baf408104ac484dbaf56fca07b0a",
            "9754116820f44797bafb416886e0d816",
            "d81478cd78ee41cfaad143b2ac69afbb",
            "462186ae058646f48e57dffbb02b18e1",
            "ae4685ad4bef4e88970b7430b2ef6fee",
            "df16ce72e5714720955fd8324a4de8ab",
            "0d011f46687a40ed9a899f7b3ccd4601",
            "f61c1a65360740108dc17f508e5d8845",
            "15ffad8fff4348aeba05e6fda29e79ef",
            "bec3fdbc8be34c71b7241ba31d7fd513",
            "9a27e18821fb4c3ba6090c7d4fa8995e",
            "d75b00f073ef43468c3b5c744e97ee56",
            "1654aeb2e77c4276bc0ffe4d639f3935",
            "5203862ac2834c7eace05f2459ae7a47",
            "c7763fa9464e417f8ba7b87d536af517",
            "a59037926b644497a6a2fdf50892e30c",
            "637a8ceefad44655b8b072bb6a2feb97",
            "7a10d758f1f74341b4124e6c55e778ec",
            "88758ac397a54dc0a923cb1d586c03d7",
            "e372b2cbfca0463591fa104c735226d6",
            "6b6b3826b6484f4db5c8d0d04bcbd687",
            "1ef0011b036d4463a65114a88c7e5238",
            "a8a86ddf11334122a0081e7b9988baf9",
            "ec534f930a1445b2b829b93727140da8",
            "7878a77247304ad3818ed5aa59397e51",
            "6d358a73fc254f7384faf189ecd83e13",
            "6f358d607ae2457e9e0d6da13177b742",
            "936984bf78514b0dae632e982a11ff1d",
            "98175c5fc04f41e9824a3da488b09982",
            "a80365416f454dc5997f8891d10032c1",
            "d3bed07643b54e908f94cd8887677b58",
            "1fb204d589c2444ebaaf33d6b3bfda88",
            "e52800d7f36846fba205448d415119d0",
            "15cfd86817a444e29e976efb689d8e53",
            "52a543d2a01f40478844d8adcab55177",
            "8d7ea84965e14b428b0b006a103d4550",
            "ff7011c048a649b0992a67405c34531e",
            "42b20c7a44c44daf8d7a5fb570086c13",
            "f1f00df5854d413c9179ce98fcab9126",
            "2ea5d4c0127141e8b998307fe6fcb8ad",
            "18f6929f4c124d57974536cf07b92344",
            "7077e9b24cc5421f9a8eb8f2aeab07f9",
            "b342308ea51040109fca619a9ba54e87",
            "3654da9e90734a109e14851b2624bf50",
            "387b2cf5941b4de4b2c9b3c3d66bea85",
            "6f81e7d34a2e49ecb233daba546b868c",
            "75aecbfb431045eb8c13e437997af52f",
            "70b759a03d2b45729bbad47367dfbb0b",
            "1c31b719fec04c149d35d0e919694665",
            "1f04d638204f46eba54d5072efef770b",
            "270dcfd34f0f4b4298e620ce655c17b8",
            "b4d9586ceeec463d96da186aa5c81770",
            "df58eef33389407cbe8b7c4867f0eca1",
            "abab3b4d1b474c2cbc9bdd60ed1ff178",
            "626f29ec746c43b598190788332ff5d5",
            "8c187d13db824fa09a5a986b3881d8ed",
            "ccd63af5dcd549d3be2883a7eea0317a",
            "71a2784ce9484d0a9da97d3e960878c1",
            "aa5d0f89d60940c5af04d04ee1eaae0d",
            "6a583eaa66d643389f99918f9238b23e",
            "731e79d60bf2447ea041dfafaa31aff6",
            "b074ffa4fb6c40d9a1769e0294fa79e0",
            "ba9bb5d2335049bca26c74347bbc1d09",
            "259f742dc5994d7da5278efdc527c1ea",
            "589518986ed346a0b5b77e98399241d7",
            "a6fe9dbe90864e28ba5e4301791d88bd",
            "4adaeb7cf3f84790870c1f7604b4cc1f",
            "cb093bf4bc7648f7b44d9c6467c95ec4",
            "4f0ebc5ab1734431bbc46baf50342f87",
            "6d716e87412b462ababed26a16c72bf6",
            "d3c56d1f7e404bd59efab8af4676d33d",
            "466a228413e445e1aa0a473af72e8493",
            "7012c976cbbe4c948cb0d864aec71ff4",
            "0d827e5798764816bfe587ce9bf6346e",
            "e5a60baaaf5c46889e5e4e257d8adabf",
            "b07b5f50cf4f41cb9501004ad26b92d8",
            "4eaaf5de583346e79ce2ce21819724b3",
            "f7a3f39693d14bdab93f65c609dc2335",
            "171b86a8568a4e5cb37ac3c3f2e26944",
            "d508f09fd66943079fb45d95d35865f8",
            "d3e986579f93425b8611902e889d2c2e",
            "f41881d2ae7947d98aaa7fea3a65d271",
            "e4697ecbec14462ca6dd9f274118c941",
            "665eb59d7e68413d8341982291a8a28e",
            "3b198d4a63324cbd99935958acbaaa9c",
            "852b5d5a59d94be0a72310d0a651d530",
            "b615a20e99f7467ca3a47132e6d1eb3b",
            "41acfd576c644c19b26e40c24fd6be9a",
            "742adac20ce44ec29c8f4197ea22b3c6",
            "9b7696ed9db24674820826decab01efc",
            "ffc0d978ab3f4d678ef8ce034dfb5d91",
            "5b917e26a6554ada8354c6793f600fc5",
            "937cce12547a4bc283ef6a037f496a2f",
            "5a3770ce927840729d371641426e4731",
            "0a6ab88163604fd8a19a385b336b5502",
            "8e27d3e5b1684b2ab71a58f760b68893",
            "501a5a5884944f668a73843a734ee269",
            "9b2832264bff40b4b03712d5b43ba0a2",
            "a17bd04e95e04553a4f9029f683a8163",
            "941f64ce7be941d895a993a091003156",
            "a352361c7c0d42498e080792be604e12",
            "65ef154df5614d2badcf3e5c8ca9777e",
            "809b955f390347d0b5cb574af0b074e4",
            "edbeef17d8ba48c5b853aaee26ecc9af",
            "14035c244a7a444d8b503c83cd7cab39",
            "8b57654af9e1497ea69d3f20d05c7a17",
            "7242e5d7b8154487965667e4312cbe82",
            "1790f79c46784779bc574eaaf4ac7b7c",
            "b73baa6a3cda43978ef3432b4a9f127d",
            "0c961ddaf2e54799861cf89956a510e0",
            "03f09828b04e4ed5806af0bfd5ce8062",
            "9791faab87e247ba9106ca7f2c6328e5",
            "fb55b23ae30d48a5983fbfa3f1cb6090",
            "548cdd4874a94178a6df5342ee49e0db",
            "450318aec33441e5ad54a8612b472940",
            "730444c6897b4ad3a38cc59261ba3051",
            "0b28abe84564453088b1a3ae6445c1f8",
            "e51ebddb49b84235a901562a692d0f79",
            "5cee9c35eb69491b9fb292b67b802a64",
            "1577d5b5e8a045d1a9124899b8b60e22",
            "e6599c527feb4c648a2db96c79af7e71",
            "f27ddbdd1ab24a02b31edada951fdeee",
            "97c9bb47b64f4dd097cc7d6696b202b0",
            "9e637ff6ea2b498c8f16500b5bf36074",
            "127820f3ad694bc9b1516f30d0ab17cd",
            "5a53594c5e2c4c29afa2f65b0d02d3bc",
            "4a3d527d7f1d48b1a0a1594771f6d150",
            "c8510f35a40d4885bbdcf58f6226bdb4",
            "ad0ca578b0ad4267a9545121d23961bb",
            "37b7bcb7128a481f8a6489122c032d18",
            "ea3a86fc484f4634947b1d250d00a2aa",
            "abdc1115a91341d3b39d78537a057369",
            "f804982663b946a7b3c279da52bffdb8",
            "07cf1c4149b643fbb6ade35f9c4392ab",
            "dce4391ec0154c8396184a4210a0c1db",
            "d1940b70e4c4461f92c8176c1a4716bc",
            "fef79ca8d2f04df29b8b795de4f1a360",
            "cbb78fa512e44308b3054b4eeaa0aa65",
            "ab2e72531e1c4af48608e812bd1edd84",
            "30e946a9ae6e48268ac4690b0e2f903d",
            "0c70b92fff6e4ab492b04e877a36968f",
            "357c0a1f8b3f41b4b5647f6e119d65df",
            "378335aa135049cba6efded141aabe3b",
            "0a156fa5edc84ae49e3a75cd3de9c61b",
            "e47d09de72ac445e85d6362d837586ee",
            "d66a589f2eaa4234970b0b7a4d691a2c",
            "c4b718863abf4831b319a9364f1009c1",
            "417b73d515c0402d8c6321ee731c7a11",
            "72da24cf925a4c91b2137d90764ac541",
            "c4a7c091255d4a58bd437e2da280bac0",
            "2edd0fed639d4c1bb8e05043f38b08db",
            "4bbf0d87f689421a982064fdc063e174",
            "8d7621757d2048e0ae9e0125f74724f8",
            "65d4541bec3b4d979c4260460f1d7cf2",
            "3eb33e6eb2d94115baaa09bd7cea3a98",
            "0df71641be594cdc976dd1dac0f40a86",
            "234037c822c34dd88628281048e3f078",
            "a69af22933fe422e863e70408b309713",
            "e9a04b0341d744dfa746ea2608239dbd",
            "e82453afea204f44af47ee2c26be4cf7",
            "ad5c27f815a5406c92b4e42d5de5f023",
            "c7cc68f617ac490399f9e8fca9e886db",
            "5fd0a06bf3cf4c2bbccdb38f27341ff9",
            "f802e349b8474590ac4c7953eab9b4e8",
            "339ad82906be4b0d8df942c2cec9962a",
            "f1a7a22c6e7843e69f2044118aad9702",
            "b2772efdb16a446d95050f2c7e800b37",
            "c2f82a57fb114e54805de080fa9a426b",
            "0506f4fd1e79491cbec8a2c07007ca2b",
            "7a1a5756cb314f1183881e01024dd0d0",
            "3332b41775ca449b8b638354a76f99b6",
            "29f3efb7ad5f421680017c0d2724c2ba",
            "cc10847d398e4b749db6e8bad07fe964",
            "b9e2d0ac33804d06a740f9a9e2e9b713",
            "cc346f00ba3a4d4a9038f8cd269c1a17",
            "057fa83ef74f43209aaa723f322fe4ec",
            "ca06600d259849df96a1398ea9ca41c1",
            "838cc63a7d404c3594792664e72aa865",
            "5284933b0e674e26916d9ebdf21672ee",
            "734c87d309ed48a5b5b97379ff33b008",
            "6a6bced8baf842318ad9f9ffd89f3d23",
            "0e2bf752f38e4f39a47ff03e3fb67892",
            "00e61ae39d5a4a7a9821af3564343985",
            "c792f8235c0d4306b00e7948876657b4",
            "f2649d42af4b4f5dbfbba4b1e36584ca",
            "70c1f1c8e72b41aba1a5378cbaec4864"
          ]
        },
        "id": "Jrs9r7Xx1HvG",
        "outputId": "ecc94df5-8474-4244-d4ae-2c20b0ce72e8"
      },
      "outputs": [
        {
          "name": "stdout",
          "output_type": "stream",
          "text": [
            "======== Epoch 1 / 10 ========\n",
            "Training...\n"
          ]
        },
        {
          "name": "stderr",
          "output_type": "stream",
          "text": [
            "/usr/local/lib/python3.7/dist-packages/ipykernel_launcher.py:26: TqdmDeprecationWarning: This function will be removed in tqdm==5.0.0\n",
            "Please use `tqdm.notebook.tqdm` instead of `tqdm.tqdm_notebook`\n"
          ]
        },
        {
          "data": {
            "application/vnd.jupyter.widget-view+json": {
              "model_id": "8238ff3f6c5e46f2b58f01ac021ced3f",
              "version_major": 2,
              "version_minor": 0
            },
            "text/plain": [
              "0it [00:00, ?it/s]"
            ]
          },
          "metadata": {},
          "output_type": "display_data"
        },
        {
          "name": "stdout",
          "output_type": "stream",
          "text": [
            " Accuracy: 0.7686\n",
            " F1 score: 0.7563\n",
            " Average training loss: 0.4868\n",
            "Running Validation...\n"
          ]
        },
        {
          "name": "stderr",
          "output_type": "stream",
          "text": [
            "/usr/local/lib/python3.7/dist-packages/ipykernel_launcher.py:60: TqdmDeprecationWarning: This function will be removed in tqdm==5.0.0\n",
            "Please use `tqdm.notebook.tqdm` instead of `tqdm.tqdm_notebook`\n"
          ]
        },
        {
          "data": {
            "application/vnd.jupyter.widget-view+json": {
              "model_id": "d67ffa0546604400beddf8d66ff88eb7",
              "version_major": 2,
              "version_minor": 0
            },
            "text/plain": [
              "  0%|          | 0/16 [00:00<?, ?it/s]"
            ]
          },
          "metadata": {},
          "output_type": "display_data"
        },
        {
          "name": "stdout",
          "output_type": "stream",
          "text": [
            " Accuracy: 0.8691\n",
            " F1 score: 0.8661\n",
            "======== Epoch 2 / 10 ========\n",
            "Training...\n"
          ]
        },
        {
          "name": "stderr",
          "output_type": "stream",
          "text": [
            "/usr/local/lib/python3.7/dist-packages/ipykernel_launcher.py:26: TqdmDeprecationWarning: This function will be removed in tqdm==5.0.0\n",
            "Please use `tqdm.notebook.tqdm` instead of `tqdm.tqdm_notebook`\n"
          ]
        },
        {
          "data": {
            "application/vnd.jupyter.widget-view+json": {
              "model_id": "1215192e98c549ecbf936171d5d046f7",
              "version_major": 2,
              "version_minor": 0
            },
            "text/plain": [
              "0it [00:00, ?it/s]"
            ]
          },
          "metadata": {},
          "output_type": "display_data"
        },
        {
          "name": "stdout",
          "output_type": "stream",
          "text": [
            " Accuracy: 0.8387\n",
            " F1 score: 0.8332\n",
            " Average training loss: 0.3762\n",
            "Running Validation...\n"
          ]
        },
        {
          "name": "stderr",
          "output_type": "stream",
          "text": [
            "/usr/local/lib/python3.7/dist-packages/ipykernel_launcher.py:60: TqdmDeprecationWarning: This function will be removed in tqdm==5.0.0\n",
            "Please use `tqdm.notebook.tqdm` instead of `tqdm.tqdm_notebook`\n"
          ]
        },
        {
          "data": {
            "application/vnd.jupyter.widget-view+json": {
              "model_id": "3c3fc61346df48a5a4ad044857b625a7",
              "version_major": 2,
              "version_minor": 0
            },
            "text/plain": [
              "  0%|          | 0/16 [00:00<?, ?it/s]"
            ]
          },
          "metadata": {},
          "output_type": "display_data"
        },
        {
          "name": "stdout",
          "output_type": "stream",
          "text": [
            " Accuracy: 0.8633\n",
            " F1 score: 0.8612\n",
            "======== Epoch 3 / 10 ========\n",
            "Training...\n"
          ]
        },
        {
          "name": "stderr",
          "output_type": "stream",
          "text": [
            "/usr/local/lib/python3.7/dist-packages/ipykernel_launcher.py:26: TqdmDeprecationWarning: This function will be removed in tqdm==5.0.0\n",
            "Please use `tqdm.notebook.tqdm` instead of `tqdm.tqdm_notebook`\n"
          ]
        },
        {
          "data": {
            "application/vnd.jupyter.widget-view+json": {
              "model_id": "9a27e18821fb4c3ba6090c7d4fa8995e",
              "version_major": 2,
              "version_minor": 0
            },
            "text/plain": [
              "0it [00:00, ?it/s]"
            ]
          },
          "metadata": {},
          "output_type": "display_data"
        },
        {
          "name": "stdout",
          "output_type": "stream",
          "text": [
            " Accuracy: 0.8823\n",
            " F1 score: 0.8782\n",
            " Average training loss: 0.2963\n",
            "Running Validation...\n"
          ]
        },
        {
          "name": "stderr",
          "output_type": "stream",
          "text": [
            "/usr/local/lib/python3.7/dist-packages/ipykernel_launcher.py:60: TqdmDeprecationWarning: This function will be removed in tqdm==5.0.0\n",
            "Please use `tqdm.notebook.tqdm` instead of `tqdm.tqdm_notebook`\n"
          ]
        },
        {
          "data": {
            "application/vnd.jupyter.widget-view+json": {
              "model_id": "1ef0011b036d4463a65114a88c7e5238",
              "version_major": 2,
              "version_minor": 0
            },
            "text/plain": [
              "  0%|          | 0/16 [00:00<?, ?it/s]"
            ]
          },
          "metadata": {},
          "output_type": "display_data"
        },
        {
          "name": "stdout",
          "output_type": "stream",
          "text": [
            " Accuracy: 0.8750\n",
            " F1 score: 0.8734\n",
            "======== Epoch 4 / 10 ========\n",
            "Training...\n"
          ]
        },
        {
          "name": "stderr",
          "output_type": "stream",
          "text": [
            "/usr/local/lib/python3.7/dist-packages/ipykernel_launcher.py:26: TqdmDeprecationWarning: This function will be removed in tqdm==5.0.0\n",
            "Please use `tqdm.notebook.tqdm` instead of `tqdm.tqdm_notebook`\n"
          ]
        },
        {
          "data": {
            "application/vnd.jupyter.widget-view+json": {
              "model_id": "e52800d7f36846fba205448d415119d0",
              "version_major": 2,
              "version_minor": 0
            },
            "text/plain": [
              "0it [00:00, ?it/s]"
            ]
          },
          "metadata": {},
          "output_type": "display_data"
        },
        {
          "name": "stdout",
          "output_type": "stream",
          "text": [
            " Accuracy: 0.9104\n",
            " F1 score: 0.9077\n",
            " Average training loss: 0.2477\n",
            "Running Validation...\n"
          ]
        },
        {
          "name": "stderr",
          "output_type": "stream",
          "text": [
            "/usr/local/lib/python3.7/dist-packages/ipykernel_launcher.py:60: TqdmDeprecationWarning: This function will be removed in tqdm==5.0.0\n",
            "Please use `tqdm.notebook.tqdm` instead of `tqdm.tqdm_notebook`\n"
          ]
        },
        {
          "data": {
            "application/vnd.jupyter.widget-view+json": {
              "model_id": "3654da9e90734a109e14851b2624bf50",
              "version_major": 2,
              "version_minor": 0
            },
            "text/plain": [
              "  0%|          | 0/16 [00:00<?, ?it/s]"
            ]
          },
          "metadata": {},
          "output_type": "display_data"
        },
        {
          "name": "stdout",
          "output_type": "stream",
          "text": [
            " Accuracy: 0.8867\n",
            " F1 score: 0.8852\n",
            "======== Epoch 5 / 10 ========\n",
            "Training...\n"
          ]
        },
        {
          "name": "stderr",
          "output_type": "stream",
          "text": [
            "/usr/local/lib/python3.7/dist-packages/ipykernel_launcher.py:26: TqdmDeprecationWarning: This function will be removed in tqdm==5.0.0\n",
            "Please use `tqdm.notebook.tqdm` instead of `tqdm.tqdm_notebook`\n"
          ]
        },
        {
          "data": {
            "application/vnd.jupyter.widget-view+json": {
              "model_id": "626f29ec746c43b598190788332ff5d5",
              "version_major": 2,
              "version_minor": 0
            },
            "text/plain": [
              "0it [00:00, ?it/s]"
            ]
          },
          "metadata": {},
          "output_type": "display_data"
        },
        {
          "name": "stdout",
          "output_type": "stream",
          "text": [
            " Accuracy: 0.9260\n",
            " F1 score: 0.9237\n",
            " Average training loss: 0.2123\n",
            "Running Validation...\n"
          ]
        },
        {
          "name": "stderr",
          "output_type": "stream",
          "text": [
            "/usr/local/lib/python3.7/dist-packages/ipykernel_launcher.py:60: TqdmDeprecationWarning: This function will be removed in tqdm==5.0.0\n",
            "Please use `tqdm.notebook.tqdm` instead of `tqdm.tqdm_notebook`\n"
          ]
        },
        {
          "data": {
            "application/vnd.jupyter.widget-view+json": {
              "model_id": "a6fe9dbe90864e28ba5e4301791d88bd",
              "version_major": 2,
              "version_minor": 0
            },
            "text/plain": [
              "  0%|          | 0/16 [00:00<?, ?it/s]"
            ]
          },
          "metadata": {},
          "output_type": "display_data"
        },
        {
          "name": "stdout",
          "output_type": "stream",
          "text": [
            " Accuracy: 0.8672\n",
            " F1 score: 0.8656\n",
            "======== Epoch 6 / 10 ========\n",
            "Training...\n"
          ]
        },
        {
          "name": "stderr",
          "output_type": "stream",
          "text": [
            "/usr/local/lib/python3.7/dist-packages/ipykernel_launcher.py:26: TqdmDeprecationWarning: This function will be removed in tqdm==5.0.0\n",
            "Please use `tqdm.notebook.tqdm` instead of `tqdm.tqdm_notebook`\n"
          ]
        },
        {
          "data": {
            "application/vnd.jupyter.widget-view+json": {
              "model_id": "4eaaf5de583346e79ce2ce21819724b3",
              "version_major": 2,
              "version_minor": 0
            },
            "text/plain": [
              "0it [00:00, ?it/s]"
            ]
          },
          "metadata": {},
          "output_type": "display_data"
        },
        {
          "name": "stdout",
          "output_type": "stream",
          "text": [
            " Accuracy: 0.9395\n",
            " F1 score: 0.9375\n",
            " Average training loss: 0.1728\n",
            "Running Validation...\n"
          ]
        },
        {
          "name": "stderr",
          "output_type": "stream",
          "text": [
            "/usr/local/lib/python3.7/dist-packages/ipykernel_launcher.py:60: TqdmDeprecationWarning: This function will be removed in tqdm==5.0.0\n",
            "Please use `tqdm.notebook.tqdm` instead of `tqdm.tqdm_notebook`\n"
          ]
        },
        {
          "data": {
            "application/vnd.jupyter.widget-view+json": {
              "model_id": "41acfd576c644c19b26e40c24fd6be9a",
              "version_major": 2,
              "version_minor": 0
            },
            "text/plain": [
              "  0%|          | 0/16 [00:00<?, ?it/s]"
            ]
          },
          "metadata": {},
          "output_type": "display_data"
        },
        {
          "name": "stdout",
          "output_type": "stream",
          "text": [
            " Accuracy: 0.8672\n",
            " F1 score: 0.8657\n",
            "======== Epoch 7 / 10 ========\n",
            "Training...\n"
          ]
        },
        {
          "name": "stderr",
          "output_type": "stream",
          "text": [
            "/usr/local/lib/python3.7/dist-packages/ipykernel_launcher.py:26: TqdmDeprecationWarning: This function will be removed in tqdm==5.0.0\n",
            "Please use `tqdm.notebook.tqdm` instead of `tqdm.tqdm_notebook`\n"
          ]
        },
        {
          "data": {
            "application/vnd.jupyter.widget-view+json": {
              "model_id": "a17bd04e95e04553a4f9029f683a8163",
              "version_major": 2,
              "version_minor": 0
            },
            "text/plain": [
              "0it [00:00, ?it/s]"
            ]
          },
          "metadata": {},
          "output_type": "display_data"
        },
        {
          "name": "stdout",
          "output_type": "stream",
          "text": [
            " Accuracy: 0.9512\n",
            " F1 score: 0.9496\n",
            " Average training loss: 0.1501\n",
            "Running Validation...\n"
          ]
        },
        {
          "name": "stderr",
          "output_type": "stream",
          "text": [
            "/usr/local/lib/python3.7/dist-packages/ipykernel_launcher.py:60: TqdmDeprecationWarning: This function will be removed in tqdm==5.0.0\n",
            "Please use `tqdm.notebook.tqdm` instead of `tqdm.tqdm_notebook`\n"
          ]
        },
        {
          "data": {
            "application/vnd.jupyter.widget-view+json": {
              "model_id": "0c961ddaf2e54799861cf89956a510e0",
              "version_major": 2,
              "version_minor": 0
            },
            "text/plain": [
              "  0%|          | 0/16 [00:00<?, ?it/s]"
            ]
          },
          "metadata": {},
          "output_type": "display_data"
        },
        {
          "name": "stdout",
          "output_type": "stream",
          "text": [
            " Accuracy: 0.8633\n",
            " F1 score: 0.8606\n",
            "======== Epoch 8 / 10 ========\n",
            "Training...\n"
          ]
        },
        {
          "name": "stderr",
          "output_type": "stream",
          "text": [
            "/usr/local/lib/python3.7/dist-packages/ipykernel_launcher.py:26: TqdmDeprecationWarning: This function will be removed in tqdm==5.0.0\n",
            "Please use `tqdm.notebook.tqdm` instead of `tqdm.tqdm_notebook`\n"
          ]
        },
        {
          "data": {
            "application/vnd.jupyter.widget-view+json": {
              "model_id": "e6599c527feb4c648a2db96c79af7e71",
              "version_major": 2,
              "version_minor": 0
            },
            "text/plain": [
              "0it [00:00, ?it/s]"
            ]
          },
          "metadata": {},
          "output_type": "display_data"
        },
        {
          "name": "stdout",
          "output_type": "stream",
          "text": [
            " Accuracy: 0.9646\n",
            " F1 score: 0.9633\n",
            " Average training loss: 0.1105\n",
            "Running Validation...\n"
          ]
        },
        {
          "name": "stderr",
          "output_type": "stream",
          "text": [
            "/usr/local/lib/python3.7/dist-packages/ipykernel_launcher.py:60: TqdmDeprecationWarning: This function will be removed in tqdm==5.0.0\n",
            "Please use `tqdm.notebook.tqdm` instead of `tqdm.tqdm_notebook`\n"
          ]
        },
        {
          "data": {
            "application/vnd.jupyter.widget-view+json": {
              "model_id": "abdc1115a91341d3b39d78537a057369",
              "version_major": 2,
              "version_minor": 0
            },
            "text/plain": [
              "  0%|          | 0/16 [00:00<?, ?it/s]"
            ]
          },
          "metadata": {},
          "output_type": "display_data"
        },
        {
          "name": "stdout",
          "output_type": "stream",
          "text": [
            " Accuracy: 0.8691\n",
            " F1 score: 0.8675\n",
            "======== Epoch 9 / 10 ========\n",
            "Training...\n"
          ]
        },
        {
          "name": "stderr",
          "output_type": "stream",
          "text": [
            "/usr/local/lib/python3.7/dist-packages/ipykernel_launcher.py:26: TqdmDeprecationWarning: This function will be removed in tqdm==5.0.0\n",
            "Please use `tqdm.notebook.tqdm` instead of `tqdm.tqdm_notebook`\n"
          ]
        },
        {
          "data": {
            "application/vnd.jupyter.widget-view+json": {
              "model_id": "378335aa135049cba6efded141aabe3b",
              "version_major": 2,
              "version_minor": 0
            },
            "text/plain": [
              "0it [00:00, ?it/s]"
            ]
          },
          "metadata": {},
          "output_type": "display_data"
        },
        {
          "name": "stdout",
          "output_type": "stream",
          "text": [
            " Accuracy: 0.9683\n",
            " F1 score: 0.9674\n",
            " Average training loss: 0.0958\n",
            "Running Validation...\n"
          ]
        },
        {
          "name": "stderr",
          "output_type": "stream",
          "text": [
            "/usr/local/lib/python3.7/dist-packages/ipykernel_launcher.py:60: TqdmDeprecationWarning: This function will be removed in tqdm==5.0.0\n",
            "Please use `tqdm.notebook.tqdm` instead of `tqdm.tqdm_notebook`\n"
          ]
        },
        {
          "data": {
            "application/vnd.jupyter.widget-view+json": {
              "model_id": "65d4541bec3b4d979c4260460f1d7cf2",
              "version_major": 2,
              "version_minor": 0
            },
            "text/plain": [
              "  0%|          | 0/16 [00:00<?, ?it/s]"
            ]
          },
          "metadata": {},
          "output_type": "display_data"
        },
        {
          "name": "stdout",
          "output_type": "stream",
          "text": [
            " Accuracy: 0.8613\n",
            " F1 score: 0.8591\n",
            "======== Epoch 10 / 10 ========\n",
            "Training...\n"
          ]
        },
        {
          "name": "stderr",
          "output_type": "stream",
          "text": [
            "/usr/local/lib/python3.7/dist-packages/ipykernel_launcher.py:26: TqdmDeprecationWarning: This function will be removed in tqdm==5.0.0\n",
            "Please use `tqdm.notebook.tqdm` instead of `tqdm.tqdm_notebook`\n"
          ]
        },
        {
          "data": {
            "application/vnd.jupyter.widget-view+json": {
              "model_id": "339ad82906be4b0d8df942c2cec9962a",
              "version_major": 2,
              "version_minor": 0
            },
            "text/plain": [
              "0it [00:00, ?it/s]"
            ]
          },
          "metadata": {},
          "output_type": "display_data"
        },
        {
          "name": "stdout",
          "output_type": "stream",
          "text": [
            " Accuracy: 0.9731\n",
            " F1 score: 0.9722\n",
            " Average training loss: 0.0862\n",
            "Running Validation...\n"
          ]
        },
        {
          "name": "stderr",
          "output_type": "stream",
          "text": [
            "/usr/local/lib/python3.7/dist-packages/ipykernel_launcher.py:60: TqdmDeprecationWarning: This function will be removed in tqdm==5.0.0\n",
            "Please use `tqdm.notebook.tqdm` instead of `tqdm.tqdm_notebook`\n"
          ]
        },
        {
          "data": {
            "application/vnd.jupyter.widget-view+json": {
              "model_id": "057fa83ef74f43209aaa723f322fe4ec",
              "version_major": 2,
              "version_minor": 0
            },
            "text/plain": [
              "  0%|          | 0/16 [00:00<?, ?it/s]"
            ]
          },
          "metadata": {},
          "output_type": "display_data"
        },
        {
          "name": "stdout",
          "output_type": "stream",
          "text": [
            " Accuracy: 0.8555\n",
            " F1 score: 0.8535\n",
            "Training complete!\n"
          ]
        }
      ],
      "source": [
        "import random\n",
        "from tqdm import tqdm_notebook\n",
        "device = 'cuda'\n",
        "epochs = 10\n",
        "\n",
        "param_optimizer = list(BERT_SA.named_parameters())\n",
        "no_decay = ['bias', 'LayerNorm.bias', 'LayerNorm.weight']\n",
        "optimizer_grouped_parameters = [\n",
        "    {'params': [p for n, p in param_optimizer if not any(nd in n for nd in no_decay)], 'weight_decay': 0.01},\n",
        "    {'params': [p for n, p in param_optimizer if any(nd in n for nd in no_decay)], 'weight_decay': 0.0}\n",
        "]\n",
        "\n",
        "optimizer = AdamW(optimizer_grouped_parameters, lr=1e-5, correct_bias=False)\n",
        "\n",
        "\n",
        "for epoch_i in range(0, epochs):\n",
        "    print('======== Epoch {:} / {:} ========'.format(epoch_i + 1, epochs))\n",
        "    print('Training...')\n",
        "\n",
        "    total_loss = 0\n",
        "    BERT_SA.train()\n",
        "    train_accuracy = 0\n",
        "    nb_train_steps = 0\n",
        "    train_f1 = 0\n",
        "    \n",
        "    for step, batch in tqdm_notebook(enumerate(train_dataloader)):\n",
        "        b_input_ids = batch[0].to(device)\n",
        "        b_input_mask = batch[1].to(device)\n",
        "        b_labels = batch[2].to(device)\n",
        "\n",
        "        BERT_SA.zero_grad()\n",
        "        outputs = BERT_SA(b_input_ids, \n",
        "            token_type_ids=None, \n",
        "            attention_mask=b_input_mask, \n",
        "            labels=b_labels)\n",
        "        loss = outputs[0]\n",
        "        total_loss += loss.item()\n",
        "        \n",
        "        logits = outputs[1].detach().cpu().numpy()\n",
        "        label_ids = b_labels.to('cpu').numpy()\n",
        "        tmp_train_accuracy, tmp_train_f1 = flat_accuracy(logits, label_ids)\n",
        "        train_accuracy += tmp_train_accuracy\n",
        "        train_f1 += tmp_train_f1\n",
        "        nb_train_steps += 1\n",
        "        \n",
        "        loss.backward()\n",
        "        torch.nn.utils.clip_grad_norm_(BERT_SA.parameters(), 1.0)\n",
        "        optimizer.step()\n",
        "        \n",
        "    avg_train_loss = total_loss / len(train_dataloader)\n",
        "    print(\" Accuracy: {0:.4f}\".format(train_accuracy/nb_train_steps))\n",
        "    print(\" F1 score: {0:.4f}\".format(train_f1/nb_train_steps))\n",
        "    print(\" Average training loss: {0:.4f}\".format(avg_train_loss))\n",
        "\n",
        "    print(\"Running Validation...\")\n",
        "    BERT_SA.eval()\n",
        "    eval_loss, eval_accuracy = 0, 0\n",
        "    nb_eval_steps, nb_eval_examples = 0, 0\n",
        "    eval_f1 = 0\n",
        "    for batch in tqdm_notebook(val_dataloader):\n",
        "\n",
        "        batch = tuple(t.to(device) for t in batch)\n",
        "\n",
        "        b_input_ids, b_input_mask, b_labels = batch\n",
        "\n",
        "        with torch.no_grad():\n",
        "            outputs = BERT_SA(b_input_ids, \n",
        "            token_type_ids=None, \n",
        "            attention_mask=b_input_mask)\n",
        "            logits = outputs[0]\n",
        "            logits = logits.detach().cpu().numpy()\n",
        "            label_ids = b_labels.to('cpu').numpy()\n",
        "\n",
        "            tmp_eval_accuracy, tmp_eval_f1 = flat_accuracy(logits, label_ids)\n",
        "\n",
        "            eval_accuracy += tmp_eval_accuracy\n",
        "            eval_f1 += tmp_eval_f1\n",
        "            nb_eval_steps += 1\n",
        "    print(\" Accuracy: {0:.4f}\".format(eval_accuracy/nb_eval_steps))\n",
        "    print(\" F1 score: {0:.4f}\".format(eval_f1/nb_eval_steps))\n",
        "print(\"Training complete!\")"
      ]
    },
    {
      "cell_type": "markdown",
      "metadata": {
        "id": "Pi_3rXYr5VNg"
      },
      "source": [
        "<strong>Kết quả huấn luyện lần 1</strong>\n",
        "\n",
        "Accuracy: 0.7695\n",
        "\n",
        "F1 score: 0.7616\n",
        "\n",
        "<strong>Lần 2 khi không xóa từ dừng</strong>\n",
        "\n",
        "Accuracy: 0.8555\n",
        "\n",
        "F1 score: 0.8535\n"
      ]
    }
  ],
  "metadata": {
    "accelerator": "GPU",
    "colab": {
      "collapsed_sections": [
        "TKqnrVj0ZYIk",
        "i33DWOwJNt16",
        "-wdWh1u7Nt16",
        "hrnzNIL1Nt19",
        "gru79kgYZYIo",
        "0D3slXpgZYIp",
        "4m3Kmbd8ZYIp",
        "O5yeKkHDZYIq",
        "VVD8RGeVZYIq",
        "bDqW-vctZYIr",
        "7k0BvQhrZYIr",
        "If80UnkuW6vC",
        "HrZIGskjNt1_"
      ],
      "name": "train.ipynb",
      "provenance": []
    },
    "kernelspec": {
      "display_name": "Python 3",
      "language": "python",
      "name": "python3"
    },
    "language_info": {
      "codemirror_mode": {
        "name": "ipython",
        "version": 3
      },
      "file_extension": ".py",
      "mimetype": "text/x-python",
      "name": "python",
      "nbconvert_exporter": "python",
      "pygments_lexer": "ipython3",
      "version": "3.8.3"
    },
    "widgets": {
      "application/vnd.jupyter.widget-state+json": {
        "00e61ae39d5a4a7a9821af3564343985": {
          "model_module": "@jupyter-widgets/controls",
          "model_module_version": "1.5.0",
          "model_name": "ProgressStyleModel",
          "state": {
            "_model_module": "@jupyter-widgets/controls",
            "_model_module_version": "1.5.0",
            "_model_name": "ProgressStyleModel",
            "_view_count": null,
            "_view_module": "@jupyter-widgets/base",
            "_view_module_version": "1.2.0",
            "_view_name": "StyleView",
            "bar_color": null,
            "description_width": ""
          }
        },
        "03f09828b04e4ed5806af0bfd5ce8062": {
          "model_module": "@jupyter-widgets/base",
          "model_module_version": "1.2.0",
          "model_name": "LayoutModel",
          "state": {
            "_model_module": "@jupyter-widgets/base",
            "_model_module_version": "1.2.0",
            "_model_name": "LayoutModel",
            "_view_count": null,
            "_view_module": "@jupyter-widgets/base",
            "_view_module_version": "1.2.0",
            "_view_name": "LayoutView",
            "align_content": null,
            "align_items": null,
            "align_self": null,
            "border": null,
            "bottom": null,
            "display": null,
            "flex": null,
            "flex_flow": null,
            "grid_area": null,
            "grid_auto_columns": null,
            "grid_auto_flow": null,
            "grid_auto_rows": null,
            "grid_column": null,
            "grid_gap": null,
            "grid_row": null,
            "grid_template_areas": null,
            "grid_template_columns": null,
            "grid_template_rows": null,
            "height": null,
            "justify_content": null,
            "justify_items": null,
            "left": null,
            "margin": null,
            "max_height": null,
            "max_width": null,
            "min_height": null,
            "min_width": null,
            "object_fit": null,
            "object_position": null,
            "order": null,
            "overflow": null,
            "overflow_x": null,
            "overflow_y": null,
            "padding": null,
            "right": null,
            "top": null,
            "visibility": null,
            "width": null
          }
        },
        "0416ee56d7ec4d209271befb72ed3283": {
          "model_module": "@jupyter-widgets/controls",
          "model_module_version": "1.5.0",
          "model_name": "DescriptionStyleModel",
          "state": {
            "_model_module": "@jupyter-widgets/controls",
            "_model_module_version": "1.5.0",
            "_model_name": "DescriptionStyleModel",
            "_view_count": null,
            "_view_module": "@jupyter-widgets/base",
            "_view_module_version": "1.2.0",
            "_view_name": "StyleView",
            "description_width": ""
          }
        },
        "0506f4fd1e79491cbec8a2c07007ca2b": {
          "model_module": "@jupyter-widgets/controls",
          "model_module_version": "1.5.0",
          "model_name": "HTMLModel",
          "state": {
            "_dom_classes": [],
            "_model_module": "@jupyter-widgets/controls",
            "_model_module_version": "1.5.0",
            "_model_name": "HTMLModel",
            "_view_count": null,
            "_view_module": "@jupyter-widgets/controls",
            "_view_module_version": "1.5.0",
            "_view_name": "HTMLView",
            "description": "",
            "description_tooltip": null,
            "layout": "IPY_MODEL_cc346f00ba3a4d4a9038f8cd269c1a17",
            "placeholder": "​",
            "style": "IPY_MODEL_b9e2d0ac33804d06a740f9a9e2e9b713",
            "value": " 144/? [02:50&lt;00:00,  1.14s/it]"
          }
        },
        "057fa83ef74f43209aaa723f322fe4ec": {
          "model_module": "@jupyter-widgets/controls",
          "model_module_version": "1.5.0",
          "model_name": "HBoxModel",
          "state": {
            "_dom_classes": [],
            "_model_module": "@jupyter-widgets/controls",
            "_model_module_version": "1.5.0",
            "_model_name": "HBoxModel",
            "_view_count": null,
            "_view_module": "@jupyter-widgets/controls",
            "_view_module_version": "1.5.0",
            "_view_name": "HBoxView",
            "box_style": "",
            "children": [
              "IPY_MODEL_838cc63a7d404c3594792664e72aa865",
              "IPY_MODEL_5284933b0e674e26916d9ebdf21672ee",
              "IPY_MODEL_734c87d309ed48a5b5b97379ff33b008"
            ],
            "layout": "IPY_MODEL_ca06600d259849df96a1398ea9ca41c1"
          }
        },
        "07cf1c4149b643fbb6ade35f9c4392ab": {
          "model_module": "@jupyter-widgets/controls",
          "model_module_version": "1.5.0",
          "model_name": "HTMLModel",
          "state": {
            "_dom_classes": [],
            "_model_module": "@jupyter-widgets/controls",
            "_model_module_version": "1.5.0",
            "_model_name": "HTMLModel",
            "_view_count": null,
            "_view_module": "@jupyter-widgets/controls",
            "_view_module_version": "1.5.0",
            "_view_name": "HTMLView",
            "description": "",
            "description_tooltip": null,
            "layout": "IPY_MODEL_cbb78fa512e44308b3054b4eeaa0aa65",
            "placeholder": "​",
            "style": "IPY_MODEL_fef79ca8d2f04df29b8b795de4f1a360",
            "value": "100%"
          }
        },
        "0a156fa5edc84ae49e3a75cd3de9c61b": {
          "model_module": "@jupyter-widgets/base",
          "model_module_version": "1.2.0",
          "model_name": "LayoutModel",
          "state": {
            "_model_module": "@jupyter-widgets/base",
            "_model_module_version": "1.2.0",
            "_model_name": "LayoutModel",
            "_view_count": null,
            "_view_module": "@jupyter-widgets/base",
            "_view_module_version": "1.2.0",
            "_view_name": "LayoutView",
            "align_content": null,
            "align_items": null,
            "align_self": null,
            "border": null,
            "bottom": null,
            "display": null,
            "flex": null,
            "flex_flow": null,
            "grid_area": null,
            "grid_auto_columns": null,
            "grid_auto_flow": null,
            "grid_auto_rows": null,
            "grid_column": null,
            "grid_gap": null,
            "grid_row": null,
            "grid_template_areas": null,
            "grid_template_columns": null,
            "grid_template_rows": null,
            "height": null,
            "justify_content": null,
            "justify_items": null,
            "left": null,
            "margin": null,
            "max_height": null,
            "max_width": null,
            "min_height": null,
            "min_width": null,
            "object_fit": null,
            "object_position": null,
            "order": null,
            "overflow": null,
            "overflow_x": null,
            "overflow_y": null,
            "padding": null,
            "right": null,
            "top": null,
            "visibility": null,
            "width": null
          }
        },
        "0a6ab88163604fd8a19a385b336b5502": {
          "model_module": "@jupyter-widgets/controls",
          "model_module_version": "1.5.0",
          "model_name": "ProgressStyleModel",
          "state": {
            "_model_module": "@jupyter-widgets/controls",
            "_model_module_version": "1.5.0",
            "_model_name": "ProgressStyleModel",
            "_view_count": null,
            "_view_module": "@jupyter-widgets/base",
            "_view_module_version": "1.2.0",
            "_view_name": "StyleView",
            "bar_color": null,
            "description_width": ""
          }
        },
        "0b28abe84564453088b1a3ae6445c1f8": {
          "model_module": "@jupyter-widgets/controls",
          "model_module_version": "1.5.0",
          "model_name": "ProgressStyleModel",
          "state": {
            "_model_module": "@jupyter-widgets/controls",
            "_model_module_version": "1.5.0",
            "_model_name": "ProgressStyleModel",
            "_view_count": null,
            "_view_module": "@jupyter-widgets/base",
            "_view_module_version": "1.2.0",
            "_view_name": "StyleView",
            "bar_color": null,
            "description_width": ""
          }
        },
        "0c70b92fff6e4ab492b04e877a36968f": {
          "model_module": "@jupyter-widgets/controls",
          "model_module_version": "1.5.0",
          "model_name": "DescriptionStyleModel",
          "state": {
            "_model_module": "@jupyter-widgets/controls",
            "_model_module_version": "1.5.0",
            "_model_name": "DescriptionStyleModel",
            "_view_count": null,
            "_view_module": "@jupyter-widgets/base",
            "_view_module_version": "1.2.0",
            "_view_name": "StyleView",
            "description_width": ""
          }
        },
        "0c961ddaf2e54799861cf89956a510e0": {
          "model_module": "@jupyter-widgets/controls",
          "model_module_version": "1.5.0",
          "model_name": "HBoxModel",
          "state": {
            "_dom_classes": [],
            "_model_module": "@jupyter-widgets/controls",
            "_model_module_version": "1.5.0",
            "_model_name": "HBoxModel",
            "_view_count": null,
            "_view_module": "@jupyter-widgets/controls",
            "_view_module_version": "1.5.0",
            "_view_name": "HBoxView",
            "box_style": "",
            "children": [
              "IPY_MODEL_9791faab87e247ba9106ca7f2c6328e5",
              "IPY_MODEL_fb55b23ae30d48a5983fbfa3f1cb6090",
              "IPY_MODEL_548cdd4874a94178a6df5342ee49e0db"
            ],
            "layout": "IPY_MODEL_03f09828b04e4ed5806af0bfd5ce8062"
          }
        },
        "0cf441ec99084d048c1c2b499a8a3def": {
          "model_module": "@jupyter-widgets/base",
          "model_module_version": "1.2.0",
          "model_name": "LayoutModel",
          "state": {
            "_model_module": "@jupyter-widgets/base",
            "_model_module_version": "1.2.0",
            "_model_name": "LayoutModel",
            "_view_count": null,
            "_view_module": "@jupyter-widgets/base",
            "_view_module_version": "1.2.0",
            "_view_name": "LayoutView",
            "align_content": null,
            "align_items": null,
            "align_self": null,
            "border": null,
            "bottom": null,
            "display": null,
            "flex": null,
            "flex_flow": null,
            "grid_area": null,
            "grid_auto_columns": null,
            "grid_auto_flow": null,
            "grid_auto_rows": null,
            "grid_column": null,
            "grid_gap": null,
            "grid_row": null,
            "grid_template_areas": null,
            "grid_template_columns": null,
            "grid_template_rows": null,
            "height": null,
            "justify_content": null,
            "justify_items": null,
            "left": null,
            "margin": null,
            "max_height": null,
            "max_width": null,
            "min_height": null,
            "min_width": null,
            "object_fit": null,
            "object_position": null,
            "order": null,
            "overflow": null,
            "overflow_x": null,
            "overflow_y": null,
            "padding": null,
            "right": null,
            "top": null,
            "visibility": null,
            "width": null
          }
        },
        "0d011f46687a40ed9a899f7b3ccd4601": {
          "model_module": "@jupyter-widgets/controls",
          "model_module_version": "1.5.0",
          "model_name": "ProgressStyleModel",
          "state": {
            "_model_module": "@jupyter-widgets/controls",
            "_model_module_version": "1.5.0",
            "_model_name": "ProgressStyleModel",
            "_view_count": null,
            "_view_module": "@jupyter-widgets/base",
            "_view_module_version": "1.2.0",
            "_view_name": "StyleView",
            "bar_color": null,
            "description_width": ""
          }
        },
        "0d827e5798764816bfe587ce9bf6346e": {
          "model_module": "@jupyter-widgets/base",
          "model_module_version": "1.2.0",
          "model_name": "LayoutModel",
          "state": {
            "_model_module": "@jupyter-widgets/base",
            "_model_module_version": "1.2.0",
            "_model_name": "LayoutModel",
            "_view_count": null,
            "_view_module": "@jupyter-widgets/base",
            "_view_module_version": "1.2.0",
            "_view_name": "LayoutView",
            "align_content": null,
            "align_items": null,
            "align_self": null,
            "border": null,
            "bottom": null,
            "display": null,
            "flex": null,
            "flex_flow": null,
            "grid_area": null,
            "grid_auto_columns": null,
            "grid_auto_flow": null,
            "grid_auto_rows": null,
            "grid_column": null,
            "grid_gap": null,
            "grid_row": null,
            "grid_template_areas": null,
            "grid_template_columns": null,
            "grid_template_rows": null,
            "height": null,
            "justify_content": null,
            "justify_items": null,
            "left": null,
            "margin": null,
            "max_height": null,
            "max_width": null,
            "min_height": null,
            "min_width": null,
            "object_fit": null,
            "object_position": null,
            "order": null,
            "overflow": null,
            "overflow_x": null,
            "overflow_y": null,
            "padding": null,
            "right": null,
            "top": null,
            "visibility": null,
            "width": null
          }
        },
        "0df71641be594cdc976dd1dac0f40a86": {
          "model_module": "@jupyter-widgets/controls",
          "model_module_version": "1.5.0",
          "model_name": "HTMLModel",
          "state": {
            "_dom_classes": [],
            "_model_module": "@jupyter-widgets/controls",
            "_model_module_version": "1.5.0",
            "_model_name": "HTMLModel",
            "_view_count": null,
            "_view_module": "@jupyter-widgets/controls",
            "_view_module_version": "1.5.0",
            "_view_name": "HTMLView",
            "description": "",
            "description_tooltip": null,
            "layout": "IPY_MODEL_e82453afea204f44af47ee2c26be4cf7",
            "placeholder": "​",
            "style": "IPY_MODEL_e9a04b0341d744dfa746ea2608239dbd",
            "value": "100%"
          }
        },
        "0e2bf752f38e4f39a47ff03e3fb67892": {
          "model_module": "@jupyter-widgets/base",
          "model_module_version": "1.2.0",
          "model_name": "LayoutModel",
          "state": {
            "_model_module": "@jupyter-widgets/base",
            "_model_module_version": "1.2.0",
            "_model_name": "LayoutModel",
            "_view_count": null,
            "_view_module": "@jupyter-widgets/base",
            "_view_module_version": "1.2.0",
            "_view_name": "LayoutView",
            "align_content": null,
            "align_items": null,
            "align_self": null,
            "border": null,
            "bottom": null,
            "display": null,
            "flex": null,
            "flex_flow": null,
            "grid_area": null,
            "grid_auto_columns": null,
            "grid_auto_flow": null,
            "grid_auto_rows": null,
            "grid_column": null,
            "grid_gap": null,
            "grid_row": null,
            "grid_template_areas": null,
            "grid_template_columns": null,
            "grid_template_rows": null,
            "height": null,
            "justify_content": null,
            "justify_items": null,
            "left": null,
            "margin": null,
            "max_height": null,
            "max_width": null,
            "min_height": null,
            "min_width": null,
            "object_fit": null,
            "object_position": null,
            "order": null,
            "overflow": null,
            "overflow_x": null,
            "overflow_y": null,
            "padding": null,
            "right": null,
            "top": null,
            "visibility": null,
            "width": null
          }
        },
        "1215192e98c549ecbf936171d5d046f7": {
          "model_module": "@jupyter-widgets/controls",
          "model_module_version": "1.5.0",
          "model_name": "HBoxModel",
          "state": {
            "_dom_classes": [],
            "_model_module": "@jupyter-widgets/controls",
            "_model_module_version": "1.5.0",
            "_model_name": "HBoxModel",
            "_view_count": null,
            "_view_module": "@jupyter-widgets/controls",
            "_view_module_version": "1.5.0",
            "_view_name": "HBoxView",
            "box_style": "",
            "children": [
              "IPY_MODEL_12381be124484296a957c11a1ca7f999",
              "IPY_MODEL_31f02a5899b946309f9a95a8f6a5cb83",
              "IPY_MODEL_486e13b72c0b424392ba524f6fe7769b"
            ],
            "layout": "IPY_MODEL_5cb6b8f4167c441c9c3898d85c2c54f5"
          }
        },
        "12381be124484296a957c11a1ca7f999": {
          "model_module": "@jupyter-widgets/controls",
          "model_module_version": "1.5.0",
          "model_name": "HTMLModel",
          "state": {
            "_dom_classes": [],
            "_model_module": "@jupyter-widgets/controls",
            "_model_module_version": "1.5.0",
            "_model_name": "HTMLModel",
            "_view_count": null,
            "_view_module": "@jupyter-widgets/controls",
            "_view_module_version": "1.5.0",
            "_view_name": "HTMLView",
            "description": "",
            "description_tooltip": null,
            "layout": "IPY_MODEL_0cf441ec99084d048c1c2b499a8a3def",
            "placeholder": "​",
            "style": "IPY_MODEL_57a390389a664ef19c0747fa9d80ff88",
            "value": ""
          }
        },
        "127820f3ad694bc9b1516f30d0ab17cd": {
          "model_module": "@jupyter-widgets/controls",
          "model_module_version": "1.5.0",
          "model_name": "HTMLModel",
          "state": {
            "_dom_classes": [],
            "_model_module": "@jupyter-widgets/controls",
            "_model_module_version": "1.5.0",
            "_model_name": "HTMLModel",
            "_view_count": null,
            "_view_module": "@jupyter-widgets/controls",
            "_view_module_version": "1.5.0",
            "_view_name": "HTMLView",
            "description": "",
            "description_tooltip": null,
            "layout": "IPY_MODEL_ea3a86fc484f4634947b1d250d00a2aa",
            "placeholder": "​",
            "style": "IPY_MODEL_37b7bcb7128a481f8a6489122c032d18",
            "value": " 144/? [02:51&lt;00:00,  1.14s/it]"
          }
        },
        "14035c244a7a444d8b503c83cd7cab39": {
          "model_module": "@jupyter-widgets/base",
          "model_module_version": "1.2.0",
          "model_name": "LayoutModel",
          "state": {
            "_model_module": "@jupyter-widgets/base",
            "_model_module_version": "1.2.0",
            "_model_name": "LayoutModel",
            "_view_count": null,
            "_view_module": "@jupyter-widgets/base",
            "_view_module_version": "1.2.0",
            "_view_name": "LayoutView",
            "align_content": null,
            "align_items": null,
            "align_self": null,
            "border": null,
            "bottom": null,
            "display": null,
            "flex": null,
            "flex_flow": null,
            "grid_area": null,
            "grid_auto_columns": null,
            "grid_auto_flow": null,
            "grid_auto_rows": null,
            "grid_column": null,
            "grid_gap": null,
            "grid_row": null,
            "grid_template_areas": null,
            "grid_template_columns": null,
            "grid_template_rows": null,
            "height": null,
            "justify_content": null,
            "justify_items": null,
            "left": null,
            "margin": null,
            "max_height": null,
            "max_width": null,
            "min_height": null,
            "min_width": null,
            "object_fit": null,
            "object_position": null,
            "order": null,
            "overflow": null,
            "overflow_x": null,
            "overflow_y": null,
            "padding": null,
            "right": null,
            "top": null,
            "visibility": null,
            "width": null
          }
        },
        "1577d5b5e8a045d1a9124899b8b60e22": {
          "model_module": "@jupyter-widgets/base",
          "model_module_version": "1.2.0",
          "model_name": "LayoutModel",
          "state": {
            "_model_module": "@jupyter-widgets/base",
            "_model_module_version": "1.2.0",
            "_model_name": "LayoutModel",
            "_view_count": null,
            "_view_module": "@jupyter-widgets/base",
            "_view_module_version": "1.2.0",
            "_view_name": "LayoutView",
            "align_content": null,
            "align_items": null,
            "align_self": null,
            "border": null,
            "bottom": null,
            "display": null,
            "flex": null,
            "flex_flow": null,
            "grid_area": null,
            "grid_auto_columns": null,
            "grid_auto_flow": null,
            "grid_auto_rows": null,
            "grid_column": null,
            "grid_gap": null,
            "grid_row": null,
            "grid_template_areas": null,
            "grid_template_columns": null,
            "grid_template_rows": null,
            "height": null,
            "justify_content": null,
            "justify_items": null,
            "left": null,
            "margin": null,
            "max_height": null,
            "max_width": null,
            "min_height": null,
            "min_width": null,
            "object_fit": null,
            "object_position": null,
            "order": null,
            "overflow": null,
            "overflow_x": null,
            "overflow_y": null,
            "padding": null,
            "right": null,
            "top": null,
            "visibility": null,
            "width": null
          }
        },
        "15cfd86817a444e29e976efb689d8e53": {
          "model_module": "@jupyter-widgets/base",
          "model_module_version": "1.2.0",
          "model_name": "LayoutModel",
          "state": {
            "_model_module": "@jupyter-widgets/base",
            "_model_module_version": "1.2.0",
            "_model_name": "LayoutModel",
            "_view_count": null,
            "_view_module": "@jupyter-widgets/base",
            "_view_module_version": "1.2.0",
            "_view_name": "LayoutView",
            "align_content": null,
            "align_items": null,
            "align_self": null,
            "border": null,
            "bottom": null,
            "display": null,
            "flex": null,
            "flex_flow": null,
            "grid_area": null,
            "grid_auto_columns": null,
            "grid_auto_flow": null,
            "grid_auto_rows": null,
            "grid_column": null,
            "grid_gap": null,
            "grid_row": null,
            "grid_template_areas": null,
            "grid_template_columns": null,
            "grid_template_rows": null,
            "height": null,
            "justify_content": null,
            "justify_items": null,
            "left": null,
            "margin": null,
            "max_height": null,
            "max_width": null,
            "min_height": null,
            "min_width": null,
            "object_fit": null,
            "object_position": null,
            "order": null,
            "overflow": null,
            "overflow_x": null,
            "overflow_y": null,
            "padding": null,
            "right": null,
            "top": null,
            "visibility": null,
            "width": null
          }
        },
        "15ffad8fff4348aeba05e6fda29e79ef": {
          "model_module": "@jupyter-widgets/controls",
          "model_module_version": "1.5.0",
          "model_name": "DescriptionStyleModel",
          "state": {
            "_model_module": "@jupyter-widgets/controls",
            "_model_module_version": "1.5.0",
            "_model_name": "DescriptionStyleModel",
            "_view_count": null,
            "_view_module": "@jupyter-widgets/base",
            "_view_module_version": "1.2.0",
            "_view_name": "StyleView",
            "description_width": ""
          }
        },
        "1654aeb2e77c4276bc0ffe4d639f3935": {
          "model_module": "@jupyter-widgets/controls",
          "model_module_version": "1.5.0",
          "model_name": "HTMLModel",
          "state": {
            "_dom_classes": [],
            "_model_module": "@jupyter-widgets/controls",
            "_model_module_version": "1.5.0",
            "_model_name": "HTMLModel",
            "_view_count": null,
            "_view_module": "@jupyter-widgets/controls",
            "_view_module_version": "1.5.0",
            "_view_name": "HTMLView",
            "description": "",
            "description_tooltip": null,
            "layout": "IPY_MODEL_637a8ceefad44655b8b072bb6a2feb97",
            "placeholder": "​",
            "style": "IPY_MODEL_a59037926b644497a6a2fdf50892e30c",
            "value": ""
          }
        },
        "171b86a8568a4e5cb37ac3c3f2e26944": {
          "model_module": "@jupyter-widgets/controls",
          "model_module_version": "1.5.0",
          "model_name": "HTMLModel",
          "state": {
            "_dom_classes": [],
            "_model_module": "@jupyter-widgets/controls",
            "_model_module_version": "1.5.0",
            "_model_name": "HTMLModel",
            "_view_count": null,
            "_view_module": "@jupyter-widgets/controls",
            "_view_module_version": "1.5.0",
            "_view_name": "HTMLView",
            "description": "",
            "description_tooltip": null,
            "layout": "IPY_MODEL_e4697ecbec14462ca6dd9f274118c941",
            "placeholder": "​",
            "style": "IPY_MODEL_f41881d2ae7947d98aaa7fea3a65d271",
            "value": ""
          }
        },
        "1790f79c46784779bc574eaaf4ac7b7c": {
          "model_module": "@jupyter-widgets/controls",
          "model_module_version": "1.5.0",
          "model_name": "DescriptionStyleModel",
          "state": {
            "_model_module": "@jupyter-widgets/controls",
            "_model_module_version": "1.5.0",
            "_model_name": "DescriptionStyleModel",
            "_view_count": null,
            "_view_module": "@jupyter-widgets/base",
            "_view_module_version": "1.2.0",
            "_view_name": "StyleView",
            "description_width": ""
          }
        },
        "18f6929f4c124d57974536cf07b92344": {
          "model_module": "@jupyter-widgets/base",
          "model_module_version": "1.2.0",
          "model_name": "LayoutModel",
          "state": {
            "_model_module": "@jupyter-widgets/base",
            "_model_module_version": "1.2.0",
            "_model_name": "LayoutModel",
            "_view_count": null,
            "_view_module": "@jupyter-widgets/base",
            "_view_module_version": "1.2.0",
            "_view_name": "LayoutView",
            "align_content": null,
            "align_items": null,
            "align_self": null,
            "border": null,
            "bottom": null,
            "display": null,
            "flex": null,
            "flex_flow": null,
            "grid_area": null,
            "grid_auto_columns": null,
            "grid_auto_flow": null,
            "grid_auto_rows": null,
            "grid_column": null,
            "grid_gap": null,
            "grid_row": null,
            "grid_template_areas": null,
            "grid_template_columns": null,
            "grid_template_rows": null,
            "height": null,
            "justify_content": null,
            "justify_items": null,
            "left": null,
            "margin": null,
            "max_height": null,
            "max_width": null,
            "min_height": null,
            "min_width": null,
            "object_fit": null,
            "object_position": null,
            "order": null,
            "overflow": null,
            "overflow_x": null,
            "overflow_y": null,
            "padding": null,
            "right": null,
            "top": null,
            "visibility": null,
            "width": "20px"
          }
        },
        "1c31b719fec04c149d35d0e919694665": {
          "model_module": "@jupyter-widgets/controls",
          "model_module_version": "1.5.0",
          "model_name": "DescriptionStyleModel",
          "state": {
            "_model_module": "@jupyter-widgets/controls",
            "_model_module_version": "1.5.0",
            "_model_name": "DescriptionStyleModel",
            "_view_count": null,
            "_view_module": "@jupyter-widgets/base",
            "_view_module_version": "1.2.0",
            "_view_name": "StyleView",
            "description_width": ""
          }
        },
        "1cea4c4863bf40798b67238bc3867a7c": {
          "model_module": "@jupyter-widgets/controls",
          "model_module_version": "1.5.0",
          "model_name": "FloatProgressModel",
          "state": {
            "_dom_classes": [],
            "_model_module": "@jupyter-widgets/controls",
            "_model_module_version": "1.5.0",
            "_model_name": "FloatProgressModel",
            "_view_count": null,
            "_view_module": "@jupyter-widgets/controls",
            "_view_module_version": "1.5.0",
            "_view_name": "ProgressView",
            "bar_style": "success",
            "description": "",
            "description_tooltip": null,
            "layout": "IPY_MODEL_70d65d0540894f62bca07c8fe64167f4",
            "max": 1,
            "min": 0,
            "orientation": "horizontal",
            "style": "IPY_MODEL_d413225b24de48a68f5a2e02d5f1dad8",
            "value": 1
          }
        },
        "1ef0011b036d4463a65114a88c7e5238": {
          "model_module": "@jupyter-widgets/controls",
          "model_module_version": "1.5.0",
          "model_name": "HBoxModel",
          "state": {
            "_dom_classes": [],
            "_model_module": "@jupyter-widgets/controls",
            "_model_module_version": "1.5.0",
            "_model_name": "HBoxModel",
            "_view_count": null,
            "_view_module": "@jupyter-widgets/controls",
            "_view_module_version": "1.5.0",
            "_view_name": "HBoxView",
            "box_style": "",
            "children": [
              "IPY_MODEL_ec534f930a1445b2b829b93727140da8",
              "IPY_MODEL_7878a77247304ad3818ed5aa59397e51",
              "IPY_MODEL_6d358a73fc254f7384faf189ecd83e13"
            ],
            "layout": "IPY_MODEL_a8a86ddf11334122a0081e7b9988baf9"
          }
        },
        "1f04d638204f46eba54d5072efef770b": {
          "model_module": "@jupyter-widgets/base",
          "model_module_version": "1.2.0",
          "model_name": "LayoutModel",
          "state": {
            "_model_module": "@jupyter-widgets/base",
            "_model_module_version": "1.2.0",
            "_model_name": "LayoutModel",
            "_view_count": null,
            "_view_module": "@jupyter-widgets/base",
            "_view_module_version": "1.2.0",
            "_view_name": "LayoutView",
            "align_content": null,
            "align_items": null,
            "align_self": null,
            "border": null,
            "bottom": null,
            "display": null,
            "flex": null,
            "flex_flow": null,
            "grid_area": null,
            "grid_auto_columns": null,
            "grid_auto_flow": null,
            "grid_auto_rows": null,
            "grid_column": null,
            "grid_gap": null,
            "grid_row": null,
            "grid_template_areas": null,
            "grid_template_columns": null,
            "grid_template_rows": null,
            "height": null,
            "justify_content": null,
            "justify_items": null,
            "left": null,
            "margin": null,
            "max_height": null,
            "max_width": null,
            "min_height": null,
            "min_width": null,
            "object_fit": null,
            "object_position": null,
            "order": null,
            "overflow": null,
            "overflow_x": null,
            "overflow_y": null,
            "padding": null,
            "right": null,
            "top": null,
            "visibility": null,
            "width": null
          }
        },
        "1fb204d589c2444ebaaf33d6b3bfda88": {
          "model_module": "@jupyter-widgets/base",
          "model_module_version": "1.2.0",
          "model_name": "LayoutModel",
          "state": {
            "_model_module": "@jupyter-widgets/base",
            "_model_module_version": "1.2.0",
            "_model_name": "LayoutModel",
            "_view_count": null,
            "_view_module": "@jupyter-widgets/base",
            "_view_module_version": "1.2.0",
            "_view_name": "LayoutView",
            "align_content": null,
            "align_items": null,
            "align_self": null,
            "border": null,
            "bottom": null,
            "display": null,
            "flex": null,
            "flex_flow": null,
            "grid_area": null,
            "grid_auto_columns": null,
            "grid_auto_flow": null,
            "grid_auto_rows": null,
            "grid_column": null,
            "grid_gap": null,
            "grid_row": null,
            "grid_template_areas": null,
            "grid_template_columns": null,
            "grid_template_rows": null,
            "height": null,
            "justify_content": null,
            "justify_items": null,
            "left": null,
            "margin": null,
            "max_height": null,
            "max_width": null,
            "min_height": null,
            "min_width": null,
            "object_fit": null,
            "object_position": null,
            "order": null,
            "overflow": null,
            "overflow_x": null,
            "overflow_y": null,
            "padding": null,
            "right": null,
            "top": null,
            "visibility": null,
            "width": null
          }
        },
        "234037c822c34dd88628281048e3f078": {
          "model_module": "@jupyter-widgets/controls",
          "model_module_version": "1.5.0",
          "model_name": "FloatProgressModel",
          "state": {
            "_dom_classes": [],
            "_model_module": "@jupyter-widgets/controls",
            "_model_module_version": "1.5.0",
            "_model_name": "FloatProgressModel",
            "_view_count": null,
            "_view_module": "@jupyter-widgets/controls",
            "_view_module_version": "1.5.0",
            "_view_name": "ProgressView",
            "bar_style": "success",
            "description": "",
            "description_tooltip": null,
            "layout": "IPY_MODEL_c7cc68f617ac490399f9e8fca9e886db",
            "max": 16,
            "min": 0,
            "orientation": "horizontal",
            "style": "IPY_MODEL_ad5c27f815a5406c92b4e42d5de5f023",
            "value": 16
          }
        },
        "259f742dc5994d7da5278efdc527c1ea": {
          "model_module": "@jupyter-widgets/controls",
          "model_module_version": "1.5.0",
          "model_name": "DescriptionStyleModel",
          "state": {
            "_model_module": "@jupyter-widgets/controls",
            "_model_module_version": "1.5.0",
            "_model_name": "DescriptionStyleModel",
            "_view_count": null,
            "_view_module": "@jupyter-widgets/base",
            "_view_module_version": "1.2.0",
            "_view_name": "StyleView",
            "description_width": ""
          }
        },
        "270dcfd34f0f4b4298e620ce655c17b8": {
          "model_module": "@jupyter-widgets/controls",
          "model_module_version": "1.5.0",
          "model_name": "ProgressStyleModel",
          "state": {
            "_model_module": "@jupyter-widgets/controls",
            "_model_module_version": "1.5.0",
            "_model_name": "ProgressStyleModel",
            "_view_count": null,
            "_view_module": "@jupyter-widgets/base",
            "_view_module_version": "1.2.0",
            "_view_name": "StyleView",
            "bar_color": null,
            "description_width": ""
          }
        },
        "29f3efb7ad5f421680017c0d2724c2ba": {
          "model_module": "@jupyter-widgets/controls",
          "model_module_version": "1.5.0",
          "model_name": "ProgressStyleModel",
          "state": {
            "_model_module": "@jupyter-widgets/controls",
            "_model_module_version": "1.5.0",
            "_model_name": "ProgressStyleModel",
            "_view_count": null,
            "_view_module": "@jupyter-widgets/base",
            "_view_module_version": "1.2.0",
            "_view_name": "StyleView",
            "bar_color": null,
            "description_width": ""
          }
        },
        "2de8add1d5a14b7cbe93a88ef5bcc7b0": {
          "model_module": "@jupyter-widgets/base",
          "model_module_version": "1.2.0",
          "model_name": "LayoutModel",
          "state": {
            "_model_module": "@jupyter-widgets/base",
            "_model_module_version": "1.2.0",
            "_model_name": "LayoutModel",
            "_view_count": null,
            "_view_module": "@jupyter-widgets/base",
            "_view_module_version": "1.2.0",
            "_view_name": "LayoutView",
            "align_content": null,
            "align_items": null,
            "align_self": null,
            "border": null,
            "bottom": null,
            "display": null,
            "flex": null,
            "flex_flow": null,
            "grid_area": null,
            "grid_auto_columns": null,
            "grid_auto_flow": null,
            "grid_auto_rows": null,
            "grid_column": null,
            "grid_gap": null,
            "grid_row": null,
            "grid_template_areas": null,
            "grid_template_columns": null,
            "grid_template_rows": null,
            "height": null,
            "justify_content": null,
            "justify_items": null,
            "left": null,
            "margin": null,
            "max_height": null,
            "max_width": null,
            "min_height": null,
            "min_width": null,
            "object_fit": null,
            "object_position": null,
            "order": null,
            "overflow": null,
            "overflow_x": null,
            "overflow_y": null,
            "padding": null,
            "right": null,
            "top": null,
            "visibility": null,
            "width": null
          }
        },
        "2ea5d4c0127141e8b998307fe6fcb8ad": {
          "model_module": "@jupyter-widgets/controls",
          "model_module_version": "1.5.0",
          "model_name": "ProgressStyleModel",
          "state": {
            "_model_module": "@jupyter-widgets/controls",
            "_model_module_version": "1.5.0",
            "_model_name": "ProgressStyleModel",
            "_view_count": null,
            "_view_module": "@jupyter-widgets/base",
            "_view_module_version": "1.2.0",
            "_view_name": "StyleView",
            "bar_color": null,
            "description_width": ""
          }
        },
        "2edd0fed639d4c1bb8e05043f38b08db": {
          "model_module": "@jupyter-widgets/base",
          "model_module_version": "1.2.0",
          "model_name": "LayoutModel",
          "state": {
            "_model_module": "@jupyter-widgets/base",
            "_model_module_version": "1.2.0",
            "_model_name": "LayoutModel",
            "_view_count": null,
            "_view_module": "@jupyter-widgets/base",
            "_view_module_version": "1.2.0",
            "_view_name": "LayoutView",
            "align_content": null,
            "align_items": null,
            "align_self": null,
            "border": null,
            "bottom": null,
            "display": null,
            "flex": null,
            "flex_flow": null,
            "grid_area": null,
            "grid_auto_columns": null,
            "grid_auto_flow": null,
            "grid_auto_rows": null,
            "grid_column": null,
            "grid_gap": null,
            "grid_row": null,
            "grid_template_areas": null,
            "grid_template_columns": null,
            "grid_template_rows": null,
            "height": null,
            "justify_content": null,
            "justify_items": null,
            "left": null,
            "margin": null,
            "max_height": null,
            "max_width": null,
            "min_height": null,
            "min_width": null,
            "object_fit": null,
            "object_position": null,
            "order": null,
            "overflow": null,
            "overflow_x": null,
            "overflow_y": null,
            "padding": null,
            "right": null,
            "top": null,
            "visibility": null,
            "width": "20px"
          }
        },
        "30e946a9ae6e48268ac4690b0e2f903d": {
          "model_module": "@jupyter-widgets/base",
          "model_module_version": "1.2.0",
          "model_name": "LayoutModel",
          "state": {
            "_model_module": "@jupyter-widgets/base",
            "_model_module_version": "1.2.0",
            "_model_name": "LayoutModel",
            "_view_count": null,
            "_view_module": "@jupyter-widgets/base",
            "_view_module_version": "1.2.0",
            "_view_name": "LayoutView",
            "align_content": null,
            "align_items": null,
            "align_self": null,
            "border": null,
            "bottom": null,
            "display": null,
            "flex": null,
            "flex_flow": null,
            "grid_area": null,
            "grid_auto_columns": null,
            "grid_auto_flow": null,
            "grid_auto_rows": null,
            "grid_column": null,
            "grid_gap": null,
            "grid_row": null,
            "grid_template_areas": null,
            "grid_template_columns": null,
            "grid_template_rows": null,
            "height": null,
            "justify_content": null,
            "justify_items": null,
            "left": null,
            "margin": null,
            "max_height": null,
            "max_width": null,
            "min_height": null,
            "min_width": null,
            "object_fit": null,
            "object_position": null,
            "order": null,
            "overflow": null,
            "overflow_x": null,
            "overflow_y": null,
            "padding": null,
            "right": null,
            "top": null,
            "visibility": null,
            "width": null
          }
        },
        "31f02a5899b946309f9a95a8f6a5cb83": {
          "model_module": "@jupyter-widgets/controls",
          "model_module_version": "1.5.0",
          "model_name": "FloatProgressModel",
          "state": {
            "_dom_classes": [],
            "_model_module": "@jupyter-widgets/controls",
            "_model_module_version": "1.5.0",
            "_model_name": "FloatProgressModel",
            "_view_count": null,
            "_view_module": "@jupyter-widgets/controls",
            "_view_module_version": "1.5.0",
            "_view_name": "ProgressView",
            "bar_style": "success",
            "description": "",
            "description_tooltip": null,
            "layout": "IPY_MODEL_33c3b1c26ffd4fdab4932ed357b492f2",
            "max": 1,
            "min": 0,
            "orientation": "horizontal",
            "style": "IPY_MODEL_4dc29b4a213b46de9a7eee2c6eb58449",
            "value": 1
          }
        },
        "3332b41775ca449b8b638354a76f99b6": {
          "model_module": "@jupyter-widgets/base",
          "model_module_version": "1.2.0",
          "model_name": "LayoutModel",
          "state": {
            "_model_module": "@jupyter-widgets/base",
            "_model_module_version": "1.2.0",
            "_model_name": "LayoutModel",
            "_view_count": null,
            "_view_module": "@jupyter-widgets/base",
            "_view_module_version": "1.2.0",
            "_view_name": "LayoutView",
            "align_content": null,
            "align_items": null,
            "align_self": null,
            "border": null,
            "bottom": null,
            "display": null,
            "flex": null,
            "flex_flow": null,
            "grid_area": null,
            "grid_auto_columns": null,
            "grid_auto_flow": null,
            "grid_auto_rows": null,
            "grid_column": null,
            "grid_gap": null,
            "grid_row": null,
            "grid_template_areas": null,
            "grid_template_columns": null,
            "grid_template_rows": null,
            "height": null,
            "justify_content": null,
            "justify_items": null,
            "left": null,
            "margin": null,
            "max_height": null,
            "max_width": null,
            "min_height": null,
            "min_width": null,
            "object_fit": null,
            "object_position": null,
            "order": null,
            "overflow": null,
            "overflow_x": null,
            "overflow_y": null,
            "padding": null,
            "right": null,
            "top": null,
            "visibility": null,
            "width": null
          }
        },
        "339ad82906be4b0d8df942c2cec9962a": {
          "model_module": "@jupyter-widgets/controls",
          "model_module_version": "1.5.0",
          "model_name": "HBoxModel",
          "state": {
            "_dom_classes": [],
            "_model_module": "@jupyter-widgets/controls",
            "_model_module_version": "1.5.0",
            "_model_name": "HBoxModel",
            "_view_count": null,
            "_view_module": "@jupyter-widgets/controls",
            "_view_module_version": "1.5.0",
            "_view_name": "HBoxView",
            "box_style": "",
            "children": [
              "IPY_MODEL_b2772efdb16a446d95050f2c7e800b37",
              "IPY_MODEL_c2f82a57fb114e54805de080fa9a426b",
              "IPY_MODEL_0506f4fd1e79491cbec8a2c07007ca2b"
            ],
            "layout": "IPY_MODEL_f1a7a22c6e7843e69f2044118aad9702"
          }
        },
        "33c3b1c26ffd4fdab4932ed357b492f2": {
          "model_module": "@jupyter-widgets/base",
          "model_module_version": "1.2.0",
          "model_name": "LayoutModel",
          "state": {
            "_model_module": "@jupyter-widgets/base",
            "_model_module_version": "1.2.0",
            "_model_name": "LayoutModel",
            "_view_count": null,
            "_view_module": "@jupyter-widgets/base",
            "_view_module_version": "1.2.0",
            "_view_name": "LayoutView",
            "align_content": null,
            "align_items": null,
            "align_self": null,
            "border": null,
            "bottom": null,
            "display": null,
            "flex": null,
            "flex_flow": null,
            "grid_area": null,
            "grid_auto_columns": null,
            "grid_auto_flow": null,
            "grid_auto_rows": null,
            "grid_column": null,
            "grid_gap": null,
            "grid_row": null,
            "grid_template_areas": null,
            "grid_template_columns": null,
            "grid_template_rows": null,
            "height": null,
            "justify_content": null,
            "justify_items": null,
            "left": null,
            "margin": null,
            "max_height": null,
            "max_width": null,
            "min_height": null,
            "min_width": null,
            "object_fit": null,
            "object_position": null,
            "order": null,
            "overflow": null,
            "overflow_x": null,
            "overflow_y": null,
            "padding": null,
            "right": null,
            "top": null,
            "visibility": null,
            "width": "20px"
          }
        },
        "357c0a1f8b3f41b4b5647f6e119d65df": {
          "model_module": "@jupyter-widgets/base",
          "model_module_version": "1.2.0",
          "model_name": "LayoutModel",
          "state": {
            "_model_module": "@jupyter-widgets/base",
            "_model_module_version": "1.2.0",
            "_model_name": "LayoutModel",
            "_view_count": null,
            "_view_module": "@jupyter-widgets/base",
            "_view_module_version": "1.2.0",
            "_view_name": "LayoutView",
            "align_content": null,
            "align_items": null,
            "align_self": null,
            "border": null,
            "bottom": null,
            "display": null,
            "flex": null,
            "flex_flow": null,
            "grid_area": null,
            "grid_auto_columns": null,
            "grid_auto_flow": null,
            "grid_auto_rows": null,
            "grid_column": null,
            "grid_gap": null,
            "grid_row": null,
            "grid_template_areas": null,
            "grid_template_columns": null,
            "grid_template_rows": null,
            "height": null,
            "justify_content": null,
            "justify_items": null,
            "left": null,
            "margin": null,
            "max_height": null,
            "max_width": null,
            "min_height": null,
            "min_width": null,
            "object_fit": null,
            "object_position": null,
            "order": null,
            "overflow": null,
            "overflow_x": null,
            "overflow_y": null,
            "padding": null,
            "right": null,
            "top": null,
            "visibility": null,
            "width": null
          }
        },
        "3654da9e90734a109e14851b2624bf50": {
          "model_module": "@jupyter-widgets/controls",
          "model_module_version": "1.5.0",
          "model_name": "HBoxModel",
          "state": {
            "_dom_classes": [],
            "_model_module": "@jupyter-widgets/controls",
            "_model_module_version": "1.5.0",
            "_model_name": "HBoxModel",
            "_view_count": null,
            "_view_module": "@jupyter-widgets/controls",
            "_view_module_version": "1.5.0",
            "_view_name": "HBoxView",
            "box_style": "",
            "children": [
              "IPY_MODEL_6f81e7d34a2e49ecb233daba546b868c",
              "IPY_MODEL_75aecbfb431045eb8c13e437997af52f",
              "IPY_MODEL_70b759a03d2b45729bbad47367dfbb0b"
            ],
            "layout": "IPY_MODEL_387b2cf5941b4de4b2c9b3c3d66bea85"
          }
        },
        "378335aa135049cba6efded141aabe3b": {
          "model_module": "@jupyter-widgets/controls",
          "model_module_version": "1.5.0",
          "model_name": "HBoxModel",
          "state": {
            "_dom_classes": [],
            "_model_module": "@jupyter-widgets/controls",
            "_model_module_version": "1.5.0",
            "_model_name": "HBoxModel",
            "_view_count": null,
            "_view_module": "@jupyter-widgets/controls",
            "_view_module_version": "1.5.0",
            "_view_name": "HBoxView",
            "box_style": "",
            "children": [
              "IPY_MODEL_e47d09de72ac445e85d6362d837586ee",
              "IPY_MODEL_d66a589f2eaa4234970b0b7a4d691a2c",
              "IPY_MODEL_c4b718863abf4831b319a9364f1009c1"
            ],
            "layout": "IPY_MODEL_0a156fa5edc84ae49e3a75cd3de9c61b"
          }
        },
        "37b7bcb7128a481f8a6489122c032d18": {
          "model_module": "@jupyter-widgets/controls",
          "model_module_version": "1.5.0",
          "model_name": "DescriptionStyleModel",
          "state": {
            "_model_module": "@jupyter-widgets/controls",
            "_model_module_version": "1.5.0",
            "_model_name": "DescriptionStyleModel",
            "_view_count": null,
            "_view_module": "@jupyter-widgets/base",
            "_view_module_version": "1.2.0",
            "_view_name": "StyleView",
            "description_width": ""
          }
        },
        "387b2cf5941b4de4b2c9b3c3d66bea85": {
          "model_module": "@jupyter-widgets/base",
          "model_module_version": "1.2.0",
          "model_name": "LayoutModel",
          "state": {
            "_model_module": "@jupyter-widgets/base",
            "_model_module_version": "1.2.0",
            "_model_name": "LayoutModel",
            "_view_count": null,
            "_view_module": "@jupyter-widgets/base",
            "_view_module_version": "1.2.0",
            "_view_name": "LayoutView",
            "align_content": null,
            "align_items": null,
            "align_self": null,
            "border": null,
            "bottom": null,
            "display": null,
            "flex": null,
            "flex_flow": null,
            "grid_area": null,
            "grid_auto_columns": null,
            "grid_auto_flow": null,
            "grid_auto_rows": null,
            "grid_column": null,
            "grid_gap": null,
            "grid_row": null,
            "grid_template_areas": null,
            "grid_template_columns": null,
            "grid_template_rows": null,
            "height": null,
            "justify_content": null,
            "justify_items": null,
            "left": null,
            "margin": null,
            "max_height": null,
            "max_width": null,
            "min_height": null,
            "min_width": null,
            "object_fit": null,
            "object_position": null,
            "order": null,
            "overflow": null,
            "overflow_x": null,
            "overflow_y": null,
            "padding": null,
            "right": null,
            "top": null,
            "visibility": null,
            "width": null
          }
        },
        "3b198d4a63324cbd99935958acbaaa9c": {
          "model_module": "@jupyter-widgets/base",
          "model_module_version": "1.2.0",
          "model_name": "LayoutModel",
          "state": {
            "_model_module": "@jupyter-widgets/base",
            "_model_module_version": "1.2.0",
            "_model_name": "LayoutModel",
            "_view_count": null,
            "_view_module": "@jupyter-widgets/base",
            "_view_module_version": "1.2.0",
            "_view_name": "LayoutView",
            "align_content": null,
            "align_items": null,
            "align_self": null,
            "border": null,
            "bottom": null,
            "display": null,
            "flex": null,
            "flex_flow": null,
            "grid_area": null,
            "grid_auto_columns": null,
            "grid_auto_flow": null,
            "grid_auto_rows": null,
            "grid_column": null,
            "grid_gap": null,
            "grid_row": null,
            "grid_template_areas": null,
            "grid_template_columns": null,
            "grid_template_rows": null,
            "height": null,
            "justify_content": null,
            "justify_items": null,
            "left": null,
            "margin": null,
            "max_height": null,
            "max_width": null,
            "min_height": null,
            "min_width": null,
            "object_fit": null,
            "object_position": null,
            "order": null,
            "overflow": null,
            "overflow_x": null,
            "overflow_y": null,
            "padding": null,
            "right": null,
            "top": null,
            "visibility": null,
            "width": "20px"
          }
        },
        "3c3fc61346df48a5a4ad044857b625a7": {
          "model_module": "@jupyter-widgets/controls",
          "model_module_version": "1.5.0",
          "model_name": "HBoxModel",
          "state": {
            "_dom_classes": [],
            "_model_module": "@jupyter-widgets/controls",
            "_model_module_version": "1.5.0",
            "_model_name": "HBoxModel",
            "_view_count": null,
            "_view_module": "@jupyter-widgets/controls",
            "_view_module_version": "1.5.0",
            "_view_name": "HBoxView",
            "box_style": "",
            "children": [
              "IPY_MODEL_9754116820f44797bafb416886e0d816",
              "IPY_MODEL_d81478cd78ee41cfaad143b2ac69afbb",
              "IPY_MODEL_462186ae058646f48e57dffbb02b18e1"
            ],
            "layout": "IPY_MODEL_f7d2baf408104ac484dbaf56fca07b0a"
          }
        },
        "3eb33e6eb2d94115baaa09bd7cea3a98": {
          "model_module": "@jupyter-widgets/base",
          "model_module_version": "1.2.0",
          "model_name": "LayoutModel",
          "state": {
            "_model_module": "@jupyter-widgets/base",
            "_model_module_version": "1.2.0",
            "_model_name": "LayoutModel",
            "_view_count": null,
            "_view_module": "@jupyter-widgets/base",
            "_view_module_version": "1.2.0",
            "_view_name": "LayoutView",
            "align_content": null,
            "align_items": null,
            "align_self": null,
            "border": null,
            "bottom": null,
            "display": null,
            "flex": null,
            "flex_flow": null,
            "grid_area": null,
            "grid_auto_columns": null,
            "grid_auto_flow": null,
            "grid_auto_rows": null,
            "grid_column": null,
            "grid_gap": null,
            "grid_row": null,
            "grid_template_areas": null,
            "grid_template_columns": null,
            "grid_template_rows": null,
            "height": null,
            "justify_content": null,
            "justify_items": null,
            "left": null,
            "margin": null,
            "max_height": null,
            "max_width": null,
            "min_height": null,
            "min_width": null,
            "object_fit": null,
            "object_position": null,
            "order": null,
            "overflow": null,
            "overflow_x": null,
            "overflow_y": null,
            "padding": null,
            "right": null,
            "top": null,
            "visibility": null,
            "width": null
          }
        },
        "417b73d515c0402d8c6321ee731c7a11": {
          "model_module": "@jupyter-widgets/controls",
          "model_module_version": "1.5.0",
          "model_name": "DescriptionStyleModel",
          "state": {
            "_model_module": "@jupyter-widgets/controls",
            "_model_module_version": "1.5.0",
            "_model_name": "DescriptionStyleModel",
            "_view_count": null,
            "_view_module": "@jupyter-widgets/base",
            "_view_module_version": "1.2.0",
            "_view_name": "StyleView",
            "description_width": ""
          }
        },
        "41acfd576c644c19b26e40c24fd6be9a": {
          "model_module": "@jupyter-widgets/controls",
          "model_module_version": "1.5.0",
          "model_name": "HBoxModel",
          "state": {
            "_dom_classes": [],
            "_model_module": "@jupyter-widgets/controls",
            "_model_module_version": "1.5.0",
            "_model_name": "HBoxModel",
            "_view_count": null,
            "_view_module": "@jupyter-widgets/controls",
            "_view_module_version": "1.5.0",
            "_view_name": "HBoxView",
            "box_style": "",
            "children": [
              "IPY_MODEL_9b7696ed9db24674820826decab01efc",
              "IPY_MODEL_ffc0d978ab3f4d678ef8ce034dfb5d91",
              "IPY_MODEL_5b917e26a6554ada8354c6793f600fc5"
            ],
            "layout": "IPY_MODEL_742adac20ce44ec29c8f4197ea22b3c6"
          }
        },
        "42b20c7a44c44daf8d7a5fb570086c13": {
          "model_module": "@jupyter-widgets/controls",
          "model_module_version": "1.5.0",
          "model_name": "DescriptionStyleModel",
          "state": {
            "_model_module": "@jupyter-widgets/controls",
            "_model_module_version": "1.5.0",
            "_model_name": "DescriptionStyleModel",
            "_view_count": null,
            "_view_module": "@jupyter-widgets/base",
            "_view_module_version": "1.2.0",
            "_view_name": "StyleView",
            "description_width": ""
          }
        },
        "450318aec33441e5ad54a8612b472940": {
          "model_module": "@jupyter-widgets/controls",
          "model_module_version": "1.5.0",
          "model_name": "DescriptionStyleModel",
          "state": {
            "_model_module": "@jupyter-widgets/controls",
            "_model_module_version": "1.5.0",
            "_model_name": "DescriptionStyleModel",
            "_view_count": null,
            "_view_module": "@jupyter-widgets/base",
            "_view_module_version": "1.2.0",
            "_view_name": "StyleView",
            "description_width": ""
          }
        },
        "462186ae058646f48e57dffbb02b18e1": {
          "model_module": "@jupyter-widgets/controls",
          "model_module_version": "1.5.0",
          "model_name": "HTMLModel",
          "state": {
            "_dom_classes": [],
            "_model_module": "@jupyter-widgets/controls",
            "_model_module_version": "1.5.0",
            "_model_name": "HTMLModel",
            "_view_count": null,
            "_view_module": "@jupyter-widgets/controls",
            "_view_module_version": "1.5.0",
            "_view_name": "HTMLView",
            "description": "",
            "description_tooltip": null,
            "layout": "IPY_MODEL_bec3fdbc8be34c71b7241ba31d7fd513",
            "placeholder": "​",
            "style": "IPY_MODEL_15ffad8fff4348aeba05e6fda29e79ef",
            "value": " 16/16 [00:06&lt;00:00,  2.33it/s]"
          }
        },
        "466a228413e445e1aa0a473af72e8493": {
          "model_module": "@jupyter-widgets/base",
          "model_module_version": "1.2.0",
          "model_name": "LayoutModel",
          "state": {
            "_model_module": "@jupyter-widgets/base",
            "_model_module_version": "1.2.0",
            "_model_name": "LayoutModel",
            "_view_count": null,
            "_view_module": "@jupyter-widgets/base",
            "_view_module_version": "1.2.0",
            "_view_name": "LayoutView",
            "align_content": null,
            "align_items": null,
            "align_self": null,
            "border": null,
            "bottom": null,
            "display": null,
            "flex": null,
            "flex_flow": null,
            "grid_area": null,
            "grid_auto_columns": null,
            "grid_auto_flow": null,
            "grid_auto_rows": null,
            "grid_column": null,
            "grid_gap": null,
            "grid_row": null,
            "grid_template_areas": null,
            "grid_template_columns": null,
            "grid_template_rows": null,
            "height": null,
            "justify_content": null,
            "justify_items": null,
            "left": null,
            "margin": null,
            "max_height": null,
            "max_width": null,
            "min_height": null,
            "min_width": null,
            "object_fit": null,
            "object_position": null,
            "order": null,
            "overflow": null,
            "overflow_x": null,
            "overflow_y": null,
            "padding": null,
            "right": null,
            "top": null,
            "visibility": null,
            "width": null
          }
        },
        "48372cf0689d46739e75af540ea308c1": {
          "model_module": "@jupyter-widgets/base",
          "model_module_version": "1.2.0",
          "model_name": "LayoutModel",
          "state": {
            "_model_module": "@jupyter-widgets/base",
            "_model_module_version": "1.2.0",
            "_model_name": "LayoutModel",
            "_view_count": null,
            "_view_module": "@jupyter-widgets/base",
            "_view_module_version": "1.2.0",
            "_view_name": "LayoutView",
            "align_content": null,
            "align_items": null,
            "align_self": null,
            "border": null,
            "bottom": null,
            "display": null,
            "flex": null,
            "flex_flow": null,
            "grid_area": null,
            "grid_auto_columns": null,
            "grid_auto_flow": null,
            "grid_auto_rows": null,
            "grid_column": null,
            "grid_gap": null,
            "grid_row": null,
            "grid_template_areas": null,
            "grid_template_columns": null,
            "grid_template_rows": null,
            "height": null,
            "justify_content": null,
            "justify_items": null,
            "left": null,
            "margin": null,
            "max_height": null,
            "max_width": null,
            "min_height": null,
            "min_width": null,
            "object_fit": null,
            "object_position": null,
            "order": null,
            "overflow": null,
            "overflow_x": null,
            "overflow_y": null,
            "padding": null,
            "right": null,
            "top": null,
            "visibility": null,
            "width": null
          }
        },
        "486e13b72c0b424392ba524f6fe7769b": {
          "model_module": "@jupyter-widgets/controls",
          "model_module_version": "1.5.0",
          "model_name": "HTMLModel",
          "state": {
            "_dom_classes": [],
            "_model_module": "@jupyter-widgets/controls",
            "_model_module_version": "1.5.0",
            "_model_name": "HTMLModel",
            "_view_count": null,
            "_view_module": "@jupyter-widgets/controls",
            "_view_module_version": "1.5.0",
            "_view_name": "HTMLView",
            "description": "",
            "description_tooltip": null,
            "layout": "IPY_MODEL_bfebc62046ae4304bf85f96f7afd80f2",
            "placeholder": "​",
            "style": "IPY_MODEL_5a5679038aa648668b0431b6dfeeb441",
            "value": " 144/? [02:50&lt;00:00,  1.14s/it]"
          }
        },
        "4a3d527d7f1d48b1a0a1594771f6d150": {
          "model_module": "@jupyter-widgets/base",
          "model_module_version": "1.2.0",
          "model_name": "LayoutModel",
          "state": {
            "_model_module": "@jupyter-widgets/base",
            "_model_module_version": "1.2.0",
            "_model_name": "LayoutModel",
            "_view_count": null,
            "_view_module": "@jupyter-widgets/base",
            "_view_module_version": "1.2.0",
            "_view_name": "LayoutView",
            "align_content": null,
            "align_items": null,
            "align_self": null,
            "border": null,
            "bottom": null,
            "display": null,
            "flex": null,
            "flex_flow": null,
            "grid_area": null,
            "grid_auto_columns": null,
            "grid_auto_flow": null,
            "grid_auto_rows": null,
            "grid_column": null,
            "grid_gap": null,
            "grid_row": null,
            "grid_template_areas": null,
            "grid_template_columns": null,
            "grid_template_rows": null,
            "height": null,
            "justify_content": null,
            "justify_items": null,
            "left": null,
            "margin": null,
            "max_height": null,
            "max_width": null,
            "min_height": null,
            "min_width": null,
            "object_fit": null,
            "object_position": null,
            "order": null,
            "overflow": null,
            "overflow_x": null,
            "overflow_y": null,
            "padding": null,
            "right": null,
            "top": null,
            "visibility": null,
            "width": null
          }
        },
        "4adaeb7cf3f84790870c1f7604b4cc1f": {
          "model_module": "@jupyter-widgets/base",
          "model_module_version": "1.2.0",
          "model_name": "LayoutModel",
          "state": {
            "_model_module": "@jupyter-widgets/base",
            "_model_module_version": "1.2.0",
            "_model_name": "LayoutModel",
            "_view_count": null,
            "_view_module": "@jupyter-widgets/base",
            "_view_module_version": "1.2.0",
            "_view_name": "LayoutView",
            "align_content": null,
            "align_items": null,
            "align_self": null,
            "border": null,
            "bottom": null,
            "display": null,
            "flex": null,
            "flex_flow": null,
            "grid_area": null,
            "grid_auto_columns": null,
            "grid_auto_flow": null,
            "grid_auto_rows": null,
            "grid_column": null,
            "grid_gap": null,
            "grid_row": null,
            "grid_template_areas": null,
            "grid_template_columns": null,
            "grid_template_rows": null,
            "height": null,
            "justify_content": null,
            "justify_items": null,
            "left": null,
            "margin": null,
            "max_height": null,
            "max_width": null,
            "min_height": null,
            "min_width": null,
            "object_fit": null,
            "object_position": null,
            "order": null,
            "overflow": null,
            "overflow_x": null,
            "overflow_y": null,
            "padding": null,
            "right": null,
            "top": null,
            "visibility": null,
            "width": null
          }
        },
        "4bbf0d87f689421a982064fdc063e174": {
          "model_module": "@jupyter-widgets/controls",
          "model_module_version": "1.5.0",
          "model_name": "DescriptionStyleModel",
          "state": {
            "_model_module": "@jupyter-widgets/controls",
            "_model_module_version": "1.5.0",
            "_model_name": "DescriptionStyleModel",
            "_view_count": null,
            "_view_module": "@jupyter-widgets/base",
            "_view_module_version": "1.2.0",
            "_view_name": "StyleView",
            "description_width": ""
          }
        },
        "4dc29b4a213b46de9a7eee2c6eb58449": {
          "model_module": "@jupyter-widgets/controls",
          "model_module_version": "1.5.0",
          "model_name": "ProgressStyleModel",
          "state": {
            "_model_module": "@jupyter-widgets/controls",
            "_model_module_version": "1.5.0",
            "_model_name": "ProgressStyleModel",
            "_view_count": null,
            "_view_module": "@jupyter-widgets/base",
            "_view_module_version": "1.2.0",
            "_view_name": "StyleView",
            "bar_color": null,
            "description_width": ""
          }
        },
        "4eaaf5de583346e79ce2ce21819724b3": {
          "model_module": "@jupyter-widgets/controls",
          "model_module_version": "1.5.0",
          "model_name": "HBoxModel",
          "state": {
            "_dom_classes": [],
            "_model_module": "@jupyter-widgets/controls",
            "_model_module_version": "1.5.0",
            "_model_name": "HBoxModel",
            "_view_count": null,
            "_view_module": "@jupyter-widgets/controls",
            "_view_module_version": "1.5.0",
            "_view_name": "HBoxView",
            "box_style": "",
            "children": [
              "IPY_MODEL_171b86a8568a4e5cb37ac3c3f2e26944",
              "IPY_MODEL_d508f09fd66943079fb45d95d35865f8",
              "IPY_MODEL_d3e986579f93425b8611902e889d2c2e"
            ],
            "layout": "IPY_MODEL_f7a3f39693d14bdab93f65c609dc2335"
          }
        },
        "4f0ebc5ab1734431bbc46baf50342f87": {
          "model_module": "@jupyter-widgets/controls",
          "model_module_version": "1.5.0",
          "model_name": "FloatProgressModel",
          "state": {
            "_dom_classes": [],
            "_model_module": "@jupyter-widgets/controls",
            "_model_module_version": "1.5.0",
            "_model_name": "FloatProgressModel",
            "_view_count": null,
            "_view_module": "@jupyter-widgets/controls",
            "_view_module_version": "1.5.0",
            "_view_name": "ProgressView",
            "bar_style": "success",
            "description": "",
            "description_tooltip": null,
            "layout": "IPY_MODEL_0d827e5798764816bfe587ce9bf6346e",
            "max": 16,
            "min": 0,
            "orientation": "horizontal",
            "style": "IPY_MODEL_7012c976cbbe4c948cb0d864aec71ff4",
            "value": 16
          }
        },
        "501a5a5884944f668a73843a734ee269": {
          "model_module": "@jupyter-widgets/controls",
          "model_module_version": "1.5.0",
          "model_name": "DescriptionStyleModel",
          "state": {
            "_model_module": "@jupyter-widgets/controls",
            "_model_module_version": "1.5.0",
            "_model_name": "DescriptionStyleModel",
            "_view_count": null,
            "_view_module": "@jupyter-widgets/base",
            "_view_module_version": "1.2.0",
            "_view_name": "StyleView",
            "description_width": ""
          }
        },
        "5203862ac2834c7eace05f2459ae7a47": {
          "model_module": "@jupyter-widgets/controls",
          "model_module_version": "1.5.0",
          "model_name": "FloatProgressModel",
          "state": {
            "_dom_classes": [],
            "_model_module": "@jupyter-widgets/controls",
            "_model_module_version": "1.5.0",
            "_model_name": "FloatProgressModel",
            "_view_count": null,
            "_view_module": "@jupyter-widgets/controls",
            "_view_module_version": "1.5.0",
            "_view_name": "ProgressView",
            "bar_style": "success",
            "description": "",
            "description_tooltip": null,
            "layout": "IPY_MODEL_88758ac397a54dc0a923cb1d586c03d7",
            "max": 1,
            "min": 0,
            "orientation": "horizontal",
            "style": "IPY_MODEL_7a10d758f1f74341b4124e6c55e778ec",
            "value": 1
          }
        },
        "5284933b0e674e26916d9ebdf21672ee": {
          "model_module": "@jupyter-widgets/controls",
          "model_module_version": "1.5.0",
          "model_name": "FloatProgressModel",
          "state": {
            "_dom_classes": [],
            "_model_module": "@jupyter-widgets/controls",
            "_model_module_version": "1.5.0",
            "_model_name": "FloatProgressModel",
            "_view_count": null,
            "_view_module": "@jupyter-widgets/controls",
            "_view_module_version": "1.5.0",
            "_view_name": "ProgressView",
            "bar_style": "success",
            "description": "",
            "description_tooltip": null,
            "layout": "IPY_MODEL_c792f8235c0d4306b00e7948876657b4",
            "max": 16,
            "min": 0,
            "orientation": "horizontal",
            "style": "IPY_MODEL_00e61ae39d5a4a7a9821af3564343985",
            "value": 16
          }
        },
        "52a543d2a01f40478844d8adcab55177": {
          "model_module": "@jupyter-widgets/controls",
          "model_module_version": "1.5.0",
          "model_name": "HTMLModel",
          "state": {
            "_dom_classes": [],
            "_model_module": "@jupyter-widgets/controls",
            "_model_module_version": "1.5.0",
            "_model_name": "HTMLModel",
            "_view_count": null,
            "_view_module": "@jupyter-widgets/controls",
            "_view_module_version": "1.5.0",
            "_view_name": "HTMLView",
            "description": "",
            "description_tooltip": null,
            "layout": "IPY_MODEL_f1f00df5854d413c9179ce98fcab9126",
            "placeholder": "​",
            "style": "IPY_MODEL_42b20c7a44c44daf8d7a5fb570086c13",
            "value": ""
          }
        },
        "548cdd4874a94178a6df5342ee49e0db": {
          "model_module": "@jupyter-widgets/controls",
          "model_module_version": "1.5.0",
          "model_name": "HTMLModel",
          "state": {
            "_dom_classes": [],
            "_model_module": "@jupyter-widgets/controls",
            "_model_module_version": "1.5.0",
            "_model_name": "HTMLModel",
            "_view_count": null,
            "_view_module": "@jupyter-widgets/controls",
            "_view_module_version": "1.5.0",
            "_view_name": "HTMLView",
            "description": "",
            "description_tooltip": null,
            "layout": "IPY_MODEL_1577d5b5e8a045d1a9124899b8b60e22",
            "placeholder": "​",
            "style": "IPY_MODEL_5cee9c35eb69491b9fb292b67b802a64",
            "value": " 16/16 [00:06&lt;00:00,  2.35it/s]"
          }
        },
        "57a390389a664ef19c0747fa9d80ff88": {
          "model_module": "@jupyter-widgets/controls",
          "model_module_version": "1.5.0",
          "model_name": "DescriptionStyleModel",
          "state": {
            "_model_module": "@jupyter-widgets/controls",
            "_model_module_version": "1.5.0",
            "_model_name": "DescriptionStyleModel",
            "_view_count": null,
            "_view_module": "@jupyter-widgets/base",
            "_view_module_version": "1.2.0",
            "_view_name": "StyleView",
            "description_width": ""
          }
        },
        "589518986ed346a0b5b77e98399241d7": {
          "model_module": "@jupyter-widgets/base",
          "model_module_version": "1.2.0",
          "model_name": "LayoutModel",
          "state": {
            "_model_module": "@jupyter-widgets/base",
            "_model_module_version": "1.2.0",
            "_model_name": "LayoutModel",
            "_view_count": null,
            "_view_module": "@jupyter-widgets/base",
            "_view_module_version": "1.2.0",
            "_view_name": "LayoutView",
            "align_content": null,
            "align_items": null,
            "align_self": null,
            "border": null,
            "bottom": null,
            "display": null,
            "flex": null,
            "flex_flow": null,
            "grid_area": null,
            "grid_auto_columns": null,
            "grid_auto_flow": null,
            "grid_auto_rows": null,
            "grid_column": null,
            "grid_gap": null,
            "grid_row": null,
            "grid_template_areas": null,
            "grid_template_columns": null,
            "grid_template_rows": null,
            "height": null,
            "justify_content": null,
            "justify_items": null,
            "left": null,
            "margin": null,
            "max_height": null,
            "max_width": null,
            "min_height": null,
            "min_width": null,
            "object_fit": null,
            "object_position": null,
            "order": null,
            "overflow": null,
            "overflow_x": null,
            "overflow_y": null,
            "padding": null,
            "right": null,
            "top": null,
            "visibility": null,
            "width": null
          }
        },
        "5a3770ce927840729d371641426e4731": {
          "model_module": "@jupyter-widgets/base",
          "model_module_version": "1.2.0",
          "model_name": "LayoutModel",
          "state": {
            "_model_module": "@jupyter-widgets/base",
            "_model_module_version": "1.2.0",
            "_model_name": "LayoutModel",
            "_view_count": null,
            "_view_module": "@jupyter-widgets/base",
            "_view_module_version": "1.2.0",
            "_view_name": "LayoutView",
            "align_content": null,
            "align_items": null,
            "align_self": null,
            "border": null,
            "bottom": null,
            "display": null,
            "flex": null,
            "flex_flow": null,
            "grid_area": null,
            "grid_auto_columns": null,
            "grid_auto_flow": null,
            "grid_auto_rows": null,
            "grid_column": null,
            "grid_gap": null,
            "grid_row": null,
            "grid_template_areas": null,
            "grid_template_columns": null,
            "grid_template_rows": null,
            "height": null,
            "justify_content": null,
            "justify_items": null,
            "left": null,
            "margin": null,
            "max_height": null,
            "max_width": null,
            "min_height": null,
            "min_width": null,
            "object_fit": null,
            "object_position": null,
            "order": null,
            "overflow": null,
            "overflow_x": null,
            "overflow_y": null,
            "padding": null,
            "right": null,
            "top": null,
            "visibility": null,
            "width": null
          }
        },
        "5a53594c5e2c4c29afa2f65b0d02d3bc": {
          "model_module": "@jupyter-widgets/controls",
          "model_module_version": "1.5.0",
          "model_name": "DescriptionStyleModel",
          "state": {
            "_model_module": "@jupyter-widgets/controls",
            "_model_module_version": "1.5.0",
            "_model_name": "DescriptionStyleModel",
            "_view_count": null,
            "_view_module": "@jupyter-widgets/base",
            "_view_module_version": "1.2.0",
            "_view_name": "StyleView",
            "description_width": ""
          }
        },
        "5a5679038aa648668b0431b6dfeeb441": {
          "model_module": "@jupyter-widgets/controls",
          "model_module_version": "1.5.0",
          "model_name": "DescriptionStyleModel",
          "state": {
            "_model_module": "@jupyter-widgets/controls",
            "_model_module_version": "1.5.0",
            "_model_name": "DescriptionStyleModel",
            "_view_count": null,
            "_view_module": "@jupyter-widgets/base",
            "_view_module_version": "1.2.0",
            "_view_name": "StyleView",
            "description_width": ""
          }
        },
        "5b917e26a6554ada8354c6793f600fc5": {
          "model_module": "@jupyter-widgets/controls",
          "model_module_version": "1.5.0",
          "model_name": "HTMLModel",
          "state": {
            "_dom_classes": [],
            "_model_module": "@jupyter-widgets/controls",
            "_model_module_version": "1.5.0",
            "_model_name": "HTMLModel",
            "_view_count": null,
            "_view_module": "@jupyter-widgets/controls",
            "_view_module_version": "1.5.0",
            "_view_name": "HTMLView",
            "description": "",
            "description_tooltip": null,
            "layout": "IPY_MODEL_9b2832264bff40b4b03712d5b43ba0a2",
            "placeholder": "​",
            "style": "IPY_MODEL_501a5a5884944f668a73843a734ee269",
            "value": " 16/16 [00:06&lt;00:00,  2.35it/s]"
          }
        },
        "5cb6b8f4167c441c9c3898d85c2c54f5": {
          "model_module": "@jupyter-widgets/base",
          "model_module_version": "1.2.0",
          "model_name": "LayoutModel",
          "state": {
            "_model_module": "@jupyter-widgets/base",
            "_model_module_version": "1.2.0",
            "_model_name": "LayoutModel",
            "_view_count": null,
            "_view_module": "@jupyter-widgets/base",
            "_view_module_version": "1.2.0",
            "_view_name": "LayoutView",
            "align_content": null,
            "align_items": null,
            "align_self": null,
            "border": null,
            "bottom": null,
            "display": null,
            "flex": null,
            "flex_flow": null,
            "grid_area": null,
            "grid_auto_columns": null,
            "grid_auto_flow": null,
            "grid_auto_rows": null,
            "grid_column": null,
            "grid_gap": null,
            "grid_row": null,
            "grid_template_areas": null,
            "grid_template_columns": null,
            "grid_template_rows": null,
            "height": null,
            "justify_content": null,
            "justify_items": null,
            "left": null,
            "margin": null,
            "max_height": null,
            "max_width": null,
            "min_height": null,
            "min_width": null,
            "object_fit": null,
            "object_position": null,
            "order": null,
            "overflow": null,
            "overflow_x": null,
            "overflow_y": null,
            "padding": null,
            "right": null,
            "top": null,
            "visibility": null,
            "width": null
          }
        },
        "5cee9c35eb69491b9fb292b67b802a64": {
          "model_module": "@jupyter-widgets/controls",
          "model_module_version": "1.5.0",
          "model_name": "DescriptionStyleModel",
          "state": {
            "_model_module": "@jupyter-widgets/controls",
            "_model_module_version": "1.5.0",
            "_model_name": "DescriptionStyleModel",
            "_view_count": null,
            "_view_module": "@jupyter-widgets/base",
            "_view_module_version": "1.2.0",
            "_view_name": "StyleView",
            "description_width": ""
          }
        },
        "5fd0a06bf3cf4c2bbccdb38f27341ff9": {
          "model_module": "@jupyter-widgets/controls",
          "model_module_version": "1.5.0",
          "model_name": "DescriptionStyleModel",
          "state": {
            "_model_module": "@jupyter-widgets/controls",
            "_model_module_version": "1.5.0",
            "_model_name": "DescriptionStyleModel",
            "_view_count": null,
            "_view_module": "@jupyter-widgets/base",
            "_view_module_version": "1.2.0",
            "_view_name": "StyleView",
            "description_width": ""
          }
        },
        "618edf49fb284cc8938d2ed8e68a63d2": {
          "model_module": "@jupyter-widgets/controls",
          "model_module_version": "1.5.0",
          "model_name": "DescriptionStyleModel",
          "state": {
            "_model_module": "@jupyter-widgets/controls",
            "_model_module_version": "1.5.0",
            "_model_name": "DescriptionStyleModel",
            "_view_count": null,
            "_view_module": "@jupyter-widgets/base",
            "_view_module_version": "1.2.0",
            "_view_name": "StyleView",
            "description_width": ""
          }
        },
        "626f29ec746c43b598190788332ff5d5": {
          "model_module": "@jupyter-widgets/controls",
          "model_module_version": "1.5.0",
          "model_name": "HBoxModel",
          "state": {
            "_dom_classes": [],
            "_model_module": "@jupyter-widgets/controls",
            "_model_module_version": "1.5.0",
            "_model_name": "HBoxModel",
            "_view_count": null,
            "_view_module": "@jupyter-widgets/controls",
            "_view_module_version": "1.5.0",
            "_view_name": "HBoxView",
            "box_style": "",
            "children": [
              "IPY_MODEL_ccd63af5dcd549d3be2883a7eea0317a",
              "IPY_MODEL_71a2784ce9484d0a9da97d3e960878c1",
              "IPY_MODEL_aa5d0f89d60940c5af04d04ee1eaae0d"
            ],
            "layout": "IPY_MODEL_8c187d13db824fa09a5a986b3881d8ed"
          }
        },
        "637a8ceefad44655b8b072bb6a2feb97": {
          "model_module": "@jupyter-widgets/base",
          "model_module_version": "1.2.0",
          "model_name": "LayoutModel",
          "state": {
            "_model_module": "@jupyter-widgets/base",
            "_model_module_version": "1.2.0",
            "_model_name": "LayoutModel",
            "_view_count": null,
            "_view_module": "@jupyter-widgets/base",
            "_view_module_version": "1.2.0",
            "_view_name": "LayoutView",
            "align_content": null,
            "align_items": null,
            "align_self": null,
            "border": null,
            "bottom": null,
            "display": null,
            "flex": null,
            "flex_flow": null,
            "grid_area": null,
            "grid_auto_columns": null,
            "grid_auto_flow": null,
            "grid_auto_rows": null,
            "grid_column": null,
            "grid_gap": null,
            "grid_row": null,
            "grid_template_areas": null,
            "grid_template_columns": null,
            "grid_template_rows": null,
            "height": null,
            "justify_content": null,
            "justify_items": null,
            "left": null,
            "margin": null,
            "max_height": null,
            "max_width": null,
            "min_height": null,
            "min_width": null,
            "object_fit": null,
            "object_position": null,
            "order": null,
            "overflow": null,
            "overflow_x": null,
            "overflow_y": null,
            "padding": null,
            "right": null,
            "top": null,
            "visibility": null,
            "width": null
          }
        },
        "65d4541bec3b4d979c4260460f1d7cf2": {
          "model_module": "@jupyter-widgets/controls",
          "model_module_version": "1.5.0",
          "model_name": "HBoxModel",
          "state": {
            "_dom_classes": [],
            "_model_module": "@jupyter-widgets/controls",
            "_model_module_version": "1.5.0",
            "_model_name": "HBoxModel",
            "_view_count": null,
            "_view_module": "@jupyter-widgets/controls",
            "_view_module_version": "1.5.0",
            "_view_name": "HBoxView",
            "box_style": "",
            "children": [
              "IPY_MODEL_0df71641be594cdc976dd1dac0f40a86",
              "IPY_MODEL_234037c822c34dd88628281048e3f078",
              "IPY_MODEL_a69af22933fe422e863e70408b309713"
            ],
            "layout": "IPY_MODEL_3eb33e6eb2d94115baaa09bd7cea3a98"
          }
        },
        "65ef154df5614d2badcf3e5c8ca9777e": {
          "model_module": "@jupyter-widgets/controls",
          "model_module_version": "1.5.0",
          "model_name": "FloatProgressModel",
          "state": {
            "_dom_classes": [],
            "_model_module": "@jupyter-widgets/controls",
            "_model_module_version": "1.5.0",
            "_model_name": "FloatProgressModel",
            "_view_count": null,
            "_view_module": "@jupyter-widgets/controls",
            "_view_module_version": "1.5.0",
            "_view_name": "ProgressView",
            "bar_style": "success",
            "description": "",
            "description_tooltip": null,
            "layout": "IPY_MODEL_7242e5d7b8154487965667e4312cbe82",
            "max": 1,
            "min": 0,
            "orientation": "horizontal",
            "style": "IPY_MODEL_8b57654af9e1497ea69d3f20d05c7a17",
            "value": 1
          }
        },
        "665eb59d7e68413d8341982291a8a28e": {
          "model_module": "@jupyter-widgets/controls",
          "model_module_version": "1.5.0",
          "model_name": "ProgressStyleModel",
          "state": {
            "_model_module": "@jupyter-widgets/controls",
            "_model_module_version": "1.5.0",
            "_model_name": "ProgressStyleModel",
            "_view_count": null,
            "_view_module": "@jupyter-widgets/base",
            "_view_module_version": "1.2.0",
            "_view_name": "StyleView",
            "bar_color": null,
            "description_width": ""
          }
        },
        "6a583eaa66d643389f99918f9238b23e": {
          "model_module": "@jupyter-widgets/controls",
          "model_module_version": "1.5.0",
          "model_name": "DescriptionStyleModel",
          "state": {
            "_model_module": "@jupyter-widgets/controls",
            "_model_module_version": "1.5.0",
            "_model_name": "DescriptionStyleModel",
            "_view_count": null,
            "_view_module": "@jupyter-widgets/base",
            "_view_module_version": "1.2.0",
            "_view_name": "StyleView",
            "description_width": ""
          }
        },
        "6a6bced8baf842318ad9f9ffd89f3d23": {
          "model_module": "@jupyter-widgets/controls",
          "model_module_version": "1.5.0",
          "model_name": "DescriptionStyleModel",
          "state": {
            "_model_module": "@jupyter-widgets/controls",
            "_model_module_version": "1.5.0",
            "_model_name": "DescriptionStyleModel",
            "_view_count": null,
            "_view_module": "@jupyter-widgets/base",
            "_view_module_version": "1.2.0",
            "_view_name": "StyleView",
            "description_width": ""
          }
        },
        "6b6b3826b6484f4db5c8d0d04bcbd687": {
          "model_module": "@jupyter-widgets/base",
          "model_module_version": "1.2.0",
          "model_name": "LayoutModel",
          "state": {
            "_model_module": "@jupyter-widgets/base",
            "_model_module_version": "1.2.0",
            "_model_name": "LayoutModel",
            "_view_count": null,
            "_view_module": "@jupyter-widgets/base",
            "_view_module_version": "1.2.0",
            "_view_name": "LayoutView",
            "align_content": null,
            "align_items": null,
            "align_self": null,
            "border": null,
            "bottom": null,
            "display": null,
            "flex": null,
            "flex_flow": null,
            "grid_area": null,
            "grid_auto_columns": null,
            "grid_auto_flow": null,
            "grid_auto_rows": null,
            "grid_column": null,
            "grid_gap": null,
            "grid_row": null,
            "grid_template_areas": null,
            "grid_template_columns": null,
            "grid_template_rows": null,
            "height": null,
            "justify_content": null,
            "justify_items": null,
            "left": null,
            "margin": null,
            "max_height": null,
            "max_width": null,
            "min_height": null,
            "min_width": null,
            "object_fit": null,
            "object_position": null,
            "order": null,
            "overflow": null,
            "overflow_x": null,
            "overflow_y": null,
            "padding": null,
            "right": null,
            "top": null,
            "visibility": null,
            "width": null
          }
        },
        "6d358a73fc254f7384faf189ecd83e13": {
          "model_module": "@jupyter-widgets/controls",
          "model_module_version": "1.5.0",
          "model_name": "HTMLModel",
          "state": {
            "_dom_classes": [],
            "_model_module": "@jupyter-widgets/controls",
            "_model_module_version": "1.5.0",
            "_model_name": "HTMLModel",
            "_view_count": null,
            "_view_module": "@jupyter-widgets/controls",
            "_view_module_version": "1.5.0",
            "_view_name": "HTMLView",
            "description": "",
            "description_tooltip": null,
            "layout": "IPY_MODEL_1fb204d589c2444ebaaf33d6b3bfda88",
            "placeholder": "​",
            "style": "IPY_MODEL_d3bed07643b54e908f94cd8887677b58",
            "value": " 16/16 [00:06&lt;00:00,  2.35it/s]"
          }
        },
        "6d716e87412b462ababed26a16c72bf6": {
          "model_module": "@jupyter-widgets/controls",
          "model_module_version": "1.5.0",
          "model_name": "HTMLModel",
          "state": {
            "_dom_classes": [],
            "_model_module": "@jupyter-widgets/controls",
            "_model_module_version": "1.5.0",
            "_model_name": "HTMLModel",
            "_view_count": null,
            "_view_module": "@jupyter-widgets/controls",
            "_view_module_version": "1.5.0",
            "_view_name": "HTMLView",
            "description": "",
            "description_tooltip": null,
            "layout": "IPY_MODEL_b07b5f50cf4f41cb9501004ad26b92d8",
            "placeholder": "​",
            "style": "IPY_MODEL_e5a60baaaf5c46889e5e4e257d8adabf",
            "value": " 16/16 [00:06&lt;00:00,  2.34it/s]"
          }
        },
        "6f358d607ae2457e9e0d6da13177b742": {
          "model_module": "@jupyter-widgets/controls",
          "model_module_version": "1.5.0",
          "model_name": "DescriptionStyleModel",
          "state": {
            "_model_module": "@jupyter-widgets/controls",
            "_model_module_version": "1.5.0",
            "_model_name": "DescriptionStyleModel",
            "_view_count": null,
            "_view_module": "@jupyter-widgets/base",
            "_view_module_version": "1.2.0",
            "_view_name": "StyleView",
            "description_width": ""
          }
        },
        "6f81e7d34a2e49ecb233daba546b868c": {
          "model_module": "@jupyter-widgets/controls",
          "model_module_version": "1.5.0",
          "model_name": "HTMLModel",
          "state": {
            "_dom_classes": [],
            "_model_module": "@jupyter-widgets/controls",
            "_model_module_version": "1.5.0",
            "_model_name": "HTMLModel",
            "_view_count": null,
            "_view_module": "@jupyter-widgets/controls",
            "_view_module_version": "1.5.0",
            "_view_name": "HTMLView",
            "description": "",
            "description_tooltip": null,
            "layout": "IPY_MODEL_1f04d638204f46eba54d5072efef770b",
            "placeholder": "​",
            "style": "IPY_MODEL_1c31b719fec04c149d35d0e919694665",
            "value": "100%"
          }
        },
        "7012c976cbbe4c948cb0d864aec71ff4": {
          "model_module": "@jupyter-widgets/controls",
          "model_module_version": "1.5.0",
          "model_name": "ProgressStyleModel",
          "state": {
            "_model_module": "@jupyter-widgets/controls",
            "_model_module_version": "1.5.0",
            "_model_name": "ProgressStyleModel",
            "_view_count": null,
            "_view_module": "@jupyter-widgets/base",
            "_view_module_version": "1.2.0",
            "_view_name": "StyleView",
            "bar_color": null,
            "description_width": ""
          }
        },
        "7077e9b24cc5421f9a8eb8f2aeab07f9": {
          "model_module": "@jupyter-widgets/controls",
          "model_module_version": "1.5.0",
          "model_name": "DescriptionStyleModel",
          "state": {
            "_model_module": "@jupyter-widgets/controls",
            "_model_module_version": "1.5.0",
            "_model_name": "DescriptionStyleModel",
            "_view_count": null,
            "_view_module": "@jupyter-widgets/base",
            "_view_module_version": "1.2.0",
            "_view_name": "StyleView",
            "description_width": ""
          }
        },
        "70b759a03d2b45729bbad47367dfbb0b": {
          "model_module": "@jupyter-widgets/controls",
          "model_module_version": "1.5.0",
          "model_name": "HTMLModel",
          "state": {
            "_dom_classes": [],
            "_model_module": "@jupyter-widgets/controls",
            "_model_module_version": "1.5.0",
            "_model_name": "HTMLModel",
            "_view_count": null,
            "_view_module": "@jupyter-widgets/controls",
            "_view_module_version": "1.5.0",
            "_view_name": "HTMLView",
            "description": "",
            "description_tooltip": null,
            "layout": "IPY_MODEL_abab3b4d1b474c2cbc9bdd60ed1ff178",
            "placeholder": "​",
            "style": "IPY_MODEL_df58eef33389407cbe8b7c4867f0eca1",
            "value": " 16/16 [00:06&lt;00:00,  2.35it/s]"
          }
        },
        "70c1f1c8e72b41aba1a5378cbaec4864": {
          "model_module": "@jupyter-widgets/base",
          "model_module_version": "1.2.0",
          "model_name": "LayoutModel",
          "state": {
            "_model_module": "@jupyter-widgets/base",
            "_model_module_version": "1.2.0",
            "_model_name": "LayoutModel",
            "_view_count": null,
            "_view_module": "@jupyter-widgets/base",
            "_view_module_version": "1.2.0",
            "_view_name": "LayoutView",
            "align_content": null,
            "align_items": null,
            "align_self": null,
            "border": null,
            "bottom": null,
            "display": null,
            "flex": null,
            "flex_flow": null,
            "grid_area": null,
            "grid_auto_columns": null,
            "grid_auto_flow": null,
            "grid_auto_rows": null,
            "grid_column": null,
            "grid_gap": null,
            "grid_row": null,
            "grid_template_areas": null,
            "grid_template_columns": null,
            "grid_template_rows": null,
            "height": null,
            "justify_content": null,
            "justify_items": null,
            "left": null,
            "margin": null,
            "max_height": null,
            "max_width": null,
            "min_height": null,
            "min_width": null,
            "object_fit": null,
            "object_position": null,
            "order": null,
            "overflow": null,
            "overflow_x": null,
            "overflow_y": null,
            "padding": null,
            "right": null,
            "top": null,
            "visibility": null,
            "width": null
          }
        },
        "70d65d0540894f62bca07c8fe64167f4": {
          "model_module": "@jupyter-widgets/base",
          "model_module_version": "1.2.0",
          "model_name": "LayoutModel",
          "state": {
            "_model_module": "@jupyter-widgets/base",
            "_model_module_version": "1.2.0",
            "_model_name": "LayoutModel",
            "_view_count": null,
            "_view_module": "@jupyter-widgets/base",
            "_view_module_version": "1.2.0",
            "_view_name": "LayoutView",
            "align_content": null,
            "align_items": null,
            "align_self": null,
            "border": null,
            "bottom": null,
            "display": null,
            "flex": null,
            "flex_flow": null,
            "grid_area": null,
            "grid_auto_columns": null,
            "grid_auto_flow": null,
            "grid_auto_rows": null,
            "grid_column": null,
            "grid_gap": null,
            "grid_row": null,
            "grid_template_areas": null,
            "grid_template_columns": null,
            "grid_template_rows": null,
            "height": null,
            "justify_content": null,
            "justify_items": null,
            "left": null,
            "margin": null,
            "max_height": null,
            "max_width": null,
            "min_height": null,
            "min_width": null,
            "object_fit": null,
            "object_position": null,
            "order": null,
            "overflow": null,
            "overflow_x": null,
            "overflow_y": null,
            "padding": null,
            "right": null,
            "top": null,
            "visibility": null,
            "width": "20px"
          }
        },
        "71a2784ce9484d0a9da97d3e960878c1": {
          "model_module": "@jupyter-widgets/controls",
          "model_module_version": "1.5.0",
          "model_name": "FloatProgressModel",
          "state": {
            "_dom_classes": [],
            "_model_module": "@jupyter-widgets/controls",
            "_model_module_version": "1.5.0",
            "_model_name": "FloatProgressModel",
            "_view_count": null,
            "_view_module": "@jupyter-widgets/controls",
            "_view_module_version": "1.5.0",
            "_view_name": "ProgressView",
            "bar_style": "success",
            "description": "",
            "description_tooltip": null,
            "layout": "IPY_MODEL_ba9bb5d2335049bca26c74347bbc1d09",
            "max": 1,
            "min": 0,
            "orientation": "horizontal",
            "style": "IPY_MODEL_b074ffa4fb6c40d9a1769e0294fa79e0",
            "value": 1
          }
        },
        "7242e5d7b8154487965667e4312cbe82": {
          "model_module": "@jupyter-widgets/base",
          "model_module_version": "1.2.0",
          "model_name": "LayoutModel",
          "state": {
            "_model_module": "@jupyter-widgets/base",
            "_model_module_version": "1.2.0",
            "_model_name": "LayoutModel",
            "_view_count": null,
            "_view_module": "@jupyter-widgets/base",
            "_view_module_version": "1.2.0",
            "_view_name": "LayoutView",
            "align_content": null,
            "align_items": null,
            "align_self": null,
            "border": null,
            "bottom": null,
            "display": null,
            "flex": null,
            "flex_flow": null,
            "grid_area": null,
            "grid_auto_columns": null,
            "grid_auto_flow": null,
            "grid_auto_rows": null,
            "grid_column": null,
            "grid_gap": null,
            "grid_row": null,
            "grid_template_areas": null,
            "grid_template_columns": null,
            "grid_template_rows": null,
            "height": null,
            "justify_content": null,
            "justify_items": null,
            "left": null,
            "margin": null,
            "max_height": null,
            "max_width": null,
            "min_height": null,
            "min_width": null,
            "object_fit": null,
            "object_position": null,
            "order": null,
            "overflow": null,
            "overflow_x": null,
            "overflow_y": null,
            "padding": null,
            "right": null,
            "top": null,
            "visibility": null,
            "width": "20px"
          }
        },
        "72da24cf925a4c91b2137d90764ac541": {
          "model_module": "@jupyter-widgets/base",
          "model_module_version": "1.2.0",
          "model_name": "LayoutModel",
          "state": {
            "_model_module": "@jupyter-widgets/base",
            "_model_module_version": "1.2.0",
            "_model_name": "LayoutModel",
            "_view_count": null,
            "_view_module": "@jupyter-widgets/base",
            "_view_module_version": "1.2.0",
            "_view_name": "LayoutView",
            "align_content": null,
            "align_items": null,
            "align_self": null,
            "border": null,
            "bottom": null,
            "display": null,
            "flex": null,
            "flex_flow": null,
            "grid_area": null,
            "grid_auto_columns": null,
            "grid_auto_flow": null,
            "grid_auto_rows": null,
            "grid_column": null,
            "grid_gap": null,
            "grid_row": null,
            "grid_template_areas": null,
            "grid_template_columns": null,
            "grid_template_rows": null,
            "height": null,
            "justify_content": null,
            "justify_items": null,
            "left": null,
            "margin": null,
            "max_height": null,
            "max_width": null,
            "min_height": null,
            "min_width": null,
            "object_fit": null,
            "object_position": null,
            "order": null,
            "overflow": null,
            "overflow_x": null,
            "overflow_y": null,
            "padding": null,
            "right": null,
            "top": null,
            "visibility": null,
            "width": null
          }
        },
        "730444c6897b4ad3a38cc59261ba3051": {
          "model_module": "@jupyter-widgets/base",
          "model_module_version": "1.2.0",
          "model_name": "LayoutModel",
          "state": {
            "_model_module": "@jupyter-widgets/base",
            "_model_module_version": "1.2.0",
            "_model_name": "LayoutModel",
            "_view_count": null,
            "_view_module": "@jupyter-widgets/base",
            "_view_module_version": "1.2.0",
            "_view_name": "LayoutView",
            "align_content": null,
            "align_items": null,
            "align_self": null,
            "border": null,
            "bottom": null,
            "display": null,
            "flex": null,
            "flex_flow": null,
            "grid_area": null,
            "grid_auto_columns": null,
            "grid_auto_flow": null,
            "grid_auto_rows": null,
            "grid_column": null,
            "grid_gap": null,
            "grid_row": null,
            "grid_template_areas": null,
            "grid_template_columns": null,
            "grid_template_rows": null,
            "height": null,
            "justify_content": null,
            "justify_items": null,
            "left": null,
            "margin": null,
            "max_height": null,
            "max_width": null,
            "min_height": null,
            "min_width": null,
            "object_fit": null,
            "object_position": null,
            "order": null,
            "overflow": null,
            "overflow_x": null,
            "overflow_y": null,
            "padding": null,
            "right": null,
            "top": null,
            "visibility": null,
            "width": null
          }
        },
        "731e79d60bf2447ea041dfafaa31aff6": {
          "model_module": "@jupyter-widgets/base",
          "model_module_version": "1.2.0",
          "model_name": "LayoutModel",
          "state": {
            "_model_module": "@jupyter-widgets/base",
            "_model_module_version": "1.2.0",
            "_model_name": "LayoutModel",
            "_view_count": null,
            "_view_module": "@jupyter-widgets/base",
            "_view_module_version": "1.2.0",
            "_view_name": "LayoutView",
            "align_content": null,
            "align_items": null,
            "align_self": null,
            "border": null,
            "bottom": null,
            "display": null,
            "flex": null,
            "flex_flow": null,
            "grid_area": null,
            "grid_auto_columns": null,
            "grid_auto_flow": null,
            "grid_auto_rows": null,
            "grid_column": null,
            "grid_gap": null,
            "grid_row": null,
            "grid_template_areas": null,
            "grid_template_columns": null,
            "grid_template_rows": null,
            "height": null,
            "justify_content": null,
            "justify_items": null,
            "left": null,
            "margin": null,
            "max_height": null,
            "max_width": null,
            "min_height": null,
            "min_width": null,
            "object_fit": null,
            "object_position": null,
            "order": null,
            "overflow": null,
            "overflow_x": null,
            "overflow_y": null,
            "padding": null,
            "right": null,
            "top": null,
            "visibility": null,
            "width": null
          }
        },
        "734c87d309ed48a5b5b97379ff33b008": {
          "model_module": "@jupyter-widgets/controls",
          "model_module_version": "1.5.0",
          "model_name": "HTMLModel",
          "state": {
            "_dom_classes": [],
            "_model_module": "@jupyter-widgets/controls",
            "_model_module_version": "1.5.0",
            "_model_name": "HTMLModel",
            "_view_count": null,
            "_view_module": "@jupyter-widgets/controls",
            "_view_module_version": "1.5.0",
            "_view_name": "HTMLView",
            "description": "",
            "description_tooltip": null,
            "layout": "IPY_MODEL_70c1f1c8e72b41aba1a5378cbaec4864",
            "placeholder": "​",
            "style": "IPY_MODEL_f2649d42af4b4f5dbfbba4b1e36584ca",
            "value": " 16/16 [00:06&lt;00:00,  2.35it/s]"
          }
        },
        "742adac20ce44ec29c8f4197ea22b3c6": {
          "model_module": "@jupyter-widgets/base",
          "model_module_version": "1.2.0",
          "model_name": "LayoutModel",
          "state": {
            "_model_module": "@jupyter-widgets/base",
            "_model_module_version": "1.2.0",
            "_model_name": "LayoutModel",
            "_view_count": null,
            "_view_module": "@jupyter-widgets/base",
            "_view_module_version": "1.2.0",
            "_view_name": "LayoutView",
            "align_content": null,
            "align_items": null,
            "align_self": null,
            "border": null,
            "bottom": null,
            "display": null,
            "flex": null,
            "flex_flow": null,
            "grid_area": null,
            "grid_auto_columns": null,
            "grid_auto_flow": null,
            "grid_auto_rows": null,
            "grid_column": null,
            "grid_gap": null,
            "grid_row": null,
            "grid_template_areas": null,
            "grid_template_columns": null,
            "grid_template_rows": null,
            "height": null,
            "justify_content": null,
            "justify_items": null,
            "left": null,
            "margin": null,
            "max_height": null,
            "max_width": null,
            "min_height": null,
            "min_width": null,
            "object_fit": null,
            "object_position": null,
            "order": null,
            "overflow": null,
            "overflow_x": null,
            "overflow_y": null,
            "padding": null,
            "right": null,
            "top": null,
            "visibility": null,
            "width": null
          }
        },
        "75aecbfb431045eb8c13e437997af52f": {
          "model_module": "@jupyter-widgets/controls",
          "model_module_version": "1.5.0",
          "model_name": "FloatProgressModel",
          "state": {
            "_dom_classes": [],
            "_model_module": "@jupyter-widgets/controls",
            "_model_module_version": "1.5.0",
            "_model_name": "FloatProgressModel",
            "_view_count": null,
            "_view_module": "@jupyter-widgets/controls",
            "_view_module_version": "1.5.0",
            "_view_name": "ProgressView",
            "bar_style": "success",
            "description": "",
            "description_tooltip": null,
            "layout": "IPY_MODEL_b4d9586ceeec463d96da186aa5c81770",
            "max": 16,
            "min": 0,
            "orientation": "horizontal",
            "style": "IPY_MODEL_270dcfd34f0f4b4298e620ce655c17b8",
            "value": 16
          }
        },
        "7878a77247304ad3818ed5aa59397e51": {
          "model_module": "@jupyter-widgets/controls",
          "model_module_version": "1.5.0",
          "model_name": "FloatProgressModel",
          "state": {
            "_dom_classes": [],
            "_model_module": "@jupyter-widgets/controls",
            "_model_module_version": "1.5.0",
            "_model_name": "FloatProgressModel",
            "_view_count": null,
            "_view_module": "@jupyter-widgets/controls",
            "_view_module_version": "1.5.0",
            "_view_name": "ProgressView",
            "bar_style": "success",
            "description": "",
            "description_tooltip": null,
            "layout": "IPY_MODEL_a80365416f454dc5997f8891d10032c1",
            "max": 16,
            "min": 0,
            "orientation": "horizontal",
            "style": "IPY_MODEL_98175c5fc04f41e9824a3da488b09982",
            "value": 16
          }
        },
        "7a10d758f1f74341b4124e6c55e778ec": {
          "model_module": "@jupyter-widgets/controls",
          "model_module_version": "1.5.0",
          "model_name": "ProgressStyleModel",
          "state": {
            "_model_module": "@jupyter-widgets/controls",
            "_model_module_version": "1.5.0",
            "_model_name": "ProgressStyleModel",
            "_view_count": null,
            "_view_module": "@jupyter-widgets/base",
            "_view_module_version": "1.2.0",
            "_view_name": "StyleView",
            "bar_color": null,
            "description_width": ""
          }
        },
        "7a1a5756cb314f1183881e01024dd0d0": {
          "model_module": "@jupyter-widgets/controls",
          "model_module_version": "1.5.0",
          "model_name": "DescriptionStyleModel",
          "state": {
            "_model_module": "@jupyter-widgets/controls",
            "_model_module_version": "1.5.0",
            "_model_name": "DescriptionStyleModel",
            "_view_count": null,
            "_view_module": "@jupyter-widgets/base",
            "_view_module_version": "1.2.0",
            "_view_name": "StyleView",
            "description_width": ""
          }
        },
        "809b955f390347d0b5cb574af0b074e4": {
          "model_module": "@jupyter-widgets/controls",
          "model_module_version": "1.5.0",
          "model_name": "HTMLModel",
          "state": {
            "_dom_classes": [],
            "_model_module": "@jupyter-widgets/controls",
            "_model_module_version": "1.5.0",
            "_model_name": "HTMLModel",
            "_view_count": null,
            "_view_module": "@jupyter-widgets/controls",
            "_view_module_version": "1.5.0",
            "_view_name": "HTMLView",
            "description": "",
            "description_tooltip": null,
            "layout": "IPY_MODEL_b73baa6a3cda43978ef3432b4a9f127d",
            "placeholder": "​",
            "style": "IPY_MODEL_1790f79c46784779bc574eaaf4ac7b7c",
            "value": " 144/? [02:51&lt;00:00,  1.14s/it]"
          }
        },
        "8238ff3f6c5e46f2b58f01ac021ced3f": {
          "model_module": "@jupyter-widgets/controls",
          "model_module_version": "1.5.0",
          "model_name": "HBoxModel",
          "state": {
            "_dom_classes": [],
            "_model_module": "@jupyter-widgets/controls",
            "_model_module_version": "1.5.0",
            "_model_name": "HBoxModel",
            "_view_count": null,
            "_view_module": "@jupyter-widgets/controls",
            "_view_module_version": "1.5.0",
            "_view_name": "HBoxView",
            "box_style": "",
            "children": [
              "IPY_MODEL_bf1360c7af9f4c919ea6a38c58c94234",
              "IPY_MODEL_1cea4c4863bf40798b67238bc3867a7c",
              "IPY_MODEL_bc1ead227864414592323cd1d59f1ade"
            ],
            "layout": "IPY_MODEL_bdcfcc19cf2443f99279a4ac37713481"
          }
        },
        "838cc63a7d404c3594792664e72aa865": {
          "model_module": "@jupyter-widgets/controls",
          "model_module_version": "1.5.0",
          "model_name": "HTMLModel",
          "state": {
            "_dom_classes": [],
            "_model_module": "@jupyter-widgets/controls",
            "_model_module_version": "1.5.0",
            "_model_name": "HTMLModel",
            "_view_count": null,
            "_view_module": "@jupyter-widgets/controls",
            "_view_module_version": "1.5.0",
            "_view_name": "HTMLView",
            "description": "",
            "description_tooltip": null,
            "layout": "IPY_MODEL_0e2bf752f38e4f39a47ff03e3fb67892",
            "placeholder": "​",
            "style": "IPY_MODEL_6a6bced8baf842318ad9f9ffd89f3d23",
            "value": "100%"
          }
        },
        "852b5d5a59d94be0a72310d0a651d530": {
          "model_module": "@jupyter-widgets/controls",
          "model_module_version": "1.5.0",
          "model_name": "DescriptionStyleModel",
          "state": {
            "_model_module": "@jupyter-widgets/controls",
            "_model_module_version": "1.5.0",
            "_model_name": "DescriptionStyleModel",
            "_view_count": null,
            "_view_module": "@jupyter-widgets/base",
            "_view_module_version": "1.2.0",
            "_view_name": "StyleView",
            "description_width": ""
          }
        },
        "88758ac397a54dc0a923cb1d586c03d7": {
          "model_module": "@jupyter-widgets/base",
          "model_module_version": "1.2.0",
          "model_name": "LayoutModel",
          "state": {
            "_model_module": "@jupyter-widgets/base",
            "_model_module_version": "1.2.0",
            "_model_name": "LayoutModel",
            "_view_count": null,
            "_view_module": "@jupyter-widgets/base",
            "_view_module_version": "1.2.0",
            "_view_name": "LayoutView",
            "align_content": null,
            "align_items": null,
            "align_self": null,
            "border": null,
            "bottom": null,
            "display": null,
            "flex": null,
            "flex_flow": null,
            "grid_area": null,
            "grid_auto_columns": null,
            "grid_auto_flow": null,
            "grid_auto_rows": null,
            "grid_column": null,
            "grid_gap": null,
            "grid_row": null,
            "grid_template_areas": null,
            "grid_template_columns": null,
            "grid_template_rows": null,
            "height": null,
            "justify_content": null,
            "justify_items": null,
            "left": null,
            "margin": null,
            "max_height": null,
            "max_width": null,
            "min_height": null,
            "min_width": null,
            "object_fit": null,
            "object_position": null,
            "order": null,
            "overflow": null,
            "overflow_x": null,
            "overflow_y": null,
            "padding": null,
            "right": null,
            "top": null,
            "visibility": null,
            "width": "20px"
          }
        },
        "8b57654af9e1497ea69d3f20d05c7a17": {
          "model_module": "@jupyter-widgets/controls",
          "model_module_version": "1.5.0",
          "model_name": "ProgressStyleModel",
          "state": {
            "_model_module": "@jupyter-widgets/controls",
            "_model_module_version": "1.5.0",
            "_model_name": "ProgressStyleModel",
            "_view_count": null,
            "_view_module": "@jupyter-widgets/base",
            "_view_module_version": "1.2.0",
            "_view_name": "StyleView",
            "bar_color": null,
            "description_width": ""
          }
        },
        "8c187d13db824fa09a5a986b3881d8ed": {
          "model_module": "@jupyter-widgets/base",
          "model_module_version": "1.2.0",
          "model_name": "LayoutModel",
          "state": {
            "_model_module": "@jupyter-widgets/base",
            "_model_module_version": "1.2.0",
            "_model_name": "LayoutModel",
            "_view_count": null,
            "_view_module": "@jupyter-widgets/base",
            "_view_module_version": "1.2.0",
            "_view_name": "LayoutView",
            "align_content": null,
            "align_items": null,
            "align_self": null,
            "border": null,
            "bottom": null,
            "display": null,
            "flex": null,
            "flex_flow": null,
            "grid_area": null,
            "grid_auto_columns": null,
            "grid_auto_flow": null,
            "grid_auto_rows": null,
            "grid_column": null,
            "grid_gap": null,
            "grid_row": null,
            "grid_template_areas": null,
            "grid_template_columns": null,
            "grid_template_rows": null,
            "height": null,
            "justify_content": null,
            "justify_items": null,
            "left": null,
            "margin": null,
            "max_height": null,
            "max_width": null,
            "min_height": null,
            "min_width": null,
            "object_fit": null,
            "object_position": null,
            "order": null,
            "overflow": null,
            "overflow_x": null,
            "overflow_y": null,
            "padding": null,
            "right": null,
            "top": null,
            "visibility": null,
            "width": null
          }
        },
        "8d7621757d2048e0ae9e0125f74724f8": {
          "model_module": "@jupyter-widgets/base",
          "model_module_version": "1.2.0",
          "model_name": "LayoutModel",
          "state": {
            "_model_module": "@jupyter-widgets/base",
            "_model_module_version": "1.2.0",
            "_model_name": "LayoutModel",
            "_view_count": null,
            "_view_module": "@jupyter-widgets/base",
            "_view_module_version": "1.2.0",
            "_view_name": "LayoutView",
            "align_content": null,
            "align_items": null,
            "align_self": null,
            "border": null,
            "bottom": null,
            "display": null,
            "flex": null,
            "flex_flow": null,
            "grid_area": null,
            "grid_auto_columns": null,
            "grid_auto_flow": null,
            "grid_auto_rows": null,
            "grid_column": null,
            "grid_gap": null,
            "grid_row": null,
            "grid_template_areas": null,
            "grid_template_columns": null,
            "grid_template_rows": null,
            "height": null,
            "justify_content": null,
            "justify_items": null,
            "left": null,
            "margin": null,
            "max_height": null,
            "max_width": null,
            "min_height": null,
            "min_width": null,
            "object_fit": null,
            "object_position": null,
            "order": null,
            "overflow": null,
            "overflow_x": null,
            "overflow_y": null,
            "padding": null,
            "right": null,
            "top": null,
            "visibility": null,
            "width": null
          }
        },
        "8d7ea84965e14b428b0b006a103d4550": {
          "model_module": "@jupyter-widgets/controls",
          "model_module_version": "1.5.0",
          "model_name": "FloatProgressModel",
          "state": {
            "_dom_classes": [],
            "_model_module": "@jupyter-widgets/controls",
            "_model_module_version": "1.5.0",
            "_model_name": "FloatProgressModel",
            "_view_count": null,
            "_view_module": "@jupyter-widgets/controls",
            "_view_module_version": "1.5.0",
            "_view_name": "ProgressView",
            "bar_style": "success",
            "description": "",
            "description_tooltip": null,
            "layout": "IPY_MODEL_18f6929f4c124d57974536cf07b92344",
            "max": 1,
            "min": 0,
            "orientation": "horizontal",
            "style": "IPY_MODEL_2ea5d4c0127141e8b998307fe6fcb8ad",
            "value": 1
          }
        },
        "8e27d3e5b1684b2ab71a58f760b68893": {
          "model_module": "@jupyter-widgets/base",
          "model_module_version": "1.2.0",
          "model_name": "LayoutModel",
          "state": {
            "_model_module": "@jupyter-widgets/base",
            "_model_module_version": "1.2.0",
            "_model_name": "LayoutModel",
            "_view_count": null,
            "_view_module": "@jupyter-widgets/base",
            "_view_module_version": "1.2.0",
            "_view_name": "LayoutView",
            "align_content": null,
            "align_items": null,
            "align_self": null,
            "border": null,
            "bottom": null,
            "display": null,
            "flex": null,
            "flex_flow": null,
            "grid_area": null,
            "grid_auto_columns": null,
            "grid_auto_flow": null,
            "grid_auto_rows": null,
            "grid_column": null,
            "grid_gap": null,
            "grid_row": null,
            "grid_template_areas": null,
            "grid_template_columns": null,
            "grid_template_rows": null,
            "height": null,
            "justify_content": null,
            "justify_items": null,
            "left": null,
            "margin": null,
            "max_height": null,
            "max_width": null,
            "min_height": null,
            "min_width": null,
            "object_fit": null,
            "object_position": null,
            "order": null,
            "overflow": null,
            "overflow_x": null,
            "overflow_y": null,
            "padding": null,
            "right": null,
            "top": null,
            "visibility": null,
            "width": null
          }
        },
        "936984bf78514b0dae632e982a11ff1d": {
          "model_module": "@jupyter-widgets/base",
          "model_module_version": "1.2.0",
          "model_name": "LayoutModel",
          "state": {
            "_model_module": "@jupyter-widgets/base",
            "_model_module_version": "1.2.0",
            "_model_name": "LayoutModel",
            "_view_count": null,
            "_view_module": "@jupyter-widgets/base",
            "_view_module_version": "1.2.0",
            "_view_name": "LayoutView",
            "align_content": null,
            "align_items": null,
            "align_self": null,
            "border": null,
            "bottom": null,
            "display": null,
            "flex": null,
            "flex_flow": null,
            "grid_area": null,
            "grid_auto_columns": null,
            "grid_auto_flow": null,
            "grid_auto_rows": null,
            "grid_column": null,
            "grid_gap": null,
            "grid_row": null,
            "grid_template_areas": null,
            "grid_template_columns": null,
            "grid_template_rows": null,
            "height": null,
            "justify_content": null,
            "justify_items": null,
            "left": null,
            "margin": null,
            "max_height": null,
            "max_width": null,
            "min_height": null,
            "min_width": null,
            "object_fit": null,
            "object_position": null,
            "order": null,
            "overflow": null,
            "overflow_x": null,
            "overflow_y": null,
            "padding": null,
            "right": null,
            "top": null,
            "visibility": null,
            "width": null
          }
        },
        "937cce12547a4bc283ef6a037f496a2f": {
          "model_module": "@jupyter-widgets/controls",
          "model_module_version": "1.5.0",
          "model_name": "DescriptionStyleModel",
          "state": {
            "_model_module": "@jupyter-widgets/controls",
            "_model_module_version": "1.5.0",
            "_model_name": "DescriptionStyleModel",
            "_view_count": null,
            "_view_module": "@jupyter-widgets/base",
            "_view_module_version": "1.2.0",
            "_view_name": "StyleView",
            "description_width": ""
          }
        },
        "941f64ce7be941d895a993a091003156": {
          "model_module": "@jupyter-widgets/base",
          "model_module_version": "1.2.0",
          "model_name": "LayoutModel",
          "state": {
            "_model_module": "@jupyter-widgets/base",
            "_model_module_version": "1.2.0",
            "_model_name": "LayoutModel",
            "_view_count": null,
            "_view_module": "@jupyter-widgets/base",
            "_view_module_version": "1.2.0",
            "_view_name": "LayoutView",
            "align_content": null,
            "align_items": null,
            "align_self": null,
            "border": null,
            "bottom": null,
            "display": null,
            "flex": null,
            "flex_flow": null,
            "grid_area": null,
            "grid_auto_columns": null,
            "grid_auto_flow": null,
            "grid_auto_rows": null,
            "grid_column": null,
            "grid_gap": null,
            "grid_row": null,
            "grid_template_areas": null,
            "grid_template_columns": null,
            "grid_template_rows": null,
            "height": null,
            "justify_content": null,
            "justify_items": null,
            "left": null,
            "margin": null,
            "max_height": null,
            "max_width": null,
            "min_height": null,
            "min_width": null,
            "object_fit": null,
            "object_position": null,
            "order": null,
            "overflow": null,
            "overflow_x": null,
            "overflow_y": null,
            "padding": null,
            "right": null,
            "top": null,
            "visibility": null,
            "width": null
          }
        },
        "9754116820f44797bafb416886e0d816": {
          "model_module": "@jupyter-widgets/controls",
          "model_module_version": "1.5.0",
          "model_name": "HTMLModel",
          "state": {
            "_dom_classes": [],
            "_model_module": "@jupyter-widgets/controls",
            "_model_module_version": "1.5.0",
            "_model_name": "HTMLModel",
            "_view_count": null,
            "_view_module": "@jupyter-widgets/controls",
            "_view_module_version": "1.5.0",
            "_view_name": "HTMLView",
            "description": "",
            "description_tooltip": null,
            "layout": "IPY_MODEL_df16ce72e5714720955fd8324a4de8ab",
            "placeholder": "​",
            "style": "IPY_MODEL_ae4685ad4bef4e88970b7430b2ef6fee",
            "value": "100%"
          }
        },
        "978633661d874fb5b1f46d8a1adbfcd3": {
          "model_module": "@jupyter-widgets/controls",
          "model_module_version": "1.5.0",
          "model_name": "FloatProgressModel",
          "state": {
            "_dom_classes": [],
            "_model_module": "@jupyter-widgets/controls",
            "_model_module_version": "1.5.0",
            "_model_name": "FloatProgressModel",
            "_view_count": null,
            "_view_module": "@jupyter-widgets/controls",
            "_view_module_version": "1.5.0",
            "_view_name": "ProgressView",
            "bar_style": "success",
            "description": "",
            "description_tooltip": null,
            "layout": "IPY_MODEL_f3d7a7adfdb24dfe876b3c954761cb1b",
            "max": 16,
            "min": 0,
            "orientation": "horizontal",
            "style": "IPY_MODEL_9f5e05dde39744ce9b7ca511cd5daafd",
            "value": 16
          }
        },
        "9791faab87e247ba9106ca7f2c6328e5": {
          "model_module": "@jupyter-widgets/controls",
          "model_module_version": "1.5.0",
          "model_name": "HTMLModel",
          "state": {
            "_dom_classes": [],
            "_model_module": "@jupyter-widgets/controls",
            "_model_module_version": "1.5.0",
            "_model_name": "HTMLModel",
            "_view_count": null,
            "_view_module": "@jupyter-widgets/controls",
            "_view_module_version": "1.5.0",
            "_view_name": "HTMLView",
            "description": "",
            "description_tooltip": null,
            "layout": "IPY_MODEL_730444c6897b4ad3a38cc59261ba3051",
            "placeholder": "​",
            "style": "IPY_MODEL_450318aec33441e5ad54a8612b472940",
            "value": "100%"
          }
        },
        "97c9bb47b64f4dd097cc7d6696b202b0": {
          "model_module": "@jupyter-widgets/controls",
          "model_module_version": "1.5.0",
          "model_name": "HTMLModel",
          "state": {
            "_dom_classes": [],
            "_model_module": "@jupyter-widgets/controls",
            "_model_module_version": "1.5.0",
            "_model_name": "HTMLModel",
            "_view_count": null,
            "_view_module": "@jupyter-widgets/controls",
            "_view_module_version": "1.5.0",
            "_view_name": "HTMLView",
            "description": "",
            "description_tooltip": null,
            "layout": "IPY_MODEL_4a3d527d7f1d48b1a0a1594771f6d150",
            "placeholder": "​",
            "style": "IPY_MODEL_5a53594c5e2c4c29afa2f65b0d02d3bc",
            "value": ""
          }
        },
        "98175c5fc04f41e9824a3da488b09982": {
          "model_module": "@jupyter-widgets/controls",
          "model_module_version": "1.5.0",
          "model_name": "ProgressStyleModel",
          "state": {
            "_model_module": "@jupyter-widgets/controls",
            "_model_module_version": "1.5.0",
            "_model_name": "ProgressStyleModel",
            "_view_count": null,
            "_view_module": "@jupyter-widgets/base",
            "_view_module_version": "1.2.0",
            "_view_name": "StyleView",
            "bar_color": null,
            "description_width": ""
          }
        },
        "99d13010fe824e8d921e41fbeb4cee31": {
          "model_module": "@jupyter-widgets/controls",
          "model_module_version": "1.5.0",
          "model_name": "DescriptionStyleModel",
          "state": {
            "_model_module": "@jupyter-widgets/controls",
            "_model_module_version": "1.5.0",
            "_model_name": "DescriptionStyleModel",
            "_view_count": null,
            "_view_module": "@jupyter-widgets/base",
            "_view_module_version": "1.2.0",
            "_view_name": "StyleView",
            "description_width": ""
          }
        },
        "9a27e18821fb4c3ba6090c7d4fa8995e": {
          "model_module": "@jupyter-widgets/controls",
          "model_module_version": "1.5.0",
          "model_name": "HBoxModel",
          "state": {
            "_dom_classes": [],
            "_model_module": "@jupyter-widgets/controls",
            "_model_module_version": "1.5.0",
            "_model_name": "HBoxModel",
            "_view_count": null,
            "_view_module": "@jupyter-widgets/controls",
            "_view_module_version": "1.5.0",
            "_view_name": "HBoxView",
            "box_style": "",
            "children": [
              "IPY_MODEL_1654aeb2e77c4276bc0ffe4d639f3935",
              "IPY_MODEL_5203862ac2834c7eace05f2459ae7a47",
              "IPY_MODEL_c7763fa9464e417f8ba7b87d536af517"
            ],
            "layout": "IPY_MODEL_d75b00f073ef43468c3b5c744e97ee56"
          }
        },
        "9b2832264bff40b4b03712d5b43ba0a2": {
          "model_module": "@jupyter-widgets/base",
          "model_module_version": "1.2.0",
          "model_name": "LayoutModel",
          "state": {
            "_model_module": "@jupyter-widgets/base",
            "_model_module_version": "1.2.0",
            "_model_name": "LayoutModel",
            "_view_count": null,
            "_view_module": "@jupyter-widgets/base",
            "_view_module_version": "1.2.0",
            "_view_name": "LayoutView",
            "align_content": null,
            "align_items": null,
            "align_self": null,
            "border": null,
            "bottom": null,
            "display": null,
            "flex": null,
            "flex_flow": null,
            "grid_area": null,
            "grid_auto_columns": null,
            "grid_auto_flow": null,
            "grid_auto_rows": null,
            "grid_column": null,
            "grid_gap": null,
            "grid_row": null,
            "grid_template_areas": null,
            "grid_template_columns": null,
            "grid_template_rows": null,
            "height": null,
            "justify_content": null,
            "justify_items": null,
            "left": null,
            "margin": null,
            "max_height": null,
            "max_width": null,
            "min_height": null,
            "min_width": null,
            "object_fit": null,
            "object_position": null,
            "order": null,
            "overflow": null,
            "overflow_x": null,
            "overflow_y": null,
            "padding": null,
            "right": null,
            "top": null,
            "visibility": null,
            "width": null
          }
        },
        "9b7696ed9db24674820826decab01efc": {
          "model_module": "@jupyter-widgets/controls",
          "model_module_version": "1.5.0",
          "model_name": "HTMLModel",
          "state": {
            "_dom_classes": [],
            "_model_module": "@jupyter-widgets/controls",
            "_model_module_version": "1.5.0",
            "_model_name": "HTMLModel",
            "_view_count": null,
            "_view_module": "@jupyter-widgets/controls",
            "_view_module_version": "1.5.0",
            "_view_name": "HTMLView",
            "description": "",
            "description_tooltip": null,
            "layout": "IPY_MODEL_5a3770ce927840729d371641426e4731",
            "placeholder": "​",
            "style": "IPY_MODEL_937cce12547a4bc283ef6a037f496a2f",
            "value": "100%"
          }
        },
        "9e637ff6ea2b498c8f16500b5bf36074": {
          "model_module": "@jupyter-widgets/controls",
          "model_module_version": "1.5.0",
          "model_name": "FloatProgressModel",
          "state": {
            "_dom_classes": [],
            "_model_module": "@jupyter-widgets/controls",
            "_model_module_version": "1.5.0",
            "_model_name": "FloatProgressModel",
            "_view_count": null,
            "_view_module": "@jupyter-widgets/controls",
            "_view_module_version": "1.5.0",
            "_view_name": "ProgressView",
            "bar_style": "success",
            "description": "",
            "description_tooltip": null,
            "layout": "IPY_MODEL_ad0ca578b0ad4267a9545121d23961bb",
            "max": 1,
            "min": 0,
            "orientation": "horizontal",
            "style": "IPY_MODEL_c8510f35a40d4885bbdcf58f6226bdb4",
            "value": 1
          }
        },
        "9f5e05dde39744ce9b7ca511cd5daafd": {
          "model_module": "@jupyter-widgets/controls",
          "model_module_version": "1.5.0",
          "model_name": "ProgressStyleModel",
          "state": {
            "_model_module": "@jupyter-widgets/controls",
            "_model_module_version": "1.5.0",
            "_model_name": "ProgressStyleModel",
            "_view_count": null,
            "_view_module": "@jupyter-widgets/base",
            "_view_module_version": "1.2.0",
            "_view_name": "StyleView",
            "bar_color": null,
            "description_width": ""
          }
        },
        "a17bd04e95e04553a4f9029f683a8163": {
          "model_module": "@jupyter-widgets/controls",
          "model_module_version": "1.5.0",
          "model_name": "HBoxModel",
          "state": {
            "_dom_classes": [],
            "_model_module": "@jupyter-widgets/controls",
            "_model_module_version": "1.5.0",
            "_model_name": "HBoxModel",
            "_view_count": null,
            "_view_module": "@jupyter-widgets/controls",
            "_view_module_version": "1.5.0",
            "_view_name": "HBoxView",
            "box_style": "",
            "children": [
              "IPY_MODEL_a352361c7c0d42498e080792be604e12",
              "IPY_MODEL_65ef154df5614d2badcf3e5c8ca9777e",
              "IPY_MODEL_809b955f390347d0b5cb574af0b074e4"
            ],
            "layout": "IPY_MODEL_941f64ce7be941d895a993a091003156"
          }
        },
        "a352361c7c0d42498e080792be604e12": {
          "model_module": "@jupyter-widgets/controls",
          "model_module_version": "1.5.0",
          "model_name": "HTMLModel",
          "state": {
            "_dom_classes": [],
            "_model_module": "@jupyter-widgets/controls",
            "_model_module_version": "1.5.0",
            "_model_name": "HTMLModel",
            "_view_count": null,
            "_view_module": "@jupyter-widgets/controls",
            "_view_module_version": "1.5.0",
            "_view_name": "HTMLView",
            "description": "",
            "description_tooltip": null,
            "layout": "IPY_MODEL_14035c244a7a444d8b503c83cd7cab39",
            "placeholder": "​",
            "style": "IPY_MODEL_edbeef17d8ba48c5b853aaee26ecc9af",
            "value": ""
          }
        },
        "a59037926b644497a6a2fdf50892e30c": {
          "model_module": "@jupyter-widgets/controls",
          "model_module_version": "1.5.0",
          "model_name": "DescriptionStyleModel",
          "state": {
            "_model_module": "@jupyter-widgets/controls",
            "_model_module_version": "1.5.0",
            "_model_name": "DescriptionStyleModel",
            "_view_count": null,
            "_view_module": "@jupyter-widgets/base",
            "_view_module_version": "1.2.0",
            "_view_name": "StyleView",
            "description_width": ""
          }
        },
        "a69af22933fe422e863e70408b309713": {
          "model_module": "@jupyter-widgets/controls",
          "model_module_version": "1.5.0",
          "model_name": "HTMLModel",
          "state": {
            "_dom_classes": [],
            "_model_module": "@jupyter-widgets/controls",
            "_model_module_version": "1.5.0",
            "_model_name": "HTMLModel",
            "_view_count": null,
            "_view_module": "@jupyter-widgets/controls",
            "_view_module_version": "1.5.0",
            "_view_name": "HTMLView",
            "description": "",
            "description_tooltip": null,
            "layout": "IPY_MODEL_f802e349b8474590ac4c7953eab9b4e8",
            "placeholder": "​",
            "style": "IPY_MODEL_5fd0a06bf3cf4c2bbccdb38f27341ff9",
            "value": " 16/16 [00:06&lt;00:00,  2.35it/s]"
          }
        },
        "a6fe9dbe90864e28ba5e4301791d88bd": {
          "model_module": "@jupyter-widgets/controls",
          "model_module_version": "1.5.0",
          "model_name": "HBoxModel",
          "state": {
            "_dom_classes": [],
            "_model_module": "@jupyter-widgets/controls",
            "_model_module_version": "1.5.0",
            "_model_name": "HBoxModel",
            "_view_count": null,
            "_view_module": "@jupyter-widgets/controls",
            "_view_module_version": "1.5.0",
            "_view_name": "HBoxView",
            "box_style": "",
            "children": [
              "IPY_MODEL_cb093bf4bc7648f7b44d9c6467c95ec4",
              "IPY_MODEL_4f0ebc5ab1734431bbc46baf50342f87",
              "IPY_MODEL_6d716e87412b462ababed26a16c72bf6"
            ],
            "layout": "IPY_MODEL_4adaeb7cf3f84790870c1f7604b4cc1f"
          }
        },
        "a80365416f454dc5997f8891d10032c1": {
          "model_module": "@jupyter-widgets/base",
          "model_module_version": "1.2.0",
          "model_name": "LayoutModel",
          "state": {
            "_model_module": "@jupyter-widgets/base",
            "_model_module_version": "1.2.0",
            "_model_name": "LayoutModel",
            "_view_count": null,
            "_view_module": "@jupyter-widgets/base",
            "_view_module_version": "1.2.0",
            "_view_name": "LayoutView",
            "align_content": null,
            "align_items": null,
            "align_self": null,
            "border": null,
            "bottom": null,
            "display": null,
            "flex": null,
            "flex_flow": null,
            "grid_area": null,
            "grid_auto_columns": null,
            "grid_auto_flow": null,
            "grid_auto_rows": null,
            "grid_column": null,
            "grid_gap": null,
            "grid_row": null,
            "grid_template_areas": null,
            "grid_template_columns": null,
            "grid_template_rows": null,
            "height": null,
            "justify_content": null,
            "justify_items": null,
            "left": null,
            "margin": null,
            "max_height": null,
            "max_width": null,
            "min_height": null,
            "min_width": null,
            "object_fit": null,
            "object_position": null,
            "order": null,
            "overflow": null,
            "overflow_x": null,
            "overflow_y": null,
            "padding": null,
            "right": null,
            "top": null,
            "visibility": null,
            "width": null
          }
        },
        "a8a86ddf11334122a0081e7b9988baf9": {
          "model_module": "@jupyter-widgets/base",
          "model_module_version": "1.2.0",
          "model_name": "LayoutModel",
          "state": {
            "_model_module": "@jupyter-widgets/base",
            "_model_module_version": "1.2.0",
            "_model_name": "LayoutModel",
            "_view_count": null,
            "_view_module": "@jupyter-widgets/base",
            "_view_module_version": "1.2.0",
            "_view_name": "LayoutView",
            "align_content": null,
            "align_items": null,
            "align_self": null,
            "border": null,
            "bottom": null,
            "display": null,
            "flex": null,
            "flex_flow": null,
            "grid_area": null,
            "grid_auto_columns": null,
            "grid_auto_flow": null,
            "grid_auto_rows": null,
            "grid_column": null,
            "grid_gap": null,
            "grid_row": null,
            "grid_template_areas": null,
            "grid_template_columns": null,
            "grid_template_rows": null,
            "height": null,
            "justify_content": null,
            "justify_items": null,
            "left": null,
            "margin": null,
            "max_height": null,
            "max_width": null,
            "min_height": null,
            "min_width": null,
            "object_fit": null,
            "object_position": null,
            "order": null,
            "overflow": null,
            "overflow_x": null,
            "overflow_y": null,
            "padding": null,
            "right": null,
            "top": null,
            "visibility": null,
            "width": null
          }
        },
        "aa5d0f89d60940c5af04d04ee1eaae0d": {
          "model_module": "@jupyter-widgets/controls",
          "model_module_version": "1.5.0",
          "model_name": "HTMLModel",
          "state": {
            "_dom_classes": [],
            "_model_module": "@jupyter-widgets/controls",
            "_model_module_version": "1.5.0",
            "_model_name": "HTMLModel",
            "_view_count": null,
            "_view_module": "@jupyter-widgets/controls",
            "_view_module_version": "1.5.0",
            "_view_name": "HTMLView",
            "description": "",
            "description_tooltip": null,
            "layout": "IPY_MODEL_589518986ed346a0b5b77e98399241d7",
            "placeholder": "​",
            "style": "IPY_MODEL_259f742dc5994d7da5278efdc527c1ea",
            "value": " 144/? [02:51&lt;00:00,  1.14s/it]"
          }
        },
        "ab2e72531e1c4af48608e812bd1edd84": {
          "model_module": "@jupyter-widgets/controls",
          "model_module_version": "1.5.0",
          "model_name": "ProgressStyleModel",
          "state": {
            "_model_module": "@jupyter-widgets/controls",
            "_model_module_version": "1.5.0",
            "_model_name": "ProgressStyleModel",
            "_view_count": null,
            "_view_module": "@jupyter-widgets/base",
            "_view_module_version": "1.2.0",
            "_view_name": "StyleView",
            "bar_color": null,
            "description_width": ""
          }
        },
        "abab3b4d1b474c2cbc9bdd60ed1ff178": {
          "model_module": "@jupyter-widgets/base",
          "model_module_version": "1.2.0",
          "model_name": "LayoutModel",
          "state": {
            "_model_module": "@jupyter-widgets/base",
            "_model_module_version": "1.2.0",
            "_model_name": "LayoutModel",
            "_view_count": null,
            "_view_module": "@jupyter-widgets/base",
            "_view_module_version": "1.2.0",
            "_view_name": "LayoutView",
            "align_content": null,
            "align_items": null,
            "align_self": null,
            "border": null,
            "bottom": null,
            "display": null,
            "flex": null,
            "flex_flow": null,
            "grid_area": null,
            "grid_auto_columns": null,
            "grid_auto_flow": null,
            "grid_auto_rows": null,
            "grid_column": null,
            "grid_gap": null,
            "grid_row": null,
            "grid_template_areas": null,
            "grid_template_columns": null,
            "grid_template_rows": null,
            "height": null,
            "justify_content": null,
            "justify_items": null,
            "left": null,
            "margin": null,
            "max_height": null,
            "max_width": null,
            "min_height": null,
            "min_width": null,
            "object_fit": null,
            "object_position": null,
            "order": null,
            "overflow": null,
            "overflow_x": null,
            "overflow_y": null,
            "padding": null,
            "right": null,
            "top": null,
            "visibility": null,
            "width": null
          }
        },
        "abdc1115a91341d3b39d78537a057369": {
          "model_module": "@jupyter-widgets/controls",
          "model_module_version": "1.5.0",
          "model_name": "HBoxModel",
          "state": {
            "_dom_classes": [],
            "_model_module": "@jupyter-widgets/controls",
            "_model_module_version": "1.5.0",
            "_model_name": "HBoxModel",
            "_view_count": null,
            "_view_module": "@jupyter-widgets/controls",
            "_view_module_version": "1.5.0",
            "_view_name": "HBoxView",
            "box_style": "",
            "children": [
              "IPY_MODEL_07cf1c4149b643fbb6ade35f9c4392ab",
              "IPY_MODEL_dce4391ec0154c8396184a4210a0c1db",
              "IPY_MODEL_d1940b70e4c4461f92c8176c1a4716bc"
            ],
            "layout": "IPY_MODEL_f804982663b946a7b3c279da52bffdb8"
          }
        },
        "ad0ca578b0ad4267a9545121d23961bb": {
          "model_module": "@jupyter-widgets/base",
          "model_module_version": "1.2.0",
          "model_name": "LayoutModel",
          "state": {
            "_model_module": "@jupyter-widgets/base",
            "_model_module_version": "1.2.0",
            "_model_name": "LayoutModel",
            "_view_count": null,
            "_view_module": "@jupyter-widgets/base",
            "_view_module_version": "1.2.0",
            "_view_name": "LayoutView",
            "align_content": null,
            "align_items": null,
            "align_self": null,
            "border": null,
            "bottom": null,
            "display": null,
            "flex": null,
            "flex_flow": null,
            "grid_area": null,
            "grid_auto_columns": null,
            "grid_auto_flow": null,
            "grid_auto_rows": null,
            "grid_column": null,
            "grid_gap": null,
            "grid_row": null,
            "grid_template_areas": null,
            "grid_template_columns": null,
            "grid_template_rows": null,
            "height": null,
            "justify_content": null,
            "justify_items": null,
            "left": null,
            "margin": null,
            "max_height": null,
            "max_width": null,
            "min_height": null,
            "min_width": null,
            "object_fit": null,
            "object_position": null,
            "order": null,
            "overflow": null,
            "overflow_x": null,
            "overflow_y": null,
            "padding": null,
            "right": null,
            "top": null,
            "visibility": null,
            "width": "20px"
          }
        },
        "ad5c27f815a5406c92b4e42d5de5f023": {
          "model_module": "@jupyter-widgets/controls",
          "model_module_version": "1.5.0",
          "model_name": "ProgressStyleModel",
          "state": {
            "_model_module": "@jupyter-widgets/controls",
            "_model_module_version": "1.5.0",
            "_model_name": "ProgressStyleModel",
            "_view_count": null,
            "_view_module": "@jupyter-widgets/base",
            "_view_module_version": "1.2.0",
            "_view_name": "StyleView",
            "bar_color": null,
            "description_width": ""
          }
        },
        "ae4685ad4bef4e88970b7430b2ef6fee": {
          "model_module": "@jupyter-widgets/controls",
          "model_module_version": "1.5.0",
          "model_name": "DescriptionStyleModel",
          "state": {
            "_model_module": "@jupyter-widgets/controls",
            "_model_module_version": "1.5.0",
            "_model_name": "DescriptionStyleModel",
            "_view_count": null,
            "_view_module": "@jupyter-widgets/base",
            "_view_module_version": "1.2.0",
            "_view_name": "StyleView",
            "description_width": ""
          }
        },
        "b074ffa4fb6c40d9a1769e0294fa79e0": {
          "model_module": "@jupyter-widgets/controls",
          "model_module_version": "1.5.0",
          "model_name": "ProgressStyleModel",
          "state": {
            "_model_module": "@jupyter-widgets/controls",
            "_model_module_version": "1.5.0",
            "_model_name": "ProgressStyleModel",
            "_view_count": null,
            "_view_module": "@jupyter-widgets/base",
            "_view_module_version": "1.2.0",
            "_view_name": "StyleView",
            "bar_color": null,
            "description_width": ""
          }
        },
        "b07b5f50cf4f41cb9501004ad26b92d8": {
          "model_module": "@jupyter-widgets/base",
          "model_module_version": "1.2.0",
          "model_name": "LayoutModel",
          "state": {
            "_model_module": "@jupyter-widgets/base",
            "_model_module_version": "1.2.0",
            "_model_name": "LayoutModel",
            "_view_count": null,
            "_view_module": "@jupyter-widgets/base",
            "_view_module_version": "1.2.0",
            "_view_name": "LayoutView",
            "align_content": null,
            "align_items": null,
            "align_self": null,
            "border": null,
            "bottom": null,
            "display": null,
            "flex": null,
            "flex_flow": null,
            "grid_area": null,
            "grid_auto_columns": null,
            "grid_auto_flow": null,
            "grid_auto_rows": null,
            "grid_column": null,
            "grid_gap": null,
            "grid_row": null,
            "grid_template_areas": null,
            "grid_template_columns": null,
            "grid_template_rows": null,
            "height": null,
            "justify_content": null,
            "justify_items": null,
            "left": null,
            "margin": null,
            "max_height": null,
            "max_width": null,
            "min_height": null,
            "min_width": null,
            "object_fit": null,
            "object_position": null,
            "order": null,
            "overflow": null,
            "overflow_x": null,
            "overflow_y": null,
            "padding": null,
            "right": null,
            "top": null,
            "visibility": null,
            "width": null
          }
        },
        "b2772efdb16a446d95050f2c7e800b37": {
          "model_module": "@jupyter-widgets/controls",
          "model_module_version": "1.5.0",
          "model_name": "HTMLModel",
          "state": {
            "_dom_classes": [],
            "_model_module": "@jupyter-widgets/controls",
            "_model_module_version": "1.5.0",
            "_model_name": "HTMLModel",
            "_view_count": null,
            "_view_module": "@jupyter-widgets/controls",
            "_view_module_version": "1.5.0",
            "_view_name": "HTMLView",
            "description": "",
            "description_tooltip": null,
            "layout": "IPY_MODEL_3332b41775ca449b8b638354a76f99b6",
            "placeholder": "​",
            "style": "IPY_MODEL_7a1a5756cb314f1183881e01024dd0d0",
            "value": ""
          }
        },
        "b342308ea51040109fca619a9ba54e87": {
          "model_module": "@jupyter-widgets/base",
          "model_module_version": "1.2.0",
          "model_name": "LayoutModel",
          "state": {
            "_model_module": "@jupyter-widgets/base",
            "_model_module_version": "1.2.0",
            "_model_name": "LayoutModel",
            "_view_count": null,
            "_view_module": "@jupyter-widgets/base",
            "_view_module_version": "1.2.0",
            "_view_name": "LayoutView",
            "align_content": null,
            "align_items": null,
            "align_self": null,
            "border": null,
            "bottom": null,
            "display": null,
            "flex": null,
            "flex_flow": null,
            "grid_area": null,
            "grid_auto_columns": null,
            "grid_auto_flow": null,
            "grid_auto_rows": null,
            "grid_column": null,
            "grid_gap": null,
            "grid_row": null,
            "grid_template_areas": null,
            "grid_template_columns": null,
            "grid_template_rows": null,
            "height": null,
            "justify_content": null,
            "justify_items": null,
            "left": null,
            "margin": null,
            "max_height": null,
            "max_width": null,
            "min_height": null,
            "min_width": null,
            "object_fit": null,
            "object_position": null,
            "order": null,
            "overflow": null,
            "overflow_x": null,
            "overflow_y": null,
            "padding": null,
            "right": null,
            "top": null,
            "visibility": null,
            "width": null
          }
        },
        "b4d9586ceeec463d96da186aa5c81770": {
          "model_module": "@jupyter-widgets/base",
          "model_module_version": "1.2.0",
          "model_name": "LayoutModel",
          "state": {
            "_model_module": "@jupyter-widgets/base",
            "_model_module_version": "1.2.0",
            "_model_name": "LayoutModel",
            "_view_count": null,
            "_view_module": "@jupyter-widgets/base",
            "_view_module_version": "1.2.0",
            "_view_name": "LayoutView",
            "align_content": null,
            "align_items": null,
            "align_self": null,
            "border": null,
            "bottom": null,
            "display": null,
            "flex": null,
            "flex_flow": null,
            "grid_area": null,
            "grid_auto_columns": null,
            "grid_auto_flow": null,
            "grid_auto_rows": null,
            "grid_column": null,
            "grid_gap": null,
            "grid_row": null,
            "grid_template_areas": null,
            "grid_template_columns": null,
            "grid_template_rows": null,
            "height": null,
            "justify_content": null,
            "justify_items": null,
            "left": null,
            "margin": null,
            "max_height": null,
            "max_width": null,
            "min_height": null,
            "min_width": null,
            "object_fit": null,
            "object_position": null,
            "order": null,
            "overflow": null,
            "overflow_x": null,
            "overflow_y": null,
            "padding": null,
            "right": null,
            "top": null,
            "visibility": null,
            "width": null
          }
        },
        "b615a20e99f7467ca3a47132e6d1eb3b": {
          "model_module": "@jupyter-widgets/base",
          "model_module_version": "1.2.0",
          "model_name": "LayoutModel",
          "state": {
            "_model_module": "@jupyter-widgets/base",
            "_model_module_version": "1.2.0",
            "_model_name": "LayoutModel",
            "_view_count": null,
            "_view_module": "@jupyter-widgets/base",
            "_view_module_version": "1.2.0",
            "_view_name": "LayoutView",
            "align_content": null,
            "align_items": null,
            "align_self": null,
            "border": null,
            "bottom": null,
            "display": null,
            "flex": null,
            "flex_flow": null,
            "grid_area": null,
            "grid_auto_columns": null,
            "grid_auto_flow": null,
            "grid_auto_rows": null,
            "grid_column": null,
            "grid_gap": null,
            "grid_row": null,
            "grid_template_areas": null,
            "grid_template_columns": null,
            "grid_template_rows": null,
            "height": null,
            "justify_content": null,
            "justify_items": null,
            "left": null,
            "margin": null,
            "max_height": null,
            "max_width": null,
            "min_height": null,
            "min_width": null,
            "object_fit": null,
            "object_position": null,
            "order": null,
            "overflow": null,
            "overflow_x": null,
            "overflow_y": null,
            "padding": null,
            "right": null,
            "top": null,
            "visibility": null,
            "width": null
          }
        },
        "b73baa6a3cda43978ef3432b4a9f127d": {
          "model_module": "@jupyter-widgets/base",
          "model_module_version": "1.2.0",
          "model_name": "LayoutModel",
          "state": {
            "_model_module": "@jupyter-widgets/base",
            "_model_module_version": "1.2.0",
            "_model_name": "LayoutModel",
            "_view_count": null,
            "_view_module": "@jupyter-widgets/base",
            "_view_module_version": "1.2.0",
            "_view_name": "LayoutView",
            "align_content": null,
            "align_items": null,
            "align_self": null,
            "border": null,
            "bottom": null,
            "display": null,
            "flex": null,
            "flex_flow": null,
            "grid_area": null,
            "grid_auto_columns": null,
            "grid_auto_flow": null,
            "grid_auto_rows": null,
            "grid_column": null,
            "grid_gap": null,
            "grid_row": null,
            "grid_template_areas": null,
            "grid_template_columns": null,
            "grid_template_rows": null,
            "height": null,
            "justify_content": null,
            "justify_items": null,
            "left": null,
            "margin": null,
            "max_height": null,
            "max_width": null,
            "min_height": null,
            "min_width": null,
            "object_fit": null,
            "object_position": null,
            "order": null,
            "overflow": null,
            "overflow_x": null,
            "overflow_y": null,
            "padding": null,
            "right": null,
            "top": null,
            "visibility": null,
            "width": null
          }
        },
        "b89bb224542d4de09e7e63c12bad8dca": {
          "model_module": "@jupyter-widgets/base",
          "model_module_version": "1.2.0",
          "model_name": "LayoutModel",
          "state": {
            "_model_module": "@jupyter-widgets/base",
            "_model_module_version": "1.2.0",
            "_model_name": "LayoutModel",
            "_view_count": null,
            "_view_module": "@jupyter-widgets/base",
            "_view_module_version": "1.2.0",
            "_view_name": "LayoutView",
            "align_content": null,
            "align_items": null,
            "align_self": null,
            "border": null,
            "bottom": null,
            "display": null,
            "flex": null,
            "flex_flow": null,
            "grid_area": null,
            "grid_auto_columns": null,
            "grid_auto_flow": null,
            "grid_auto_rows": null,
            "grid_column": null,
            "grid_gap": null,
            "grid_row": null,
            "grid_template_areas": null,
            "grid_template_columns": null,
            "grid_template_rows": null,
            "height": null,
            "justify_content": null,
            "justify_items": null,
            "left": null,
            "margin": null,
            "max_height": null,
            "max_width": null,
            "min_height": null,
            "min_width": null,
            "object_fit": null,
            "object_position": null,
            "order": null,
            "overflow": null,
            "overflow_x": null,
            "overflow_y": null,
            "padding": null,
            "right": null,
            "top": null,
            "visibility": null,
            "width": null
          }
        },
        "b8f9ac531fa94de7bec181da8829456e": {
          "model_module": "@jupyter-widgets/controls",
          "model_module_version": "1.5.0",
          "model_name": "HTMLModel",
          "state": {
            "_dom_classes": [],
            "_model_module": "@jupyter-widgets/controls",
            "_model_module_version": "1.5.0",
            "_model_name": "HTMLModel",
            "_view_count": null,
            "_view_module": "@jupyter-widgets/controls",
            "_view_module_version": "1.5.0",
            "_view_name": "HTMLView",
            "description": "",
            "description_tooltip": null,
            "layout": "IPY_MODEL_2de8add1d5a14b7cbe93a88ef5bcc7b0",
            "placeholder": "​",
            "style": "IPY_MODEL_99d13010fe824e8d921e41fbeb4cee31",
            "value": "100%"
          }
        },
        "b9e2d0ac33804d06a740f9a9e2e9b713": {
          "model_module": "@jupyter-widgets/controls",
          "model_module_version": "1.5.0",
          "model_name": "DescriptionStyleModel",
          "state": {
            "_model_module": "@jupyter-widgets/controls",
            "_model_module_version": "1.5.0",
            "_model_name": "DescriptionStyleModel",
            "_view_count": null,
            "_view_module": "@jupyter-widgets/base",
            "_view_module_version": "1.2.0",
            "_view_name": "StyleView",
            "description_width": ""
          }
        },
        "ba9bb5d2335049bca26c74347bbc1d09": {
          "model_module": "@jupyter-widgets/base",
          "model_module_version": "1.2.0",
          "model_name": "LayoutModel",
          "state": {
            "_model_module": "@jupyter-widgets/base",
            "_model_module_version": "1.2.0",
            "_model_name": "LayoutModel",
            "_view_count": null,
            "_view_module": "@jupyter-widgets/base",
            "_view_module_version": "1.2.0",
            "_view_name": "LayoutView",
            "align_content": null,
            "align_items": null,
            "align_self": null,
            "border": null,
            "bottom": null,
            "display": null,
            "flex": null,
            "flex_flow": null,
            "grid_area": null,
            "grid_auto_columns": null,
            "grid_auto_flow": null,
            "grid_auto_rows": null,
            "grid_column": null,
            "grid_gap": null,
            "grid_row": null,
            "grid_template_areas": null,
            "grid_template_columns": null,
            "grid_template_rows": null,
            "height": null,
            "justify_content": null,
            "justify_items": null,
            "left": null,
            "margin": null,
            "max_height": null,
            "max_width": null,
            "min_height": null,
            "min_width": null,
            "object_fit": null,
            "object_position": null,
            "order": null,
            "overflow": null,
            "overflow_x": null,
            "overflow_y": null,
            "padding": null,
            "right": null,
            "top": null,
            "visibility": null,
            "width": "20px"
          }
        },
        "bc1ead227864414592323cd1d59f1ade": {
          "model_module": "@jupyter-widgets/controls",
          "model_module_version": "1.5.0",
          "model_name": "HTMLModel",
          "state": {
            "_dom_classes": [],
            "_model_module": "@jupyter-widgets/controls",
            "_model_module_version": "1.5.0",
            "_model_name": "HTMLModel",
            "_view_count": null,
            "_view_module": "@jupyter-widgets/controls",
            "_view_module_version": "1.5.0",
            "_view_name": "HTMLView",
            "description": "",
            "description_tooltip": null,
            "layout": "IPY_MODEL_b89bb224542d4de09e7e63c12bad8dca",
            "placeholder": "​",
            "style": "IPY_MODEL_c17d4593a56d483bbc241933a9e333f5",
            "value": " 144/? [02:52&lt;00:00,  1.14s/it]"
          }
        },
        "bdcfcc19cf2443f99279a4ac37713481": {
          "model_module": "@jupyter-widgets/base",
          "model_module_version": "1.2.0",
          "model_name": "LayoutModel",
          "state": {
            "_model_module": "@jupyter-widgets/base",
            "_model_module_version": "1.2.0",
            "_model_name": "LayoutModel",
            "_view_count": null,
            "_view_module": "@jupyter-widgets/base",
            "_view_module_version": "1.2.0",
            "_view_name": "LayoutView",
            "align_content": null,
            "align_items": null,
            "align_self": null,
            "border": null,
            "bottom": null,
            "display": null,
            "flex": null,
            "flex_flow": null,
            "grid_area": null,
            "grid_auto_columns": null,
            "grid_auto_flow": null,
            "grid_auto_rows": null,
            "grid_column": null,
            "grid_gap": null,
            "grid_row": null,
            "grid_template_areas": null,
            "grid_template_columns": null,
            "grid_template_rows": null,
            "height": null,
            "justify_content": null,
            "justify_items": null,
            "left": null,
            "margin": null,
            "max_height": null,
            "max_width": null,
            "min_height": null,
            "min_width": null,
            "object_fit": null,
            "object_position": null,
            "order": null,
            "overflow": null,
            "overflow_x": null,
            "overflow_y": null,
            "padding": null,
            "right": null,
            "top": null,
            "visibility": null,
            "width": null
          }
        },
        "bec3fdbc8be34c71b7241ba31d7fd513": {
          "model_module": "@jupyter-widgets/base",
          "model_module_version": "1.2.0",
          "model_name": "LayoutModel",
          "state": {
            "_model_module": "@jupyter-widgets/base",
            "_model_module_version": "1.2.0",
            "_model_name": "LayoutModel",
            "_view_count": null,
            "_view_module": "@jupyter-widgets/base",
            "_view_module_version": "1.2.0",
            "_view_name": "LayoutView",
            "align_content": null,
            "align_items": null,
            "align_self": null,
            "border": null,
            "bottom": null,
            "display": null,
            "flex": null,
            "flex_flow": null,
            "grid_area": null,
            "grid_auto_columns": null,
            "grid_auto_flow": null,
            "grid_auto_rows": null,
            "grid_column": null,
            "grid_gap": null,
            "grid_row": null,
            "grid_template_areas": null,
            "grid_template_columns": null,
            "grid_template_rows": null,
            "height": null,
            "justify_content": null,
            "justify_items": null,
            "left": null,
            "margin": null,
            "max_height": null,
            "max_width": null,
            "min_height": null,
            "min_width": null,
            "object_fit": null,
            "object_position": null,
            "order": null,
            "overflow": null,
            "overflow_x": null,
            "overflow_y": null,
            "padding": null,
            "right": null,
            "top": null,
            "visibility": null,
            "width": null
          }
        },
        "bf1360c7af9f4c919ea6a38c58c94234": {
          "model_module": "@jupyter-widgets/controls",
          "model_module_version": "1.5.0",
          "model_name": "HTMLModel",
          "state": {
            "_dom_classes": [],
            "_model_module": "@jupyter-widgets/controls",
            "_model_module_version": "1.5.0",
            "_model_name": "HTMLModel",
            "_view_count": null,
            "_view_module": "@jupyter-widgets/controls",
            "_view_module_version": "1.5.0",
            "_view_name": "HTMLView",
            "description": "",
            "description_tooltip": null,
            "layout": "IPY_MODEL_c13017cee56c455d8c3ee405d4ff2fd2",
            "placeholder": "​",
            "style": "IPY_MODEL_618edf49fb284cc8938d2ed8e68a63d2",
            "value": ""
          }
        },
        "bfebc62046ae4304bf85f96f7afd80f2": {
          "model_module": "@jupyter-widgets/base",
          "model_module_version": "1.2.0",
          "model_name": "LayoutModel",
          "state": {
            "_model_module": "@jupyter-widgets/base",
            "_model_module_version": "1.2.0",
            "_model_name": "LayoutModel",
            "_view_count": null,
            "_view_module": "@jupyter-widgets/base",
            "_view_module_version": "1.2.0",
            "_view_name": "LayoutView",
            "align_content": null,
            "align_items": null,
            "align_self": null,
            "border": null,
            "bottom": null,
            "display": null,
            "flex": null,
            "flex_flow": null,
            "grid_area": null,
            "grid_auto_columns": null,
            "grid_auto_flow": null,
            "grid_auto_rows": null,
            "grid_column": null,
            "grid_gap": null,
            "grid_row": null,
            "grid_template_areas": null,
            "grid_template_columns": null,
            "grid_template_rows": null,
            "height": null,
            "justify_content": null,
            "justify_items": null,
            "left": null,
            "margin": null,
            "max_height": null,
            "max_width": null,
            "min_height": null,
            "min_width": null,
            "object_fit": null,
            "object_position": null,
            "order": null,
            "overflow": null,
            "overflow_x": null,
            "overflow_y": null,
            "padding": null,
            "right": null,
            "top": null,
            "visibility": null,
            "width": null
          }
        },
        "c13017cee56c455d8c3ee405d4ff2fd2": {
          "model_module": "@jupyter-widgets/base",
          "model_module_version": "1.2.0",
          "model_name": "LayoutModel",
          "state": {
            "_model_module": "@jupyter-widgets/base",
            "_model_module_version": "1.2.0",
            "_model_name": "LayoutModel",
            "_view_count": null,
            "_view_module": "@jupyter-widgets/base",
            "_view_module_version": "1.2.0",
            "_view_name": "LayoutView",
            "align_content": null,
            "align_items": null,
            "align_self": null,
            "border": null,
            "bottom": null,
            "display": null,
            "flex": null,
            "flex_flow": null,
            "grid_area": null,
            "grid_auto_columns": null,
            "grid_auto_flow": null,
            "grid_auto_rows": null,
            "grid_column": null,
            "grid_gap": null,
            "grid_row": null,
            "grid_template_areas": null,
            "grid_template_columns": null,
            "grid_template_rows": null,
            "height": null,
            "justify_content": null,
            "justify_items": null,
            "left": null,
            "margin": null,
            "max_height": null,
            "max_width": null,
            "min_height": null,
            "min_width": null,
            "object_fit": null,
            "object_position": null,
            "order": null,
            "overflow": null,
            "overflow_x": null,
            "overflow_y": null,
            "padding": null,
            "right": null,
            "top": null,
            "visibility": null,
            "width": null
          }
        },
        "c17d4593a56d483bbc241933a9e333f5": {
          "model_module": "@jupyter-widgets/controls",
          "model_module_version": "1.5.0",
          "model_name": "DescriptionStyleModel",
          "state": {
            "_model_module": "@jupyter-widgets/controls",
            "_model_module_version": "1.5.0",
            "_model_name": "DescriptionStyleModel",
            "_view_count": null,
            "_view_module": "@jupyter-widgets/base",
            "_view_module_version": "1.2.0",
            "_view_name": "StyleView",
            "description_width": ""
          }
        },
        "c2f82a57fb114e54805de080fa9a426b": {
          "model_module": "@jupyter-widgets/controls",
          "model_module_version": "1.5.0",
          "model_name": "FloatProgressModel",
          "state": {
            "_dom_classes": [],
            "_model_module": "@jupyter-widgets/controls",
            "_model_module_version": "1.5.0",
            "_model_name": "FloatProgressModel",
            "_view_count": null,
            "_view_module": "@jupyter-widgets/controls",
            "_view_module_version": "1.5.0",
            "_view_name": "ProgressView",
            "bar_style": "success",
            "description": "",
            "description_tooltip": null,
            "layout": "IPY_MODEL_cc10847d398e4b749db6e8bad07fe964",
            "max": 1,
            "min": 0,
            "orientation": "horizontal",
            "style": "IPY_MODEL_29f3efb7ad5f421680017c0d2724c2ba",
            "value": 1
          }
        },
        "c4a7c091255d4a58bd437e2da280bac0": {
          "model_module": "@jupyter-widgets/controls",
          "model_module_version": "1.5.0",
          "model_name": "ProgressStyleModel",
          "state": {
            "_model_module": "@jupyter-widgets/controls",
            "_model_module_version": "1.5.0",
            "_model_name": "ProgressStyleModel",
            "_view_count": null,
            "_view_module": "@jupyter-widgets/base",
            "_view_module_version": "1.2.0",
            "_view_name": "StyleView",
            "bar_color": null,
            "description_width": ""
          }
        },
        "c4b718863abf4831b319a9364f1009c1": {
          "model_module": "@jupyter-widgets/controls",
          "model_module_version": "1.5.0",
          "model_name": "HTMLModel",
          "state": {
            "_dom_classes": [],
            "_model_module": "@jupyter-widgets/controls",
            "_model_module_version": "1.5.0",
            "_model_name": "HTMLModel",
            "_view_count": null,
            "_view_module": "@jupyter-widgets/controls",
            "_view_module_version": "1.5.0",
            "_view_name": "HTMLView",
            "description": "",
            "description_tooltip": null,
            "layout": "IPY_MODEL_8d7621757d2048e0ae9e0125f74724f8",
            "placeholder": "​",
            "style": "IPY_MODEL_4bbf0d87f689421a982064fdc063e174",
            "value": " 144/? [02:50&lt;00:00,  1.14s/it]"
          }
        },
        "c7763fa9464e417f8ba7b87d536af517": {
          "model_module": "@jupyter-widgets/controls",
          "model_module_version": "1.5.0",
          "model_name": "HTMLModel",
          "state": {
            "_dom_classes": [],
            "_model_module": "@jupyter-widgets/controls",
            "_model_module_version": "1.5.0",
            "_model_name": "HTMLModel",
            "_view_count": null,
            "_view_module": "@jupyter-widgets/controls",
            "_view_module_version": "1.5.0",
            "_view_name": "HTMLView",
            "description": "",
            "description_tooltip": null,
            "layout": "IPY_MODEL_6b6b3826b6484f4db5c8d0d04bcbd687",
            "placeholder": "​",
            "style": "IPY_MODEL_e372b2cbfca0463591fa104c735226d6",
            "value": " 144/? [02:51&lt;00:00,  1.14s/it]"
          }
        },
        "c792f8235c0d4306b00e7948876657b4": {
          "model_module": "@jupyter-widgets/base",
          "model_module_version": "1.2.0",
          "model_name": "LayoutModel",
          "state": {
            "_model_module": "@jupyter-widgets/base",
            "_model_module_version": "1.2.0",
            "_model_name": "LayoutModel",
            "_view_count": null,
            "_view_module": "@jupyter-widgets/base",
            "_view_module_version": "1.2.0",
            "_view_name": "LayoutView",
            "align_content": null,
            "align_items": null,
            "align_self": null,
            "border": null,
            "bottom": null,
            "display": null,
            "flex": null,
            "flex_flow": null,
            "grid_area": null,
            "grid_auto_columns": null,
            "grid_auto_flow": null,
            "grid_auto_rows": null,
            "grid_column": null,
            "grid_gap": null,
            "grid_row": null,
            "grid_template_areas": null,
            "grid_template_columns": null,
            "grid_template_rows": null,
            "height": null,
            "justify_content": null,
            "justify_items": null,
            "left": null,
            "margin": null,
            "max_height": null,
            "max_width": null,
            "min_height": null,
            "min_width": null,
            "object_fit": null,
            "object_position": null,
            "order": null,
            "overflow": null,
            "overflow_x": null,
            "overflow_y": null,
            "padding": null,
            "right": null,
            "top": null,
            "visibility": null,
            "width": null
          }
        },
        "c7cc68f617ac490399f9e8fca9e886db": {
          "model_module": "@jupyter-widgets/base",
          "model_module_version": "1.2.0",
          "model_name": "LayoutModel",
          "state": {
            "_model_module": "@jupyter-widgets/base",
            "_model_module_version": "1.2.0",
            "_model_name": "LayoutModel",
            "_view_count": null,
            "_view_module": "@jupyter-widgets/base",
            "_view_module_version": "1.2.0",
            "_view_name": "LayoutView",
            "align_content": null,
            "align_items": null,
            "align_self": null,
            "border": null,
            "bottom": null,
            "display": null,
            "flex": null,
            "flex_flow": null,
            "grid_area": null,
            "grid_auto_columns": null,
            "grid_auto_flow": null,
            "grid_auto_rows": null,
            "grid_column": null,
            "grid_gap": null,
            "grid_row": null,
            "grid_template_areas": null,
            "grid_template_columns": null,
            "grid_template_rows": null,
            "height": null,
            "justify_content": null,
            "justify_items": null,
            "left": null,
            "margin": null,
            "max_height": null,
            "max_width": null,
            "min_height": null,
            "min_width": null,
            "object_fit": null,
            "object_position": null,
            "order": null,
            "overflow": null,
            "overflow_x": null,
            "overflow_y": null,
            "padding": null,
            "right": null,
            "top": null,
            "visibility": null,
            "width": null
          }
        },
        "c8510f35a40d4885bbdcf58f6226bdb4": {
          "model_module": "@jupyter-widgets/controls",
          "model_module_version": "1.5.0",
          "model_name": "ProgressStyleModel",
          "state": {
            "_model_module": "@jupyter-widgets/controls",
            "_model_module_version": "1.5.0",
            "_model_name": "ProgressStyleModel",
            "_view_count": null,
            "_view_module": "@jupyter-widgets/base",
            "_view_module_version": "1.2.0",
            "_view_name": "StyleView",
            "bar_color": null,
            "description_width": ""
          }
        },
        "ca06600d259849df96a1398ea9ca41c1": {
          "model_module": "@jupyter-widgets/base",
          "model_module_version": "1.2.0",
          "model_name": "LayoutModel",
          "state": {
            "_model_module": "@jupyter-widgets/base",
            "_model_module_version": "1.2.0",
            "_model_name": "LayoutModel",
            "_view_count": null,
            "_view_module": "@jupyter-widgets/base",
            "_view_module_version": "1.2.0",
            "_view_name": "LayoutView",
            "align_content": null,
            "align_items": null,
            "align_self": null,
            "border": null,
            "bottom": null,
            "display": null,
            "flex": null,
            "flex_flow": null,
            "grid_area": null,
            "grid_auto_columns": null,
            "grid_auto_flow": null,
            "grid_auto_rows": null,
            "grid_column": null,
            "grid_gap": null,
            "grid_row": null,
            "grid_template_areas": null,
            "grid_template_columns": null,
            "grid_template_rows": null,
            "height": null,
            "justify_content": null,
            "justify_items": null,
            "left": null,
            "margin": null,
            "max_height": null,
            "max_width": null,
            "min_height": null,
            "min_width": null,
            "object_fit": null,
            "object_position": null,
            "order": null,
            "overflow": null,
            "overflow_x": null,
            "overflow_y": null,
            "padding": null,
            "right": null,
            "top": null,
            "visibility": null,
            "width": null
          }
        },
        "cb093bf4bc7648f7b44d9c6467c95ec4": {
          "model_module": "@jupyter-widgets/controls",
          "model_module_version": "1.5.0",
          "model_name": "HTMLModel",
          "state": {
            "_dom_classes": [],
            "_model_module": "@jupyter-widgets/controls",
            "_model_module_version": "1.5.0",
            "_model_name": "HTMLModel",
            "_view_count": null,
            "_view_module": "@jupyter-widgets/controls",
            "_view_module_version": "1.5.0",
            "_view_name": "HTMLView",
            "description": "",
            "description_tooltip": null,
            "layout": "IPY_MODEL_466a228413e445e1aa0a473af72e8493",
            "placeholder": "​",
            "style": "IPY_MODEL_d3c56d1f7e404bd59efab8af4676d33d",
            "value": "100%"
          }
        },
        "cbb78fa512e44308b3054b4eeaa0aa65": {
          "model_module": "@jupyter-widgets/base",
          "model_module_version": "1.2.0",
          "model_name": "LayoutModel",
          "state": {
            "_model_module": "@jupyter-widgets/base",
            "_model_module_version": "1.2.0",
            "_model_name": "LayoutModel",
            "_view_count": null,
            "_view_module": "@jupyter-widgets/base",
            "_view_module_version": "1.2.0",
            "_view_name": "LayoutView",
            "align_content": null,
            "align_items": null,
            "align_self": null,
            "border": null,
            "bottom": null,
            "display": null,
            "flex": null,
            "flex_flow": null,
            "grid_area": null,
            "grid_auto_columns": null,
            "grid_auto_flow": null,
            "grid_auto_rows": null,
            "grid_column": null,
            "grid_gap": null,
            "grid_row": null,
            "grid_template_areas": null,
            "grid_template_columns": null,
            "grid_template_rows": null,
            "height": null,
            "justify_content": null,
            "justify_items": null,
            "left": null,
            "margin": null,
            "max_height": null,
            "max_width": null,
            "min_height": null,
            "min_width": null,
            "object_fit": null,
            "object_position": null,
            "order": null,
            "overflow": null,
            "overflow_x": null,
            "overflow_y": null,
            "padding": null,
            "right": null,
            "top": null,
            "visibility": null,
            "width": null
          }
        },
        "cc10847d398e4b749db6e8bad07fe964": {
          "model_module": "@jupyter-widgets/base",
          "model_module_version": "1.2.0",
          "model_name": "LayoutModel",
          "state": {
            "_model_module": "@jupyter-widgets/base",
            "_model_module_version": "1.2.0",
            "_model_name": "LayoutModel",
            "_view_count": null,
            "_view_module": "@jupyter-widgets/base",
            "_view_module_version": "1.2.0",
            "_view_name": "LayoutView",
            "align_content": null,
            "align_items": null,
            "align_self": null,
            "border": null,
            "bottom": null,
            "display": null,
            "flex": null,
            "flex_flow": null,
            "grid_area": null,
            "grid_auto_columns": null,
            "grid_auto_flow": null,
            "grid_auto_rows": null,
            "grid_column": null,
            "grid_gap": null,
            "grid_row": null,
            "grid_template_areas": null,
            "grid_template_columns": null,
            "grid_template_rows": null,
            "height": null,
            "justify_content": null,
            "justify_items": null,
            "left": null,
            "margin": null,
            "max_height": null,
            "max_width": null,
            "min_height": null,
            "min_width": null,
            "object_fit": null,
            "object_position": null,
            "order": null,
            "overflow": null,
            "overflow_x": null,
            "overflow_y": null,
            "padding": null,
            "right": null,
            "top": null,
            "visibility": null,
            "width": "20px"
          }
        },
        "cc346f00ba3a4d4a9038f8cd269c1a17": {
          "model_module": "@jupyter-widgets/base",
          "model_module_version": "1.2.0",
          "model_name": "LayoutModel",
          "state": {
            "_model_module": "@jupyter-widgets/base",
            "_model_module_version": "1.2.0",
            "_model_name": "LayoutModel",
            "_view_count": null,
            "_view_module": "@jupyter-widgets/base",
            "_view_module_version": "1.2.0",
            "_view_name": "LayoutView",
            "align_content": null,
            "align_items": null,
            "align_self": null,
            "border": null,
            "bottom": null,
            "display": null,
            "flex": null,
            "flex_flow": null,
            "grid_area": null,
            "grid_auto_columns": null,
            "grid_auto_flow": null,
            "grid_auto_rows": null,
            "grid_column": null,
            "grid_gap": null,
            "grid_row": null,
            "grid_template_areas": null,
            "grid_template_columns": null,
            "grid_template_rows": null,
            "height": null,
            "justify_content": null,
            "justify_items": null,
            "left": null,
            "margin": null,
            "max_height": null,
            "max_width": null,
            "min_height": null,
            "min_width": null,
            "object_fit": null,
            "object_position": null,
            "order": null,
            "overflow": null,
            "overflow_x": null,
            "overflow_y": null,
            "padding": null,
            "right": null,
            "top": null,
            "visibility": null,
            "width": null
          }
        },
        "ccd63af5dcd549d3be2883a7eea0317a": {
          "model_module": "@jupyter-widgets/controls",
          "model_module_version": "1.5.0",
          "model_name": "HTMLModel",
          "state": {
            "_dom_classes": [],
            "_model_module": "@jupyter-widgets/controls",
            "_model_module_version": "1.5.0",
            "_model_name": "HTMLModel",
            "_view_count": null,
            "_view_module": "@jupyter-widgets/controls",
            "_view_module_version": "1.5.0",
            "_view_name": "HTMLView",
            "description": "",
            "description_tooltip": null,
            "layout": "IPY_MODEL_731e79d60bf2447ea041dfafaa31aff6",
            "placeholder": "​",
            "style": "IPY_MODEL_6a583eaa66d643389f99918f9238b23e",
            "value": ""
          }
        },
        "d1940b70e4c4461f92c8176c1a4716bc": {
          "model_module": "@jupyter-widgets/controls",
          "model_module_version": "1.5.0",
          "model_name": "HTMLModel",
          "state": {
            "_dom_classes": [],
            "_model_module": "@jupyter-widgets/controls",
            "_model_module_version": "1.5.0",
            "_model_name": "HTMLModel",
            "_view_count": null,
            "_view_module": "@jupyter-widgets/controls",
            "_view_module_version": "1.5.0",
            "_view_name": "HTMLView",
            "description": "",
            "description_tooltip": null,
            "layout": "IPY_MODEL_357c0a1f8b3f41b4b5647f6e119d65df",
            "placeholder": "​",
            "style": "IPY_MODEL_0c70b92fff6e4ab492b04e877a36968f",
            "value": " 16/16 [00:06&lt;00:00,  2.35it/s]"
          }
        },
        "d21fc47a6914451f99ebfc6dc15966ce": {
          "model_module": "@jupyter-widgets/base",
          "model_module_version": "1.2.0",
          "model_name": "LayoutModel",
          "state": {
            "_model_module": "@jupyter-widgets/base",
            "_model_module_version": "1.2.0",
            "_model_name": "LayoutModel",
            "_view_count": null,
            "_view_module": "@jupyter-widgets/base",
            "_view_module_version": "1.2.0",
            "_view_name": "LayoutView",
            "align_content": null,
            "align_items": null,
            "align_self": null,
            "border": null,
            "bottom": null,
            "display": null,
            "flex": null,
            "flex_flow": null,
            "grid_area": null,
            "grid_auto_columns": null,
            "grid_auto_flow": null,
            "grid_auto_rows": null,
            "grid_column": null,
            "grid_gap": null,
            "grid_row": null,
            "grid_template_areas": null,
            "grid_template_columns": null,
            "grid_template_rows": null,
            "height": null,
            "justify_content": null,
            "justify_items": null,
            "left": null,
            "margin": null,
            "max_height": null,
            "max_width": null,
            "min_height": null,
            "min_width": null,
            "object_fit": null,
            "object_position": null,
            "order": null,
            "overflow": null,
            "overflow_x": null,
            "overflow_y": null,
            "padding": null,
            "right": null,
            "top": null,
            "visibility": null,
            "width": null
          }
        },
        "d3bed07643b54e908f94cd8887677b58": {
          "model_module": "@jupyter-widgets/controls",
          "model_module_version": "1.5.0",
          "model_name": "DescriptionStyleModel",
          "state": {
            "_model_module": "@jupyter-widgets/controls",
            "_model_module_version": "1.5.0",
            "_model_name": "DescriptionStyleModel",
            "_view_count": null,
            "_view_module": "@jupyter-widgets/base",
            "_view_module_version": "1.2.0",
            "_view_name": "StyleView",
            "description_width": ""
          }
        },
        "d3c56d1f7e404bd59efab8af4676d33d": {
          "model_module": "@jupyter-widgets/controls",
          "model_module_version": "1.5.0",
          "model_name": "DescriptionStyleModel",
          "state": {
            "_model_module": "@jupyter-widgets/controls",
            "_model_module_version": "1.5.0",
            "_model_name": "DescriptionStyleModel",
            "_view_count": null,
            "_view_module": "@jupyter-widgets/base",
            "_view_module_version": "1.2.0",
            "_view_name": "StyleView",
            "description_width": ""
          }
        },
        "d3e986579f93425b8611902e889d2c2e": {
          "model_module": "@jupyter-widgets/controls",
          "model_module_version": "1.5.0",
          "model_name": "HTMLModel",
          "state": {
            "_dom_classes": [],
            "_model_module": "@jupyter-widgets/controls",
            "_model_module_version": "1.5.0",
            "_model_name": "HTMLModel",
            "_view_count": null,
            "_view_module": "@jupyter-widgets/controls",
            "_view_module_version": "1.5.0",
            "_view_name": "HTMLView",
            "description": "",
            "description_tooltip": null,
            "layout": "IPY_MODEL_b615a20e99f7467ca3a47132e6d1eb3b",
            "placeholder": "​",
            "style": "IPY_MODEL_852b5d5a59d94be0a72310d0a651d530",
            "value": " 144/? [02:50&lt;00:00,  1.14s/it]"
          }
        },
        "d413225b24de48a68f5a2e02d5f1dad8": {
          "model_module": "@jupyter-widgets/controls",
          "model_module_version": "1.5.0",
          "model_name": "ProgressStyleModel",
          "state": {
            "_model_module": "@jupyter-widgets/controls",
            "_model_module_version": "1.5.0",
            "_model_name": "ProgressStyleModel",
            "_view_count": null,
            "_view_module": "@jupyter-widgets/base",
            "_view_module_version": "1.2.0",
            "_view_name": "StyleView",
            "bar_color": null,
            "description_width": ""
          }
        },
        "d508f09fd66943079fb45d95d35865f8": {
          "model_module": "@jupyter-widgets/controls",
          "model_module_version": "1.5.0",
          "model_name": "FloatProgressModel",
          "state": {
            "_dom_classes": [],
            "_model_module": "@jupyter-widgets/controls",
            "_model_module_version": "1.5.0",
            "_model_name": "FloatProgressModel",
            "_view_count": null,
            "_view_module": "@jupyter-widgets/controls",
            "_view_module_version": "1.5.0",
            "_view_name": "ProgressView",
            "bar_style": "success",
            "description": "",
            "description_tooltip": null,
            "layout": "IPY_MODEL_3b198d4a63324cbd99935958acbaaa9c",
            "max": 1,
            "min": 0,
            "orientation": "horizontal",
            "style": "IPY_MODEL_665eb59d7e68413d8341982291a8a28e",
            "value": 1
          }
        },
        "d66a589f2eaa4234970b0b7a4d691a2c": {
          "model_module": "@jupyter-widgets/controls",
          "model_module_version": "1.5.0",
          "model_name": "FloatProgressModel",
          "state": {
            "_dom_classes": [],
            "_model_module": "@jupyter-widgets/controls",
            "_model_module_version": "1.5.0",
            "_model_name": "FloatProgressModel",
            "_view_count": null,
            "_view_module": "@jupyter-widgets/controls",
            "_view_module_version": "1.5.0",
            "_view_name": "ProgressView",
            "bar_style": "success",
            "description": "",
            "description_tooltip": null,
            "layout": "IPY_MODEL_2edd0fed639d4c1bb8e05043f38b08db",
            "max": 1,
            "min": 0,
            "orientation": "horizontal",
            "style": "IPY_MODEL_c4a7c091255d4a58bd437e2da280bac0",
            "value": 1
          }
        },
        "d67ffa0546604400beddf8d66ff88eb7": {
          "model_module": "@jupyter-widgets/controls",
          "model_module_version": "1.5.0",
          "model_name": "HBoxModel",
          "state": {
            "_dom_classes": [],
            "_model_module": "@jupyter-widgets/controls",
            "_model_module_version": "1.5.0",
            "_model_name": "HBoxModel",
            "_view_count": null,
            "_view_module": "@jupyter-widgets/controls",
            "_view_module_version": "1.5.0",
            "_view_name": "HBoxView",
            "box_style": "",
            "children": [
              "IPY_MODEL_b8f9ac531fa94de7bec181da8829456e",
              "IPY_MODEL_978633661d874fb5b1f46d8a1adbfcd3",
              "IPY_MODEL_ecfd9bb1bc814ef588fc43b408cc5e13"
            ],
            "layout": "IPY_MODEL_d21fc47a6914451f99ebfc6dc15966ce"
          }
        },
        "d75b00f073ef43468c3b5c744e97ee56": {
          "model_module": "@jupyter-widgets/base",
          "model_module_version": "1.2.0",
          "model_name": "LayoutModel",
          "state": {
            "_model_module": "@jupyter-widgets/base",
            "_model_module_version": "1.2.0",
            "_model_name": "LayoutModel",
            "_view_count": null,
            "_view_module": "@jupyter-widgets/base",
            "_view_module_version": "1.2.0",
            "_view_name": "LayoutView",
            "align_content": null,
            "align_items": null,
            "align_self": null,
            "border": null,
            "bottom": null,
            "display": null,
            "flex": null,
            "flex_flow": null,
            "grid_area": null,
            "grid_auto_columns": null,
            "grid_auto_flow": null,
            "grid_auto_rows": null,
            "grid_column": null,
            "grid_gap": null,
            "grid_row": null,
            "grid_template_areas": null,
            "grid_template_columns": null,
            "grid_template_rows": null,
            "height": null,
            "justify_content": null,
            "justify_items": null,
            "left": null,
            "margin": null,
            "max_height": null,
            "max_width": null,
            "min_height": null,
            "min_width": null,
            "object_fit": null,
            "object_position": null,
            "order": null,
            "overflow": null,
            "overflow_x": null,
            "overflow_y": null,
            "padding": null,
            "right": null,
            "top": null,
            "visibility": null,
            "width": null
          }
        },
        "d81478cd78ee41cfaad143b2ac69afbb": {
          "model_module": "@jupyter-widgets/controls",
          "model_module_version": "1.5.0",
          "model_name": "FloatProgressModel",
          "state": {
            "_dom_classes": [],
            "_model_module": "@jupyter-widgets/controls",
            "_model_module_version": "1.5.0",
            "_model_name": "FloatProgressModel",
            "_view_count": null,
            "_view_module": "@jupyter-widgets/controls",
            "_view_module_version": "1.5.0",
            "_view_name": "ProgressView",
            "bar_style": "success",
            "description": "",
            "description_tooltip": null,
            "layout": "IPY_MODEL_f61c1a65360740108dc17f508e5d8845",
            "max": 16,
            "min": 0,
            "orientation": "horizontal",
            "style": "IPY_MODEL_0d011f46687a40ed9a899f7b3ccd4601",
            "value": 16
          }
        },
        "dce4391ec0154c8396184a4210a0c1db": {
          "model_module": "@jupyter-widgets/controls",
          "model_module_version": "1.5.0",
          "model_name": "FloatProgressModel",
          "state": {
            "_dom_classes": [],
            "_model_module": "@jupyter-widgets/controls",
            "_model_module_version": "1.5.0",
            "_model_name": "FloatProgressModel",
            "_view_count": null,
            "_view_module": "@jupyter-widgets/controls",
            "_view_module_version": "1.5.0",
            "_view_name": "ProgressView",
            "bar_style": "success",
            "description": "",
            "description_tooltip": null,
            "layout": "IPY_MODEL_30e946a9ae6e48268ac4690b0e2f903d",
            "max": 16,
            "min": 0,
            "orientation": "horizontal",
            "style": "IPY_MODEL_ab2e72531e1c4af48608e812bd1edd84",
            "value": 16
          }
        },
        "df16ce72e5714720955fd8324a4de8ab": {
          "model_module": "@jupyter-widgets/base",
          "model_module_version": "1.2.0",
          "model_name": "LayoutModel",
          "state": {
            "_model_module": "@jupyter-widgets/base",
            "_model_module_version": "1.2.0",
            "_model_name": "LayoutModel",
            "_view_count": null,
            "_view_module": "@jupyter-widgets/base",
            "_view_module_version": "1.2.0",
            "_view_name": "LayoutView",
            "align_content": null,
            "align_items": null,
            "align_self": null,
            "border": null,
            "bottom": null,
            "display": null,
            "flex": null,
            "flex_flow": null,
            "grid_area": null,
            "grid_auto_columns": null,
            "grid_auto_flow": null,
            "grid_auto_rows": null,
            "grid_column": null,
            "grid_gap": null,
            "grid_row": null,
            "grid_template_areas": null,
            "grid_template_columns": null,
            "grid_template_rows": null,
            "height": null,
            "justify_content": null,
            "justify_items": null,
            "left": null,
            "margin": null,
            "max_height": null,
            "max_width": null,
            "min_height": null,
            "min_width": null,
            "object_fit": null,
            "object_position": null,
            "order": null,
            "overflow": null,
            "overflow_x": null,
            "overflow_y": null,
            "padding": null,
            "right": null,
            "top": null,
            "visibility": null,
            "width": null
          }
        },
        "df58eef33389407cbe8b7c4867f0eca1": {
          "model_module": "@jupyter-widgets/controls",
          "model_module_version": "1.5.0",
          "model_name": "DescriptionStyleModel",
          "state": {
            "_model_module": "@jupyter-widgets/controls",
            "_model_module_version": "1.5.0",
            "_model_name": "DescriptionStyleModel",
            "_view_count": null,
            "_view_module": "@jupyter-widgets/base",
            "_view_module_version": "1.2.0",
            "_view_name": "StyleView",
            "description_width": ""
          }
        },
        "e372b2cbfca0463591fa104c735226d6": {
          "model_module": "@jupyter-widgets/controls",
          "model_module_version": "1.5.0",
          "model_name": "DescriptionStyleModel",
          "state": {
            "_model_module": "@jupyter-widgets/controls",
            "_model_module_version": "1.5.0",
            "_model_name": "DescriptionStyleModel",
            "_view_count": null,
            "_view_module": "@jupyter-widgets/base",
            "_view_module_version": "1.2.0",
            "_view_name": "StyleView",
            "description_width": ""
          }
        },
        "e4697ecbec14462ca6dd9f274118c941": {
          "model_module": "@jupyter-widgets/base",
          "model_module_version": "1.2.0",
          "model_name": "LayoutModel",
          "state": {
            "_model_module": "@jupyter-widgets/base",
            "_model_module_version": "1.2.0",
            "_model_name": "LayoutModel",
            "_view_count": null,
            "_view_module": "@jupyter-widgets/base",
            "_view_module_version": "1.2.0",
            "_view_name": "LayoutView",
            "align_content": null,
            "align_items": null,
            "align_self": null,
            "border": null,
            "bottom": null,
            "display": null,
            "flex": null,
            "flex_flow": null,
            "grid_area": null,
            "grid_auto_columns": null,
            "grid_auto_flow": null,
            "grid_auto_rows": null,
            "grid_column": null,
            "grid_gap": null,
            "grid_row": null,
            "grid_template_areas": null,
            "grid_template_columns": null,
            "grid_template_rows": null,
            "height": null,
            "justify_content": null,
            "justify_items": null,
            "left": null,
            "margin": null,
            "max_height": null,
            "max_width": null,
            "min_height": null,
            "min_width": null,
            "object_fit": null,
            "object_position": null,
            "order": null,
            "overflow": null,
            "overflow_x": null,
            "overflow_y": null,
            "padding": null,
            "right": null,
            "top": null,
            "visibility": null,
            "width": null
          }
        },
        "e47d09de72ac445e85d6362d837586ee": {
          "model_module": "@jupyter-widgets/controls",
          "model_module_version": "1.5.0",
          "model_name": "HTMLModel",
          "state": {
            "_dom_classes": [],
            "_model_module": "@jupyter-widgets/controls",
            "_model_module_version": "1.5.0",
            "_model_name": "HTMLModel",
            "_view_count": null,
            "_view_module": "@jupyter-widgets/controls",
            "_view_module_version": "1.5.0",
            "_view_name": "HTMLView",
            "description": "",
            "description_tooltip": null,
            "layout": "IPY_MODEL_72da24cf925a4c91b2137d90764ac541",
            "placeholder": "​",
            "style": "IPY_MODEL_417b73d515c0402d8c6321ee731c7a11",
            "value": ""
          }
        },
        "e51ebddb49b84235a901562a692d0f79": {
          "model_module": "@jupyter-widgets/base",
          "model_module_version": "1.2.0",
          "model_name": "LayoutModel",
          "state": {
            "_model_module": "@jupyter-widgets/base",
            "_model_module_version": "1.2.0",
            "_model_name": "LayoutModel",
            "_view_count": null,
            "_view_module": "@jupyter-widgets/base",
            "_view_module_version": "1.2.0",
            "_view_name": "LayoutView",
            "align_content": null,
            "align_items": null,
            "align_self": null,
            "border": null,
            "bottom": null,
            "display": null,
            "flex": null,
            "flex_flow": null,
            "grid_area": null,
            "grid_auto_columns": null,
            "grid_auto_flow": null,
            "grid_auto_rows": null,
            "grid_column": null,
            "grid_gap": null,
            "grid_row": null,
            "grid_template_areas": null,
            "grid_template_columns": null,
            "grid_template_rows": null,
            "height": null,
            "justify_content": null,
            "justify_items": null,
            "left": null,
            "margin": null,
            "max_height": null,
            "max_width": null,
            "min_height": null,
            "min_width": null,
            "object_fit": null,
            "object_position": null,
            "order": null,
            "overflow": null,
            "overflow_x": null,
            "overflow_y": null,
            "padding": null,
            "right": null,
            "top": null,
            "visibility": null,
            "width": null
          }
        },
        "e52800d7f36846fba205448d415119d0": {
          "model_module": "@jupyter-widgets/controls",
          "model_module_version": "1.5.0",
          "model_name": "HBoxModel",
          "state": {
            "_dom_classes": [],
            "_model_module": "@jupyter-widgets/controls",
            "_model_module_version": "1.5.0",
            "_model_name": "HBoxModel",
            "_view_count": null,
            "_view_module": "@jupyter-widgets/controls",
            "_view_module_version": "1.5.0",
            "_view_name": "HBoxView",
            "box_style": "",
            "children": [
              "IPY_MODEL_52a543d2a01f40478844d8adcab55177",
              "IPY_MODEL_8d7ea84965e14b428b0b006a103d4550",
              "IPY_MODEL_ff7011c048a649b0992a67405c34531e"
            ],
            "layout": "IPY_MODEL_15cfd86817a444e29e976efb689d8e53"
          }
        },
        "e5a60baaaf5c46889e5e4e257d8adabf": {
          "model_module": "@jupyter-widgets/controls",
          "model_module_version": "1.5.0",
          "model_name": "DescriptionStyleModel",
          "state": {
            "_model_module": "@jupyter-widgets/controls",
            "_model_module_version": "1.5.0",
            "_model_name": "DescriptionStyleModel",
            "_view_count": null,
            "_view_module": "@jupyter-widgets/base",
            "_view_module_version": "1.2.0",
            "_view_name": "StyleView",
            "description_width": ""
          }
        },
        "e6599c527feb4c648a2db96c79af7e71": {
          "model_module": "@jupyter-widgets/controls",
          "model_module_version": "1.5.0",
          "model_name": "HBoxModel",
          "state": {
            "_dom_classes": [],
            "_model_module": "@jupyter-widgets/controls",
            "_model_module_version": "1.5.0",
            "_model_name": "HBoxModel",
            "_view_count": null,
            "_view_module": "@jupyter-widgets/controls",
            "_view_module_version": "1.5.0",
            "_view_name": "HBoxView",
            "box_style": "",
            "children": [
              "IPY_MODEL_97c9bb47b64f4dd097cc7d6696b202b0",
              "IPY_MODEL_9e637ff6ea2b498c8f16500b5bf36074",
              "IPY_MODEL_127820f3ad694bc9b1516f30d0ab17cd"
            ],
            "layout": "IPY_MODEL_f27ddbdd1ab24a02b31edada951fdeee"
          }
        },
        "e82453afea204f44af47ee2c26be4cf7": {
          "model_module": "@jupyter-widgets/base",
          "model_module_version": "1.2.0",
          "model_name": "LayoutModel",
          "state": {
            "_model_module": "@jupyter-widgets/base",
            "_model_module_version": "1.2.0",
            "_model_name": "LayoutModel",
            "_view_count": null,
            "_view_module": "@jupyter-widgets/base",
            "_view_module_version": "1.2.0",
            "_view_name": "LayoutView",
            "align_content": null,
            "align_items": null,
            "align_self": null,
            "border": null,
            "bottom": null,
            "display": null,
            "flex": null,
            "flex_flow": null,
            "grid_area": null,
            "grid_auto_columns": null,
            "grid_auto_flow": null,
            "grid_auto_rows": null,
            "grid_column": null,
            "grid_gap": null,
            "grid_row": null,
            "grid_template_areas": null,
            "grid_template_columns": null,
            "grid_template_rows": null,
            "height": null,
            "justify_content": null,
            "justify_items": null,
            "left": null,
            "margin": null,
            "max_height": null,
            "max_width": null,
            "min_height": null,
            "min_width": null,
            "object_fit": null,
            "object_position": null,
            "order": null,
            "overflow": null,
            "overflow_x": null,
            "overflow_y": null,
            "padding": null,
            "right": null,
            "top": null,
            "visibility": null,
            "width": null
          }
        },
        "e9a04b0341d744dfa746ea2608239dbd": {
          "model_module": "@jupyter-widgets/controls",
          "model_module_version": "1.5.0",
          "model_name": "DescriptionStyleModel",
          "state": {
            "_model_module": "@jupyter-widgets/controls",
            "_model_module_version": "1.5.0",
            "_model_name": "DescriptionStyleModel",
            "_view_count": null,
            "_view_module": "@jupyter-widgets/base",
            "_view_module_version": "1.2.0",
            "_view_name": "StyleView",
            "description_width": ""
          }
        },
        "ea3a86fc484f4634947b1d250d00a2aa": {
          "model_module": "@jupyter-widgets/base",
          "model_module_version": "1.2.0",
          "model_name": "LayoutModel",
          "state": {
            "_model_module": "@jupyter-widgets/base",
            "_model_module_version": "1.2.0",
            "_model_name": "LayoutModel",
            "_view_count": null,
            "_view_module": "@jupyter-widgets/base",
            "_view_module_version": "1.2.0",
            "_view_name": "LayoutView",
            "align_content": null,
            "align_items": null,
            "align_self": null,
            "border": null,
            "bottom": null,
            "display": null,
            "flex": null,
            "flex_flow": null,
            "grid_area": null,
            "grid_auto_columns": null,
            "grid_auto_flow": null,
            "grid_auto_rows": null,
            "grid_column": null,
            "grid_gap": null,
            "grid_row": null,
            "grid_template_areas": null,
            "grid_template_columns": null,
            "grid_template_rows": null,
            "height": null,
            "justify_content": null,
            "justify_items": null,
            "left": null,
            "margin": null,
            "max_height": null,
            "max_width": null,
            "min_height": null,
            "min_width": null,
            "object_fit": null,
            "object_position": null,
            "order": null,
            "overflow": null,
            "overflow_x": null,
            "overflow_y": null,
            "padding": null,
            "right": null,
            "top": null,
            "visibility": null,
            "width": null
          }
        },
        "ec534f930a1445b2b829b93727140da8": {
          "model_module": "@jupyter-widgets/controls",
          "model_module_version": "1.5.0",
          "model_name": "HTMLModel",
          "state": {
            "_dom_classes": [],
            "_model_module": "@jupyter-widgets/controls",
            "_model_module_version": "1.5.0",
            "_model_name": "HTMLModel",
            "_view_count": null,
            "_view_module": "@jupyter-widgets/controls",
            "_view_module_version": "1.5.0",
            "_view_name": "HTMLView",
            "description": "",
            "description_tooltip": null,
            "layout": "IPY_MODEL_936984bf78514b0dae632e982a11ff1d",
            "placeholder": "​",
            "style": "IPY_MODEL_6f358d607ae2457e9e0d6da13177b742",
            "value": "100%"
          }
        },
        "ecfd9bb1bc814ef588fc43b408cc5e13": {
          "model_module": "@jupyter-widgets/controls",
          "model_module_version": "1.5.0",
          "model_name": "HTMLModel",
          "state": {
            "_dom_classes": [],
            "_model_module": "@jupyter-widgets/controls",
            "_model_module_version": "1.5.0",
            "_model_name": "HTMLModel",
            "_view_count": null,
            "_view_module": "@jupyter-widgets/controls",
            "_view_module_version": "1.5.0",
            "_view_name": "HTMLView",
            "description": "",
            "description_tooltip": null,
            "layout": "IPY_MODEL_48372cf0689d46739e75af540ea308c1",
            "placeholder": "​",
            "style": "IPY_MODEL_0416ee56d7ec4d209271befb72ed3283",
            "value": " 16/16 [00:06&lt;00:00,  2.35it/s]"
          }
        },
        "edbeef17d8ba48c5b853aaee26ecc9af": {
          "model_module": "@jupyter-widgets/controls",
          "model_module_version": "1.5.0",
          "model_name": "DescriptionStyleModel",
          "state": {
            "_model_module": "@jupyter-widgets/controls",
            "_model_module_version": "1.5.0",
            "_model_name": "DescriptionStyleModel",
            "_view_count": null,
            "_view_module": "@jupyter-widgets/base",
            "_view_module_version": "1.2.0",
            "_view_name": "StyleView",
            "description_width": ""
          }
        },
        "f1a7a22c6e7843e69f2044118aad9702": {
          "model_module": "@jupyter-widgets/base",
          "model_module_version": "1.2.0",
          "model_name": "LayoutModel",
          "state": {
            "_model_module": "@jupyter-widgets/base",
            "_model_module_version": "1.2.0",
            "_model_name": "LayoutModel",
            "_view_count": null,
            "_view_module": "@jupyter-widgets/base",
            "_view_module_version": "1.2.0",
            "_view_name": "LayoutView",
            "align_content": null,
            "align_items": null,
            "align_self": null,
            "border": null,
            "bottom": null,
            "display": null,
            "flex": null,
            "flex_flow": null,
            "grid_area": null,
            "grid_auto_columns": null,
            "grid_auto_flow": null,
            "grid_auto_rows": null,
            "grid_column": null,
            "grid_gap": null,
            "grid_row": null,
            "grid_template_areas": null,
            "grid_template_columns": null,
            "grid_template_rows": null,
            "height": null,
            "justify_content": null,
            "justify_items": null,
            "left": null,
            "margin": null,
            "max_height": null,
            "max_width": null,
            "min_height": null,
            "min_width": null,
            "object_fit": null,
            "object_position": null,
            "order": null,
            "overflow": null,
            "overflow_x": null,
            "overflow_y": null,
            "padding": null,
            "right": null,
            "top": null,
            "visibility": null,
            "width": null
          }
        },
        "f1f00df5854d413c9179ce98fcab9126": {
          "model_module": "@jupyter-widgets/base",
          "model_module_version": "1.2.0",
          "model_name": "LayoutModel",
          "state": {
            "_model_module": "@jupyter-widgets/base",
            "_model_module_version": "1.2.0",
            "_model_name": "LayoutModel",
            "_view_count": null,
            "_view_module": "@jupyter-widgets/base",
            "_view_module_version": "1.2.0",
            "_view_name": "LayoutView",
            "align_content": null,
            "align_items": null,
            "align_self": null,
            "border": null,
            "bottom": null,
            "display": null,
            "flex": null,
            "flex_flow": null,
            "grid_area": null,
            "grid_auto_columns": null,
            "grid_auto_flow": null,
            "grid_auto_rows": null,
            "grid_column": null,
            "grid_gap": null,
            "grid_row": null,
            "grid_template_areas": null,
            "grid_template_columns": null,
            "grid_template_rows": null,
            "height": null,
            "justify_content": null,
            "justify_items": null,
            "left": null,
            "margin": null,
            "max_height": null,
            "max_width": null,
            "min_height": null,
            "min_width": null,
            "object_fit": null,
            "object_position": null,
            "order": null,
            "overflow": null,
            "overflow_x": null,
            "overflow_y": null,
            "padding": null,
            "right": null,
            "top": null,
            "visibility": null,
            "width": null
          }
        },
        "f2649d42af4b4f5dbfbba4b1e36584ca": {
          "model_module": "@jupyter-widgets/controls",
          "model_module_version": "1.5.0",
          "model_name": "DescriptionStyleModel",
          "state": {
            "_model_module": "@jupyter-widgets/controls",
            "_model_module_version": "1.5.0",
            "_model_name": "DescriptionStyleModel",
            "_view_count": null,
            "_view_module": "@jupyter-widgets/base",
            "_view_module_version": "1.2.0",
            "_view_name": "StyleView",
            "description_width": ""
          }
        },
        "f27ddbdd1ab24a02b31edada951fdeee": {
          "model_module": "@jupyter-widgets/base",
          "model_module_version": "1.2.0",
          "model_name": "LayoutModel",
          "state": {
            "_model_module": "@jupyter-widgets/base",
            "_model_module_version": "1.2.0",
            "_model_name": "LayoutModel",
            "_view_count": null,
            "_view_module": "@jupyter-widgets/base",
            "_view_module_version": "1.2.0",
            "_view_name": "LayoutView",
            "align_content": null,
            "align_items": null,
            "align_self": null,
            "border": null,
            "bottom": null,
            "display": null,
            "flex": null,
            "flex_flow": null,
            "grid_area": null,
            "grid_auto_columns": null,
            "grid_auto_flow": null,
            "grid_auto_rows": null,
            "grid_column": null,
            "grid_gap": null,
            "grid_row": null,
            "grid_template_areas": null,
            "grid_template_columns": null,
            "grid_template_rows": null,
            "height": null,
            "justify_content": null,
            "justify_items": null,
            "left": null,
            "margin": null,
            "max_height": null,
            "max_width": null,
            "min_height": null,
            "min_width": null,
            "object_fit": null,
            "object_position": null,
            "order": null,
            "overflow": null,
            "overflow_x": null,
            "overflow_y": null,
            "padding": null,
            "right": null,
            "top": null,
            "visibility": null,
            "width": null
          }
        },
        "f3d7a7adfdb24dfe876b3c954761cb1b": {
          "model_module": "@jupyter-widgets/base",
          "model_module_version": "1.2.0",
          "model_name": "LayoutModel",
          "state": {
            "_model_module": "@jupyter-widgets/base",
            "_model_module_version": "1.2.0",
            "_model_name": "LayoutModel",
            "_view_count": null,
            "_view_module": "@jupyter-widgets/base",
            "_view_module_version": "1.2.0",
            "_view_name": "LayoutView",
            "align_content": null,
            "align_items": null,
            "align_self": null,
            "border": null,
            "bottom": null,
            "display": null,
            "flex": null,
            "flex_flow": null,
            "grid_area": null,
            "grid_auto_columns": null,
            "grid_auto_flow": null,
            "grid_auto_rows": null,
            "grid_column": null,
            "grid_gap": null,
            "grid_row": null,
            "grid_template_areas": null,
            "grid_template_columns": null,
            "grid_template_rows": null,
            "height": null,
            "justify_content": null,
            "justify_items": null,
            "left": null,
            "margin": null,
            "max_height": null,
            "max_width": null,
            "min_height": null,
            "min_width": null,
            "object_fit": null,
            "object_position": null,
            "order": null,
            "overflow": null,
            "overflow_x": null,
            "overflow_y": null,
            "padding": null,
            "right": null,
            "top": null,
            "visibility": null,
            "width": null
          }
        },
        "f41881d2ae7947d98aaa7fea3a65d271": {
          "model_module": "@jupyter-widgets/controls",
          "model_module_version": "1.5.0",
          "model_name": "DescriptionStyleModel",
          "state": {
            "_model_module": "@jupyter-widgets/controls",
            "_model_module_version": "1.5.0",
            "_model_name": "DescriptionStyleModel",
            "_view_count": null,
            "_view_module": "@jupyter-widgets/base",
            "_view_module_version": "1.2.0",
            "_view_name": "StyleView",
            "description_width": ""
          }
        },
        "f61c1a65360740108dc17f508e5d8845": {
          "model_module": "@jupyter-widgets/base",
          "model_module_version": "1.2.0",
          "model_name": "LayoutModel",
          "state": {
            "_model_module": "@jupyter-widgets/base",
            "_model_module_version": "1.2.0",
            "_model_name": "LayoutModel",
            "_view_count": null,
            "_view_module": "@jupyter-widgets/base",
            "_view_module_version": "1.2.0",
            "_view_name": "LayoutView",
            "align_content": null,
            "align_items": null,
            "align_self": null,
            "border": null,
            "bottom": null,
            "display": null,
            "flex": null,
            "flex_flow": null,
            "grid_area": null,
            "grid_auto_columns": null,
            "grid_auto_flow": null,
            "grid_auto_rows": null,
            "grid_column": null,
            "grid_gap": null,
            "grid_row": null,
            "grid_template_areas": null,
            "grid_template_columns": null,
            "grid_template_rows": null,
            "height": null,
            "justify_content": null,
            "justify_items": null,
            "left": null,
            "margin": null,
            "max_height": null,
            "max_width": null,
            "min_height": null,
            "min_width": null,
            "object_fit": null,
            "object_position": null,
            "order": null,
            "overflow": null,
            "overflow_x": null,
            "overflow_y": null,
            "padding": null,
            "right": null,
            "top": null,
            "visibility": null,
            "width": null
          }
        },
        "f7a3f39693d14bdab93f65c609dc2335": {
          "model_module": "@jupyter-widgets/base",
          "model_module_version": "1.2.0",
          "model_name": "LayoutModel",
          "state": {
            "_model_module": "@jupyter-widgets/base",
            "_model_module_version": "1.2.0",
            "_model_name": "LayoutModel",
            "_view_count": null,
            "_view_module": "@jupyter-widgets/base",
            "_view_module_version": "1.2.0",
            "_view_name": "LayoutView",
            "align_content": null,
            "align_items": null,
            "align_self": null,
            "border": null,
            "bottom": null,
            "display": null,
            "flex": null,
            "flex_flow": null,
            "grid_area": null,
            "grid_auto_columns": null,
            "grid_auto_flow": null,
            "grid_auto_rows": null,
            "grid_column": null,
            "grid_gap": null,
            "grid_row": null,
            "grid_template_areas": null,
            "grid_template_columns": null,
            "grid_template_rows": null,
            "height": null,
            "justify_content": null,
            "justify_items": null,
            "left": null,
            "margin": null,
            "max_height": null,
            "max_width": null,
            "min_height": null,
            "min_width": null,
            "object_fit": null,
            "object_position": null,
            "order": null,
            "overflow": null,
            "overflow_x": null,
            "overflow_y": null,
            "padding": null,
            "right": null,
            "top": null,
            "visibility": null,
            "width": null
          }
        },
        "f7d2baf408104ac484dbaf56fca07b0a": {
          "model_module": "@jupyter-widgets/base",
          "model_module_version": "1.2.0",
          "model_name": "LayoutModel",
          "state": {
            "_model_module": "@jupyter-widgets/base",
            "_model_module_version": "1.2.0",
            "_model_name": "LayoutModel",
            "_view_count": null,
            "_view_module": "@jupyter-widgets/base",
            "_view_module_version": "1.2.0",
            "_view_name": "LayoutView",
            "align_content": null,
            "align_items": null,
            "align_self": null,
            "border": null,
            "bottom": null,
            "display": null,
            "flex": null,
            "flex_flow": null,
            "grid_area": null,
            "grid_auto_columns": null,
            "grid_auto_flow": null,
            "grid_auto_rows": null,
            "grid_column": null,
            "grid_gap": null,
            "grid_row": null,
            "grid_template_areas": null,
            "grid_template_columns": null,
            "grid_template_rows": null,
            "height": null,
            "justify_content": null,
            "justify_items": null,
            "left": null,
            "margin": null,
            "max_height": null,
            "max_width": null,
            "min_height": null,
            "min_width": null,
            "object_fit": null,
            "object_position": null,
            "order": null,
            "overflow": null,
            "overflow_x": null,
            "overflow_y": null,
            "padding": null,
            "right": null,
            "top": null,
            "visibility": null,
            "width": null
          }
        },
        "f802e349b8474590ac4c7953eab9b4e8": {
          "model_module": "@jupyter-widgets/base",
          "model_module_version": "1.2.0",
          "model_name": "LayoutModel",
          "state": {
            "_model_module": "@jupyter-widgets/base",
            "_model_module_version": "1.2.0",
            "_model_name": "LayoutModel",
            "_view_count": null,
            "_view_module": "@jupyter-widgets/base",
            "_view_module_version": "1.2.0",
            "_view_name": "LayoutView",
            "align_content": null,
            "align_items": null,
            "align_self": null,
            "border": null,
            "bottom": null,
            "display": null,
            "flex": null,
            "flex_flow": null,
            "grid_area": null,
            "grid_auto_columns": null,
            "grid_auto_flow": null,
            "grid_auto_rows": null,
            "grid_column": null,
            "grid_gap": null,
            "grid_row": null,
            "grid_template_areas": null,
            "grid_template_columns": null,
            "grid_template_rows": null,
            "height": null,
            "justify_content": null,
            "justify_items": null,
            "left": null,
            "margin": null,
            "max_height": null,
            "max_width": null,
            "min_height": null,
            "min_width": null,
            "object_fit": null,
            "object_position": null,
            "order": null,
            "overflow": null,
            "overflow_x": null,
            "overflow_y": null,
            "padding": null,
            "right": null,
            "top": null,
            "visibility": null,
            "width": null
          }
        },
        "f804982663b946a7b3c279da52bffdb8": {
          "model_module": "@jupyter-widgets/base",
          "model_module_version": "1.2.0",
          "model_name": "LayoutModel",
          "state": {
            "_model_module": "@jupyter-widgets/base",
            "_model_module_version": "1.2.0",
            "_model_name": "LayoutModel",
            "_view_count": null,
            "_view_module": "@jupyter-widgets/base",
            "_view_module_version": "1.2.0",
            "_view_name": "LayoutView",
            "align_content": null,
            "align_items": null,
            "align_self": null,
            "border": null,
            "bottom": null,
            "display": null,
            "flex": null,
            "flex_flow": null,
            "grid_area": null,
            "grid_auto_columns": null,
            "grid_auto_flow": null,
            "grid_auto_rows": null,
            "grid_column": null,
            "grid_gap": null,
            "grid_row": null,
            "grid_template_areas": null,
            "grid_template_columns": null,
            "grid_template_rows": null,
            "height": null,
            "justify_content": null,
            "justify_items": null,
            "left": null,
            "margin": null,
            "max_height": null,
            "max_width": null,
            "min_height": null,
            "min_width": null,
            "object_fit": null,
            "object_position": null,
            "order": null,
            "overflow": null,
            "overflow_x": null,
            "overflow_y": null,
            "padding": null,
            "right": null,
            "top": null,
            "visibility": null,
            "width": null
          }
        },
        "fb55b23ae30d48a5983fbfa3f1cb6090": {
          "model_module": "@jupyter-widgets/controls",
          "model_module_version": "1.5.0",
          "model_name": "FloatProgressModel",
          "state": {
            "_dom_classes": [],
            "_model_module": "@jupyter-widgets/controls",
            "_model_module_version": "1.5.0",
            "_model_name": "FloatProgressModel",
            "_view_count": null,
            "_view_module": "@jupyter-widgets/controls",
            "_view_module_version": "1.5.0",
            "_view_name": "ProgressView",
            "bar_style": "success",
            "description": "",
            "description_tooltip": null,
            "layout": "IPY_MODEL_e51ebddb49b84235a901562a692d0f79",
            "max": 16,
            "min": 0,
            "orientation": "horizontal",
            "style": "IPY_MODEL_0b28abe84564453088b1a3ae6445c1f8",
            "value": 16
          }
        },
        "fef79ca8d2f04df29b8b795de4f1a360": {
          "model_module": "@jupyter-widgets/controls",
          "model_module_version": "1.5.0",
          "model_name": "DescriptionStyleModel",
          "state": {
            "_model_module": "@jupyter-widgets/controls",
            "_model_module_version": "1.5.0",
            "_model_name": "DescriptionStyleModel",
            "_view_count": null,
            "_view_module": "@jupyter-widgets/base",
            "_view_module_version": "1.2.0",
            "_view_name": "StyleView",
            "description_width": ""
          }
        },
        "ff7011c048a649b0992a67405c34531e": {
          "model_module": "@jupyter-widgets/controls",
          "model_module_version": "1.5.0",
          "model_name": "HTMLModel",
          "state": {
            "_dom_classes": [],
            "_model_module": "@jupyter-widgets/controls",
            "_model_module_version": "1.5.0",
            "_model_name": "HTMLModel",
            "_view_count": null,
            "_view_module": "@jupyter-widgets/controls",
            "_view_module_version": "1.5.0",
            "_view_name": "HTMLView",
            "description": "",
            "description_tooltip": null,
            "layout": "IPY_MODEL_b342308ea51040109fca619a9ba54e87",
            "placeholder": "​",
            "style": "IPY_MODEL_7077e9b24cc5421f9a8eb8f2aeab07f9",
            "value": " 144/? [02:51&lt;00:00,  1.14s/it]"
          }
        },
        "ffc0d978ab3f4d678ef8ce034dfb5d91": {
          "model_module": "@jupyter-widgets/controls",
          "model_module_version": "1.5.0",
          "model_name": "FloatProgressModel",
          "state": {
            "_dom_classes": [],
            "_model_module": "@jupyter-widgets/controls",
            "_model_module_version": "1.5.0",
            "_model_name": "FloatProgressModel",
            "_view_count": null,
            "_view_module": "@jupyter-widgets/controls",
            "_view_module_version": "1.5.0",
            "_view_name": "ProgressView",
            "bar_style": "success",
            "description": "",
            "description_tooltip": null,
            "layout": "IPY_MODEL_8e27d3e5b1684b2ab71a58f760b68893",
            "max": 16,
            "min": 0,
            "orientation": "horizontal",
            "style": "IPY_MODEL_0a6ab88163604fd8a19a385b336b5502",
            "value": 16
          }
        }
      }
    }
  },
  "nbformat": 4,
  "nbformat_minor": 0
}
