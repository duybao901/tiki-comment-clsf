{
  "nbformat": 4,
  "nbformat_minor": 0,
  "metadata": {
    "kernelspec": {
      "language": "python",
      "display_name": "Python 3",
      "name": "python3"
    },
    "language_info": {
      "pygments_lexer": "ipython3",
      "nbconvert_exporter": "python",
      "version": "3.6.4",
      "file_extension": ".py",
      "codemirror_mode": {
        "name": "ipython",
        "version": 3
      },
      "name": "python",
      "mimetype": "text/x-python"
    },
    "colab": {
      "name": "train.ipynb",
      "provenance": []
    }
  },
  "cells": [
    {
      "cell_type": "markdown",
      "metadata": {
        "id": "hx-6CooUNt1p"
      },
      "source": [
        "## 1. Import libraries"
      ]
    },
    {
      "cell_type": "code",
      "metadata": {
        "execution": {
          "iopub.status.busy": "2021-11-11T09:37:41.448709Z",
          "iopub.execute_input": "2021-11-11T09:37:41.449095Z",
          "iopub.status.idle": "2021-11-11T09:37:53.721696Z",
          "shell.execute_reply.started": "2021-11-11T09:37:41.448996Z",
          "shell.execute_reply": "2021-11-11T09:37:53.720766Z"
        },
        "trusted": true,
        "colab": {
          "base_uri": "https://localhost:8080/"
        },
        "id": "oXJtRvviNt1u",
        "outputId": "4d1fcb46-ce73-4873-9dbe-bba286150fc5"
      },
      "source": [
        "!pip install pyvi"
      ],
      "execution_count": 3,
      "outputs": [
        {
          "output_type": "stream",
          "name": "stdout",
          "text": [
            "Installing collected packages: python-crfsuite, sklearn-crfsuite, pyvi\n",
            "Successfully installed python-crfsuite-0.9.7 pyvi-0.1.1 sklearn-crfsuite-0.3.6\n"
          ]
        }
      ]
    },
    {
      "cell_type": "code",
      "metadata": {
        "execution": {
          "iopub.status.busy": "2021-11-11T09:37:53.723939Z",
          "iopub.execute_input": "2021-11-11T09:37:53.724239Z",
          "iopub.status.idle": "2021-11-11T09:37:54.548482Z",
          "shell.execute_reply.started": "2021-11-11T09:37:53.724181Z",
          "shell.execute_reply": "2021-11-11T09:37:54.547743Z"
        },
        "trusted": true,
        "id": "47TWhS5fNt1v"
      },
      "source": [
        "import pandas as pd\n",
        "import numpy as np\n",
        "import matplotlib.pyplot as plt\n",
        "import seaborn as sns\n",
        "import re\n",
        "from pyvi import ViTokenizer"
      ],
      "execution_count": null,
      "outputs": []
    },
    {
      "cell_type": "markdown",
      "metadata": {
        "id": "JI51zD5iNt1w"
      },
      "source": [
        "## 2. Read data"
      ]
    },
    {
      "cell_type": "code",
      "metadata": {
        "execution": {
          "iopub.status.busy": "2021-11-11T09:37:54.551174Z",
          "iopub.execute_input": "2021-11-11T09:37:54.551614Z",
          "iopub.status.idle": "2021-11-11T09:37:54.809999Z",
          "shell.execute_reply.started": "2021-11-11T09:37:54.551571Z",
          "shell.execute_reply": "2021-11-11T09:37:54.809348Z"
        },
        "trusted": true,
        "colab": {
          "base_uri": "https://localhost:8080/",
          "height": 0
        },
        "id": "GsmxSuQINt1w",
        "outputId": "987dc2e5-87a9-448f-c4fe-2aeb364efe48"
      },
      "source": [
        "# Đọc dữ liệu từ file json\n",
        "data = pd.read_json(\"/content/data_coment_tiki.json\")\n",
        "data.head()"
      ],
      "execution_count": 110,
      "outputs": [
        {
          "output_type": "execute_result",
          "data": {
            "text/html": [
              "<div>\n",
              "<style scoped>\n",
              "    .dataframe tbody tr th:only-of-type {\n",
              "        vertical-align: middle;\n",
              "    }\n",
              "\n",
              "    .dataframe tbody tr th {\n",
              "        vertical-align: top;\n",
              "    }\n",
              "\n",
              "    .dataframe thead th {\n",
              "        text-align: right;\n",
              "    }\n",
              "</style>\n",
              "<table border=\"1\" class=\"dataframe\">\n",
              "  <thead>\n",
              "    <tr style=\"text-align: right;\">\n",
              "      <th></th>\n",
              "      <th>content</th>\n",
              "      <th>rating</th>\n",
              "    </tr>\n",
              "  </thead>\n",
              "  <tbody>\n",
              "    <tr>\n",
              "      <th>0</th>\n",
              "      <td>Giao hàng cực nhanh, sáng hôm nay đặt,sáng mai...</td>\n",
              "      <td>5</td>\n",
              "    </tr>\n",
              "    <tr>\n",
              "      <th>1</th>\n",
              "      <td>Đóng gói cẩn thận, điện thoại còn nguyên seal,...</td>\n",
              "      <td>5</td>\n",
              "    </tr>\n",
              "    <tr>\n",
              "      <th>2</th>\n",
              "      <td>Mình cho 1 sao vì thái độ dịch vụ Khách hàng t...</td>\n",
              "      <td>1</td>\n",
              "    </tr>\n",
              "    <tr>\n",
              "      <th>3</th>\n",
              "      <td>Sản phẩm tầm giá nhìn cũng đx , mình mua cho p...</td>\n",
              "      <td>3</td>\n",
              "    </tr>\n",
              "    <tr>\n",
              "      <th>4</th>\n",
              "      <td>Màu xanh ở ngoài nhìn đẹp sang, thích hơ...</td>\n",
              "      <td>5</td>\n",
              "    </tr>\n",
              "  </tbody>\n",
              "</table>\n",
              "</div>"
            ],
            "text/plain": [
              "                                             content  rating\n",
              "0  Giao hàng cực nhanh, sáng hôm nay đặt,sáng mai...       5\n",
              "1  Đóng gói cẩn thận, điện thoại còn nguyên seal,...       5\n",
              "2  Mình cho 1 sao vì thái độ dịch vụ Khách hàng t...       1\n",
              "3  Sản phẩm tầm giá nhìn cũng đx , mình mua cho p...       3\n",
              "4  Màu xanh ở ngoài nhìn đẹp sang, thích hơ...       5"
            ]
          },
          "metadata": {},
          "execution_count": 110
        }
      ]
    },
    {
      "cell_type": "code",
      "metadata": {
        "execution": {
          "iopub.status.busy": "2021-11-11T09:37:54.812004Z",
          "iopub.execute_input": "2021-11-11T09:37:54.812269Z",
          "iopub.status.idle": "2021-11-11T09:37:54.823761Z",
          "shell.execute_reply.started": "2021-11-11T09:37:54.812233Z",
          "shell.execute_reply": "2021-11-11T09:37:54.823025Z"
        },
        "trusted": true,
        "colab": {
          "base_uri": "https://localhost:8080/",
          "height": 0
        },
        "id": "75Qg8YVaNt1x",
        "outputId": "1a6be833-7055-4acf-f6b6-3cdbaf8651e4"
      },
      "source": [
        "data.rename(columns={\"content\":\"text\",\"rating\":\"star\"}, inplace=True)\n",
        "data.head()"
      ],
      "execution_count": 111,
      "outputs": [
        {
          "output_type": "execute_result",
          "data": {
            "text/html": [
              "<div>\n",
              "<style scoped>\n",
              "    .dataframe tbody tr th:only-of-type {\n",
              "        vertical-align: middle;\n",
              "    }\n",
              "\n",
              "    .dataframe tbody tr th {\n",
              "        vertical-align: top;\n",
              "    }\n",
              "\n",
              "    .dataframe thead th {\n",
              "        text-align: right;\n",
              "    }\n",
              "</style>\n",
              "<table border=\"1\" class=\"dataframe\">\n",
              "  <thead>\n",
              "    <tr style=\"text-align: right;\">\n",
              "      <th></th>\n",
              "      <th>text</th>\n",
              "      <th>star</th>\n",
              "    </tr>\n",
              "  </thead>\n",
              "  <tbody>\n",
              "    <tr>\n",
              "      <th>0</th>\n",
              "      <td>Giao hàng cực nhanh, sáng hôm nay đặt,sáng mai...</td>\n",
              "      <td>5</td>\n",
              "    </tr>\n",
              "    <tr>\n",
              "      <th>1</th>\n",
              "      <td>Đóng gói cẩn thận, điện thoại còn nguyên seal,...</td>\n",
              "      <td>5</td>\n",
              "    </tr>\n",
              "    <tr>\n",
              "      <th>2</th>\n",
              "      <td>Mình cho 1 sao vì thái độ dịch vụ Khách hàng t...</td>\n",
              "      <td>1</td>\n",
              "    </tr>\n",
              "    <tr>\n",
              "      <th>3</th>\n",
              "      <td>Sản phẩm tầm giá nhìn cũng đx , mình mua cho p...</td>\n",
              "      <td>3</td>\n",
              "    </tr>\n",
              "    <tr>\n",
              "      <th>4</th>\n",
              "      <td>Màu xanh ở ngoài nhìn đẹp sang, thích hơ...</td>\n",
              "      <td>5</td>\n",
              "    </tr>\n",
              "  </tbody>\n",
              "</table>\n",
              "</div>"
            ],
            "text/plain": [
              "                                                text  star\n",
              "0  Giao hàng cực nhanh, sáng hôm nay đặt,sáng mai...     5\n",
              "1  Đóng gói cẩn thận, điện thoại còn nguyên seal,...     5\n",
              "2  Mình cho 1 sao vì thái độ dịch vụ Khách hàng t...     1\n",
              "3  Sản phẩm tầm giá nhìn cũng đx , mình mua cho p...     3\n",
              "4  Màu xanh ở ngoài nhìn đẹp sang, thích hơ...     5"
            ]
          },
          "metadata": {},
          "execution_count": 111
        }
      ]
    },
    {
      "cell_type": "code",
      "metadata": {
        "execution": {
          "iopub.status.busy": "2021-11-11T09:37:54.825267Z",
          "iopub.execute_input": "2021-11-11T09:37:54.825738Z",
          "iopub.status.idle": "2021-11-11T09:37:54.84536Z",
          "shell.execute_reply.started": "2021-11-11T09:37:54.8257Z",
          "shell.execute_reply": "2021-11-11T09:37:54.844624Z"
        },
        "trusted": true,
        "colab": {
          "base_uri": "https://localhost:8080/"
        },
        "id": "NtErbI2-Nt1x",
        "outputId": "729b9943-9df8-4c5b-bb29-c7593db9dd7d"
      },
      "source": [
        "data.info()"
      ],
      "execution_count": 112,
      "outputs": [
        {
          "output_type": "stream",
          "name": "stdout",
          "text": [
            "<class 'pandas.core.frame.DataFrame'>\n",
            "RangeIndex: 16115 entries, 0 to 16114\n",
            "Data columns (total 2 columns):\n",
            " #   Column  Non-Null Count  Dtype \n",
            "---  ------  --------------  ----- \n",
            " 0   text    16115 non-null  object\n",
            " 1   star    16115 non-null  int64 \n",
            "dtypes: int64(1), object(1)\n",
            "memory usage: 251.9+ KB\n"
          ]
        }
      ]
    },
    {
      "cell_type": "markdown",
      "metadata": {
        "id": "UQSe0QPzNt1y"
      },
      "source": [
        "### Do dữ liệu bị mất cân bằng nên ta xóa ngẫu nhiên 9000 mẫu 5 sao, và 1000 mẫu 4 sao"
      ]
    },
    {
      "cell_type": "code",
      "metadata": {
        "execution": {
          "iopub.status.busy": "2021-11-11T09:37:54.846865Z",
          "iopub.execute_input": "2021-11-11T09:37:54.847239Z",
          "iopub.status.idle": "2021-11-11T09:37:54.856697Z",
          "shell.execute_reply.started": "2021-11-11T09:37:54.847203Z",
          "shell.execute_reply": "2021-11-11T09:37:54.855888Z"
        },
        "trusted": true,
        "id": "eA7J5m-qNt1y"
      },
      "source": [
        "np.random.seed(10)\n",
        "remove_n = 10000\n",
        "drop_indices = np.random.choice(data[data['star'] == 5].index, remove_n, replace=False)\n",
        "data = data.drop(drop_indices)"
      ],
      "execution_count": 113,
      "outputs": []
    },
    {
      "cell_type": "code",
      "metadata": {
        "execution": {
          "iopub.status.busy": "2021-11-11T09:37:54.858304Z",
          "iopub.execute_input": "2021-11-11T09:37:54.858755Z",
          "iopub.status.idle": "2021-11-11T09:37:54.865953Z",
          "shell.execute_reply.started": "2021-11-11T09:37:54.858719Z",
          "shell.execute_reply": "2021-11-11T09:37:54.865169Z"
        },
        "trusted": true,
        "id": "s4aXPeLANt1z"
      },
      "source": [
        "np.random.seed(10)\n",
        "remove_n = 1000\n",
        "drop_indices = np.random.choice(data[data['star'] == 4].index, remove_n, replace=False)\n",
        "data = data.drop(drop_indices)"
      ],
      "execution_count": 114,
      "outputs": []
    },
    {
      "cell_type": "code",
      "metadata": {
        "execution": {
          "iopub.status.busy": "2021-11-11T09:37:54.869504Z",
          "iopub.execute_input": "2021-11-11T09:37:54.869681Z",
          "iopub.status.idle": "2021-11-11T09:37:54.875179Z",
          "shell.execute_reply.started": "2021-11-11T09:37:54.869659Z",
          "shell.execute_reply": "2021-11-11T09:37:54.874263Z"
        },
        "trusted": true,
        "colab": {
          "base_uri": "https://localhost:8080/"
        },
        "id": "CTqdWe0aNt1z",
        "outputId": "bc5fc422-1c5e-46da-dbf7-d84a7d30280c"
      },
      "source": [
        "len(data)"
      ],
      "execution_count": 115,
      "outputs": [
        {
          "output_type": "execute_result",
          "data": {
            "text/plain": [
              "5115"
            ]
          },
          "metadata": {},
          "execution_count": 115
        }
      ]
    },
    {
      "cell_type": "code",
      "metadata": {
        "execution": {
          "iopub.status.busy": "2021-11-11T09:37:54.87684Z",
          "iopub.execute_input": "2021-11-11T09:37:54.877363Z",
          "iopub.status.idle": "2021-11-11T09:37:54.88686Z",
          "shell.execute_reply.started": "2021-11-11T09:37:54.877327Z",
          "shell.execute_reply": "2021-11-11T09:37:54.886088Z"
        },
        "trusted": true,
        "colab": {
          "base_uri": "https://localhost:8080/"
        },
        "id": "ay74__YBNt10",
        "outputId": "0607ca0e-5f41-4f7d-b6aa-94d934262a74"
      },
      "source": [
        "data.star.value_counts()"
      ],
      "execution_count": 116,
      "outputs": [
        {
          "output_type": "execute_result",
          "data": {
            "text/plain": [
              "4    1391\n",
              "5    1273\n",
              "1    1018\n",
              "3     961\n",
              "2     472\n",
              "Name: star, dtype: int64"
            ]
          },
          "metadata": {},
          "execution_count": 116
        }
      ]
    },
    {
      "cell_type": "markdown",
      "metadata": {
        "id": "RLmTFTZnNt10"
      },
      "source": [
        "## 3. Exploratory Data Analysis (EDA)"
      ]
    },
    {
      "cell_type": "markdown",
      "metadata": {
        "id": "idrJrKFhNt10"
      },
      "source": [
        "### Class distribution"
      ]
    },
    {
      "cell_type": "code",
      "metadata": {
        "execution": {
          "iopub.status.busy": "2021-11-11T09:37:54.890044Z",
          "iopub.execute_input": "2021-11-11T09:37:54.890244Z",
          "iopub.status.idle": "2021-11-11T09:37:55.262798Z",
          "shell.execute_reply.started": "2021-11-11T09:37:54.890221Z",
          "shell.execute_reply": "2021-11-11T09:37:55.26209Z"
        },
        "trusted": true,
        "colab": {
          "base_uri": "https://localhost:8080/",
          "height": 0
        },
        "id": "F_OJNUhfNt11",
        "outputId": "1eff32f1-2176-4162-a7ca-ff1986e0e28d"
      },
      "source": [
        "sns.histplot(data=data['star']);"
      ],
      "execution_count": 117,
      "outputs": [
        {
          "output_type": "display_data",
          "data": {
            "image/png": "[encoded data removed]",
            "text/plain": [
              "<Figure size 1296x432 with 1 Axes>"
            ]
          },
          "metadata": {
            "needs_background": "light"
          }
        }
      ]
    },
    {
      "cell_type": "markdown",
      "metadata": {
        "id": "ctr-chuxNt11"
      },
      "source": [
        "### Number of characters in text"
      ]
    },
    {
      "cell_type": "code",
      "metadata": {
        "execution": {
          "iopub.status.busy": "2021-11-11T09:37:55.263857Z",
          "iopub.execute_input": "2021-11-11T09:37:55.264081Z",
          "iopub.status.idle": "2021-11-11T09:37:55.267971Z",
          "shell.execute_reply.started": "2021-11-11T09:37:55.264046Z",
          "shell.execute_reply": "2021-11-11T09:37:55.267327Z"
        },
        "trusted": true,
        "id": "6JQOBNAkNt11"
      },
      "source": [
        "def length_text(text):\n",
        "    return len(text)"
      ],
      "execution_count": 118,
      "outputs": []
    },
    {
      "cell_type": "code",
      "metadata": {
        "execution": {
          "iopub.status.busy": "2021-11-11T09:37:55.268992Z",
          "iopub.execute_input": "2021-11-11T09:37:55.270337Z",
          "iopub.status.idle": "2021-11-11T09:37:55.284716Z",
          "shell.execute_reply.started": "2021-11-11T09:37:55.270297Z",
          "shell.execute_reply": "2021-11-11T09:37:55.283496Z"
        },
        "trusted": true,
        "colab": {
          "base_uri": "https://localhost:8080/"
        },
        "id": "SElrfSFENt11",
        "outputId": "fe893afa-cb6a-48b5-8e2e-ed88c8aff335"
      },
      "source": [
        "data['length'] = data['text'].apply(length_text)\n",
        "data['length'].head()"
      ],
      "execution_count": 119,
      "outputs": [
        {
          "output_type": "execute_result",
          "data": {
            "text/plain": [
              "2    1223\n",
              "3     318\n",
              "6     351\n",
              "7     227\n",
              "8     167\n",
              "Name: length, dtype: int64"
            ]
          },
          "metadata": {},
          "execution_count": 119
        }
      ]
    },
    {
      "cell_type": "code",
      "metadata": {
        "execution": {
          "iopub.status.busy": "2021-11-11T09:37:55.285652Z",
          "iopub.execute_input": "2021-11-11T09:37:55.285843Z",
          "iopub.status.idle": "2021-11-11T09:37:56.67442Z",
          "shell.execute_reply.started": "2021-11-11T09:37:55.285819Z",
          "shell.execute_reply": "2021-11-11T09:37:56.673506Z"
        },
        "trusted": true,
        "colab": {
          "base_uri": "https://localhost:8080/",
          "height": 0
        },
        "id": "4M5B2jxWNt11",
        "outputId": "e82c626e-5170-4c01-d979-b03c95ea4f7b"
      },
      "source": [
        "plt.rcParams['figure.figsize'] = (18.0, 6.0)\n",
        "bins = 150\n",
        "plt.hist(data[data['star'] == 5]['length'], alpha = 0.6, bins=bins, label='5')\n",
        "plt.hist(data[data['star'] == 4]['length'], alpha = 0.8, bins=bins, label='4')\n",
        "plt.hist(data[data['star'] == 3]['length'], alpha = 0.8, bins=bins, label='3')\n",
        "plt.hist(data[data['star'] == 2]['length'], alpha = 0.8, bins=bins, label='2')\n",
        "plt.hist(data[data['star'] == 1]['length'], alpha = 0.8, bins=bins, label='1')\n",
        "plt.xlabel('length')\n",
        "plt.ylabel('numbers')\n",
        "plt.legend(loc='upper right')\n",
        "plt.xlim(0,500)\n",
        "plt.grid()\n",
        "plt.show()"
      ],
      "execution_count": 120,
      "outputs": [
        {
          "output_type": "display_data",
          "data": {
            "image/png": "[encoded data removed]",
            "text/plain": [
              "<Figure size 1296x432 with 1 Axes>"
            ]
          },
          "metadata": {
            "needs_background": "light"
          }
        }
      ]
    },
    {
      "cell_type": "markdown",
      "metadata": {
        "id": "N5fkM6BMNt12"
      },
      "source": [
        "## 4. Data cleaning"
      ]
    },
    {
      "cell_type": "markdown",
      "metadata": {
        "id": "t1OMQ4jCNt12"
      },
      "source": [
        "### acronym words"
      ]
    },
    {
      "cell_type": "code",
      "metadata": {
        "execution": {
          "iopub.status.busy": "2021-11-11T09:37:56.676595Z",
          "iopub.execute_input": "2021-11-11T09:37:56.6768Z",
          "iopub.status.idle": "2021-11-11T09:37:56.694684Z",
          "shell.execute_reply.started": "2021-11-11T09:37:56.676773Z",
          "shell.execute_reply": "2021-11-11T09:37:56.694016Z"
        },
        "trusted": true,
        "colab": {
          "base_uri": "https://localhost:8080/"
        },
        "id": "ftt1HdatNt12",
        "outputId": "cf0bdd85-40ef-43bd-b518-c8d61dfc1026"
      },
      "source": [
        "acronym_words = []\n",
        "acronym_words_dict = []\n",
        "acronym_words = open('/content/acronym_word.txt','r', encoding='utf-8')\n",
        "acronym_words = acronym_words.readlines()\n",
        "for i in range(len(acronym_words)):\n",
        "  acronym_words_split = acronym_words[i].split(\"\\t\")\n",
        "  for j in range(len(acronym_words_split)):\n",
        "    acronym_words_split[j] = re.sub(\"[\\n\\ufeff]\",'',acronym_words_split[j])\n",
        "  try:\n",
        "    acronym_words_dict.append({acronym_words_split[0]:acronym_words_split[1]})\n",
        "  except: \n",
        "    pass\n",
        "\n",
        "acronym_words_dict[:5]\n"
      ],
      "execution_count": 121,
      "outputs": [
        {
          "output_type": "execute_result",
          "data": {
            "text/plain": [
              "[{'ship': 'vận chuyển'},\n",
              " {'shop': 'cửa hàng'},\n",
              " {'m': 'mình'},\n",
              " {'mik': 'mình'},\n",
              " {'ko': 'không'}]"
            ]
          },
          "metadata": {},
          "execution_count": 121
        }
      ]
    },
    {
      "cell_type": "markdown",
      "metadata": {
        "id": "Qs8RRpWgNt12"
      },
      "source": [
        "### Stop words"
      ]
    },
    {
      "cell_type": "code",
      "metadata": {
        "execution": {
          "iopub.status.busy": "2021-11-11T09:37:56.695932Z",
          "iopub.execute_input": "2021-11-11T09:37:56.696369Z",
          "iopub.status.idle": "2021-11-11T09:37:56.717342Z",
          "shell.execute_reply.started": "2021-11-11T09:37:56.696325Z",
          "shell.execute_reply": "2021-11-11T09:37:56.716621Z"
        },
        "trusted": true,
        "colab": {
          "base_uri": "https://localhost:8080/"
        },
        "id": "e3nEkIZrNt13",
        "outputId": "d7d4edb7-3d5e-4552-8476-ebf1c13c773e"
      },
      "source": [
        "stop_words = []\n",
        "stop_words = open('/content/stop_word.txt','r', encoding='utf-8')\n",
        "stop_words = stop_words.readlines()\n",
        "for i in range(len(stop_words)):\n",
        "  stop_words[i] = re.sub(\"[\\t\\n\\ufeff]\",'',stop_words[i])\n",
        "\n",
        "stop_words[:5]"
      ],
      "execution_count": 122,
      "outputs": [
        {
          "output_type": "execute_result",
          "data": {
            "text/plain": [
              "['a lô', 'a ha', 'ai', 'ai ai', 'ai nấy']"
            ]
          },
          "metadata": {},
          "execution_count": 122
        }
      ]
    },
    {
      "cell_type": "code",
      "metadata": {
        "execution": {
          "iopub.status.busy": "2021-11-11T09:37:56.718501Z",
          "iopub.execute_input": "2021-11-11T09:37:56.71888Z",
          "iopub.status.idle": "2021-11-11T09:37:56.723372Z",
          "shell.execute_reply.started": "2021-11-11T09:37:56.718844Z",
          "shell.execute_reply": "2021-11-11T09:37:56.722693Z"
        },
        "trusted": true,
        "id": "dvdj34SiNt13"
      },
      "source": [
        "\"\"\"**Tách từ**\n",
        "\n",
        "\"\"\"\n",
        "\n",
        "# Tách từ\n",
        "def sementation(text):\n",
        "  return ViTokenizer.tokenize(text)"
      ],
      "execution_count": 123,
      "outputs": []
    },
    {
      "cell_type": "code",
      "metadata": {
        "execution": {
          "iopub.status.busy": "2021-11-11T09:37:56.724881Z",
          "iopub.execute_input": "2021-11-11T09:37:56.725317Z",
          "iopub.status.idle": "2021-11-11T09:37:56.733751Z",
          "shell.execute_reply.started": "2021-11-11T09:37:56.725282Z",
          "shell.execute_reply": "2021-11-11T09:37:56.73296Z"
        },
        "trusted": true,
        "id": "1PmWkM9-Nt13"
      },
      "source": [
        "\"\"\"**Chuẩn hóa**\"\"\"\n",
        "\n",
        "# Chuẩn hóa unicode sang chuẩn unicode dựng sẵn\n",
        "def loaddicchar():\n",
        "    dic = {}\n",
        "    char1252 = 'à|á|ả|ã|ạ|ầ|ấ|ẩ|ẫ|ậ|ằ|ắ|ẳ|ẵ|ặ|è|é|ẻ|ẽ|ẹ|ề|ế|ể|ễ|ệ|ì|í|ỉ|ĩ|ị|ò|ó|ỏ|õ|ọ|ồ|ố|ổ|ỗ|ộ|ờ|ớ|ở|ỡ|ợ|ù|ú|ủ|ũ|ụ|ừ|ứ|ử|ữ|ự|ỳ|ý|ỷ|ỹ|ỵ|À|Á|Ả|Ã|Ạ|Ầ|Ấ|Ẩ|Ẫ|Ậ|Ằ|Ắ|Ẳ|Ẵ|Ặ|È|É|Ẻ|Ẽ|Ẹ|Ề|Ế|Ể|Ễ|Ệ|Ì|Í|Ỉ|Ĩ|Ị|Ò|Ó|Ỏ|Õ|Ọ|Ồ|Ố|Ổ|Ỗ|Ộ|Ờ|Ớ|Ở|Ỡ|Ợ|Ù|Ú|Ủ|Ũ|Ụ|Ừ|Ứ|Ử|Ữ|Ự|Ỳ|Ý|Ỷ|Ỹ|Ỵ'.split(\n",
        "        '|')\n",
        "    charutf8 = \"à|á|ả|ã|ạ|ầ|ấ|ẩ|ẫ|ậ|ằ|ắ|ẳ|ẵ|ặ|è|é|ẻ|ẽ|ẹ|ề|ế|ể|ễ|ệ|ì|í|ỉ|ĩ|ị|ò|ó|ỏ|õ|ọ|ồ|ố|ổ|ỗ|ộ|ờ|ớ|ở|ỡ|ợ|ù|ú|ủ|ũ|ụ|ừ|ứ|ử|ữ|ự|ỳ|ý|ỷ|ỹ|ỵ|À|Á|Ả|Ã|Ạ|Ầ|Ấ|Ẩ|Ẫ|Ậ|Ằ|Ắ|Ẳ|Ẵ|Ặ|È|É|Ẻ|Ẽ|Ẹ|Ề|Ế|Ể|Ễ|Ệ|Ì|Í|Ỉ|Ĩ|Ị|Ò|Ó|Ỏ|Õ|Ọ|Ồ|Ố|Ổ|Ỗ|Ộ|Ờ|Ớ|Ở|Ỡ|Ợ|Ù|Ú|Ủ|Ũ|Ụ|Ừ|Ứ|Ử|Ữ|Ự|Ỳ|Ý|Ỷ|Ỹ|Ỵ\".split(\n",
        "        '|')\n",
        "    for i in range(len(char1252)):\n",
        "        dic[char1252[i]] = charutf8[i]\n",
        "    return dic\n",
        "\n",
        "dicchar = loaddicchar()\n",
        "def covert_unicode(txt):\n",
        "    return re.sub(\n",
        "        r'à|á|ả|ã|ạ|ầ|ấ|ẩ|ẫ|ậ|ằ|ắ|ẳ|ẵ|ặ|è|é|ẻ|ẽ|ẹ|ề|ế|ể|ễ|ệ|ì|í|ỉ|ĩ|ị|ò|ó|ỏ|õ|ọ|ồ|ố|ổ|ỗ|ộ|ờ|ớ|ở|ỡ|ợ|ù|ú|ủ|ũ|ụ|ừ|ứ|ử|ữ|ự|ỳ|ý|ỷ|ỹ|ỵ|À|Á|Ả|Ã|Ạ|Ầ|Ấ|Ẩ|Ẫ|Ậ|Ằ|Ắ|Ẳ|Ẵ|Ặ|È|É|Ẻ|Ẽ|Ẹ|Ề|Ế|Ể|Ễ|Ệ|Ì|Í|Ỉ|Ĩ|Ị|Ò|Ó|Ỏ|Õ|Ọ|Ồ|Ố|Ổ|Ỗ|Ộ|Ờ|Ớ|Ở|Ỡ|Ợ|Ù|Ú|Ủ|Ũ|Ụ|Ừ|Ứ|Ử|Ữ|Ự|Ỳ|Ý|Ỷ|Ỹ|Ỵ',\n",
        "        lambda x: dicchar[x.group()], txt)"
      ],
      "execution_count": 124,
      "outputs": []
    },
    {
      "cell_type": "code",
      "metadata": {
        "execution": {
          "iopub.status.busy": "2021-11-11T09:37:56.735768Z",
          "iopub.execute_input": "2021-11-11T09:37:56.738061Z",
          "iopub.status.idle": "2021-11-11T09:37:56.744973Z",
          "shell.execute_reply.started": "2021-11-11T09:37:56.738014Z",
          "shell.execute_reply": "2021-11-11T09:37:56.744245Z"
        },
        "trusted": true,
        "id": "QCXsad3rNt14"
      },
      "source": [
        "# Hàm chuẩn hoá câu\n",
        "def standardize_data(row):\n",
        "    # Xóa dấu chấm, phẩy, hỏi ở cuối câu\n",
        "    row = re.sub(r\"[\\.,\\?]+$-\", \"\", row)\n",
        "    # Xóa tất cả dấu chấm, phẩy, chấm phẩy, chấm thang, ... trong câu\n",
        "    row = row.replace(\",\", \" \").replace(\".\", \" \") \\\n",
        "        .replace(\";\", \" \").replace(\"“\", \" \") \\\n",
        "        .replace(\":\", \" \").replace(\"”\", \" \") \\\n",
        "        .replace('\"', \" \").replace(\"'\", \" \") \\\n",
        "        .replace(\"!\", \" \").replace(\"?\", \" \") \\\n",
        "        .replace(\"-\", \" \").replace(\"?\", \" \")\n",
        "    row = row.strip().lower()\n",
        "    return row"
      ],
      "execution_count": 125,
      "outputs": []
    },
    {
      "cell_type": "code",
      "metadata": {
        "execution": {
          "iopub.status.busy": "2021-11-11T09:37:56.746178Z",
          "iopub.execute_input": "2021-11-11T09:37:56.746849Z",
          "iopub.status.idle": "2021-11-11T09:37:56.756119Z",
          "shell.execute_reply.started": "2021-11-11T09:37:56.746799Z",
          "shell.execute_reply": "2021-11-11T09:37:56.755423Z"
        },
        "trusted": true,
        "id": "ab7v1R0FNt14"
      },
      "source": [
        "# Xử dụng bộ từ điển để thay thế các kiểu gõ dấu và viết tắt\n",
        "def replace_acronyms(text):\n",
        "  text_list = text.split(\" \");\n",
        "  for i in range(len(text_list)):\n",
        "    for j in range(len(acronym_words_dict)):\n",
        "      key = list(acronym_words_dict[j].keys())[0]\n",
        "      value = list(acronym_words_dict[j].values())[0]\n",
        "      if text_list[i] == key:\n",
        "        text_list[i] = value\n",
        "  return \" \".join(text_list)\n"
      ],
      "execution_count": 126,
      "outputs": []
    },
    {
      "cell_type": "code",
      "metadata": {
        "execution": {
          "iopub.status.busy": "2021-11-11T09:37:56.757655Z",
          "iopub.execute_input": "2021-11-11T09:37:56.758421Z",
          "iopub.status.idle": "2021-11-11T09:37:56.764735Z",
          "shell.execute_reply.started": "2021-11-11T09:37:56.758383Z",
          "shell.execute_reply": "2021-11-11T09:37:56.763984Z"
        },
        "trusted": true,
        "id": "9kPEub0iNt14"
      },
      "source": [
        "# Xử lý các từ viết trùng lắp\n",
        "def remove_loop_char(text):\n",
        "  text = re.sub(r'([A-Z])\\1+', lambda m: m.group(1).upper(), str(text), flags=re.IGNORECASE)\n",
        "  text = re.sub(r'[^\\s\\wáàảãạăắằẳẵặâấầẩẫậéèẻẽẹêếềểễệóòỏõọôốồổỗộơớờởỡợíìỉĩịúùủũụưứừửữựýỳỷỹỵđ_]',' ',text)\n",
        "  return text"
      ],
      "execution_count": 127,
      "outputs": []
    },
    {
      "cell_type": "code",
      "metadata": {
        "execution": {
          "iopub.status.busy": "2021-11-11T09:37:56.766093Z",
          "iopub.execute_input": "2021-11-11T09:37:56.766564Z",
          "iopub.status.idle": "2021-11-11T09:37:56.7733Z",
          "shell.execute_reply.started": "2021-11-11T09:37:56.766527Z",
          "shell.execute_reply": "2021-11-11T09:37:56.772608Z"
        },
        "trusted": true,
        "id": "n2JD0l_qNt14"
      },
      "source": [
        "# Loại bỏ stop word\n",
        "def remove_stop_word(text):\n",
        "  split_word = text.split(\" \");\n",
        "  words = []\n",
        "  for word in split_word:\n",
        "    if word not in stop_words:\n",
        "      words.append(word)\n",
        "  return \" \".join(words)"
      ],
      "execution_count": 128,
      "outputs": []
    },
    {
      "cell_type": "code",
      "metadata": {
        "execution": {
          "iopub.status.busy": "2021-11-11T09:37:56.775348Z",
          "iopub.execute_input": "2021-11-11T09:37:56.777273Z",
          "iopub.status.idle": "2021-11-11T09:37:56.785074Z",
          "shell.execute_reply.started": "2021-11-11T09:37:56.777234Z",
          "shell.execute_reply": "2021-11-11T09:37:56.78427Z"
        },
        "trusted": true,
        "id": "qKIwkSuNNt15"
      },
      "source": [
        "\"\"\"**Tiền xử lý dữ liệu**\"\"\"\n",
        "# Làm sạch dữ liệu\n",
        "def text_prosessing(text):\n",
        "    # Chuyển đổi thành chữ thường\n",
        "    text = text.lower() \n",
        "\n",
        "    # tách từ\n",
        "    text = sementation(text)\n",
        "\n",
        "    #Chuẩn hóa unicode sang chuẩn unicode dựng sẵn\n",
        "    text = covert_unicode(text)\n",
        "\n",
        "    # Chuẩn hóa câu\n",
        "    text = standardize_data(text)\n",
        "\n",
        "    # Xử dụng bộ từ điển để thay thế các kiểu gõ dấu và viết tắt\n",
        "    text = replace_acronyms(text)\n",
        "\n",
        "    # Xử lý các từ viết trùng lắp\n",
        "    text = remove_loop_char(text)\n",
        "\n",
        "    # Xử dụng bộ từ điển để thay thế các kiểu gõ dấu và viết tắt\n",
        "    text = remove_stop_word(text)\n",
        "\n",
        "    # Xóa các kí tự trong dấu []\n",
        "    text = re.sub('\\[.*?\\]', '', text)\n",
        "\n",
        "    # Xóa các kí tự đặc biệt\n",
        "    text = re.sub(\"\\W\",' ',text) \n",
        "\n",
        "    # Xóa các đường link\n",
        "    text = re.sub('https?://\\S+|www\\.\\S+', ' ', text)\n",
        "\n",
        "    # Xóa các số\n",
        "    text = re.sub('\\w*\\d\\w*', '', text)\n",
        "\n",
        "    # Xóa các đoạn mã html\n",
        "    text = re.sub(r'<[*>]*>',' ', text)\n",
        "\n",
        "    #Xóa các kí tự xuống dòng\n",
        "    text = \" \".join(re.sub(\"\\n\", \" \", text).split())\n",
        "    return text"
      ],
      "execution_count": 129,
      "outputs": []
    },
    {
      "cell_type": "code",
      "metadata": {
        "execution": {
          "iopub.status.busy": "2021-11-11T09:37:56.786408Z",
          "iopub.execute_input": "2021-11-11T09:37:56.788854Z",
          "iopub.status.idle": "2021-11-11T09:38:21.282159Z",
          "shell.execute_reply.started": "2021-11-11T09:37:56.788808Z",
          "shell.execute_reply": "2021-11-11T09:38:21.281234Z"
        },
        "trusted": true,
        "id": "RcA7B_6CNt15"
      },
      "source": [
        "# Apply vào data\n",
        "data['text'] = data['text'].apply(text_prosessing)"
      ],
      "execution_count": 130,
      "outputs": []
    },
    {
      "cell_type": "code",
      "metadata": {
        "execution": {
          "iopub.status.busy": "2021-11-11T09:38:21.28349Z",
          "iopub.execute_input": "2021-11-11T09:38:21.284604Z",
          "iopub.status.idle": "2021-11-11T09:38:21.294239Z",
          "shell.execute_reply.started": "2021-11-11T09:38:21.284561Z",
          "shell.execute_reply": "2021-11-11T09:38:21.293335Z"
        },
        "trusted": true,
        "colab": {
          "base_uri": "https://localhost:8080/",
          "height": 0
        },
        "id": "q8g4jnOaNt15",
        "outputId": "dd39af45-f3e1-4dd3-aa5b-ccea35621dc7"
      },
      "source": [
        "data.head()"
      ],
      "execution_count": 131,
      "outputs": [
        {
          "output_type": "execute_result",
          "data": {
            "text/html": [
              "<div>\n",
              "<style scoped>\n",
              "    .dataframe tbody tr th:only-of-type {\n",
              "        vertical-align: middle;\n",
              "    }\n",
              "\n",
              "    .dataframe tbody tr th {\n",
              "        vertical-align: top;\n",
              "    }\n",
              "\n",
              "    .dataframe thead th {\n",
              "        text-align: right;\n",
              "    }\n",
              "</style>\n",
              "<table border=\"1\" class=\"dataframe\">\n",
              "  <thead>\n",
              "    <tr style=\"text-align: right;\">\n",
              "      <th></th>\n",
              "      <th>text</th>\n",
              "      <th>star</th>\n",
              "      <th>length</th>\n",
              "    </tr>\n",
              "  </thead>\n",
              "  <tbody>\n",
              "    <tr>\n",
              "      <th>2</th>\n",
              "      <td>thái_độ dịch_vụ khách_hàng tiki điện_thoại tuầ...</td>\n",
              "      <td>1</td>\n",
              "      <td>1223</td>\n",
              "    </tr>\n",
              "    <tr>\n",
              "      <th>3</th>\n",
              "      <td>sản_phẩm tầm giá đx mua pa mẹ yêu_cầu hơi thất...</td>\n",
              "      <td>3</td>\n",
              "      <td>318</td>\n",
              "    </tr>\n",
              "    <tr>\n",
              "      <th>6</th>\n",
              "      <td>sản_phẩm mua giao hàng khui kiểm_tra góc màn_h...</td>\n",
              "      <td>1</td>\n",
              "      <td>351</td>\n",
              "    </tr>\n",
              "    <tr>\n",
              "      <th>7</th>\n",
              "      <td>điện_thoại ổn gói dịch_vụ bảo_vệ thiết_bị di_đ...</td>\n",
              "      <td>3</td>\n",
              "      <td>227</td>\n",
              "    </tr>\n",
              "    <tr>\n",
              "      <th>8</th>\n",
              "      <td>đóng_gói cẩn_thận giao sản_phẩm thắc_mắc điện_...</td>\n",
              "      <td>4</td>\n",
              "      <td>167</td>\n",
              "    </tr>\n",
              "  </tbody>\n",
              "</table>\n",
              "</div>"
            ],
            "text/plain": [
              "                                                text  star  length\n",
              "2  thái_độ dịch_vụ khách_hàng tiki điện_thoại tuầ...     1    1223\n",
              "3  sản_phẩm tầm giá đx mua pa mẹ yêu_cầu hơi thất...     3     318\n",
              "6  sản_phẩm mua giao hàng khui kiểm_tra góc màn_h...     1     351\n",
              "7  điện_thoại ổn gói dịch_vụ bảo_vệ thiết_bị di_đ...     3     227\n",
              "8  đóng_gói cẩn_thận giao sản_phẩm thắc_mắc điện_...     4     167"
            ]
          },
          "metadata": {},
          "execution_count": 131
        }
      ]
    },
    {
      "cell_type": "markdown",
      "metadata": {
        "id": "KNa1ffJ-RALa"
      },
      "source": [
        "## Lưu dữ liệu đã sạch lại"
      ]
    },
    {
      "cell_type": "code",
      "metadata": {
        "id": "RCbczALqPAvN"
      },
      "source": [
        "# data.to_csv(\"/content/data_coment_tiki_clean.csv\",index=False)"
      ],
      "execution_count": 132,
      "outputs": []
    },
    {
      "cell_type": "markdown",
      "metadata": {
        "id": "x9Zv04L_Nt15"
      },
      "source": [
        "## 5. Build Model"
      ]
    },
    {
      "cell_type": "code",
      "metadata": {
        "execution": {
          "iopub.status.busy": "2021-11-11T09:38:21.295618Z",
          "iopub.execute_input": "2021-11-11T09:38:21.296022Z",
          "iopub.status.idle": "2021-11-11T09:38:21.306882Z",
          "shell.execute_reply.started": "2021-11-11T09:38:21.295984Z",
          "shell.execute_reply": "2021-11-11T09:38:21.306074Z"
        },
        "trusted": true,
        "colab": {
          "base_uri": "https://localhost:8080/"
        },
        "id": "xPgeMT_cNt15",
        "outputId": "7800e919-c3d7-4861-9b3e-1f5ef31a027f"
      },
      "source": [
        "len(data[data['star'] < 4])"
      ],
      "execution_count": 133,
      "outputs": [
        {
          "output_type": "execute_result",
          "data": {
            "text/plain": [
              "2451"
            ]
          },
          "metadata": {},
          "execution_count": 133
        }
      ]
    },
    {
      "cell_type": "code",
      "metadata": {
        "execution": {
          "iopub.status.busy": "2021-11-11T09:38:21.308004Z",
          "iopub.execute_input": "2021-11-11T09:38:21.30841Z",
          "iopub.status.idle": "2021-11-11T09:38:21.316215Z",
          "shell.execute_reply.started": "2021-11-11T09:38:21.308375Z",
          "shell.execute_reply": "2021-11-11T09:38:21.31542Z"
        },
        "trusted": true,
        "colab": {
          "base_uri": "https://localhost:8080/"
        },
        "id": "FQkQTLFPNt15",
        "outputId": "11d01712-d38d-4bc4-adbf-c037ab9f5c9a"
      },
      "source": [
        "len(data[data['star'] >= 4])"
      ],
      "execution_count": 134,
      "outputs": [
        {
          "output_type": "execute_result",
          "data": {
            "text/plain": [
              "2664"
            ]
          },
          "metadata": {},
          "execution_count": 134
        }
      ]
    },
    {
      "cell_type": "markdown",
      "metadata": {
        "id": "i33DWOwJNt16"
      },
      "source": [
        "### Gộp 3 đánh giá 1 2 3 sao là đánh giá tiêu cực với nhãn là 0, 2 đánh giá 4 5 sao là tích cực với nhãn là 1"
      ]
    },
    {
      "cell_type": "code",
      "metadata": {
        "execution": {
          "iopub.status.busy": "2021-11-11T09:38:21.317486Z",
          "iopub.execute_input": "2021-11-11T09:38:21.317876Z",
          "iopub.status.idle": "2021-11-11T09:38:21.32359Z",
          "shell.execute_reply.started": "2021-11-11T09:38:21.317832Z",
          "shell.execute_reply": "2021-11-11T09:38:21.322795Z"
        },
        "trusted": true,
        "colab": {
          "base_uri": "https://localhost:8080/",
          "height": 203
        },
        "id": "26B0P1vvNt16",
        "outputId": "3dddc5b8-e3da-4e27-ac61-1398d28216b5"
      },
      "source": [
        "data[\"star\"] = data[\"star\"].map({1:0, 2:0, 3:0, 4:1, 5:1})\n",
        "data.head()"
      ],
      "execution_count": 135,
      "outputs": [
        {
          "output_type": "execute_result",
          "data": {
            "text/html": [
              "<div>\n",
              "<style scoped>\n",
              "    .dataframe tbody tr th:only-of-type {\n",
              "        vertical-align: middle;\n",
              "    }\n",
              "\n",
              "    .dataframe tbody tr th {\n",
              "        vertical-align: top;\n",
              "    }\n",
              "\n",
              "    .dataframe thead th {\n",
              "        text-align: right;\n",
              "    }\n",
              "</style>\n",
              "<table border=\"1\" class=\"dataframe\">\n",
              "  <thead>\n",
              "    <tr style=\"text-align: right;\">\n",
              "      <th></th>\n",
              "      <th>text</th>\n",
              "      <th>star</th>\n",
              "      <th>length</th>\n",
              "    </tr>\n",
              "  </thead>\n",
              "  <tbody>\n",
              "    <tr>\n",
              "      <th>2</th>\n",
              "      <td>thái_độ dịch_vụ khách_hàng tiki điện_thoại tuầ...</td>\n",
              "      <td>0</td>\n",
              "      <td>1223</td>\n",
              "    </tr>\n",
              "    <tr>\n",
              "      <th>3</th>\n",
              "      <td>sản_phẩm tầm giá đx mua pa mẹ yêu_cầu hơi thất...</td>\n",
              "      <td>0</td>\n",
              "      <td>318</td>\n",
              "    </tr>\n",
              "    <tr>\n",
              "      <th>6</th>\n",
              "      <td>sản_phẩm mua giao hàng khui kiểm_tra góc màn_h...</td>\n",
              "      <td>0</td>\n",
              "      <td>351</td>\n",
              "    </tr>\n",
              "    <tr>\n",
              "      <th>7</th>\n",
              "      <td>điện_thoại ổn gói dịch_vụ bảo_vệ thiết_bị di_đ...</td>\n",
              "      <td>0</td>\n",
              "      <td>227</td>\n",
              "    </tr>\n",
              "    <tr>\n",
              "      <th>8</th>\n",
              "      <td>đóng_gói cẩn_thận giao sản_phẩm thắc_mắc điện_...</td>\n",
              "      <td>1</td>\n",
              "      <td>167</td>\n",
              "    </tr>\n",
              "  </tbody>\n",
              "</table>\n",
              "</div>"
            ],
            "text/plain": [
              "                                                text  star  length\n",
              "2  thái_độ dịch_vụ khách_hàng tiki điện_thoại tuầ...     0    1223\n",
              "3  sản_phẩm tầm giá đx mua pa mẹ yêu_cầu hơi thất...     0     318\n",
              "6  sản_phẩm mua giao hàng khui kiểm_tra góc màn_h...     0     351\n",
              "7  điện_thoại ổn gói dịch_vụ bảo_vệ thiết_bị di_đ...     0     227\n",
              "8  đóng_gói cẩn_thận giao sản_phẩm thắc_mắc điện_...     1     167"
            ]
          },
          "metadata": {},
          "execution_count": 135
        }
      ]
    },
    {
      "cell_type": "markdown",
      "metadata": {
        "id": "-wdWh1u7Nt16"
      },
      "source": [
        "### Our current data"
      ]
    },
    {
      "cell_type": "code",
      "metadata": {
        "execution": {
          "iopub.status.busy": "2021-11-11T09:38:21.328546Z",
          "iopub.execute_input": "2021-11-11T09:38:21.329242Z",
          "iopub.status.idle": "2021-11-11T09:38:21.338375Z",
          "shell.execute_reply.started": "2021-11-11T09:38:21.329207Z",
          "shell.execute_reply": "2021-11-11T09:38:21.337378Z"
        },
        "trusted": true,
        "colab": {
          "base_uri": "https://localhost:8080/",
          "height": 203
        },
        "id": "co5_tojaNt18",
        "outputId": "d2410ef2-6f98-43aa-e411-f04066963772"
      },
      "source": [
        "data.head(5)"
      ],
      "execution_count": 136,
      "outputs": [
        {
          "output_type": "execute_result",
          "data": {
            "text/html": [
              "<div>\n",
              "<style scoped>\n",
              "    .dataframe tbody tr th:only-of-type {\n",
              "        vertical-align: middle;\n",
              "    }\n",
              "\n",
              "    .dataframe tbody tr th {\n",
              "        vertical-align: top;\n",
              "    }\n",
              "\n",
              "    .dataframe thead th {\n",
              "        text-align: right;\n",
              "    }\n",
              "</style>\n",
              "<table border=\"1\" class=\"dataframe\">\n",
              "  <thead>\n",
              "    <tr style=\"text-align: right;\">\n",
              "      <th></th>\n",
              "      <th>text</th>\n",
              "      <th>star</th>\n",
              "      <th>length</th>\n",
              "    </tr>\n",
              "  </thead>\n",
              "  <tbody>\n",
              "    <tr>\n",
              "      <th>2</th>\n",
              "      <td>thái_độ dịch_vụ khách_hàng tiki điện_thoại tuầ...</td>\n",
              "      <td>0</td>\n",
              "      <td>1223</td>\n",
              "    </tr>\n",
              "    <tr>\n",
              "      <th>3</th>\n",
              "      <td>sản_phẩm tầm giá đx mua pa mẹ yêu_cầu hơi thất...</td>\n",
              "      <td>0</td>\n",
              "      <td>318</td>\n",
              "    </tr>\n",
              "    <tr>\n",
              "      <th>6</th>\n",
              "      <td>sản_phẩm mua giao hàng khui kiểm_tra góc màn_h...</td>\n",
              "      <td>0</td>\n",
              "      <td>351</td>\n",
              "    </tr>\n",
              "    <tr>\n",
              "      <th>7</th>\n",
              "      <td>điện_thoại ổn gói dịch_vụ bảo_vệ thiết_bị di_đ...</td>\n",
              "      <td>0</td>\n",
              "      <td>227</td>\n",
              "    </tr>\n",
              "    <tr>\n",
              "      <th>8</th>\n",
              "      <td>đóng_gói cẩn_thận giao sản_phẩm thắc_mắc điện_...</td>\n",
              "      <td>1</td>\n",
              "      <td>167</td>\n",
              "    </tr>\n",
              "  </tbody>\n",
              "</table>\n",
              "</div>"
            ],
            "text/plain": [
              "                                                text  star  length\n",
              "2  thái_độ dịch_vụ khách_hàng tiki điện_thoại tuầ...     0    1223\n",
              "3  sản_phẩm tầm giá đx mua pa mẹ yêu_cầu hơi thất...     0     318\n",
              "6  sản_phẩm mua giao hàng khui kiểm_tra góc màn_h...     0     351\n",
              "7  điện_thoại ổn gói dịch_vụ bảo_vệ thiết_bị di_đ...     0     227\n",
              "8  đóng_gói cẩn_thận giao sản_phẩm thắc_mắc điện_...     1     167"
            ]
          },
          "metadata": {},
          "execution_count": 136
        }
      ]
    },
    {
      "cell_type": "code",
      "metadata": {
        "execution": {
          "iopub.status.busy": "2021-11-11T09:38:21.339529Z",
          "iopub.execute_input": "2021-11-11T09:38:21.339767Z",
          "iopub.status.idle": "2021-11-11T09:38:21.346929Z",
          "shell.execute_reply.started": "2021-11-11T09:38:21.339734Z",
          "shell.execute_reply": "2021-11-11T09:38:21.346068Z"
        },
        "trusted": true,
        "id": "yzx3gKBuNt19"
      },
      "source": [
        "np.array(data['text'])[:3]"
      ],
      "execution_count": null,
      "outputs": []
    },
    {
      "cell_type": "code",
      "metadata": {
        "execution": {
          "iopub.status.busy": "2021-11-11T09:38:21.34839Z",
          "iopub.execute_input": "2021-11-11T09:38:21.348821Z",
          "iopub.status.idle": "2021-11-11T09:38:21.352985Z",
          "shell.execute_reply.started": "2021-11-11T09:38:21.348787Z",
          "shell.execute_reply": "2021-11-11T09:38:21.352173Z"
        },
        "trusted": true,
        "id": "KRx4_U-XNt19"
      },
      "source": [
        "X = data['text']\n",
        "y = data['star']"
      ],
      "execution_count": 141,
      "outputs": []
    },
    {
      "cell_type": "code",
      "metadata": {
        "execution": {
          "iopub.status.busy": "2021-11-11T09:38:21.354148Z",
          "iopub.execute_input": "2021-11-11T09:38:21.354772Z",
          "iopub.status.idle": "2021-11-11T09:38:21.363599Z",
          "shell.execute_reply.started": "2021-11-11T09:38:21.354736Z",
          "shell.execute_reply": "2021-11-11T09:38:21.362849Z"
        },
        "trusted": true,
        "colab": {
          "base_uri": "https://localhost:8080/"
        },
        "id": "koZfmugpNt19",
        "outputId": "48827abf-cab4-44e8-e18b-f4383166b0ca"
      },
      "source": [
        "X.head(3)"
      ],
      "execution_count": 142,
      "outputs": [
        {
          "output_type": "execute_result",
          "data": {
            "text/plain": [
              "2    thái_độ dịch_vụ khách_hàng tiki điện_thoại tuầ...\n",
              "3    sản_phẩm tầm giá đx mua pa mẹ yêu_cầu hơi thất...\n",
              "6    sản_phẩm mua giao hàng khui kiểm_tra góc màn_h...\n",
              "Name: text, dtype: object"
            ]
          },
          "metadata": {},
          "execution_count": 142
        }
      ]
    },
    {
      "cell_type": "code",
      "metadata": {
        "execution": {
          "iopub.status.busy": "2021-11-11T09:38:21.364542Z",
          "iopub.execute_input": "2021-11-11T09:38:21.364985Z",
          "iopub.status.idle": "2021-11-11T09:38:21.371334Z",
          "shell.execute_reply.started": "2021-11-11T09:38:21.364949Z",
          "shell.execute_reply": "2021-11-11T09:38:21.370632Z"
        },
        "trusted": true,
        "id": "_KaPoj-ANt19"
      },
      "source": [
        "y.head()"
      ],
      "execution_count": null,
      "outputs": []
    },
    {
      "cell_type": "markdown",
      "metadata": {
        "id": "hrnzNIL1Nt19"
      },
      "source": [
        "### Sử dụng các giải thuật máy học để huấn luyện mô hình"
      ]
    },
    {
      "cell_type": "code",
      "metadata": {
        "execution": {
          "iopub.status.busy": "2021-11-11T09:38:21.372452Z",
          "iopub.execute_input": "2021-11-11T09:38:21.373293Z",
          "iopub.status.idle": "2021-11-11T09:38:21.43858Z",
          "shell.execute_reply.started": "2021-11-11T09:38:21.373257Z",
          "shell.execute_reply": "2021-11-11T09:38:21.437969Z"
        },
        "trusted": true,
        "id": "e_2gDKpYNt19"
      },
      "source": [
        "from sklearn.model_selection import train_test_split\n",
        "from sklearn.metrics import accuracy_score\n",
        "from sklearn.feature_extraction.text import CountVectorizer\n",
        "from sklearn.model_selection import cross_val_score"
      ],
      "execution_count": 144,
      "outputs": []
    },
    {
      "cell_type": "code",
      "metadata": {
        "execution": {
          "iopub.status.busy": "2021-11-11T09:38:21.439654Z",
          "iopub.execute_input": "2021-11-11T09:38:21.440229Z",
          "iopub.status.idle": "2021-11-11T09:38:21.540976Z",
          "shell.execute_reply.started": "2021-11-11T09:38:21.440176Z",
          "shell.execute_reply": "2021-11-11T09:38:21.540373Z"
        },
        "trusted": true,
        "id": "vmCqmJj1Nt19"
      },
      "source": [
        "cv = CountVectorizer()\n",
        "X_vectors = cv.fit_transform(X)"
      ],
      "execution_count": 159,
      "outputs": []
    },
    {
      "cell_type": "code",
      "metadata": {
        "execution": {
          "iopub.status.busy": "2021-11-11T09:38:21.542217Z",
          "iopub.execute_input": "2021-11-11T09:38:21.542437Z",
          "iopub.status.idle": "2021-11-11T09:38:21.608543Z",
          "shell.execute_reply.started": "2021-11-11T09:38:21.542406Z",
          "shell.execute_reply": "2021-11-11T09:38:21.607728Z"
        },
        "trusted": true,
        "id": "Qr9Yr70vNt1-"
      },
      "source": [
        "print(X_vectors.todense().shape)"
      ],
      "execution_count": null,
      "outputs": []
    },
    {
      "cell_type": "code",
      "metadata": {
        "execution": {
          "iopub.status.busy": "2021-11-11T09:38:21.609702Z",
          "iopub.execute_input": "2021-11-11T09:38:21.610392Z",
          "iopub.status.idle": "2021-11-11T09:38:21.73893Z",
          "shell.execute_reply.started": "2021-11-11T09:38:21.610351Z",
          "shell.execute_reply": "2021-11-11T09:38:21.738173Z"
        },
        "trusted": true,
        "id": "8_N6yMnLNt1-"
      },
      "source": [
        "print(len(cv.get_feature_names()))\n",
        "print(X_vectors.todense().shape)\n",
        "print(X_vectors.todense()[0].shape)\n",
        "print(len(X))"
      ],
      "execution_count": null,
      "outputs": []
    },
    {
      "cell_type": "code",
      "metadata": {
        "execution": {
          "iopub.status.busy": "2021-11-11T09:38:21.740316Z",
          "iopub.execute_input": "2021-11-11T09:38:21.740596Z",
          "iopub.status.idle": "2021-11-11T09:38:25.071086Z",
          "shell.execute_reply.started": "2021-11-11T09:38:21.740558Z",
          "shell.execute_reply": "2021-11-11T09:38:25.070323Z"
        },
        "trusted": true,
        "colab": {
          "base_uri": "https://localhost:8080/"
        },
        "id": "3BttSVKwNt1-",
        "outputId": "493829c2-f398-41e3-a54c-ee0a622ab1df"
      },
      "source": [
        "# Huấn luyện mô hình bằng DecisionTreeClassifier\n",
        "from sklearn.tree import DecisionTreeClassifier\n",
        "\n",
        "model = DecisionTreeClassifier()\n",
        "total_accuracy = cross_val_score(model, X_vectors, y, cv=10, scoring='accuracy')\n",
        "print('Accuracy:', np.mean(total_accuracy))"
      ],
      "execution_count": 157,
      "outputs": [
        {
          "output_type": "stream",
          "name": "stdout",
          "text": [
            "Accuracy: 0.6989206213307241\n"
          ]
        }
      ]
    },
    {
      "cell_type": "code",
      "metadata": {
        "execution": {
          "iopub.status.busy": "2021-11-11T09:38:25.072541Z",
          "iopub.execute_input": "2021-11-11T09:38:25.072832Z",
          "iopub.status.idle": "2021-11-11T09:38:26.075233Z",
          "shell.execute_reply.started": "2021-11-11T09:38:25.072796Z",
          "shell.execute_reply": "2021-11-11T09:38:26.07443Z"
        },
        "trusted": true,
        "colab": {
          "base_uri": "https://localhost:8080/"
        },
        "id": "gC6BTtCnNt1-",
        "outputId": "97c13e64-0581-493f-ac45-eeffa9a20498"
      },
      "source": [
        "# Huấn luyện mô hình bằng KNeighborsClassifier\n",
        "from sklearn.neighbors import KNeighborsClassifier\n",
        "\n",
        "model = KNeighborsClassifier()\n",
        "total_accuracy = cross_val_score(model, X_vectors, y, cv=10, scoring='accuracy')\n",
        "print('Accuracy:', np.mean(total_accuracy))"
      ],
      "execution_count": 156,
      "outputs": [
        {
          "output_type": "stream",
          "name": "stdout",
          "text": [
            "Accuracy: 0.6465264187866927\n"
          ]
        }
      ]
    },
    {
      "cell_type": "code",
      "metadata": {
        "execution": {
          "iopub.status.busy": "2021-11-11T09:38:26.076413Z",
          "iopub.execute_input": "2021-11-11T09:38:26.077074Z",
          "iopub.status.idle": "2021-11-11T09:38:26.118897Z",
          "shell.execute_reply.started": "2021-11-11T09:38:26.077031Z",
          "shell.execute_reply": "2021-11-11T09:38:26.118084Z"
        },
        "trusted": true,
        "colab": {
          "base_uri": "https://localhost:8080/"
        },
        "id": "bGPVKRNNNt1-",
        "outputId": "d8a26e15-791c-410e-e1e4-33b764c5658b"
      },
      "source": [
        "# Huấn luyện mô hình bằng MultinomialNB\n",
        "from sklearn.naive_bayes import MultinomialNB\n",
        "\n",
        "model = MultinomialNB()\n",
        "total_accuracy = cross_val_score(model, X_vectors, y, cv=10, scoring='accuracy')\n",
        "print('Accuracy:', np.mean(total_accuracy))"
      ],
      "execution_count": 155,
      "outputs": [
        {
          "output_type": "stream",
          "name": "stdout",
          "text": [
            "Accuracy: 0.7796699180528376\n"
          ]
        }
      ]
    },
    {
      "cell_type": "code",
      "metadata": {
        "execution": {
          "iopub.status.busy": "2021-11-11T09:38:26.12023Z",
          "iopub.execute_input": "2021-11-11T09:38:26.120494Z",
          "iopub.status.idle": "2021-11-11T09:38:47.386981Z",
          "shell.execute_reply.started": "2021-11-11T09:38:26.120459Z",
          "shell.execute_reply": "2021-11-11T09:38:47.38543Z"
        },
        "trusted": true,
        "colab": {
          "base_uri": "https://localhost:8080/"
        },
        "id": "8wBRM23jNt1-",
        "outputId": "6a0e6764-4d2e-43b3-e635-406dc25a6bb6"
      },
      "source": [
        "# Huấn luyện mô hình bằng RandomForestClassifier\n",
        "from sklearn.ensemble import RandomForestClassifier\n",
        "\n",
        "model = RandomForestClassifier()\n",
        "total_accuracy = cross_val_score(model, X_vectors, y, cv=5, scoring='accuracy')\n",
        "print('Accuracy:', np.mean(total_accuracy))"
      ],
      "execution_count": 154,
      "outputs": [
        {
          "output_type": "stream",
          "name": "stdout",
          "text": [
            "Accuracy: 0.7782991202346041\n"
          ]
        }
      ]
    },
    {
      "cell_type": "code",
      "metadata": {
        "execution": {
          "iopub.status.busy": "2021-11-11T09:38:47.388263Z",
          "iopub.execute_input": "2021-11-11T09:38:47.388628Z",
          "iopub.status.idle": "2021-11-11T09:38:56.301965Z",
          "shell.execute_reply.started": "2021-11-11T09:38:47.388587Z",
          "shell.execute_reply": "2021-11-11T09:38:56.301228Z"
        },
        "trusted": true,
        "colab": {
          "base_uri": "https://localhost:8080/"
        },
        "id": "RL1PzBDSNt1_",
        "outputId": "9da4ef3a-cf11-4e80-b68c-32b3667cb334"
      },
      "source": [
        "# Huấn luyện mô hình bằng SVM\n",
        "from sklearn.svm import SVC\n",
        "\n",
        "model = SVC()\n",
        "total_accuracy = cross_val_score(model, X_vectors, y, cv=5, scoring='accuracy')\n",
        "print('Accuracy:', np.mean(total_accuracy))"
      ],
      "execution_count": 153,
      "outputs": [
        {
          "output_type": "stream",
          "name": "stdout",
          "text": [
            "Accuracy: 0.7736070381231672\n"
          ]
        }
      ]
    },
    {
      "cell_type": "markdown",
      "metadata": {
        "id": "oLywdLGjUBfc"
      },
      "source": [
        "### Lưu model"
      ]
    },
    {
      "cell_type": "code",
      "metadata": {
        "id": "2385lFvSW9zU"
      },
      "source": [
        "# Lưu model\n",
        "# X_train, X_test, y_train, y_test = train_test_split(X, y, test_size=0.2, random_state=42)\n",
        "# cv = CountVectorizer()\n",
        "# X_train_vectos = cv.fit_transform(X_train)\n",
        "\n",
        "# NB_model = MultinomialNB()\n",
        "# NB_model.fit(X_train_vectos, y_train)\n",
        "# pred_y= NB_model.predict(cv.transform(X_test))\n",
        "\n",
        "# from sklearn.metrics import accuracy_score\n",
        "# print('Training accuracy: %.4f' % accuracy_score(y_train, NB_model.predict(X_train_vectos)))\n",
        "# print('Test accuracy: %.4f' % accuracy_score(y_test, pred_y))\n",
        "# import pickle\n",
        "\n",
        "# with open(\"/content/CountVectorizerAndMultinomialNB.pkl\", 'wb') as fout:\n",
        "#     pickle.dump((cv, NB_model), fout)"
      ],
      "execution_count": null,
      "outputs": []
    },
    {
      "cell_type": "markdown",
      "metadata": {
        "id": "If80UnkuW6vC"
      },
      "source": [
        "### Đọc model"
      ]
    },
    {
      "cell_type": "code",
      "metadata": {
        "colab": {
          "base_uri": "https://localhost:8080/"
        },
        "id": "89SZrpGfUEik",
        "outputId": "90a322de-cf90-41c7-e27a-1e5a1b61b061"
      },
      "source": [
        "# with open('/content/CountVectorizerAndMultinomialNB.pkl', 'rb') as f:\n",
        "#     cv, NB_model = pickle.load(f)\n",
        "\n",
        "# pred_y= NB_model.predict(cv.transform(X_test))\n",
        "# df = pd.DataFrame({\"y test\":y_test, \"y pred\":pred_y})\n",
        "# print(accuracy_score(y_test, pred_y))"
      ],
      "execution_count": 178,
      "outputs": [
        {
          "output_type": "stream",
          "name": "stdout",
          "text": [
            "0.7849462365591398\n"
          ]
        }
      ]
    },
    {
      "cell_type": "markdown",
      "metadata": {
        "id": "HrZIGskjNt1_"
      },
      "source": [
        "### Thử cải thiện mô hình bằng PhoBERT"
      ]
    },
    {
      "cell_type": "markdown",
      "metadata": {
        "id": "XYl2HkXaNt1_"
      },
      "source": [
        "tham khảo: https://github.com/thangnch/MiAI_Sentiment_Analysis_PhoBert/blob/main/train_model.py"
      ]
    },
    {
      "cell_type": "code",
      "metadata": {
        "execution": {
          "iopub.status.busy": "2021-11-11T09:38:56.303217Z",
          "iopub.execute_input": "2021-11-11T09:38:56.303472Z",
          "iopub.status.idle": "2021-11-11T09:39:11.887254Z",
          "shell.execute_reply.started": "2021-11-11T09:38:56.303433Z",
          "shell.execute_reply": "2021-11-11T09:39:11.8864Z"
        },
        "trusted": true,
        "id": "L5LVOfGSNt1_"
      },
      "source": [
        "!pip install underthesea"
      ],
      "execution_count": null,
      "outputs": []
    },
    {
      "cell_type": "code",
      "metadata": {
        "execution": {
          "iopub.status.busy": "2021-11-11T09:39:11.888908Z",
          "iopub.execute_input": "2021-11-11T09:39:11.889171Z",
          "iopub.status.idle": "2021-11-11T09:39:18.417184Z",
          "shell.execute_reply.started": "2021-11-11T09:39:11.889134Z",
          "shell.execute_reply": "2021-11-11T09:39:18.41647Z"
        },
        "trusted": true,
        "id": "IwhYJLjGNt1_"
      },
      "source": [
        "from transformers import AutoModel, AutoTokenizer # Thư viện BERT\n",
        "import torch\n",
        "import underthesea"
      ],
      "execution_count": null,
      "outputs": []
    },
    {
      "cell_type": "code",
      "metadata": {
        "execution": {
          "iopub.status.busy": "2021-11-11T09:39:18.420581Z",
          "iopub.execute_input": "2021-11-11T09:39:18.420794Z",
          "iopub.status.idle": "2021-11-11T09:39:18.427542Z",
          "shell.execute_reply.started": "2021-11-11T09:39:18.420766Z",
          "shell.execute_reply": "2021-11-11T09:39:18.426818Z"
        },
        "trusted": true,
        "id": "Kdl_2TibNt1_"
      },
      "source": [
        "# Hàm load model BERT\n",
        "def load_bert():\n",
        "    v_phobert = AutoModel.from_pretrained(\"vinai/phobert-base\")\n",
        "    v_tokenizer = AutoTokenizer.from_pretrained(\"vinai/phobert-base\", use_fast=False)\n",
        "    return v_phobert, v_tokenizer"
      ],
      "execution_count": null,
      "outputs": []
    },
    {
      "cell_type": "code",
      "metadata": {
        "execution": {
          "iopub.status.busy": "2021-11-11T09:39:18.430692Z",
          "iopub.execute_input": "2021-11-11T09:39:18.430927Z",
          "iopub.status.idle": "2021-11-11T09:39:18.439843Z",
          "shell.execute_reply.started": "2021-11-11T09:39:18.430879Z",
          "shell.execute_reply": "2021-11-11T09:39:18.439069Z"
        },
        "trusted": true,
        "id": "_VpqneG8Nt1_"
      },
      "source": [
        "# Hàm tạo ra bert features\n",
        "def make_bert_features(v_text):\n",
        "    global phobert\n",
        "    v_tokenized = []\n",
        "    max_len = 100 # Mỗi câu dài tối đa 100 từ\n",
        "    for i_text in v_text:\n",
        "        print(\"Đang xử lý line = \", i_text)\n",
        "        # Phân thành từng từ\n",
        "        line = underthesea.word_tokenize(i_text)\n",
        "        # Ghép lại thành câu như cũ sau khi lọc\n",
        "        line = \" \".join(line)\n",
        "        line = underthesea.word_tokenize(line, format=\"text\")\n",
        "        print(\"Word segment  = \", line)\n",
        "        # Tokenize bởi BERT\n",
        "        line = tokenizer.encode(line)\n",
        "        v_tokenized.append(line)\n",
        "\n",
        "    # Chèn thêm số 1 vào cuối câu nếu như không đủ 100 từ\n",
        "    padded = np.array([i + [1] * (max_len - len(i)) for i in v_tokenized])\n",
        "#     print('padded:', padded[0])\n",
        "#     print('len padded:', padded.shape)\n",
        "\n",
        "    # Đánh dấu các từ thêm vào = 0 để không tính vào quá trình lấy features\n",
        "    attention_mask = np.where(padded == 1, 0, 1)\n",
        "#     print('attention mask:', attention_mask[0])\n",
        "\n",
        "    # Chuyển thành tensor\n",
        "    padded = torch.tensor(padded).to(torch.long)\n",
        "#     print(\"Padd = \",padded.size())\n",
        "    attention_mask = torch.tensor(attention_mask)\n",
        "\n",
        "    # Lấy features dầu ra từ BERT\n",
        "    with torch.no_grad():\n",
        "        last_hidden_states = phobert(input_ids= padded, attention_mask=attention_mask)\n",
        "\n",
        "    v_features = last_hidden_states[0][:, 0, :].numpy()\n",
        "    print(v_features.shape)\n",
        "    return v_features"
      ],
      "execution_count": null,
      "outputs": []
    },
    {
      "cell_type": "code",
      "metadata": {
        "execution": {
          "iopub.status.busy": "2021-11-11T09:39:18.441117Z",
          "iopub.execute_input": "2021-11-11T09:39:18.442068Z",
          "iopub.status.idle": "2021-11-11T09:39:46.694948Z",
          "shell.execute_reply.started": "2021-11-11T09:39:18.44203Z",
          "shell.execute_reply": "2021-11-11T09:39:46.694124Z"
        },
        "trusted": true,
        "id": "-fGhYNGuNt2A"
      },
      "source": [
        "print(\"Chuẩn bị nạp model BERT....\")\n",
        "phobert, tokenizer = load_bert()\n",
        "print(\"Đã nạp xong model BERT.\")"
      ],
      "execution_count": null,
      "outputs": []
    },
    {
      "cell_type": "code",
      "metadata": {
        "trusted": true,
        "id": "r9mnWc5XNt2A"
      },
      "source": [
        "print(\"Chuẩn bị tạo features từ BERT.....\")\n",
        "global phobert\n",
        "v_tokenized = []\n",
        "max_len = 80 # Mỗi câu dài tối đa 90 từ\n",
        "for i_text in X:\n",
        "#     print(\"Đang xử lý line = \", i_text)\n",
        "    # Phân thành từng từ\n",
        "    line = underthesea.word_tokenize(i_text)\n",
        "    # Ghép lại thành câu như cũ sau khi lọc\n",
        "    line = \" \".join(line)\n",
        "    line = underthesea.word_tokenize(line, format=\"text\")\n",
        "#     print(\"Word segment  = \", line)\n",
        "    # Tokenize bởi BERT\n",
        "    line = tokenizer.encode(line)\n",
        "    v_tokenized.append(line)\n",
        "\n",
        "# Chèn thêm số 1 vào cuối câu nếu như không đủ 100 từ\n",
        "padded = np.array([np.array(i[:max_len-len(i)]) if len(i) > max_len else np.array(i + [1] * (max_len - len(i))) for i in v_tokenized])\n",
        "print('padded:', padded[0])\n",
        "print('len padded:', padded.shape)\n"
      ],
      "execution_count": null,
      "outputs": []
    },
    {
      "cell_type": "code",
      "metadata": {
        "trusted": true,
        "id": "wGglyQ5WNt2A"
      },
      "source": [
        "# Đánh dấu các từ thêm vào = 0 để không tính vào quá trình lấy features\n",
        "attention_mask = np.where(padded == 1, 0, 1)\n",
        "print('attention mask:', attention_mask[0])"
      ],
      "execution_count": null,
      "outputs": []
    },
    {
      "cell_type": "code",
      "metadata": {
        "trusted": true,
        "id": "8F683D5KNt2A"
      },
      "source": [
        "# Đánh dấu các từ thêm vào = 0 để không tính vào quá trình lấy features\n",
        "attention_mask = np.where(padded == 1, 0, 1)\n",
        "print('attention mask:', attention_mask[0].shape)"
      ],
      "execution_count": null,
      "outputs": []
    },
    {
      "cell_type": "code",
      "metadata": {
        "execution": {
          "iopub.status.busy": "2021-11-11T09:40:01.541434Z",
          "iopub.execute_input": "2021-11-11T09:40:01.541617Z",
          "iopub.status.idle": "2021-11-11T09:40:01.550853Z",
          "shell.execute_reply.started": "2021-11-11T09:40:01.541595Z",
          "shell.execute_reply": "2021-11-11T09:40:01.549899Z"
        },
        "trusted": true,
        "id": "-_pra7itNt2A"
      },
      "source": [
        "# Chuyển thành tensor\n",
        "padded = torch.tensor(padded).to(torch.long)\n",
        "print(\"Padd = \",padded.size())\n",
        "attention_mask = torch.tensor(attention_mask)"
      ],
      "execution_count": null,
      "outputs": []
    },
    {
      "cell_type": "code",
      "metadata": {
        "execution": {
          "iopub.status.busy": "2021-11-11T09:40:01.551946Z",
          "iopub.execute_input": "2021-11-11T09:40:01.553333Z"
        },
        "trusted": true,
        "id": "ahFtLxsJNt2A"
      },
      "source": [
        "# Lấy features dầu ra từ BERT\n",
        "with torch.no_grad():\n",
        "    last_hidden_states = phobert(input_ids= padded, attention_mask=attention_mask)\n",
        "\n",
        "v_features = last_hidden_states[0][:, 0, :].numpy()\n",
        "print(v_features.shape)\n",
        "print(\"Đã tạo xong features từ BERT\")"
      ],
      "execution_count": null,
      "outputs": []
    }
  ]
}