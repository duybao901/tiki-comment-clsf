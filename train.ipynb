{
  "cells": [
    {
      "cell_type": "markdown",
      "metadata": {
        "id": "hx-6CooUNt1p"
      },
      "source": [
        "## 1. Import libraries"
      ]
    },
    {
      "cell_type": "code",
      "execution_count": 21,
      "metadata": {
        "colab": {
          "base_uri": "https://localhost:8080/"
        },
        "execution": {
          "iopub.execute_input": "2021-11-11T09:37:41.449095Z",
          "iopub.status.busy": "2021-11-11T09:37:41.448709Z",
          "iopub.status.idle": "2021-11-11T09:37:53.721696Z",
          "shell.execute_reply": "2021-11-11T09:37:53.720766Z",
          "shell.execute_reply.started": "2021-11-11T09:37:41.448996Z"
        },
        "id": "oXJtRvviNt1u",
        "outputId": "4d1fcb46-ce73-4873-9dbe-bba286150fc5",
        "trusted": true
      },
      "outputs": [
        {
          "name": "stdout",
          "output_type": "stream",
          "text": [
            "Requirement already satisfied: pyvi in c:\\users\\asus\\appdata\\local\\programs\\python\\python38-32\\lib\\site-packages (0.1.1)\n",
            "Requirement already satisfied: scikit-learn in c:\\users\\asus\\appdata\\local\\programs\\python\\python38-32\\lib\\site-packages (from pyvi) (0.24.2)\n",
            "Requirement already satisfied: sklearn-crfsuite in c:\\users\\asus\\appdata\\local\\programs\\python\\python38-32\\lib\\site-packages (from pyvi) (0.3.6)\n",
            "Requirement already satisfied: threadpoolctl>=2.0.0 in c:\\users\\asus\\appdata\\local\\programs\\python\\python38-32\\lib\\site-packages (from scikit-learn->pyvi) (2.2.0)\n",
            "Requirement already satisfied: numpy>=1.13.3 in c:\\users\\asus\\appdata\\local\\programs\\python\\python38-32\\lib\\site-packages (from scikit-learn->pyvi) (1.21.2)\n",
            "Requirement already satisfied: joblib>=0.11 in c:\\users\\asus\\appdata\\local\\programs\\python\\python38-32\\lib\\site-packages (from scikit-learn->pyvi) (1.0.1)\n",
            "Requirement already satisfied: scipy>=0.19.1 in c:\\users\\asus\\appdata\\local\\programs\\python\\python38-32\\lib\\site-packages (from scikit-learn->pyvi) (1.7.1)\n",
            "Requirement already satisfied: python-crfsuite>=0.8.3 in c:\\users\\asus\\appdata\\local\\programs\\python\\python38-32\\lib\\site-packages (from sklearn-crfsuite->pyvi) (0.9.7)\n",
            "Requirement already satisfied: tqdm>=2.0 in c:\\users\\asus\\appdata\\local\\programs\\python\\python38-32\\lib\\site-packages (from sklearn-crfsuite->pyvi) (4.62.2)\n",
            "Requirement already satisfied: tabulate in c:\\users\\asus\\appdata\\local\\programs\\python\\python38-32\\lib\\site-packages (from sklearn-crfsuite->pyvi) (0.8.9)\n",
            "Requirement already satisfied: six in c:\\users\\asus\\appdata\\local\\programs\\python\\python38-32\\lib\\site-packages (from sklearn-crfsuite->pyvi) (1.16.0)\n",
            "Requirement already satisfied: colorama in c:\\users\\asus\\appdata\\local\\programs\\python\\python38-32\\lib\\site-packages (from tqdm>=2.0->sklearn-crfsuite->pyvi) (0.4.4)\n"
          ]
        }
      ],
      "source": [
        "!pip install pyvi"
      ]
    },
    {
      "cell_type": "code",
      "execution_count": 1,
      "metadata": {
        "execution": {
          "iopub.execute_input": "2021-11-11T09:37:53.724239Z",
          "iopub.status.busy": "2021-11-11T09:37:53.723939Z",
          "iopub.status.idle": "2021-11-11T09:37:54.548482Z",
          "shell.execute_reply": "2021-11-11T09:37:54.547743Z",
          "shell.execute_reply.started": "2021-11-11T09:37:53.724181Z"
        },
        "id": "47TWhS5fNt1v",
        "trusted": true
      },
      "outputs": [],
      "source": [
        "import pandas as pd\n",
        "import numpy as np\n",
        "import matplotlib.pyplot as plt\n",
        "import seaborn as sns\n",
        "import re\n",
        "from pyvi import ViTokenizer"
      ]
    },
    {
      "cell_type": "markdown",
      "metadata": {
        "id": "JI51zD5iNt1w"
      },
      "source": [
        "## 2. Read data"
      ]
    },
    {
      "cell_type": "code",
      "execution_count": 2,
      "metadata": {
        "colab": {
          "base_uri": "https://localhost:8080/",
          "height": 0
        },
        "execution": {
          "iopub.execute_input": "2021-11-11T09:37:54.551614Z",
          "iopub.status.busy": "2021-11-11T09:37:54.551174Z",
          "iopub.status.idle": "2021-11-11T09:37:54.809999Z",
          "shell.execute_reply": "2021-11-11T09:37:54.809348Z",
          "shell.execute_reply.started": "2021-11-11T09:37:54.551571Z"
        },
        "id": "GsmxSuQINt1w",
        "outputId": "987dc2e5-87a9-448f-c4fe-2aeb364efe48",
        "trusted": true
      },
      "outputs": [
        {
          "data": {
            "text/html": [
              "<div>\n",
              "<style scoped>\n",
              "    .dataframe tbody tr th:only-of-type {\n",
              "        vertical-align: middle;\n",
              "    }\n",
              "\n",
              "    .dataframe tbody tr th {\n",
              "        vertical-align: top;\n",
              "    }\n",
              "\n",
              "    .dataframe thead th {\n",
              "        text-align: right;\n",
              "    }\n",
              "</style>\n",
              "<table border=\"1\" class=\"dataframe\">\n",
              "  <thead>\n",
              "    <tr style=\"text-align: right;\">\n",
              "      <th></th>\n",
              "      <th>content</th>\n",
              "      <th>rating</th>\n",
              "    </tr>\n",
              "  </thead>\n",
              "  <tbody>\n",
              "    <tr>\n",
              "      <th>0</th>\n",
              "      <td>Giao hàng cực nhanh, sáng hôm nay đặt,sáng mai...</td>\n",
              "      <td>5</td>\n",
              "    </tr>\n",
              "    <tr>\n",
              "      <th>1</th>\n",
              "      <td>Đóng gói cẩn thận, điện thoại còn nguyên seal,...</td>\n",
              "      <td>5</td>\n",
              "    </tr>\n",
              "    <tr>\n",
              "      <th>2</th>\n",
              "      <td>Mình cho 1 sao vì thái độ dịch vụ Khách hàng t...</td>\n",
              "      <td>1</td>\n",
              "    </tr>\n",
              "    <tr>\n",
              "      <th>3</th>\n",
              "      <td>Sản phẩm tầm giá nhìn cũng đx , mình mua cho p...</td>\n",
              "      <td>3</td>\n",
              "    </tr>\n",
              "    <tr>\n",
              "      <th>4</th>\n",
              "      <td>Màu xanh ở ngoài nhìn đẹp sang, thích hơ...</td>\n",
              "      <td>5</td>\n",
              "    </tr>\n",
              "  </tbody>\n",
              "</table>\n",
              "</div>"
            ],
            "text/plain": [
              "                                             content  rating\n",
              "0  Giao hàng cực nhanh, sáng hôm nay đặt,sáng mai...       5\n",
              "1  Đóng gói cẩn thận, điện thoại còn nguyên seal,...       5\n",
              "2  Mình cho 1 sao vì thái độ dịch vụ Khách hàng t...       1\n",
              "3  Sản phẩm tầm giá nhìn cũng đx , mình mua cho p...       3\n",
              "4  Màu xanh ở ngoài nhìn đẹp sang, thích hơ...       5"
            ]
          },
          "execution_count": 2,
          "metadata": {},
          "output_type": "execute_result"
        }
      ],
      "source": [
        "# Đọc dữ liệu từ file json\n",
        "data = pd.read_json(\"data\\data_coment_tiki.json\")\n",
        "data.head()"
      ]
    },
    {
      "cell_type": "code",
      "execution_count": 3,
      "metadata": {
        "colab": {
          "base_uri": "https://localhost:8080/",
          "height": 0
        },
        "execution": {
          "iopub.execute_input": "2021-11-11T09:37:54.812269Z",
          "iopub.status.busy": "2021-11-11T09:37:54.812004Z",
          "iopub.status.idle": "2021-11-11T09:37:54.823761Z",
          "shell.execute_reply": "2021-11-11T09:37:54.823025Z",
          "shell.execute_reply.started": "2021-11-11T09:37:54.812233Z"
        },
        "id": "75Qg8YVaNt1x",
        "outputId": "1a6be833-7055-4acf-f6b6-3cdbaf8651e4",
        "trusted": true
      },
      "outputs": [
        {
          "data": {
            "text/html": [
              "<div>\n",
              "<style scoped>\n",
              "    .dataframe tbody tr th:only-of-type {\n",
              "        vertical-align: middle;\n",
              "    }\n",
              "\n",
              "    .dataframe tbody tr th {\n",
              "        vertical-align: top;\n",
              "    }\n",
              "\n",
              "    .dataframe thead th {\n",
              "        text-align: right;\n",
              "    }\n",
              "</style>\n",
              "<table border=\"1\" class=\"dataframe\">\n",
              "  <thead>\n",
              "    <tr style=\"text-align: right;\">\n",
              "      <th></th>\n",
              "      <th>text</th>\n",
              "      <th>star</th>\n",
              "    </tr>\n",
              "  </thead>\n",
              "  <tbody>\n",
              "    <tr>\n",
              "      <th>0</th>\n",
              "      <td>Giao hàng cực nhanh, sáng hôm nay đặt,sáng mai...</td>\n",
              "      <td>5</td>\n",
              "    </tr>\n",
              "    <tr>\n",
              "      <th>1</th>\n",
              "      <td>Đóng gói cẩn thận, điện thoại còn nguyên seal,...</td>\n",
              "      <td>5</td>\n",
              "    </tr>\n",
              "    <tr>\n",
              "      <th>2</th>\n",
              "      <td>Mình cho 1 sao vì thái độ dịch vụ Khách hàng t...</td>\n",
              "      <td>1</td>\n",
              "    </tr>\n",
              "    <tr>\n",
              "      <th>3</th>\n",
              "      <td>Sản phẩm tầm giá nhìn cũng đx , mình mua cho p...</td>\n",
              "      <td>3</td>\n",
              "    </tr>\n",
              "    <tr>\n",
              "      <th>4</th>\n",
              "      <td>Màu xanh ở ngoài nhìn đẹp sang, thích hơ...</td>\n",
              "      <td>5</td>\n",
              "    </tr>\n",
              "  </tbody>\n",
              "</table>\n",
              "</div>"
            ],
            "text/plain": [
              "                                                text  star\n",
              "0  Giao hàng cực nhanh, sáng hôm nay đặt,sáng mai...     5\n",
              "1  Đóng gói cẩn thận, điện thoại còn nguyên seal,...     5\n",
              "2  Mình cho 1 sao vì thái độ dịch vụ Khách hàng t...     1\n",
              "3  Sản phẩm tầm giá nhìn cũng đx , mình mua cho p...     3\n",
              "4  Màu xanh ở ngoài nhìn đẹp sang, thích hơ...     5"
            ]
          },
          "execution_count": 3,
          "metadata": {},
          "output_type": "execute_result"
        }
      ],
      "source": [
        "# Đổi nhãn\n",
        "data.rename(columns={\"content\":\"text\",\"rating\":\"star\"}, inplace=True)\n",
        "data.head()"
      ]
    },
    {
      "cell_type": "code",
      "execution_count": 4,
      "metadata": {
        "colab": {
          "base_uri": "https://localhost:8080/"
        },
        "execution": {
          "iopub.execute_input": "2021-11-11T09:37:54.825738Z",
          "iopub.status.busy": "2021-11-11T09:37:54.825267Z",
          "iopub.status.idle": "2021-11-11T09:37:54.84536Z",
          "shell.execute_reply": "2021-11-11T09:37:54.844624Z",
          "shell.execute_reply.started": "2021-11-11T09:37:54.8257Z"
        },
        "id": "NtErbI2-Nt1x",
        "outputId": "729b9943-9df8-4c5b-bb29-c7593db9dd7d",
        "trusted": true
      },
      "outputs": [
        {
          "name": "stdout",
          "output_type": "stream",
          "text": [
            "<class 'pandas.core.frame.DataFrame'>\n",
            "RangeIndex: 16115 entries, 0 to 16114\n",
            "Data columns (total 2 columns):\n",
            " #   Column  Non-Null Count  Dtype \n",
            "---  ------  --------------  ----- \n",
            " 0   text    16115 non-null  object\n",
            " 1   star    16115 non-null  int64 \n",
            "dtypes: int64(1), object(1)\n",
            "memory usage: 188.9+ KB\n"
          ]
        }
      ],
      "source": [
        "data.info()"
      ]
    },
    {
      "cell_type": "markdown",
      "metadata": {},
      "source": [
        "=> Dữ liệu có 16115 phần tử và không có phần tử nào rỗng"
      ]
    },
    {
      "cell_type": "markdown",
      "metadata": {},
      "source": [
        "## 3. Exploratory Data Analysis (EDA)"
      ]
    },
    {
      "cell_type": "markdown",
      "metadata": {},
      "source": [
        "### Class distribution (Sự phân bố các lớp)"
      ]
    },
    {
      "cell_type": "code",
      "execution_count": 5,
      "metadata": {},
      "outputs": [
        {
          "data": {
            "image/png": "[encoded data removed]",
            "text/plain": [
              "<Figure size 432x288 with 1 Axes>"
            ]
          },
          "metadata": {
            "needs_background": "light"
          },
          "output_type": "display_data"
        }
      ],
      "source": [
        "sns.histplot(data=data['star']);"
      ]
    },
    {
      "cell_type": "markdown",
      "metadata": {
        "id": "UQSe0QPzNt1y"
      },
      "source": [
        "### Do dữ liệu bị mất cân bằng nên ta xóa ngẫu nhiên 10000 mẫu 5 sao, và 1000 mẫu 4 sao"
      ]
    },
    {
      "cell_type": "code",
      "execution_count": 6,
      "metadata": {
        "execution": {
          "iopub.execute_input": "2021-11-11T09:37:54.847239Z",
          "iopub.status.busy": "2021-11-11T09:37:54.846865Z",
          "iopub.status.idle": "2021-11-11T09:37:54.856697Z",
          "shell.execute_reply": "2021-11-11T09:37:54.855888Z",
          "shell.execute_reply.started": "2021-11-11T09:37:54.847203Z"
        },
        "id": "eA7J5m-qNt1y",
        "trusted": true
      },
      "outputs": [],
      "source": [
        "np.random.seed(10)\n",
        "remove_n = 10000\n",
        "drop_indices = np.random.choice(data[data['star'] == 5].index, remove_n, replace=False)\n",
        "data = data.drop(drop_indices)"
      ]
    },
    {
      "cell_type": "code",
      "execution_count": 7,
      "metadata": {
        "execution": {
          "iopub.execute_input": "2021-11-11T09:37:54.858755Z",
          "iopub.status.busy": "2021-11-11T09:37:54.858304Z",
          "iopub.status.idle": "2021-11-11T09:37:54.865953Z",
          "shell.execute_reply": "2021-11-11T09:37:54.865169Z",
          "shell.execute_reply.started": "2021-11-11T09:37:54.858719Z"
        },
        "id": "s4aXPeLANt1z",
        "trusted": true
      },
      "outputs": [],
      "source": [
        "np.random.seed(10)\n",
        "remove_n = 1000\n",
        "drop_indices = np.random.choice(data[data['star'] == 4].index, remove_n, replace=False)\n",
        "data = data.drop(drop_indices)"
      ]
    },
    {
      "cell_type": "code",
      "execution_count": 8,
      "metadata": {
        "colab": {
          "base_uri": "https://localhost:8080/"
        },
        "execution": {
          "iopub.execute_input": "2021-11-11T09:37:54.869681Z",
          "iopub.status.busy": "2021-11-11T09:37:54.869504Z",
          "iopub.status.idle": "2021-11-11T09:37:54.875179Z",
          "shell.execute_reply": "2021-11-11T09:37:54.874263Z",
          "shell.execute_reply.started": "2021-11-11T09:37:54.869659Z"
        },
        "id": "CTqdWe0aNt1z",
        "outputId": "bc5fc422-1c5e-46da-dbf7-d84a7d30280c",
        "trusted": true
      },
      "outputs": [
        {
          "data": {
            "text/plain": [
              "5115"
            ]
          },
          "execution_count": 8,
          "metadata": {},
          "output_type": "execute_result"
        }
      ],
      "source": [
        "len(data)"
      ]
    },
    {
      "cell_type": "markdown",
      "metadata": {},
      "source": [
        "### Sự phân bố các lớp sau khi cân bằng dữ liệu"
      ]
    },
    {
      "cell_type": "code",
      "execution_count": 9,
      "metadata": {
        "colab": {
          "base_uri": "https://localhost:8080/",
          "height": 0
        },
        "execution": {
          "iopub.execute_input": "2021-11-11T09:37:54.890244Z",
          "iopub.status.busy": "2021-11-11T09:37:54.890044Z",
          "iopub.status.idle": "2021-11-11T09:37:55.262798Z",
          "shell.execute_reply": "2021-11-11T09:37:55.26209Z",
          "shell.execute_reply.started": "2021-11-11T09:37:54.890221Z"
        },
        "id": "F_OJNUhfNt11",
        "outputId": "1eff32f1-2176-4162-a7ca-ff1986e0e28d",
        "trusted": true
      },
      "outputs": [
        {
          "data": {
            "image/png": "[encoded data removed]",
            "text/plain": [
              "<Figure size 432x288 with 1 Axes>"
            ]
          },
          "metadata": {
            "needs_background": "light"
          },
          "output_type": "display_data"
        }
      ],
      "source": [
        "sns.histplot(data=data['star']);"
      ]
    },
    {
      "cell_type": "markdown",
      "metadata": {
        "id": "N5fkM6BMNt12"
      },
      "source": [
        "## 4. Data cleaning"
      ]
    },
    {
      "cell_type": "markdown",
      "metadata": {
        "id": "t1OMQ4jCNt12"
      },
      "source": [
        "### Acronym words"
      ]
    },
    {
      "cell_type": "code",
      "execution_count": 10,
      "metadata": {
        "colab": {
          "base_uri": "https://localhost:8080/"
        },
        "execution": {
          "iopub.execute_input": "2021-11-11T09:37:56.6768Z",
          "iopub.status.busy": "2021-11-11T09:37:56.676595Z",
          "iopub.status.idle": "2021-11-11T09:37:56.694684Z",
          "shell.execute_reply": "2021-11-11T09:37:56.694016Z",
          "shell.execute_reply.started": "2021-11-11T09:37:56.676773Z"
        },
        "id": "ftt1HdatNt12",
        "outputId": "cf0bdd85-40ef-43bd-b518-c8d61dfc1026",
        "trusted": true
      },
      "outputs": [
        {
          "data": {
            "text/plain": [
              "[{'ship': 'vận chuyển'},\n",
              " {'shop': 'cửa hàng'},\n",
              " {'m': 'mình'},\n",
              " {'mik': 'mình'},\n",
              " {'ko': 'không'}]"
            ]
          },
          "execution_count": 10,
          "metadata": {},
          "output_type": "execute_result"
        }
      ],
      "source": [
        "acronym_words = []\n",
        "acronym_words_dict = []\n",
        "acronym_words = open('data/acronym_word.txt','r', encoding='utf-8')\n",
        "acronym_words = acronym_words.readlines()\n",
        "for i in range(len(acronym_words)):\n",
        "  acronym_words_split = acronym_words[i].split(\"\\t\")\n",
        "  for j in range(len(acronym_words_split)):\n",
        "    acronym_words_split[j] = re.sub(\"[\\n\\ufeff]\",'',acronym_words_split[j])\n",
        "  try:\n",
        "    acronym_words_dict.append({acronym_words_split[0]:acronym_words_split[1]})\n",
        "  except: \n",
        "    pass\n",
        "\n",
        "acronym_words_dict[:5]\n"
      ]
    },
    {
      "cell_type": "markdown",
      "metadata": {
        "id": "Qs8RRpWgNt12"
      },
      "source": [
        "### Stop words"
      ]
    },
    {
      "cell_type": "code",
      "execution_count": 11,
      "metadata": {
        "colab": {
          "base_uri": "https://localhost:8080/"
        },
        "execution": {
          "iopub.execute_input": "2021-11-11T09:37:56.696369Z",
          "iopub.status.busy": "2021-11-11T09:37:56.695932Z",
          "iopub.status.idle": "2021-11-11T09:37:56.717342Z",
          "shell.execute_reply": "2021-11-11T09:37:56.716621Z",
          "shell.execute_reply.started": "2021-11-11T09:37:56.696325Z"
        },
        "id": "e3nEkIZrNt13",
        "outputId": "d7d4edb7-3d5e-4552-8476-ebf1c13c773e",
        "trusted": true
      },
      "outputs": [
        {
          "data": {
            "text/plain": [
              "['a lô', 'a ha', 'ai', 'ai ai', 'ai nấy']"
            ]
          },
          "execution_count": 11,
          "metadata": {},
          "output_type": "execute_result"
        }
      ],
      "source": [
        "stop_words = []\n",
        "stop_words = open('data/stop_word.txt','r', encoding='utf-8')\n",
        "stop_words = stop_words.readlines()\n",
        "for i in range(len(stop_words)):\n",
        "  stop_words[i] = re.sub(\"[\\t\\n\\ufeff]\",'',stop_words[i])\n",
        "\n",
        "stop_words[:5]"
      ]
    },
    {
      "cell_type": "code",
      "execution_count": 12,
      "metadata": {
        "execution": {
          "iopub.execute_input": "2021-11-11T09:37:56.71888Z",
          "iopub.status.busy": "2021-11-11T09:37:56.718501Z",
          "iopub.status.idle": "2021-11-11T09:37:56.723372Z",
          "shell.execute_reply": "2021-11-11T09:37:56.722693Z",
          "shell.execute_reply.started": "2021-11-11T09:37:56.718844Z"
        },
        "id": "dvdj34SiNt13",
        "trusted": true
      },
      "outputs": [],
      "source": [
        "\"\"\"**Tách từ**\n",
        "\n",
        "\"\"\"\n",
        "\n",
        "# Tách từ\n",
        "def sementation(text):\n",
        "  return ViTokenizer.tokenize(text)"
      ]
    },
    {
      "cell_type": "code",
      "execution_count": 14,
      "metadata": {
        "execution": {
          "iopub.execute_input": "2021-11-11T09:37:56.725317Z",
          "iopub.status.busy": "2021-11-11T09:37:56.724881Z",
          "iopub.status.idle": "2021-11-11T09:37:56.733751Z",
          "shell.execute_reply": "2021-11-11T09:37:56.73296Z",
          "shell.execute_reply.started": "2021-11-11T09:37:56.725282Z"
        },
        "id": "1PmWkM9-Nt13",
        "trusted": true
      },
      "outputs": [],
      "source": [
        "\"\"\"**Chuẩn hóa**\"\"\"\n",
        "\n",
        "# Chuẩn hóa unicode sang chuẩn unicode dựng sẵn\n",
        "def loaddicchar():\n",
        "    dic = {}\n",
        "    char1252 = 'à|á|ả|ã|ạ|ầ|ấ|ẩ|ẫ|ậ|ằ|ắ|ẳ|ẵ|ặ|è|é|ẻ|ẽ|ẹ|ề|ế|ể|ễ|ệ|ì|í|ỉ|ĩ|ị|ò|ó|ỏ|õ|ọ|ồ|ố|ổ|ỗ|ộ|ờ|ớ|ở|ỡ|ợ|ù|ú|ủ|ũ|ụ|ừ|ứ|ử|ữ|ự|ỳ|ý|ỷ|ỹ|ỵ|À|Á|Ả|Ã|Ạ|Ầ|Ấ|Ẩ|Ẫ|Ậ|Ằ|Ắ|Ẳ|Ẵ|Ặ|È|É|Ẻ|Ẽ|Ẹ|Ề|Ế|Ể|Ễ|Ệ|Ì|Í|Ỉ|Ĩ|Ị|Ò|Ó|Ỏ|Õ|Ọ|Ồ|Ố|Ổ|Ỗ|Ộ|Ờ|Ớ|Ở|Ỡ|Ợ|Ù|Ú|Ủ|Ũ|Ụ|Ừ|Ứ|Ử|Ữ|Ự|Ỳ|Ý|Ỷ|Ỹ|Ỵ'.split(\n",
        "        '|')\n",
        "    charutf8 = \"à|á|ả|ã|ạ|ầ|ấ|ẩ|ẫ|ậ|ằ|ắ|ẳ|ẵ|ặ|è|é|ẻ|ẽ|ẹ|ề|ế|ể|ễ|ệ|ì|í|ỉ|ĩ|ị|ò|ó|ỏ|õ|ọ|ồ|ố|ổ|ỗ|ộ|ờ|ớ|ở|ỡ|ợ|ù|ú|ủ|ũ|ụ|ừ|ứ|ử|ữ|ự|ỳ|ý|ỷ|ỹ|ỵ|À|Á|Ả|Ã|Ạ|Ầ|Ấ|Ẩ|Ẫ|Ậ|Ằ|Ắ|Ẳ|Ẵ|Ặ|È|É|Ẻ|Ẽ|Ẹ|Ề|Ế|Ể|Ễ|Ệ|Ì|Í|Ỉ|Ĩ|Ị|Ò|Ó|Ỏ|Õ|Ọ|Ồ|Ố|Ổ|Ỗ|Ộ|Ờ|Ớ|Ở|Ỡ|Ợ|Ù|Ú|Ủ|Ũ|Ụ|Ừ|Ứ|Ử|Ữ|Ự|Ỳ|Ý|Ỷ|Ỹ|Ỵ\".split(\n",
        "        '|')\n",
        "    for i in range(len(char1252)):\n",
        "        dic[char1252[i]] = charutf8[i]\n",
        "    return dic\n",
        "\n",
        "dicchar = loaddicchar()\n",
        "def covert_unicode(txt):\n",
        "    return re.sub(\n",
        "        r'à|á|ả|ã|ạ|ầ|ấ|ẩ|ẫ|ậ|ằ|ắ|ẳ|ẵ|ặ|è|é|ẻ|ẽ|ẹ|ề|ế|ể|ễ|ệ|ì|í|ỉ|ĩ|ị|ò|ó|ỏ|õ|ọ|ồ|ố|ổ|ỗ|ộ|ờ|ớ|ở|ỡ|ợ|ù|ú|ủ|ũ|ụ|ừ|ứ|ử|ữ|ự|ỳ|ý|ỷ|ỹ|ỵ|À|Á|Ả|Ã|Ạ|Ầ|Ấ|Ẩ|Ẫ|Ậ|Ằ|Ắ|Ẳ|Ẵ|Ặ|È|É|Ẻ|Ẽ|Ẹ|Ề|Ế|Ể|Ễ|Ệ|Ì|Í|Ỉ|Ĩ|Ị|Ò|Ó|Ỏ|Õ|Ọ|Ồ|Ố|Ổ|Ỗ|Ộ|Ờ|Ớ|Ở|Ỡ|Ợ|Ù|Ú|Ủ|Ũ|Ụ|Ừ|Ứ|Ử|Ữ|Ự|Ỳ|Ý|Ỷ|Ỹ|Ỵ',\n",
        "        lambda x: dicchar[x.group()], txt)"
      ]
    },
    {
      "cell_type": "code",
      "execution_count": 15,
      "metadata": {
        "execution": {
          "iopub.execute_input": "2021-11-11T09:37:56.738061Z",
          "iopub.status.busy": "2021-11-11T09:37:56.735768Z",
          "iopub.status.idle": "2021-11-11T09:37:56.744973Z",
          "shell.execute_reply": "2021-11-11T09:37:56.744245Z",
          "shell.execute_reply.started": "2021-11-11T09:37:56.738014Z"
        },
        "id": "QCXsad3rNt14",
        "trusted": true
      },
      "outputs": [],
      "source": [
        "# Hàm chuẩn hoá câu\n",
        "def standardize_data(row):\n",
        "    # Xóa dấu chấm, phẩy, hỏi ở cuối câu\n",
        "    row = re.sub(r\"[\\.,\\?]+$-\", \"\", row)\n",
        "    # Xóa tất cả dấu chấm, phẩy, chấm phẩy, chấm thang, ... trong câu\n",
        "    row = row.replace(\",\", \" \").replace(\".\", \" \") \\\n",
        "        .replace(\";\", \" \").replace(\"“\", \" \") \\\n",
        "        .replace(\":\", \" \").replace(\"”\", \" \") \\\n",
        "        .replace('\"', \" \").replace(\"'\", \" \") \\\n",
        "        .replace(\"!\", \" \").replace(\"?\", \" \") \\\n",
        "        .replace(\"-\", \" \").replace(\"?\", \" \")\n",
        "    row = row.strip().lower()\n",
        "    return row"
      ]
    },
    {
      "cell_type": "code",
      "execution_count": 16,
      "metadata": {
        "execution": {
          "iopub.execute_input": "2021-11-11T09:37:56.746849Z",
          "iopub.status.busy": "2021-11-11T09:37:56.746178Z",
          "iopub.status.idle": "2021-11-11T09:37:56.756119Z",
          "shell.execute_reply": "2021-11-11T09:37:56.755423Z",
          "shell.execute_reply.started": "2021-11-11T09:37:56.746799Z"
        },
        "id": "ab7v1R0FNt14",
        "trusted": true
      },
      "outputs": [],
      "source": [
        "# Xử dụng bộ từ điển để thay thế các kiểu gõ dấu và viết tắt\n",
        "def replace_acronyms(text):\n",
        "  text_list = text.split(\" \");\n",
        "  for i in range(len(text_list)):\n",
        "    for j in range(len(acronym_words_dict)):\n",
        "      key = list(acronym_words_dict[j].keys())[0]\n",
        "      value = list(acronym_words_dict[j].values())[0]\n",
        "      if text_list[i] == key:\n",
        "        text_list[i] = value\n",
        "  return \" \".join(text_list)\n"
      ]
    },
    {
      "cell_type": "code",
      "execution_count": 17,
      "metadata": {
        "execution": {
          "iopub.execute_input": "2021-11-11T09:37:56.758421Z",
          "iopub.status.busy": "2021-11-11T09:37:56.757655Z",
          "iopub.status.idle": "2021-11-11T09:37:56.764735Z",
          "shell.execute_reply": "2021-11-11T09:37:56.763984Z",
          "shell.execute_reply.started": "2021-11-11T09:37:56.758383Z"
        },
        "id": "9kPEub0iNt14",
        "trusted": true
      },
      "outputs": [],
      "source": [
        "# Xử lý các từ viết trùng lắp\n",
        "def remove_loop_char(text):\n",
        "  text = re.sub(r'([A-Z])\\1+', lambda m: m.group(1).upper(), str(text), flags=re.IGNORECASE)\n",
        "  text = re.sub(r'[^\\s\\wáàảãạăắằẳẵặâấầẩẫậéèẻẽẹêếềểễệóòỏõọôốồổỗộơớờởỡợíìỉĩịúùủũụưứừửữựýỳỷỹỵđ_]',' ',text)\n",
        "  return text"
      ]
    },
    {
      "cell_type": "code",
      "execution_count": 18,
      "metadata": {
        "execution": {
          "iopub.execute_input": "2021-11-11T09:37:56.766564Z",
          "iopub.status.busy": "2021-11-11T09:37:56.766093Z",
          "iopub.status.idle": "2021-11-11T09:37:56.7733Z",
          "shell.execute_reply": "2021-11-11T09:37:56.772608Z",
          "shell.execute_reply.started": "2021-11-11T09:37:56.766527Z"
        },
        "id": "n2JD0l_qNt14",
        "trusted": true
      },
      "outputs": [],
      "source": [
        "# Loại bỏ stop word\n",
        "def remove_stop_word(text):\n",
        "  split_word = text.split(\" \");\n",
        "  words = []\n",
        "  for word in split_word:\n",
        "    if word not in stop_words:\n",
        "      words.append(word)\n",
        "  return \" \".join(words)"
      ]
    },
    {
      "cell_type": "markdown",
      "metadata": {},
      "source": [
        "### Hàm tổng hợp tiền xử lý dữ liệu"
      ]
    },
    {
      "cell_type": "code",
      "execution_count": 19,
      "metadata": {
        "execution": {
          "iopub.execute_input": "2021-11-11T09:37:56.777273Z",
          "iopub.status.busy": "2021-11-11T09:37:56.775348Z",
          "iopub.status.idle": "2021-11-11T09:37:56.785074Z",
          "shell.execute_reply": "2021-11-11T09:37:56.78427Z",
          "shell.execute_reply.started": "2021-11-11T09:37:56.777234Z"
        },
        "id": "qKIwkSuNNt15",
        "trusted": true
      },
      "outputs": [],
      "source": [
        "\"\"\"**Tiền xử lý dữ liệu**\"\"\"\n",
        "# Làm sạch dữ liệu\n",
        "def text_prosessing(text):\n",
        "    # Chuyển đổi thành chữ thường\n",
        "    text = text.lower() \n",
        "\n",
        "    # tách từ\n",
        "    text = sementation(text)\n",
        "\n",
        "    #Chuẩn hóa unicode sang chuẩn unicode dựng sẵn\n",
        "    text = covert_unicode(text)\n",
        "\n",
        "    # Chuẩn hóa câu\n",
        "    text = standardize_data(text)\n",
        "\n",
        "    # Xử dụng bộ từ điển để thay thế các kiểu gõ dấu và viết tắt\n",
        "    text = replace_acronyms(text)\n",
        "\n",
        "    # Xử lý các từ viết trùng lắp\n",
        "    text = remove_loop_char(text)\n",
        "\n",
        "    # Xử dụng bộ từ điển để thay thế các kiểu gõ dấu và viết tắt\n",
        "    text = remove_stop_word(text)\n",
        "\n",
        "    # Xóa các kí tự trong dấu []\n",
        "    text = re.sub('\\[.*?\\]', '', text)\n",
        "\n",
        "    # Xóa các kí tự đặc biệt\n",
        "    text = re.sub(\"\\W\",' ',text) \n",
        "\n",
        "    # Xóa các đường link\n",
        "    text = re.sub('https?://\\S+|www\\.\\S+', ' ', text)\n",
        "\n",
        "    # Xóa các số\n",
        "    text = re.sub('\\w*\\d\\w*', '', text)\n",
        "\n",
        "    # Xóa các đoạn mã html\n",
        "    text = re.sub(r'<[*>]*>',' ', text)\n",
        "\n",
        "    #Xóa các kí tự xuống dòng\n",
        "    text = \" \".join(re.sub(\"\\n\", \" \", text).split())\n",
        "    return text"
      ]
    },
    {
      "cell_type": "markdown",
      "metadata": {},
      "source": [
        "### Apply vào dữ liệu của chúng ta"
      ]
    },
    {
      "cell_type": "code",
      "execution_count": 20,
      "metadata": {
        "execution": {
          "iopub.execute_input": "2021-11-11T09:37:56.788854Z",
          "iopub.status.busy": "2021-11-11T09:37:56.786408Z",
          "iopub.status.idle": "2021-11-11T09:38:21.282159Z",
          "shell.execute_reply": "2021-11-11T09:38:21.281234Z",
          "shell.execute_reply.started": "2021-11-11T09:37:56.788808Z"
        },
        "id": "RcA7B_6CNt15",
        "trusted": true
      },
      "outputs": [],
      "source": [
        "# Apply vào data\n",
        "data['text'] = data['text'].apply(text_prosessing)"
      ]
    },
    {
      "cell_type": "code",
      "execution_count": 21,
      "metadata": {
        "colab": {
          "base_uri": "https://localhost:8080/",
          "height": 0
        },
        "execution": {
          "iopub.execute_input": "2021-11-11T09:38:21.284604Z",
          "iopub.status.busy": "2021-11-11T09:38:21.28349Z",
          "iopub.status.idle": "2021-11-11T09:38:21.294239Z",
          "shell.execute_reply": "2021-11-11T09:38:21.293335Z",
          "shell.execute_reply.started": "2021-11-11T09:38:21.284561Z"
        },
        "id": "q8g4jnOaNt15",
        "outputId": "dd39af45-f3e1-4dd3-aa5b-ccea35621dc7",
        "trusted": true
      },
      "outputs": [
        {
          "data": {
            "text/html": [
              "<div>\n",
              "<style scoped>\n",
              "    .dataframe tbody tr th:only-of-type {\n",
              "        vertical-align: middle;\n",
              "    }\n",
              "\n",
              "    .dataframe tbody tr th {\n",
              "        vertical-align: top;\n",
              "    }\n",
              "\n",
              "    .dataframe thead th {\n",
              "        text-align: right;\n",
              "    }\n",
              "</style>\n",
              "<table border=\"1\" class=\"dataframe\">\n",
              "  <thead>\n",
              "    <tr style=\"text-align: right;\">\n",
              "      <th></th>\n",
              "      <th>text</th>\n",
              "      <th>star</th>\n",
              "    </tr>\n",
              "  </thead>\n",
              "  <tbody>\n",
              "    <tr>\n",
              "      <th>2</th>\n",
              "      <td>thái_độ dịch_vụ khách_hàng tiki điện_thoại tuầ...</td>\n",
              "      <td>1</td>\n",
              "    </tr>\n",
              "    <tr>\n",
              "      <th>3</th>\n",
              "      <td>sản_phẩm tầm giá đx mua pa mẹ yêu_cầu hơi thất...</td>\n",
              "      <td>3</td>\n",
              "    </tr>\n",
              "    <tr>\n",
              "      <th>6</th>\n",
              "      <td>sản_phẩm mua giao hàng khui kiểm_tra góc màn_h...</td>\n",
              "      <td>1</td>\n",
              "    </tr>\n",
              "    <tr>\n",
              "      <th>7</th>\n",
              "      <td>điện_thoại ổn gói dịch_vụ bảo_vệ thiết_bị di_đ...</td>\n",
              "      <td>3</td>\n",
              "    </tr>\n",
              "    <tr>\n",
              "      <th>8</th>\n",
              "      <td>đóng_gói cẩn_thận giao sản_phẩm thắc_mắc điện_...</td>\n",
              "      <td>4</td>\n",
              "    </tr>\n",
              "  </tbody>\n",
              "</table>\n",
              "</div>"
            ],
            "text/plain": [
              "                                                text  star\n",
              "2  thái_độ dịch_vụ khách_hàng tiki điện_thoại tuầ...     1\n",
              "3  sản_phẩm tầm giá đx mua pa mẹ yêu_cầu hơi thất...     3\n",
              "6  sản_phẩm mua giao hàng khui kiểm_tra góc màn_h...     1\n",
              "7  điện_thoại ổn gói dịch_vụ bảo_vệ thiết_bị di_đ...     3\n",
              "8  đóng_gói cẩn_thận giao sản_phẩm thắc_mắc điện_...     4"
            ]
          },
          "execution_count": 21,
          "metadata": {},
          "output_type": "execute_result"
        }
      ],
      "source": [
        "data.head()"
      ]
    },
    {
      "cell_type": "markdown",
      "metadata": {
        "id": "x9Zv04L_Nt15"
      },
      "source": [
        "## 5. Build Model"
      ]
    },
    {
      "cell_type": "code",
      "execution_count": 22,
      "metadata": {
        "colab": {
          "base_uri": "https://localhost:8080/"
        },
        "execution": {
          "iopub.execute_input": "2021-11-11T09:38:21.296022Z",
          "iopub.status.busy": "2021-11-11T09:38:21.295618Z",
          "iopub.status.idle": "2021-11-11T09:38:21.306882Z",
          "shell.execute_reply": "2021-11-11T09:38:21.306074Z",
          "shell.execute_reply.started": "2021-11-11T09:38:21.295984Z"
        },
        "id": "xPgeMT_cNt15",
        "outputId": "7800e919-c3d7-4861-9b3e-1f5ef31a027f",
        "trusted": true
      },
      "outputs": [
        {
          "data": {
            "text/plain": [
              "2451"
            ]
          },
          "execution_count": 22,
          "metadata": {},
          "output_type": "execute_result"
        }
      ],
      "source": [
        "len(data[data['star'] < 4])"
      ]
    },
    {
      "cell_type": "code",
      "execution_count": 23,
      "metadata": {
        "colab": {
          "base_uri": "https://localhost:8080/"
        },
        "execution": {
          "iopub.execute_input": "2021-11-11T09:38:21.30841Z",
          "iopub.status.busy": "2021-11-11T09:38:21.308004Z",
          "iopub.status.idle": "2021-11-11T09:38:21.316215Z",
          "shell.execute_reply": "2021-11-11T09:38:21.31542Z",
          "shell.execute_reply.started": "2021-11-11T09:38:21.308375Z"
        },
        "id": "FQkQTLFPNt15",
        "outputId": "11d01712-d38d-4bc4-adbf-c037ab9f5c9a",
        "trusted": true
      },
      "outputs": [
        {
          "data": {
            "text/plain": [
              "2664"
            ]
          },
          "execution_count": 23,
          "metadata": {},
          "output_type": "execute_result"
        }
      ],
      "source": [
        "len(data[data['star'] >= 4])"
      ]
    },
    {
      "cell_type": "markdown",
      "metadata": {
        "id": "i33DWOwJNt16"
      },
      "source": [
        "### Gộp 3 đánh giá 1 2 3 sao là đánh giá tiêu cực với nhãn là 0, 2 đánh giá 4 5 sao là tích cực với nhãn là 1"
      ]
    },
    {
      "cell_type": "code",
      "execution_count": 24,
      "metadata": {
        "colab": {
          "base_uri": "https://localhost:8080/",
          "height": 203
        },
        "execution": {
          "iopub.execute_input": "2021-11-11T09:38:21.317876Z",
          "iopub.status.busy": "2021-11-11T09:38:21.317486Z",
          "iopub.status.idle": "2021-11-11T09:38:21.32359Z",
          "shell.execute_reply": "2021-11-11T09:38:21.322795Z",
          "shell.execute_reply.started": "2021-11-11T09:38:21.317832Z"
        },
        "id": "26B0P1vvNt16",
        "outputId": "3dddc5b8-e3da-4e27-ac61-1398d28216b5",
        "trusted": true
      },
      "outputs": [],
      "source": [
        "data[\"star\"] = data[\"star\"].map({1:0, 2:0, 3:0, 4:1, 5:1})"
      ]
    },
    {
      "cell_type": "markdown",
      "metadata": {
        "id": "-wdWh1u7Nt16"
      },
      "source": [
        "### Our current data (Dữ liệu hiện tại của chúng ta sẽ trong như sau)"
      ]
    },
    {
      "cell_type": "code",
      "execution_count": 25,
      "metadata": {
        "colab": {
          "base_uri": "https://localhost:8080/",
          "height": 203
        },
        "execution": {
          "iopub.execute_input": "2021-11-11T09:38:21.329242Z",
          "iopub.status.busy": "2021-11-11T09:38:21.328546Z",
          "iopub.status.idle": "2021-11-11T09:38:21.338375Z",
          "shell.execute_reply": "2021-11-11T09:38:21.337378Z",
          "shell.execute_reply.started": "2021-11-11T09:38:21.329207Z"
        },
        "id": "co5_tojaNt18",
        "outputId": "d2410ef2-6f98-43aa-e411-f04066963772",
        "trusted": true
      },
      "outputs": [
        {
          "data": {
            "text/html": [
              "<div>\n",
              "<style scoped>\n",
              "    .dataframe tbody tr th:only-of-type {\n",
              "        vertical-align: middle;\n",
              "    }\n",
              "\n",
              "    .dataframe tbody tr th {\n",
              "        vertical-align: top;\n",
              "    }\n",
              "\n",
              "    .dataframe thead th {\n",
              "        text-align: right;\n",
              "    }\n",
              "</style>\n",
              "<table border=\"1\" class=\"dataframe\">\n",
              "  <thead>\n",
              "    <tr style=\"text-align: right;\">\n",
              "      <th></th>\n",
              "      <th>text</th>\n",
              "      <th>star</th>\n",
              "    </tr>\n",
              "  </thead>\n",
              "  <tbody>\n",
              "    <tr>\n",
              "      <th>2</th>\n",
              "      <td>thái_độ dịch_vụ khách_hàng tiki điện_thoại tuầ...</td>\n",
              "      <td>0</td>\n",
              "    </tr>\n",
              "    <tr>\n",
              "      <th>3</th>\n",
              "      <td>sản_phẩm tầm giá đx mua pa mẹ yêu_cầu hơi thất...</td>\n",
              "      <td>0</td>\n",
              "    </tr>\n",
              "    <tr>\n",
              "      <th>6</th>\n",
              "      <td>sản_phẩm mua giao hàng khui kiểm_tra góc màn_h...</td>\n",
              "      <td>0</td>\n",
              "    </tr>\n",
              "    <tr>\n",
              "      <th>7</th>\n",
              "      <td>điện_thoại ổn gói dịch_vụ bảo_vệ thiết_bị di_đ...</td>\n",
              "      <td>0</td>\n",
              "    </tr>\n",
              "    <tr>\n",
              "      <th>8</th>\n",
              "      <td>đóng_gói cẩn_thận giao sản_phẩm thắc_mắc điện_...</td>\n",
              "      <td>1</td>\n",
              "    </tr>\n",
              "  </tbody>\n",
              "</table>\n",
              "</div>"
            ],
            "text/plain": [
              "                                                text  star\n",
              "2  thái_độ dịch_vụ khách_hàng tiki điện_thoại tuầ...     0\n",
              "3  sản_phẩm tầm giá đx mua pa mẹ yêu_cầu hơi thất...     0\n",
              "6  sản_phẩm mua giao hàng khui kiểm_tra góc màn_h...     0\n",
              "7  điện_thoại ổn gói dịch_vụ bảo_vệ thiết_bị di_đ...     0\n",
              "8  đóng_gói cẩn_thận giao sản_phẩm thắc_mắc điện_...     1"
            ]
          },
          "execution_count": 25,
          "metadata": {},
          "output_type": "execute_result"
        }
      ],
      "source": [
        "data.head(5)"
      ]
    },
    {
      "cell_type": "code",
      "execution_count": 26,
      "metadata": {
        "execution": {
          "iopub.execute_input": "2021-11-11T09:38:21.339767Z",
          "iopub.status.busy": "2021-11-11T09:38:21.339529Z",
          "iopub.status.idle": "2021-11-11T09:38:21.346929Z",
          "shell.execute_reply": "2021-11-11T09:38:21.346068Z",
          "shell.execute_reply.started": "2021-11-11T09:38:21.339734Z"
        },
        "id": "yzx3gKBuNt19",
        "trusted": true
      },
      "outputs": [
        {
          "data": {
            "text/plain": [
              "array(['thái_độ dịch_vụ khách_hàng tiki điện_thoại tuần hàng đầu trễ lịch hẹn giao tiki gửi thông_báo xin_lỗi hẹn giao làm_việc kiên_nhẫn đợi làm_việc tiki giao hàng mà_lại âm_thầm_hủy_đơn hề điện_thoại thông_báo xin_lỗi gọi tổng_đài trúng chăm sóc hàng thái_độ tệ giọng buồn_ngủ nói_chuyện khách_hàng hoàn_cảnh giao hàng giải_thích lý_do vì_sao hủy_đơn ý_kiến làm_khách nguôi giận dễ_tính mã bù giá điện_thoại đầu mua tặng mã chờ cuối_cùng cầm điện_thoại thất_vọng thái_độ phục_vụ tiki khách_hàng trung_thành tiki bao thái_độ dịch_vụ khách_hàng tệ mua ưu_tiên tiki để_tâm điện_thoại mua lớn_tuổi sử_dụng phù_hợp nhu_cầu',\n",
              "       'sản_phẩm tầm giá đx mua pa mẹ yêu_cầu hơi thất_vọng nhạc vẻ hơi tệ phụ_kiện sạc tai_nghe sản phẩm khuyến_mãi ít_nhất tặng oF lưng kèm máy mấy sản phẩm hứng_thú thua mấy sản phẩm tầm giá'],\n",
              "      dtype=object)"
            ]
          },
          "execution_count": 26,
          "metadata": {},
          "output_type": "execute_result"
        }
      ],
      "source": [
        "np.array(data['text'])[:2]"
      ]
    },
    {
      "cell_type": "code",
      "execution_count": 27,
      "metadata": {
        "execution": {
          "iopub.execute_input": "2021-11-11T09:38:21.348821Z",
          "iopub.status.busy": "2021-11-11T09:38:21.34839Z",
          "iopub.status.idle": "2021-11-11T09:38:21.352985Z",
          "shell.execute_reply": "2021-11-11T09:38:21.352173Z",
          "shell.execute_reply.started": "2021-11-11T09:38:21.348787Z"
        },
        "id": "KRx4_U-XNt19",
        "trusted": true
      },
      "outputs": [],
      "source": [
        "X = data['text']\n",
        "y = data['star']"
      ]
    },
    {
      "cell_type": "code",
      "execution_count": 28,
      "metadata": {
        "colab": {
          "base_uri": "https://localhost:8080/"
        },
        "execution": {
          "iopub.execute_input": "2021-11-11T09:38:21.354772Z",
          "iopub.status.busy": "2021-11-11T09:38:21.354148Z",
          "iopub.status.idle": "2021-11-11T09:38:21.363599Z",
          "shell.execute_reply": "2021-11-11T09:38:21.362849Z",
          "shell.execute_reply.started": "2021-11-11T09:38:21.354736Z"
        },
        "id": "koZfmugpNt19",
        "outputId": "48827abf-cab4-44e8-e18b-f4383166b0ca",
        "trusted": true
      },
      "outputs": [
        {
          "data": {
            "text/plain": [
              "2    thái_độ dịch_vụ khách_hàng tiki điện_thoại tuầ...\n",
              "3    sản_phẩm tầm giá đx mua pa mẹ yêu_cầu hơi thất...\n",
              "6    sản_phẩm mua giao hàng khui kiểm_tra góc màn_h...\n",
              "Name: text, dtype: object"
            ]
          },
          "execution_count": 28,
          "metadata": {},
          "output_type": "execute_result"
        }
      ],
      "source": [
        "X.head(3)"
      ]
    },
    {
      "cell_type": "code",
      "execution_count": 29,
      "metadata": {
        "execution": {
          "iopub.execute_input": "2021-11-11T09:38:21.364985Z",
          "iopub.status.busy": "2021-11-11T09:38:21.364542Z",
          "iopub.status.idle": "2021-11-11T09:38:21.371334Z",
          "shell.execute_reply": "2021-11-11T09:38:21.370632Z",
          "shell.execute_reply.started": "2021-11-11T09:38:21.364949Z"
        },
        "id": "_KaPoj-ANt19",
        "trusted": true
      },
      "outputs": [
        {
          "data": {
            "text/plain": [
              "2    0\n",
              "3    0\n",
              "6    0\n",
              "7    0\n",
              "8    1\n",
              "Name: star, dtype: int64"
            ]
          },
          "execution_count": 29,
          "metadata": {},
          "output_type": "execute_result"
        }
      ],
      "source": [
        "y.head()"
      ]
    },
    {
      "cell_type": "markdown",
      "metadata": {
        "id": "hrnzNIL1Nt19"
      },
      "source": [
        "### Sử dụng các giải thuật máy học để huấn luyện mô hình và nghi thức đánh giá K-Fold"
      ]
    },
    {
      "cell_type": "code",
      "execution_count": 31,
      "metadata": {
        "execution": {
          "iopub.execute_input": "2021-11-11T09:38:21.373293Z",
          "iopub.status.busy": "2021-11-11T09:38:21.372452Z",
          "iopub.status.idle": "2021-11-11T09:38:21.43858Z",
          "shell.execute_reply": "2021-11-11T09:38:21.437969Z",
          "shell.execute_reply.started": "2021-11-11T09:38:21.373257Z"
        },
        "id": "e_2gDKpYNt19",
        "trusted": true
      },
      "outputs": [],
      "source": [
        "from sklearn.model_selection import train_test_split\n",
        "from sklearn.metrics import accuracy_score\n",
        "from sklearn.feature_extraction.text import CountVectorizer\n",
        "from sklearn.model_selection import cross_val_score"
      ]
    },
    {
      "cell_type": "markdown",
      "metadata": {},
      "source": [
        "#### Dùng thư viện Count Vectorizer để vector hóa dữ liệu văn bản "
      ]
    },
    {
      "cell_type": "code",
      "execution_count": 32,
      "metadata": {
        "execution": {
          "iopub.execute_input": "2021-11-11T09:38:21.440229Z",
          "iopub.status.busy": "2021-11-11T09:38:21.439654Z",
          "iopub.status.idle": "2021-11-11T09:38:21.540976Z",
          "shell.execute_reply": "2021-11-11T09:38:21.540373Z",
          "shell.execute_reply.started": "2021-11-11T09:38:21.440176Z"
        },
        "id": "vmCqmJj1Nt19",
        "trusted": true
      },
      "outputs": [],
      "source": [
        "cv = CountVectorizer()\n",
        "X_vectors = cv.fit_transform(X)"
      ]
    },
    {
      "cell_type": "code",
      "execution_count": 33,
      "metadata": {
        "execution": {
          "iopub.execute_input": "2021-11-11T09:38:21.542437Z",
          "iopub.status.busy": "2021-11-11T09:38:21.542217Z",
          "iopub.status.idle": "2021-11-11T09:38:21.608543Z",
          "shell.execute_reply": "2021-11-11T09:38:21.607728Z",
          "shell.execute_reply.started": "2021-11-11T09:38:21.542406Z"
        },
        "id": "Qr9Yr70vNt1-",
        "trusted": true
      },
      "outputs": [
        {
          "name": "stdout",
          "output_type": "stream",
          "text": [
            "(5115, 4960)\n"
          ]
        }
      ],
      "source": [
        "print(X_vectors.todense().shape)"
      ]
    },
    {
      "cell_type": "markdown",
      "metadata": {},
      "source": [
        "vector của chúng ta có độ dài 4960"
      ]
    },
    {
      "cell_type": "code",
      "execution_count": 34,
      "metadata": {
        "execution": {
          "iopub.execute_input": "2021-11-11T09:38:21.610392Z",
          "iopub.status.busy": "2021-11-11T09:38:21.609702Z",
          "iopub.status.idle": "2021-11-11T09:38:21.73893Z",
          "shell.execute_reply": "2021-11-11T09:38:21.738173Z",
          "shell.execute_reply.started": "2021-11-11T09:38:21.610351Z"
        },
        "id": "8_N6yMnLNt1-",
        "trusted": true
      },
      "outputs": [
        {
          "name": "stdout",
          "output_type": "stream",
          "text": [
            "4960\n",
            "(5115, 4960)\n",
            "(1, 4960)\n",
            "5115\n"
          ]
        }
      ],
      "source": [
        "print(len(cv.get_feature_names()))\n",
        "print(X_vectors.todense().shape)\n",
        "print(X_vectors.todense()[0].shape)\n",
        "print(len(X))"
      ]
    },
    {
      "cell_type": "code",
      "execution_count": 35,
      "metadata": {},
      "outputs": [
        {
          "name": "stdout",
          "output_type": "stream",
          "text": [
            "  (0, 3582)\t4\n",
            "  (0, 999)\t2\n",
            "  (0, 1723)\t4\n",
            "  (0, 3725)\t6\n",
            "  (0, 4678)\t5\n",
            "  (0, 3979)\t1\n",
            "  (0, 1446)\t4\n",
            "  (0, 4802)\t2\n",
            "  (0, 3940)\t1\n",
            "  (0, 2132)\t1\n",
            "  (0, 1543)\t2\n",
            "  (0, 1146)\t4\n",
            "  (0, 1288)\t1\n",
            "  (0, 3606)\t2\n",
            "  (0, 4450)\t2\n",
            "  (0, 2025)\t2\n",
            "  (0, 1794)\t1\n",
            "  (0, 4899)\t1\n",
            "  (0, 2281)\t1\n",
            "  (0, 4613)\t1\n",
            "  (0, 1547)\t1\n",
            "  (0, 1277)\t1\n",
            "  (0, 4153)\t1\n",
            "  (0, 3903)\t1\n",
            "  (0, 502)\t1\n",
            "  :\t:\n",
            "  (5113, 1959)\t1\n",
            "  (5113, 1465)\t1\n",
            "  (5113, 4648)\t1\n",
            "  (5113, 3772)\t1\n",
            "  (5113, 4827)\t1\n",
            "  (5113, 528)\t2\n",
            "  (5113, 2926)\t1\n",
            "  (5113, 4924)\t2\n",
            "  (5113, 575)\t3\n",
            "  (5113, 4959)\t1\n",
            "  (5113, 4000)\t1\n",
            "  (5113, 4393)\t1\n",
            "  (5113, 3554)\t2\n",
            "  (5113, 4553)\t1\n",
            "  (5113, 1752)\t1\n",
            "  (5113, 4905)\t1\n",
            "  (5113, 1470)\t2\n",
            "  (5113, 4459)\t1\n",
            "  (5113, 172)\t1\n",
            "  (5113, 2080)\t2\n",
            "  (5113, 4126)\t1\n",
            "  (5114, 776)\t1\n",
            "  (5114, 1500)\t1\n",
            "  (5114, 3846)\t2\n",
            "  (5114, 2802)\t1\n"
          ]
        }
      ],
      "source": [
        "print(X_vectors)"
      ]
    },
    {
      "cell_type": "code",
      "execution_count": 37,
      "metadata": {},
      "outputs": [],
      "source": [
        "print(cv.vocabulary_)"
      ]
    },
    {
      "cell_type": "markdown",
      "metadata": {},
      "source": [
        "#### Huấn luyện mô hình bằng DecisionTreeClassifier"
      ]
    },
    {
      "cell_type": "code",
      "execution_count": 38,
      "metadata": {
        "colab": {
          "base_uri": "https://localhost:8080/"
        },
        "execution": {
          "iopub.execute_input": "2021-11-11T09:38:21.740596Z",
          "iopub.status.busy": "2021-11-11T09:38:21.740316Z",
          "iopub.status.idle": "2021-11-11T09:38:25.071086Z",
          "shell.execute_reply": "2021-11-11T09:38:25.070323Z",
          "shell.execute_reply.started": "2021-11-11T09:38:21.740558Z"
        },
        "id": "3BttSVKwNt1-",
        "outputId": "493829c2-f398-41e3-a54c-ee0a622ab1df",
        "trusted": true
      },
      "outputs": [
        {
          "name": "stdout",
          "output_type": "stream",
          "text": [
            "Accuracy: 0.7000879097358121\n"
          ]
        }
      ],
      "source": [
        "from sklearn.tree import DecisionTreeClassifier\n",
        "\n",
        "model = DecisionTreeClassifier()\n",
        "total_accuracy = cross_val_score(model, X_vectors, y, cv=10, scoring='accuracy')\n",
        "print('Accuracy:', np.mean(total_accuracy))"
      ]
    },
    {
      "cell_type": "markdown",
      "metadata": {},
      "source": [
        "#### Huấn luyện mô hình bằng KNeighborsClassifier"
      ]
    },
    {
      "cell_type": "code",
      "execution_count": 39,
      "metadata": {
        "colab": {
          "base_uri": "https://localhost:8080/"
        },
        "execution": {
          "iopub.execute_input": "2021-11-11T09:38:25.072832Z",
          "iopub.status.busy": "2021-11-11T09:38:25.072541Z",
          "iopub.status.idle": "2021-11-11T09:38:26.075233Z",
          "shell.execute_reply": "2021-11-11T09:38:26.07443Z",
          "shell.execute_reply.started": "2021-11-11T09:38:25.072796Z"
        },
        "id": "gC6BTtCnNt1-",
        "outputId": "97c13e64-0581-493f-ac45-eeffa9a20498",
        "trusted": true
      },
      "outputs": [
        {
          "name": "stdout",
          "output_type": "stream",
          "text": [
            "Accuracy: 0.6461357937866927\n"
          ]
        }
      ],
      "source": [
        "from sklearn.neighbors import KNeighborsClassifier\n",
        "\n",
        "model = KNeighborsClassifier()\n",
        "total_accuracy = cross_val_score(model, X_vectors, y, cv=10, scoring='accuracy')\n",
        "print('Accuracy:', np.mean(total_accuracy))"
      ]
    },
    {
      "cell_type": "markdown",
      "metadata": {},
      "source": [
        "#### Huấn luyện mô hình bằng MultinomialNB"
      ]
    },
    {
      "cell_type": "code",
      "execution_count": 43,
      "metadata": {
        "colab": {
          "base_uri": "https://localhost:8080/"
        },
        "execution": {
          "iopub.execute_input": "2021-11-11T09:38:26.077074Z",
          "iopub.status.busy": "2021-11-11T09:38:26.076413Z",
          "iopub.status.idle": "2021-11-11T09:38:26.118897Z",
          "shell.execute_reply": "2021-11-11T09:38:26.118084Z",
          "shell.execute_reply.started": "2021-11-11T09:38:26.077031Z"
        },
        "id": "bGPVKRNNNt1-",
        "outputId": "d8a26e15-791c-410e-e1e4-33b764c5658b",
        "trusted": true
      },
      "outputs": [
        {
          "name": "stdout",
          "output_type": "stream",
          "text": [
            "Accuracy: 0.7798656127690802\n"
          ]
        }
      ],
      "source": [
        "from sklearn.naive_bayes import MultinomialNB\n",
        "\n",
        "model = MultinomialNB()\n",
        "total_accuracy = cross_val_score(model, X_vectors, y, cv=10, scoring='accuracy')\n",
        "print('Accuracy:', np.mean(total_accuracy))"
      ]
    },
    {
      "cell_type": "markdown",
      "metadata": {},
      "source": [
        "#### Huấn luyện mô hình bằng RandomForestClassifier"
      ]
    },
    {
      "cell_type": "code",
      "execution_count": 44,
      "metadata": {
        "colab": {
          "base_uri": "https://localhost:8080/"
        },
        "execution": {
          "iopub.execute_input": "2021-11-11T09:38:26.120494Z",
          "iopub.status.busy": "2021-11-11T09:38:26.12023Z",
          "iopub.status.idle": "2021-11-11T09:38:47.386981Z",
          "shell.execute_reply": "2021-11-11T09:38:47.38543Z",
          "shell.execute_reply.started": "2021-11-11T09:38:26.120459Z"
        },
        "id": "8wBRM23jNt1-",
        "outputId": "6a0e6764-4d2e-43b3-e635-406dc25a6bb6",
        "trusted": true
      },
      "outputs": [
        {
          "name": "stdout",
          "output_type": "stream",
          "text": [
            "Accuracy: 0.7812347113502935\n"
          ]
        }
      ],
      "source": [
        "from sklearn.ensemble import RandomForestClassifier\n",
        "\n",
        "model = RandomForestClassifier()\n",
        "total_accuracy = cross_val_score(model, X_vectors, y, cv=10, scoring='accuracy')\n",
        "print('Accuracy:', np.mean(total_accuracy))"
      ]
    },
    {
      "cell_type": "markdown",
      "metadata": {},
      "source": [
        "#### Huấn luyện mô hình bằng SVM"
      ]
    },
    {
      "cell_type": "code",
      "execution_count": 45,
      "metadata": {
        "colab": {
          "base_uri": "https://localhost:8080/"
        },
        "execution": {
          "iopub.execute_input": "2021-11-11T09:38:47.388628Z",
          "iopub.status.busy": "2021-11-11T09:38:47.388263Z",
          "iopub.status.idle": "2021-11-11T09:38:56.301965Z",
          "shell.execute_reply": "2021-11-11T09:38:56.301228Z",
          "shell.execute_reply.started": "2021-11-11T09:38:47.388587Z"
        },
        "id": "RL1PzBDSNt1_",
        "outputId": "9da4ef3a-cf11-4e80-b68c-32b3667cb334",
        "trusted": true
      },
      "outputs": [
        {
          "name": "stdout",
          "output_type": "stream",
          "text": [
            "Accuracy: 0.7788775837818004\n"
          ]
        }
      ],
      "source": [
        "from sklearn.svm import SVC\n",
        "\n",
        "model = SVC()\n",
        "total_accuracy = cross_val_score(model, X_vectors, y, cv=10, scoring='accuracy')\n",
        "print('Accuracy:', np.mean(total_accuracy))"
      ]
    },
    {
      "cell_type": "markdown",
      "metadata": {},
      "source": [
        "### Kết quả huấn luyện\n",
        "\n",
        "Lần 1\n",
        "\n",
        "DecisionTreeClassifier 0.7000879097358121\n",
        "\n",
        "KNeighborsClassifier 0.6461357937866927\n",
        "\n",
        "MultinomialNB 0.7798656127690802\n",
        "\n",
        "RandomForestClassifier 0.7812347113502935\n",
        "\n",
        "SVC 0.7788775837818004\n",
        "\n",
        "Giải thuật Ramdom Forest cho kết quả tốt nhất với độ chính xác 78.12%"
      ]
    },
    {
      "cell_type": "markdown",
      "metadata": {
        "id": "oLywdLGjUBfc"
      },
      "source": [
        "### Lưu model\n",
        "Model được lưu lại thành file pickle được sử dụng để viết chương trình dự đoán"
      ]
    },
    {
      "cell_type": "code",
      "execution_count": null,
      "metadata": {},
      "outputs": [],
      "source": [
        "from sklearn.metrics import accuracy_score\n",
        "import pickle"
      ]
    },
    {
      "cell_type": "code",
      "execution_count": 62,
      "metadata": {},
      "outputs": [],
      "source": [
        "# X_train, X_test, y_train, y_test = train_test_split(X, y, test_size=0.2, random_state=42)"
      ]
    },
    {
      "cell_type": "code",
      "execution_count": null,
      "metadata": {
        "id": "2385lFvSW9zU"
      },
      "outputs": [],
      "source": [
        "# Lưu model\n",
        "# cv = CountVectorizer()\n",
        "# X_train_vectors = cv.fit_transform(X_train)\n",
        "\n",
        "# NB_model = MultinomialNB()\n",
        "# NB_model.fit(X_train_vectors, y_train)\n",
        "# pred_y = NB_model.predict(cv.transform(X_test))\n",
        "\n",
        "# print('Training accuracy: %.4f' % accuracy_score(y_train, NB_model.predict(X_train_vectors)))\n",
        "# print('Test accuracy: %.4f' % accuracy_score(y_test, pred_y))\n",
        "\n",
        "# with open(\"/CountVectorizerAndMultinomialNB.pkl\", 'wb') as fout:\n",
        "#     pickle.dump((cv, NB_model), fout)"
      ]
    },
    {
      "cell_type": "markdown",
      "metadata": {
        "id": "If80UnkuW6vC"
      },
      "source": [
        "### Đọc model\n",
        "Model phải đọc được trở lại từ file, sử dụng để viết ứng dụng dự đoán"
      ]
    },
    {
      "cell_type": "code",
      "execution_count": 46,
      "metadata": {
        "colab": {
          "base_uri": "https://localhost:8080/"
        },
        "id": "89SZrpGfUEik",
        "outputId": "90a322de-cf90-41c7-e27a-1e5a1b61b061"
      },
      "outputs": [
        {
          "ename": "FileNotFoundError",
          "evalue": "[Errno 2] No such file or directory: 'CountVectorizerAndMultinomialNB.pkl'",
          "output_type": "error",
          "traceback": [
            "\u001b[1;31m---------------------------------------------------------------------------\u001b[0m",
            "\u001b[1;31mFileNotFoundError\u001b[0m                         Traceback (most recent call last)",
            "\u001b[1;32m~\\AppData\\Local\\Temp/ipykernel_9468/4185512538.py\u001b[0m in \u001b[0;36m<module>\u001b[1;34m\u001b[0m\n\u001b[1;32m----> 1\u001b[1;33m \u001b[1;32mwith\u001b[0m \u001b[0mopen\u001b[0m\u001b[1;33m(\u001b[0m\u001b[1;34m'CountVectorizerAndMultinomialNB.pkl'\u001b[0m\u001b[1;33m,\u001b[0m \u001b[1;34m'rb'\u001b[0m\u001b[1;33m)\u001b[0m \u001b[1;32mas\u001b[0m \u001b[0mf\u001b[0m\u001b[1;33m:\u001b[0m\u001b[1;33m\u001b[0m\u001b[1;33m\u001b[0m\u001b[0m\n\u001b[0m\u001b[0;32m      2\u001b[0m     \u001b[0mcv\u001b[0m\u001b[1;33m,\u001b[0m \u001b[0mNB_model\u001b[0m \u001b[1;33m=\u001b[0m \u001b[0mpickle\u001b[0m\u001b[1;33m.\u001b[0m\u001b[0mload\u001b[0m\u001b[1;33m(\u001b[0m\u001b[0mf\u001b[0m\u001b[1;33m)\u001b[0m\u001b[1;33m\u001b[0m\u001b[1;33m\u001b[0m\u001b[0m\n\u001b[0;32m      3\u001b[0m \u001b[0mX_vector\u001b[0m \u001b[1;33m=\u001b[0m \u001b[0mcv\u001b[0m\u001b[1;33m.\u001b[0m\u001b[0mtransform\u001b[0m\u001b[1;33m(\u001b[0m\u001b[0mX_test\u001b[0m\u001b[1;33m)\u001b[0m\u001b[1;33m\u001b[0m\u001b[1;33m\u001b[0m\u001b[0m\n\u001b[0;32m      4\u001b[0m \u001b[0my_pred\u001b[0m \u001b[1;33m=\u001b[0m \u001b[0mNB_model\u001b[0m\u001b[1;33m.\u001b[0m\u001b[0mpredict\u001b[0m\u001b[1;33m(\u001b[0m\u001b[0mX_vector\u001b[0m\u001b[1;33m)\u001b[0m\u001b[1;33m\u001b[0m\u001b[1;33m\u001b[0m\u001b[0m\n\u001b[0;32m      5\u001b[0m \u001b[0mdf\u001b[0m \u001b[1;33m=\u001b[0m \u001b[0mpd\u001b[0m\u001b[1;33m.\u001b[0m\u001b[0mDataFrame\u001b[0m\u001b[1;33m(\u001b[0m\u001b[1;33m{\u001b[0m\u001b[1;34m\"y test\"\u001b[0m\u001b[1;33m:\u001b[0m\u001b[0my_test\u001b[0m\u001b[1;33m,\u001b[0m \u001b[1;34m\"y pred\"\u001b[0m\u001b[1;33m:\u001b[0m\u001b[0my_pred\u001b[0m\u001b[1;33m}\u001b[0m\u001b[1;33m)\u001b[0m\u001b[1;33m\u001b[0m\u001b[1;33m\u001b[0m\u001b[0m\n",
            "\u001b[1;31mFileNotFoundError\u001b[0m: [Errno 2] No such file or directory: 'CountVectorizerAndMultinomialNB.pkl'"
          ]
        }
      ],
      "source": [
        "# with open('CountVectorizerAndMultinomialNB.pkl', 'rb') as f:\n",
        "#     cv, NB_model = pickle.load(f)\n",
        "# X_vector = cv.transform(X_test)\n",
        "# y_pred = NB_model.predict(X_vector)\n",
        "# df = pd.DataFrame({\"y test\":y_test, \"y pred\":y_pred})\n",
        "# print(accuracy_score(y_test, y_pred))"
      ]
    },
    {
      "cell_type": "code",
      "execution_count": 98,
      "metadata": {},
      "outputs": [
        {
          "data": {
            "text/plain": [
              "<1023x4448 sparse matrix of type '<class 'numpy.int64'>'\n",
              "\twith 10073 stored elements in Compressed Sparse Row format>"
            ]
          },
          "execution_count": 98,
          "metadata": {},
          "output_type": "execute_result"
        }
      ],
      "source": [
        "# X_vector"
      ]
    },
    {
      "cell_type": "markdown",
      "metadata": {
        "id": "HrZIGskjNt1_"
      },
      "source": [
        "### Thử cải thiện mô hình bằng PhoBERT"
      ]
    },
    {
      "cell_type": "markdown",
      "metadata": {
        "id": "XYl2HkXaNt1_"
      },
      "source": [
        "tham khảo: https://github.com/thangnch/MiAI_Sentiment_Analysis_PhoBert/blob/main/train_model.py"
      ]
    },
    {
      "cell_type": "code",
      "execution_count": null,
      "metadata": {
        "execution": {
          "iopub.execute_input": "2021-11-11T09:38:56.303472Z",
          "iopub.status.busy": "2021-11-11T09:38:56.303217Z",
          "iopub.status.idle": "2021-11-11T09:39:11.887254Z",
          "shell.execute_reply": "2021-11-11T09:39:11.8864Z",
          "shell.execute_reply.started": "2021-11-11T09:38:56.303433Z"
        },
        "id": "L5LVOfGSNt1_",
        "trusted": true
      },
      "outputs": [],
      "source": [
        "!pip install underthesea"
      ]
    },
    {
      "cell_type": "code",
      "execution_count": null,
      "metadata": {
        "execution": {
          "iopub.execute_input": "2021-11-11T09:39:11.889171Z",
          "iopub.status.busy": "2021-11-11T09:39:11.888908Z",
          "iopub.status.idle": "2021-11-11T09:39:18.417184Z",
          "shell.execute_reply": "2021-11-11T09:39:18.41647Z",
          "shell.execute_reply.started": "2021-11-11T09:39:11.889134Z"
        },
        "id": "IwhYJLjGNt1_",
        "trusted": true
      },
      "outputs": [],
      "source": [
        "from transformers import AutoModel, AutoTokenizer # Thư viện BERT\n",
        "import torch\n",
        "import underthesea"
      ]
    },
    {
      "cell_type": "code",
      "execution_count": null,
      "metadata": {
        "execution": {
          "iopub.execute_input": "2021-11-11T09:39:18.420794Z",
          "iopub.status.busy": "2021-11-11T09:39:18.420581Z",
          "iopub.status.idle": "2021-11-11T09:39:18.427542Z",
          "shell.execute_reply": "2021-11-11T09:39:18.426818Z",
          "shell.execute_reply.started": "2021-11-11T09:39:18.420766Z"
        },
        "id": "Kdl_2TibNt1_",
        "trusted": true
      },
      "outputs": [],
      "source": [
        "# Hàm load model BERT\n",
        "def load_bert():\n",
        "    v_phobert = AutoModel.from_pretrained(\"vinai/phobert-base\")\n",
        "    v_tokenizer = AutoTokenizer.from_pretrained(\"vinai/phobert-base\", use_fast=False)\n",
        "    return v_phobert, v_tokenizer"
      ]
    },
    {
      "cell_type": "code",
      "execution_count": null,
      "metadata": {
        "execution": {
          "iopub.execute_input": "2021-11-11T09:39:18.430927Z",
          "iopub.status.busy": "2021-11-11T09:39:18.430692Z",
          "iopub.status.idle": "2021-11-11T09:39:18.439843Z",
          "shell.execute_reply": "2021-11-11T09:39:18.439069Z",
          "shell.execute_reply.started": "2021-11-11T09:39:18.430879Z"
        },
        "id": "_VpqneG8Nt1_",
        "trusted": true
      },
      "outputs": [],
      "source": [
        "# Hàm tạo ra bert features\n",
        "def make_bert_features(v_text):\n",
        "    global phobert\n",
        "    v_tokenized = []\n",
        "    max_len = 100 # Mỗi câu dài tối đa 100 từ\n",
        "    for i_text in v_text:\n",
        "        print(\"Đang xử lý line = \", i_text)\n",
        "        # Phân thành từng từ\n",
        "        line = underthesea.word_tokenize(i_text)\n",
        "        # Ghép lại thành câu như cũ sau khi lọc\n",
        "        line = \" \".join(line)\n",
        "        line = underthesea.word_tokenize(line, format=\"text\")\n",
        "        print(\"Word segment  = \", line)\n",
        "        # Tokenize bởi BERT\n",
        "        line = tokenizer.encode(line)\n",
        "        v_tokenized.append(line)\n",
        "\n",
        "    # Chèn thêm số 1 vào cuối câu nếu như không đủ 100 từ\n",
        "    padded = np.array([i + [1] * (max_len - len(i)) for i in v_tokenized])\n",
        "#     print('padded:', padded[0])\n",
        "#     print('len padded:', padded.shape)\n",
        "\n",
        "    # Đánh dấu các từ thêm vào = 0 để không tính vào quá trình lấy features\n",
        "    attention_mask = np.where(padded == 1, 0, 1)\n",
        "#     print('attention mask:', attention_mask[0])\n",
        "\n",
        "    # Chuyển thành tensor\n",
        "    padded = torch.tensor(padded).to(torch.long)\n",
        "#     print(\"Padd = \",padded.size())\n",
        "    attention_mask = torch.tensor(attention_mask)\n",
        "\n",
        "    # Lấy features dầu ra từ BERT\n",
        "    with torch.no_grad():\n",
        "        last_hidden_states = phobert(input_ids= padded, attention_mask=attention_mask)\n",
        "\n",
        "    v_features = last_hidden_states[0][:, 0, :].numpy()\n",
        "    print(v_features.shape)\n",
        "    return v_features"
      ]
    },
    {
      "cell_type": "code",
      "execution_count": null,
      "metadata": {
        "execution": {
          "iopub.execute_input": "2021-11-11T09:39:18.442068Z",
          "iopub.status.busy": "2021-11-11T09:39:18.441117Z",
          "iopub.status.idle": "2021-11-11T09:39:46.694948Z",
          "shell.execute_reply": "2021-11-11T09:39:46.694124Z",
          "shell.execute_reply.started": "2021-11-11T09:39:18.44203Z"
        },
        "id": "-fGhYNGuNt2A",
        "trusted": true
      },
      "outputs": [],
      "source": [
        "print(\"Chuẩn bị nạp model BERT....\")\n",
        "phobert, tokenizer = load_bert()\n",
        "print(\"Đã nạp xong model BERT.\")"
      ]
    },
    {
      "cell_type": "code",
      "execution_count": null,
      "metadata": {
        "id": "r9mnWc5XNt2A",
        "trusted": true
      },
      "outputs": [],
      "source": [
        "print(\"Chuẩn bị tạo features từ BERT.....\")\n",
        "global phobert\n",
        "v_tokenized = []\n",
        "max_len = 80 # Mỗi câu dài tối đa 90 từ\n",
        "for i_text in X:\n",
        "#     print(\"Đang xử lý line = \", i_text)\n",
        "    # Phân thành từng từ\n",
        "    line = underthesea.word_tokenize(i_text)\n",
        "    # Ghép lại thành câu như cũ sau khi lọc\n",
        "    line = \" \".join(line)\n",
        "    line = underthesea.word_tokenize(line, format=\"text\")\n",
        "#     print(\"Word segment  = \", line)\n",
        "    # Tokenize bởi BERT\n",
        "    line = tokenizer.encode(line)\n",
        "    v_tokenized.append(line)\n",
        "\n",
        "# Chèn thêm số 1 vào cuối câu nếu như không đủ 100 từ\n",
        "padded = np.array([np.array(i[:max_len-len(i)]) if len(i) > max_len else np.array(i + [1] * (max_len - len(i))) for i in v_tokenized])\n",
        "print('padded:', padded[0])\n",
        "print('len padded:', padded.shape)\n"
      ]
    },
    {
      "cell_type": "code",
      "execution_count": null,
      "metadata": {
        "id": "wGglyQ5WNt2A",
        "trusted": true
      },
      "outputs": [],
      "source": [
        "# Đánh dấu các từ thêm vào = 0 để không tính vào quá trình lấy features\n",
        "attention_mask = np.where(padded == 1, 0, 1)\n",
        "print('attention mask:', attention_mask[0])"
      ]
    },
    {
      "cell_type": "code",
      "execution_count": null,
      "metadata": {
        "id": "8F683D5KNt2A",
        "trusted": true
      },
      "outputs": [],
      "source": [
        "# Đánh dấu các từ thêm vào = 0 để không tính vào quá trình lấy features\n",
        "attention_mask = np.where(padded == 1, 0, 1)\n",
        "print('attention mask:', attention_mask[0].shape)"
      ]
    },
    {
      "cell_type": "code",
      "execution_count": null,
      "metadata": {
        "execution": {
          "iopub.execute_input": "2021-11-11T09:40:01.541617Z",
          "iopub.status.busy": "2021-11-11T09:40:01.541434Z",
          "iopub.status.idle": "2021-11-11T09:40:01.550853Z",
          "shell.execute_reply": "2021-11-11T09:40:01.549899Z",
          "shell.execute_reply.started": "2021-11-11T09:40:01.541595Z"
        },
        "id": "-_pra7itNt2A",
        "trusted": true
      },
      "outputs": [],
      "source": [
        "# Chuyển thành tensor\n",
        "padded = torch.tensor(padded).to(torch.long)\n",
        "print(\"Padd = \",padded.size())\n",
        "attention_mask = torch.tensor(attention_mask)"
      ]
    },
    {
      "cell_type": "code",
      "execution_count": null,
      "metadata": {
        "execution": {
          "iopub.execute_input": "2021-11-11T09:40:01.553333Z",
          "iopub.status.busy": "2021-11-11T09:40:01.551946Z"
        },
        "id": "ahFtLxsJNt2A",
        "trusted": true
      },
      "outputs": [],
      "source": [
        "# Lấy features dầu ra từ BERT\n",
        "with torch.no_grad():\n",
        "    last_hidden_states = phobert(input_ids= padded, attention_mask=attention_mask)\n",
        "\n",
        "v_features = last_hidden_states[0][:, 0, :].numpy()\n",
        "print(v_features.shape)\n",
        "print(\"Đã tạo xong features từ BERT\")"
      ]
    }
  ],
  "metadata": {
    "colab": {
      "name": "train.ipynb",
      "provenance": []
    },
    "kernelspec": {
      "display_name": "Python 3",
      "language": "python",
      "name": "python3"
    },
    "language_info": {
      "codemirror_mode": {
        "name": "ipython",
        "version": 3
      },
      "file_extension": ".py",
      "mimetype": "text/x-python",
      "name": "python",
      "nbconvert_exporter": "python",
      "pygments_lexer": "ipython3",
      "version": "3.8.3"
    }
  },
  "nbformat": 4,
  "nbformat_minor": 0
}
